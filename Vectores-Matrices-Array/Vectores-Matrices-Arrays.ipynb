{
 "cells": [
  {
   "cell_type": "markdown",
   "metadata": {},
   "source": [
    "# Vocabulario R"
   ]
  },
  {
   "cell_type": "markdown",
   "metadata": {},
   "source": [
    "Una parte importante de entender  R es tener un buen vocabulario de los objetos a tratar. Esta lista que viene a continuación abarca funciones del paquete base, de estructura de datos, estadísticas, del entornos de R, I/O. "
   ]
  },
  {
   "cell_type": "markdown",
   "metadata": {},
   "source": [
    "##  Funciones Básicas\n",
    "\n",
    "```\n",
    "# Primeras funciones a aprender\n",
    "?\n",
    "str\n",
    "\n",
    "# Importantantes  operadores y asignamiento \n",
    "%in%, match\n",
    "=, <-, <<-\n",
    "$, [, [[, head, tail, subset\n",
    "with\n",
    "assign, get\n",
    "\n",
    "# Comparación \n",
    "all.equal, identical\n",
    "!=, ==, >, >=, <, <=\n",
    "is.na, complete.cases\n",
    "is.finite\n",
    "\n",
    "# Matematica básica\n",
    "*, +, -, /, ^, %%, %/%\n",
    "abs, sign\n",
    "acos, asin, atan, atan2\n",
    "sin, cos, tan\n",
    "ceiling, floor, round, trunc, signif\n",
    "exp, log, log10, log2, sqrt\n",
    "\n",
    "max, min, prod, sum\n",
    "cummax, cummin, cumprod, cumsum, diff\n",
    "pmax, pmin\n",
    "range\n",
    "mean, median, cor, sd, var\n",
    "rle\n",
    "\n",
    "# Funciones para hacer funciones\n",
    "function\n",
    "missing\n",
    "on.exit\n",
    "return, invisible\n",
    "\n",
    "# Lógica & conjuntos\n",
    "&, |, !, xor\n",
    "all, any\n",
    "intersect, union, setdiff, setequal\n",
    "which\n",
    "\n",
    "# Vectores y  matrices\n",
    "c, matrix\n",
    "# automatica coercion de  character > numeric > logical\n",
    "length, dim, ncol, nrow\n",
    "cbind, rbind\n",
    "names, colnames, rownames\n",
    "t\n",
    "diag\n",
    "sweep\n",
    "as.matrix, data.matrix\n",
    "\n",
    "# Vectores \n",
    "c\n",
    "rep, rep_len\n",
    "seq, seq_len, seq_along\n",
    "rev\n",
    "sample\n",
    "choose, factorial, combn\n",
    "(is/as).(character/numeric/logical/...)\n",
    "\n",
    "# Listas & data.frames \n",
    "list, unlist\n",
    "data.frame, as.data.frame\n",
    "split\n",
    "expand.grid\n",
    "\n",
    "# Flujo de control\n",
    "if, &&, || (short circuiting)\n",
    "for, while\n",
    "next, break\n",
    "switch\n",
    "ifelse\n",
    "\n",
    "# Apply y sus amigas\n",
    "lapply, sapply, vapply\n",
    "apply\n",
    "tapply\n",
    "replicate\n",
    "```"
   ]
  },
  {
   "cell_type": "markdown",
   "metadata": {},
   "source": [
    "## Funciones para estructura de datos \n",
    "\n",
    "```\n",
    "# Tiempo\n",
    "ISOdate, ISOdatetime, strftime, strptime, date\n",
    "difftime\n",
    "julian, months, quarters, weekdays\n",
    "library(lubridate)\n",
    "\n",
    "# Manipulación de caracteres \n",
    "grep, agrep\n",
    "gsub\n",
    "strsplit\n",
    "chartr\n",
    "nchar\n",
    "tolower, toupper\n",
    "substr\n",
    "paste\n",
    "library(stringr)\n",
    "\n",
    "# Factors \n",
    "factor, levels, nlevels\n",
    "reorder, relevel\n",
    "cut, findInterval\n",
    "interaction\n",
    "options(stringsAsFactors = FALSE)\n",
    "\n",
    "# Manipulación de Arrays.\n",
    "array\n",
    "dim\n",
    "dimnames\n",
    "aperm\n",
    "library(abind)\n",
    "```"
   ]
  },
  {
   "cell_type": "markdown",
   "metadata": {},
   "source": [
    "## Funciones para Estadística\n",
    "\n",
    "```\n",
    "# Ordenado  y  tabulando\n",
    "duplicated, unique\n",
    "merge\n",
    "order, rank, quantile\n",
    "sort\n",
    "table, ftable\n",
    "\n",
    "# Modelos lineales \n",
    "fitted, predict, resid, rstandard\n",
    "lm, glm\n",
    "hat, influence.measures\n",
    "logLik, df, deviance\n",
    "formula, ~, I\n",
    "anova, coef, confint, vcov\n",
    "contrasts\n",
    "\n",
    "# Miscelanea de Test\n",
    "apropos(\"\\\\.test$\")\n",
    "\n",
    "# Variables Aleatorias \n",
    "(q, p, d, r) * (beta, binom, cauchy, chisq, exp, f, gamma, geom, \n",
    "  hyper, lnorm, logis, multinom, nbinom, norm, pois, signrank, t, \n",
    "  unif, weibull, wilcox, birthday, tukey)\n",
    "\n",
    "# Algebra Matricial\n",
    "crossprod, tcrossprod\n",
    "eigen, qr, svd\n",
    "%*%, %o%, outer\n",
    "rcond\n",
    "solve\n",
    "```"
   ]
  },
  {
   "cell_type": "markdown",
   "metadata": {},
   "source": [
    "## Funciones para el entorno R\n",
    "\n",
    "```\n",
    "# Entorno de trabajo\n",
    "ls, exists, rm\n",
    "getwd, setwd\n",
    "q\n",
    "source\n",
    "install.packages, library, require\n",
    "\n",
    "# Ayuda\n",
    "help, ?\n",
    "help.search\n",
    "apropos\n",
    "RSiteSearch\n",
    "citation\n",
    "demo\n",
    "example\n",
    "vignette\n",
    "\n",
    "# Depurado\n",
    "traceback\n",
    "browser\n",
    "recover\n",
    "options(error = )\n",
    "stop, warning, message\n",
    "tryCatch, try\n",
    "```"
   ]
  },
  {
   "cell_type": "markdown",
   "metadata": {},
   "source": [
    "## I/0\n",
    "\n",
    "```\n",
    "\n",
    "# Salida\n",
    "print, cat\n",
    "message, warning\n",
    "dput\n",
    "format\n",
    "sink, capture.output\n",
    "\n",
    "# Leyendo y  escribiendo datos\n",
    "data\n",
    "count.fields\n",
    "read.csv, write.csv\n",
    "read.delim, write.delim\n",
    "read.fwf\n",
    "readLines, writeLines\n",
    "readRDS, saveRDS\n",
    "load, save\n",
    "library(foreign)\n",
    "\n",
    "# Archivos y directorios \n",
    "dir\n",
    "basename, dirname, tools::file_ext\n",
    "file.path\n",
    "path.expand, normalizePath\n",
    "file.choose\n",
    "file.copy, file.create, file.remove, file.rename, dir.create\n",
    "file.exists, file.info\n",
    "tempdir, tempfile\n",
    "download.file, library(downloader)\n",
    "\n",
    "```"
   ]
  },
  {
   "cell_type": "markdown",
   "metadata": {},
   "source": [
    "# Vectores, Matrices y Arrays"
   ]
  },
  {
   "cell_type": "markdown",
   "metadata": {},
   "source": [
    "Las estructuras de datos de R, pueden ser organizadas por su *dimensión (1d, 2d o nd)* y si ellas son **homógeneas **\n",
    "(todo el contenido debe ser del mismo tipo) o **heterógeneas** (el contenido puede ser de diferente tipo). A partir de esta organización surgen cinco tipos de datos que son usados en el *análisis de datos*.\n",
    "\n",
    "|          | Homogéneos |  Heterogéneos |\n",
    "| :------- | :------:   |  -----:       |\n",
    "| 1d       |  Vector    |  Lista         |\n",
    "| 2d       |  Matriz    | Data Frame    |\n",
    "|nd        |  Array     | \n",
    "\n",
    "\n",
    "Ten en cuenta que R tiene ningún tipo de dimensión cero o escalares. Números o cadenas individuales, que se podría pensar que sería escalares, en realidad son vectores de longitud uno. Dado un objeto, la mejor manera de entender de lo que  la estructuras de datos se compone  es utilizar **str ()**. **str ()** es la abreviatura de *estructura* y proporciona  una compacta descripción, legible de cualquier estructura de datos en  R."
   ]
  },
  {
   "cell_type": "code",
   "execution_count": 135,
   "metadata": {
    "collapsed": false
   },
   "outputs": [
    {
     "name": "stdout",
     "output_type": "stream",
     "text": [
      "function (..., na.rm = FALSE)  \n",
      "List of 6\n",
      " $ breaks  : num [1:11] 400 500 600 700 800 900 1000 1100 1200 1300 ...\n",
      " $ counts  : int [1:10] 1 0 5 20 25 19 12 11 6 1\n",
      " $ density : num [1:10] 0.0001 0 0.0005 0.002 0.0025 0.0019 0.0012 0.0011 0.0006 0.0001\n",
      " $ mids    : num [1:10] 450 550 650 750 850 950 1050 1150 1250 1350\n",
      " $ xname   : chr \"Nile\"\n",
      " $ equidist: logi TRUE\n",
      " - attr(*, \"class\")= chr \"histogram\"\n"
     ]
    },
    {
     "data": {
      "application/pdf": "[encoded data removed]",
      "image/jpeg": "[encoded data removed]",
      "image/png": "[encoded data removed]",
      "image/svg+xml": [
       "<?xml version=\"1.0\" encoding=\"UTF-8\"?>\n",
       "<svg xmlns=\"http://www.w3.org/2000/svg\" xmlns:xlink=\"http://www.w3.org/1999/xlink\" width=\"504pt\" height=\"504pt\" viewBox=\"0 0 504 504\" version=\"1.1\">\n",
       "<defs>\n",
       "<g>\n",
       "<symbol overflow=\"visible\" id=\"glyph0-0\">\n",
       "<path style=\"stroke:none;\" d=\"\"/>\n",
       "</symbol>\n",
       "<symbol overflow=\"visible\" id=\"glyph0-1\">\n",
       "<path style=\"stroke:none;\" d=\"M 9.53125 -0.125 L 9.53125 -10.78125 L 7.21875 -10.78125 L 7.21875 -6.84375 L 3.21875 -6.84375 L 3.21875 -10.78125 L 0.890625 -10.78125 L 0.890625 0 L 3.21875 0 L 3.21875 -4.765625 L 7.21875 -4.765625 L 7.21875 0 L 9.53125 0 Z M 9.53125 -0.125 \"/>\n",
       "</symbol>\n",
       "<symbol overflow=\"visible\" id=\"glyph0-2\">\n",
       "<path style=\"stroke:none;\" d=\"M 3.046875 -0.125 L 3.046875 -8.046875 L 0.875 -8.046875 L 0.875 0 L 3.046875 0 Z M 3.078125 -8.84375 L 3.078125 -11 L 0.90625 -11 L 0.90625 -8.71875 L 3.078125 -8.71875 Z M 3.078125 -8.84375 \"/>\n",
       "</symbol>\n",
       "<symbol overflow=\"visible\" id=\"glyph0-3\">\n",
       "<path style=\"stroke:none;\" d=\"M 7.5625 -2.4375 L 7.5625 -2.53125 C 7.5625 -3.421875 6.984375 -4.234375 5.96875 -4.53125 L 3.421875 -5.265625 C 2.859375 -5.4375 2.78125 -5.421875 2.78125 -5.734375 C 2.78125 -6.171875 3.171875 -6.328125 3.875 -6.328125 C 4.84375 -6.328125 5.234375 -6.109375 5.25 -5.265625 L 7.34375 -5.265625 C 7.3125 -7.046875 5.984375 -8.1875 3.890625 -8.1875 C 1.921875 -8.1875 0.609375 -7.046875 0.609375 -5.453125 C 0.609375 -4.5 0.953125 -3.84375 2.390625 -3.40625 L 4.796875 -2.65625 C 5.296875 -2.5 5.390625 -2.46875 5.390625 -2.25 C 5.390625 -1.765625 4.90625 -1.734375 3.96875 -1.734375 C 3.046875 -1.734375 2.640625 -1.75 2.4375 -2.734375 L 0.328125 -2.734375 C 0.390625 -0.890625 1.734375 0.125 4.09375 0.125 C 6.28125 0.125 7.5625 -0.859375 7.5625 -2.4375 Z M 7.5625 -2.4375 \"/>\n",
       "</symbol>\n",
       "<symbol overflow=\"visible\" id=\"glyph0-4\">\n",
       "<path style=\"stroke:none;\" d=\"M 4.40625 -0.125 L 4.40625 -1.703125 C 4.140625 -1.65625 4.015625 -1.640625 3.875 -1.640625 C 3.34375 -1.640625 3.28125 -1.65625 3.28125 -2.34375 L 3.28125 -6.28125 L 4.40625 -6.28125 L 4.40625 -7.890625 L 3.28125 -7.890625 L 3.28125 -9.984375 L 1.109375 -9.984375 L 1.109375 -7.890625 L 0.109375 -7.890625 L 0.109375 -6.28125 L 1.109375 -6.28125 L 1.109375 -1.796875 C 1.109375 -0.578125 1.84375 0.0625 3.171875 0.0625 C 3.609375 0.0625 3.96875 0.015625 4.40625 0 Z M 4.40625 -0.125 \"/>\n",
       "</symbol>\n",
       "<symbol overflow=\"visible\" id=\"glyph0-5\">\n",
       "<path style=\"stroke:none;\" d=\"M 8.265625 -3.96875 C 8.265625 -6.59375 6.765625 -8.1875 4.34375 -8.1875 C 1.953125 -8.1875 0.421875 -6.5625 0.421875 -4.015625 C 0.421875 -1.453125 1.953125 0.125 4.34375 0.125 C 6.71875 0.125 8.265625 -1.46875 8.265625 -3.96875 Z M 6.09375 -3.984375 C 6.09375 -2.53125 5.4375 -1.765625 4.34375 -1.765625 C 3.25 -1.765625 2.59375 -2.53125 2.59375 -4.015625 C 2.59375 -5.5 3.25 -6.28125 4.34375 -6.28125 C 5.453125 -6.28125 6.09375 -5.515625 6.09375 -3.984375 Z M 6.09375 -3.984375 \"/>\n",
       "</symbol>\n",
       "<symbol overflow=\"visible\" id=\"glyph0-6\">\n",
       "<path style=\"stroke:none;\" d=\"M 7.859375 0.125 L 7.859375 -8.046875 L 5.796875 -8.046875 L 5.796875 -7.015625 C 5.3125 -7.734375 4.609375 -8.1875 3.71875 -8.1875 C 1.875 -8.1875 0.40625 -6.34375 0.40625 -3.9375 C 0.40625 -1.515625 1.75 0.125 3.671875 0.125 C 4.578125 0.125 5.171875 -0.171875 5.796875 -0.796875 L 5.796875 0.125 C 5.796875 1.0625 5.171875 1.5625 4.15625 1.5625 C 3.40625 1.5625 2.96875 1.390625 2.765625 0.65625 L 0.5625 0.65625 C 0.59375 2.078125 1.953125 3.140625 4.09375 3.140625 C 6.4375 3.140625 7.859375 1.953125 7.859375 0.125 Z M 5.8125 -3.96875 C 5.8125 -2.546875 5.171875 -1.828125 4.125 -1.828125 C 3.171875 -1.828125 2.578125 -2.546875 2.578125 -3.96875 C 2.578125 -5.4375 3.171875 -6.21875 4.15625 -6.21875 C 5.15625 -6.21875 5.8125 -5.40625 5.8125 -3.96875 Z M 5.8125 -3.96875 \"/>\n",
       "</symbol>\n",
       "<symbol overflow=\"visible\" id=\"glyph0-7\">\n",
       "<path style=\"stroke:none;\" d=\"M 5.40625 -5.984375 L 5.40625 -8.15625 C 5.21875 -8.1875 5.140625 -8.1875 5.078125 -8.1875 C 4.15625 -8.1875 3.265625 -7.375 2.84375 -6.328125 L 3 -6.375 L 3 -8.046875 L 0.828125 -8.046875 L 0.828125 0 L 3 0 L 3 -4.265625 C 3 -5.453125 3.515625 -5.90625 4.703125 -5.90625 C 4.90625 -5.90625 5.0625 -5.890625 5.40625 -5.828125 Z M 5.40625 -5.984375 \"/>\n",
       "</symbol>\n",
       "<symbol overflow=\"visible\" id=\"glyph0-8\">\n",
       "<path style=\"stroke:none;\" d=\"M 7.625 -0.125 L 7.625 -0.46875 C 7.234375 -0.8125 7.15625 -0.921875 7.15625 -1.328125 L 7.15625 -5.640625 C 7.15625 -7.234375 6 -8.1875 3.90625 -8.1875 C 1.796875 -8.1875 0.625 -7.09375 0.484375 -5.21875 L 2.578125 -5.21875 C 2.6875 -6.15625 2.953125 -6.28125 3.953125 -6.28125 C 4.71875 -6.28125 5.03125 -6.15625 5.03125 -5.640625 C 5.03125 -4.8125 4.515625 -5.046875 3.5 -4.875 L 2.6875 -4.71875 C 1.15625 -4.453125 0.3125 -3.640625 0.3125 -2.234375 C 0.3125 -0.71875 1.46875 0.125 2.765625 0.125 C 3.625 0.125 4.46875 -0.28125 5.046875 -0.875 C 5.046875 -0.703125 5.109375 -0.265625 5.328125 0 L 7.625 0 Z M 5.03125 -3.453125 C 5.03125 -2.296875 4.53125 -1.765625 3.515625 -1.765625 C 2.84375 -1.765625 2.5 -1.890625 2.5 -2.46875 C 2.5 -3.046875 2.734375 -3.140625 3.578125 -3.296875 L 4.265625 -3.421875 C 4.796875 -3.53125 4.921875 -3.59375 5.03125 -3.640625 Z M 5.03125 -3.453125 \"/>\n",
       "</symbol>\n",
       "<symbol overflow=\"visible\" id=\"glyph0-9\">\n",
       "<path style=\"stroke:none;\" d=\"M 11.9375 -0.125 L 11.9375 -5.640625 C 11.9375 -7.140625 10.953125 -8.1875 9.390625 -8.1875 C 8.40625 -8.1875 7.671875 -7.796875 7.109375 -7.078125 C 6.78125 -7.71875 5.96875 -8.1875 5 -8.1875 C 4.109375 -8.1875 3.46875 -7.84375 2.9375 -7.203125 L 2.9375 -8.046875 L 0.78125 -8.046875 L 0.78125 0 L 2.953125 0 L 2.953125 -4.796875 C 2.953125 -5.75 3.40625 -6.1875 4.265625 -6.1875 C 4.9375 -6.1875 5.265625 -5.9375 5.265625 -5.3125 L 5.265625 0 L 7.453125 0 L 7.453125 -4.796875 C 7.453125 -5.75 7.890625 -6.1875 8.765625 -6.1875 C 9.4375 -6.1875 9.765625 -5.9375 9.765625 -5.3125 L 9.765625 0 L 11.9375 0 Z M 11.9375 -0.125 \"/>\n",
       "</symbol>\n",
       "<symbol overflow=\"visible\" id=\"glyph0-10\">\n",
       "<path style=\"stroke:none;\" d=\"\"/>\n",
       "</symbol>\n",
       "<symbol overflow=\"visible\" id=\"glyph0-11\">\n",
       "<path style=\"stroke:none;\" d=\"M 4.578125 -6.40625 L 4.578125 -7.890625 L 3.390625 -7.890625 L 3.390625 -8.515625 C 3.390625 -8.921875 3.484375 -8.984375 3.859375 -8.984375 C 4.03125 -8.984375 4.265625 -8.96875 4.515625 -8.9375 L 4.515625 -10.734375 C 4.0625 -10.765625 3.5625 -10.78125 3.28125 -10.78125 C 1.9375 -10.78125 1.203125 -10 1.203125 -8.6875 L 1.203125 -7.890625 L 0.109375 -7.890625 L 0.109375 -6.28125 L 1.203125 -6.28125 L 1.203125 0 L 3.390625 0 L 3.390625 -6.28125 L 4.578125 -6.28125 Z M 4.578125 -6.40625 \"/>\n",
       "</symbol>\n",
       "<symbol overflow=\"visible\" id=\"glyph0-12\">\n",
       "<path style=\"stroke:none;\" d=\"M 9.59375 -0.125 L 9.59375 -10.78125 L 7.28125 -10.78125 L 7.28125 -3.8125 L 3.234375 -10.78125 L 0.890625 -10.78125 L 0.890625 0 L 3.21875 0 L 3.21875 -7.0625 L 7.3125 0 L 9.59375 0 Z M 9.59375 -0.125 \"/>\n",
       "</symbol>\n",
       "<symbol overflow=\"visible\" id=\"glyph0-13\">\n",
       "<path style=\"stroke:none;\" d=\"M 3.046875 -0.125 L 3.046875 -10.78125 L 0.875 -10.78125 L 0.875 0 L 3.046875 0 Z M 3.046875 -0.125 \"/>\n",
       "</symbol>\n",
       "<symbol overflow=\"visible\" id=\"glyph0-14\">\n",
       "<path style=\"stroke:none;\" d=\"M 7.640625 -3.734375 C 7.640625 -6.40625 6.203125 -8.1875 3.921875 -8.1875 C 1.6875 -8.1875 0.234375 -6.53125 0.234375 -3.921875 C 0.234375 -1.421875 1.671875 0.125 3.875 0.125 C 5.625 0.125 7.109375 -0.796875 7.59375 -2.46875 L 5.453125 -2.46875 C 5.234375 -1.703125 4.6875 -1.6875 3.953125 -1.6875 C 3 -1.6875 2.46875 -1.96875 2.40625 -3.359375 L 7.609375 -3.359375 Z M 5.453125 -4.96875 L 2.453125 -4.96875 C 2.5625 -5.90625 3 -6.375 3.890625 -6.375 C 4.75 -6.375 5.265625 -5.9375 5.359375 -4.96875 Z M 5.453125 -4.96875 \"/>\n",
       "</symbol>\n",
       "<symbol overflow=\"visible\" id=\"glyph1-0\">\n",
       "<path style=\"stroke:none;\" d=\"\"/>\n",
       "</symbol>\n",
       "<symbol overflow=\"visible\" id=\"glyph1-1\">\n",
       "<path style=\"stroke:none;\" d=\"M 7.890625 -0.125 L 7.890625 -9.015625 L 6.546875 -9.015625 L 6.546875 -1.734375 L 6.796875 -1.828125 L 2.1875 -9.015625 L 0.765625 -9.015625 L 0.765625 0 L 2.09375 0 L 2.09375 -7.21875 L 1.859375 -7.125 L 6.421875 0 L 7.890625 0 Z M 7.890625 -0.125 \"/>\n",
       "</symbol>\n",
       "<symbol overflow=\"visible\" id=\"glyph1-2\">\n",
       "<path style=\"stroke:none;\" d=\"M 1.96875 -0.125 L 1.96875 -6.546875 L 0.703125 -6.546875 L 0.703125 0 L 1.96875 0 Z M 2.09375 -7.375 L 2.09375 -8.75 L 0.578125 -8.75 L 0.578125 -7.234375 L 2.09375 -7.234375 Z M 2.09375 -7.375 \"/>\n",
       "</symbol>\n",
       "<symbol overflow=\"visible\" id=\"glyph1-3\">\n",
       "<path style=\"stroke:none;\" d=\"M 1.9375 -0.125 L 1.9375 -9.015625 L 0.671875 -9.015625 L 0.671875 0 L 1.9375 0 Z M 1.9375 -0.125 \"/>\n",
       "</symbol>\n",
       "<symbol overflow=\"visible\" id=\"glyph1-4\">\n",
       "<path style=\"stroke:none;\" d=\"M 6.28125 -2.984375 C 6.28125 -3.90625 6.21875 -4.46875 6.03125 -4.9375 C 5.625 -5.96875 4.53125 -6.734375 3.359375 -6.734375 C 1.609375 -6.734375 0.34375 -5.296875 0.34375 -3.234375 C 0.34375 -1.171875 1.578125 0.1875 3.34375 0.1875 C 4.78125 0.1875 5.90625 -0.765625 6.1875 -2.171875 L 4.921875 -2.171875 C 4.59375 -1.21875 4.171875 -1.015625 3.375 -1.015625 C 2.328125 -1.015625 1.6875 -1.546875 1.65625 -2.859375 L 6.28125 -2.859375 Z M 5.1875 -3.78125 C 5.1875 -3.78125 4.984375 -3.921875 4.984375 -3.9375 L 1.6875 -3.9375 C 1.765625 -4.921875 2.34375 -5.546875 3.34375 -5.546875 C 4.328125 -5.546875 4.9375 -4.859375 4.9375 -3.875 Z M 5.1875 -3.78125 \"/>\n",
       "</symbol>\n",
       "<symbol overflow=\"visible\" id=\"glyph1-5\">\n",
       "<path style=\"stroke:none;\" d=\"M 6.375 -2.171875 L 6.375 -3.25 L 5.109375 -3.25 L 5.109375 -8.765625 L 4.125 -8.765625 L 0.1875 -3.328125 L 0.1875 -2.046875 L 3.78125 -2.046875 L 3.78125 0 L 5.109375 0 L 5.109375 -2.046875 L 6.375 -2.046875 Z M 3.921875 -3.25 L 1.515625 -3.25 L 4.015625 -6.75 L 3.78125 -6.84375 L 3.78125 -3.25 Z M 3.921875 -3.25 \"/>\n",
       "</symbol>\n",
       "<symbol overflow=\"visible\" id=\"glyph1-6\">\n",
       "<path style=\"stroke:none;\" d=\"M 6.21875 -4.21875 C 6.21875 -7.171875 5.140625 -8.765625 3.296875 -8.765625 C 1.46875 -8.765625 0.375 -7.15625 0.375 -4.296875 C 0.375 -1.421875 1.46875 0.1875 3.296875 0.1875 C 5.09375 0.1875 6.21875 -1.421875 6.21875 -4.21875 Z M 4.859375 -4.3125 C 4.859375 -1.90625 4.453125 -0.953125 3.28125 -0.953125 C 2.15625 -0.953125 1.734375 -1.953125 1.734375 -4.28125 C 1.734375 -6.609375 2.15625 -7.578125 3.296875 -7.578125 C 4.4375 -7.578125 4.859375 -6.59375 4.859375 -4.3125 Z M 4.859375 -4.3125 \"/>\n",
       "</symbol>\n",
       "<symbol overflow=\"visible\" id=\"glyph1-7\">\n",
       "<path style=\"stroke:none;\" d=\"M 6.28125 -2.765625 C 6.28125 -4.359375 5.078125 -5.5625 3.546875 -5.5625 C 2.71875 -5.5625 1.9375 -5.203125 1.484375 -4.578125 L 1.734375 -4.46875 C 1.734375 -6.546875 2.28125 -7.578125 3.484375 -7.578125 C 4.234375 -7.578125 4.609375 -7.234375 4.796875 -6.28125 L 6.125 -6.28125 C 5.90625 -7.8125 4.859375 -8.765625 3.5625 -8.765625 C 1.578125 -8.765625 0.375 -6.96875 0.375 -4.015625 C 0.375 -1.359375 1.421875 0.1875 3.375 0.1875 C 4.984375 0.1875 6.28125 -1.109375 6.28125 -2.765625 Z M 4.9375 -2.6875 C 4.9375 -1.625 4.359375 -1.015625 3.390625 -1.015625 C 2.40625 -1.015625 1.78125 -1.65625 1.78125 -2.75 C 1.78125 -3.796875 2.375 -4.359375 3.421875 -4.359375 C 4.4375 -4.359375 4.9375 -3.828125 4.9375 -2.6875 Z M 4.9375 -2.6875 \"/>\n",
       "</symbol>\n",
       "<symbol overflow=\"visible\" id=\"glyph1-8\">\n",
       "<path style=\"stroke:none;\" d=\"M 6.28125 -2.53125 C 6.28125 -3.484375 5.671875 -4.265625 4.953125 -4.625 C 5.65625 -5.046875 5.984375 -5.5625 5.984375 -6.375 C 5.984375 -7.703125 4.8125 -8.765625 3.296875 -8.765625 C 1.796875 -8.765625 0.59375 -7.703125 0.59375 -6.375 C 0.59375 -5.578125 0.921875 -5.046875 1.625 -4.625 C 0.921875 -4.265625 0.296875 -3.484375 0.296875 -2.546875 C 0.296875 -0.984375 1.625 0.1875 3.296875 0.1875 C 4.984375 0.1875 6.28125 -0.984375 6.28125 -2.53125 Z M 4.625 -6.34375 C 4.625 -5.5625 4.1875 -5.15625 3.296875 -5.15625 C 2.40625 -5.15625 1.953125 -5.5625 1.953125 -6.359375 C 1.953125 -7.171875 2.40625 -7.578125 3.296875 -7.578125 C 4.203125 -7.578125 4.625 -7.171875 4.625 -6.34375 Z M 4.9375 -2.515625 C 4.9375 -1.515625 4.359375 -1.015625 3.28125 -1.015625 C 2.25 -1.015625 1.65625 -1.53125 1.65625 -2.515625 C 1.65625 -3.515625 2.25 -4.015625 3.296875 -4.015625 C 4.359375 -4.015625 4.9375 -3.515625 4.9375 -2.515625 Z M 4.9375 -2.515625 \"/>\n",
       "</symbol>\n",
       "<symbol overflow=\"visible\" id=\"glyph1-9\">\n",
       "<path style=\"stroke:none;\" d=\"M 4.296875 -0.125 L 4.296875 -8.765625 L 3.359375 -8.765625 C 2.953125 -7.328125 2.859375 -7.28125 1.078125 -7.0625 L 1.078125 -6.0625 L 2.96875 -6.0625 L 2.96875 0 L 4.296875 0 Z M 4.296875 -0.125 \"/>\n",
       "</symbol>\n",
       "<symbol overflow=\"visible\" id=\"glyph1-10\">\n",
       "<path style=\"stroke:none;\" d=\"M 6.265625 -6.140625 C 6.265625 -7.578125 5.015625 -8.765625 3.40625 -8.765625 C 1.671875 -8.765625 0.515625 -7.75 0.453125 -5.5625 L 1.78125 -5.5625 C 1.875 -7.109375 2.328125 -7.578125 3.375 -7.578125 C 4.328125 -7.578125 4.90625 -7.03125 4.90625 -6.125 C 4.90625 -5.453125 4.546875 -4.96875 3.796875 -4.53125 L 2.6875 -3.90625 C 0.90625 -2.90625 0.359375 -2 0.25 0 L 6.203125 0 L 6.203125 -1.3125 L 1.75 -1.3125 C 1.84375 -1.875 2.1875 -2.21875 3.234375 -2.828125 L 4.421875 -3.484375 C 5.609375 -4.109375 6.265625 -5.09375 6.265625 -6.140625 Z M 6.265625 -6.140625 \"/>\n",
       "</symbol>\n",
       "<symbol overflow=\"visible\" id=\"glyph2-0\">\n",
       "<path style=\"stroke:none;\" d=\"\"/>\n",
       "</symbol>\n",
       "<symbol overflow=\"visible\" id=\"glyph2-1\">\n",
       "<path style=\"stroke:none;\" d=\"M -7.890625 -7.078125 L -9.015625 -7.078125 L -9.015625 -0.9375 L 0 -0.9375 L 0 -2.328125 L -3.984375 -2.328125 L -3.984375 -6.5 L -5.234375 -6.5 L -5.234375 -2.328125 L -7.765625 -2.328125 L -7.765625 -7.078125 Z M -7.890625 -7.078125 \"/>\n",
       "</symbol>\n",
       "<symbol overflow=\"visible\" id=\"glyph2-2\">\n",
       "<path style=\"stroke:none;\" d=\"M -5.546875 -3.984375 L -6.6875 -3.984375 C -6.71875 -3.6875 -6.734375 -3.59375 -6.734375 -3.46875 C -6.734375 -2.8125 -6.3125 -2.21875 -5.375 -1.640625 L -5.28125 -1.890625 L -6.546875 -1.890625 L -6.546875 -0.703125 L 0 -0.703125 L 0 -1.96875 L -3.390625 -1.96875 C -4.8125 -1.96875 -5.390625 -2.296875 -5.40625 -3.984375 Z M -5.546875 -3.984375 \"/>\n",
       "</symbol>\n",
       "<symbol overflow=\"visible\" id=\"glyph2-3\">\n",
       "<path style=\"stroke:none;\" d=\"M -2.984375 -6.28125 C -3.90625 -6.28125 -4.46875 -6.21875 -4.9375 -6.03125 C -5.96875 -5.625 -6.734375 -4.53125 -6.734375 -3.359375 C -6.734375 -1.609375 -5.296875 -0.34375 -3.234375 -0.34375 C -1.171875 -0.34375 0.1875 -1.578125 0.1875 -3.34375 C 0.1875 -4.78125 -0.765625 -5.90625 -2.171875 -6.1875 L -2.171875 -4.921875 C -1.21875 -4.59375 -1.015625 -4.171875 -1.015625 -3.375 C -1.015625 -2.328125 -1.546875 -1.6875 -2.859375 -1.65625 L -2.859375 -6.28125 Z M -3.78125 -5.1875 C -3.78125 -5.1875 -3.921875 -4.984375 -3.9375 -4.984375 L -3.9375 -1.6875 C -4.921875 -1.765625 -5.546875 -2.34375 -5.546875 -3.34375 C -5.546875 -4.328125 -4.859375 -4.9375 -3.875 -4.9375 Z M -3.78125 -5.1875 \"/>\n",
       "</symbol>\n",
       "<symbol overflow=\"visible\" id=\"glyph2-4\">\n",
       "<path style=\"stroke:none;\" d=\"M 2.484375 -6.078125 L -6.546875 -6.078125 L -6.546875 -4.90625 L -5.578125 -4.90625 L -5.671875 -5.140625 C -6.34375 -4.6875 -6.734375 -3.875 -6.734375 -3.046875 C -6.734375 -1.390625 -5.296875 -0.171875 -3.203125 -0.171875 C -1.15625 -0.171875 0.1875 -1.34375 0.1875 -3 C 0.1875 -3.875 -0.171875 -4.578125 -0.859375 -5.046875 L -0.953125 -4.796875 L 2.609375 -4.796875 L 2.609375 -6.078125 Z M -3.234375 -4.796875 C -1.796875 -4.796875 -1.015625 -4.25 -1.015625 -3.1875 C -1.015625 -2.09375 -1.8125 -1.484375 -3.28125 -1.484375 C -4.734375 -1.484375 -5.53125 -2.09375 -5.53125 -3.1875 C -5.53125 -4.265625 -4.703125 -4.796875 -3.234375 -4.796875 Z M -3.234375 -4.796875 \"/>\n",
       "</symbol>\n",
       "<symbol overflow=\"visible\" id=\"glyph2-5\">\n",
       "<path style=\"stroke:none;\" d=\"M -0.125 -5.921875 L -6.546875 -5.921875 L -6.546875 -4.640625 L -2.953125 -4.640625 C -1.671875 -4.640625 -0.953125 -4.109375 -0.953125 -3.078125 C -0.953125 -2.28125 -1.3125 -1.90625 -2.0625 -1.90625 L -6.546875 -1.90625 L -6.546875 -0.640625 L -1.671875 -0.640625 C -0.625 -0.640625 0.1875 -1.5625 0.1875 -2.78125 C 0.1875 -3.703125 -0.1875 -4.390625 -1.015625 -4.984375 L -1.109375 -4.734375 L 0 -4.734375 L 0 -5.921875 Z M -0.125 -5.921875 \"/>\n",
       "</symbol>\n",
       "<symbol overflow=\"visible\" id=\"glyph2-6\">\n",
       "<path style=\"stroke:none;\" d=\"M -0.125 -5.96875 L -4.890625 -5.96875 C -5.921875 -5.96875 -6.734375 -5.0625 -6.734375 -3.859375 C -6.734375 -2.921875 -6.34375 -2.203125 -5.453125 -1.65625 L -5.359375 -1.890625 L -6.546875 -1.890625 L -6.546875 -0.703125 L 0 -0.703125 L 0 -1.96875 L -3.59375 -1.96875 C -4.890625 -1.96875 -5.59375 -2.53125 -5.59375 -3.546875 C -5.59375 -4.34375 -5.25 -4.703125 -4.484375 -4.703125 L 0 -4.703125 L 0 -5.96875 Z M -0.125 -5.96875 \"/>\n",
       "</symbol>\n",
       "<symbol overflow=\"visible\" id=\"glyph2-7\">\n",
       "<path style=\"stroke:none;\" d=\"M -2.421875 -5.71875 L -2.421875 -4.59375 C -1.28125 -4.40625 -1.015625 -4.03125 -1.015625 -3.1875 C -1.015625 -2.078125 -1.734375 -1.546875 -3.21875 -1.546875 C -4.78125 -1.546875 -5.546875 -2.0625 -5.546875 -3.15625 C -5.546875 -4 -5.1875 -4.375 -4.171875 -4.53125 L -4.171875 -5.796875 C -5.84375 -5.65625 -6.734375 -4.578125 -6.734375 -3.171875 C -6.734375 -1.46875 -5.296875 -0.234375 -3.21875 -0.234375 C -1.1875 -0.234375 0.1875 -1.453125 0.1875 -3.15625 C 0.1875 -4.65625 -0.859375 -5.734375 -2.421875 -5.875 Z M -2.421875 -5.71875 \"/>\n",
       "</symbol>\n",
       "<symbol overflow=\"visible\" id=\"glyph2-8\">\n",
       "<path style=\"stroke:none;\" d=\"M -6.546875 -5.734375 L -6.546875 -4.5625 L -1.53125 -2.765625 L -1.53125 -3.046875 L -6.546875 -1.390625 L -6.546875 -0.046875 L -0.109375 -2.21875 L 0.890625 -1.84375 C 1.328125 -1.671875 1.375 -1.609375 1.375 -1.171875 C 1.375 -1.03125 1.34375 -0.859375 1.265625 -0.5 L 2.40625 -0.5 C 2.53125 -0.75 2.609375 -1.0625 2.609375 -1.3125 C 2.609375 -2.03125 2.09375 -2.734375 1.1875 -3.078125 L -6.546875 -5.921875 Z M -6.546875 -5.734375 \"/>\n",
       "</symbol>\n",
       "<symbol overflow=\"visible\" id=\"glyph2-9\">\n",
       "<path style=\"stroke:none;\" d=\"M -4.21875 -6.21875 C -7.171875 -6.21875 -8.765625 -5.140625 -8.765625 -3.296875 C -8.765625 -1.46875 -7.15625 -0.375 -4.296875 -0.375 C -1.421875 -0.375 0.1875 -1.46875 0.1875 -3.296875 C 0.1875 -5.09375 -1.421875 -6.21875 -4.21875 -6.21875 Z M -4.3125 -4.859375 C -1.90625 -4.859375 -0.953125 -4.453125 -0.953125 -3.28125 C -0.953125 -2.15625 -1.953125 -1.734375 -4.28125 -1.734375 C -6.609375 -1.734375 -7.578125 -2.15625 -7.578125 -3.296875 C -7.578125 -4.4375 -6.59375 -4.859375 -4.3125 -4.859375 Z M -4.3125 -4.859375 \"/>\n",
       "</symbol>\n",
       "<symbol overflow=\"visible\" id=\"glyph2-10\">\n",
       "<path style=\"stroke:none;\" d=\"M -2.953125 -6.28125 C -4.625 -6.28125 -5.875 -5.046875 -5.875 -3.40625 C -5.875 -2.8125 -5.671875 -2.21875 -5.515625 -2.015625 L -7.28125 -2.28125 L -7.28125 -5.84375 L -8.59375 -5.84375 L -8.59375 -1.203125 L -3.875 -0.515625 L -3.875 -1.71875 C -4.5 -2.25 -4.671875 -2.5625 -4.671875 -3.21875 C -4.671875 -4.359375 -4.0625 -4.9375 -2.8125 -4.9375 C -1.578125 -4.9375 -1.015625 -4.375 -1.015625 -3.21875 C -1.015625 -2.296875 -1.359375 -1.859375 -2.453125 -1.578125 L -2.453125 -0.25 C -0.625 -0.625 0.1875 -1.734375 0.1875 -3.234375 C 0.1875 -4.953125 -1.15625 -6.28125 -2.953125 -6.28125 Z M -2.953125 -6.28125 \"/>\n",
       "</symbol>\n",
       "<symbol overflow=\"visible\" id=\"glyph2-11\">\n",
       "<path style=\"stroke:none;\" d=\"M -0.125 -4.296875 L -8.765625 -4.296875 L -8.765625 -3.359375 C -7.328125 -2.953125 -7.28125 -2.859375 -7.0625 -1.078125 L -6.0625 -1.078125 L -6.0625 -2.96875 L 0 -2.96875 L 0 -4.296875 Z M -0.125 -4.296875 \"/>\n",
       "</symbol>\n",
       "<symbol overflow=\"visible\" id=\"glyph2-12\">\n",
       "<path style=\"stroke:none;\" d=\"M -6.140625 -6.265625 C -7.578125 -6.265625 -8.765625 -5.015625 -8.765625 -3.40625 C -8.765625 -1.671875 -7.75 -0.515625 -5.5625 -0.453125 L -5.5625 -1.78125 C -7.109375 -1.875 -7.578125 -2.328125 -7.578125 -3.375 C -7.578125 -4.328125 -7.03125 -4.90625 -6.125 -4.90625 C -5.453125 -4.90625 -4.96875 -4.546875 -4.53125 -3.796875 L -3.90625 -2.6875 C -2.90625 -0.90625 -2 -0.359375 0 -0.25 L 0 -6.203125 L -1.3125 -6.203125 L -1.3125 -1.75 C -1.875 -1.84375 -2.21875 -2.1875 -2.828125 -3.234375 L -3.484375 -4.421875 C -4.109375 -5.609375 -5.09375 -6.265625 -6.140625 -6.265625 Z M -6.140625 -6.265625 \"/>\n",
       "</symbol>\n",
       "</g>\n",
       "</defs>\n",
       "<g id=\"surface116\">\n",
       "<rect x=\"0\" y=\"0\" width=\"504\" height=\"504\" style=\"fill:rgb(100%,100%,100%);fill-opacity:1;stroke:none;\"/>\n",
       "<g style=\"fill:rgb(0%,0%,0%);fill-opacity:1;\">\n",
       "  <use xlink:href=\"#glyph0-1\" x=\"206.398438\" y=\"34.21875\"/>\n",
       "  <use xlink:href=\"#glyph0-2\" x=\"216.799805\" y=\"34.21875\"/>\n",
       "  <use xlink:href=\"#glyph0-3\" x=\"220.804688\" y=\"34.21875\"/>\n",
       "  <use xlink:href=\"#glyph0-4\" x=\"228.814453\" y=\"34.21875\"/>\n",
       "  <use xlink:href=\"#glyph0-5\" x=\"233.467773\" y=\"34.21875\"/>\n",
       "  <use xlink:href=\"#glyph0-6\" x=\"242.269531\" y=\"34.21875\"/>\n",
       "  <use xlink:href=\"#glyph0-7\" x=\"251.071289\" y=\"34.21875\"/>\n",
       "  <use xlink:href=\"#glyph0-8\" x=\"256.74707\" y=\"34.21875\"/>\n",
       "  <use xlink:href=\"#glyph0-9\" x=\"264.756836\" y=\"34.21875\"/>\n",
       "  <use xlink:href=\"#glyph0-10\" x=\"277.563477\" y=\"34.21875\"/>\n",
       "  <use xlink:href=\"#glyph0-5\" x=\"281.568359\" y=\"34.21875\"/>\n",
       "  <use xlink:href=\"#glyph0-11\" x=\"290.370117\" y=\"34.21875\"/>\n",
       "  <use xlink:href=\"#glyph0-10\" x=\"295.166992\" y=\"34.21875\"/>\n",
       "  <use xlink:href=\"#glyph0-12\" x=\"299.171875\" y=\"34.21875\"/>\n",
       "  <use xlink:href=\"#glyph0-2\" x=\"309.573242\" y=\"34.21875\"/>\n",
       "  <use xlink:href=\"#glyph0-13\" x=\"313.578125\" y=\"34.21875\"/>\n",
       "  <use xlink:href=\"#glyph0-14\" x=\"317.583008\" y=\"34.21875\"/>\n",
       "</g>\n",
       "<g style=\"fill:rgb(0%,0%,0%);fill-opacity:1;\">\n",
       "  <use xlink:href=\"#glyph1-1\" x=\"255.898438\" y=\"485.057617\"/>\n",
       "  <use xlink:href=\"#glyph1-2\" x=\"264.5625\" y=\"485.057617\"/>\n",
       "  <use xlink:href=\"#glyph1-3\" x=\"267.226562\" y=\"485.057617\"/>\n",
       "  <use xlink:href=\"#glyph1-4\" x=\"269.890625\" y=\"485.057617\"/>\n",
       "</g>\n",
       "<g style=\"fill:rgb(0%,0%,0%);fill-opacity:1;\">\n",
       "  <use xlink:href=\"#glyph2-1\" x=\"12.737305\" y=\"273.300781\"/>\n",
       "  <use xlink:href=\"#glyph2-2\" x=\"12.737305\" y=\"266.388672\"/>\n",
       "  <use xlink:href=\"#glyph2-3\" x=\"12.737305\" y=\"262.511719\"/>\n",
       "  <use xlink:href=\"#glyph2-4\" x=\"12.737305\" y=\"255.839844\"/>\n",
       "  <use xlink:href=\"#glyph2-5\" x=\"12.737305\" y=\"249.108398\"/>\n",
       "  <use xlink:href=\"#glyph2-3\" x=\"12.737305\" y=\"242.436523\"/>\n",
       "  <use xlink:href=\"#glyph2-6\" x=\"12.737305\" y=\"235.764648\"/>\n",
       "  <use xlink:href=\"#glyph2-7\" x=\"12.737305\" y=\"229.092773\"/>\n",
       "  <use xlink:href=\"#glyph2-8\" x=\"12.737305\" y=\"223.092773\"/>\n",
       "</g>\n",
       "<path style=\"fill:none;stroke-width:0.75;stroke-linecap:round;stroke-linejoin:round;stroke:rgb(0%,0%,0%);stroke-opacity:1;stroke-miterlimit:10;\" d=\"M 74.398438 430.558594 L 458.398438 430.558594 \"/>\n",
       "<path style=\"fill:none;stroke-width:0.75;stroke-linecap:round;stroke-linejoin:round;stroke:rgb(0%,0%,0%);stroke-opacity:1;stroke-miterlimit:10;\" d=\"M 74.398438 430.558594 L 74.398438 437.761719 \"/>\n",
       "<path style=\"fill:none;stroke-width:0.75;stroke-linecap:round;stroke-linejoin:round;stroke:rgb(0%,0%,0%);stroke-opacity:1;stroke-miterlimit:10;\" d=\"M 151.199219 430.558594 L 151.199219 437.761719 \"/>\n",
       "<path style=\"fill:none;stroke-width:0.75;stroke-linecap:round;stroke-linejoin:round;stroke:rgb(0%,0%,0%);stroke-opacity:1;stroke-miterlimit:10;\" d=\"M 228 430.558594 L 228 437.761719 \"/>\n",
       "<path style=\"fill:none;stroke-width:0.75;stroke-linecap:round;stroke-linejoin:round;stroke:rgb(0%,0%,0%);stroke-opacity:1;stroke-miterlimit:10;\" d=\"M 304.800781 430.558594 L 304.800781 437.761719 \"/>\n",
       "<path style=\"fill:none;stroke-width:0.75;stroke-linecap:round;stroke-linejoin:round;stroke:rgb(0%,0%,0%);stroke-opacity:1;stroke-miterlimit:10;\" d=\"M 381.601562 430.558594 L 381.601562 437.761719 \"/>\n",
       "<path style=\"fill:none;stroke-width:0.75;stroke-linecap:round;stroke-linejoin:round;stroke:rgb(0%,0%,0%);stroke-opacity:1;stroke-miterlimit:10;\" d=\"M 458.398438 430.558594 L 458.398438 437.761719 \"/>\n",
       "<g style=\"fill:rgb(0%,0%,0%);fill-opacity:1;\">\n",
       "  <use xlink:href=\"#glyph1-5\" x=\"63.898438\" y=\"456.256836\"/>\n",
       "  <use xlink:href=\"#glyph1-6\" x=\"70.570312\" y=\"456.256836\"/>\n",
       "  <use xlink:href=\"#glyph1-6\" x=\"77.242188\" y=\"456.256836\"/>\n",
       "</g>\n",
       "<g style=\"fill:rgb(0%,0%,0%);fill-opacity:1;\">\n",
       "  <use xlink:href=\"#glyph1-7\" x=\"140.699219\" y=\"456.256836\"/>\n",
       "  <use xlink:href=\"#glyph1-6\" x=\"147.371094\" y=\"456.256836\"/>\n",
       "  <use xlink:href=\"#glyph1-6\" x=\"154.042969\" y=\"456.256836\"/>\n",
       "</g>\n",
       "<g style=\"fill:rgb(0%,0%,0%);fill-opacity:1;\">\n",
       "  <use xlink:href=\"#glyph1-8\" x=\"217.5\" y=\"456.256836\"/>\n",
       "  <use xlink:href=\"#glyph1-6\" x=\"224.171875\" y=\"456.256836\"/>\n",
       "  <use xlink:href=\"#glyph1-6\" x=\"230.84375\" y=\"456.256836\"/>\n",
       "</g>\n",
       "<g style=\"fill:rgb(0%,0%,0%);fill-opacity:1;\">\n",
       "  <use xlink:href=\"#glyph1-9\" x=\"291.300781\" y=\"456.256836\"/>\n",
       "  <use xlink:href=\"#glyph1-6\" x=\"297.972656\" y=\"456.256836\"/>\n",
       "  <use xlink:href=\"#glyph1-6\" x=\"304.644531\" y=\"456.256836\"/>\n",
       "  <use xlink:href=\"#glyph1-6\" x=\"311.316406\" y=\"456.256836\"/>\n",
       "</g>\n",
       "<g style=\"fill:rgb(0%,0%,0%);fill-opacity:1;\">\n",
       "  <use xlink:href=\"#glyph1-9\" x=\"368.101562\" y=\"456.256836\"/>\n",
       "  <use xlink:href=\"#glyph1-10\" x=\"374.773438\" y=\"456.256836\"/>\n",
       "  <use xlink:href=\"#glyph1-6\" x=\"381.445312\" y=\"456.256836\"/>\n",
       "  <use xlink:href=\"#glyph1-6\" x=\"388.117188\" y=\"456.256836\"/>\n",
       "</g>\n",
       "<g style=\"fill:rgb(0%,0%,0%);fill-opacity:1;\">\n",
       "  <use xlink:href=\"#glyph1-9\" x=\"444.898438\" y=\"456.256836\"/>\n",
       "  <use xlink:href=\"#glyph1-5\" x=\"451.570312\" y=\"456.256836\"/>\n",
       "  <use xlink:href=\"#glyph1-6\" x=\"458.242188\" y=\"456.256836\"/>\n",
       "  <use xlink:href=\"#glyph1-6\" x=\"464.914062\" y=\"456.256836\"/>\n",
       "</g>\n",
       "<path style=\"fill:none;stroke-width:0.75;stroke-linecap:round;stroke-linejoin:round;stroke:rgb(0%,0%,0%);stroke-opacity:1;stroke-miterlimit:10;\" d=\"M 59.039062 416.800781 L 59.039062 72.800781 \"/>\n",
       "<path style=\"fill:none;stroke-width:0.75;stroke-linecap:round;stroke-linejoin:round;stroke:rgb(0%,0%,0%);stroke-opacity:1;stroke-miterlimit:10;\" d=\"M 59.039062 416.800781 L 51.839844 416.800781 \"/>\n",
       "<path style=\"fill:none;stroke-width:0.75;stroke-linecap:round;stroke-linejoin:round;stroke:rgb(0%,0%,0%);stroke-opacity:1;stroke-miterlimit:10;\" d=\"M 59.039062 348 L 51.839844 348 \"/>\n",
       "<path style=\"fill:none;stroke-width:0.75;stroke-linecap:round;stroke-linejoin:round;stroke:rgb(0%,0%,0%);stroke-opacity:1;stroke-miterlimit:10;\" d=\"M 59.039062 279.199219 L 51.839844 279.199219 \"/>\n",
       "<path style=\"fill:none;stroke-width:0.75;stroke-linecap:round;stroke-linejoin:round;stroke:rgb(0%,0%,0%);stroke-opacity:1;stroke-miterlimit:10;\" d=\"M 59.039062 210.398438 L 51.839844 210.398438 \"/>\n",
       "<path style=\"fill:none;stroke-width:0.75;stroke-linecap:round;stroke-linejoin:round;stroke:rgb(0%,0%,0%);stroke-opacity:1;stroke-miterlimit:10;\" d=\"M 59.039062 141.601562 L 51.839844 141.601562 \"/>\n",
       "<path style=\"fill:none;stroke-width:0.75;stroke-linecap:round;stroke-linejoin:round;stroke:rgb(0%,0%,0%);stroke-opacity:1;stroke-miterlimit:10;\" d=\"M 59.039062 72.800781 L 51.839844 72.800781 \"/>\n",
       "<g style=\"fill:rgb(0%,0%,0%);fill-opacity:1;\">\n",
       "  <use xlink:href=\"#glyph2-9\" x=\"41.538086\" y=\"420.300781\"/>\n",
       "</g>\n",
       "<g style=\"fill:rgb(0%,0%,0%);fill-opacity:1;\">\n",
       "  <use xlink:href=\"#glyph2-10\" x=\"41.538086\" y=\"351.5\"/>\n",
       "</g>\n",
       "<g style=\"fill:rgb(0%,0%,0%);fill-opacity:1;\">\n",
       "  <use xlink:href=\"#glyph2-11\" x=\"41.538086\" y=\"286.199219\"/>\n",
       "  <use xlink:href=\"#glyph2-9\" x=\"41.538086\" y=\"279.527344\"/>\n",
       "</g>\n",
       "<g style=\"fill:rgb(0%,0%,0%);fill-opacity:1;\">\n",
       "  <use xlink:href=\"#glyph2-11\" x=\"41.538086\" y=\"217.398438\"/>\n",
       "  <use xlink:href=\"#glyph2-10\" x=\"41.538086\" y=\"210.726562\"/>\n",
       "</g>\n",
       "<g style=\"fill:rgb(0%,0%,0%);fill-opacity:1;\">\n",
       "  <use xlink:href=\"#glyph2-12\" x=\"41.538086\" y=\"148.601562\"/>\n",
       "  <use xlink:href=\"#glyph2-9\" x=\"41.538086\" y=\"141.929688\"/>\n",
       "</g>\n",
       "<g style=\"fill:rgb(0%,0%,0%);fill-opacity:1;\">\n",
       "  <use xlink:href=\"#glyph2-12\" x=\"41.538086\" y=\"79.800781\"/>\n",
       "  <use xlink:href=\"#glyph2-10\" x=\"41.538086\" y=\"73.128906\"/>\n",
       "</g>\n",
       "<path style=\"fill:none;stroke-width:0.75;stroke-linecap:round;stroke-linejoin:round;stroke:rgb(0%,0%,0%);stroke-opacity:1;stroke-miterlimit:10;\" d=\"M 74.398438 416.800781 L 112.796875 416.800781 L 112.796875 403.039062 L 74.398438 403.039062 Z M 74.398438 416.800781 \"/>\n",
       "<path style=\"fill:none;stroke-width:0.75;stroke-linecap:round;stroke-linejoin:round;stroke:rgb(0%,0%,0%);stroke-opacity:1;stroke-miterlimit:10;\" d=\"M 112.800781 416.800781 L 151.199219 416.800781 Z M 112.800781 416.800781 \"/>\n",
       "<path style=\"fill:none;stroke-width:0.75;stroke-linecap:round;stroke-linejoin:round;stroke:rgb(0%,0%,0%);stroke-opacity:1;stroke-miterlimit:10;\" d=\"M 151.199219 416.800781 L 189.597656 416.800781 L 189.597656 348 L 151.199219 348 Z M 151.199219 416.800781 \"/>\n",
       "<path style=\"fill:none;stroke-width:0.75;stroke-linecap:round;stroke-linejoin:round;stroke:rgb(0%,0%,0%);stroke-opacity:1;stroke-miterlimit:10;\" d=\"M 189.601562 416.800781 L 228 416.800781 L 228 141.601562 L 189.601562 141.601562 Z M 189.601562 416.800781 \"/>\n",
       "<path style=\"fill:none;stroke-width:0.75;stroke-linecap:round;stroke-linejoin:round;stroke:rgb(0%,0%,0%);stroke-opacity:1;stroke-miterlimit:10;\" d=\"M 228 416.800781 L 266.398438 416.800781 L 266.398438 72.800781 L 228 72.800781 Z M 228 416.800781 \"/>\n",
       "<path style=\"fill:none;stroke-width:0.75;stroke-linecap:round;stroke-linejoin:round;stroke:rgb(0%,0%,0%);stroke-opacity:1;stroke-miterlimit:10;\" d=\"M 266.398438 416.800781 L 304.796875 416.800781 L 304.796875 155.359375 L 266.398438 155.359375 Z M 266.398438 416.800781 \"/>\n",
       "<path style=\"fill:none;stroke-width:0.75;stroke-linecap:round;stroke-linejoin:round;stroke:rgb(0%,0%,0%);stroke-opacity:1;stroke-miterlimit:10;\" d=\"M 304.800781 416.800781 L 343.199219 416.800781 L 343.199219 251.679688 L 304.800781 251.679688 Z M 304.800781 416.800781 \"/>\n",
       "<path style=\"fill:none;stroke-width:0.75;stroke-linecap:round;stroke-linejoin:round;stroke:rgb(0%,0%,0%);stroke-opacity:1;stroke-miterlimit:10;\" d=\"M 343.199219 416.800781 L 381.597656 416.800781 L 381.597656 265.441406 L 343.199219 265.441406 Z M 343.199219 416.800781 \"/>\n",
       "<path style=\"fill:none;stroke-width:0.75;stroke-linecap:round;stroke-linejoin:round;stroke:rgb(0%,0%,0%);stroke-opacity:1;stroke-miterlimit:10;\" d=\"M 381.601562 416.800781 L 420 416.800781 L 420 334.242188 L 381.601562 334.242188 Z M 381.601562 416.800781 \"/>\n",
       "<path style=\"fill:none;stroke-width:0.75;stroke-linecap:round;stroke-linejoin:round;stroke:rgb(0%,0%,0%);stroke-opacity:1;stroke-miterlimit:10;\" d=\"M 420 416.800781 L 458.398438 416.800781 L 458.398438 403.039062 L 420 403.039062 Z M 420 416.800781 \"/>\n",
       "</g>\n",
       "</svg>\n"
      ],
      "text/plain": [
       "Plot with title “Histogram of Nile”"
      ]
     },
     "metadata": {
      "image/svg+xml": {
       "isolated": true
      }
     },
     "output_type": "display_data"
    }
   ],
   "source": [
    "## En R trabajamos con objetos y str() revela su esencia\n",
    "\n",
    "str(sum)\n",
    "hn <-hist(Nile)\n",
    "str(hn)"
   ]
  },
  {
   "cell_type": "markdown",
   "metadata": {
    "collapsed": false
   },
   "source": [
    "Informacion de la función str() desde la documentación de R\n",
    "\n",
    "help(str)"
   ]
  },
  {
   "cell_type": "markdown",
   "metadata": {},
   "source": [
    "# Vectores en R"
   ]
  },
  {
   "cell_type": "markdown",
   "metadata": {},
   "source": [
    "\n",
    "\n",
    "1.La estructura más común en R es el  **vector**. Los vectores vienen de dos formas: *vectores atómicos y listas*. Ellos tienen tres propiedades comunes:\n",
    "\n",
    " * Tipo, **typeof()**, (que es).\n",
    " \n",
    " * Longitud, **length()**, (cuántos elemento contiene).\n",
    " \n",
    " * Atributos, **attributes()** (metadata adicional).\n",
    "\n",
    "2.El tipo de dato que debe contener un *vector atómicos* debe ser del mismo tipo, los vectores  pueden ser lógicos, numéricos o de caracter. Si tu tratas de mezclar datos, R **coerces** los datos a un único tipo a diferencia de las *listas* que pueden tener diferentes tipos.\n",
    "\n",
    "3.Si usamos la función *is.vector()* no prueba si un objeto es un vector. En lugar retorna TRUE sólo si el objeto es un vector, sin atributos aparte de su nombre. Debes usar *is.atomic(x) || is.list(x)* para probar si un objeto es un vector.\n",
    "\n",
    "4.Los *vectores atómicos* tiene ciertas características interesantes:\n",
    "    \n",
    "    * Recycling  El alargamiento automatico de vectores en ciertos casos.\n",
    "    * Filtering  La extracción de subconjuntos de vectores\n",
    "    * Vectorización Cuando las funciones son aplicadas componente a componente.\n",
    "\n",
    "Asignamos un vector usando la función *c()*."
   ]
  },
  {
   "cell_type": "code",
   "execution_count": 136,
   "metadata": {
    "collapsed": false
   },
   "outputs": [
    {
     "data": {
      "text/html": [
       "<ol class=list-inline>\n",
       "\t<li>1</li>\n",
       "\t<li>2.3</li>\n",
       "\t<li>5.6</li>\n",
       "</ol>\n"
      ],
      "text/latex": [
       "\\begin{enumerate*}\n",
       "\\item 1\n",
       "\\item 2.3\n",
       "\\item 5.6\n",
       "\\end{enumerate*}\n"
      ],
      "text/markdown": [
       "1. 1\n",
       "2. 2.3\n",
       "3. 5.6\n",
       "\n",
       "\n"
      ],
      "text/plain": [
       "[1] 1.0 2.3 5.6"
      ]
     },
     "execution_count": 136,
     "metadata": {},
     "output_type": "execute_result"
    },
    {
     "data": {
      "text/html": [
       "<ol class=list-inline>\n",
       "\t<li>1</li>\n",
       "\t<li>4</li>\n",
       "\t<li>8</li>\n",
       "</ol>\n"
      ],
      "text/latex": [
       "\\begin{enumerate*}\n",
       "\\item 1\n",
       "\\item 4\n",
       "\\item 8\n",
       "\\end{enumerate*}\n"
      ],
      "text/markdown": [
       "1. 1\n",
       "2. 4\n",
       "3. 8\n",
       "\n",
       "\n"
      ],
      "text/plain": [
       "[1] 1 4 8"
      ]
     },
     "execution_count": 136,
     "metadata": {},
     "output_type": "execute_result"
    },
    {
     "data": {
      "text/html": [
       "<ol class=list-inline>\n",
       "\t<li>TRUE</li>\n",
       "\t<li>FALSE</li>\n",
       "\t<li>TRUE</li>\n",
       "\t<li>FALSE</li>\n",
       "</ol>\n"
      ],
      "text/latex": [
       "\\begin{enumerate*}\n",
       "\\item TRUE\n",
       "\\item FALSE\n",
       "\\item TRUE\n",
       "\\item FALSE\n",
       "\\end{enumerate*}\n"
      ],
      "text/markdown": [
       "1. TRUE\n",
       "2. FALSE\n",
       "3. TRUE\n",
       "4. FALSE\n",
       "\n",
       "\n"
      ],
      "text/plain": [
       "[1]  TRUE FALSE  TRUE FALSE"
      ]
     },
     "execution_count": 136,
     "metadata": {},
     "output_type": "execute_result"
    },
    {
     "data": {
      "text/html": [
       "<ol class=list-inline>\n",
       "\t<li>'Python'</li>\n",
       "\t<li>'R'</li>\n",
       "</ol>\n"
      ],
      "text/latex": [
       "\\begin{enumerate*}\n",
       "\\item 'Python'\n",
       "\\item 'R'\n",
       "\\end{enumerate*}\n"
      ],
      "text/markdown": [
       "1. 'Python'\n",
       "2. 'R'\n",
       "\n",
       "\n"
      ],
      "text/plain": [
       "[1] \"Python\" \"R\"     "
      ]
     },
     "execution_count": 136,
     "metadata": {},
     "output_type": "execute_result"
    }
   ],
   "source": [
    "x <-c(1:10)\n",
    "\n",
    "doub_var <-c(1, 2.3, 5.6)    #Vectores double\n",
    "doub_var\n",
    "int_var<-c(1L, 4L, 8L)        #Vectores enteros\n",
    "int_var\n",
    "log_var <- c(TRUE, FALSE, T,F) # Vectores logicos\n",
    "log_var\n",
    "char_var<- c(\"Python\", \"R\")\n",
    "char_var"
   ]
  },
  {
   "cell_type": "code",
   "execution_count": 137,
   "metadata": {
    "collapsed": false
   },
   "outputs": [
    {
     "data": {
      "text/html": [
       "<ol class=list-inline>\n",
       "\t<li>1</li>\n",
       "\t<li>2</li>\n",
       "\t<li>3</li>\n",
       "\t<li>4</li>\n",
       "</ol>\n"
      ],
      "text/latex": [
       "\\begin{enumerate*}\n",
       "\\item 1\n",
       "\\item 2\n",
       "\\item 3\n",
       "\\item 4\n",
       "\\end{enumerate*}\n"
      ],
      "text/markdown": [
       "1. 1\n",
       "2. 2\n",
       "3. 3\n",
       "4. 4\n",
       "\n",
       "\n"
      ],
      "text/plain": [
       "[1] 1 2 3 4"
      ]
     },
     "execution_count": 137,
     "metadata": {},
     "output_type": "execute_result"
    },
    {
     "data": {
      "text/html": [
       "<ol class=list-inline>\n",
       "\t<li>1</li>\n",
       "\t<li>2</li>\n",
       "\t<li>3</li>\n",
       "\t<li>4</li>\n",
       "</ol>\n"
      ],
      "text/latex": [
       "\\begin{enumerate*}\n",
       "\\item 1\n",
       "\\item 2\n",
       "\\item 3\n",
       "\\item 4\n",
       "\\end{enumerate*}\n"
      ],
      "text/markdown": [
       "1. 1\n",
       "2. 2\n",
       "3. 3\n",
       "4. 4\n",
       "\n",
       "\n"
      ],
      "text/plain": [
       "[1] 1 2 3 4"
      ]
     },
     "execution_count": 137,
     "metadata": {},
     "output_type": "execute_result"
    }
   ],
   "source": [
    "#Siempre es posible hacer lo siguiente\n",
    "\n",
    "c(1,c(2,c(3,4))) # que es lo mismo que \n",
    "c(1,2,3,4)"
   ]
  },
  {
   "cell_type": "raw",
   "metadata": {},
   "source": [
    "NA (missing value) es un vector lógico de longitud 1. NA, siempre usa la coerción para ir de acuerdo al tipo correcto en c() o se pueden crear NA's con un tipo específico con NA_real_ , NA_integer_, NA_character_.\n"
   ]
  },
  {
   "cell_type": "markdown",
   "metadata": {},
   "source": [
    "Dado un vector, tu puedes determinar su tipo usando **typeof** o verificar si es un tipo específico, con las funciones\n",
    "\n",
    "1. is.character()\n",
    "2. is double()\n",
    "3. is.integer()\n",
    "4. is.logical()\n",
    "\n",
    "o más generalmente **is.atomic()**.\n",
    "\n"
   ]
  },
  {
   "cell_type": "code",
   "execution_count": 138,
   "metadata": {
    "collapsed": false
   },
   "outputs": [
    {
     "data": {
      "text/html": [
       "'integer'"
      ],
      "text/latex": [
       "'integer'"
      ],
      "text/markdown": [
       "'integer'"
      ],
      "text/plain": [
       "[1] \"integer\""
      ]
     },
     "execution_count": 138,
     "metadata": {},
     "output_type": "execute_result"
    },
    {
     "data": {
      "text/html": [
       "TRUE"
      ],
      "text/latex": [
       "TRUE"
      ],
      "text/markdown": [
       "TRUE"
      ],
      "text/plain": [
       "[1] TRUE"
      ]
     },
     "execution_count": 138,
     "metadata": {},
     "output_type": "execute_result"
    },
    {
     "data": {
      "text/html": [
       "TRUE"
      ],
      "text/latex": [
       "TRUE"
      ],
      "text/markdown": [
       "TRUE"
      ],
      "text/plain": [
       "[1] TRUE"
      ]
     },
     "execution_count": 138,
     "metadata": {},
     "output_type": "execute_result"
    }
   ],
   "source": [
    "int_var <- c(1L, 6L, 10L)\n",
    "typeof(int_var)\n",
    "is.integer(int_var)\n",
    "is.atomic(int_var)"
   ]
  },
  {
   "cell_type": "code",
   "execution_count": 139,
   "metadata": {
    "collapsed": false
   },
   "outputs": [
    {
     "data": {
      "text/html": [
       "'double'"
      ],
      "text/latex": [
       "'double'"
      ],
      "text/markdown": [
       "'double'"
      ],
      "text/plain": [
       "[1] \"double\""
      ]
     },
     "execution_count": 139,
     "metadata": {},
     "output_type": "execute_result"
    },
    {
     "data": {
      "text/html": [
       "TRUE"
      ],
      "text/latex": [
       "TRUE"
      ],
      "text/markdown": [
       "TRUE"
      ],
      "text/plain": [
       "[1] TRUE"
      ]
     },
     "execution_count": 139,
     "metadata": {},
     "output_type": "execute_result"
    },
    {
     "data": {
      "text/html": [
       "TRUE"
      ],
      "text/latex": [
       "TRUE"
      ],
      "text/markdown": [
       "TRUE"
      ],
      "text/plain": [
       "[1] TRUE"
      ]
     },
     "execution_count": 139,
     "metadata": {},
     "output_type": "execute_result"
    }
   ],
   "source": [
    "doub_var<-c(1, 3,5, 4,6)\n",
    "typeof(doub_var)\n",
    "is.double(doub_var)\n",
    "is.atomic(doub_var)"
   ]
  },
  {
   "cell_type": "markdown",
   "metadata": {},
   "source": [
    "\n",
    "### Agregando-eliminando elementos de un vector, Longitud de un vector"
   ]
  },
  {
   "cell_type": "code",
   "execution_count": 140,
   "metadata": {
    "collapsed": false
   },
   "outputs": [
    {
     "data": {
      "text/html": [
       "<ol class=list-inline>\n",
       "\t<li>12</li>\n",
       "\t<li>13</li>\n",
       "\t<li>26</li>\n",
       "\t<li>8</li>\n",
       "</ol>\n"
      ],
      "text/latex": [
       "\\begin{enumerate*}\n",
       "\\item 12\n",
       "\\item 13\n",
       "\\item 26\n",
       "\\item 8\n",
       "\\end{enumerate*}\n"
      ],
      "text/markdown": [
       "1. 12\n",
       "2. 13\n",
       "3. 26\n",
       "4. 8\n",
       "\n",
       "\n"
      ],
      "text/plain": [
       "[1] 12 13 26  8"
      ]
     },
     "execution_count": 140,
     "metadata": {},
     "output_type": "execute_result"
    },
    {
     "data": {
      "text/html": [
       "<ol class=list-inline>\n",
       "\t<li>12</li>\n",
       "\t<li>13</li>\n",
       "\t<li>26</li>\n",
       "\t<li>20</li>\n",
       "\t<li>8</li>\n",
       "</ol>\n"
      ],
      "text/latex": [
       "\\begin{enumerate*}\n",
       "\\item 12\n",
       "\\item 13\n",
       "\\item 26\n",
       "\\item 20\n",
       "\\item 8\n",
       "\\end{enumerate*}\n"
      ],
      "text/markdown": [
       "1. 12\n",
       "2. 13\n",
       "3. 26\n",
       "4. 20\n",
       "5. 8\n",
       "\n",
       "\n"
      ],
      "text/plain": [
       "[1] 12 13 26 20  8"
      ]
     },
     "execution_count": 140,
     "metadata": {},
     "output_type": "execute_result"
    }
   ],
   "source": [
    "# Agregando y eliminando elementos de los vectores\n",
    "\n",
    "x1 <-c(12, 13, 26, 8)\n",
    "x1\n",
    "x2<-c(x1[1:3], 20, x1[4]) # insertamos el 20 antes del 8\n",
    "x2"
   ]
  },
  {
   "cell_type": "code",
   "execution_count": 141,
   "metadata": {
    "collapsed": false
   },
   "outputs": [
    {
     "data": {
      "text/html": [
       "3"
      ],
      "text/latex": [
       "3"
      ],
      "text/markdown": [
       "3"
      ],
      "text/plain": [
       "[1] 3"
      ]
     },
     "execution_count": 141,
     "metadata": {},
     "output_type": "execute_result"
    }
   ],
   "source": [
    "# Obteniendo la longitud de un vector\n",
    "\n",
    "w <- c(3,5,6)\n",
    "length(w)"
   ]
  },
  {
   "cell_type": "code",
   "execution_count": 142,
   "metadata": {
    "collapsed": false
   },
   "outputs": [
    {
     "data": {
      "text/plain": [
       "NULL"
      ]
     },
     "execution_count": 142,
     "metadata": {},
     "output_type": "execute_result"
    },
    {
     "data": {
      "text/html": [
       "0"
      ],
      "text/latex": [
       "0"
      ],
      "text/markdown": [
       "0"
      ],
      "text/plain": [
       "[1] 0"
      ]
     },
     "execution_count": 142,
     "metadata": {},
     "output_type": "execute_result"
    },
    {
     "data": {
      "text/html": [
       "<ol class=list-inline>\n",
       "\t<li>1</li>\n",
       "\t<li>0</li>\n",
       "</ol>\n"
      ],
      "text/latex": [
       "\\begin{enumerate*}\n",
       "\\item 1\n",
       "\\item 0\n",
       "\\end{enumerate*}\n"
      ],
      "text/markdown": [
       "1. 1\n",
       "2. 0\n",
       "\n",
       "\n"
      ],
      "text/plain": [
       "[1] 1 0"
      ]
     },
     "execution_count": 142,
     "metadata": {},
     "output_type": "execute_result"
    }
   ],
   "source": [
    "# Observaciones con respecto a length\n",
    "\n",
    "q<- c()\n",
    "q\n",
    "length(q)\n",
    "1:length(q)  # !0 si el vector esta vacio"
   ]
  },
  {
   "cell_type": "markdown",
   "metadata": {},
   "source": [
    "## Declaraciones \n",
    "\n",
    "En los lenguajes compilados, normalmente se requiere que se declaren las variables, esta información es captado por el\n",
    "intérprete/compilador antes de utilizar las variables. Este es el caso de una declaración en C\n",
    "\n",
    "```c\n",
    "int z;\n",
    "int r[3];\n",
    "```\n",
    "\n",
    "Al igual que en  lenguajes interpretados, tales como Python o Perl, en R, tu no necesitas declarar las variables\n",
    "\n",
    "```python\n",
    "z <-3\n",
    "```"
   ]
  },
  {
   "cell_type": "markdown",
   "metadata": {},
   "source": [
    "Sin embargo, si tu referencias, a elementos de un vector,  debes tener cierto cuidado en R. \n",
    "Por ejemplo si tenemos, dos componentes de un vector con valores 5 y 13, lo siguiente no trabaja\n",
    "\n",
    "```python\n",
    "t[1] <- 5\n",
    "t[2] <- 13\n",
    "```\n",
    "\n",
    "En lugar de eso, tu puedes crear *y* primero, de esta forma por ejemplo\n",
    "\n",
    "```python\n",
    "t <- vector(length=2)\n",
    "t[1] <- 5\n",
    "t[2] <- 13\n",
    "```\n",
    "\n",
    "Lo siguiente trabaja también: `y <- c(5, 13)`"
   ]
  },
  {
   "cell_type": "code",
   "execution_count": 143,
   "metadata": {
    "collapsed": false
   },
   "outputs": [
    {
     "data": {
      "text/html": [
       "<ol class=list-inline>\n",
       "\t<li>1</li>\n",
       "\t<li>5</li>\n",
       "</ol>\n"
      ],
      "text/latex": [
       "\\begin{enumerate*}\n",
       "\\item 1\n",
       "\\item 5\n",
       "\\end{enumerate*}\n"
      ],
      "text/markdown": [
       "1. 1\n",
       "2. 5\n",
       "\n",
       "\n"
      ],
      "text/plain": [
       "[1] 1 5"
      ]
     },
     "execution_count": 143,
     "metadata": {},
     "output_type": "execute_result"
    }
   ],
   "source": [
    "# Esto también es válido, x es un puntero que apunta a\n",
    "# otro tipo de dato(c/c++) en diferentes tiempos\n",
    "\n",
    "x<-c(1,5)\n",
    "x\n",
    "x<-\"Elizabeth\""
   ]
  },
  {
   "cell_type": "markdown",
   "metadata": {},
   "source": [
    "### Recycling\n",
    "\n",
    "Qué está pasando con el vector de menor longitud, en el code anterior?.\n",
    "\n",
    "Rpta:\n",
    "R, está haciendo **recycling**  ese vector de manera que la operación continue. En el primer ejemplo, cero es\n",
    "agregado a cada número impar, mientras que 1 a los número pares. Si la longitud de los vectores no son\n",
    "múltiplos  R produce un warning, pero aun así produce un resultado."
   ]
  },
  {
   "cell_type": "code",
   "execution_count": 144,
   "metadata": {
    "collapsed": false
   },
   "outputs": [
    {
     "data": {
      "text/html": [
       "<ol class=list-inline>\n",
       "\t<li>12</li>\n",
       "\t<li>17</li>\n",
       "\t<li>22</li>\n",
       "</ol>\n"
      ],
      "text/latex": [
       "\\begin{enumerate*}\n",
       "\\item 12\n",
       "\\item 17\n",
       "\\item 22\n",
       "\\end{enumerate*}\n"
      ],
      "text/markdown": [
       "1. 12\n",
       "2. 17\n",
       "3. 22\n",
       "\n",
       "\n"
      ],
      "text/plain": [
       "[1] 12 17 22"
      ]
     },
     "execution_count": 144,
     "metadata": {},
     "output_type": "execute_result"
    },
    {
     "data": {
      "text/html": [
       "<ol class=list-inline>\n",
       "\t<li>14</li>\n",
       "\t<li>21</li>\n",
       "\t<li>28</li>\n",
       "</ol>\n"
      ],
      "text/latex": [
       "\\begin{enumerate*}\n",
       "\\item 14\n",
       "\\item 21\n",
       "\\item 28\n",
       "\\end{enumerate*}\n"
      ],
      "text/markdown": [
       "1. 14\n",
       "2. 21\n",
       "3. 28\n",
       "\n",
       "\n"
      ],
      "text/plain": [
       "[1] 14 21 28"
      ]
     },
     "execution_count": 144,
     "metadata": {},
     "output_type": "execute_result"
    }
   ],
   "source": [
    "x <- c(2,3,4)\n",
    "z1 <- 2 + 5*x\n",
    "z2 <- (2 + 5)*x\n",
    "z1\n",
    "z2\n"
   ]
  },
  {
   "cell_type": "markdown",
   "metadata": {},
   "source": [
    "Cuando aplicamos una operación a dos vectores, que requiere que tengan, la misma longitud, R automáticamente **recycle** o repite, el de menor longitud, hasta que pueda realizarse la operación."
   ]
  },
  {
   "cell_type": "code",
   "execution_count": 145,
   "metadata": {
    "collapsed": false
   },
   "outputs": [
    {
     "name": "stderr",
     "output_type": "stream",
     "text": [
      "Warning message:\n",
      "In c(2, 4, 6) + c(6, 9, 0, 20, 22): longitud de objeto mayor no es múltiplo de la longitud de uno menor"
     ]
    },
    {
     "data": {
      "text/html": [
       "<ol class=list-inline>\n",
       "\t<li>8</li>\n",
       "\t<li>13</li>\n",
       "\t<li>6</li>\n",
       "\t<li>22</li>\n",
       "\t<li>26</li>\n",
       "</ol>\n"
      ],
      "text/latex": [
       "\\begin{enumerate*}\n",
       "\\item 8\n",
       "\\item 13\n",
       "\\item 6\n",
       "\\item 22\n",
       "\\item 26\n",
       "\\end{enumerate*}\n"
      ],
      "text/markdown": [
       "1. 8\n",
       "2. 13\n",
       "3. 6\n",
       "4. 22\n",
       "5. 26\n",
       "\n",
       "\n"
      ],
      "text/plain": [
       "[1]  8 13  6 22 26"
      ]
     },
     "execution_count": 145,
     "metadata": {},
     "output_type": "execute_result"
    }
   ],
   "source": [
    "c(2,4,6) + c(6,9, 0,20, 22)"
   ]
  },
  {
   "cell_type": "markdown",
   "metadata": {},
   "source": [
    "El vector más pequeño, fue **reciclado**, asi la operación fue tomada como sigue:\n",
    "\n",
    "```c(2,4,6,2,4) + c(6,9,0, 20,22)\n",
    "```"
   ]
  },
  {
   "cell_type": "code",
   "execution_count": 146,
   "metadata": {
    "collapsed": false
   },
   "outputs": [
    {
     "data": {
      "text/html": [
       "<table>\n",
       "<tbody>\n",
       "\t<tr><td>1</td><td>4</td></tr>\n",
       "\t<tr><td>2</td><td>5</td></tr>\n",
       "\t<tr><td>3</td><td>6</td></tr>\n",
       "</tbody>\n",
       "</table>\n"
      ],
      "text/latex": [
       "\\begin{tabular}{ll}\n",
       "\t 1 & 4\\\\\n",
       "\t 2 & 5\\\\\n",
       "\t 3 & 6\\\\\n",
       "\\end{tabular}\n"
      ],
      "text/markdown": [
       "1. 1\n",
       "2. 2\n",
       "3. 3\n",
       "4. 4\n",
       "5. 5\n",
       "6. 6\n",
       "\n",
       "\n"
      ],
      "text/plain": [
       "     [,1] [,2]\n",
       "[1,]    1    4\n",
       "[2,]    2    5\n",
       "[3,]    3    6"
      ]
     },
     "execution_count": 146,
     "metadata": {},
     "output_type": "execute_result"
    }
   ],
   "source": [
    "zm <- matrix(1:6, ncol=2, nrow=3)\n",
    "zm\n"
   ]
  },
  {
   "cell_type": "code",
   "execution_count": 147,
   "metadata": {
    "collapsed": false
   },
   "outputs": [
    {
     "data": {
      "text/html": [
       "<table>\n",
       "<tbody>\n",
       "\t<tr><td>2</td><td>6</td></tr>\n",
       "\t<tr><td>4</td><td>6</td></tr>\n",
       "\t<tr><td>4</td><td>8</td></tr>\n",
       "</tbody>\n",
       "</table>\n"
      ],
      "text/latex": [
       "\\begin{tabular}{ll}\n",
       "\t 2 & 6\\\\\n",
       "\t 4 & 6\\\\\n",
       "\t 4 & 8\\\\\n",
       "\\end{tabular}\n"
      ],
      "text/markdown": [
       "1. 2\n",
       "2. 4\n",
       "3. 4\n",
       "4. 6\n",
       "5. 6\n",
       "6. 8\n",
       "\n",
       "\n"
      ],
      "text/plain": [
       "     [,1] [,2]\n",
       "[1,]    2    6\n",
       "[2,]    4    6\n",
       "[3,]    4    8"
      ]
     },
     "execution_count": 147,
     "metadata": {},
     "output_type": "execute_result"
    }
   ],
   "source": [
    "zm + c(1,2)"
   ]
  },
  {
   "cell_type": "markdown",
   "metadata": {},
   "source": [
    "En este caso, la forma de almacenar **zm** es la misma como si fuese un vector `c(1,2,3,4,5,6) `. Para realizar la operación de agregar  un vector de dos elementos a un vector de seis elementos, R, necesita repetir dos veces los elementos del vector más pequeño. En otras palabras se está haciendo lo siguiente\n",
    "\n",
    "`zm + c(1,2,1,2,1,2)`\n",
    "\n",
    "No sólo eso, sino, que `c(1,2,1,2,1,2) `cambia desde un vector a una matriz, teniendo la misma forma de **zm** antes de que la suma a tenido lugar.\n"
   ]
  },
  {
   "cell_type": "markdown",
   "metadata": {},
   "source": [
    "# Operaciones con Vectores"
   ]
  },
  {
   "cell_type": "markdown",
   "metadata": {},
   "source": [
    "## Aritmética de Vectores y Operaciones Lógicas\n",
    "\n",
    "Al ser R un lenguaje de tipo funcional, cada operador incluyendo *+*, u otros  es una función.\n",
    "\n"
   ]
  },
  {
   "cell_type": "code",
   "execution_count": 148,
   "metadata": {
    "collapsed": false
   },
   "outputs": [
    {
     "data": {
      "text/html": [
       "5"
      ],
      "text/latex": [
       "5"
      ],
      "text/markdown": [
       "5"
      ],
      "text/plain": [
       "[1] 5"
      ]
     },
     "execution_count": 148,
     "metadata": {},
     "output_type": "execute_result"
    },
    {
     "data": {
      "text/html": [
       "7"
      ],
      "text/latex": [
       "7"
      ],
      "text/markdown": [
       "7"
      ],
      "text/plain": [
       "[1] 7"
      ]
     },
     "execution_count": 148,
     "metadata": {},
     "output_type": "execute_result"
    }
   ],
   "source": [
    "2 + 3\n",
    "\"+\"(3,4)"
   ]
  },
  {
   "cell_type": "code",
   "execution_count": 149,
   "metadata": {
    "collapsed": false
   },
   "outputs": [
    {
     "data": {
      "text/html": [
       "<ol class=list-inline>\n",
       "\t<li>6</li>\n",
       "\t<li>2</li>\n",
       "\t<li>6</li>\n",
       "</ol>\n"
      ],
      "text/latex": [
       "\\begin{enumerate*}\n",
       "\\item 6\n",
       "\\item 2\n",
       "\\item 6\n",
       "\\end{enumerate*}\n"
      ],
      "text/markdown": [
       "1. 6\n",
       "2. 2\n",
       "3. 6\n",
       "\n",
       "\n"
      ],
      "text/plain": [
       "[1] 6 2 6"
      ]
     },
     "execution_count": 149,
     "metadata": {},
     "output_type": "execute_result"
    }
   ],
   "source": [
    "x <-c(1,2,5)\n",
    "x + c(5,0,1)"
   ]
  },
  {
   "cell_type": "code",
   "execution_count": 150,
   "metadata": {
    "collapsed": false
   },
   "outputs": [
    {
     "data": {
      "text/html": [
       "<ol class=list-inline>\n",
       "\t<li>5</li>\n",
       "\t<li>0</li>\n",
       "\t<li>-5</li>\n",
       "</ol>\n"
      ],
      "text/latex": [
       "\\begin{enumerate*}\n",
       "\\item 5\n",
       "\\item 0\n",
       "\\item -5\n",
       "\\end{enumerate*}\n"
      ],
      "text/markdown": [
       "1. 5\n",
       "2. 0\n",
       "3. -5\n",
       "\n",
       "\n"
      ],
      "text/plain": [
       "[1]  5  0 -5"
      ]
     },
     "execution_count": 150,
     "metadata": {},
     "output_type": "execute_result"
    },
    {
     "data": {
      "text/html": [
       "<ol class=list-inline>\n",
       "\t<li>1</li>\n",
       "\t<li>1</li>\n",
       "\t<li>1</li>\n",
       "</ol>\n"
      ],
      "text/latex": [
       "\\begin{enumerate*}\n",
       "\\item 1\n",
       "\\item 1\n",
       "\\item 1\n",
       "\\end{enumerate*}\n"
      ],
      "text/markdown": [
       "1. 1\n",
       "2. 1\n",
       "3. 1\n",
       "\n",
       "\n"
      ],
      "text/plain": [
       "[1] 1 1 1"
      ]
     },
     "execution_count": 150,
     "metadata": {},
     "output_type": "execute_result"
    },
    {
     "data": {
      "text/html": [
       "<ol class=list-inline>\n",
       "\t<li>3</li>\n",
       "\t<li>2</li>\n",
       "\t<li>0</li>\n",
       "</ol>\n"
      ],
      "text/latex": [
       "\\begin{enumerate*}\n",
       "\\item 3\n",
       "\\item 2\n",
       "\\item 0\n",
       "\\end{enumerate*}\n"
      ],
      "text/markdown": [
       "1. 3\n",
       "2. 2\n",
       "3. 0\n",
       "\n",
       "\n"
      ],
      "text/plain": [
       "[1] 3 2 0"
      ]
     },
     "execution_count": 150,
     "metadata": {},
     "output_type": "execute_result"
    }
   ],
   "source": [
    "x * c(5, 0,-1)  # Multiplicacion elemento a elemento\n",
    "y <- c(3,5,6)\n",
    "y / c(3,5,6)\n",
    "y %% c(4,3,2)"
   ]
  },
  {
   "cell_type": "markdown",
   "metadata": {},
   "source": [
    "### Coerción "
   ]
  },
  {
   "cell_type": "markdown",
   "metadata": {},
   "source": [
    "Todos los elementos de un vector atómico deben ser del mismo tipo, por lo que cuando se intenta combinar diferentes tipos serán coaccionados para el tipo más flexible. \n",
    "Tipos de menos a más flexibles son: lógico, número, flotante  y de carácter. Por ejemplo, combinar un caracter y un número produce un caracter."
   ]
  },
  {
   "cell_type": "code",
   "execution_count": 151,
   "metadata": {
    "collapsed": false
   },
   "outputs": [
    {
     "name": "stdout",
     "output_type": "stream",
     "text": [
      " chr [1:2] \"Eli\" \"3\"\n"
     ]
    }
   ],
   "source": [
    "str(c(\"Eli\", 3))"
   ]
  },
  {
   "cell_type": "markdown",
   "metadata": {},
   "source": [
    "Cuando un vector lógico es coercionado a un entero o double. TRUE llega a ser 1 y FALSE llega a ser 0. \n",
    "Esto es útil cuando utilizamos **sum()** y **mean()**."
   ]
  },
  {
   "cell_type": "code",
   "execution_count": 152,
   "metadata": {
    "collapsed": false
   },
   "outputs": [
    {
     "data": {
      "text/html": [
       "<ol class=list-inline>\n",
       "\t<li>0</li>\n",
       "\t<li>1</li>\n",
       "\t<li>0</li>\n",
       "</ol>\n"
      ],
      "text/latex": [
       "\\begin{enumerate*}\n",
       "\\item 0\n",
       "\\item 1\n",
       "\\item 0\n",
       "\\end{enumerate*}\n"
      ],
      "text/markdown": [
       "1. 0\n",
       "2. 1\n",
       "3. 0\n",
       "\n",
       "\n"
      ],
      "text/plain": [
       "[1] 0 1 0"
      ]
     },
     "execution_count": 152,
     "metadata": {},
     "output_type": "execute_result"
    },
    {
     "data": {
      "text/html": [
       "1"
      ],
      "text/latex": [
       "1"
      ],
      "text/markdown": [
       "1"
      ],
      "text/plain": [
       "[1] 1"
      ]
     },
     "execution_count": 152,
     "metadata": {},
     "output_type": "execute_result"
    },
    {
     "data": {
      "text/html": [
       "0.333333333333333"
      ],
      "text/latex": [
       "0.333333333333333"
      ],
      "text/markdown": [
       "0.333333333333333"
      ],
      "text/plain": [
       "[1] 0.3333333"
      ]
     },
     "execution_count": 152,
     "metadata": {},
     "output_type": "execute_result"
    }
   ],
   "source": [
    "u <- c(FALSE, TRUE, FALSE)\n",
    "as.numeric(u)\n",
    "\n",
    "sum(u)\n",
    "\n",
    "mean(u)"
   ]
  },
  {
   "cell_type": "markdown",
   "metadata": {},
   "source": [
    "La coerción a menudo sucede automáticamente. La mayoría de las funciones matemáticas (+, log, abs, etc.) serán coaccionadas  a  operaciones enteros o flotantes, y las operaciones lógicas (&, |, any, etc) se coaccionan a un\n",
    "tipo lógico. En  general, recibirá un mensaje de advertencia si en la coerción se pierde  información. Si la confusión es probable, se coacciona explícitamente con as.character(), as.double(), as.integer(), o as.logical()."
   ]
  },
  {
   "cell_type": "code",
   "execution_count": 153,
   "metadata": {
    "collapsed": false
   },
   "outputs": [
    {
     "data": {
      "text/html": [
       "<ol class=list-inline>\n",
       "\t<li>1</li>\n",
       "\t<li>2</li>\n",
       "\t<li>1</li>\n",
       "\t<li>0</li>\n",
       "\t<li>1</li>\n",
       "</ol>\n"
      ],
      "text/latex": [
       "\\begin{enumerate*}\n",
       "\\item 1\n",
       "\\item 2\n",
       "\\item 1\n",
       "\\item 0\n",
       "\\item 1\n",
       "\\end{enumerate*}\n"
      ],
      "text/markdown": [
       "1. 1\n",
       "2. 2\n",
       "3. 1\n",
       "4. 0\n",
       "5. 1\n",
       "\n",
       "\n"
      ],
      "text/plain": [
       "[1] 1 2 1 0 1"
      ]
     },
     "execution_count": 153,
     "metadata": {},
     "output_type": "execute_result"
    },
    {
     "data": {
      "text/html": [
       "<ol class=list-inline>\n",
       "\t<li>'1.2'</li>\n",
       "\t<li>'2'</li>\n",
       "\t<li>'3'</li>\n",
       "\t<li>'2'</li>\n",
       "\t<li>'TRUE'</li>\n",
       "\t<li>'FALSE'</li>\n",
       "\t<li>'TRUE'</li>\n",
       "</ol>\n"
      ],
      "text/latex": [
       "\\begin{enumerate*}\n",
       "\\item '1.2'\n",
       "\\item '2'\n",
       "\\item '3'\n",
       "\\item '2'\n",
       "\\item 'TRUE'\n",
       "\\item 'FALSE'\n",
       "\\item 'TRUE'\n",
       "\\end{enumerate*}\n"
      ],
      "text/markdown": [
       "1. '1.2'\n",
       "2. '2'\n",
       "3. '3'\n",
       "4. '2'\n",
       "5. 'TRUE'\n",
       "6. 'FALSE'\n",
       "7. 'TRUE'\n",
       "\n",
       "\n"
      ],
      "text/plain": [
       "[1] \"1.2\"   \"2\"     \"3\"     \"2\"     \"TRUE\"  \"FALSE\" \"TRUE\" "
      ]
     },
     "execution_count": 153,
     "metadata": {},
     "output_type": "execute_result"
    },
    {
     "data": {
      "text/html": [
       "<ol class=list-inline>\n",
       "\t<li>2</li>\n",
       "\t<li>1</li>\n",
       "\t<li>2</li>\n",
       "</ol>\n"
      ],
      "text/latex": [
       "\\begin{enumerate*}\n",
       "\\item 2\n",
       "\\item 1\n",
       "\\item 2\n",
       "\\end{enumerate*}\n"
      ],
      "text/markdown": [
       "1. 2\n",
       "2. 1\n",
       "3. 2\n",
       "\n",
       "\n"
      ],
      "text/plain": [
       "[1] 2 1 2"
      ]
     },
     "execution_count": 153,
     "metadata": {},
     "output_type": "execute_result"
    },
    {
     "data": {
      "text/html": [
       "<ol class=list-inline>\n",
       "\t<li>'1.2'</li>\n",
       "\t<li>'2'</li>\n",
       "\t<li>'3'</li>\n",
       "\t<li>'2'</li>\n",
       "</ol>\n"
      ],
      "text/latex": [
       "\\begin{enumerate*}\n",
       "\\item '1.2'\n",
       "\\item '2'\n",
       "\\item '3'\n",
       "\\item '2'\n",
       "\\end{enumerate*}\n"
      ],
      "text/markdown": [
       "1. '1.2'\n",
       "2. '2'\n",
       "3. '3'\n",
       "4. '2'\n",
       "\n",
       "\n"
      ],
      "text/plain": [
       "[1] \"1.2\" \"2\"   \"3\"   \"2\"  "
      ]
     },
     "execution_count": 153,
     "metadata": {},
     "output_type": "execute_result"
    },
    {
     "data": {
      "text/html": [
       "<ol class=list-inline>\n",
       "\t<li>1.2</li>\n",
       "\t<li>3</li>\n",
       "\t<li>5</li>\n",
       "\t<li>6</li>\n",
       "</ol>\n"
      ],
      "text/latex": [
       "\\begin{enumerate*}\n",
       "\\item 1.2\n",
       "\\item 3\n",
       "\\item 5\n",
       "\\item 6\n",
       "\\end{enumerate*}\n"
      ],
      "text/markdown": [
       "1. 1.2\n",
       "2. 3\n",
       "3. 5\n",
       "4. 6\n",
       "\n",
       "\n"
      ],
      "text/plain": [
       "[1] 1.2 3.0 5.0 6.0"
      ]
     },
     "execution_count": 153,
     "metadata": {},
     "output_type": "execute_result"
    }
   ],
   "source": [
    "z<-c(TRUE, FALSE, TRUE)\n",
    "c(1,2, z)\n",
    "\n",
    "z1 <-c(\"2\",\"3\", \"2\")\n",
    "c(1.2, z1, z)\n",
    " 1 + z\n",
    "c(1.2, z1)\n",
    "c(1.2, as.numeric(y))"
   ]
  },
  {
   "cell_type": "markdown",
   "metadata": {},
   "source": [
    "### El operador :"
   ]
  },
  {
   "cell_type": "markdown",
   "metadata": {},
   "source": [
    "Hay algunos operadores en R, que son útiles para la creación de vectores. **El operador :** produce un vector consistiendo de un rango de números. Una manera de ver este operador es a através de la expresión de bucle\n",
    "\n",
    "```\n",
    "for(i in 1:length(x)){\n",
    "```\n",
    "\n",
    "Una observación importante, del libro de Norman Matloff, es acerca del manejo de procedencia del operador. Mostremos algunos ejemplos del uso del operador y de la observación anterior"
   ]
  },
  {
   "cell_type": "code",
   "execution_count": 154,
   "metadata": {
    "collapsed": false
   },
   "outputs": [
    {
     "data": {
      "text/html": [
       "<ol class=list-inline>\n",
       "\t<li>2</li>\n",
       "\t<li>3</li>\n",
       "\t<li>4</li>\n",
       "\t<li>5</li>\n",
       "\t<li>6</li>\n",
       "\t<li>7</li>\n",
       "\t<li>8</li>\n",
       "\t<li>9</li>\n",
       "\t<li>10</li>\n",
       "\t<li>11</li>\n",
       "\t<li>12</li>\n",
       "\t<li>13</li>\n",
       "</ol>\n"
      ],
      "text/latex": [
       "\\begin{enumerate*}\n",
       "\\item 2\n",
       "\\item 3\n",
       "\\item 4\n",
       "\\item 5\n",
       "\\item 6\n",
       "\\item 7\n",
       "\\item 8\n",
       "\\item 9\n",
       "\\item 10\n",
       "\\item 11\n",
       "\\item 12\n",
       "\\item 13\n",
       "\\end{enumerate*}\n"
      ],
      "text/markdown": [
       "1. 2\n",
       "2. 3\n",
       "3. 4\n",
       "4. 5\n",
       "5. 6\n",
       "6. 7\n",
       "7. 8\n",
       "8. 9\n",
       "9. 10\n",
       "10. 11\n",
       "11. 12\n",
       "12. 13\n",
       "\n",
       "\n"
      ],
      "text/plain": [
       " [1]  2  3  4  5  6  7  8  9 10 11 12 13"
      ]
     },
     "execution_count": 154,
     "metadata": {},
     "output_type": "execute_result"
    },
    {
     "data": {
      "text/html": [
       "<ol class=list-inline>\n",
       "\t<li>12</li>\n",
       "\t<li>11</li>\n",
       "\t<li>10</li>\n",
       "\t<li>9</li>\n",
       "\t<li>8</li>\n",
       "\t<li>7</li>\n",
       "\t<li>6</li>\n",
       "\t<li>5</li>\n",
       "\t<li>4</li>\n",
       "</ol>\n"
      ],
      "text/latex": [
       "\\begin{enumerate*}\n",
       "\\item 12\n",
       "\\item 11\n",
       "\\item 10\n",
       "\\item 9\n",
       "\\item 8\n",
       "\\item 7\n",
       "\\item 6\n",
       "\\item 5\n",
       "\\item 4\n",
       "\\end{enumerate*}\n"
      ],
      "text/markdown": [
       "1. 12\n",
       "2. 11\n",
       "3. 10\n",
       "4. 9\n",
       "5. 8\n",
       "6. 7\n",
       "7. 6\n",
       "8. 5\n",
       "9. 4\n",
       "\n",
       "\n"
      ],
      "text/plain": [
       "[1] 12 11 10  9  8  7  6  5  4"
      ]
     },
     "execution_count": 154,
     "metadata": {},
     "output_type": "execute_result"
    }
   ],
   "source": [
    "2: 13\n",
    "12: 4"
   ]
  },
  {
   "cell_type": "code",
   "execution_count": 155,
   "metadata": {
    "collapsed": false
   },
   "outputs": [
    {
     "data": {
      "text/html": [
       "<ol class=list-inline>\n",
       "\t<li>0</li>\n",
       "\t<li>1</li>\n",
       "\t<li>2</li>\n",
       "\t<li>3</li>\n",
       "\t<li>4</li>\n",
       "</ol>\n"
      ],
      "text/latex": [
       "\\begin{enumerate*}\n",
       "\\item 0\n",
       "\\item 1\n",
       "\\item 2\n",
       "\\item 3\n",
       "\\item 4\n",
       "\\end{enumerate*}\n"
      ],
      "text/markdown": [
       "1. 0\n",
       "2. 1\n",
       "3. 2\n",
       "4. 3\n",
       "5. 4\n",
       "\n",
       "\n"
      ],
      "text/plain": [
       "[1] 0 1 2 3 4"
      ]
     },
     "execution_count": 155,
     "metadata": {},
     "output_type": "execute_result"
    },
    {
     "data": {
      "text/html": [
       "<ol class=list-inline>\n",
       "\t<li>1</li>\n",
       "\t<li>2</li>\n",
       "\t<li>3</li>\n",
       "\t<li>4</li>\n",
       "</ol>\n"
      ],
      "text/latex": [
       "\\begin{enumerate*}\n",
       "\\item 1\n",
       "\\item 2\n",
       "\\item 3\n",
       "\\item 4\n",
       "\\end{enumerate*}\n"
      ],
      "text/markdown": [
       "1. 1\n",
       "2. 2\n",
       "3. 3\n",
       "4. 4\n",
       "\n",
       "\n"
      ],
      "text/plain": [
       "[1] 1 2 3 4"
      ]
     },
     "execution_count": 155,
     "metadata": {},
     "output_type": "execute_result"
    }
   ],
   "source": [
    "i <- 5\n",
    "1: i-1 # Esto significa (1:i) - 1, no 1:(i -1)\n",
    "1:(i -1)"
   ]
  },
  {
   "cell_type": "markdown",
   "metadata": {},
   "source": [
    "### Generando Secuencia Vectores con seq()"
   ]
  },
  {
   "cell_type": "markdown",
   "metadata": {},
   "source": [
    "Una generalización de **:** es  la función **seq()** **(sequence)**, que genera una secuencia en progresión aritmética.\n",
    "Por ejemplo, mientras `4:8 ` mostraba un vector `(4, 5, 6, 7,8)`, con los elementos espaciados una unidad, \n",
    "podemos generalizar esto usando **seq()**. Veamos algunos ejemplos"
   ]
  },
  {
   "cell_type": "code",
   "execution_count": 156,
   "metadata": {
    "collapsed": false
   },
   "outputs": [
    {
     "data": {
      "text/html": [
       "<ol class=list-inline>\n",
       "\t<li>3</li>\n",
       "\t<li>6</li>\n",
       "\t<li>9</li>\n",
       "\t<li>12</li>\n",
       "\t<li>15</li>\n",
       "</ol>\n"
      ],
      "text/latex": [
       "\\begin{enumerate*}\n",
       "\\item 3\n",
       "\\item 6\n",
       "\\item 9\n",
       "\\item 12\n",
       "\\item 15\n",
       "\\end{enumerate*}\n"
      ],
      "text/markdown": [
       "1. 3\n",
       "2. 6\n",
       "3. 9\n",
       "4. 12\n",
       "5. 15\n",
       "\n",
       "\n"
      ],
      "text/plain": [
       "[1]  3  6  9 12 15"
      ]
     },
     "execution_count": 156,
     "metadata": {},
     "output_type": "execute_result"
    }
   ],
   "source": [
    "seq(from=3, to=15, by=3)"
   ]
  },
  {
   "cell_type": "code",
   "execution_count": 157,
   "metadata": {
    "collapsed": false
   },
   "outputs": [
    {
     "data": {
      "text/html": [
       "<ol class=list-inline>\n",
       "\t<li>0.1</li>\n",
       "\t<li>0.2</li>\n",
       "\t<li>0.3</li>\n",
       "\t<li>0.4</li>\n",
       "\t<li>0.5</li>\n",
       "\t<li>0.6</li>\n",
       "\t<li>0.7</li>\n",
       "\t<li>0.8</li>\n",
       "\t<li>0.9</li>\n",
       "\t<li>1</li>\n",
       "</ol>\n"
      ],
      "text/latex": [
       "\\begin{enumerate*}\n",
       "\\item 0.1\n",
       "\\item 0.2\n",
       "\\item 0.3\n",
       "\\item 0.4\n",
       "\\item 0.5\n",
       "\\item 0.6\n",
       "\\item 0.7\n",
       "\\item 0.8\n",
       "\\item 0.9\n",
       "\\item 1\n",
       "\\end{enumerate*}\n"
      ],
      "text/markdown": [
       "1. 0.1\n",
       "2. 0.2\n",
       "3. 0.3\n",
       "4. 0.4\n",
       "5. 0.5\n",
       "6. 0.6\n",
       "7. 0.7\n",
       "8. 0.8\n",
       "9. 0.9\n",
       "10. 1\n",
       "\n",
       "\n"
      ],
      "text/plain": [
       " [1] 0.1 0.2 0.3 0.4 0.5 0.6 0.7 0.8 0.9 1.0"
      ]
     },
     "execution_count": 157,
     "metadata": {},
     "output_type": "execute_result"
    }
   ],
   "source": [
    "# El espaciado puede no ser un entero\n",
    "\n",
    "seq(from = 0.1, to=1, length =10)"
   ]
  },
  {
   "cell_type": "markdown",
   "metadata": {},
   "source": [
    "Supongamos que tenemos, esta función y **x** es vacio, entonces este bucle no deberia, producir iteraciones,\n",
    "pero tiene dos, desde que `1:legth(x)` evalua a `(1,0)`.\n",
    "\n",
    "```\n",
    "\n",
    "f1 <- function(x) {\n",
    "for (i in 1:length(x)) {\n",
    "if (x[i] == 1) break # salir del bucle\n",
    "}\n",
    "return(i)\n",
    "}\n",
    "\n",
    "```\n",
    "Podemos fijar esto, escribiendo  la siguiente declaración como sigue, en el script anterior como sigue\n",
    "\n",
    "` for (i in seq(x))`\n",
    "\n",
    "Veamos como funciona esto, hagamos una prueba a **seq()**:"
   ]
  },
  {
   "cell_type": "code",
   "execution_count": 158,
   "metadata": {
    "collapsed": false
   },
   "outputs": [
    {
     "data": {
      "text/html": [
       "<ol class=list-inline>\n",
       "\t<li>5</li>\n",
       "\t<li>12</li>\n",
       "\t<li>13</li>\n",
       "</ol>\n"
      ],
      "text/latex": [
       "\\begin{enumerate*}\n",
       "\\item 5\n",
       "\\item 12\n",
       "\\item 13\n",
       "\\end{enumerate*}\n"
      ],
      "text/markdown": [
       "1. 5\n",
       "2. 12\n",
       "3. 13\n",
       "\n",
       "\n"
      ],
      "text/plain": [
       "[1]  5 12 13"
      ]
     },
     "execution_count": 158,
     "metadata": {},
     "output_type": "execute_result"
    },
    {
     "data": {
      "text/html": [
       "<ol class=list-inline>\n",
       "\t<li>1</li>\n",
       "\t<li>2</li>\n",
       "\t<li>3</li>\n",
       "</ol>\n"
      ],
      "text/latex": [
       "\\begin{enumerate*}\n",
       "\\item 1\n",
       "\\item 2\n",
       "\\item 3\n",
       "\\end{enumerate*}\n"
      ],
      "text/markdown": [
       "1. 1\n",
       "2. 2\n",
       "3. 3\n",
       "\n",
       "\n"
      ],
      "text/plain": [
       "[1] 1 2 3"
      ]
     },
     "execution_count": 158,
     "metadata": {},
     "output_type": "execute_result"
    },
    {
     "data": {
      "text/plain": [
       "NULL"
      ]
     },
     "execution_count": 158,
     "metadata": {},
     "output_type": "execute_result"
    },
    {
     "data": {
      "text/html": [
       "<ol class=list-inline>\n",
       "</ol>\n"
      ],
      "text/latex": [
       "\\begin{enumerate*}\n",
       "\\end{enumerate*}\n"
      ],
      "text/markdown": [
       "\n",
       "\n"
      ],
      "text/plain": [
       "integer(0)"
      ]
     },
     "execution_count": 158,
     "metadata": {},
     "output_type": "execute_result"
    }
   ],
   "source": [
    "x <- c(5,12,13)\n",
    "x\n",
    "seq(x)\n",
    "x<-NULL\n",
    "x\n",
    "seq(x)"
   ]
  },
  {
   "cell_type": "markdown",
   "metadata": {},
   "source": [
    "`seq(x)` nos da el mismo resultado que `1:length(x)`, si **x** no es vacío, pero evalúa correctamente a `NULL` si **x** es vacío, resultando en cero iteraciones, como se muestra en el ejemplo anterior."
   ]
  },
  {
   "cell_type": "markdown",
   "metadata": {
    "collapsed": false
   },
   "source": [
    "?seq"
   ]
  },
  {
   "cell_type": "markdown",
   "metadata": {},
   "source": [
    "### Usando la función rep()"
   ]
  },
  {
   "cell_type": "markdown",
   "metadata": {},
   "source": [
    "La función **rep()** o **(repeat)** nos permite de manera conveniente colocar un vector constante varias veces. \n",
    "Una forma de usar esta función es `rep(x, n)`, que crea un vector de ** n\\*length(x)** elementos, esto es **n** copias de **x**. Algunos ejemplo  "
   ]
  },
  {
   "cell_type": "code",
   "execution_count": 159,
   "metadata": {
    "collapsed": false
   },
   "outputs": [
    {
     "data": {
      "text/html": [
       "<ol class=list-inline>\n",
       "\t<li>5</li>\n",
       "\t<li>5</li>\n",
       "\t<li>5</li>\n",
       "</ol>\n"
      ],
      "text/latex": [
       "\\begin{enumerate*}\n",
       "\\item 5\n",
       "\\item 5\n",
       "\\item 5\n",
       "\\end{enumerate*}\n"
      ],
      "text/markdown": [
       "1. 5\n",
       "2. 5\n",
       "3. 5\n",
       "\n",
       "\n"
      ],
      "text/plain": [
       "[1] 5 5 5"
      ]
     },
     "execution_count": 159,
     "metadata": {},
     "output_type": "execute_result"
    },
    {
     "data": {
      "text/html": [
       "<ol class=list-inline>\n",
       "\t<li>1</li>\n",
       "\t<li>2</li>\n",
       "\t<li>3</li>\n",
       "\t<li>1</li>\n",
       "\t<li>2</li>\n",
       "\t<li>3</li>\n",
       "\t<li>1</li>\n",
       "\t<li>2</li>\n",
       "\t<li>3</li>\n",
       "\t<li>1</li>\n",
       "\t<li>2</li>\n",
       "\t<li>3</li>\n",
       "</ol>\n"
      ],
      "text/latex": [
       "\\begin{enumerate*}\n",
       "\\item 1\n",
       "\\item 2\n",
       "\\item 3\n",
       "\\item 1\n",
       "\\item 2\n",
       "\\item 3\n",
       "\\item 1\n",
       "\\item 2\n",
       "\\item 3\n",
       "\\item 1\n",
       "\\item 2\n",
       "\\item 3\n",
       "\\end{enumerate*}\n"
      ],
      "text/markdown": [
       "1. 1\n",
       "2. 2\n",
       "3. 3\n",
       "4. 1\n",
       "5. 2\n",
       "6. 3\n",
       "7. 1\n",
       "8. 2\n",
       "9. 3\n",
       "10. 1\n",
       "11. 2\n",
       "12. 3\n",
       "\n",
       "\n"
      ],
      "text/plain": [
       " [1] 1 2 3 1 2 3 1 2 3 1 2 3"
      ]
     },
     "execution_count": 159,
     "metadata": {},
     "output_type": "execute_result"
    },
    {
     "data": {
      "text/html": [
       "<ol class=list-inline>\n",
       "\t<li>1</li>\n",
       "\t<li>2</li>\n",
       "\t<li>3</li>\n",
       "\t<li>1</li>\n",
       "\t<li>2</li>\n",
       "\t<li>3</li>\n",
       "\t<li>1</li>\n",
       "\t<li>2</li>\n",
       "\t<li>3</li>\n",
       "</ol>\n"
      ],
      "text/latex": [
       "\\begin{enumerate*}\n",
       "\\item 1\n",
       "\\item 2\n",
       "\\item 3\n",
       "\\item 1\n",
       "\\item 2\n",
       "\\item 3\n",
       "\\item 1\n",
       "\\item 2\n",
       "\\item 3\n",
       "\\end{enumerate*}\n"
      ],
      "text/markdown": [
       "1. 1\n",
       "2. 2\n",
       "3. 3\n",
       "4. 1\n",
       "5. 2\n",
       "6. 3\n",
       "7. 1\n",
       "8. 2\n",
       "9. 3\n",
       "\n",
       "\n"
      ],
      "text/plain": [
       "[1] 1 2 3 1 2 3 1 2 3"
      ]
     },
     "execution_count": 159,
     "metadata": {},
     "output_type": "execute_result"
    }
   ],
   "source": [
    "q <- rep(5, 3)\n",
    "q\n",
    "rep(c(1,2,3), 4)\n",
    "rep(1:3, 3)"
   ]
  },
  {
   "cell_type": "markdown",
   "metadata": {
    "collapsed": false
   },
   "source": [
    " Más información de la función \n",
    "\n",
    "?rep"
   ]
  },
  {
   "cell_type": "markdown",
   "metadata": {},
   "source": [
    "Si observas, la documentación, de la función hay un argumento llamado `each` que intercala las copias de **x** o en el uso de la creación de matrices"
   ]
  },
  {
   "cell_type": "code",
   "execution_count": 160,
   "metadata": {
    "collapsed": false
   },
   "outputs": [
    {
     "data": {
      "text/html": [
       "<ol class=list-inline>\n",
       "\t<li>3</li>\n",
       "\t<li>3</li>\n",
       "\t<li>4</li>\n",
       "\t<li>4</li>\n",
       "\t<li>5</li>\n",
       "\t<li>5</li>\n",
       "</ol>\n"
      ],
      "text/latex": [
       "\\begin{enumerate*}\n",
       "\\item 3\n",
       "\\item 3\n",
       "\\item 4\n",
       "\\item 4\n",
       "\\item 5\n",
       "\\item 5\n",
       "\\end{enumerate*}\n"
      ],
      "text/markdown": [
       "1. 3\n",
       "2. 3\n",
       "3. 4\n",
       "4. 4\n",
       "5. 5\n",
       "6. 5\n",
       "\n",
       "\n"
      ],
      "text/plain": [
       "[1] 3 3 4 4 5 5"
      ]
     },
     "execution_count": 160,
     "metadata": {},
     "output_type": "execute_result"
    }
   ],
   "source": [
    "rep(c(3,4,5), each = 2)"
   ]
  },
  {
   "cell_type": "code",
   "execution_count": 161,
   "metadata": {
    "collapsed": false
   },
   "outputs": [
    {
     "data": {
      "text/html": [
       "<table>\n",
       "<tbody>\n",
       "\t<tr><td> 1</td><td>11</td><td> 1</td><td>11</td></tr>\n",
       "\t<tr><td> 2</td><td>12</td><td> 2</td><td>12</td></tr>\n",
       "\t<tr><td> 3</td><td>13</td><td> 3</td><td>13</td></tr>\n",
       "\t<tr><td> 4</td><td>14</td><td> 4</td><td>14</td></tr>\n",
       "\t<tr><td> 5</td><td>15</td><td> 5</td><td>15</td></tr>\n",
       "\t<tr><td> 6</td><td>16</td><td> 6</td><td>16</td></tr>\n",
       "\t<tr><td> 7</td><td>17</td><td> 7</td><td>17</td></tr>\n",
       "\t<tr><td> 8</td><td>18</td><td> 8</td><td>18</td></tr>\n",
       "\t<tr><td> 9</td><td>19</td><td> 9</td><td>19</td></tr>\n",
       "\t<tr><td>10</td><td>20</td><td>10</td><td>20</td></tr>\n",
       "</tbody>\n",
       "</table>\n"
      ],
      "text/latex": [
       "\\begin{tabular}{llll}\n",
       "\t  1 & 11 &  1 & 11\\\\\n",
       "\t  2 & 12 &  2 & 12\\\\\n",
       "\t  3 & 13 &  3 & 13\\\\\n",
       "\t  4 & 14 &  4 & 14\\\\\n",
       "\t  5 & 15 &  5 & 15\\\\\n",
       "\t  6 & 16 &  6 & 16\\\\\n",
       "\t  7 & 17 &  7 & 17\\\\\n",
       "\t  8 & 18 &  8 & 18\\\\\n",
       "\t  9 & 19 &  9 & 19\\\\\n",
       "\t 10 & 20 & 10 & 20\\\\\n",
       "\\end{tabular}\n"
      ],
      "text/markdown": [
       "1. 1\n",
       "2. 2\n",
       "3. 3\n",
       "4. 4\n",
       "5. 5\n",
       "6. 6\n",
       "7. 7\n",
       "8. 8\n",
       "9. 9\n",
       "10. 10\n",
       "11. 11\n",
       "12. 12\n",
       "13. 13\n",
       "14. 14\n",
       "15. 15\n",
       "16. 16\n",
       "17. 17\n",
       "18. 18\n",
       "19. 19\n",
       "20. 20\n",
       "21. 1\n",
       "22. 2\n",
       "23. 3\n",
       "24. 4\n",
       "25. 5\n",
       "26. 6\n",
       "27. 7\n",
       "28. 8\n",
       "29. 9\n",
       "30. 10\n",
       "31. 11\n",
       "32. 12\n",
       "33. 13\n",
       "34. 14\n",
       "35. 15\n",
       "36. 16\n",
       "37. 17\n",
       "38. 18\n",
       "39. 19\n",
       "40. 20\n",
       "\n",
       "\n"
      ],
      "text/plain": [
       "      [,1] [,2] [,3] [,4]\n",
       " [1,]    1   11    1   11\n",
       " [2,]    2   12    2   12\n",
       " [3,]    3   13    3   13\n",
       " [4,]    4   14    4   14\n",
       " [5,]    5   15    5   15\n",
       " [6,]    6   16    6   16\n",
       " [7,]    7   17    7   17\n",
       " [8,]    8   18    8   18\n",
       " [9,]    9   19    9   19\n",
       "[10,]   10   20   10   20"
      ]
     },
     "execution_count": 161,
     "metadata": {},
     "output_type": "execute_result"
    }
   ],
   "source": [
    "x <- 1:20\n",
    "matrix(rep(x,2), ncol = 4)"
   ]
  },
  {
   "cell_type": "markdown",
   "metadata": {},
   "source": [
    "### Las funciones all() y any()"
   ]
  },
  {
   "cell_type": "markdown",
   "metadata": {},
   "source": [
    "Las funciones **all()** y **any()** permite verificar declaraciones lógicas, aplicadas a un vector. Por ejemplo si `ab <-1:6'` entonces ejecutar `any(ab > 5)` evalua primero ` ab >5`, dando el valor de\n",
    "\n",
    "`(FALSE,FALSE, FALSE, FALSE,FALSE,TRUE)'\n",
    "\n",
    "La función **any()** reporta si alguno de esos valores reporta algún valor **TRUE**. La función **all()** trabaja de forma similar y reporta si todos los valores son verdaderos\n",
    "\n",
    "Veamos algunos ejemplos"
   ]
  },
  {
   "cell_type": "code",
   "execution_count": 162,
   "metadata": {
    "collapsed": false
   },
   "outputs": [
    {
     "data": {
      "text/html": [
       "TRUE"
      ],
      "text/latex": [
       "TRUE"
      ],
      "text/markdown": [
       "TRUE"
      ],
      "text/plain": [
       "[1] TRUE"
      ]
     },
     "execution_count": 162,
     "metadata": {},
     "output_type": "execute_result"
    },
    {
     "data": {
      "text/html": [
       "FALSE"
      ],
      "text/latex": [
       "FALSE"
      ],
      "text/markdown": [
       "FALSE"
      ],
      "text/plain": [
       "[1] FALSE"
      ]
     },
     "execution_count": 162,
     "metadata": {},
     "output_type": "execute_result"
    },
    {
     "data": {
      "text/html": [
       "FALSE"
      ],
      "text/latex": [
       "FALSE"
      ],
      "text/markdown": [
       "FALSE"
      ],
      "text/plain": [
       "[1] FALSE"
      ]
     },
     "execution_count": 162,
     "metadata": {},
     "output_type": "execute_result"
    },
    {
     "data": {
      "text/html": [
       "TRUE"
      ],
      "text/latex": [
       "TRUE"
      ],
      "text/markdown": [
       "TRUE"
      ],
      "text/plain": [
       "[1] TRUE"
      ]
     },
     "execution_count": 162,
     "metadata": {},
     "output_type": "execute_result"
    }
   ],
   "source": [
    "# Mas ejemplo, con distintos tipos de vectores\n",
    "\n",
    "ab <- 1:6\n",
    "any(ab >5)\n",
    "any(ab < -1 )\n",
    "all(ab > 1)\n",
    "all (ab > 0)\n"
   ]
  },
  {
   "cell_type": "code",
   "execution_count": 163,
   "metadata": {
    "collapsed": false
   },
   "outputs": [
    {
     "data": {
      "text/html": [
       "<ol class=list-inline>\n",
       "\t<li>-3.46200726099085</li>\n",
       "\t<li>3.26499228857747</li>\n",
       "</ol>\n"
      ],
      "text/latex": [
       "\\begin{enumerate*}\n",
       "\\item -3.46200726099085\n",
       "\\item 3.26499228857747\n",
       "\\end{enumerate*}\n"
      ],
      "text/markdown": [
       "1. -3.46200726099085\n",
       "2. 3.26499228857747\n",
       "\n",
       "\n"
      ],
      "text/plain": [
       "[1] -3.462007  3.264992"
      ]
     },
     "execution_count": 163,
     "metadata": {},
     "output_type": "execute_result"
    },
    {
     "data": {
      "text/html": [
       "TRUE"
      ],
      "text/latex": [
       "TRUE"
      ],
      "text/markdown": [
       "TRUE"
      ],
      "text/plain": [
       "[1] TRUE"
      ]
     },
     "execution_count": 163,
     "metadata": {},
     "output_type": "execute_result"
    },
    {
     "data": {
      "text/html": [
       "FALSE"
      ],
      "text/latex": [
       "FALSE"
      ],
      "text/markdown": [
       "FALSE"
      ],
      "text/plain": [
       "[1] FALSE"
      ]
     },
     "execution_count": 163,
     "metadata": {},
     "output_type": "execute_result"
    },
    {
     "data": {
      "text/html": [
       "TRUE"
      ],
      "text/latex": [
       "TRUE"
      ],
      "text/markdown": [
       "TRUE"
      ],
      "text/plain": [
       "[1] TRUE"
      ]
     },
     "execution_count": 163,
     "metadata": {},
     "output_type": "execute_result"
    },
    {
     "data": {
      "text/html": [
       "TRUE"
      ],
      "text/latex": [
       "TRUE"
      ],
      "text/markdown": [
       "TRUE"
      ],
      "text/plain": [
       "[1] TRUE"
      ]
     },
     "execution_count": 163,
     "metadata": {},
     "output_type": "execute_result"
    }
   ],
   "source": [
    "er<-rnorm(1000)\n",
    "range(er)\n",
    "any( er < 4)\n",
    "any(is.na(er))\n",
    "all(x > -3)\n",
    "all(x > -3.5)"
   ]
  },
  {
   "cell_type": "code",
   "execution_count": 164,
   "metadata": {
    "collapsed": false
   },
   "outputs": [
    {
     "data": {
      "text/html": [
       "<ol class=list-inline>\n",
       "\t<li>TRUE</li>\n",
       "\t<li>TRUE</li>\n",
       "\t<li>TRUE</li>\n",
       "</ol>\n"
      ],
      "text/latex": [
       "\\begin{enumerate*}\n",
       "\\item TRUE\n",
       "\\item TRUE\n",
       "\\item TRUE\n",
       "\\end{enumerate*}\n"
      ],
      "text/markdown": [
       "1. TRUE\n",
       "2. TRUE\n",
       "3. TRUE\n",
       "\n",
       "\n"
      ],
      "text/plain": [
       "[1] TRUE TRUE TRUE"
      ]
     },
     "execution_count": 164,
     "metadata": {},
     "output_type": "execute_result"
    },
    {
     "data": {
      "text/html": [
       "TRUE"
      ],
      "text/latex": [
       "TRUE"
      ],
      "text/markdown": [
       "TRUE"
      ],
      "text/plain": [
       "[1] TRUE"
      ]
     },
     "execution_count": 164,
     "metadata": {},
     "output_type": "execute_result"
    },
    {
     "data": {
      "text/html": [
       "TRUE"
      ],
      "text/latex": [
       "TRUE"
      ],
      "text/markdown": [
       "TRUE"
      ],
      "text/plain": [
       "[1] TRUE"
      ]
     },
     "execution_count": 164,
     "metadata": {},
     "output_type": "execute_result"
    }
   ],
   "source": [
    "t <- sample(c(TRUE, FALSE), 3, TRUE)\n",
    "t\n",
    "any(t)\n",
    "all(t)\n",
    "\n"
   ]
  },
  {
   "cell_type": "code",
   "execution_count": 165,
   "metadata": {
    "collapsed": false
   },
   "outputs": [
    {
     "data": {
      "text/html": [
       "<ol class=list-inline>\n",
       "\t<li>FALSE</li>\n",
       "\t<li>FALSE</li>\n",
       "\t<li>FALSE</li>\n",
       "</ol>\n"
      ],
      "text/latex": [
       "\\begin{enumerate*}\n",
       "\\item FALSE\n",
       "\\item FALSE\n",
       "\\item FALSE\n",
       "\\end{enumerate*}\n"
      ],
      "text/markdown": [
       "1. FALSE\n",
       "2. FALSE\n",
       "3. FALSE\n",
       "\n",
       "\n"
      ],
      "text/plain": [
       "[1] FALSE FALSE FALSE"
      ]
     },
     "execution_count": 165,
     "metadata": {},
     "output_type": "execute_result"
    },
    {
     "data": {
      "text/html": [
       "FALSE"
      ],
      "text/latex": [
       "FALSE"
      ],
      "text/markdown": [
       "FALSE"
      ],
      "text/plain": [
       "[1] FALSE"
      ]
     },
     "execution_count": 165,
     "metadata": {},
     "output_type": "execute_result"
    },
    {
     "data": {
      "text/html": [
       "FALSE"
      ],
      "text/latex": [
       "FALSE"
      ],
      "text/markdown": [
       "FALSE"
      ],
      "text/plain": [
       "[1] FALSE"
      ]
     },
     "execution_count": 165,
     "metadata": {},
     "output_type": "execute_result"
    }
   ],
   "source": [
    "w <- rep(FALSE, 3)\n",
    "w\n",
    "any(w)\n",
    "all(w)\n",
    "\n"
   ]
  },
  {
   "cell_type": "code",
   "execution_count": 166,
   "metadata": {
    "collapsed": false
   },
   "outputs": [
    {
     "data": {
      "text/plain": [
       "NULL"
      ]
     },
     "execution_count": 166,
     "metadata": {},
     "output_type": "execute_result"
    },
    {
     "data": {
      "text/html": [
       "FALSE"
      ],
      "text/latex": [
       "FALSE"
      ],
      "text/markdown": [
       "FALSE"
      ],
      "text/plain": [
       "[1] FALSE"
      ]
     },
     "execution_count": 166,
     "metadata": {},
     "output_type": "execute_result"
    },
    {
     "data": {
      "text/html": [
       "TRUE"
      ],
      "text/latex": [
       "TRUE"
      ],
      "text/markdown": [
       "TRUE"
      ],
      "text/plain": [
       "[1] TRUE"
      ]
     },
     "execution_count": 166,
     "metadata": {},
     "output_type": "execute_result"
    }
   ],
   "source": [
    "q <- c()\n",
    "q\n",
    "any(q)\n",
    "all(q)"
   ]
  },
  {
   "cell_type": "markdown",
   "metadata": {
    "collapsed": false
   },
   "source": [
    "Más información de las funciones any() y all()\n",
    "con  `?any` y `?all`."
   ]
  },
  {
   "cell_type": "markdown",
   "metadata": {},
   "source": [
    "## Vectorización en R"
   ]
  },
  {
   "cell_type": "markdown",
   "metadata": {},
   "source": [
    "Una de las maneras más eficaces para alcanzar una mejor velocidad en el código R es el uso de operaciones\n",
    "que están **vectorizadas (vectorización)**,  lo que significa que si una función se aplica a un vector en R, en realidad \n",
    "se aplica individualmente a cada elemento de ese vector.\n",
    "\n",
    "Una interesante lectura de esto es http://www.noamross.net/blog/2014/4/16/vectorization-in-r--why.html\n",
    "\n",
    "Un punto a favor de R, es que si una función usa operaciones vectorizadas, también es vectorizada, proporcionando así una mejor configuración en la velocidad. "
   ]
  },
  {
   "cell_type": "markdown",
   "metadata": {},
   "source": [
    "### Ejemplo de la Vectorización en R"
   ]
  },
  {
   "cell_type": "code",
   "execution_count": 167,
   "metadata": {
    "collapsed": false
   },
   "outputs": [
    {
     "data": {
      "text/html": [
       "<ol class=list-inline>\n",
       "\t<li>TRUE</li>\n",
       "\t<li>FALSE</li>\n",
       "\t<li>FALSE</li>\n",
       "</ol>\n"
      ],
      "text/latex": [
       "\\begin{enumerate*}\n",
       "\\item TRUE\n",
       "\\item FALSE\n",
       "\\item FALSE\n",
       "\\end{enumerate*}\n"
      ],
      "text/markdown": [
       "1. TRUE\n",
       "2. FALSE\n",
       "3. FALSE\n",
       "\n",
       "\n"
      ],
      "text/plain": [
       "[1]  TRUE FALSE FALSE"
      ]
     },
     "execution_count": 167,
     "metadata": {},
     "output_type": "execute_result"
    }
   ],
   "source": [
    "# Usamos el operador \" > \"\n",
    "\n",
    "u <- c(2,4,5)\n",
    "v <- c(1,5,8)\n",
    "u > v  "
   ]
  },
  {
   "cell_type": "code",
   "execution_count": 168,
   "metadata": {
    "collapsed": false
   },
   "outputs": [
    {
     "data": {
      "text/html": [
       "<ol class=list-inline>\n",
       "\t<li>3</li>\n",
       "\t<li>4</li>\n",
       "\t<li>5</li>\n",
       "</ol>\n"
      ],
      "text/latex": [
       "\\begin{enumerate*}\n",
       "\\item 3\n",
       "\\item 4\n",
       "\\item 5\n",
       "\\end{enumerate*}\n"
      ],
      "text/markdown": [
       "1. 3\n",
       "2. 4\n",
       "3. 5\n",
       "\n",
       "\n"
      ],
      "text/plain": [
       "[1] 3 4 5"
      ]
     },
     "execution_count": 168,
     "metadata": {},
     "output_type": "execute_result"
    }
   ],
   "source": [
    "#f1() usa + el cual es vectorizado, asi f1() es vectorizado.\n",
    "\n",
    "rt<- c(1, 2, 3)\n",
    "f1 <- function(x) return(x + 2)\n",
    "f1(rt)"
   ]
  },
  {
   "cell_type": "code",
   "execution_count": 169,
   "metadata": {
    "collapsed": false
   },
   "outputs": [
    {
     "data": {
      "text/html": [
       "<ol class=list-inline>\n",
       "\t<li>1</li>\n",
       "\t<li>1.4142135623731</li>\n",
       "\t<li>1.73205080756888</li>\n",
       "\t<li>2</li>\n",
       "\t<li>2.23606797749979</li>\n",
       "\t<li>2.44948974278318</li>\n",
       "\t<li>2.64575131106459</li>\n",
       "</ol>\n"
      ],
      "text/latex": [
       "\\begin{enumerate*}\n",
       "\\item 1\n",
       "\\item 1.4142135623731\n",
       "\\item 1.73205080756888\n",
       "\\item 2\n",
       "\\item 2.23606797749979\n",
       "\\item 2.44948974278318\n",
       "\\item 2.64575131106459\n",
       "\\end{enumerate*}\n"
      ],
      "text/markdown": [
       "1. 1\n",
       "2. 1.4142135623731\n",
       "3. 1.73205080756888\n",
       "4. 2\n",
       "5. 2.23606797749979\n",
       "6. 2.44948974278318\n",
       "7. 2.64575131106459\n",
       "\n",
       "\n"
      ],
      "text/plain": [
       "[1] 1.000000 1.414214 1.732051 2.000000 2.236068 2.449490 2.645751"
      ]
     },
     "execution_count": 169,
     "metadata": {},
     "output_type": "execute_result"
    }
   ],
   "source": [
    "# Las funciones raiz cuadrada, logs, trig son tambien vectorizadas.\n",
    "\n",
    "sqrt(1:7)"
   ]
  },
  {
   "cell_type": "markdown",
   "metadata": {},
   "source": [
    "```\n",
    "help(round)\n",
    "```"
   ]
  },
  {
   "cell_type": "code",
   "execution_count": 170,
   "metadata": {
    "collapsed": false
   },
   "outputs": [
    {
     "data": {
      "text/html": [
       "<ol class=list-inline>\n",
       "\t<li>3</li>\n",
       "\t<li>5</li>\n",
       "\t<li>6</li>\n",
       "</ol>\n"
      ],
      "text/latex": [
       "\\begin{enumerate*}\n",
       "\\item 3\n",
       "\\item 5\n",
       "\\item 6\n",
       "\\end{enumerate*}\n"
      ],
      "text/markdown": [
       "1. 3\n",
       "2. 5\n",
       "3. 6\n",
       "\n",
       "\n"
      ],
      "text/plain": [
       "[1] 3 5 6"
      ]
     },
     "execution_count": 170,
     "metadata": {},
     "output_type": "execute_result"
    }
   ],
   "source": [
    "# Esto tambien se aplica a funciones construidas en R\n",
    "# por ejemplo con la funcion round\n",
    "\n",
    "g <-c(1.4, 5.6, 0.7, 5.6)\n",
    "zq <-round(y)\n",
    "zq"
   ]
  },
  {
   "cell_type": "markdown",
   "metadata": {},
   "source": [
    "Desde que R no conoce de escalares, podemos considerar funciones que parece que tienen argumentos escalares"
   ]
  },
  {
   "cell_type": "code",
   "execution_count": 171,
   "metadata": {
    "collapsed": false
   },
   "outputs": [
    {
     "data": {
      "text/html": [
       "<ol class=list-inline>\n",
       "\t<li>1</li>\n",
       "\t<li>4</li>\n",
       "\t<li>9</li>\n",
       "</ol>\n"
      ],
      "text/latex": [
       "\\begin{enumerate*}\n",
       "\\item 1\n",
       "\\item 4\n",
       "\\item 9\n",
       "\\end{enumerate*}\n"
      ],
      "text/markdown": [
       "1. 1\n",
       "2. 4\n",
       "3. 9\n",
       "\n",
       "\n"
      ],
      "text/plain": [
       "[1] 1 4 9"
      ]
     },
     "execution_count": 171,
     "metadata": {},
     "output_type": "execute_result"
    },
    {
     "data": {
      "text/html": [
       "<ol class=list-inline>\n",
       "\t<li>4</li>\n",
       "\t<li>9</li>\n",
       "\t<li>16</li>\n",
       "</ol>\n"
      ],
      "text/latex": [
       "\\begin{enumerate*}\n",
       "\\item 4\n",
       "\\item 9\n",
       "\\item 16\n",
       "\\end{enumerate*}\n"
      ],
      "text/markdown": [
       "1. 4\n",
       "2. 9\n",
       "3. 16\n",
       "\n",
       "\n"
      ],
      "text/plain": [
       "[1]  4  9 16"
      ]
     },
     "execution_count": 171,
     "metadata": {},
     "output_type": "execute_result"
    },
    {
     "data": {
      "text/html": [
       "<ol class=list-inline>\n",
       "\t<li>4</li>\n",
       "\t<li>16</li>\n",
       "\t<li>36</li>\n",
       "</ol>\n"
      ],
      "text/latex": [
       "\\begin{enumerate*}\n",
       "\\item 4\n",
       "\\item 16\n",
       "\\item 36\n",
       "\\end{enumerate*}\n"
      ],
      "text/markdown": [
       "1. 4\n",
       "2. 16\n",
       "3. 36\n",
       "\n",
       "\n"
      ],
      "text/plain": [
       "[1]  4 16 36"
      ]
     },
     "execution_count": 171,
     "metadata": {},
     "output_type": "execute_result"
    }
   ],
   "source": [
    "f2 <- function(x,c) return((x +c)^2)\n",
    "f2(1:3,0)\n",
    "f2(1:3,1)\n",
    "f2(1:3, 1:3) # No hay nada en f2() que usemos un vector c"
   ]
  },
  {
   "cell_type": "markdown",
   "metadata": {},
   "source": [
    "Si se  quieres restringir c a escalares, se debe insertar algún tipo de verificación:\n",
    "\n",
    "```python\n",
    "f2<- function(x,c){\n",
    "    if(length(c) != 1) stop(\"el vector c no es permitido!\")\n",
    "    return((x + c)^2)\n",
    "    }\n",
    "```"
   ]
  },
  {
   "cell_type": "code",
   "execution_count": 172,
   "metadata": {
    "collapsed": false
   },
   "outputs": [
    {
     "data": {
      "text/html": [
       "<ol class=list-inline>\n",
       "\t<li>5</li>\n",
       "\t<li>25</li>\n",
       "</ol>\n"
      ],
      "text/latex": [
       "\\begin{enumerate*}\n",
       "\\item 5\n",
       "\\item 25\n",
       "\\end{enumerate*}\n"
      ],
      "text/markdown": [
       "1. 5\n",
       "2. 25\n",
       "\n",
       "\n"
      ],
      "text/plain": [
       "[1]  5 25"
      ]
     },
     "execution_count": 172,
     "metadata": {},
     "output_type": "execute_result"
    },
    {
     "data": {
      "text/html": [
       "<ol class=list-inline>\n",
       "\t<li>1</li>\n",
       "\t<li>2</li>\n",
       "\t<li>3</li>\n",
       "\t<li>4</li>\n",
       "\t<li>5</li>\n",
       "\t<li>6</li>\n",
       "\t<li>7</li>\n",
       "\t<li>8</li>\n",
       "\t<li>1</li>\n",
       "\t<li>4</li>\n",
       "\t<li>9</li>\n",
       "\t<li>16</li>\n",
       "\t<li>25</li>\n",
       "\t<li>36</li>\n",
       "\t<li>49</li>\n",
       "\t<li>64</li>\n",
       "</ol>\n"
      ],
      "text/latex": [
       "\\begin{enumerate*}\n",
       "\\item 1\n",
       "\\item 2\n",
       "\\item 3\n",
       "\\item 4\n",
       "\\item 5\n",
       "\\item 6\n",
       "\\item 7\n",
       "\\item 8\n",
       "\\item 1\n",
       "\\item 4\n",
       "\\item 9\n",
       "\\item 16\n",
       "\\item 25\n",
       "\\item 36\n",
       "\\item 49\n",
       "\\item 64\n",
       "\\end{enumerate*}\n"
      ],
      "text/markdown": [
       "1. 1\n",
       "2. 2\n",
       "3. 3\n",
       "4. 4\n",
       "5. 5\n",
       "6. 6\n",
       "7. 7\n",
       "8. 8\n",
       "9. 1\n",
       "10. 4\n",
       "11. 9\n",
       "12. 16\n",
       "13. 25\n",
       "14. 36\n",
       "15. 49\n",
       "16. 64\n",
       "\n",
       "\n"
      ],
      "text/plain": [
       " [1]  1  2  3  4  5  6  7  8  1  4  9 16 25 36 49 64"
      ]
     },
     "execution_count": 172,
     "metadata": {},
     "output_type": "execute_result"
    }
   ],
   "source": [
    "#  Que sucede si nuestra función  es una función de valor vectorial\n",
    "\n",
    "f4 <- function(w) return (c(w, w^2))\n",
    "f4(5)\n",
    "d<- 1:8\n",
    "f4(d)\n"
   ]
  },
  {
   "cell_type": "code",
   "execution_count": 173,
   "metadata": {
    "collapsed": false
   },
   "outputs": [
    {
     "data": {
      "text/html": [
       "<table>\n",
       "<tbody>\n",
       "\t<tr><td> 1</td><td> 5</td><td> 1</td><td>25</td></tr>\n",
       "\t<tr><td> 2</td><td> 6</td><td> 4</td><td>36</td></tr>\n",
       "\t<tr><td> 3</td><td> 7</td><td> 9</td><td>49</td></tr>\n",
       "\t<tr><td> 4</td><td> 8</td><td>16</td><td>64</td></tr>\n",
       "</tbody>\n",
       "</table>\n"
      ],
      "text/latex": [
       "\\begin{tabular}{llll}\n",
       "\t  1 &  5 &  1 & 25\\\\\n",
       "\t  2 &  6 &  4 & 36\\\\\n",
       "\t  3 &  7 &  9 & 49\\\\\n",
       "\t  4 &  8 & 16 & 64\\\\\n",
       "\\end{tabular}\n"
      ],
      "text/markdown": [
       "1. 1\n",
       "2. 2\n",
       "3. 3\n",
       "4. 4\n",
       "5. 5\n",
       "6. 6\n",
       "7. 7\n",
       "8. 8\n",
       "9. 1\n",
       "10. 4\n",
       "11. 9\n",
       "12. 16\n",
       "13. 25\n",
       "14. 36\n",
       "15. 49\n",
       "16. 64\n",
       "\n",
       "\n"
      ],
      "text/plain": [
       "     [,1] [,2] [,3] [,4]\n",
       "[1,]    1    5    1   25\n",
       "[2,]    2    6    4   36\n",
       "[3,]    3    7    9   49\n",
       "[4,]    4    8   16   64"
      ]
     },
     "execution_count": 173,
     "metadata": {},
     "output_type": "execute_result"
    }
   ],
   "source": [
    "# Podemos usar la funcion matrix() para ordenar una matriz 4x4\n",
    "\n",
    "matrix(f4(d),ncol =4 )"
   ]
  },
  {
   "cell_type": "code",
   "execution_count": 174,
   "metadata": {
    "collapsed": false
   },
   "outputs": [
    {
     "data": {
      "text/html": [
       "\n",
       "<table width=\"100%\" summary=\"page for lapply {base}\"><tr><td>lapply {base}</td><td style=\"text-align: right;\">R Documentation</td></tr></table>\n",
       "\n",
       "<h2>Apply a Function over a List or Vector</h2>\n",
       "\n",
       "<h3>Description</h3>\n",
       "\n",
       "<p><code>lapply</code> returns a list of the same length as <code>X</code>, each\n",
       "element of which is the result of applying <code>FUN</code> to the\n",
       "corresponding element of <code>X</code>.\n",
       "</p>\n",
       "<p><code>sapply</code> is a user-friendly version and wrapper of <code>lapply</code>\n",
       "by default returning a vector, matrix or, if <code>simplify = \"array\"</code>, an\n",
       "array if appropriate, by applying <code>simplify2array()</code>.\n",
       "<code>sapply(x, f, simplify = FALSE, USE.NAMES = FALSE)</code> is the same as\n",
       "<code>lapply(x, f)</code>.\n",
       "</p>\n",
       "<p><code>vapply</code> is similar to <code>sapply</code>, but has a pre-specified\n",
       "type of return value, so it can be safer (and sometimes faster) to\n",
       "use.\n",
       "</p>\n",
       "<p><code>replicate</code> is a wrapper for the common use of <code>sapply</code> for\n",
       "repeated evaluation of an expression (which will usually involve\n",
       "random number generation).\n",
       "</p>\n",
       "<p><code>simplify2array()</code> is the utility called from <code>sapply()</code>\n",
       "when <code>simplify</code> is not false and is similarly called from\n",
       "<code>mapply()</code>.\n",
       "</p>\n",
       "\n",
       "\n",
       "<h3>Usage</h3>\n",
       "\n",
       "<pre>\n",
       "lapply(X, FUN, ...)\n",
       "\n",
       "sapply(X, FUN, ..., simplify = TRUE, USE.NAMES = TRUE)\n",
       "\n",
       "vapply(X, FUN, FUN.VALUE, ..., USE.NAMES = TRUE)\n",
       "\n",
       "replicate(n, expr, simplify = \"array\")\n",
       "\n",
       "simplify2array(x, higher = TRUE)\n",
       "</pre>\n",
       "\n",
       "\n",
       "<h3>Arguments</h3>\n",
       "\n",
       "<table summary=\"R argblock\">\n",
       "<tr valign=\"top\"><td><code>X</code></td>\n",
       "<td>\n",
       "<p>a vector (atomic or list) or an <code>expression</code>\n",
       "object.  Other objects (including classed objects) will be coerced\n",
       "by <code>base::as.list</code>.</p>\n",
       "</td></tr>\n",
       "<tr valign=\"top\"><td><code>FUN</code></td>\n",
       "<td>\n",
       "<p>the function to be applied to each element of <code>X</code>:\n",
       "see &lsquo;Details&rsquo;.  In the case of functions like\n",
       "<code>+</code>, <code>%*%</code>, the function name must be backquoted or quoted.</p>\n",
       "</td></tr>\n",
       "<tr valign=\"top\"><td><code>...</code></td>\n",
       "<td>\n",
       "<p>optional arguments to <code>FUN</code>.</p>\n",
       "</td></tr>\n",
       "<tr valign=\"top\"><td><code>simplify</code></td>\n",
       "<td>\n",
       "<p>logical or character string; should the result be\n",
       "simplified to a vector, matrix or higher dimensional array if\n",
       "possible?  For <code>sapply</code> it must be named and not abbreviated.\n",
       "The default value, <code>TRUE</code>, returns a vector or matrix if appropriate,\n",
       "whereas if <code>simplify = \"array\"</code> the result may be an\n",
       "<code>array</code> of &ldquo;rank&rdquo;\n",
       "(<i>=</i><code>length(dim(.))</code>) one higher than the result\n",
       "of <code>FUN(X[[i]])</code>.</p>\n",
       "</td></tr>\n",
       "<tr valign=\"top\"><td><code>USE.NAMES</code></td>\n",
       "<td>\n",
       "<p>logical; if <code>TRUE</code> and if <code>X</code> is character,\n",
       "use <code>X</code> as <code>names</code> for the result unless it had names\n",
       "already.  Since this argument follows <code>...</code> its name cannot\n",
       "be abbreviated.</p>\n",
       "</td></tr>\n",
       "<tr valign=\"top\"><td><code>FUN.VALUE</code></td>\n",
       "<td>\n",
       "<p>a (generalized) vector; a template for the return\n",
       "value from FUN.  See &lsquo;Details&rsquo;.</p>\n",
       "</td></tr>\n",
       "<tr valign=\"top\"><td><code>n</code></td>\n",
       "<td>\n",
       "<p>integer: the number of replications.</p>\n",
       "</td></tr>\n",
       "<tr valign=\"top\"><td><code>expr</code></td>\n",
       "<td>\n",
       "<p>the expression (a language object, usually a call)\n",
       "to evaluate repeatedly.</p>\n",
       "</td></tr>\n",
       "<tr valign=\"top\"><td><code>x</code></td>\n",
       "<td>\n",
       "<p>a list, typically returned from <code>lapply()</code>.</p>\n",
       "</td></tr>\n",
       "<tr valign=\"top\"><td><code>higher</code></td>\n",
       "<td>\n",
       "<p>logical; if true, <code>simplify2array()</code> will produce a\n",
       "(&ldquo;higher rank&rdquo;) array when appropriate, whereas\n",
       "<code>higher = FALSE</code> would return a matrix (or vector) only.\n",
       "These two cases correspond to <code>sapply(*, simplify = \"array\")</code> or\n",
       "<code>simplify = TRUE</code>, respectively.</p>\n",
       "</td></tr>\n",
       "</table>\n",
       "\n",
       "\n",
       "<h3>Details</h3>\n",
       "\n",
       "<p><code>FUN</code> is found by a call to <code>match.fun</code> and typically\n",
       "is specified as a function or a symbol (e.g., a backquoted name) or a\n",
       "character string specifying a function to be searched for from the\n",
       "environment of the call to <code>lapply</code>.\n",
       "</p>\n",
       "<p>Function <code>FUN</code> must be able to accept as input any of the\n",
       "elements of <code>X</code>.  If the latter is an atomic vector, <code>FUN</code>\n",
       "will always be passed a length-one vector of the same type as <code>X</code>.\n",
       "</p>\n",
       "<p>Arguments in <code>...</code> cannot have the same name as any of the\n",
       "other arguments, and care may be needed to avoid partial matching to\n",
       "<code>FUN</code>.  In general-purpose code it is good practice to name the\n",
       "first two arguments <code>X</code> and <code>FUN</code> if <code>...</code> is passed\n",
       "through: this both avoids partial matching to <code>FUN</code> and ensures\n",
       "that a sensible error message is given if arguments named <code>X</code> or\n",
       "<code>FUN</code> are passed through <code>...</code>.\n",
       "</p>\n",
       "<p>Simplification in <code>sapply</code> is only attempted if <code>X</code> has\n",
       "length greater than zero and if the return values from all elements\n",
       "of <code>X</code> are all of the same (positive) length.  If the common\n",
       "length is one the result is a vector, and if greater than one is a\n",
       "matrix with a column corresponding to each element of <code>X</code>.\n",
       "</p>\n",
       "<p>Simplification is always done in <code>vapply</code>.  This function\n",
       "checks that all values of <code>FUN</code> are compatible with the\n",
       "<code>FUN.VALUE</code>, in that they must have the same length and type.\n",
       "(Types may be promoted to a higher type within the ordering logical\n",
       "&lt; integer &lt; double &lt; complex, but not demoted.)\n",
       "</p>\n",
       "<p>Users of S4 classes should pass a list to <code>lapply</code> and\n",
       "<code>vapply</code>: the internal coercion is done by the <code>as.list</code> in\n",
       "the base namespace and not one defined by a user (e.g., by setting S4\n",
       "methods on the base function).\n",
       "\n",
       "</p>\n",
       "<p><code>lapply</code> and <code>vapply</code> are primitive functions.\n",
       "</p>\n",
       "\n",
       "\n",
       "<h3>Value</h3>\n",
       "\n",
       "<p>For <code>lapply</code>, <code>sapply(simplify = FALSE)</code> and\n",
       "<code>replicate(simplify = FALSE)</code>, a list.\n",
       "</p>\n",
       "<p>For <code>sapply(simplify = TRUE)</code> and <code>replicate(simplify =\n",
       "  TRUE)</code>: if <code>X</code> has length zero or <code>n = 0</code>, an empty list.\n",
       "Otherwise an atomic vector or matrix or list of the same length as\n",
       "<code>X</code> (of length <code>n</code> for <code>replicate</code>).  If simplification\n",
       "occurs, the output type is determined from the highest type of the\n",
       "return values in the hierarchy NULL &lt; raw &lt; logical &lt; integer &lt; double &lt;\n",
       "complex &lt; character &lt; list &lt; expression, after coercion of pairlists\n",
       "to lists.\n",
       "</p>\n",
       "<p><code>vapply</code> returns a vector or array of type matching the\n",
       "<code>FUN.VALUE</code>.  If <code>length(FUN.VALUE) == 1</code> a\n",
       "vector of the same length as <code>X</code> is returned, otherwise\n",
       "an array.  If <code>FUN.VALUE</code> is not an <code>array</code>, the\n",
       "result is a matrix   with <code>length(FUN.VALUE)</code> rows and\n",
       "<code>length(X)</code> columns, otherwise an array <code>a</code> with\n",
       "<code>dim(a) == c(dim(FUN.VALUE), length(X))</code>.\n",
       "</p>\n",
       "<p>The (Dim)names of the array value are taken from the <code>FUN.VALUE</code>\n",
       "if it is named, otherwise from the result of the first function call.\n",
       "Column names of the matrix or more generally the names of the last\n",
       "dimension of the array value or names of the vector value are set from\n",
       "<code>X</code> as in <code>sapply</code>.\n",
       "</p>\n",
       "\n",
       "\n",
       "<h3>Note</h3>\n",
       "\n",
       "<p><code>sapply(*, simplify = FALSE, USE.NAMES = FALSE)</code> is\n",
       "equivalent to <code>lapply(*)</code>.\n",
       "</p>\n",
       "<p>For historical reasons, the calls created by <code>lapply</code> are\n",
       "unevaluated, and code has been written (e.g., <code>bquote</code>) that\n",
       "relies on this.  This means that the recorded call is always of the\n",
       "form <code>FUN(X[[i]], ...)</code>, with <code>i</code> replaced by the current\n",
       "(integer or double) index.  This is not normally a problem, but it can\n",
       "be if <code>FUN</code> uses <code>sys.call</code> or\n",
       "<code>match.call</code> or if it is a primitive function that makes\n",
       "use of the call.  This means that it is often safer to call primitive\n",
       "functions with a wrapper, so that e.g. <code>lapply(ll, function(x)\n",
       "  is.numeric(x))</code> is required to ensure that method dispatch for\n",
       "<code>is.numeric</code> occurs correctly.\n",
       "</p>\n",
       "<p>If <code>expr</code> is a function call, be aware of assumptions about where\n",
       "it is evaluated, and in particular what <code>...</code> might refer to.\n",
       "You can pass additional named arguments to a function call as\n",
       "additional named arguments to <code>replicate</code>: see &lsquo;Examples&rsquo;.\n",
       "</p>\n",
       "\n",
       "\n",
       "<h3>References</h3>\n",
       "\n",
       "<p>Becker, R. A., Chambers, J. M. and Wilks, A. R. (1988)\n",
       "<em>The New S Language</em>.\n",
       "Wadsworth &amp; Brooks/Cole.\n",
       "</p>\n",
       "\n",
       "\n",
       "<h3>See Also</h3>\n",
       "\n",
       "<p><code>apply</code>, <code>tapply</code>,\n",
       "<code>mapply</code> for applying a function to <b>m</b>ultiple\n",
       "arguments, and <code>rapply</code> for a <b>r</b>ecursive version of\n",
       "<code>lapply()</code>, <code>eapply</code> for applying a function to each\n",
       "entry in an <code>environment</code>.\n",
       "</p>\n",
       "\n",
       "\n",
       "<h3>Examples</h3>\n",
       "\n",
       "<pre>\n",
       "require(stats); require(graphics)\n",
       "\n",
       "x &lt;- list(a = 1:10, beta = exp(-3:3), logic = c(TRUE,FALSE,FALSE,TRUE))\n",
       "# compute the list mean for each list element\n",
       "lapply(x, mean)\n",
       "# median and quartiles for each list element\n",
       "lapply(x, quantile, probs = 1:3/4)\n",
       "sapply(x, quantile)\n",
       "i39 &lt;- sapply(3:9, seq) # list of vectors\n",
       "sapply(i39, fivenum)\n",
       "vapply(i39, fivenum,\n",
       "       c(Min. = 0, \"1st Qu.\" = 0, Median = 0, \"3rd Qu.\" = 0, Max. = 0))\n",
       "\n",
       "## sapply(*, \"array\") -- artificial example\n",
       "(v &lt;- structure(10*(5:8), names = LETTERS[1:4]))\n",
       "f2 &lt;- function(x, y) outer(rep(x, length.out = 3), y)\n",
       "(a2 &lt;- sapply(v, f2, y = 2*(1:5), simplify = \"array\"))\n",
       "a.2 &lt;- vapply(v, f2, outer(1:3, 1:5), y = 2*(1:5))\n",
       "stopifnot(dim(a2) == c(3,5,4), all.equal(a2, a.2),\n",
       "          identical(dimnames(a2), list(NULL,NULL,LETTERS[1:4])))\n",
       "\n",
       "hist(replicate(100, mean(rexp(10))))\n",
       "\n",
       "## use of replicate() with parameters:\n",
       "foo &lt;- function(x = 1, y = 2) c(x, y)\n",
       "# does not work: bar &lt;- function(n, ...) replicate(n, foo(...))\n",
       "bar &lt;- function(n, x) replicate(n, foo(x = x))\n",
       "bar(5, x = 3)\n",
       "</pre>\n",
       "\n",
       "<hr /><div style=\"text-align: center;\">[Package <em>base</em> version 3.2.2 ]</div>"
      ],
      "text/latex": [
       "\\inputencoding{utf8}\n",
       "\\HeaderA{lapply}{Apply a Function over a List or Vector}{lapply}\n",
       "\\aliasA{replicate}{lapply}{replicate}\n",
       "\\aliasA{sapply}{lapply}{sapply}\n",
       "\\aliasA{simplify2array}{lapply}{simplify2array}\n",
       "\\aliasA{vapply}{lapply}{vapply}\n",
       "\\keyword{iteration}{lapply}\n",
       "\\keyword{list}{lapply}\n",
       "%\n",
       "\\begin{Description}\\relax\n",
       "\\code{lapply} returns a list of the same length as \\code{X}, each\n",
       "element of which is the result of applying \\code{FUN} to the\n",
       "corresponding element of \\code{X}.\n",
       "\n",
       "\\code{sapply} is a user-friendly version and wrapper of \\code{lapply}\n",
       "by default returning a vector, matrix or, if \\code{simplify = \"array\"}, an\n",
       "array if appropriate, by applying \\code{simplify2array()}.\n",
       "\\code{sapply(x, f, simplify = FALSE, USE.NAMES = FALSE)} is the same as\n",
       "\\code{lapply(x, f)}.\n",
       "\n",
       "\\code{vapply} is similar to \\code{sapply}, but has a pre-specified\n",
       "type of return value, so it can be safer (and sometimes faster) to\n",
       "use.\n",
       "\n",
       "\\code{replicate} is a wrapper for the common use of \\code{sapply} for\n",
       "repeated evaluation of an expression (which will usually involve\n",
       "random number generation).\n",
       "\n",
       "\\code{simplify2array()} is the utility called from \\code{sapply()}\n",
       "when \\code{simplify} is not false and is similarly called from\n",
       "\\code{\\LinkA{mapply}{mapply}()}.\n",
       "\\end{Description}\n",
       "%\n",
       "\\begin{Usage}\n",
       "\\begin{verbatim}\n",
       "lapply(X, FUN, ...)\n",
       "\n",
       "sapply(X, FUN, ..., simplify = TRUE, USE.NAMES = TRUE)\n",
       "\n",
       "vapply(X, FUN, FUN.VALUE, ..., USE.NAMES = TRUE)\n",
       "\n",
       "replicate(n, expr, simplify = \"array\")\n",
       "\n",
       "simplify2array(x, higher = TRUE)\n",
       "\\end{verbatim}\n",
       "\\end{Usage}\n",
       "%\n",
       "\\begin{Arguments}\n",
       "\\begin{ldescription}\n",
       "\\item[\\code{X}] a vector (atomic or list) or an \\code{\\LinkA{expression}{expression}}\n",
       "object.  Other objects (including classed objects) will be coerced\n",
       "by \\code{base::\\LinkA{as.list}{as.list}}.\n",
       "\\item[\\code{FUN}] the function to be applied to each element of \\code{X}:\n",
       "see `Details'.  In the case of functions like\n",
       "\\code{+}, \\code{\\%*\\%}, the function name must be backquoted or quoted.\n",
       "\\item[\\code{...}] optional arguments to \\code{FUN}.\n",
       "\\item[\\code{simplify}] logical or character string; should the result be\n",
       "simplified to a vector, matrix or higher dimensional array if\n",
       "possible?  For \\code{sapply} it must be named and not abbreviated.\n",
       "The default value, \\code{TRUE}, returns a vector or matrix if appropriate,\n",
       "whereas if \\code{simplify = \"array\"} the result may be an\n",
       "\\code{\\LinkA{array}{array}} of ``rank''\n",
       "(\\eqn{=}{}\\code{length(dim(.))}) one higher than the result\n",
       "of \\code{FUN(X[[i]])}.\n",
       "\\item[\\code{USE.NAMES}] logical; if \\code{TRUE} and if \\code{X} is character,\n",
       "use \\code{X} as \\code{\\LinkA{names}{names}} for the result unless it had names\n",
       "already.  Since this argument follows \\code{...} its name cannot\n",
       "be abbreviated.\n",
       "\\item[\\code{FUN.VALUE}] a (generalized) vector; a template for the return\n",
       "value from FUN.  See `Details'.\n",
       "\\item[\\code{n}] integer: the number of replications.\n",
       "\\item[\\code{expr}] the expression (a \\LinkA{language object}{language object}, usually a call)\n",
       "to evaluate repeatedly.\n",
       "\n",
       "\\item[\\code{x}] a list, typically returned from \\code{lapply()}.\n",
       "\\item[\\code{higher}] logical; if true, \\code{simplify2array()} will produce a\n",
       "(``higher rank'') array when appropriate, whereas\n",
       "\\code{higher = FALSE} would return a matrix (or vector) only.\n",
       "These two cases correspond to \\code{sapply(*, simplify = \"array\")} or\n",
       "\\code{simplify = TRUE}, respectively.\n",
       "\\end{ldescription}\n",
       "\\end{Arguments}\n",
       "%\n",
       "\\begin{Details}\\relax\n",
       "\\code{FUN} is found by a call to \\code{\\LinkA{match.fun}{match.fun}} and typically\n",
       "is specified as a function or a symbol (e.g., a backquoted name) or a\n",
       "character string specifying a function to be searched for from the\n",
       "environment of the call to \\code{lapply}.\n",
       "\n",
       "Function \\code{FUN} must be able to accept as input any of the\n",
       "elements of \\code{X}.  If the latter is an atomic vector, \\code{FUN}\n",
       "will always be passed a length-one vector of the same type as \\code{X}.\n",
       "\n",
       "Arguments in \\code{...} cannot have the same name as any of the\n",
       "other arguments, and care may be needed to avoid partial matching to\n",
       "\\code{FUN}.  In general-purpose code it is good practice to name the\n",
       "first two arguments \\code{X} and \\code{FUN} if \\code{...} is passed\n",
       "through: this both avoids partial matching to \\code{FUN} and ensures\n",
       "that a sensible error message is given if arguments named \\code{X} or\n",
       "\\code{FUN} are passed through \\code{...}.\n",
       "\n",
       "Simplification in \\code{sapply} is only attempted if \\code{X} has\n",
       "length greater than zero and if the return values from all elements\n",
       "of \\code{X} are all of the same (positive) length.  If the common\n",
       "length is one the result is a vector, and if greater than one is a\n",
       "matrix with a column corresponding to each element of \\code{X}.\n",
       "\n",
       "Simplification is always done in \\code{vapply}.  This function\n",
       "checks that all values of \\code{FUN} are compatible with the\n",
       "\\code{FUN.VALUE}, in that they must have the same length and type.\n",
       "(Types may be promoted to a higher type within the ordering logical\n",
       "< integer < double < complex, but not demoted.)\n",
       "\n",
       "Users of S4 classes should pass a list to \\code{lapply} and\n",
       "\\code{vapply}: the internal coercion is done by the \\code{as.list} in\n",
       "the base namespace and not one defined by a user (e.g., by setting S4\n",
       "methods on the base function).\n",
       "\n",
       "\n",
       "\\code{lapply} and \\code{vapply} are \\LinkA{primitive}{primitive} functions.\n",
       "\\end{Details}\n",
       "%\n",
       "\\begin{Value}\n",
       "For \\code{lapply}, \\code{sapply(simplify = FALSE)} and\n",
       "\\code{replicate(simplify = FALSE)}, a list.\n",
       "\n",
       "For \\code{sapply(simplify = TRUE)} and \\code{replicate(simplify =\n",
       "  TRUE)}: if \\code{X} has length zero or \\code{n = 0}, an empty list.\n",
       "Otherwise an atomic vector or matrix or list of the same length as\n",
       "\\code{X} (of length \\code{n} for \\code{replicate}).  If simplification\n",
       "occurs, the output type is determined from the highest type of the\n",
       "return values in the hierarchy NULL < raw < logical < integer < double <\n",
       "complex < character < list < expression, after coercion of pairlists\n",
       "to lists.\n",
       "\n",
       "\\code{vapply} returns a vector or array of type matching the\n",
       "\\code{FUN.VALUE}.  If \\code{length(FUN.VALUE) == 1} a\n",
       "vector of the same length as \\code{X} is returned, otherwise\n",
       "an array.  If \\code{FUN.VALUE} is not an \\code{\\LinkA{array}{array}}, the\n",
       "result is a matrix   with \\code{length(FUN.VALUE)} rows and\n",
       "\\code{length(X)} columns, otherwise an array \\code{a} with\n",
       "\\code{\\LinkA{dim}{dim}(a) == c(dim(FUN.VALUE), length(X))}.\n",
       "\n",
       "The (Dim)names of the array value are taken from the \\code{FUN.VALUE}\n",
       "if it is named, otherwise from the result of the first function call.\n",
       "Column names of the matrix or more generally the names of the last\n",
       "dimension of the array value or names of the vector value are set from\n",
       "\\code{X} as in \\code{sapply}.\n",
       "\\end{Value}\n",
       "%\n",
       "\\begin{Note}\\relax\n",
       "\\code{sapply(*, simplify = FALSE, USE.NAMES = FALSE)} is\n",
       "equivalent to \\code{lapply(*)}.\n",
       "\n",
       "For historical reasons, the calls created by \\code{lapply} are\n",
       "unevaluated, and code has been written (e.g., \\code{bquote}) that\n",
       "relies on this.  This means that the recorded call is always of the\n",
       "form \\code{FUN(X[[i]], ...)}, with \\code{i} replaced by the current\n",
       "(integer or double) index.  This is not normally a problem, but it can\n",
       "be if \\code{FUN} uses \\code{\\LinkA{sys.call}{sys.call}} or\n",
       "\\code{\\LinkA{match.call}{match.call}} or if it is a primitive function that makes\n",
       "use of the call.  This means that it is often safer to call primitive\n",
       "functions with a wrapper, so that e.g.~\\code{lapply(ll, function(x)\n",
       "  is.numeric(x))} is required to ensure that method dispatch for\n",
       "\\code{is.numeric} occurs correctly.\n",
       "\n",
       "If \\code{expr} is a function call, be aware of assumptions about where\n",
       "it is evaluated, and in particular what \\code{...} might refer to.\n",
       "You can pass additional named arguments to a function call as\n",
       "additional named arguments to \\code{replicate}: see `Examples'.\n",
       "\\end{Note}\n",
       "%\n",
       "\\begin{References}\\relax\n",
       "Becker, R. A., Chambers, J. M. and Wilks, A. R. (1988)\n",
       "\\emph{The New S Language}.\n",
       "Wadsworth \\& Brooks/Cole.\n",
       "\\end{References}\n",
       "%\n",
       "\\begin{SeeAlso}\\relax\n",
       "\\code{\\LinkA{apply}{apply}}, \\code{\\LinkA{tapply}{tapply}},\n",
       "\\code{\\LinkA{mapply}{mapply}} for applying a function to \\bold{m}ultiple\n",
       "arguments, and \\code{\\LinkA{rapply}{rapply}} for a \\bold{r}ecursive version of\n",
       "\\code{lapply()}, \\code{\\LinkA{eapply}{eapply}} for applying a function to each\n",
       "entry in an \\code{\\LinkA{environment}{environment}}.\n",
       "\\end{SeeAlso}\n",
       "%\n",
       "\\begin{Examples}\n",
       "\\begin{ExampleCode}\n",
       "require(stats); require(graphics)\n",
       "\n",
       "x <- list(a = 1:10, beta = exp(-3:3), logic = c(TRUE,FALSE,FALSE,TRUE))\n",
       "# compute the list mean for each list element\n",
       "lapply(x, mean)\n",
       "# median and quartiles for each list element\n",
       "lapply(x, quantile, probs = 1:3/4)\n",
       "sapply(x, quantile)\n",
       "i39 <- sapply(3:9, seq) # list of vectors\n",
       "sapply(i39, fivenum)\n",
       "vapply(i39, fivenum,\n",
       "       c(Min. = 0, \"1st Qu.\" = 0, Median = 0, \"3rd Qu.\" = 0, Max. = 0))\n",
       "\n",
       "## sapply(*, \"array\") -- artificial example\n",
       "(v <- structure(10*(5:8), names = LETTERS[1:4]))\n",
       "f2 <- function(x, y) outer(rep(x, length.out = 3), y)\n",
       "(a2 <- sapply(v, f2, y = 2*(1:5), simplify = \"array\"))\n",
       "a.2 <- vapply(v, f2, outer(1:3, 1:5), y = 2*(1:5))\n",
       "stopifnot(dim(a2) == c(3,5,4), all.equal(a2, a.2),\n",
       "          identical(dimnames(a2), list(NULL,NULL,LETTERS[1:4])))\n",
       "\n",
       "hist(replicate(100, mean(rexp(10))))\n",
       "\n",
       "## use of replicate() with parameters:\n",
       "foo <- function(x = 1, y = 2) c(x, y)\n",
       "# does not work: bar <- function(n, ...) replicate(n, foo(...))\n",
       "bar <- function(n, x) replicate(n, foo(x = x))\n",
       "bar(5, x = 3)\n",
       "\\end{ExampleCode}\n",
       "\\end{Examples}"
      ],
      "text/plain": [
       "lapply                  package:base                   R Documentation\n",
       "\n",
       "_\bA_\bp_\bp_\bl_\by _\ba _\bF_\bu_\bn_\bc_\bt_\bi_\bo_\bn _\bo_\bv_\be_\br _\ba _\bL_\bi_\bs_\bt _\bo_\br _\bV_\be_\bc_\bt_\bo_\br\n",
       "\n",
       "_\bD_\be_\bs_\bc_\br_\bi_\bp_\bt_\bi_\bo_\bn:\n",
       "\n",
       "     ‘lapply’ returns a list of the same length as ‘X’, each element of\n",
       "     which is the result of applying ‘FUN’ to the corresponding element\n",
       "     of ‘X’.\n",
       "\n",
       "     ‘sapply’ is a user-friendly version and wrapper of ‘lapply’ by\n",
       "     default returning a vector, matrix or, if ‘simplify = \"array\"’, an\n",
       "     array if appropriate, by applying ‘simplify2array()’.  ‘sapply(x,\n",
       "     f, simplify = FALSE, USE.NAMES = FALSE)’ is the same as ‘lapply(x,\n",
       "     f)’.\n",
       "\n",
       "     ‘vapply’ is similar to ‘sapply’, but has a pre-specified type of\n",
       "     return value, so it can be safer (and sometimes faster) to use.\n",
       "\n",
       "     ‘replicate’ is a wrapper for the common use of ‘sapply’ for\n",
       "     repeated evaluation of an expression (which will usually involve\n",
       "     random number generation).\n",
       "\n",
       "     ‘simplify2array()’ is the utility called from ‘sapply()’ when\n",
       "     ‘simplify’ is not false and is similarly called from ‘mapply()’.\n",
       "\n",
       "_\bU_\bs_\ba_\bg_\be:\n",
       "\n",
       "     lapply(X, FUN, ...)\n",
       "     \n",
       "     sapply(X, FUN, ..., simplify = TRUE, USE.NAMES = TRUE)\n",
       "     \n",
       "     vapply(X, FUN, FUN.VALUE, ..., USE.NAMES = TRUE)\n",
       "     \n",
       "     replicate(n, expr, simplify = \"array\")\n",
       "     \n",
       "     simplify2array(x, higher = TRUE)\n",
       "     \n",
       "_\bA_\br_\bg_\bu_\bm_\be_\bn_\bt_\bs:\n",
       "\n",
       "       X: a vector (atomic or list) or an ‘expression’ object.  Other\n",
       "          objects (including classed objects) will be coerced by\n",
       "          ‘base::as.list’.\n",
       "\n",
       "     FUN: the function to be applied to each element of ‘X’: see\n",
       "          ‘Details’.  In the case of functions like ‘+’, ‘%*%’, the\n",
       "          function name must be backquoted or quoted.\n",
       "\n",
       "     ...: optional arguments to ‘FUN’.\n",
       "\n",
       "simplify: logical or character string; should the result be simplified\n",
       "          to a vector, matrix or higher dimensional array if possible?\n",
       "          For ‘sapply’ it must be named and not abbreviated.  The\n",
       "          default value, ‘TRUE’, returns a vector or matrix if\n",
       "          appropriate, whereas if ‘simplify = \"array\"’ the result may\n",
       "          be an ‘array’ of “rank” (=‘length(dim(.))’) one higher than\n",
       "          the result of ‘FUN(X[[i]])’.\n",
       "\n",
       "USE.NAMES: logical; if ‘TRUE’ and if ‘X’ is character, use ‘X’ as\n",
       "          ‘names’ for the result unless it had names already.  Since\n",
       "          this argument follows ‘...’ its name cannot be abbreviated.\n",
       "\n",
       "FUN.VALUE: a (generalized) vector; a template for the return value from\n",
       "          FUN.  See ‘Details’.\n",
       "\n",
       "       n: integer: the number of replications.\n",
       "\n",
       "    expr: the expression (a language object, usually a call) to\n",
       "          evaluate repeatedly.\n",
       "\n",
       "       x: a list, typically returned from ‘lapply()’.\n",
       "\n",
       "  higher: logical; if true, ‘simplify2array()’ will produce a (“higher\n",
       "          rank”) array when appropriate, whereas ‘higher = FALSE’ would\n",
       "          return a matrix (or vector) only.  These two cases correspond\n",
       "          to ‘sapply(*, simplify = \"array\")’ or ‘simplify = TRUE’,\n",
       "          respectively.\n",
       "\n",
       "_\bD_\be_\bt_\ba_\bi_\bl_\bs:\n",
       "\n",
       "     ‘FUN’ is found by a call to ‘match.fun’ and typically is specified\n",
       "     as a function or a symbol (e.g., a backquoted name) or a character\n",
       "     string specifying a function to be searched for from the\n",
       "     environment of the call to ‘lapply’.\n",
       "\n",
       "     Function ‘FUN’ must be able to accept as input any of the elements\n",
       "     of ‘X’.  If the latter is an atomic vector, ‘FUN’ will always be\n",
       "     passed a length-one vector of the same type as ‘X’.\n",
       "\n",
       "     Arguments in ‘...’ cannot have the same name as any of the other\n",
       "     arguments, and care may be needed to avoid partial matching to\n",
       "     ‘FUN’.  In general-purpose code it is good practice to name the\n",
       "     first two arguments ‘X’ and ‘FUN’ if ‘...’ is passed through: this\n",
       "     both avoids partial matching to ‘FUN’ and ensures that a sensible\n",
       "     error message is given if arguments named ‘X’ or ‘FUN’ are passed\n",
       "     through ‘...’.\n",
       "\n",
       "     Simplification in ‘sapply’ is only attempted if ‘X’ has length\n",
       "     greater than zero and if the return values from all elements of\n",
       "     ‘X’ are all of the same (positive) length.  If the common length\n",
       "     is one the result is a vector, and if greater than one is a matrix\n",
       "     with a column corresponding to each element of ‘X’.\n",
       "\n",
       "     Simplification is always done in ‘vapply’.  This function checks\n",
       "     that all values of ‘FUN’ are compatible with the ‘FUN.VALUE’, in\n",
       "     that they must have the same length and type.  (Types may be\n",
       "     promoted to a higher type within the ordering logical < integer <\n",
       "     double < complex, but not demoted.)\n",
       "\n",
       "     Users of S4 classes should pass a list to ‘lapply’ and ‘vapply’:\n",
       "     the internal coercion is done by the ‘as.list’ in the base\n",
       "     namespace and not one defined by a user (e.g., by setting S4\n",
       "     methods on the base function).\n",
       "\n",
       "     ‘lapply’ and ‘vapply’ are primitive functions.\n",
       "\n",
       "_\bV_\ba_\bl_\bu_\be:\n",
       "\n",
       "     For ‘lapply’, ‘sapply(simplify = FALSE)’ and ‘replicate(simplify =\n",
       "     FALSE)’, a list.\n",
       "\n",
       "     For ‘sapply(simplify = TRUE)’ and ‘replicate(simplify = TRUE)’: if\n",
       "     ‘X’ has length zero or ‘n = 0’, an empty list.  Otherwise an\n",
       "     atomic vector or matrix or list of the same length as ‘X’ (of\n",
       "     length ‘n’ for ‘replicate’).  If simplification occurs, the output\n",
       "     type is determined from the highest type of the return values in\n",
       "     the hierarchy NULL < raw < logical < integer < double < complex <\n",
       "     character < list < expression, after coercion of pairlists to\n",
       "     lists.\n",
       "\n",
       "     ‘vapply’ returns a vector or array of type matching the\n",
       "     ‘FUN.VALUE’.  If ‘length(FUN.VALUE) == 1’ a vector of the same\n",
       "     length as ‘X’ is returned, otherwise an array.  If ‘FUN.VALUE’ is\n",
       "     not an ‘array’, the result is a matrix with ‘length(FUN.VALUE)’\n",
       "     rows and ‘length(X)’ columns, otherwise an array ‘a’ with ‘dim(a)\n",
       "     == c(dim(FUN.VALUE), length(X))’.\n",
       "\n",
       "     The (Dim)names of the array value are taken from the ‘FUN.VALUE’\n",
       "     if it is named, otherwise from the result of the first function\n",
       "     call.  Column names of the matrix or more generally the names of\n",
       "     the last dimension of the array value or names of the vector value\n",
       "     are set from ‘X’ as in ‘sapply’.\n",
       "\n",
       "_\bN_\bo_\bt_\be:\n",
       "\n",
       "     ‘sapply(*, simplify = FALSE, USE.NAMES = FALSE)’ is equivalent to\n",
       "     ‘lapply(*)’.\n",
       "\n",
       "     For historical reasons, the calls created by ‘lapply’ are\n",
       "     unevaluated, and code has been written (e.g., ‘bquote’) that\n",
       "     relies on this.  This means that the recorded call is always of\n",
       "     the form ‘FUN(X[[i]], ...)’, with ‘i’ replaced by the current\n",
       "     (integer or double) index.  This is not normally a problem, but it\n",
       "     can be if ‘FUN’ uses ‘sys.call’ or ‘match.call’ or if it is a\n",
       "     primitive function that makes use of the call.  This means that it\n",
       "     is often safer to call primitive functions with a wrapper, so that\n",
       "     e.g. ‘lapply(ll, function(x) is.numeric(x))’ is required to ensure\n",
       "     that method dispatch for ‘is.numeric’ occurs correctly.\n",
       "\n",
       "     If ‘expr’ is a function call, be aware of assumptions about where\n",
       "     it is evaluated, and in particular what ‘...’ might refer to.  You\n",
       "     can pass additional named arguments to a function call as\n",
       "     additional named arguments to ‘replicate’: see ‘Examples’.\n",
       "\n",
       "_\bR_\be_\bf_\be_\br_\be_\bn_\bc_\be_\bs:\n",
       "\n",
       "     Becker, R. A., Chambers, J. M. and Wilks, A. R. (1988) _The New S\n",
       "     Language_.  Wadsworth & Brooks/Cole.\n",
       "\n",
       "_\bS_\be_\be _\bA_\bl_\bs_\bo:\n",
       "\n",
       "     ‘apply’, ‘tapply’, ‘mapply’ for applying a function to *m*ultiple\n",
       "     arguments, and ‘rapply’ for a *r*ecursive version of ‘lapply()’,\n",
       "     ‘eapply’ for applying a function to each entry in an\n",
       "     ‘environment’.\n",
       "\n",
       "_\bE_\bx_\ba_\bm_\bp_\bl_\be_\bs:\n",
       "\n",
       "     require(stats); require(graphics)\n",
       "     \n",
       "     x <- list(a = 1:10, beta = exp(-3:3), logic = c(TRUE,FALSE,FALSE,TRUE))\n",
       "     # compute the list mean for each list element\n",
       "     lapply(x, mean)\n",
       "     # median and quartiles for each list element\n",
       "     lapply(x, quantile, probs = 1:3/4)\n",
       "     sapply(x, quantile)\n",
       "     i39 <- sapply(3:9, seq) # list of vectors\n",
       "     sapply(i39, fivenum)\n",
       "     vapply(i39, fivenum,\n",
       "            c(Min. = 0, \"1st Qu.\" = 0, Median = 0, \"3rd Qu.\" = 0, Max. = 0))\n",
       "     \n",
       "     ## sapply(*, \"array\") -- artificial example\n",
       "     (v <- structure(10*(5:8), names = LETTERS[1:4]))\n",
       "     f2 <- function(x, y) outer(rep(x, length.out = 3), y)\n",
       "     (a2 <- sapply(v, f2, y = 2*(1:5), simplify = \"array\"))\n",
       "     a.2 <- vapply(v, f2, outer(1:3, 1:5), y = 2*(1:5))\n",
       "     stopifnot(dim(a2) == c(3,5,4), all.equal(a2, a.2),\n",
       "               identical(dimnames(a2), list(NULL,NULL,LETTERS[1:4])))\n",
       "     \n",
       "     hist(replicate(100, mean(rexp(10))))\n",
       "     \n",
       "     ## use of replicate() with parameters:\n",
       "     foo <- function(x = 1, y = 2) c(x, y)\n",
       "     # does not work: bar <- function(n, ...) replicate(n, foo(...))\n",
       "     bar <- function(n, x) replicate(n, foo(x = x))\n",
       "     bar(5, x = 3)\n",
       "     "
      ]
     },
     "execution_count": 174,
     "metadata": {},
     "output_type": "execute_result"
    },
    {
     "data": {
      "text/html": [
       "<table>\n",
       "<tbody>\n",
       "\t<tr><td>1</td><td>2</td><td>3</td><td>4</td><td>5</td><td>6</td><td>7</td><td>8</td></tr>\n",
       "\t<tr><td> 1</td><td> 4</td><td> 9</td><td>16</td><td>25</td><td>36</td><td>49</td><td>64</td></tr>\n",
       "</tbody>\n",
       "</table>\n"
      ],
      "text/latex": [
       "\\begin{tabular}{llllllll}\n",
       "\t 1 & 2 & 3 & 4 & 5 & 6 & 7 & 8\\\\\n",
       "\t  1 &  4 &  9 & 16 & 25 & 36 & 49 & 64\\\\\n",
       "\\end{tabular}\n"
      ],
      "text/markdown": [
       "1. 1\n",
       "2. 1\n",
       "3. 2\n",
       "4. 4\n",
       "5. 3\n",
       "6. 9\n",
       "7. 4\n",
       "8. 16\n",
       "9. 5\n",
       "10. 25\n",
       "11. 6\n",
       "12. 36\n",
       "13. 7\n",
       "14. 49\n",
       "15. 8\n",
       "16. 64\n",
       "\n",
       "\n"
      ],
      "text/plain": [
       "     [,1] [,2] [,3] [,4] [,5] [,6] [,7] [,8]\n",
       "[1,]    1    2    3    4    5    6    7    8\n",
       "[2,]    1    4    9   16   25   36   49   64"
      ]
     },
     "execution_count": 174,
     "metadata": {},
     "output_type": "execute_result"
    }
   ],
   "source": [
    "# Usando la funcion sapply()\n",
    "\n",
    "# Aplicamos a la funcion f4, cada elemento de un vector\n",
    "# y entonces convierte este resultado  a una matriz.\n",
    "\n",
    "help(sapply)\n",
    "f4 <- function(w) return (c(w, w^2))\n",
    "sapply(1:8, f4)"
   ]
  },
  {
   "cell_type": "markdown",
   "metadata": {},
   "source": [
    "## NA y Valores NULL\n",
    "\n",
    "NA: Es una constante lógica de longitud 1, el cual contiene un indicador de valores 'pérdidos',, que puede ser usado con coerción a otro tipo de vector, que cuando es evaluado en una expresión produce NA. Hay constantes `NA_integer_, NA_real_, NA_complex_ y NA_character_ ` de otras estructuras que soportan 'valores perdidos'. Todas estas constantes son palabras reservadas de R.\n",
    "\n",
    "NULL: representa el objeto nulo en R: es una palabra reservada. NULL es a menudo devuelto por expresiones y funciones cuyos valores son indefinidos."
   ]
  },
  {
   "cell_type": "code",
   "execution_count": 175,
   "metadata": {
    "collapsed": false
   },
   "outputs": [
    {
     "data": {
      "text/plain": [
       "[1] NA"
      ]
     },
     "execution_count": 175,
     "metadata": {},
     "output_type": "execute_result"
    },
    {
     "data": {
      "text/plain": [
       "NULL"
      ]
     },
     "execution_count": 175,
     "metadata": {},
     "output_type": "execute_result"
    },
    {
     "data": {
      "text/html": [
       "'logical'"
      ],
      "text/latex": [
       "'logical'"
      ],
      "text/markdown": [
       "'logical'"
      ],
      "text/plain": [
       "[1] \"logical\""
      ]
     },
     "execution_count": 175,
     "metadata": {},
     "output_type": "execute_result"
    },
    {
     "data": {
      "text/html": [
       "'NULL'"
      ],
      "text/latex": [
       "'NULL'"
      ],
      "text/markdown": [
       "'NULL'"
      ],
      "text/plain": [
       "[1] \"NULL\""
      ]
     },
     "execution_count": 175,
     "metadata": {},
     "output_type": "execute_result"
    },
    {
     "data": {
      "text/plain": [
       "[1] NA"
      ]
     },
     "execution_count": 175,
     "metadata": {},
     "output_type": "execute_result"
    },
    {
     "data": {
      "text/html": [
       "<ol class=list-inline>\n",
       "</ol>\n"
      ],
      "text/latex": [
       "\\begin{enumerate*}\n",
       "\\end{enumerate*}\n"
      ],
      "text/markdown": [
       "\n",
       "\n"
      ],
      "text/plain": [
       "logical(0)"
      ]
     },
     "execution_count": 175,
     "metadata": {},
     "output_type": "execute_result"
    }
   ],
   "source": [
    "NA\n",
    "NULL\n",
    "class(NA)\n",
    "class(NULL)\n",
    "NA > 1\n",
    "NULL > 1 # logical(0)\n"
   ]
  },
  {
   "cell_type": "markdown",
   "metadata": {},
   "source": [
    "Hay diferencias sutiles en el tratamiento de NA y NULL   en las estructuras de datos. Veamos como funciona esto"
   ]
  },
  {
   "cell_type": "code",
   "execution_count": 176,
   "metadata": {
    "collapsed": false
   },
   "outputs": [
    {
     "data": {
      "text/html": [
       "<ol class=list-inline>\n",
       "\t<li>1</li>\n",
       "\t<li>NA</li>\n",
       "</ol>\n"
      ],
      "text/latex": [
       "\\begin{enumerate*}\n",
       "\\item 1\n",
       "\\item NA\n",
       "\\end{enumerate*}\n"
      ],
      "text/markdown": [
       "1. 1\n",
       "2. NA\n",
       "\n",
       "\n"
      ],
      "text/plain": [
       "[1]  1 NA"
      ]
     },
     "execution_count": 176,
     "metadata": {},
     "output_type": "execute_result"
    },
    {
     "data": {
      "text/html": [
       "<ol>\n",
       "\t<li>1</li>\n",
       "\t<li>NA</li>\n",
       "\t<li>NULL</li>\n",
       "</ol>\n"
      ],
      "text/latex": [
       "\\begin{enumerate}\n",
       "\\item 1\n",
       "\\item NA\n",
       "\\item NULL\n",
       "\\end{enumerate}\n"
      ],
      "text/markdown": [
       "1. 1\n",
       "2. NA\n",
       "3. NULL\n",
       "\n",
       "\n"
      ],
      "text/plain": [
       "[[1]]\n",
       "[1] 1\n",
       "\n",
       "[[2]]\n",
       "[1] NA\n",
       "\n",
       "[[3]]\n",
       "NULL\n"
      ]
     },
     "execution_count": 176,
     "metadata": {},
     "output_type": "execute_result"
    }
   ],
   "source": [
    "v <-  c( 1, NA, NULL)\n",
    "v\n",
    "list(1, NA, NULL)"
   ]
  },
  {
   "cell_type": "code",
   "execution_count": 177,
   "metadata": {
    "collapsed": false
   },
   "outputs": [
    {
     "data": {
      "text/html": [
       "<ol class=list-inline>\n",
       "\t<li>88</li>\n",
       "\t<li>NA</li>\n",
       "\t<li>12</li>\n",
       "\t<li>35</li>\n",
       "\t<li>12</li>\n",
       "</ol>\n"
      ],
      "text/latex": [
       "\\begin{enumerate*}\n",
       "\\item 88\n",
       "\\item NA\n",
       "\\item 12\n",
       "\\item 35\n",
       "\\item 12\n",
       "\\end{enumerate*}\n"
      ],
      "text/markdown": [
       "1. 88\n",
       "2. NA\n",
       "3. 12\n",
       "4. 35\n",
       "5. 12\n",
       "\n",
       "\n"
      ],
      "text/plain": [
       "[1] 88 NA 12 35 12"
      ]
     },
     "execution_count": 177,
     "metadata": {},
     "output_type": "execute_result"
    },
    {
     "data": {
      "text/plain": [
       "[1] NA"
      ]
     },
     "execution_count": 177,
     "metadata": {},
     "output_type": "execute_result"
    },
    {
     "data": {
      "text/html": [
       "10.5"
      ],
      "text/latex": [
       "10.5"
      ],
      "text/markdown": [
       "10.5"
      ],
      "text/plain": [
       "[1] 10.5"
      ]
     },
     "execution_count": 177,
     "metadata": {},
     "output_type": "execute_result"
    },
    {
     "data": {
      "text/html": [
       "31.25"
      ],
      "text/latex": [
       "31.25"
      ],
      "text/markdown": [
       "31.25"
      ],
      "text/plain": [
       "[1] 31.25"
      ]
     },
     "execution_count": 177,
     "metadata": {},
     "output_type": "execute_result"
    }
   ],
   "source": [
    "# Otros ejemplos\n",
    "\n",
    "k <-c(88, NA, 12, 35, 12)\n",
    "k\n",
    "mean(k)\n",
    "mean(x, na.rm = T)  #na.rm (NA remove)\n",
    "l<-c(34, NULL, 34, 45, 12)\n",
    "mean(l)"
   ]
  },
  {
   "cell_type": "code",
   "execution_count": 178,
   "metadata": {
    "collapsed": false
   },
   "outputs": [
    {
     "data": {
      "text/html": [
       "<ol class=list-inline>\n",
       "\t<li>2</li>\n",
       "\t<li>4</li>\n",
       "\t<li>6</li>\n",
       "\t<li>8</li>\n",
       "\t<li>10</li>\n",
       "</ol>\n"
      ],
      "text/latex": [
       "\\begin{enumerate*}\n",
       "\\item 2\n",
       "\\item 4\n",
       "\\item 6\n",
       "\\item 8\n",
       "\\item 10\n",
       "\\end{enumerate*}\n"
      ],
      "text/markdown": [
       "1. 2\n",
       "2. 4\n",
       "3. 6\n",
       "4. 8\n",
       "5. 10\n",
       "\n",
       "\n"
      ],
      "text/plain": [
       "[1]  2  4  6  8 10"
      ]
     },
     "execution_count": 178,
     "metadata": {},
     "output_type": "execute_result"
    }
   ],
   "source": [
    "# Ejemplo de NULL(Matloff)\n",
    "\n",
    "z <-NULL\n",
    "for(i in 1:10 ) if(i %% 2 ==0)z<- c(z,i)\n",
    "    z"
   ]
  },
  {
   "cell_type": "code",
   "execution_count": 179,
   "metadata": {
    "collapsed": false
   },
   "outputs": [
    {
     "data": {
      "text/html": [
       "<ol class=list-inline>\n",
       "\t<li>NA</li>\n",
       "\t<li>2</li>\n",
       "\t<li>4</li>\n",
       "\t<li>6</li>\n",
       "\t<li>8</li>\n",
       "\t<li>10</li>\n",
       "</ol>\n"
      ],
      "text/latex": [
       "\\begin{enumerate*}\n",
       "\\item NA\n",
       "\\item 2\n",
       "\\item 4\n",
       "\\item 6\n",
       "\\item 8\n",
       "\\item 10\n",
       "\\end{enumerate*}\n"
      ],
      "text/markdown": [
       "1. NA\n",
       "2. 2\n",
       "3. 4\n",
       "4. 6\n",
       "5. 8\n",
       "6. 10\n",
       "\n",
       "\n"
      ],
      "text/plain": [
       "[1] NA  2  4  6  8 10"
      ]
     },
     "execution_count": 179,
     "metadata": {},
     "output_type": "execute_result"
    }
   ],
   "source": [
    "z <-NA\n",
    "for(i in 1:10 ) if(i %% 2 ==0)z<- c(z,i)\n",
    "    z"
   ]
  },
  {
   "cell_type": "markdown",
   "metadata": {},
   "source": [
    "Los valores NULL son contados como no existentes, como se puede ver en el siguiente código\n"
   ]
  },
  {
   "cell_type": "code",
   "execution_count": 180,
   "metadata": {
    "collapsed": false
   },
   "outputs": [
    {
     "data": {
      "text/html": [
       "0"
      ],
      "text/latex": [
       "0"
      ],
      "text/markdown": [
       "0"
      ],
      "text/plain": [
       "[1] 0"
      ]
     },
     "execution_count": 180,
     "metadata": {},
     "output_type": "execute_result"
    },
    {
     "data": {
      "text/html": [
       "1"
      ],
      "text/latex": [
       "1"
      ],
      "text/markdown": [
       "1"
      ],
      "text/plain": [
       "[1] 1"
      ]
     },
     "execution_count": 180,
     "metadata": {},
     "output_type": "execute_result"
    }
   ],
   "source": [
    "r <- NULL\n",
    "length(r)\n",
    "qa <- NA\n",
    "length(qa)"
   ]
  },
  {
   "cell_type": "markdown",
   "metadata": {},
   "source": [
    "## Filtrado en R (filtering)\n",
    "\n",
    "\n",
    "Una  característica que refleja la naturaleza de lenguaje funcional de R es el del  **filtrado (filtering)**, que nos permite extraer elementos de un vector que satisfacen ciertas condiciones. El filtrado es una de las operaciones más comunes en R, y de uso importante en  análisis estadísticos que a menudo se centran en los datos que satisfaga las condiciones de interés.\n"
   ]
  },
  {
   "cell_type": "code",
   "execution_count": 181,
   "metadata": {
    "collapsed": false
   },
   "outputs": [
    {
     "data": {
      "text/html": [
       "<ol class=list-inline>\n",
       "\t<li>5</li>\n",
       "\t<li>-3</li>\n",
       "\t<li>8</li>\n",
       "</ol>\n"
      ],
      "text/latex": [
       "\\begin{enumerate*}\n",
       "\\item 5\n",
       "\\item -3\n",
       "\\item 8\n",
       "\\end{enumerate*}\n"
      ],
      "text/markdown": [
       "1. 5\n",
       "2. -3\n",
       "3. 8\n",
       "\n",
       "\n"
      ],
      "text/plain": [
       "[1]  5 -3  8"
      ]
     },
     "execution_count": 181,
     "metadata": {},
     "output_type": "execute_result"
    }
   ],
   "source": [
    "zs <- c(5,2,-3,8)\n",
    "wq <- zs[zs*zs > 8]\n",
    "wq\n"
   ]
  },
  {
   "cell_type": "code",
   "execution_count": 182,
   "metadata": {
    "collapsed": false
   },
   "outputs": [
    {
     "data": {
      "text/html": [
       "TRUE"
      ],
      "text/latex": [
       "TRUE"
      ],
      "text/markdown": [
       "TRUE"
      ],
      "text/plain": [
       "[1] TRUE"
      ]
     },
     "execution_count": 182,
     "metadata": {},
     "output_type": "execute_result"
    }
   ],
   "source": [
    "\">\"(12,11) # Comparando dos elementos"
   ]
  },
  {
   "cell_type": "code",
   "execution_count": 183,
   "metadata": {
    "collapsed": false
   },
   "outputs": [
    {
     "data": {
      "text/html": [
       "<ol class=list-inline>\n",
       "\t<li>1</li>\n",
       "\t<li>2</li>\n",
       "\t<li>30</li>\n",
       "\t<li>5</li>\n",
       "</ol>\n"
      ],
      "text/latex": [
       "\\begin{enumerate*}\n",
       "\\item 1\n",
       "\\item 2\n",
       "\\item 30\n",
       "\\item 5\n",
       "\\end{enumerate*}\n"
      ],
      "text/markdown": [
       "1. 1\n",
       "2. 2\n",
       "3. 30\n",
       "4. 5\n",
       "\n",
       "\n"
      ],
      "text/plain": [
       "[1]  1  2 30  5"
      ]
     },
     "execution_count": 183,
     "metadata": {},
     "output_type": "execute_result"
    }
   ],
   "source": [
    "z2 <- c(5,3,-3,8)\n",
    "y2 <- c(1,2,30,5)\n",
    "y2[z2*z2 >8]"
   ]
  },
  {
   "cell_type": "markdown",
   "metadata": {},
   "source": [
    "### FIltrado con la función subset()\n",
    "\n",
    "La diferencia del uso de esta función **subset()** y el uso de filtrado es la manera como **NA** es manejado."
   ]
  },
  {
   "cell_type": "markdown",
   "metadata": {},
   "source": [
    "```\n",
    "help(subset)\n",
    "```"
   ]
  },
  {
   "cell_type": "code",
   "execution_count": 184,
   "metadata": {
    "collapsed": false
   },
   "outputs": [
    {
     "data": {
      "text/html": [
       "<ol class=list-inline>\n",
       "\t<li>4</li>\n",
       "\t<li>1</li>\n",
       "\t<li>2</li>\n",
       "\t<li>3</li>\n",
       "\t<li>NA</li>\n",
       "\t<li>13</li>\n",
       "</ol>\n"
      ],
      "text/latex": [
       "\\begin{enumerate*}\n",
       "\\item 4\n",
       "\\item 1\n",
       "\\item 2\n",
       "\\item 3\n",
       "\\item NA\n",
       "\\item 13\n",
       "\\end{enumerate*}\n"
      ],
      "text/markdown": [
       "1. 4\n",
       "2. 1\n",
       "3. 2\n",
       "4. 3\n",
       "5. NA\n",
       "6. 13\n",
       "\n",
       "\n"
      ],
      "text/plain": [
       "[1]  4  1  2  3 NA 13"
      ]
     },
     "execution_count": 184,
     "metadata": {},
     "output_type": "execute_result"
    },
    {
     "data": {
      "text/html": [
       "<ol class=list-inline>\n",
       "\t<li>NA</li>\n",
       "\t<li>13</li>\n",
       "</ol>\n"
      ],
      "text/latex": [
       "\\begin{enumerate*}\n",
       "\\item NA\n",
       "\\item 13\n",
       "\\end{enumerate*}\n"
      ],
      "text/markdown": [
       "1. NA\n",
       "2. 13\n",
       "\n",
       "\n"
      ],
      "text/plain": [
       "[1] NA 13"
      ]
     },
     "execution_count": 184,
     "metadata": {},
     "output_type": "execute_result"
    },
    {
     "data": {
      "text/html": [
       "13"
      ],
      "text/latex": [
       "13"
      ],
      "text/markdown": [
       "13"
      ],
      "text/plain": [
       "[1] 13"
      ]
     },
     "execution_count": 184,
     "metadata": {},
     "output_type": "execute_result"
    }
   ],
   "source": [
    "\n",
    "xx <- c(4, 1:3, NA, 13)\n",
    "xx\n",
    "xx[xx > 5]\n",
    "subset(xx, xx >5)"
   ]
  },
  {
   "cell_type": "markdown",
   "metadata": {},
   "source": [
    "### La función which()\n",
    "\n",
    "Como hemos visto, la filtración consiste en la extracción de  elementos de un vector  que satisfacen una determinada condición. En algunos casos, sin embargo, es posible que sólo quieren encontrar las posiciones dentro del vector en la que se produce la condición. Podemos hacer esto usando **which()**, como sigue:\n",
    "\n",
    "```\n",
    "help(which)\n",
    "```"
   ]
  },
  {
   "cell_type": "code",
   "execution_count": 185,
   "metadata": {
    "collapsed": false
   },
   "outputs": [
    {
     "data": {
      "text/html": [
       "<ol class=list-inline>\n",
       "\t<li>2</li>\n",
       "\t<li>5</li>\n",
       "\t<li>6</li>\n",
       "</ol>\n"
      ],
      "text/latex": [
       "\\begin{enumerate*}\n",
       "\\item 2\n",
       "\\item 5\n",
       "\\item 6\n",
       "\\end{enumerate*}\n"
      ],
      "text/markdown": [
       "1. 2\n",
       "2. 5\n",
       "3. 6\n",
       "\n",
       "\n"
      ],
      "text/plain": [
       "[1] 2 5 6"
      ]
     },
     "execution_count": 185,
     "metadata": {},
     "output_type": "execute_result"
    }
   ],
   "source": [
    "\n",
    "z <- c(51,-12,-32,81, 11, 14)\n",
    "which(z*z < 800)"
   ]
  },
  {
   "cell_type": "markdown",
   "metadata": {},
   "source": [
    "Un uso de la función **which()**  es la ubicación dentro de un vector, en el cuál ocurre la primera ocurrencia, dentro de un vector en el cual ocurre la primera ocurrencia de alguna condición. Por ejemplo el siguiente código puede escribirse como\n",
    "\n",
    "```python\n",
    "f1 <- function(x) {\n",
    "    for (i in 1:length(x)) {\n",
    "        if (x[i] == 1) break # salir del bucle\n",
    "         }\n",
    "    return(i)\n",
    "}\n",
    "```\n",
    "\n",
    "Aquí una alternativa de hacer esto con la función **which()**."
   ]
  },
  {
   "cell_type": "code",
   "execution_count": 186,
   "metadata": {
    "collapsed": true
   },
   "outputs": [],
   "source": [
    "f1 <- function(x) return(which(x == 1)[1])"
   ]
  },
  {
   "cell_type": "markdown",
   "metadata": {},
   "source": [
    "## La función **ifelse()**\n",
    "\n",
    "Además del constructor **if-then-else** común en otros lenguajes de Programación, R incluye una versión vectorizada, la función **ifelse()**. Cuya forma es la siguiente\n",
    "\n",
    "```\n",
    "ifelse(b,u,v)\n",
    "```\n",
    "\n",
    "1. b es un vector booleano.\n",
    "2. u y v son vectores.\n",
    "\n",
    "El valor de retorno, es un vector; el elemento i es u[i] si b[i] es verdad o v[i] si b[i] es falso.\n",
    "\n",
    "```\n",
    "help(ifelse)\n",
    "```"
   ]
  },
  {
   "cell_type": "code",
   "execution_count": 187,
   "metadata": {
    "collapsed": false
   },
   "outputs": [
    {
     "data": {
      "text/html": [
       "<ol class=list-inline>\n",
       "\t<li>2</li>\n",
       "\t<li>1</li>\n",
       "\t<li>2</li>\n",
       "\t<li>1</li>\n",
       "\t<li>2</li>\n",
       "\t<li>1</li>\n",
       "\t<li>2</li>\n",
       "\t<li>1</li>\n",
       "\t<li>2</li>\n",
       "\t<li>1</li>\n",
       "\t<li>2</li>\n",
       "\t<li>1</li>\n",
       "\t<li>2</li>\n",
       "\t<li>1</li>\n",
       "\t<li>2</li>\n",
       "</ol>\n"
      ],
      "text/latex": [
       "\\begin{enumerate*}\n",
       "\\item 2\n",
       "\\item 1\n",
       "\\item 2\n",
       "\\item 1\n",
       "\\item 2\n",
       "\\item 1\n",
       "\\item 2\n",
       "\\item 1\n",
       "\\item 2\n",
       "\\item 1\n",
       "\\item 2\n",
       "\\item 1\n",
       "\\item 2\n",
       "\\item 1\n",
       "\\item 2\n",
       "\\end{enumerate*}\n"
      ],
      "text/markdown": [
       "1. 2\n",
       "2. 1\n",
       "3. 2\n",
       "4. 1\n",
       "5. 2\n",
       "6. 1\n",
       "7. 2\n",
       "8. 1\n",
       "9. 2\n",
       "10. 1\n",
       "11. 2\n",
       "12. 1\n",
       "13. 2\n",
       "14. 1\n",
       "15. 2\n",
       "\n",
       "\n"
      ],
      "text/plain": [
       " [1] 2 1 2 1 2 1 2 1 2 1 2 1 2 1 2"
      ]
     },
     "execution_count": 187,
     "metadata": {},
     "output_type": "execute_result"
    }
   ],
   "source": [
    "\n",
    "x <- 1:15\n",
    "y <- ifelse(x%%2 == 0,1,2)\n",
    "y\n"
   ]
  },
  {
   "cell_type": "markdown",
   "metadata": {},
   "source": [
    "Aquí estamos produciendo un vector en el cual produce 1, si es un número par o 2 si x es un número impar.\n",
    "\n",
    "Así el argumento formal b es `(F,T,F,T,F,T,F,T,F,T,F,T,F,T,F)`. El segundo argumento, 1, corresponde a u y es tratado como `(1,1,...)`, 15 unos por recycling. El tercer argumento, `2`, es también reciclado a `(2,2,...)`."
   ]
  },
  {
   "cell_type": "code",
   "execution_count": 188,
   "metadata": {
    "collapsed": false
   },
   "outputs": [
    {
     "data": {
      "text/html": [
       "<ol class=list-inline>\n",
       "\t<li>15</li>\n",
       "\t<li>6</li>\n",
       "\t<li>18</li>\n",
       "\t<li>24</li>\n",
       "</ol>\n"
      ],
      "text/latex": [
       "\\begin{enumerate*}\n",
       "\\item 15\n",
       "\\item 6\n",
       "\\item 18\n",
       "\\item 24\n",
       "\\end{enumerate*}\n"
      ],
      "text/markdown": [
       "1. 15\n",
       "2. 6\n",
       "3. 18\n",
       "4. 24\n",
       "\n",
       "\n"
      ],
      "text/plain": [
       "[1] 15  6 18 24"
      ]
     },
     "execution_count": 188,
     "metadata": {},
     "output_type": "execute_result"
    }
   ],
   "source": [
    "w<- c(5,2,9,12)\n",
    "ifelse(w > 6,2*w,3*w)"
   ]
  },
  {
   "cell_type": "markdown",
   "metadata": {},
   "source": [
    "### Prueba del vector igualdad"
   ]
  },
  {
   "cell_type": "code",
   "execution_count": 189,
   "metadata": {
    "collapsed": false
   },
   "outputs": [
    {
     "data": {
      "text/html": [
       "<ol class=list-inline>\n",
       "\t<li>TRUE</li>\n",
       "\t<li>FALSE</li>\n",
       "\t<li>FALSE</li>\n",
       "</ol>\n"
      ],
      "text/latex": [
       "\\begin{enumerate*}\n",
       "\\item TRUE\n",
       "\\item FALSE\n",
       "\\item FALSE\n",
       "\\end{enumerate*}\n"
      ],
      "text/markdown": [
       "1. TRUE\n",
       "2. FALSE\n",
       "3. FALSE\n",
       "\n",
       "\n"
      ],
      "text/plain": [
       "[1]  TRUE FALSE FALSE"
      ]
     },
     "execution_count": 189,
     "metadata": {},
     "output_type": "execute_result"
    }
   ],
   "source": [
    "a <- 1:3\n",
    "b <- c(1, 3, 4)\n",
    "a ==b      # No trabaja =="
   ]
  },
  {
   "cell_type": "markdown",
   "metadata": {},
   "source": [
    "¿ Qué ha ocurrido?\n",
    "\n",
    "El punto aquí es que estamos tratando con vectorización y \"==\" es una función vectorizada. "
   ]
  },
  {
   "cell_type": "code",
   "execution_count": 190,
   "metadata": {
    "collapsed": false
   },
   "outputs": [
    {
     "data": {
      "text/html": [
       "FALSE"
      ],
      "text/latex": [
       "FALSE"
      ],
      "text/markdown": [
       "FALSE"
      ],
      "text/plain": [
       "[1] FALSE"
      ]
     },
     "execution_count": 190,
     "metadata": {},
     "output_type": "execute_result"
    },
    {
     "data": {
      "text/html": [
       "FALSE"
      ],
      "text/latex": [
       "FALSE"
      ],
      "text/markdown": [
       "FALSE"
      ],
      "text/plain": [
       "[1] FALSE"
      ]
     },
     "execution_count": 190,
     "metadata": {},
     "output_type": "execute_result"
    }
   ],
   "source": [
    "\"==\"(3,2)\n",
    "i <- 2\n",
    "\"==\"(2,5)"
   ]
  },
  {
   "cell_type": "code",
   "execution_count": 191,
   "metadata": {
    "collapsed": false
   },
   "outputs": [
    {
     "data": {
      "text/html": [
       "<ol class=list-inline>\n",
       "\t<li>TRUE</li>\n",
       "\t<li>FALSE</li>\n",
       "\t<li>FALSE</li>\n",
       "\t<li>FALSE</li>\n",
       "</ol>\n"
      ],
      "text/latex": [
       "\\begin{enumerate*}\n",
       "\\item TRUE\n",
       "\\item FALSE\n",
       "\\item FALSE\n",
       "\\item FALSE\n",
       "\\end{enumerate*}\n"
      ],
      "text/markdown": [
       "1. TRUE\n",
       "2. FALSE\n",
       "3. FALSE\n",
       "4. FALSE\n",
       "\n",
       "\n"
      ],
      "text/plain": [
       "[1]  TRUE FALSE FALSE FALSE"
      ]
     },
     "execution_count": 191,
     "metadata": {},
     "output_type": "execute_result"
    },
    {
     "data": {
      "text/html": [
       "FALSE"
      ],
      "text/latex": [
       "FALSE"
      ],
      "text/markdown": [
       "FALSE"
      ],
      "text/plain": [
       "[1] FALSE"
      ]
     },
     "execution_count": 191,
     "metadata": {},
     "output_type": "execute_result"
    }
   ],
   "source": [
    "# Usemos all() junto con \"==\"\n",
    "\n",
    "d<- 1:4\n",
    "e <- c(1,3,5,6)\n",
    "d == e\n",
    "all(d ==e)"
   ]
  },
  {
   "cell_type": "markdown",
   "metadata": {},
   "source": [
    "```\n",
    "help(identical)\n",
    "```"
   ]
  },
  {
   "cell_type": "code",
   "execution_count": 192,
   "metadata": {
    "collapsed": false
   },
   "outputs": [
    {
     "data": {
      "text/html": [
       "FALSE"
      ],
      "text/latex": [
       "FALSE"
      ],
      "text/markdown": [
       "FALSE"
      ],
      "text/plain": [
       "[1] FALSE"
      ]
     },
     "execution_count": 192,
     "metadata": {},
     "output_type": "execute_result"
    }
   ],
   "source": [
    "# Usemos la función identical()\n",
    "\n",
    "identical(d,e)"
   ]
  },
  {
   "cell_type": "code",
   "execution_count": 193,
   "metadata": {
    "collapsed": false
   },
   "outputs": [
    {
     "data": {
      "text/html": [
       "<ol class=list-inline>\n",
       "\t<li>1</li>\n",
       "\t<li>2</li>\n",
       "</ol>\n"
      ],
      "text/latex": [
       "\\begin{enumerate*}\n",
       "\\item 1\n",
       "\\item 2\n",
       "\\end{enumerate*}\n"
      ],
      "text/markdown": [
       "1. 1\n",
       "2. 2\n",
       "\n",
       "\n"
      ],
      "text/plain": [
       "[1] 1 2"
      ]
     },
     "execution_count": 193,
     "metadata": {},
     "output_type": "execute_result"
    },
    {
     "data": {
      "text/html": [
       "<ol class=list-inline>\n",
       "\t<li>1</li>\n",
       "\t<li>2</li>\n",
       "</ol>\n"
      ],
      "text/latex": [
       "\\begin{enumerate*}\n",
       "\\item 1\n",
       "\\item 2\n",
       "\\end{enumerate*}\n"
      ],
      "text/markdown": [
       "1. 1\n",
       "2. 2\n",
       "\n",
       "\n"
      ],
      "text/plain": [
       "[1] 1 2"
      ]
     },
     "execution_count": 193,
     "metadata": {},
     "output_type": "execute_result"
    },
    {
     "data": {
      "text/html": [
       "FALSE"
      ],
      "text/latex": [
       "FALSE"
      ],
      "text/markdown": [
       "FALSE"
      ],
      "text/plain": [
       "[1] FALSE"
      ]
     },
     "execution_count": 193,
     "metadata": {},
     "output_type": "execute_result"
    },
    {
     "data": {
      "text/html": [
       "'integer'"
      ],
      "text/latex": [
       "'integer'"
      ],
      "text/markdown": [
       "'integer'"
      ],
      "text/plain": [
       "[1] \"integer\""
      ]
     },
     "execution_count": 193,
     "metadata": {},
     "output_type": "execute_result"
    },
    {
     "data": {
      "text/html": [
       "'double'"
      ],
      "text/latex": [
       "'double'"
      ],
      "text/markdown": [
       "'double'"
      ],
      "text/plain": [
       "[1] \"double\""
      ]
     },
     "execution_count": 193,
     "metadata": {},
     "output_type": "execute_result"
    }
   ],
   "source": [
    "xa <- 1:2\n",
    "ya <- c(1,2)\n",
    "xa\n",
    "ya\n",
    "identical(xa,ya)\n",
    "typeof(xa)\n",
    "typeof(ya)\n"
   ]
  },
  {
   "cell_type": "raw",
   "metadata": {},
   "source": [
    "Así  :  produce enteros, mientras que c() produce números flotantes."
   ]
  },
  {
   "cell_type": "markdown",
   "metadata": {},
   "source": [
    "### Nombres en los vectores \n",
    "\n",
    "Los elementos de un vector opcionalmente pueden tener  nombres. Podemos asignar o consultar los nombres de los elementos de un vector  a través de la función **names()**."
   ]
  },
  {
   "cell_type": "code",
   "execution_count": 194,
   "metadata": {
    "collapsed": false
   },
   "outputs": [
    {
     "data": {
      "text/plain": [
       "NULL"
      ]
     },
     "execution_count": 194,
     "metadata": {},
     "output_type": "execute_result"
    },
    {
     "data": {
      "text/html": [
       "<ol class=list-inline>\n",
       "\t<li>'R'</li>\n",
       "\t<li>'Python'</li>\n",
       "\t<li>'C'</li>\n",
       "\t<li>'JS'</li>\n",
       "</ol>\n"
      ],
      "text/latex": [
       "\\begin{enumerate*}\n",
       "\\item 'R'\n",
       "\\item 'Python'\n",
       "\\item 'C'\n",
       "\\item 'JS'\n",
       "\\end{enumerate*}\n"
      ],
      "text/markdown": [
       "1. 'R'\n",
       "2. 'Python'\n",
       "3. 'C'\n",
       "4. 'JS'\n",
       "\n",
       "\n"
      ],
      "text/plain": [
       "[1] \"R\"      \"Python\" \"C\"      \"JS\"    "
      ]
     },
     "execution_count": 194,
     "metadata": {},
     "output_type": "execute_result"
    },
    {
     "data": {
      "text/html": [
       "<dl class=dl-horizontal>\n",
       "\t<dt>R</dt>\n",
       "\t\t<dd>1</dd>\n",
       "\t<dt>Python</dt>\n",
       "\t\t<dd>2</dd>\n",
       "\t<dt>C</dt>\n",
       "\t\t<dd>3</dd>\n",
       "\t<dt>JS</dt>\n",
       "\t\t<dd>4</dd>\n",
       "</dl>\n"
      ],
      "text/latex": [
       "\\begin{description*}\n",
       "\\item[R] 1\n",
       "\\item[Python] 2\n",
       "\\item[C] 3\n",
       "\\item[JS] 4\n",
       "\\end{description*}\n"
      ],
      "text/markdown": [
       "R\n",
       ":   1Python\n",
       ":   2C\n",
       ":   3JS\n",
       ":   4\n",
       "\n"
      ],
      "text/plain": [
       "     R Python      C     JS \n",
       "     1      2      3      4 "
      ]
     },
     "execution_count": 194,
     "metadata": {},
     "output_type": "execute_result"
    }
   ],
   "source": [
    "zz<- c(1,2,3,4)\n",
    "names(zz)\n",
    "names(zz)<- c(\"R\", \"Python\", \"C\", \"JS\")\n",
    "names(zz)\n",
    "zz"
   ]
  },
  {
   "cell_type": "code",
   "execution_count": 195,
   "metadata": {
    "collapsed": false
   },
   "outputs": [
    {
     "data": {
      "text/html": [
       "<ol class=list-inline>\n",
       "\t<li>1</li>\n",
       "\t<li>2</li>\n",
       "\t<li>3</li>\n",
       "\t<li>4</li>\n",
       "</ol>\n"
      ],
      "text/latex": [
       "\\begin{enumerate*}\n",
       "\\item 1\n",
       "\\item 2\n",
       "\\item 3\n",
       "\\item 4\n",
       "\\end{enumerate*}\n"
      ],
      "text/markdown": [
       "1. 1\n",
       "2. 2\n",
       "3. 3\n",
       "4. 4\n",
       "\n",
       "\n"
      ],
      "text/plain": [
       "[1] 1 2 3 4"
      ]
     },
     "execution_count": 195,
     "metadata": {},
     "output_type": "execute_result"
    }
   ],
   "source": [
    "# Podemos remover los nombres desde un vector usando NULL\n",
    "\n",
    "names(zz)<-NULL\n",
    "zz"
   ]
  },
  {
   "cell_type": "code",
   "execution_count": 196,
   "metadata": {
    "collapsed": false
   },
   "outputs": [
    {
     "data": {
      "text/html": [
       "<strong>C:</strong> 2"
      ],
      "text/latex": [
       "\\textbf{C:} 2"
      ],
      "text/markdown": [
       "**C:** 2"
      ],
      "text/plain": [
       "C \n",
       "2 "
      ]
     },
     "execution_count": 196,
     "metadata": {},
     "output_type": "execute_result"
    }
   ],
   "source": [
    "# Podemos referenciar elementos del vector por nombres\n",
    "\n",
    "zz<- c(1,2,3,4)\n",
    "names(zz) <- c(\"R\", \"C\", \"Python\", \"JS\")\n",
    "zz[\"C\"]\n"
   ]
  },
  {
   "cell_type": "markdown",
   "metadata": {},
   "source": [
    "###  Más sobre c()"
   ]
  },
  {
   "cell_type": "code",
   "execution_count": 197,
   "metadata": {
    "collapsed": false
   },
   "outputs": [
    {
     "data": {
      "text/html": [
       "<ol class=list-inline>\n",
       "\t<li>'1'</li>\n",
       "\t<li>'2'</li>\n",
       "\t<li>'Mili'</li>\n",
       "</ol>\n"
      ],
      "text/latex": [
       "\\begin{enumerate*}\n",
       "\\item '1'\n",
       "\\item '2'\n",
       "\\item 'Mili'\n",
       "\\end{enumerate*}\n"
      ],
      "text/markdown": [
       "1. '1'\n",
       "2. '2'\n",
       "3. 'Mili'\n",
       "\n",
       "\n"
      ],
      "text/plain": [
       "[1] \"1\"    \"2\"    \"Mili\""
      ]
     },
     "execution_count": 197,
     "metadata": {},
     "output_type": "execute_result"
    },
    {
     "data": {
      "text/html": [
       "<dl>\n",
       "\t<dt>[[1]]</dt>\n",
       "\t\t<dd>1</dd>\n",
       "\t<dt>[[2]]</dt>\n",
       "\t\t<dd>2</dd>\n",
       "\t<dt>$a</dt>\n",
       "\t\t<dd>'Python'</dd>\n",
       "\t<dt>$b</dt>\n",
       "\t\t<dd>'R'</dd>\n",
       "</dl>\n"
      ],
      "text/latex": [
       "\\begin{description}\n",
       "\\item[{[[1]]}] 1\n",
       "\\item[{[[2]]}] 2\n",
       "\\item[\\$a] 'Python'\n",
       "\\item[\\$b] 'R'\n",
       "\\end{description}\n"
      ],
      "text/markdown": [
       "[[1]]\n",
       ":   1\n",
       "[[2]]\n",
       ":   2\n",
       "$a\n",
       ":   'Python'\n",
       "$b\n",
       ":   'R'\n",
       "\n",
       "\n"
      ],
      "text/plain": [
       "[[1]]\n",
       "[1] 1\n",
       "\n",
       "[[2]]\n",
       "[1] 2\n",
       "\n",
       "$a\n",
       "[1] \"Python\"\n",
       "\n",
       "$b\n",
       "[1] \"R\"\n"
      ]
     },
     "execution_count": 197,
     "metadata": {},
     "output_type": "execute_result"
    }
   ],
   "source": [
    "c(1,2,\"Mili\")\n",
    "c(1,2,list(a=\"Python\",b=\"R\"))"
   ]
  },
  {
   "cell_type": "markdown",
   "metadata": {},
   "source": [
    "Otro punto a tener en cuenta es que **c()** tiene un efecto 'aplanamiento' de vectores, como en este ejemplo:"
   ]
  },
  {
   "cell_type": "code",
   "execution_count": 198,
   "metadata": {
    "collapsed": false
   },
   "outputs": [
    {
     "data": {
      "text/html": [
       "<ol class=list-inline>\n",
       "\t<li>5</li>\n",
       "\t<li>6</li>\n",
       "\t<li>4.5</li>\n",
       "\t<li>6</li>\n",
       "</ol>\n"
      ],
      "text/latex": [
       "\\begin{enumerate*}\n",
       "\\item 5\n",
       "\\item 6\n",
       "\\item 4.5\n",
       "\\item 6\n",
       "\\end{enumerate*}\n"
      ],
      "text/markdown": [
       "1. 5\n",
       "2. 6\n",
       "3. 4.5\n",
       "4. 6\n",
       "\n",
       "\n"
      ],
      "text/plain": [
       "[1] 5.0 6.0 4.5 6.0"
      ]
     },
     "execution_count": 198,
     "metadata": {},
     "output_type": "execute_result"
    }
   ],
   "source": [
    "c(5,6,c(4.5,6)) # Debe salir 5.0 6.0 4.5 6.0"
   ]
  },
  {
   "cell_type": "markdown",
   "metadata": {},
   "source": [
    "## Matrices"
   ]
  },
  {
   "cell_type": "markdown",
   "metadata": {},
   "source": [
    "Agregando un atributo **dim()** a un vector atómico permite un comportamiento como el de un * array multidimensional*. \n",
    "Un caso especial de un array es de **matrix** que tiene dos dimensiones. \n",
    "Las matrices son comunmente usadas como parte de la maquinaria matemática de estadística. Los arrays son menos \n",
    "frecuentes pero es bueno estar concientes de ellos.\n",
    "\n",
    "Las matrices y arrays son creadas con las funciones *matrix()* y *array()* o usando la forma de asignación de *dim()*."
   ]
  },
  {
   "cell_type": "code",
   "execution_count": 199,
   "metadata": {
    "collapsed": false
   },
   "outputs": [
    {
     "data": {
      "text/html": [
       "<table>\n",
       "<tbody>\n",
       "\t<tr><td>1</td><td>3</td><td>5</td></tr>\n",
       "\t<tr><td>2</td><td>4</td><td>6</td></tr>\n",
       "</tbody>\n",
       "</table>\n"
      ],
      "text/latex": [
       "\\begin{tabular}{lll}\n",
       "\t 1 & 3 & 5\\\\\n",
       "\t 2 & 4 & 6\\\\\n",
       "\\end{tabular}\n"
      ],
      "text/markdown": [
       "1. 1\n",
       "2. 2\n",
       "3. 3\n",
       "4. 4\n",
       "5. 5\n",
       "6. 6\n",
       "\n",
       "\n"
      ],
      "text/plain": [
       "     [,1] [,2] [,3]\n",
       "[1,]    1    3    5\n",
       "[2,]    2    4    6"
      ]
     },
     "execution_count": 199,
     "metadata": {},
     "output_type": "execute_result"
    },
    {
     "data": {
      "text/html": [
       "<table>\n",
       "<tbody>\n",
       "\t<tr><td> 1</td><td> 4</td><td> 7</td><td>10</td></tr>\n",
       "\t<tr><td> 2</td><td> 5</td><td> 8</td><td>11</td></tr>\n",
       "\t<tr><td> 3</td><td> 6</td><td> 9</td><td>12</td></tr>\n",
       "</tbody>\n",
       "</table>\n"
      ],
      "text/latex": [
       "\\begin{tabular}{llll}\n",
       "\t  1 &  4 &  7 & 10\\\\\n",
       "\t  2 &  5 &  8 & 11\\\\\n",
       "\t  3 &  6 &  9 & 12\\\\\n",
       "\\end{tabular}\n"
      ],
      "text/markdown": [
       "1. 1\n",
       "2. 2\n",
       "3. 3\n",
       "4. 4\n",
       "5. 5\n",
       "6. 6\n",
       "7. 7\n",
       "8. 8\n",
       "9. 9\n",
       "10. 10\n",
       "11. 11\n",
       "12. 12\n",
       "\n",
       "\n"
      ],
      "text/plain": [
       "     [,1] [,2] [,3] [,4]\n",
       "[1,]    1    4    7   10\n",
       "[2,]    2    5    8   11\n",
       "[3,]    3    6    9   12"
      ]
     },
     "execution_count": 199,
     "metadata": {},
     "output_type": "execute_result"
    },
    {
     "data": {
      "text/html": [
       "<table>\n",
       "<tbody>\n",
       "\t<tr><td>1</td><td>5</td><td>9</td></tr>\n",
       "\t<tr><td> 2</td><td> 6</td><td>10</td></tr>\n",
       "\t<tr><td> 3</td><td> 7</td><td>11</td></tr>\n",
       "\t<tr><td> 4</td><td> 8</td><td>12</td></tr>\n",
       "</tbody>\n",
       "</table>\n"
      ],
      "text/latex": [
       "\\begin{tabular}{lll}\n",
       "\t 1 & 5 & 9\\\\\n",
       "\t  2 &  6 & 10\\\\\n",
       "\t  3 &  7 & 11\\\\\n",
       "\t  4 &  8 & 12\\\\\n",
       "\\end{tabular}\n"
      ],
      "text/markdown": [
       "1. 1\n",
       "2. 2\n",
       "3. 3\n",
       "4. 4\n",
       "5. 5\n",
       "6. 6\n",
       "7. 7\n",
       "8. 8\n",
       "9. 9\n",
       "10. 10\n",
       "11. 11\n",
       "12. 12\n",
       "\n",
       "\n"
      ],
      "text/plain": [
       "     [,1] [,2] [,3]\n",
       "[1,]    1    5    9\n",
       "[2,]    2    6   10\n",
       "[3,]    3    7   11\n",
       "[4,]    4    8   12"
      ]
     },
     "execution_count": 199,
     "metadata": {},
     "output_type": "execute_result"
    }
   ],
   "source": [
    "# Dos argumentos escalares para especificar filas y columnas\n",
    "\n",
    "m <- matrix(1:6, ncol=3, nrow=2)\n",
    "m\n",
    "# Un argumento en forma de vector que describe todas las dimensiones\n",
    "\n",
    "n <-array(1:12, c(2,3, 2))\n",
    "\n",
    "# Podemos modificar un objeto en su lugar en base a dim()\n",
    "\n",
    "p<- 1:12\n",
    "dim(p) <- c(3,4)\n",
    "p\n",
    "dim(p) <-c(4,3)\n",
    "p\n"
   ]
  },
  {
   "cell_type": "markdown",
   "metadata": {},
   "source": [
    "#### *length()* y *names* tiene generalizaciones en mayores dimensiones:\n",
    "\n",
    "* length() generaliza a *nrow()* y *ncol()* para matrices y *dim()* para arrays.\n",
    "\n",
    "* names()generaliza a *rownames()* y *colnames()* para matrices y *dimnames()* una lista de  vectores de caracteres para arrays.\n",
    " "
   ]
  },
  {
   "cell_type": "code",
   "execution_count": 200,
   "metadata": {
    "collapsed": false
   },
   "outputs": [
    {
     "data": {
      "text/html": [
       "6"
      ],
      "text/latex": [
       "6"
      ],
      "text/markdown": [
       "6"
      ],
      "text/plain": [
       "[1] 6"
      ]
     },
     "execution_count": 200,
     "metadata": {},
     "output_type": "execute_result"
    },
    {
     "data": {
      "text/html": [
       "2"
      ],
      "text/latex": [
       "2"
      ],
      "text/markdown": [
       "2"
      ],
      "text/plain": [
       "[1] 2"
      ]
     },
     "execution_count": 200,
     "metadata": {},
     "output_type": "execute_result"
    },
    {
     "data": {
      "text/html": [
       "3"
      ],
      "text/latex": [
       "3"
      ],
      "text/markdown": [
       "3"
      ],
      "text/plain": [
       "[1] 3"
      ]
     },
     "execution_count": 200,
     "metadata": {},
     "output_type": "execute_result"
    },
    {
     "data": {
      "text/html": [
       "<table>\n",
       "<thead><tr><th></th><th scope=col>C</th><th scope=col>C++</th><th scope=col>JS</th></tr></thead>\n",
       "<tbody>\n",
       "\t<tr><th scope=row>Python</th><td>1</td><td>3</td><td>5</td></tr>\n",
       "\t<tr><th scope=row>R</th><td>2</td><td>4</td><td>6</td></tr>\n",
       "</tbody>\n",
       "</table>\n"
      ],
      "text/latex": [
       "\\begin{tabular}{r|lll}\n",
       "  & C & C++ & JS\\\\\n",
       "\\hline\n",
       "\tPython & 1 & 3 & 5\\\\\n",
       "\tR & 2 & 4 & 6\\\\\n",
       "\\end{tabular}\n"
      ],
      "text/markdown": [
       "1. 1\n",
       "2. 2\n",
       "3. 3\n",
       "4. 4\n",
       "5. 5\n",
       "6. 6\n",
       "\n",
       "\n"
      ],
      "text/plain": [
       "       C C++ JS\n",
       "Python 1   3  5\n",
       "R      2   4  6"
      ]
     },
     "execution_count": 200,
     "metadata": {},
     "output_type": "execute_result"
    },
    {
     "data": {
      "text/html": [
       "12"
      ],
      "text/latex": [
       "12"
      ],
      "text/markdown": [
       "12"
      ],
      "text/plain": [
       "[1] 12"
      ]
     },
     "execution_count": 200,
     "metadata": {},
     "output_type": "execute_result"
    },
    {
     "data": {
      "text/html": [
       "<ol class=list-inline>\n",
       "\t<li>2</li>\n",
       "\t<li>3</li>\n",
       "\t<li>2</li>\n",
       "</ol>\n"
      ],
      "text/latex": [
       "\\begin{enumerate*}\n",
       "\\item 2\n",
       "\\item 3\n",
       "\\item 2\n",
       "\\end{enumerate*}\n"
      ],
      "text/markdown": [
       "1. 2\n",
       "2. 3\n",
       "3. 2\n",
       "\n",
       "\n"
      ],
      "text/plain": [
       "[1] 2 3 2"
      ]
     },
     "execution_count": 200,
     "metadata": {},
     "output_type": "execute_result"
    },
    {
     "data": {
      "text/html": [
       "<ol class=list-inline>\n",
       "\t<li>1</li>\n",
       "\t<li>2</li>\n",
       "\t<li>3</li>\n",
       "\t<li>4</li>\n",
       "\t<li>5</li>\n",
       "\t<li>6</li>\n",
       "\t<li>7</li>\n",
       "\t<li>8</li>\n",
       "\t<li>9</li>\n",
       "\t<li>10</li>\n",
       "\t<li>11</li>\n",
       "\t<li>12</li>\n",
       "</ol>\n"
      ],
      "text/latex": [
       "\\begin{enumerate*}\n",
       "\\item 1\n",
       "\\item 2\n",
       "\\item 3\n",
       "\\item 4\n",
       "\\item 5\n",
       "\\item 6\n",
       "\\item 7\n",
       "\\item 8\n",
       "\\item 9\n",
       "\\item 10\n",
       "\\item 11\n",
       "\\item 12\n",
       "\\end{enumerate*}\n"
      ],
      "text/markdown": [
       "1. 1\n",
       "2. 2\n",
       "3. 3\n",
       "4. 4\n",
       "5. 5\n",
       "6. 6\n",
       "7. 7\n",
       "8. 8\n",
       "9. 9\n",
       "10. 10\n",
       "11. 11\n",
       "12. 12\n",
       "\n",
       "\n"
      ],
      "text/plain": [
       ", , L\n",
       "\n",
       "  ER D S\n",
       "M  1 3 5\n",
       "E  2 4 6\n",
       "\n",
       ", , C\n",
       "\n",
       "  ER  D  S\n",
       "M  7  9 11\n",
       "E  8 10 12\n"
      ]
     },
     "execution_count": 200,
     "metadata": {},
     "output_type": "execute_result"
    }
   ],
   "source": [
    "length(m)\n",
    "nrow(m)\n",
    "ncol(m)\n",
    "rownames(m)<- c(\"Python\", \"R\")\n",
    "colnames(m)<-c(\"C\", \"C++\", \"JS\")\n",
    "m\n",
    "length(n)\n",
    "dim(n)\n",
    "dimnames(n) <-list(c(\"M\", \"E\"), c(\"ER\", \"D\", \"S\"), c(\"L\", \"C\")) # Error de IPython-Jupiter\n",
    "n"
   ]
  },
  {
   "cell_type": "markdown",
   "metadata": {},
   "source": [
    "*c()* generaliza a *cbind()* y *rbind()*, para matrices y a *abind()* (dado por el paquete **abind()** ) para arrays. Tu puedes transponer una matriz, usando la función *t()*; la equivalente generalizada para arrays es *aperm()*.\n",
    "\n",
    "Se puede probar si un objeto es una matriz o array, usando *is.matrix()* y *is.array()* o mirando a la longitud del *dim().as.matrix()* y *as.array()* que hace  fácil  convertir un vector existente en una matriz o un array.\n",
    "\n",
    "Los vectores no son la única estructura de datos 1-dimensional. Tu puedes tener matrices con una sola fila o columna o array con una sola dimensión. Ellos se pueden imprimir de manera similar, pero se comportarán de forma diferente. Las diferencias no son demasiado importantes, pero es útil saber que existen en caso de que se tenga una  salida estraña desde una función (**tapply()** por ejemplo). Es siempre útil, usar *str()* para revelar diferencias."
   ]
  },
  {
   "cell_type": "code",
   "execution_count": 201,
   "metadata": {
    "collapsed": false
   },
   "outputs": [
    {
     "name": "stdout",
     "output_type": "stream",
     "text": [
      " int [1:5] 1 2 3 4 5\n",
      " int [1:3, 1] 1 2 3\n",
      " int [1, 1:3] 1 2 3\n",
      " int [1:4(1d)] 1 2 3 4\n"
     ]
    }
   ],
   "source": [
    "str(1:5)     # vector 1d\n",
    "str(matrix(1:3, ncol=1)) # vector columna \n",
    "str(matrix(1:3, nrow=1))  # vector fila\n",
    "str(array(1:4, 4))        # vector array"
   ]
  },
  {
   "cell_type": "markdown",
   "metadata": {},
   "source": [
    "Mientras que los vectores atómicos se usan con mayor frecuencia en matrices, el atributo de dimensión también se puede configurar en las listas para hacer una mixed de  lista-matrices o lista-arrays. Estas son estructuras de datos son algo  esotéricas, pero pueden ser útil si se desea organizar objetos en una estructura grid. Por ejemplo, si se está ejecutando modelos en una cuadrícula espacio-temporal, podría ser natural para preservar la estructura grid mediante el almacenamiento del  modelos en una matriz 3D."
   ]
  },
  {
   "cell_type": "code",
   "execution_count": 202,
   "metadata": {
    "collapsed": false
   },
   "outputs": [
    {
     "data": {
      "text/html": [
       "<table>\n",
       "<tbody>\n",
       "\t<tr><td>1, 2, 3, 4, 5</td><td>TRUE</td></tr>\n",
       "\t<tr><td>python</td><td>2.9</td></tr>\n",
       "</tbody>\n",
       "</table>\n"
      ],
      "text/latex": [
       "\\begin{tabular}{ll}\n",
       "\t 1, 2, 3, 4, 5 & TRUE\\\\\n",
       "\t python & 2.9\\\\\n",
       "\\end{tabular}\n"
      ],
      "text/markdown": [
       "1. 1. 1\n",
       "2. 2\n",
       "3. 3\n",
       "4. 4\n",
       "5. 5\n",
       "\n",
       "\n",
       "\n",
       "2. 'python'\n",
       "3. TRUE\n",
       "4. 2.9\n",
       "\n",
       "\n"
      ],
      "text/plain": [
       "     [,1]      [,2]\n",
       "[1,] Integer,5 TRUE\n",
       "[2,] \"python\"  2.9 "
      ]
     },
     "execution_count": 202,
     "metadata": {},
     "output_type": "execute_result"
    }
   ],
   "source": [
    "l <- list(1:5, \"python\", TRUE, 2.9)\n",
    "dim(l) <- c(2,2)\n",
    "l"
   ]
  },
  {
   "cell_type": "markdown",
   "metadata": {},
   "source": [
    "### Indexando Matrices"
   ]
  },
  {
   "cell_type": "code",
   "execution_count": 203,
   "metadata": {
    "collapsed": false
   },
   "outputs": [
    {
     "data": {
      "text/html": [
       "<table>\n",
       "<tbody>\n",
       "\t<tr><td>1</td><td>1</td><td>1</td></tr>\n",
       "\t<tr><td>2</td><td>1</td><td>0</td></tr>\n",
       "\t<tr><td>3</td><td>0</td><td>1</td></tr>\n",
       "\t<tr><td>4</td><td>0</td><td>0</td></tr>\n",
       "</tbody>\n",
       "</table>\n"
      ],
      "text/latex": [
       "\\begin{tabular}{lll}\n",
       "\t 1 & 1 & 1\\\\\n",
       "\t 2 & 1 & 0\\\\\n",
       "\t 3 & 0 & 1\\\\\n",
       "\t 4 & 0 & 0\\\\\n",
       "\\end{tabular}\n"
      ],
      "text/markdown": [
       "1. 1\n",
       "2. 2\n",
       "3. 3\n",
       "4. 4\n",
       "5. 1\n",
       "6. 1\n",
       "7. 0\n",
       "8. 0\n",
       "9. 1\n",
       "10. 0\n",
       "11. 1\n",
       "12. 0\n",
       "\n",
       "\n"
      ],
      "text/plain": [
       "     [,1] [,2] [,3]\n",
       "[1,]    1    1    1\n",
       "[2,]    2    1    0\n",
       "[3,]    3    0    1\n",
       "[4,]    4    0    0"
      ]
     },
     "execution_count": 203,
     "metadata": {},
     "output_type": "execute_result"
    },
    {
     "data": {
      "text/html": [
       "<table>\n",
       "<tbody>\n",
       "\t<tr><td>1</td><td>1</td></tr>\n",
       "\t<tr><td>1</td><td>0</td></tr>\n",
       "\t<tr><td>0</td><td>1</td></tr>\n",
       "\t<tr><td>0</td><td>0</td></tr>\n",
       "</tbody>\n",
       "</table>\n"
      ],
      "text/latex": [
       "\\begin{tabular}{ll}\n",
       "\t 1 & 1\\\\\n",
       "\t 1 & 0\\\\\n",
       "\t 0 & 1\\\\\n",
       "\t 0 & 0\\\\\n",
       "\\end{tabular}\n"
      ],
      "text/markdown": [
       "1. 1\n",
       "2. 1\n",
       "3. 0\n",
       "4. 0\n",
       "5. 1\n",
       "6. 0\n",
       "7. 1\n",
       "8. 0\n",
       "\n",
       "\n"
      ],
      "text/plain": [
       "     [,1] [,2]\n",
       "[1,]    1    1\n",
       "[2,]    1    0\n",
       "[3,]    0    1\n",
       "[4,]    0    0"
      ]
     },
     "execution_count": 203,
     "metadata": {},
     "output_type": "execute_result"
    },
    {
     "data": {
      "text/html": [
       "<table>\n",
       "<tbody>\n",
       "\t<tr><td>11</td><td>12</td></tr>\n",
       "\t<tr><td>21</td><td>23</td></tr>\n",
       "\t<tr><td>31</td><td>34</td></tr>\n",
       "</tbody>\n",
       "</table>\n"
      ],
      "text/latex": [
       "\\begin{tabular}{ll}\n",
       "\t 11 & 12\\\\\n",
       "\t 21 & 23\\\\\n",
       "\t 31 & 34\\\\\n",
       "\\end{tabular}\n"
      ],
      "text/markdown": [
       "1. 11\n",
       "2. 21\n",
       "3. 31\n",
       "4. 12\n",
       "5. 23\n",
       "6. 34\n",
       "\n",
       "\n"
      ],
      "text/plain": [
       "     [,1] [,2]\n",
       "[1,]   11   12\n",
       "[2,]   21   23\n",
       "[3,]   31   34"
      ]
     },
     "execution_count": 203,
     "metadata": {},
     "output_type": "execute_result"
    },
    {
     "data": {
      "text/html": [
       "<table>\n",
       "<tbody>\n",
       "\t<tr><td>21</td><td>23</td></tr>\n",
       "\t<tr><td>31</td><td>34</td></tr>\n",
       "</tbody>\n",
       "</table>\n"
      ],
      "text/latex": [
       "\\begin{tabular}{ll}\n",
       "\t 21 & 23\\\\\n",
       "\t 31 & 34\\\\\n",
       "\\end{tabular}\n"
      ],
      "text/markdown": [
       "1. 21\n",
       "2. 31\n",
       "3. 23\n",
       "4. 34\n",
       "\n",
       "\n"
      ],
      "text/plain": [
       "     [,1] [,2]\n",
       "[1,]   21   23\n",
       "[2,]   31   34"
      ]
     },
     "execution_count": 203,
     "metadata": {},
     "output_type": "execute_result"
    },
    {
     "data": {
      "text/html": [
       "<ol class=list-inline>\n",
       "\t<li>23</li>\n",
       "\t<li>34</li>\n",
       "</ol>\n"
      ],
      "text/latex": [
       "\\begin{enumerate*}\n",
       "\\item 23\n",
       "\\item 34\n",
       "\\end{enumerate*}\n"
      ],
      "text/markdown": [
       "1. 23\n",
       "2. 34\n",
       "\n",
       "\n"
      ],
      "text/plain": [
       "[1] 23 34"
      ]
     },
     "execution_count": 203,
     "metadata": {},
     "output_type": "execute_result"
    }
   ],
   "source": [
    "z<-matrix(c(1,2,3,4, 1, 1,0,0, 1, 0,1,0), nrow = 4, ncol =3)\n",
    "z\n",
    "z[, 2:3]  # Extrayendo columnas \n",
    "y <-matrix(c(11, 21, 31, 12, 23, 34), nrow =3)\n",
    "y\n",
    "y[2:3,]   # Extrayendo filas\n",
    "y[2:3, 2]"
   ]
  },
  {
   "cell_type": "code",
   "execution_count": 204,
   "metadata": {
    "collapsed": false
   },
   "outputs": [
    {
     "data": {
      "text/html": [
       "<table>\n",
       "<tbody>\n",
       "\t<tr><td>1</td><td>4</td></tr>\n",
       "\t<tr><td>2</td><td>5</td></tr>\n",
       "\t<tr><td>3</td><td>6</td></tr>\n",
       "</tbody>\n",
       "</table>\n"
      ],
      "text/latex": [
       "\\begin{tabular}{ll}\n",
       "\t 1 & 4\\\\\n",
       "\t 2 & 5\\\\\n",
       "\t 3 & 6\\\\\n",
       "\\end{tabular}\n"
      ],
      "text/markdown": [
       "1. 1\n",
       "2. 2\n",
       "3. 3\n",
       "4. 4\n",
       "5. 5\n",
       "6. 6\n",
       "\n",
       "\n"
      ],
      "text/plain": [
       "     [,1] [,2]\n",
       "[1,]    1    4\n",
       "[2,]    2    5\n",
       "[3,]    3    6"
      ]
     },
     "execution_count": 204,
     "metadata": {},
     "output_type": "execute_result"
    },
    {
     "data": {
      "text/html": [
       "<table>\n",
       "<tbody>\n",
       "\t<tr><td>7</td><td>9</td></tr>\n",
       "\t<tr><td>2</td><td>5</td></tr>\n",
       "\t<tr><td> 8</td><td>11</td></tr>\n",
       "</tbody>\n",
       "</table>\n"
      ],
      "text/latex": [
       "\\begin{tabular}{ll}\n",
       "\t 7 & 9\\\\\n",
       "\t 2 & 5\\\\\n",
       "\t  8 & 11\\\\\n",
       "\\end{tabular}\n"
      ],
      "text/markdown": [
       "1. 7\n",
       "2. 2\n",
       "3. 8\n",
       "4. 9\n",
       "5. 5\n",
       "6. 11\n",
       "\n",
       "\n"
      ],
      "text/plain": [
       "     [,1] [,2]\n",
       "[1,]    7    9\n",
       "[2,]    2    5\n",
       "[3,]    8   11"
      ]
     },
     "execution_count": 204,
     "metadata": {},
     "output_type": "execute_result"
    },
    {
     "data": {
      "text/html": [
       "<table>\n",
       "<tbody>\n",
       "\t<tr><td>4</td><td>2</td></tr>\n",
       "\t<tr><td>5</td><td>3</td></tr>\n",
       "</tbody>\n",
       "</table>\n"
      ],
      "text/latex": [
       "\\begin{tabular}{ll}\n",
       "\t 4 & 2\\\\\n",
       "\t 5 & 3\\\\\n",
       "\\end{tabular}\n"
      ],
      "text/markdown": [
       "1. 4\n",
       "2. 5\n",
       "3. 2\n",
       "4. 3\n",
       "\n",
       "\n"
      ],
      "text/plain": [
       "     [,1] [,2]\n",
       "[1,]    4    2\n",
       "[2,]    5    3"
      ]
     },
     "execution_count": 204,
     "metadata": {},
     "output_type": "execute_result"
    },
    {
     "data": {
      "text/html": [
       "<table>\n",
       "<tbody>\n",
       "\t<tr><td>NA</td><td>NA</td><td>NA</td></tr>\n",
       "\t<tr><td>NA</td><td> 4</td><td> 2</td></tr>\n",
       "\t<tr><td>NA</td><td> 5</td><td> 3</td></tr>\n",
       "</tbody>\n",
       "</table>\n"
      ],
      "text/latex": [
       "\\begin{tabular}{lll}\n",
       "\t NA & NA & NA\\\\\n",
       "\t NA &  4 &  2\\\\\n",
       "\t NA &  5 &  3\\\\\n",
       "\\end{tabular}\n"
      ],
      "text/markdown": [
       "1. NA\n",
       "2. NA\n",
       "3. NA\n",
       "4. NA\n",
       "5. 4\n",
       "6. 5\n",
       "7. NA\n",
       "8. 2\n",
       "9. 3\n",
       "\n",
       "\n"
      ],
      "text/plain": [
       "     [,1] [,2] [,3]\n",
       "[1,]   NA   NA   NA\n",
       "[2,]   NA    4    2\n",
       "[3,]   NA    5    3"
      ]
     },
     "execution_count": 204,
     "metadata": {},
     "output_type": "execute_result"
    }
   ],
   "source": [
    "# Podemos asignar valores a las submatrices\n",
    "\n",
    "y1 <- matrix(c(1,2,3,4,5,6), ncol =2)\n",
    "y1\n",
    "y1[c(1,3), ] <- matrix(c(7,8,9,11), nrow =2)\n",
    "y1\n",
    "\n",
    "xv <- matrix(nrow=3,ncol=3)\n",
    "yv <- matrix(c(4,5,2,3),nrow=2)\n",
    "yv\n",
    "xv[2:3, 2:3]<- yv\n",
    "xv"
   ]
  },
  {
   "cell_type": "code",
   "execution_count": 205,
   "metadata": {
    "collapsed": false
   },
   "outputs": [
    {
     "data": {
      "text/html": [
       "<table>\n",
       "<tbody>\n",
       "\t<tr><td>11</td><td>12</td></tr>\n",
       "\t<tr><td>21</td><td>23</td></tr>\n",
       "\t<tr><td>31</td><td>34</td></tr>\n",
       "</tbody>\n",
       "</table>\n"
      ],
      "text/latex": [
       "\\begin{tabular}{ll}\n",
       "\t 11 & 12\\\\\n",
       "\t 21 & 23\\\\\n",
       "\t 31 & 34\\\\\n",
       "\\end{tabular}\n"
      ],
      "text/markdown": [
       "1. 11\n",
       "2. 21\n",
       "3. 31\n",
       "4. 12\n",
       "5. 23\n",
       "6. 34\n",
       "\n",
       "\n"
      ],
      "text/plain": [
       "     [,1] [,2]\n",
       "[1,]   11   12\n",
       "[2,]   21   23\n",
       "[3,]   31   34"
      ]
     },
     "execution_count": 205,
     "metadata": {},
     "output_type": "execute_result"
    },
    {
     "data": {
      "text/html": [
       "<ol class=list-inline>\n",
       "\t<li>11</li>\n",
       "\t<li>31</li>\n",
       "\t<li>12</li>\n",
       "\t<li>23</li>\n",
       "\t<li>34</li>\n",
       "</ol>\n"
      ],
      "text/latex": [
       "\\begin{enumerate*}\n",
       "\\item 11\n",
       "\\item 31\n",
       "\\item 12\n",
       "\\item 23\n",
       "\\item 34\n",
       "\\end{enumerate*}\n"
      ],
      "text/markdown": [
       "1. 11\n",
       "2. 31\n",
       "3. 12\n",
       "4. 23\n",
       "5. 34\n",
       "\n",
       "\n"
      ],
      "text/plain": [
       "[1] 11 31 12 23 34"
      ]
     },
     "execution_count": 205,
     "metadata": {},
     "output_type": "execute_result"
    }
   ],
   "source": [
    "# Los subindices negativos, usados como vectores, para excluir ciertos elementos sirven para las matrices\n",
    "\n",
    "y\n",
    "y[-2]"
   ]
  },
  {
   "cell_type": "markdown",
   "metadata": {},
   "source": [
    "## Filtrado de Matrices "
   ]
  },
  {
   "cell_type": "code",
   "execution_count": 206,
   "metadata": {
    "collapsed": false
   },
   "outputs": [
    {
     "data": {
      "text/html": [
       "<table>\n",
       "<tbody>\n",
       "\t<tr><td>1</td><td>2</td></tr>\n",
       "\t<tr><td>2</td><td>3</td></tr>\n",
       "\t<tr><td>3</td><td>4</td></tr>\n",
       "</tbody>\n",
       "</table>\n"
      ],
      "text/latex": [
       "\\begin{tabular}{ll}\n",
       "\t 1 & 2\\\\\n",
       "\t 2 & 3\\\\\n",
       "\t 3 & 4\\\\\n",
       "\\end{tabular}\n"
      ],
      "text/markdown": [
       "1. 1\n",
       "2. 2\n",
       "3. 3\n",
       "4. 2\n",
       "5. 3\n",
       "6. 4\n",
       "\n",
       "\n"
      ],
      "text/plain": [
       "     [,1] [,2]\n",
       "[1,]    1    2\n",
       "[2,]    2    3\n",
       "[3,]    3    4"
      ]
     },
     "execution_count": 206,
     "metadata": {},
     "output_type": "execute_result"
    },
    {
     "data": {
      "text/html": [
       "<table>\n",
       "<tbody>\n",
       "\t<tr><td>2</td><td>3</td></tr>\n",
       "\t<tr><td>3</td><td>4</td></tr>\n",
       "</tbody>\n",
       "</table>\n"
      ],
      "text/latex": [
       "\\begin{tabular}{ll}\n",
       "\t 2 & 3\\\\\n",
       "\t 3 & 4\\\\\n",
       "\\end{tabular}\n"
      ],
      "text/markdown": [
       "1. 2\n",
       "2. 3\n",
       "3. 3\n",
       "4. 4\n",
       "\n",
       "\n"
      ],
      "text/plain": [
       "     [,1] [,2]\n",
       "[1,]    2    3\n",
       "[2,]    3    4"
      ]
     },
     "execution_count": 206,
     "metadata": {},
     "output_type": "execute_result"
    }
   ],
   "source": [
    "# Un ejemplo\n",
    "\n",
    "xq <- matrix(c(1,2,3,2,3,4), ncol =2)\n",
    "xq\n",
    "\n",
    "xq[xq[,2] >= 3,]"
   ]
  },
  {
   "cell_type": "code",
   "execution_count": 207,
   "metadata": {
    "collapsed": false
   },
   "outputs": [
    {
     "data": {
      "text/html": [
       "<table>\n",
       "<tbody>\n",
       "\t<tr><td>1</td><td>2</td></tr>\n",
       "\t<tr><td>3</td><td>4</td></tr>\n",
       "</tbody>\n",
       "</table>\n"
      ],
      "text/latex": [
       "\\begin{tabular}{ll}\n",
       "\t 1 & 2\\\\\n",
       "\t 3 & 4\\\\\n",
       "\\end{tabular}\n"
      ],
      "text/markdown": [
       "1. 1\n",
       "2. 3\n",
       "3. 2\n",
       "4. 4\n",
       "\n",
       "\n"
      ],
      "text/plain": [
       "     [,1] [,2]\n",
       "[1,]    1    2\n",
       "[2,]    3    4"
      ]
     },
     "execution_count": 207,
     "metadata": {},
     "output_type": "execute_result"
    }
   ],
   "source": [
    "# El criterio de filtrado se puede basar en una variable separada de  una a la que el filtrado se\n",
    "# se aplicado.\n",
    "\n",
    "zf <- c(5,12,13)\n",
    "xq[zf %% 2 == 1,]"
   ]
  },
  {
   "cell_type": "code",
   "execution_count": 208,
   "metadata": {
    "collapsed": false
   },
   "outputs": [
    {
     "data": {
      "text/html": [
       "<table>\n",
       "<tbody>\n",
       "\t<tr><td>1</td><td>4</td></tr>\n",
       "\t<tr><td>2</td><td>5</td></tr>\n",
       "\t<tr><td>3</td><td>6</td></tr>\n",
       "</tbody>\n",
       "</table>\n"
      ],
      "text/latex": [
       "\\begin{tabular}{ll}\n",
       "\t 1 & 4\\\\\n",
       "\t 2 & 5\\\\\n",
       "\t 3 & 6\\\\\n",
       "\\end{tabular}\n"
      ],
      "text/markdown": [
       "1. 1\n",
       "2. 2\n",
       "3. 3\n",
       "4. 4\n",
       "5. 5\n",
       "6. 6\n",
       "\n",
       "\n"
      ],
      "text/plain": [
       "     [,1] [,2]\n",
       "[1,]    1    4\n",
       "[2,]    2    5\n",
       "[3,]    3    6"
      ]
     },
     "execution_count": 208,
     "metadata": {},
     "output_type": "execute_result"
    },
    {
     "data": {
      "text/html": [
       "<ol class=list-inline>\n",
       "\t<li>3</li>\n",
       "\t<li>6</li>\n",
       "</ol>\n"
      ],
      "text/latex": [
       "\\begin{enumerate*}\n",
       "\\item 3\n",
       "\\item 6\n",
       "\\end{enumerate*}\n"
      ],
      "text/markdown": [
       "1. 3\n",
       "2. 6\n",
       "\n",
       "\n"
      ],
      "text/plain": [
       "[1] 3 6"
      ]
     },
     "execution_count": 208,
     "metadata": {},
     "output_type": "execute_result"
    }
   ],
   "source": [
    "m <-matrix(c(1,2,3,4,5,6), nrow=3)\n",
    "m\n",
    "m[m[,1] > 1 & m[,2] > 5,]"
   ]
  },
  {
   "cell_type": "markdown",
   "metadata": {
    "collapsed": false
   },
   "source": [
    "```\n",
    "Ayuda para las funciones row() y col()\n",
    "\n",
    "help(row)\n",
    "help(col)\n",
    "\n",
    "```"
   ]
  },
  {
   "cell_type": "markdown",
   "metadata": {},
   "source": [
    "## Un ejemplo:  Matriz Covarianza [ Libro Norman Matloff ](http://heather.cs.ucdavis.edu/matloff.html)"
   ]
  },
  {
   "cell_type": "code",
   "execution_count": 209,
   "metadata": {
    "collapsed": true
   },
   "outputs": [],
   "source": [
    "# Usando las funciones row() y col() cuyos argumentos son matrices\n",
    "\n",
    "matrizcoV <- function(rho,n) {\n",
    "    m <- matrix(nrow=n,ncol=n)\n",
    "    m <- ifelse(row(m) == col(m),1,rho) \n",
    "    return(m)\n",
    "}"
   ]
  },
  {
   "cell_type": "code",
   "execution_count": 210,
   "metadata": {
    "collapsed": false
   },
   "outputs": [
    {
     "data": {
      "text/html": [
       "<table>\n",
       "<tbody>\n",
       "\t<tr><td>1.0</td><td>0.2</td><td>0.2</td></tr>\n",
       "\t<tr><td>0.2</td><td>1.0</td><td>0.2</td></tr>\n",
       "\t<tr><td>0.2</td><td>0.2</td><td>1.0</td></tr>\n",
       "</tbody>\n",
       "</table>\n"
      ],
      "text/latex": [
       "\\begin{tabular}{lll}\n",
       "\t 1.0 & 0.2 & 0.2\\\\\n",
       "\t 0.2 & 1.0 & 0.2\\\\\n",
       "\t 0.2 & 0.2 & 1.0\\\\\n",
       "\\end{tabular}\n"
      ],
      "text/markdown": [
       "1. 1\n",
       "2. 0.2\n",
       "3. 0.2\n",
       "4. 0.2\n",
       "5. 1\n",
       "6. 0.2\n",
       "7. 0.2\n",
       "8. 0.2\n",
       "9. 1\n",
       "\n",
       "\n"
      ],
      "text/plain": [
       "     [,1] [,2] [,3]\n",
       "[1,]  1.0  0.2  0.2\n",
       "[2,]  0.2  1.0  0.2\n",
       "[3,]  0.2  0.2  1.0"
      ]
     },
     "execution_count": 210,
     "metadata": {},
     "output_type": "execute_result"
    }
   ],
   "source": [
    "matrizcoV(0.2,3)"
   ]
  },
  {
   "cell_type": "markdown",
   "metadata": {},
   "source": [
    "## Otro ejemplo"
   ]
  },
  {
   "cell_type": "markdown",
   "metadata": {
    "collapsed": true
   },
   "source": [
    "Una práctica común en R es el uso de la espacio para visualizar la dimensionalidad de la data. Los datos\n",
    "siguientes representan las cifras iniciales en el chequeo de una oficial de reembolso de seguro, cuando un\n",
    "auditor financiero, le pidió investigar por fraude."
   ]
  },
  {
   "cell_type": "code",
   "execution_count": 211,
   "metadata": {
    "collapsed": false
   },
   "outputs": [
    {
     "data": {
      "text/html": [
       "<ol class=list-inline>\n",
       "\t<li>1</li>\n",
       "\t<li>132</li>\n",
       "\t<li>86.7</li>\n",
       "\t<li>2</li>\n",
       "\t<li>50</li>\n",
       "\t<li>50.7</li>\n",
       "\t<li>3</li>\n",
       "\t<li>32</li>\n",
       "\t<li>36</li>\n",
       "\t<li>4</li>\n",
       "\t<li>20</li>\n",
       "\t<li>27.9</li>\n",
       "\t<li>5</li>\n",
       "\t<li>19</li>\n",
       "\t<li>22.8</li>\n",
       "\t<li>6</li>\n",
       "\t<li>11</li>\n",
       "\t<li>19.3</li>\n",
       "\t<li>7</li>\n",
       "\t<li>10</li>\n",
       "\t<li>16.7</li>\n",
       "\t<li>8</li>\n",
       "\t<li>9</li>\n",
       "\t<li>14.7</li>\n",
       "\t<li>9</li>\n",
       "\t<li>5</li>\n",
       "\t<li>13.2</li>\n",
       "</ol>\n"
      ],
      "text/latex": [
       "\\begin{enumerate*}\n",
       "\\item 1\n",
       "\\item 132\n",
       "\\item 86.7\n",
       "\\item 2\n",
       "\\item 50\n",
       "\\item 50.7\n",
       "\\item 3\n",
       "\\item 32\n",
       "\\item 36\n",
       "\\item 4\n",
       "\\item 20\n",
       "\\item 27.9\n",
       "\\item 5\n",
       "\\item 19\n",
       "\\item 22.8\n",
       "\\item 6\n",
       "\\item 11\n",
       "\\item 19.3\n",
       "\\item 7\n",
       "\\item 10\n",
       "\\item 16.7\n",
       "\\item 8\n",
       "\\item 9\n",
       "\\item 14.7\n",
       "\\item 9\n",
       "\\item 5\n",
       "\\item 13.2\n",
       "\\end{enumerate*}\n"
      ],
      "text/markdown": [
       "1. 1\n",
       "2. 132\n",
       "3. 86.7\n",
       "4. 2\n",
       "5. 50\n",
       "6. 50.7\n",
       "7. 3\n",
       "8. 32\n",
       "9. 36\n",
       "10. 4\n",
       "11. 20\n",
       "12. 27.9\n",
       "13. 5\n",
       "14. 19\n",
       "15. 22.8\n",
       "16. 6\n",
       "17. 11\n",
       "18. 19.3\n",
       "19. 7\n",
       "20. 10\n",
       "21. 16.7\n",
       "22. 8\n",
       "23. 9\n",
       "24. 14.7\n",
       "25. 9\n",
       "26. 5\n",
       "27. 13.2\n",
       "\n",
       "\n"
      ],
      "text/plain": [
       " [1]   1.0 132.0  86.7   2.0  50.0  50.7   3.0  32.0  36.0   4.0  20.0  27.9\n",
       "[13]   5.0  19.0  22.8   6.0  11.0  19.3   7.0  10.0  16.7   8.0   9.0  14.7\n",
       "[25]   9.0   5.0  13.2"
      ]
     },
     "execution_count": 211,
     "metadata": {},
     "output_type": "execute_result"
    }
   ],
   "source": [
    "accdato <- c(1, 132, 86.7,\n",
    "            2, 50, 50.7,\n",
    "            3, 32, 36.0,\n",
    "            4, 20, 27.9,\n",
    "            5, 19, 22.8,\n",
    "            6, 11, 19.3,\n",
    "            7, 10, 16.7,\n",
    "            8, 9, 14.7,\n",
    "            9, 5, 13.2)\n",
    "accdato"
   ]
  },
  {
   "cell_type": "code",
   "execution_count": 212,
   "metadata": {
    "collapsed": false
   },
   "outputs": [
    {
     "data": {
      "text/html": [
       "<table>\n",
       "<thead><tr><th scope=col>numero</th><th scope=col>actual</th><th scope=col>esperado</th></tr></thead>\n",
       "<tbody>\n",
       "\t<tr><td>  1.0</td><td>132.0</td><td> 86.7</td></tr>\n",
       "\t<tr><td> 2.0</td><td>50.0</td><td>50.7</td></tr>\n",
       "\t<tr><td> 3</td><td>32</td><td>36</td></tr>\n",
       "\t<tr><td> 4.0</td><td>20.0</td><td>27.9</td></tr>\n",
       "\t<tr><td> 5.0</td><td>19.0</td><td>22.8</td></tr>\n",
       "\t<tr><td> 6.0</td><td>11.0</td><td>19.3</td></tr>\n",
       "\t<tr><td> 7.0</td><td>10.0</td><td>16.7</td></tr>\n",
       "\t<tr><td> 8.0</td><td> 9.0</td><td>14.7</td></tr>\n",
       "\t<tr><td> 9.0</td><td> 5.0</td><td>13.2</td></tr>\n",
       "</tbody>\n",
       "</table>\n"
      ],
      "text/latex": [
       "\\begin{tabular}{lll}\n",
       " numero & actual & esperado\\\\\n",
       "\\hline\n",
       "\t   1.0 & 132.0 &  86.7\\\\\n",
       "\t  2.0 & 50.0 & 50.7\\\\\n",
       "\t  3 & 32 & 36\\\\\n",
       "\t  4.0 & 20.0 & 27.9\\\\\n",
       "\t  5.0 & 19.0 & 22.8\\\\\n",
       "\t  6.0 & 11.0 & 19.3\\\\\n",
       "\t  7.0 & 10.0 & 16.7\\\\\n",
       "\t  8.0 &  9.0 & 14.7\\\\\n",
       "\t  9.0 &  5.0 & 13.2\\\\\n",
       "\\end{tabular}\n"
      ],
      "text/markdown": [
       "1. 1\n",
       "2. 2\n",
       "3. 3\n",
       "4. 4\n",
       "5. 5\n",
       "6. 6\n",
       "7. 7\n",
       "8. 8\n",
       "9. 9\n",
       "10. 132\n",
       "11. 50\n",
       "12. 32\n",
       "13. 20\n",
       "14. 19\n",
       "15. 11\n",
       "16. 10\n",
       "17. 9\n",
       "18. 5\n",
       "19. 86.7\n",
       "20. 50.7\n",
       "21. 36\n",
       "22. 27.9\n",
       "23. 22.8\n",
       "24. 19.3\n",
       "25. 16.7\n",
       "26. 14.7\n",
       "27. 13.2\n",
       "\n",
       "\n"
      ],
      "text/plain": [
       "      numero actual esperado\n",
       " [1,]      1    132     86.7\n",
       " [2,]      2     50     50.7\n",
       " [3,]      3     32     36.0\n",
       " [4,]      4     20     27.9\n",
       " [5,]      5     19     22.8\n",
       " [6,]      6     11     19.3\n",
       " [7,]      7     10     16.7\n",
       " [8,]      8      9     14.7\n",
       " [9,]      9      5     13.2"
      ]
     },
     "execution_count": 212,
     "metadata": {},
     "output_type": "execute_result"
    }
   ],
   "source": [
    "##  Acomodamos mejor el vector, como una matriz 9x3  cuyas columnas\n",
    "## se llaman numero, actual, esperado\n",
    "\n",
    "accdato <- matrix(accdato, 9, 3, byrow = TRUE)\n",
    "colnames(accdato) <- c(\"numero\", \"actual\", \"esperado\")\n",
    "accdato"
   ]
  },
  {
   "cell_type": "markdown",
   "metadata": {},
   "source": [
    "Podemos ahora usar el test de *chi-cuadrado* para averiguar si es que ha habido un fraude, a través de la\n",
    "desviación significativa o no de los datos reales y de los esperados.\n",
    "Hagamos el test: "
   ]
  },
  {
   "cell_type": "code",
   "execution_count": 213,
   "metadata": {
    "collapsed": false
   },
   "outputs": [
    {
     "data": {
      "text/html": [
       "40.5548156457511"
      ],
      "text/latex": [
       "40.5548156457511"
      ],
      "text/markdown": [
       "40.5548156457511"
      ],
      "text/plain": [
       "[1] 40.55482"
      ]
     },
     "execution_count": 213,
     "metadata": {},
     "output_type": "execute_result"
    }
   ],
   "source": [
    "chi2 <-sum((accdato[,2] -accdato[,3])^2/accdato[,3])\n",
    "chi2"
   ]
  },
  {
   "cell_type": "markdown",
   "metadata": {},
   "source": [
    "## Operaciones con Matrices"
   ]
  },
  {
   "cell_type": "markdown",
   "metadata": {},
   "source": [
    "El poder de las matrices en R, ocurre cuando realizamos operaciones (multiplicación, inversión,\n",
    "transposición, etc) comunes de matrices y sus respectivas restricciones. Realicemos\n",
    "algunas operaciones con matrices:"
   ]
  },
  {
   "cell_type": "code",
   "execution_count": 214,
   "metadata": {
    "collapsed": false
   },
   "outputs": [
    {
     "data": {
      "text/html": [
       "<table>\n",
       "<tbody>\n",
       "\t<tr><td>6</td><td>2</td><td>3</td><td>4</td></tr>\n",
       "\t<tr><td> 0</td><td>-8</td><td> 2</td><td> 1</td></tr>\n",
       "\t<tr><td> 8</td><td>-3</td><td> 7</td><td>-5</td></tr>\n",
       "</tbody>\n",
       "</table>\n"
      ],
      "text/latex": [
       "\\begin{tabular}{llll}\n",
       "\t 6 & 2 & 3 & 4\\\\\n",
       "\t  0 & -8 &  2 &  1\\\\\n",
       "\t  8 & -3 &  7 & -5\\\\\n",
       "\\end{tabular}\n"
      ],
      "text/markdown": [
       "1. 6\n",
       "2. 0\n",
       "3. 8\n",
       "4. 2\n",
       "5. -8\n",
       "6. -3\n",
       "7. 3\n",
       "8. 2\n",
       "9. 7\n",
       "10. 4\n",
       "11. 1\n",
       "12. -5\n",
       "\n",
       "\n"
      ],
      "text/plain": [
       "     [,1] [,2] [,3] [,4]\n",
       "[1,]    6    2    3    4\n",
       "[2,]    0   -8    2    1\n",
       "[3,]    8   -3    7   -5"
      ]
     },
     "execution_count": 214,
     "metadata": {},
     "output_type": "execute_result"
    },
    {
     "data": {
      "text/html": [
       "<table>\n",
       "<tbody>\n",
       "\t<tr><td>-7</td><td>12</td><td> 3</td><td> 9</td></tr>\n",
       "\t<tr><td> 6</td><td> 2</td><td> 0</td><td>-1</td></tr>\n",
       "\t<tr><td> 11</td><td>  5</td><td>-12</td><td>  8</td></tr>\n",
       "</tbody>\n",
       "</table>\n"
      ],
      "text/latex": [
       "\\begin{tabular}{llll}\n",
       "\t -7 & 12 &  3 &  9\\\\\n",
       "\t  6 &  2 &  0 & -1\\\\\n",
       "\t  11 &   5 & -12 &   8\\\\\n",
       "\\end{tabular}\n"
      ],
      "text/markdown": [
       "1. -7\n",
       "2. 6\n",
       "3. 11\n",
       "4. 12\n",
       "5. 2\n",
       "6. 5\n",
       "7. 3\n",
       "8. 0\n",
       "9. -12\n",
       "10. 9\n",
       "11. -1\n",
       "12. 8\n",
       "\n",
       "\n"
      ],
      "text/plain": [
       "     [,1] [,2] [,3] [,4]\n",
       "[1,]   -7   12    3    9\n",
       "[2,]    6    2    0   -1\n",
       "[3,]   11    5  -12    8"
      ]
     },
     "execution_count": 214,
     "metadata": {},
     "output_type": "execute_result"
    },
    {
     "data": {
      "text/html": [
       "<table>\n",
       "<tbody>\n",
       "\t<tr><td>-1</td><td>14</td><td> 6</td><td>13</td></tr>\n",
       "\t<tr><td> 6</td><td>-6</td><td> 2</td><td> 0</td></tr>\n",
       "\t<tr><td>19</td><td> 2</td><td>-5</td><td> 3</td></tr>\n",
       "</tbody>\n",
       "</table>\n"
      ],
      "text/latex": [
       "\\begin{tabular}{llll}\n",
       "\t -1 & 14 &  6 & 13\\\\\n",
       "\t  6 & -6 &  2 &  0\\\\\n",
       "\t 19 &  2 & -5 &  3\\\\\n",
       "\\end{tabular}\n"
      ],
      "text/markdown": [
       "1. -1\n",
       "2. 6\n",
       "3. 19\n",
       "4. 14\n",
       "5. -6\n",
       "6. 2\n",
       "7. 6\n",
       "8. 2\n",
       "9. -5\n",
       "10. 13\n",
       "11. 0\n",
       "12. 3\n",
       "\n",
       "\n"
      ],
      "text/plain": [
       "     [,1] [,2] [,3] [,4]\n",
       "[1,]   -1   14    6   13\n",
       "[2,]    6   -6    2    0\n",
       "[3,]   19    2   -5    3"
      ]
     },
     "execution_count": 214,
     "metadata": {},
     "output_type": "execute_result"
    },
    {
     "data": {
      "text/html": [
       "<table>\n",
       "<tbody>\n",
       "\t<tr><td> 13</td><td>-10</td><td>  0</td><td> -5</td></tr>\n",
       "\t<tr><td> -6</td><td>-10</td><td>  2</td><td>  2</td></tr>\n",
       "\t<tr><td> -3</td><td> -8</td><td> 19</td><td>-13</td></tr>\n",
       "</tbody>\n",
       "</table>\n"
      ],
      "text/latex": [
       "\\begin{tabular}{llll}\n",
       "\t  13 & -10 &   0 &  -5\\\\\n",
       "\t  -6 & -10 &   2 &   2\\\\\n",
       "\t  -3 &  -8 &  19 & -13\\\\\n",
       "\\end{tabular}\n"
      ],
      "text/markdown": [
       "1. 13\n",
       "2. -6\n",
       "3. -3\n",
       "4. -10\n",
       "5. -10\n",
       "6. -8\n",
       "7. 0\n",
       "8. 2\n",
       "9. 19\n",
       "10. -5\n",
       "11. 2\n",
       "12. -13\n",
       "\n",
       "\n"
      ],
      "text/plain": [
       "     [,1] [,2] [,3] [,4]\n",
       "[1,]   13  -10    0   -5\n",
       "[2,]   -6  -10    2    2\n",
       "[3,]   -3   -8   19  -13"
      ]
     },
     "execution_count": 214,
     "metadata": {},
     "output_type": "execute_result"
    },
    {
     "data": {
      "text/html": [
       "<table>\n",
       "<tbody>\n",
       "\t<tr><td>-42</td><td> 24</td><td>  9</td><td> 36</td></tr>\n",
       "\t<tr><td>  0</td><td>-16</td><td>  0</td><td> -1</td></tr>\n",
       "\t<tr><td> 88</td><td>-15</td><td>-84</td><td>-40</td></tr>\n",
       "</tbody>\n",
       "</table>\n"
      ],
      "text/latex": [
       "\\begin{tabular}{llll}\n",
       "\t -42 &  24 &   9 &  36\\\\\n",
       "\t   0 & -16 &   0 &  -1\\\\\n",
       "\t  88 & -15 & -84 & -40\\\\\n",
       "\\end{tabular}\n"
      ],
      "text/markdown": [
       "1. -42\n",
       "2. 0\n",
       "3. 88\n",
       "4. 24\n",
       "5. -16\n",
       "6. -15\n",
       "7. 9\n",
       "8. 0\n",
       "9. -84\n",
       "10. 36\n",
       "11. -1\n",
       "12. -40\n",
       "\n",
       "\n"
      ],
      "text/plain": [
       "     [,1] [,2] [,3] [,4]\n",
       "[1,]  -42   24    9   36\n",
       "[2,]    0  -16    0   -1\n",
       "[3,]   88  -15  -84  -40"
      ]
     },
     "execution_count": 214,
     "metadata": {},
     "output_type": "execute_result"
    },
    {
     "data": {
      "text/html": [
       "<table>\n",
       "<tbody>\n",
       "\t<tr><td>6</td><td>0</td><td>8</td></tr>\n",
       "\t<tr><td> 2</td><td>-8</td><td>-3</td></tr>\n",
       "\t<tr><td>3</td><td>2</td><td>7</td></tr>\n",
       "\t<tr><td> 4</td><td> 1</td><td>-5</td></tr>\n",
       "</tbody>\n",
       "</table>\n"
      ],
      "text/latex": [
       "\\begin{tabular}{lll}\n",
       "\t 6 & 0 & 8\\\\\n",
       "\t  2 & -8 & -3\\\\\n",
       "\t 3 & 2 & 7\\\\\n",
       "\t  4 &  1 & -5\\\\\n",
       "\\end{tabular}\n"
      ],
      "text/markdown": [
       "1. 6\n",
       "2. 2\n",
       "3. 3\n",
       "4. 4\n",
       "5. 0\n",
       "6. -8\n",
       "7. 2\n",
       "8. 1\n",
       "9. 8\n",
       "10. -3\n",
       "11. 7\n",
       "12. -5\n",
       "\n",
       "\n"
      ],
      "text/plain": [
       "     [,1] [,2] [,3]\n",
       "[1,]    6    0    8\n",
       "[2,]    2   -8   -3\n",
       "[3,]    3    2    7\n",
       "[4,]    4    1   -5"
      ]
     },
     "execution_count": 214,
     "metadata": {},
     "output_type": "execute_result"
    },
    {
     "data": {
      "text/html": [
       "<table>\n",
       "<tbody>\n",
       "\t<tr><td>-7</td><td> 6</td><td>11</td></tr>\n",
       "\t<tr><td>12</td><td> 2</td><td> 5</td></tr>\n",
       "\t<tr><td>  3</td><td>  0</td><td>-12</td></tr>\n",
       "\t<tr><td> 9</td><td>-1</td><td> 8</td></tr>\n",
       "</tbody>\n",
       "</table>\n"
      ],
      "text/latex": [
       "\\begin{tabular}{lll}\n",
       "\t -7 &  6 & 11\\\\\n",
       "\t 12 &  2 &  5\\\\\n",
       "\t   3 &   0 & -12\\\\\n",
       "\t  9 & -1 &  8\\\\\n",
       "\\end{tabular}\n"
      ],
      "text/markdown": [
       "1. -7\n",
       "2. 12\n",
       "3. 3\n",
       "4. 9\n",
       "5. 6\n",
       "6. 2\n",
       "7. 0\n",
       "8. -1\n",
       "9. 11\n",
       "10. 5\n",
       "11. -12\n",
       "12. 8\n",
       "\n",
       "\n"
      ],
      "text/plain": [
       "     [,1] [,2] [,3]\n",
       "[1,]   -7    6   11\n",
       "[2,]   12    2    5\n",
       "[3,]    3    0  -12\n",
       "[4,]    9   -1    8"
      ]
     },
     "execution_count": 214,
     "metadata": {},
     "output_type": "execute_result"
    },
    {
     "ename": "ERROR",
     "evalue": "Error in A %*% B: argumentos no compatibles\n",
     "output_type": "error",
     "traceback": [
      "Error in A %*% B: argumentos no compatibles\n"
     ]
    }
   ],
   "source": [
    "A <- matrix(c(6,2,3, 4,\n",
    "             0, -8,2, 1,\n",
    "             8, -3, 7, -5),3, 4, byrow = TRUE)\n",
    "B <- matrix(c(-7,12,3, 9,\n",
    "             6, 2, 0, -1,\n",
    "             11, 5, -12, 8),3, 4, byrow = TRUE)\n",
    "A\n",
    "B\n",
    "A+B\n",
    "A-B\n",
    "A * B   # Multiplicación componente a componente\n",
    "t(A)\n",
    "t(B)\n",
    "A %*% B  # Multiplicación usual de matrices"
   ]
  },
  {
   "cell_type": "markdown",
   "metadata": {
    "collapsed": true
   },
   "source": [
    "## El cálculo de la Matriz Inversa"
   ]
  },
  {
   "cell_type": "code",
   "execution_count": 215,
   "metadata": {
    "collapsed": false
   },
   "outputs": [
    {
     "data": {
      "text/html": [
       "<table>\n",
       "<tbody>\n",
       "\t<tr><td>-0.02508110</td><td> 0.06307221</td><td>-0.13730025</td><td>-0.10063679</td><td> 0.08820738</td><td> 0.07324883</td></tr>\n",
       "\t<tr><td>-0.116454403</td><td> 0.157761624</td><td> 0.004415475</td><td>-0.084753094</td><td> 0.035185630</td><td> 0.166928992</td></tr>\n",
       "\t<tr><td> 0.114051424</td><td>-0.185251712</td><td>-0.035534062</td><td> 0.014033401</td><td> 0.007995915</td><td>-0.011408146</td></tr>\n",
       "\t<tr><td>-0.1824161961</td><td> 0.1231587168</td><td> 0.0002102607</td><td> 0.0639913493</td><td> 0.1105190436</td><td> 0.0759762105</td></tr>\n",
       "\t<tr><td> 0.13219392</td><td>-0.05770155</td><td> 0.04941127</td><td> 0.03796708</td><td>-0.02802475</td><td>-0.14559053</td></tr>\n",
       "\t<tr><td> 0.008891025</td><td>-0.018286675</td><td> 0.015138772</td><td> 0.121662862</td><td>-0.099771717</td><td>-0.015427130</td></tr>\n",
       "</tbody>\n",
       "</table>\n"
      ],
      "text/latex": [
       "\\begin{tabular}{llllll}\n",
       "\t -0.02508110 &  0.06307221 & -0.13730025 & -0.10063679 &  0.08820738 &  0.07324883\\\\\n",
       "\t -0.116454403 &  0.157761624 &  0.004415475 & -0.084753094 &  0.035185630 &  0.166928992\\\\\n",
       "\t  0.114051424 & -0.185251712 & -0.035534062 &  0.014033401 &  0.007995915 & -0.011408146\\\\\n",
       "\t -0.1824161961 &  0.1231587168 &  0.0002102607 &  0.0639913493 &  0.1105190436 &  0.0759762105\\\\\n",
       "\t  0.13219392 & -0.05770155 &  0.04941127 &  0.03796708 & -0.02802475 & -0.14559053\\\\\n",
       "\t  0.008891025 & -0.018286675 &  0.015138772 &  0.121662862 & -0.099771717 & -0.015427130\\\\\n",
       "\\end{tabular}\n"
      ],
      "text/markdown": [
       "1. -0.0250811005647002\n",
       "2. -0.116454403460291\n",
       "3. 0.114051423765469\n",
       "4. -0.182416196083143\n",
       "5. 0.132193920461372\n",
       "6. 0.00889102487083984\n",
       "7. 0.0630722095398294\n",
       "8. 0.157761624414274\n",
       "9. -0.185251712123033\n",
       "10. 0.123158716808843\n",
       "11. -0.0577015499219032\n",
       "12. -0.0182866754775922\n",
       "13. -0.137300252312868\n",
       "14. 0.00441547518923465\n",
       "15. -0.0355340622371741\n",
       "16. 0.000210260723296887\n",
       "17. 0.0494112699747687\n",
       "18. 0.015138772077376\n",
       "19. -0.100636789619128\n",
       "20. -0.0847530938363571\n",
       "21. 0.014033401417758\n",
       "22. 0.0639913492730986\n",
       "23. 0.037967079178181\n",
       "24. 0.121662861948817\n",
       "25. 0.0882073771476631\n",
       "26. 0.035185630181425\n",
       "27. 0.0079959149345188\n",
       "28. 0.110519043614081\n",
       "29. -0.0280247506908567\n",
       "30. -0.099771716928992\n",
       "31. 0.0732488285473988\n",
       "32. 0.166928991950018\n",
       "33. -0.0114081461011655\n",
       "34. 0.0759762105010213\n",
       "35. -0.145590532260002\n",
       "36. -0.0154271296407545\n",
       "\n",
       "\n"
      ],
      "text/plain": [
       "             [,1]        [,2]          [,3]        [,4]         [,5]\n",
       "[1,] -0.025081101  0.06307221 -0.1373002523 -0.10063679  0.088207377\n",
       "[2,] -0.116454403  0.15776162  0.0044154752 -0.08475309  0.035185630\n",
       "[3,]  0.114051424 -0.18525171 -0.0355340622  0.01403340  0.007995915\n",
       "[4,] -0.182416196  0.12315872  0.0002102607  0.06399135  0.110519044\n",
       "[5,]  0.132193920 -0.05770155  0.0494112700  0.03796708 -0.028024751\n",
       "[6,]  0.008891025 -0.01828668  0.0151387721  0.12166286 -0.099771717\n",
       "            [,6]\n",
       "[1,]  0.07324883\n",
       "[2,]  0.16692899\n",
       "[3,] -0.01140815\n",
       "[4,]  0.07597621\n",
       "[5,] -0.14559053\n",
       "[6,] -0.01542713"
      ]
     },
     "execution_count": 215,
     "metadata": {},
     "output_type": "execute_result"
    }
   ],
   "source": [
    "A <- matrix(c(4, 10, 6, 1 , 13, 5,\n",
    "           4,5, -2, 1, 8, 4,\n",
    "             -7, 5, 2, 1, 3, -4,\n",
    "             2,3, 4 ,5 , 6, 7,\n",
    "             1,3, 5,6, 7,-3,\n",
    "             0, 9, 7, 1,3, 4), 6, 6, byrow=TRUE)\n",
    "B <- solve(A)   ## Encontramos la inversa de A\n",
    "B"
   ]
  },
  {
   "cell_type": "code",
   "execution_count": 216,
   "metadata": {
    "collapsed": false
   },
   "outputs": [
    {
     "data": {
      "text/html": [
       "<table>\n",
       "<tbody>\n",
       "\t<tr><td> 1.000000e+00</td><td> 1.491862e-16</td><td> 2.949030e-17</td><td>-2.498002e-16</td><td>-1.249001e-16</td><td>-5.377643e-17</td></tr>\n",
       "\t<tr><td>-1.179612e-16</td><td> 1.000000e+00</td><td>-7.632783e-17</td><td>-2.220446e-16</td><td> 0.000000e+00</td><td> 2.012279e-16</td></tr>\n",
       "\t<tr><td> 6.938894e-18</td><td>-2.775558e-17</td><td> 1.000000e+00</td><td> 5.551115e-17</td><td> 5.551115e-17</td><td>-6.938894e-18</td></tr>\n",
       "\t<tr><td>-3.989864e-17</td><td> 4.510281e-17</td><td> 3.295975e-17</td><td> 1.000000e+00</td><td>-1.526557e-16</td><td>-9.194034e-17</td></tr>\n",
       "\t<tr><td> 3.295975e-17</td><td>-7.285839e-17</td><td>-6.071532e-17</td><td>-8.326673e-17</td><td> 1.000000e+00</td><td>-6.765422e-17</td></tr>\n",
       "\t<tr><td>-6.938894e-18</td><td> 1.942890e-16</td><td> 1.387779e-17</td><td> 5.551115e-17</td><td>-5.551115e-17</td><td> 1.000000e+00</td></tr>\n",
       "</tbody>\n",
       "</table>\n"
      ],
      "text/latex": [
       "\\begin{tabular}{llllll}\n",
       "\t  1.000000e+00 &  1.491862e-16 &  2.949030e-17 & -2.498002e-16 & -1.249001e-16 & -5.377643e-17\\\\\n",
       "\t -1.179612e-16 &  1.000000e+00 & -7.632783e-17 & -2.220446e-16 &  0.000000e+00 &  2.012279e-16\\\\\n",
       "\t  6.938894e-18 & -2.775558e-17 &  1.000000e+00 &  5.551115e-17 &  5.551115e-17 & -6.938894e-18\\\\\n",
       "\t -3.989864e-17 &  4.510281e-17 &  3.295975e-17 &  1.000000e+00 & -1.526557e-16 & -9.194034e-17\\\\\n",
       "\t  3.295975e-17 & -7.285839e-17 & -6.071532e-17 & -8.326673e-17 &  1.000000e+00 & -6.765422e-17\\\\\n",
       "\t -6.938894e-18 &  1.942890e-16 &  1.387779e-17 &  5.551115e-17 & -5.551115e-17 &  1.000000e+00\\\\\n",
       "\\end{tabular}\n"
      ],
      "text/markdown": [
       "1. 1\n",
       "2. -1.17961196366423e-16\n",
       "3. 6.93889390390723e-18\n",
       "4. -3.98986399474666e-17\n",
       "5. 3.29597460435593e-17\n",
       "6. -6.93889390390723e-18\n",
       "7. 1.49186218934005e-16\n",
       "8. 1\n",
       "9. -2.77555756156289e-17\n",
       "10. 4.5102810375397e-17\n",
       "11. -7.28583859910259e-17\n",
       "12. 1.94289029309402e-16\n",
       "13. 2.94902990916057e-17\n",
       "14. -7.63278329429795e-17\n",
       "15. 1\n",
       "16. 3.29597460435593e-17\n",
       "17. -6.07153216591882e-17\n",
       "18. 1.38777878078145e-17\n",
       "19. -2.4980018054066e-16\n",
       "20. -2.22044604925031e-16\n",
       "21. 5.55111512312578e-17\n",
       "22. 1\n",
       "23. -8.32667268468867e-17\n",
       "24. 5.55111512312578e-17\n",
       "25. -1.2490009027033e-16\n",
       "26. 0\n",
       "27. 5.55111512312578e-17\n",
       "28. -1.52655665885959e-16\n",
       "29. 1\n",
       "30. -5.55111512312578e-17\n",
       "31. -5.3776427755281e-17\n",
       "32. 2.0122792321331e-16\n",
       "33. -6.93889390390723e-18\n",
       "34. -9.19403442267708e-17\n",
       "35. -6.76542155630955e-17\n",
       "36. 1\n",
       "\n",
       "\n"
      ],
      "text/plain": [
       "              [,1]          [,2]          [,3]          [,4]          [,5]\n",
       "[1,]  1.000000e+00  1.491862e-16  2.949030e-17 -2.498002e-16 -1.249001e-16\n",
       "[2,] -1.179612e-16  1.000000e+00 -7.632783e-17 -2.220446e-16  0.000000e+00\n",
       "[3,]  6.938894e-18 -2.775558e-17  1.000000e+00  5.551115e-17  5.551115e-17\n",
       "[4,] -3.989864e-17  4.510281e-17  3.295975e-17  1.000000e+00 -1.526557e-16\n",
       "[5,]  3.295975e-17 -7.285839e-17 -6.071532e-17 -8.326673e-17  1.000000e+00\n",
       "[6,] -6.938894e-18  1.942890e-16  1.387779e-17  5.551115e-17 -5.551115e-17\n",
       "              [,6]\n",
       "[1,] -5.377643e-17\n",
       "[2,]  2.012279e-16\n",
       "[3,] -6.938894e-18\n",
       "[4,] -9.194034e-17\n",
       "[5,] -6.765422e-17\n",
       "[6,]  1.000000e+00"
      ]
     },
     "execution_count": 216,
     "metadata": {},
     "output_type": "execute_result"
    }
   ],
   "source": [
    "A %*% B "
   ]
  },
  {
   "cell_type": "code",
   "execution_count": 217,
   "metadata": {
    "collapsed": false
   },
   "outputs": [
    {
     "data": {
      "text/html": [
       "<table>\n",
       "<tbody>\n",
       "\t<tr><td> 1.000000e+00</td><td> 1.387779e-17</td><td>-1.387779e-17</td><td>-1.526557e-16</td><td>-1.526557e-16</td><td>-2.220446e-16</td></tr>\n",
       "\t<tr><td>-6.938894e-18</td><td> 1.000000e+00</td><td>-1.942890e-16</td><td>-1.387779e-16</td><td>-8.326673e-17</td><td>-2.220446e-16</td></tr>\n",
       "\t<tr><td>1.370432e-16</td><td>1.144917e-16</td><td>1.000000e+00</td><td>3.469447e-17</td><td>3.365364e-16</td><td>1.804112e-16</td></tr>\n",
       "\t<tr><td>-5.551115e-17</td><td>-4.163336e-17</td><td>-1.804112e-16</td><td> 1.000000e+00</td><td>-9.714451e-17</td><td>-1.665335e-16</td></tr>\n",
       "\t<tr><td> 1.387779e-17</td><td>-2.775558e-17</td><td> 2.775558e-17</td><td> 2.775558e-17</td><td> 1.000000e+00</td><td> 1.110223e-16</td></tr>\n",
       "\t<tr><td> 1.387779e-17</td><td> 8.673617e-18</td><td>-5.030698e-17</td><td> 1.335737e-16</td><td> 1.647987e-16</td><td> 1.000000e+00</td></tr>\n",
       "</tbody>\n",
       "</table>\n"
      ],
      "text/latex": [
       "\\begin{tabular}{llllll}\n",
       "\t  1.000000e+00 &  1.387779e-17 & -1.387779e-17 & -1.526557e-16 & -1.526557e-16 & -2.220446e-16\\\\\n",
       "\t -6.938894e-18 &  1.000000e+00 & -1.942890e-16 & -1.387779e-16 & -8.326673e-17 & -2.220446e-16\\\\\n",
       "\t 1.370432e-16 & 1.144917e-16 & 1.000000e+00 & 3.469447e-17 & 3.365364e-16 & 1.804112e-16\\\\\n",
       "\t -5.551115e-17 & -4.163336e-17 & -1.804112e-16 &  1.000000e+00 & -9.714451e-17 & -1.665335e-16\\\\\n",
       "\t  1.387779e-17 & -2.775558e-17 &  2.775558e-17 &  2.775558e-17 &  1.000000e+00 &  1.110223e-16\\\\\n",
       "\t  1.387779e-17 &  8.673617e-18 & -5.030698e-17 &  1.335737e-16 &  1.647987e-16 &  1.000000e+00\\\\\n",
       "\\end{tabular}\n"
      ],
      "text/markdown": [
       "1. 1\n",
       "2. -6.93889390390723e-18\n",
       "3. 1.37043154602168e-16\n",
       "4. -5.55111512312578e-17\n",
       "5. 1.38777878078145e-17\n",
       "6. 1.38777878078145e-17\n",
       "7. 1.38777878078145e-17\n",
       "8. 1\n",
       "9. 1.14491749414469e-16\n",
       "10. -4.16333634234434e-17\n",
       "11. -2.77555756156289e-17\n",
       "12. 8.67361737988404e-18\n",
       "13. -1.38777878078145e-17\n",
       "14. -1.94289029309402e-16\n",
       "15. 1\n",
       "16. -1.80411241501588e-16\n",
       "17. 2.77555756156289e-17\n",
       "18. -5.03069808033274e-17\n",
       "19. -1.52655665885959e-16\n",
       "20. -1.38777878078145e-16\n",
       "21. 3.46944695195361e-17\n",
       "22. 1\n",
       "23. 2.77555756156289e-17\n",
       "24. 1.33573707650214e-16\n",
       "25. -1.52655665885959e-16\n",
       "26. -8.32667268468867e-17\n",
       "27. 3.36536354339501e-16\n",
       "28. -9.71445146547012e-17\n",
       "29. 1\n",
       "30. 1.64798730217797e-16\n",
       "31. -2.22044604925031e-16\n",
       "32. -2.22044604925031e-16\n",
       "33. 1.80411241501588e-16\n",
       "34. -1.66533453693773e-16\n",
       "35. 1.11022302462516e-16\n",
       "36. 1\n",
       "\n",
       "\n"
      ],
      "text/plain": [
       "              [,1]          [,2]          [,3]          [,4]          [,5]\n",
       "[1,]  1.000000e+00  1.387779e-17 -1.387779e-17 -1.526557e-16 -1.526557e-16\n",
       "[2,] -6.938894e-18  1.000000e+00 -1.942890e-16 -1.387779e-16 -8.326673e-17\n",
       "[3,]  1.370432e-16  1.144917e-16  1.000000e+00  3.469447e-17  3.365364e-16\n",
       "[4,] -5.551115e-17 -4.163336e-17 -1.804112e-16  1.000000e+00 -9.714451e-17\n",
       "[5,]  1.387779e-17 -2.775558e-17  2.775558e-17  2.775558e-17  1.000000e+00\n",
       "[6,]  1.387779e-17  8.673617e-18 -5.030698e-17  1.335737e-16  1.647987e-16\n",
       "              [,6]\n",
       "[1,] -2.220446e-16\n",
       "[2,] -2.220446e-16\n",
       "[3,]  1.804112e-16\n",
       "[4,] -1.665335e-16\n",
       "[5,]  1.110223e-16\n",
       "[6,]  1.000000e+00"
      ]
     },
     "execution_count": 217,
     "metadata": {},
     "output_type": "execute_result"
    }
   ],
   "source": [
    "B %*% A"
   ]
  },
  {
   "cell_type": "code",
   "execution_count": 218,
   "metadata": {
    "collapsed": false
   },
   "outputs": [
    {
     "data": {
      "text/html": [
       "<table>\n",
       "<tbody>\n",
       "\t<tr><td> 4</td><td> 0</td><td>-5</td></tr>\n",
       "\t<tr><td>-18</td><td>  1</td><td> 24</td></tr>\n",
       "\t<tr><td>-3</td><td> 0</td><td> 4</td></tr>\n",
       "</tbody>\n",
       "</table>\n"
      ],
      "text/latex": [
       "\\begin{tabular}{lll}\n",
       "\t  4 &  0 & -5\\\\\n",
       "\t -18 &   1 &  24\\\\\n",
       "\t -3 &  0 &  4\\\\\n",
       "\\end{tabular}\n"
      ],
      "text/markdown": [
       "1. 4\n",
       "2. -18\n",
       "3. -3\n",
       "4. 0\n",
       "5. 1\n",
       "6. 0\n",
       "7. -5\n",
       "8. 24\n",
       "9. 4\n",
       "\n",
       "\n"
      ],
      "text/plain": [
       "     [,1] [,2] [,3]\n",
       "[1,]    4    0   -5\n",
       "[2,]  -18    1   24\n",
       "[3,]   -3    0    4"
      ]
     },
     "execution_count": 218,
     "metadata": {},
     "output_type": "execute_result"
    }
   ],
   "source": [
    "# Para ejemplos más pequeños, se cumple A*B=I= B*A\n",
    "\n",
    "M <- matrix(c(4,0,5,\n",
    "             0,1, -6,\n",
    "             3,0,4),3,3, byrow=TRUE)\n",
    "N <- solve(M)\n",
    "N"
   ]
  },
  {
   "cell_type": "code",
   "execution_count": 219,
   "metadata": {
    "collapsed": false
   },
   "outputs": [
    {
     "data": {
      "text/html": [
       "<table>\n",
       "<tbody>\n",
       "\t<tr><td>1</td><td>0</td><td>0</td></tr>\n",
       "\t<tr><td>0</td><td>1</td><td>0</td></tr>\n",
       "\t<tr><td>0</td><td>0</td><td>1</td></tr>\n",
       "</tbody>\n",
       "</table>\n"
      ],
      "text/latex": [
       "\\begin{tabular}{lll}\n",
       "\t 1 & 0 & 0\\\\\n",
       "\t 0 & 1 & 0\\\\\n",
       "\t 0 & 0 & 1\\\\\n",
       "\\end{tabular}\n"
      ],
      "text/markdown": [
       "1. 1\n",
       "2. 0\n",
       "3. 0\n",
       "4. 0\n",
       "5. 1\n",
       "6. 0\n",
       "7. 0\n",
       "8. 0\n",
       "9. 1\n",
       "\n",
       "\n"
      ],
      "text/plain": [
       "     [,1] [,2] [,3]\n",
       "[1,]    1    0    0\n",
       "[2,]    0    1    0\n",
       "[3,]    0    0    1"
      ]
     },
     "execution_count": 219,
     "metadata": {},
     "output_type": "execute_result"
    }
   ],
   "source": [
    "N%*%M"
   ]
  },
  {
   "cell_type": "code",
   "execution_count": 220,
   "metadata": {
    "collapsed": false
   },
   "outputs": [
    {
     "data": {
      "text/html": [
       "<table>\n",
       "<tbody>\n",
       "\t<tr><td>1</td><td>0</td><td>0</td></tr>\n",
       "\t<tr><td>0</td><td>1</td><td>0</td></tr>\n",
       "\t<tr><td>0</td><td>0</td><td>1</td></tr>\n",
       "</tbody>\n",
       "</table>\n"
      ],
      "text/latex": [
       "\\begin{tabular}{lll}\n",
       "\t 1 & 0 & 0\\\\\n",
       "\t 0 & 1 & 0\\\\\n",
       "\t 0 & 0 & 1\\\\\n",
       "\\end{tabular}\n"
      ],
      "text/markdown": [
       "1. 1\n",
       "2. 0\n",
       "3. 0\n",
       "4. 0\n",
       "5. 1\n",
       "6. 0\n",
       "7. 0\n",
       "8. 0\n",
       "9. 1\n",
       "\n",
       "\n"
      ],
      "text/plain": [
       "     [,1] [,2] [,3]\n",
       "[1,]    1    0    0\n",
       "[2,]    0    1    0\n",
       "[3,]    0    0    1"
      ]
     },
     "execution_count": 220,
     "metadata": {},
     "output_type": "execute_result"
    }
   ],
   "source": [
    "M %*%N"
   ]
  },
  {
   "cell_type": "markdown",
   "metadata": {},
   "source": [
    "## Operaciones de funciones a fila y columnas de Matrices\n",
    "\n",
    "Uno de los aspectos más importantes de **R** es la familia de funciones **apply()** tales como **apply()**, **tapply()** y **lapply()**. La función **apply()** instruye a R, a llamar una función de usuario, sobre cada fila o columna de una matriz.\n",
    "\n",
    "### Usando la función apply()\n",
    "\n",
    "Esta es la forma general de ` apply` para matrices \n",
    "\n",
    "```apply(m, dimcode, f, fargs)\n",
    "```\n",
    "\n",
    "donde los  argumentos son como sigue:\n",
    "\n",
    "1. ` m` es una matriz.\n",
    "2. `dimcode` es la dimensión, igual a 1, si la función aplica a filas o 2 si la función aplica a columnas.\n",
    "3. `f ` es la función a ser aplicada.\n",
    "4. `fargs` es un conjunto opcional de argumentos dados a `f`."
   ]
  },
  {
   "cell_type": "code",
   "execution_count": 221,
   "metadata": {
    "collapsed": false
   },
   "outputs": [
    {
     "data": {
      "text/html": [
       "\n",
       "<table width=\"100%\" summary=\"page for apply {base}\"><tr><td>apply {base}</td><td style=\"text-align: right;\">R Documentation</td></tr></table>\n",
       "\n",
       "<h2>Apply Functions Over Array Margins</h2>\n",
       "\n",
       "<h3>Description</h3>\n",
       "\n",
       "<p>Returns a vector or array or list of values obtained by applying a\n",
       "function to margins of an array or matrix.\n",
       "</p>\n",
       "\n",
       "\n",
       "<h3>Usage</h3>\n",
       "\n",
       "<pre>\n",
       "apply(X, MARGIN, FUN, ...)\n",
       "</pre>\n",
       "\n",
       "\n",
       "<h3>Arguments</h3>\n",
       "\n",
       "<table summary=\"R argblock\">\n",
       "<tr valign=\"top\"><td><code>X</code></td>\n",
       "<td>\n",
       "<p>an array, including a matrix.</p>\n",
       "</td></tr>\n",
       "<tr valign=\"top\"><td><code>MARGIN</code></td>\n",
       "<td>\n",
       "<p>a vector giving the subscripts which the function will\n",
       "be applied over.  E.g., for a matrix <code>1</code> indicates rows,\n",
       "<code>2</code> indicates columns, <code>c(1, 2)</code> indicates rows and\n",
       "columns. Where <code>X</code> has named dimnames, it can be a character\n",
       "vector selecting dimension names.</p>\n",
       "</td></tr>\n",
       "<tr valign=\"top\"><td><code>FUN</code></td>\n",
       "<td>\n",
       "<p>the function to be applied: see &lsquo;Details&rsquo;.\n",
       "In the case of functions like <code>+</code>, <code>%*%</code>, etc., the\n",
       "function name must be backquoted or quoted.</p>\n",
       "</td></tr>\n",
       "<tr valign=\"top\"><td><code>...</code></td>\n",
       "<td>\n",
       "<p>optional arguments to <code>FUN</code>.</p>\n",
       "</td></tr>\n",
       "</table>\n",
       "\n",
       "\n",
       "<h3>Details</h3>\n",
       "\n",
       "<p>If <code>X</code> is not an array but an object of a class with a non-null\n",
       "<code>dim</code> value (such as a data frame), <code>apply</code> attempts\n",
       "to coerce it to an array via <code>as.matrix</code> if it is two-dimensional\n",
       "(e.g., a data frame) or via <code>as.array</code>.\n",
       "</p>\n",
       "<p><code>FUN</code> is found by a call to <code>match.fun</code> and typically\n",
       "is either a function or a symbol (e.g., a backquoted name) or a\n",
       "character string specifying a function to be searched for from the\n",
       "environment of the call to <code>apply</code>.\n",
       "</p>\n",
       "<p>Arguments in <code>...</code> cannot have the same name as any of the\n",
       "other arguments, and care may be needed to avoid partial matching to\n",
       "<code>MARGIN</code> or <code>FUN</code>.  In general-purpose code it is good\n",
       "practice to name the first three arguments if <code>...</code> is passed\n",
       "through: this both avoids partial matching to <code>MARGIN</code>\n",
       "or <code>FUN</code> and ensures that a sensible error message is given if\n",
       "arguments named <code>X</code>, <code>MARGIN</code> or <code>FUN</code> are passed\n",
       "through <code>...</code>.\n",
       "</p>\n",
       "\n",
       "\n",
       "<h3>Value</h3>\n",
       "\n",
       "<p>If each call to <code>FUN</code> returns a vector of length <code>n</code>, then\n",
       "<code>apply</code> returns an array of dimension <code>c(n, dim(X)[MARGIN])</code>\n",
       "if <code>n &gt; 1</code>.  If <code>n</code> equals <code>1</code>, <code>apply</code> returns a\n",
       "vector if <code>MARGIN</code> has length 1 and an array of dimension\n",
       "<code>dim(X)[MARGIN]</code> otherwise.\n",
       "If <code>n</code> is <code>0</code>, the result has length 0 but not necessarily\n",
       "the &lsquo;correct&rsquo; dimension.\n",
       "</p>\n",
       "<p>If the calls to <code>FUN</code> return vectors of different lengths,\n",
       "<code>apply</code> returns a list of length <code>prod(dim(X)[MARGIN])</code> with\n",
       "<code>dim</code> set to <code>MARGIN</code> if this has length greater than one.\n",
       "</p>\n",
       "<p>In all cases the result is coerced by <code>as.vector</code> to one\n",
       "of the basic vector types before the dimensions are set, so that (for\n",
       "example) factor results will be coerced to a character array.\n",
       "</p>\n",
       "\n",
       "\n",
       "<h3>References</h3>\n",
       "\n",
       "<p>Becker, R. A., Chambers, J. M. and Wilks, A. R. (1988)\n",
       "<em>The New S Language</em>.\n",
       "Wadsworth &amp; Brooks/Cole.\n",
       "</p>\n",
       "\n",
       "\n",
       "<h3>See Also</h3>\n",
       "\n",
       "<p><code>lapply</code> and there, <code>simplify2array</code>;\n",
       "<code>tapply</code>, and convenience functions\n",
       "<code>sweep</code> and <code>aggregate</code>.\n",
       "</p>\n",
       "\n",
       "\n",
       "<h3>Examples</h3>\n",
       "\n",
       "<pre>\n",
       "## Compute row and column sums for a matrix:\n",
       "x &lt;- cbind(x1 = 3, x2 = c(4:1, 2:5))\n",
       "dimnames(x)[[1]] &lt;- letters[1:8]\n",
       "apply(x, 2, mean, trim = .2)\n",
       "col.sums &lt;- apply(x, 2, sum)\n",
       "row.sums &lt;- apply(x, 1, sum)\n",
       "rbind(cbind(x, Rtot = row.sums), Ctot = c(col.sums, sum(col.sums)))\n",
       "\n",
       "stopifnot( apply(x, 2, is.vector))\n",
       "\n",
       "## Sort the columns of a matrix\n",
       "apply(x, 2, sort)\n",
       "\n",
       "## keeping named dimnames\n",
       "names(dimnames(x)) &lt;- c(\"row\", \"col\")\n",
       "x3 &lt;- array(x, dim = c(dim(x),3),\n",
       "\t    dimnames = c(dimnames(x), list(C = paste0(\"cop.\",1:3))))\n",
       "identical(x,  apply( x,  2,  identity))\n",
       "identical(x3, apply(x3, 2:3, identity))\n",
       "\n",
       "##- function with extra args:\n",
       "cave &lt;- function(x, c1, c2) c(mean(x[c1]), mean(x[c2]))\n",
       "apply(x, 1, cave,  c1 = \"x1\", c2 = c(\"x1\",\"x2\"))\n",
       "\n",
       "ma &lt;- matrix(c(1:4, 1, 6:8), nrow = 2)\n",
       "ma\n",
       "apply(ma, 1, table)  #--&gt; a list of length 2\n",
       "apply(ma, 1, stats::quantile) # 5 x n matrix with rownames\n",
       "\n",
       "stopifnot(dim(ma) == dim(apply(ma, 1:2, sum)))\n",
       "\n",
       "## Example with different lengths for each call\n",
       "z &lt;- array(1:24, dim = 2:4)\n",
       "zseq &lt;- apply(z, 1:2, function(x) seq_len(max(x)))\n",
       "zseq         ## a 2 x 3 matrix\n",
       "typeof(zseq) ## list\n",
       "dim(zseq) ## 2 3\n",
       "zseq[1,]\n",
       "apply(z, 3, function(x) seq_len(max(x)))\n",
       "# a list without a dim attribute\n",
       "</pre>\n",
       "\n",
       "<hr /><div style=\"text-align: center;\">[Package <em>base</em> version 3.2.2 ]</div>"
      ],
      "text/latex": [
       "\\inputencoding{utf8}\n",
       "\\HeaderA{apply}{Apply Functions Over Array Margins}{apply}\n",
       "\\keyword{iteration}{apply}\n",
       "\\keyword{array}{apply}\n",
       "%\n",
       "\\begin{Description}\\relax\n",
       "Returns a vector or array or list of values obtained by applying a\n",
       "function to margins of an array or matrix.\n",
       "\\end{Description}\n",
       "%\n",
       "\\begin{Usage}\n",
       "\\begin{verbatim}\n",
       "apply(X, MARGIN, FUN, ...)\n",
       "\\end{verbatim}\n",
       "\\end{Usage}\n",
       "%\n",
       "\\begin{Arguments}\n",
       "\\begin{ldescription}\n",
       "\\item[\\code{X}] an array, including a matrix.\n",
       "\\item[\\code{MARGIN}] a vector giving the subscripts which the function will\n",
       "be applied over.  E.g., for a matrix \\code{1} indicates rows,\n",
       "\\code{2} indicates columns, \\code{c(1, 2)} indicates rows and\n",
       "columns. Where \\code{X} has named dimnames, it can be a character\n",
       "vector selecting dimension names.\n",
       "\\item[\\code{FUN}] the function to be applied: see `Details'.\n",
       "In the case of functions like \\code{+}, \\code{\\%*\\%}, etc., the\n",
       "function name must be backquoted or quoted.\n",
       "\\item[\\code{...}] optional arguments to \\code{FUN}.\n",
       "\\end{ldescription}\n",
       "\\end{Arguments}\n",
       "%\n",
       "\\begin{Details}\\relax\n",
       "If \\code{X} is not an array but an object of a class with a non-null\n",
       "\\code{\\LinkA{dim}{dim}} value (such as a data frame), \\code{apply} attempts\n",
       "to coerce it to an array via \\code{as.matrix} if it is two-dimensional\n",
       "(e.g., a data frame) or via \\code{as.array}.\n",
       "\n",
       "\\code{FUN} is found by a call to \\code{\\LinkA{match.fun}{match.fun}} and typically\n",
       "is either a function or a symbol (e.g., a backquoted name) or a\n",
       "character string specifying a function to be searched for from the\n",
       "environment of the call to \\code{apply}.\n",
       "\n",
       "Arguments in \\code{...} cannot have the same name as any of the\n",
       "other arguments, and care may be needed to avoid partial matching to\n",
       "\\code{MARGIN} or \\code{FUN}.  In general-purpose code it is good\n",
       "practice to name the first three arguments if \\code{...} is passed\n",
       "through: this both avoids partial matching to \\code{MARGIN}\n",
       "or \\code{FUN} and ensures that a sensible error message is given if\n",
       "arguments named \\code{X}, \\code{MARGIN} or \\code{FUN} are passed\n",
       "through \\code{...}.\n",
       "\\end{Details}\n",
       "%\n",
       "\\begin{Value}\n",
       "If each call to \\code{FUN} returns a vector of length \\code{n}, then\n",
       "\\code{apply} returns an array of dimension \\code{c(n, dim(X)[MARGIN])}\n",
       "if \\code{n > 1}.  If \\code{n} equals \\code{1}, \\code{apply} returns a\n",
       "vector if \\code{MARGIN} has length 1 and an array of dimension\n",
       "\\code{dim(X)[MARGIN]} otherwise.\n",
       "If \\code{n} is \\code{0}, the result has length 0 but not necessarily\n",
       "the `correct' dimension.\n",
       "\n",
       "If the calls to \\code{FUN} return vectors of different lengths,\n",
       "\\code{apply} returns a list of length \\code{prod(dim(X)[MARGIN])} with\n",
       "\\code{dim} set to \\code{MARGIN} if this has length greater than one.\n",
       "\n",
       "In all cases the result is coerced by \\code{\\LinkA{as.vector}{as.vector}} to one\n",
       "of the basic vector types before the dimensions are set, so that (for\n",
       "example) factor results will be coerced to a character array.\n",
       "\\end{Value}\n",
       "%\n",
       "\\begin{References}\\relax\n",
       "Becker, R. A., Chambers, J. M. and Wilks, A. R. (1988)\n",
       "\\emph{The New S Language}.\n",
       "Wadsworth \\& Brooks/Cole.\n",
       "\\end{References}\n",
       "%\n",
       "\\begin{SeeAlso}\\relax\n",
       "\\code{\\LinkA{lapply}{lapply}} and there, \\code{\\LinkA{simplify2array}{simplify2array}};\n",
       "\\code{\\LinkA{tapply}{tapply}}, and convenience functions\n",
       "\\code{\\LinkA{sweep}{sweep}} and \\code{\\LinkA{aggregate}{aggregate}}.\n",
       "\\end{SeeAlso}\n",
       "%\n",
       "\\begin{Examples}\n",
       "\\begin{ExampleCode}\n",
       "## Compute row and column sums for a matrix:\n",
       "x <- cbind(x1 = 3, x2 = c(4:1, 2:5))\n",
       "dimnames(x)[[1]] <- letters[1:8]\n",
       "apply(x, 2, mean, trim = .2)\n",
       "col.sums <- apply(x, 2, sum)\n",
       "row.sums <- apply(x, 1, sum)\n",
       "rbind(cbind(x, Rtot = row.sums), Ctot = c(col.sums, sum(col.sums)))\n",
       "\n",
       "stopifnot( apply(x, 2, is.vector))\n",
       "\n",
       "## Sort the columns of a matrix\n",
       "apply(x, 2, sort)\n",
       "\n",
       "## keeping named dimnames\n",
       "names(dimnames(x)) <- c(\"row\", \"col\")\n",
       "x3 <- array(x, dim = c(dim(x),3),\n",
       "\t    dimnames = c(dimnames(x), list(C = paste0(\"cop.\",1:3))))\n",
       "identical(x,  apply( x,  2,  identity))\n",
       "identical(x3, apply(x3, 2:3, identity))\n",
       "\n",
       "##- function with extra args:\n",
       "cave <- function(x, c1, c2) c(mean(x[c1]), mean(x[c2]))\n",
       "apply(x, 1, cave,  c1 = \"x1\", c2 = c(\"x1\",\"x2\"))\n",
       "\n",
       "ma <- matrix(c(1:4, 1, 6:8), nrow = 2)\n",
       "ma\n",
       "apply(ma, 1, table)  #--> a list of length 2\n",
       "apply(ma, 1, stats::quantile) # 5 x n matrix with rownames\n",
       "\n",
       "stopifnot(dim(ma) == dim(apply(ma, 1:2, sum)))\n",
       "\n",
       "## Example with different lengths for each call\n",
       "z <- array(1:24, dim = 2:4)\n",
       "zseq <- apply(z, 1:2, function(x) seq_len(max(x)))\n",
       "zseq         ## a 2 x 3 matrix\n",
       "typeof(zseq) ## list\n",
       "dim(zseq) ## 2 3\n",
       "zseq[1,]\n",
       "apply(z, 3, function(x) seq_len(max(x)))\n",
       "# a list without a dim attribute\n",
       "\\end{ExampleCode}\n",
       "\\end{Examples}"
      ],
      "text/plain": [
       "apply                   package:base                   R Documentation\n",
       "\n",
       "_\bA_\bp_\bp_\bl_\by _\bF_\bu_\bn_\bc_\bt_\bi_\bo_\bn_\bs _\bO_\bv_\be_\br _\bA_\br_\br_\ba_\by _\bM_\ba_\br_\bg_\bi_\bn_\bs\n",
       "\n",
       "_\bD_\be_\bs_\bc_\br_\bi_\bp_\bt_\bi_\bo_\bn:\n",
       "\n",
       "     Returns a vector or array or list of values obtained by applying a\n",
       "     function to margins of an array or matrix.\n",
       "\n",
       "_\bU_\bs_\ba_\bg_\be:\n",
       "\n",
       "     apply(X, MARGIN, FUN, ...)\n",
       "     \n",
       "_\bA_\br_\bg_\bu_\bm_\be_\bn_\bt_\bs:\n",
       "\n",
       "       X: an array, including a matrix.\n",
       "\n",
       "  MARGIN: a vector giving the subscripts which the function will be\n",
       "          applied over.  E.g., for a matrix ‘1’ indicates rows, ‘2’\n",
       "          indicates columns, ‘c(1, 2)’ indicates rows and columns.\n",
       "          Where ‘X’ has named dimnames, it can be a character vector\n",
       "          selecting dimension names.\n",
       "\n",
       "     FUN: the function to be applied: see ‘Details’.  In the case of\n",
       "          functions like ‘+’, ‘%*%’, etc., the function name must be\n",
       "          backquoted or quoted.\n",
       "\n",
       "     ...: optional arguments to ‘FUN’.\n",
       "\n",
       "_\bD_\be_\bt_\ba_\bi_\bl_\bs:\n",
       "\n",
       "     If ‘X’ is not an array but an object of a class with a non-null\n",
       "     ‘dim’ value (such as a data frame), ‘apply’ attempts to coerce it\n",
       "     to an array via ‘as.matrix’ if it is two-dimensional (e.g., a data\n",
       "     frame) or via ‘as.array’.\n",
       "\n",
       "     ‘FUN’ is found by a call to ‘match.fun’ and typically is either a\n",
       "     function or a symbol (e.g., a backquoted name) or a character\n",
       "     string specifying a function to be searched for from the\n",
       "     environment of the call to ‘apply’.\n",
       "\n",
       "     Arguments in ‘...’ cannot have the same name as any of the other\n",
       "     arguments, and care may be needed to avoid partial matching to\n",
       "     ‘MARGIN’ or ‘FUN’.  In general-purpose code it is good practice to\n",
       "     name the first three arguments if ‘...’ is passed through: this\n",
       "     both avoids partial matching to ‘MARGIN’ or ‘FUN’ and ensures that\n",
       "     a sensible error message is given if arguments named ‘X’, ‘MARGIN’\n",
       "     or ‘FUN’ are passed through ‘...’.\n",
       "\n",
       "_\bV_\ba_\bl_\bu_\be:\n",
       "\n",
       "     If each call to ‘FUN’ returns a vector of length ‘n’, then ‘apply’\n",
       "     returns an array of dimension ‘c(n, dim(X)[MARGIN])’ if ‘n > 1’.\n",
       "     If ‘n’ equals ‘1’, ‘apply’ returns a vector if ‘MARGIN’ has length\n",
       "     1 and an array of dimension ‘dim(X)[MARGIN]’ otherwise.  If ‘n’ is\n",
       "     ‘0’, the result has length 0 but not necessarily the ‘correct’\n",
       "     dimension.\n",
       "\n",
       "     If the calls to ‘FUN’ return vectors of different lengths, ‘apply’\n",
       "     returns a list of length ‘prod(dim(X)[MARGIN])’ with ‘dim’ set to\n",
       "     ‘MARGIN’ if this has length greater than one.\n",
       "\n",
       "     In all cases the result is coerced by ‘as.vector’ to one of the\n",
       "     basic vector types before the dimensions are set, so that (for\n",
       "     example) factor results will be coerced to a character array.\n",
       "\n",
       "_\bR_\be_\bf_\be_\br_\be_\bn_\bc_\be_\bs:\n",
       "\n",
       "     Becker, R. A., Chambers, J. M. and Wilks, A. R. (1988) _The New S\n",
       "     Language_.  Wadsworth & Brooks/Cole.\n",
       "\n",
       "_\bS_\be_\be _\bA_\bl_\bs_\bo:\n",
       "\n",
       "     ‘lapply’ and there, ‘simplify2array’; ‘tapply’, and convenience\n",
       "     functions ‘sweep’ and ‘aggregate’.\n",
       "\n",
       "_\bE_\bx_\ba_\bm_\bp_\bl_\be_\bs:\n",
       "\n",
       "     ## Compute row and column sums for a matrix:\n",
       "     x <- cbind(x1 = 3, x2 = c(4:1, 2:5))\n",
       "     dimnames(x)[[1]] <- letters[1:8]\n",
       "     apply(x, 2, mean, trim = .2)\n",
       "     col.sums <- apply(x, 2, sum)\n",
       "     row.sums <- apply(x, 1, sum)\n",
       "     rbind(cbind(x, Rtot = row.sums), Ctot = c(col.sums, sum(col.sums)))\n",
       "     \n",
       "     stopifnot( apply(x, 2, is.vector))\n",
       "     \n",
       "     ## Sort the columns of a matrix\n",
       "     apply(x, 2, sort)\n",
       "     \n",
       "     ## keeping named dimnames\n",
       "     names(dimnames(x)) <- c(\"row\", \"col\")\n",
       "     x3 <- array(x, dim = c(dim(x),3),\n",
       "                 dimnames = c(dimnames(x), list(C = paste0(\"cop.\",1:3))))\n",
       "     identical(x,  apply( x,  2,  identity))\n",
       "     identical(x3, apply(x3, 2:3, identity))\n",
       "     \n",
       "     ##- function with extra args:\n",
       "     cave <- function(x, c1, c2) c(mean(x[c1]), mean(x[c2]))\n",
       "     apply(x, 1, cave,  c1 = \"x1\", c2 = c(\"x1\",\"x2\"))\n",
       "     \n",
       "     ma <- matrix(c(1:4, 1, 6:8), nrow = 2)\n",
       "     ma\n",
       "     apply(ma, 1, table)  #--> a list of length 2\n",
       "     apply(ma, 1, stats::quantile) # 5 x n matrix with rownames\n",
       "     \n",
       "     stopifnot(dim(ma) == dim(apply(ma, 1:2, sum)))\n",
       "     \n",
       "     ## Example with different lengths for each call\n",
       "     z <- array(1:24, dim = 2:4)\n",
       "     zseq <- apply(z, 1:2, function(x) seq_len(max(x)))\n",
       "     zseq         ## a 2 x 3 matrix\n",
       "     typeof(zseq) ## list\n",
       "     dim(zseq) ## 2 3\n",
       "     zseq[1,]\n",
       "     apply(z, 3, function(x) seq_len(max(x)))\n",
       "     # a list without a dim attribute\n",
       "     "
      ]
     },
     "execution_count": 221,
     "metadata": {},
     "output_type": "execute_result"
    },
    {
     "data": {
      "text/html": [
       "<table>\n",
       "<tbody>\n",
       "\t<tr><td>1</td><td>4</td></tr>\n",
       "\t<tr><td>2</td><td>5</td></tr>\n",
       "\t<tr><td>3</td><td>6</td></tr>\n",
       "</tbody>\n",
       "</table>\n"
      ],
      "text/latex": [
       "\\begin{tabular}{ll}\n",
       "\t 1 & 4\\\\\n",
       "\t 2 & 5\\\\\n",
       "\t 3 & 6\\\\\n",
       "\\end{tabular}\n"
      ],
      "text/markdown": [
       "1. 1\n",
       "2. 2\n",
       "3. 3\n",
       "4. 4\n",
       "5. 5\n",
       "6. 6\n",
       "\n",
       "\n"
      ],
      "text/plain": [
       "     [,1] [,2]\n",
       "[1,]    1    4\n",
       "[2,]    2    5\n",
       "[3,]    3    6"
      ]
     },
     "execution_count": 221,
     "metadata": {},
     "output_type": "execute_result"
    },
    {
     "data": {
      "text/html": [
       "<ol class=list-inline>\n",
       "\t<li>2.5</li>\n",
       "\t<li>3.5</li>\n",
       "\t<li>4.5</li>\n",
       "</ol>\n"
      ],
      "text/latex": [
       "\\begin{enumerate*}\n",
       "\\item 2.5\n",
       "\\item 3.5\n",
       "\\item 4.5\n",
       "\\end{enumerate*}\n"
      ],
      "text/markdown": [
       "1. 2.5\n",
       "2. 3.5\n",
       "3. 4.5\n",
       "\n",
       "\n"
      ],
      "text/plain": [
       "[1] 2.5 3.5 4.5"
      ]
     },
     "execution_count": 221,
     "metadata": {},
     "output_type": "execute_result"
    }
   ],
   "source": [
    "help(apply)\n",
    "dw<- matrix(c(1,2,3,4,5,6), nrow=3)\n",
    "dw\n",
    "apply(dw, 1, mean)"
   ]
  },
  {
   "cell_type": "code",
   "execution_count": 222,
   "metadata": {
    "collapsed": false
   },
   "outputs": [
    {
     "data": {
      "text/html": [
       "<table>\n",
       "<tbody>\n",
       "\t<tr><td>1</td><td>4</td></tr>\n",
       "\t<tr><td>2</td><td>5</td></tr>\n",
       "\t<tr><td>3</td><td>6</td></tr>\n",
       "</tbody>\n",
       "</table>\n"
      ],
      "text/latex": [
       "\\begin{tabular}{ll}\n",
       "\t 1 & 4\\\\\n",
       "\t 2 & 5\\\\\n",
       "\t 3 & 6\\\\\n",
       "\\end{tabular}\n"
      ],
      "text/markdown": [
       "1. 1\n",
       "2. 2\n",
       "3. 3\n",
       "4. 4\n",
       "5. 5\n",
       "6. 6\n",
       "\n",
       "\n"
      ],
      "text/plain": [
       "     [,1] [,2]\n",
       "[1,]    1    4\n",
       "[2,]    2    5\n",
       "[3,]    3    6"
      ]
     },
     "execution_count": 222,
     "metadata": {},
     "output_type": "execute_result"
    },
    {
     "data": {
      "text/html": [
       "<table>\n",
       "<tbody>\n",
       "\t<tr><td>0.5</td><td>1.0</td><td>1.5</td></tr>\n",
       "\t<tr><td>0.8</td><td>1.0</td><td>1.2</td></tr>\n",
       "</tbody>\n",
       "</table>\n"
      ],
      "text/latex": [
       "\\begin{tabular}{lll}\n",
       "\t 0.5 & 1.0 & 1.5\\\\\n",
       "\t 0.8 & 1.0 & 1.2\\\\\n",
       "\\end{tabular}\n"
      ],
      "text/markdown": [
       "1. 0.5\n",
       "2. 0.8\n",
       "3. 1\n",
       "4. 1\n",
       "5. 1.5\n",
       "6. 1.2\n",
       "\n",
       "\n"
      ],
      "text/plain": [
       "     [,1] [,2] [,3]\n",
       "[1,]  0.5    1  1.5\n",
       "[2,]  0.8    1  1.2"
      ]
     },
     "execution_count": 222,
     "metadata": {},
     "output_type": "execute_result"
    }
   ],
   "source": [
    "# Un ejemplo\n",
    "dw\n",
    "f <-function(x)x/c(2,5)\n",
    "dw1<- apply(dw, 1, f)\n",
    "dw1\n"
   ]
  },
  {
   "cell_type": "code",
   "execution_count": 223,
   "metadata": {
    "collapsed": false
   },
   "outputs": [
    {
     "data": {
      "text/html": [
       "<table>\n",
       "<tbody>\n",
       "\t<tr><td>0.5</td><td>0.8</td></tr>\n",
       "\t<tr><td>1</td><td>1</td></tr>\n",
       "\t<tr><td>1.5</td><td>1.2</td></tr>\n",
       "</tbody>\n",
       "</table>\n"
      ],
      "text/latex": [
       "\\begin{tabular}{ll}\n",
       "\t 0.5 & 0.8\\\\\n",
       "\t 1 & 1\\\\\n",
       "\t 1.5 & 1.2\\\\\n",
       "\\end{tabular}\n"
      ],
      "text/markdown": [
       "1. 0.5\n",
       "2. 1\n",
       "3. 1.5\n",
       "4. 0.8\n",
       "5. 1\n",
       "6. 1.2\n",
       "\n",
       "\n"
      ],
      "text/plain": [
       "     [,1] [,2]\n",
       "[1,]  0.5  0.8\n",
       "[2,]  1.0  1.0\n",
       "[3,]  1.5  1.2"
      ]
     },
     "execution_count": 223,
     "metadata": {},
     "output_type": "execute_result"
    }
   ],
   "source": [
    "# Podemos usar la matriz transpuesta\n",
    "\n",
    "t(apply(dw,1,f))"
   ]
  },
  {
   "cell_type": "code",
   "execution_count": 224,
   "metadata": {
    "collapsed": false
   },
   "outputs": [
    {
     "data": {
      "text/html": [
       "<table>\n",
       "<tbody>\n",
       "\t<tr><td>1</td><td>0</td><td>1</td><td>1</td><td>0</td></tr>\n",
       "\t<tr><td>1</td><td>1</td><td>1</td><td>1</td><td>0</td></tr>\n",
       "\t<tr><td>1</td><td>0</td><td>0</td><td>1</td><td>0</td></tr>\n",
       "\t<tr><td>0</td><td>1</td><td>1</td><td>1</td><td>0</td></tr>\n",
       "</tbody>\n",
       "</table>\n"
      ],
      "text/latex": [
       "\\begin{tabular}{lllll}\n",
       "\t 1 & 0 & 1 & 1 & 0\\\\\n",
       "\t 1 & 1 & 1 & 1 & 0\\\\\n",
       "\t 1 & 0 & 0 & 1 & 0\\\\\n",
       "\t 0 & 1 & 1 & 1 & 0\\\\\n",
       "\\end{tabular}\n"
      ],
      "text/markdown": [
       "1. 1\n",
       "2. 1\n",
       "3. 1\n",
       "4. 0\n",
       "5. 0\n",
       "6. 1\n",
       "7. 0\n",
       "8. 1\n",
       "9. 1\n",
       "10. 1\n",
       "11. 0\n",
       "12. 1\n",
       "13. 1\n",
       "14. 1\n",
       "15. 1\n",
       "16. 1\n",
       "17. 0\n",
       "18. 0\n",
       "19. 0\n",
       "20. 0\n",
       "\n",
       "\n"
      ],
      "text/plain": [
       "     [,1] [,2] [,3] [,4] [,5]\n",
       "[1,]    1    0    1    1    0\n",
       "[2,]    1    1    1    1    0\n",
       "[3,]    1    0    0    1    0\n",
       "[4,]    0    1    1    1    0"
      ]
     },
     "execution_count": 224,
     "metadata": {},
     "output_type": "execute_result"
    },
    {
     "data": {
      "text/html": [
       "<ol class=list-inline>\n",
       "\t<li>1</li>\n",
       "\t<li>1</li>\n",
       "\t<li>0</li>\n",
       "\t<li>1</li>\n",
       "</ol>\n"
      ],
      "text/latex": [
       "\\begin{enumerate*}\n",
       "\\item 1\n",
       "\\item 1\n",
       "\\item 0\n",
       "\\item 1\n",
       "\\end{enumerate*}\n"
      ],
      "text/markdown": [
       "1. 1\n",
       "2. 1\n",
       "3. 0\n",
       "4. 1\n",
       "\n",
       "\n"
      ],
      "text/plain": [
       "[1] 1 1 0 1"
      ]
     },
     "execution_count": 224,
     "metadata": {},
     "output_type": "execute_result"
    },
    {
     "data": {
      "text/html": [
       "<ol class=list-inline>\n",
       "\t<li>0</li>\n",
       "\t<li>1</li>\n",
       "\t<li>0</li>\n",
       "\t<li>0</li>\n",
       "</ol>\n"
      ],
      "text/latex": [
       "\\begin{enumerate*}\n",
       "\\item 0\n",
       "\\item 1\n",
       "\\item 0\n",
       "\\item 0\n",
       "\\end{enumerate*}\n"
      ],
      "text/markdown": [
       "1. 0\n",
       "2. 1\n",
       "3. 0\n",
       "4. 0\n",
       "\n",
       "\n"
      ],
      "text/plain": [
       "[1] 0 1 0 0"
      ]
     },
     "execution_count": 224,
     "metadata": {},
     "output_type": "execute_result"
    }
   ],
   "source": [
    "# Un ejemplo avanzado (The Art of R Programming)\n",
    "\n",
    "matriz0 <-function(fila,d) {\n",
    "    maj <- sum(fila[1:d]) / d\n",
    "    return(if(maj > 0.5) 1 else 0)\n",
    "}\n",
    "ax <-matrix(c(1,1,1,0, 0,1,0,1, 1, 1, 0,1, 1,1,1,1, 0,0,0,0), nrow=4)\n",
    "ax\n",
    "apply(ax,1,matriz0,3)\n",
    "apply(ax,1,matriz0,2)"
   ]
  },
  {
   "cell_type": "markdown",
   "metadata": {},
   "source": [
    "El uso de  **apply()**  no acelera el  código. El beneficio de utilizar esta función es que hace  el código muy compacto y por tanto más fácil de leer y modificar, y evitar  posibles errores en la escritura de código cuando se trabaja con bucles. Por otra parte, como R se acerca más y más al  procesamiento en paralelo, funciones como  **apply()** serán muy utiles e importantes. Por ejemplo, la función **clusterApply()** en el paquete **snow** de R da cierta capacidad de procesado en paralelo mediante la distribución de los datos de una submatriz a varios nodos de una red, con cada nodo básicamente aplicando la función dada en la submatriz."
   ]
  },
  {
   "cell_type": "markdown",
   "metadata": {},
   "source": [
    "## Subconjuntos"
   ]
  },
  {
   "cell_type": "markdown",
   "metadata": {},
   "source": [
    "Los operadores para manejar subconjuntos en R son poderosos y rápidos. El dominio de subconjuntos te permite expresar  las operaciones complejas de una manera que pocos otros lenguajes pueden igualar. Manejar subconjuntos en R es difícil de aprender porque es necesario  dominar una serie de conceptos relacionados entre sí:\n",
    "\n",
    "1. Los tres operadores de subconjuntos.\n",
    "2. Los seis tipos de subconjuntos.\n",
    "3. Las diferencias importantes en el comportamiento para diferentes objetos(vectores, listas, matrices y data frames).\n",
    "4. El uso de suconjuntos en conjunción con la asignación.\n",
    "\n",
    "Subconjuntos es un complemento natural de **str()**. **str()** muestra la estructura de cualquier objeto, y los subconjuntos te permite tener  las piezas que te interesan.\n",
    "\n",
    "Es más fácil de aprender cómo funcionan los subconjuntos para los vectores, y luego  cómo  se generalizan a mayores dimensiones y otros objetos más complicados. Vamos a empezar con **[**, el operador más utilizado. Los operadores subconjuntos cubrirán **[[** y **$**, los otros dos operadores de subconjuntos principales."
   ]
  },
  {
   "cell_type": "markdown",
   "metadata": {},
   "source": [
    "## Vectores atómicos\n"
   ]
  },
  {
   "cell_type": "markdown",
   "metadata": {},
   "source": [
    "Vamos a explorar los diferentes tipos de subconjuntos con un vector simple **x**."
   ]
  },
  {
   "cell_type": "code",
   "execution_count": 225,
   "metadata": {
    "collapsed": false
   },
   "outputs": [
    {
     "data": {
      "text/html": [
       "<ol class=list-inline>\n",
       "\t<li>2.1</li>\n",
       "\t<li>4.2</li>\n",
       "\t<li>6.3</li>\n",
       "\t<li>8.4</li>\n",
       "</ol>\n"
      ],
      "text/latex": [
       "\\begin{enumerate*}\n",
       "\\item 2.1\n",
       "\\item 4.2\n",
       "\\item 6.3\n",
       "\\item 8.4\n",
       "\\end{enumerate*}\n"
      ],
      "text/markdown": [
       "1. 2.1\n",
       "2. 4.2\n",
       "3. 6.3\n",
       "4. 8.4\n",
       "\n",
       "\n"
      ],
      "text/plain": [
       "[1] 2.1 4.2 6.3 8.4"
      ]
     },
     "execution_count": 225,
     "metadata": {},
     "output_type": "execute_result"
    }
   ],
   "source": [
    "x <- c(2.1, 4.2, 6.3, 8.4)\n",
    "x\n"
   ]
  },
  {
   "cell_type": "markdown",
   "metadata": {},
   "source": [
    "Tenga en cuenta que el número después del punto decimal da la posición original del elemento en el vector. Hay cinco cosas que se puede utilizar para un subconjunto de un vector:\n"
   ]
  },
  {
   "cell_type": "markdown",
   "metadata": {},
   "source": [
    "### Números Positivos \n",
    "\n",
    "Retorna elementos en posiciones especificadas."
   ]
  },
  {
   "cell_type": "code",
   "execution_count": 226,
   "metadata": {
    "collapsed": false
   },
   "outputs": [
    {
     "data": {
      "text/html": [
       "<ol class=list-inline>\n",
       "\t<li>6.3</li>\n",
       "\t<li>2.1</li>\n",
       "</ol>\n"
      ],
      "text/latex": [
       "\\begin{enumerate*}\n",
       "\\item 6.3\n",
       "\\item 2.1\n",
       "\\end{enumerate*}\n"
      ],
      "text/markdown": [
       "1. 6.3\n",
       "2. 2.1\n",
       "\n",
       "\n"
      ],
      "text/plain": [
       "[1] 6.3 2.1"
      ]
     },
     "execution_count": 226,
     "metadata": {},
     "output_type": "execute_result"
    },
    {
     "data": {
      "text/html": [
       "<ol class=list-inline>\n",
       "\t<li>2.1</li>\n",
       "\t<li>4.2</li>\n",
       "\t<li>6.3</li>\n",
       "\t<li>8.4</li>\n",
       "</ol>\n"
      ],
      "text/latex": [
       "\\begin{enumerate*}\n",
       "\\item 2.1\n",
       "\\item 4.2\n",
       "\\item 6.3\n",
       "\\item 8.4\n",
       "\\end{enumerate*}\n"
      ],
      "text/markdown": [
       "1. 2.1\n",
       "2. 4.2\n",
       "3. 6.3\n",
       "4. 8.4\n",
       "\n",
       "\n"
      ],
      "text/plain": [
       "[1] 2.1 4.2 6.3 8.4"
      ]
     },
     "execution_count": 226,
     "metadata": {},
     "output_type": "execute_result"
    },
    {
     "data": {
      "text/html": [
       "<ol class=list-inline>\n",
       "\t<li>2.1</li>\n",
       "\t<li>2.1</li>\n",
       "</ol>\n"
      ],
      "text/latex": [
       "\\begin{enumerate*}\n",
       "\\item 2.1\n",
       "\\item 2.1\n",
       "\\end{enumerate*}\n"
      ],
      "text/markdown": [
       "1. 2.1\n",
       "2. 2.1\n",
       "\n",
       "\n"
      ],
      "text/plain": [
       "[1] 2.1 2.1"
      ]
     },
     "execution_count": 226,
     "metadata": {},
     "output_type": "execute_result"
    },
    {
     "data": {
      "text/html": [
       "<ol class=list-inline>\n",
       "\t<li>4.2</li>\n",
       "\t<li>4.2</li>\n",
       "</ol>\n"
      ],
      "text/latex": [
       "\\begin{enumerate*}\n",
       "\\item 4.2\n",
       "\\item 4.2\n",
       "\\end{enumerate*}\n"
      ],
      "text/markdown": [
       "1. 4.2\n",
       "2. 4.2\n",
       "\n",
       "\n"
      ],
      "text/plain": [
       "[1] 4.2 4.2"
      ]
     },
     "execution_count": 226,
     "metadata": {},
     "output_type": "execute_result"
    }
   ],
   "source": [
    "x[c(3, 1)]\n",
    "x[order(x)]\n",
    "\n",
    "# Indices duplicados dan valores duplicados.\n",
    "\n",
    "x[c(1,1)]\n",
    "\n",
    "# Los números reales se truncan a enteros\n",
    "\n",
    "x[c(2.1, 2.9)]"
   ]
  },
  {
   "cell_type": "markdown",
   "metadata": {},
   "source": [
    "### Números Negativos \n",
    "\n",
    "Se omiten elementos en posiciones especificadas. No se puede mezclar enteros negativos y positivos en un único \n",
    "subconjunto."
   ]
  },
  {
   "cell_type": "code",
   "execution_count": 227,
   "metadata": {
    "collapsed": false
   },
   "outputs": [
    {
     "data": {
      "text/html": [
       "<ol class=list-inline>\n",
       "\t<li>4.2</li>\n",
       "\t<li>8.4</li>\n",
       "</ol>\n"
      ],
      "text/latex": [
       "\\begin{enumerate*}\n",
       "\\item 4.2\n",
       "\\item 8.4\n",
       "\\end{enumerate*}\n"
      ],
      "text/markdown": [
       "1. 4.2\n",
       "2. 8.4\n",
       "\n",
       "\n"
      ],
      "text/plain": [
       "[1] 4.2 8.4"
      ]
     },
     "execution_count": 227,
     "metadata": {},
     "output_type": "execute_result"
    }
   ],
   "source": [
    "x[-c(3, 1)]"
   ]
  },
  {
   "cell_type": "code",
   "execution_count": 228,
   "metadata": {
    "collapsed": false
   },
   "outputs": [
    {
     "ename": "ERROR",
     "evalue": "Error in x[c(-1, 2)]: solamente 0's pueden ser mezclados con subscritos negativos\n",
     "output_type": "error",
     "traceback": [
      "Error in x[c(-1, 2)]: solamente 0's pueden ser mezclados con subscritos negativos\n"
     ]
    }
   ],
   "source": [
    "x[c(-1,2)]"
   ]
  },
  {
   "cell_type": "markdown",
   "metadata": {},
   "source": [
    "### Vectores Lógicos\n",
    "\n",
    "Seleccionan  elementos en los que el valor lógico correspondiente a TRUE. Este es probablemente el tipo más\n",
    "útil de subconjuntos  porque tu escribes la expresión que crea el vector lógico:"
   ]
  },
  {
   "cell_type": "code",
   "execution_count": 229,
   "metadata": {
    "collapsed": false
   },
   "outputs": [
    {
     "data": {
      "text/html": [
       "<ol class=list-inline>\n",
       "\t<li>2.1</li>\n",
       "\t<li>4.2</li>\n",
       "</ol>\n"
      ],
      "text/latex": [
       "\\begin{enumerate*}\n",
       "\\item 2.1\n",
       "\\item 4.2\n",
       "\\end{enumerate*}\n"
      ],
      "text/markdown": [
       "1. 2.1\n",
       "2. 4.2\n",
       "\n",
       "\n"
      ],
      "text/plain": [
       "[1] 2.1 4.2"
      ]
     },
     "execution_count": 229,
     "metadata": {},
     "output_type": "execute_result"
    },
    {
     "data": {
      "text/html": [
       "<ol class=list-inline>\n",
       "\t<li>4.2</li>\n",
       "\t<li>6.3</li>\n",
       "\t<li>8.4</li>\n",
       "</ol>\n"
      ],
      "text/latex": [
       "\\begin{enumerate*}\n",
       "\\item 4.2\n",
       "\\item 6.3\n",
       "\\item 8.4\n",
       "\\end{enumerate*}\n"
      ],
      "text/markdown": [
       "1. 4.2\n",
       "2. 6.3\n",
       "3. 8.4\n",
       "\n",
       "\n"
      ],
      "text/plain": [
       "[1] 4.2 6.3 8.4"
      ]
     },
     "execution_count": 229,
     "metadata": {},
     "output_type": "execute_result"
    }
   ],
   "source": [
    "x[c(TRUE, TRUE, FALSE, FALSE)]\n",
    " x[x  > 3]"
   ]
  },
  {
   "cell_type": "markdown",
   "metadata": {},
   "source": [
    "Un valor NA en el índice siempre produce un valor NA en la salida:"
   ]
  },
  {
   "cell_type": "code",
   "execution_count": 230,
   "metadata": {
    "collapsed": false
   },
   "outputs": [
    {
     "data": {
      "text/html": [
       "<ol class=list-inline>\n",
       "\t<li>2.1</li>\n",
       "\t<li>4.2</li>\n",
       "\t<li>NA</li>\n",
       "</ol>\n"
      ],
      "text/latex": [
       "\\begin{enumerate*}\n",
       "\\item 2.1\n",
       "\\item 4.2\n",
       "\\item NA\n",
       "\\end{enumerate*}\n"
      ],
      "text/markdown": [
       "1. 2.1\n",
       "2. 4.2\n",
       "3. NA\n",
       "\n",
       "\n"
      ],
      "text/plain": [
       "[1] 2.1 4.2  NA"
      ]
     },
     "execution_count": 230,
     "metadata": {},
     "output_type": "execute_result"
    }
   ],
   "source": [
    "x[c(TRUE, TRUE, NA, FALSE)]"
   ]
  },
  {
   "cell_type": "markdown",
   "metadata": {},
   "source": [
    "### Nada\n",
    "\n",
    "Devuelve el vector original. Esto no es útil para los vectores, pero es muy útil para las matrices, los data frame  y los arrays. También puede ser útil en conjunción con la asignación."
   ]
  },
  {
   "cell_type": "code",
   "execution_count": 231,
   "metadata": {
    "collapsed": false
   },
   "outputs": [
    {
     "data": {
      "text/html": [
       "<ol class=list-inline>\n",
       "\t<li>2.1</li>\n",
       "\t<li>4.2</li>\n",
       "\t<li>6.3</li>\n",
       "\t<li>8.4</li>\n",
       "</ol>\n"
      ],
      "text/latex": [
       "\\begin{enumerate*}\n",
       "\\item 2.1\n",
       "\\item 4.2\n",
       "\\item 6.3\n",
       "\\item 8.4\n",
       "\\end{enumerate*}\n"
      ],
      "text/markdown": [
       "1. 2.1\n",
       "2. 4.2\n",
       "3. 6.3\n",
       "4. 8.4\n",
       "\n",
       "\n"
      ],
      "text/plain": [
       "[1] 2.1 4.2 6.3 8.4"
      ]
     },
     "execution_count": 231,
     "metadata": {},
     "output_type": "execute_result"
    }
   ],
   "source": [
    "x[]"
   ]
  },
  {
   "cell_type": "markdown",
   "metadata": {},
   "source": [
    "### Cero\n",
    "\n",
    "Retorna un vector de longitud cero y  puede ser útil para la generación de datos  prueba."
   ]
  },
  {
   "cell_type": "code",
   "execution_count": 232,
   "metadata": {
    "collapsed": false
   },
   "outputs": [
    {
     "data": {
      "text/html": [
       "<ol class=list-inline>\n",
       "</ol>\n"
      ],
      "text/latex": [
       "\\begin{enumerate*}\n",
       "\\end{enumerate*}\n"
      ],
      "text/markdown": [
       "\n",
       "\n"
      ],
      "text/plain": [
       "numeric(0)"
      ]
     },
     "execution_count": 232,
     "metadata": {},
     "output_type": "execute_result"
    }
   ],
   "source": [
    "x[0]\n",
    "\n",
    "#>numeric(0)"
   ]
  },
  {
   "cell_type": "markdown",
   "metadata": {},
   "source": [
    "### Vectores de Caracteres\n",
    "\n",
    "Devuelven  elementos con nombres coincidentes."
   ]
  },
  {
   "cell_type": "code",
   "execution_count": 233,
   "metadata": {
    "collapsed": false
   },
   "outputs": [
    {
     "data": {
      "text/html": [
       "<dl class=dl-horizontal>\n",
       "\t<dt>a</dt>\n",
       "\t\t<dd>2.1</dd>\n",
       "\t<dt>b</dt>\n",
       "\t\t<dd>4.2</dd>\n",
       "\t<dt>c</dt>\n",
       "\t\t<dd>6.3</dd>\n",
       "\t<dt>d</dt>\n",
       "\t\t<dd>8.4</dd>\n",
       "</dl>\n"
      ],
      "text/latex": [
       "\\begin{description*}\n",
       "\\item[a] 2.1\n",
       "\\item[b] 4.2\n",
       "\\item[c] 6.3\n",
       "\\item[d] 8.4\n",
       "\\end{description*}\n"
      ],
      "text/markdown": [
       "a\n",
       ":   2.1b\n",
       ":   4.2c\n",
       ":   6.3d\n",
       ":   8.4\n",
       "\n"
      ],
      "text/plain": [
       "  a   b   c   d \n",
       "2.1 4.2 6.3 8.4 "
      ]
     },
     "execution_count": 233,
     "metadata": {},
     "output_type": "execute_result"
    },
    {
     "data": {
      "text/html": [
       "<dl class=dl-horizontal>\n",
       "\t<dt>d</dt>\n",
       "\t\t<dd>8.4</dd>\n",
       "\t<dt>c</dt>\n",
       "\t\t<dd>6.3</dd>\n",
       "\t<dt>a</dt>\n",
       "\t\t<dd>2.1</dd>\n",
       "</dl>\n"
      ],
      "text/latex": [
       "\\begin{description*}\n",
       "\\item[d] 8.4\n",
       "\\item[c] 6.3\n",
       "\\item[a] 2.1\n",
       "\\end{description*}\n"
      ],
      "text/markdown": [
       "d\n",
       ":   8.4c\n",
       ":   6.3a\n",
       ":   2.1\n",
       "\n"
      ],
      "text/plain": [
       "  d   c   a \n",
       "8.4 6.3 2.1 "
      ]
     },
     "execution_count": 233,
     "metadata": {},
     "output_type": "execute_result"
    },
    {
     "data": {
      "text/html": [
       "<dl class=dl-horizontal>\n",
       "\t<dt>a</dt>\n",
       "\t\t<dd>2.1</dd>\n",
       "\t<dt>a</dt>\n",
       "\t\t<dd>2.1</dd>\n",
       "\t<dt>a</dt>\n",
       "\t\t<dd>2.1</dd>\n",
       "</dl>\n"
      ],
      "text/latex": [
       "\\begin{description*}\n",
       "\\item[a] 2.1\n",
       "\\item[a] 2.1\n",
       "\\item[a] 2.1\n",
       "\\end{description*}\n"
      ],
      "text/markdown": [
       "a\n",
       ":   2.1a\n",
       ":   2.1a\n",
       ":   2.1\n",
       "\n"
      ],
      "text/plain": [
       "  a   a   a \n",
       "2.1 2.1 2.1 "
      ]
     },
     "execution_count": 233,
     "metadata": {},
     "output_type": "execute_result"
    },
    {
     "data": {
      "text/html": [
       "<dl class=dl-horizontal>\n",
       "\t<dt>1</dt>\n",
       "\t\t<dd>NA</dd>\n",
       "\t<dt>2</dt>\n",
       "\t\t<dd>NA</dd>\n",
       "</dl>\n"
      ],
      "text/latex": [
       "\\begin{description*}\n",
       "\\item[1] NA\n",
       "\\item[2] NA\n",
       "\\end{description*}\n"
      ],
      "text/markdown": [
       "1\n",
       ":   NA2\n",
       ":   NA\n",
       "\n"
      ],
      "text/plain": [
       "<NA> <NA> \n",
       "  NA   NA "
      ]
     },
     "execution_count": 233,
     "metadata": {},
     "output_type": "execute_result"
    }
   ],
   "source": [
    "(y <- setNames(x, letters[1:4]))\n",
    "y[c(\"d\", \"c\", \"a\")]\n",
    "\n",
    "# Como los indices enteros, tu puedes repetir indices\n",
    "\n",
    "y[c(\"a\", \"a\", \"a\")]\n",
    "\n",
    "# Cuando subconjuntos con [ nombres siempre se corresponden exactamente\n",
    "\n",
    "z <- c(abc = 1, def = 2)\n",
    "z[c(\"a\", \"d\")]"
   ]
  },
  {
   "cell_type": "code",
   "execution_count": 234,
   "metadata": {
    "collapsed": false
   },
   "outputs": [
    {
     "data": {
      "text/html": [
       "<ol class=list-inline>\n",
       "\t<li>1.2</li>\n",
       "\t<li>4.4</li>\n",
       "</ol>\n"
      ],
      "text/latex": [
       "\\begin{enumerate*}\n",
       "\\item 1.2\n",
       "\\item 4.4\n",
       "\\end{enumerate*}\n"
      ],
      "text/markdown": [
       "1. 1.2\n",
       "2. 4.4\n",
       "\n",
       "\n"
      ],
      "text/plain": [
       "[1] 1.2 4.4"
      ]
     },
     "execution_count": 234,
     "metadata": {},
     "output_type": "execute_result"
    },
    {
     "data": {
      "text/html": [
       "<ol class=list-inline>\n",
       "\t<li>3.3</li>\n",
       "\t<li>4.4</li>\n",
       "</ol>\n"
      ],
      "text/latex": [
       "\\begin{enumerate*}\n",
       "\\item 3.3\n",
       "\\item 4.4\n",
       "\\end{enumerate*}\n"
      ],
      "text/markdown": [
       "1. 3.3\n",
       "2. 4.4\n",
       "\n",
       "\n"
      ],
      "text/plain": [
       "[1] 3.3 4.4"
      ]
     },
     "execution_count": 234,
     "metadata": {},
     "output_type": "execute_result"
    },
    {
     "data": {
      "text/html": [
       "<ol class=list-inline>\n",
       "\t<li>4.4</li>\n",
       "\t<li>5.12</li>\n",
       "</ol>\n"
      ],
      "text/latex": [
       "\\begin{enumerate*}\n",
       "\\item 4.4\n",
       "\\item 5.12\n",
       "\\end{enumerate*}\n"
      ],
      "text/markdown": [
       "1. 4.4\n",
       "2. 5.12\n",
       "\n",
       "\n"
      ],
      "text/plain": [
       "[1] 4.40 5.12"
      ]
     },
     "execution_count": 234,
     "metadata": {},
     "output_type": "execute_result"
    }
   ],
   "source": [
    "# Ejemplos de subconjuntos en vectores numericos\n",
    "\n",
    "oo <- c(1.2,3.3,4.4,5.12)\n",
    "oo[c(1,3)]\n",
    "oo[2:3]\n",
    "vv <- 3:4\n",
    "oo[vv]"
   ]
  },
  {
   "cell_type": "code",
   "execution_count": 235,
   "metadata": {
    "collapsed": false
   },
   "outputs": [
    {
     "data": {
      "text/html": [
       "<ol class=list-inline>\n",
       "\t<li>4</li>\n",
       "\t<li>4</li>\n",
       "\t<li>17</li>\n",
       "</ol>\n"
      ],
      "text/latex": [
       "\\begin{enumerate*}\n",
       "\\item 4\n",
       "\\item 4\n",
       "\\item 17\n",
       "\\end{enumerate*}\n"
      ],
      "text/markdown": [
       "1. 4\n",
       "2. 4\n",
       "3. 17\n",
       "\n",
       "\n"
      ],
      "text/plain": [
       "[1]  4  4 17"
      ]
     },
     "execution_count": 235,
     "metadata": {},
     "output_type": "execute_result"
    }
   ],
   "source": [
    "# Los duplicados son permitidos\n",
    "\n",
    "www <- c(4,2,17,5)\n",
    "yyy <- www[c(1,1,3)]\n",
    "yyy\n",
    "\n"
   ]
  },
  {
   "cell_type": "code",
   "execution_count": 236,
   "metadata": {
    "collapsed": false
   },
   "outputs": [
    {
     "data": {
      "text/html": [
       "<ol class=list-inline>\n",
       "\t<li>12</li>\n",
       "\t<li>13</li>\n",
       "\t<li>3</li>\n",
       "\t<li>4</li>\n",
       "\t<li>7</li>\n",
       "\t<li>8</li>\n",
       "\t<li>9</li>\n",
       "</ol>\n"
      ],
      "text/latex": [
       "\\begin{enumerate*}\n",
       "\\item 12\n",
       "\\item 13\n",
       "\\item 3\n",
       "\\item 4\n",
       "\\item 7\n",
       "\\item 8\n",
       "\\item 9\n",
       "\\end{enumerate*}\n"
      ],
      "text/markdown": [
       "1. 12\n",
       "2. 13\n",
       "3. 3\n",
       "4. 4\n",
       "5. 7\n",
       "6. 8\n",
       "7. 9\n",
       "\n",
       "\n"
      ],
      "text/plain": [
       "[1] 12 13  3  4  7  8  9"
      ]
     },
     "execution_count": 236,
     "metadata": {},
     "output_type": "execute_result"
    },
    {
     "data": {
      "text/html": [
       "<ol class=list-inline>\n",
       "\t<li>13</li>\n",
       "\t<li>3</li>\n",
       "\t<li>4</li>\n",
       "\t<li>7</li>\n",
       "\t<li>8</li>\n",
       "\t<li>9</li>\n",
       "</ol>\n"
      ],
      "text/latex": [
       "\\begin{enumerate*}\n",
       "\\item 13\n",
       "\\item 3\n",
       "\\item 4\n",
       "\\item 7\n",
       "\\item 8\n",
       "\\item 9\n",
       "\\end{enumerate*}\n"
      ],
      "text/markdown": [
       "1. 13\n",
       "2. 3\n",
       "3. 4\n",
       "4. 7\n",
       "5. 8\n",
       "6. 9\n",
       "\n",
       "\n"
      ],
      "text/plain": [
       "[1] 13  3  4  7  8  9"
      ]
     },
     "execution_count": 236,
     "metadata": {},
     "output_type": "execute_result"
    },
    {
     "data": {
      "text/html": [
       "<ol class=list-inline>\n",
       "\t<li>5</li>\n",
       "\t<li>12</li>\n",
       "\t<li>13</li>\n",
       "\t<li>3</li>\n",
       "\t<li>4</li>\n",
       "\t<li>7</li>\n",
       "\t<li>8</li>\n",
       "</ol>\n"
      ],
      "text/latex": [
       "\\begin{enumerate*}\n",
       "\\item 5\n",
       "\\item 12\n",
       "\\item 13\n",
       "\\item 3\n",
       "\\item 4\n",
       "\\item 7\n",
       "\\item 8\n",
       "\\end{enumerate*}\n"
      ],
      "text/markdown": [
       "1. 5\n",
       "2. 12\n",
       "3. 13\n",
       "4. 3\n",
       "5. 4\n",
       "6. 7\n",
       "7. 8\n",
       "\n",
       "\n"
      ],
      "text/plain": [
       "[1]  5 12 13  3  4  7  8"
      ]
     },
     "execution_count": 236,
     "metadata": {},
     "output_type": "execute_result"
    },
    {
     "data": {
      "text/html": [
       "<ol class=list-inline>\n",
       "\t<li>5</li>\n",
       "\t<li>13</li>\n",
       "\t<li>3</li>\n",
       "\t<li>4</li>\n",
       "\t<li>7</li>\n",
       "\t<li>8</li>\n",
       "\t<li>9</li>\n",
       "</ol>\n"
      ],
      "text/latex": [
       "\\begin{enumerate*}\n",
       "\\item 5\n",
       "\\item 13\n",
       "\\item 3\n",
       "\\item 4\n",
       "\\item 7\n",
       "\\item 8\n",
       "\\item 9\n",
       "\\end{enumerate*}\n"
      ],
      "text/markdown": [
       "1. 5\n",
       "2. 13\n",
       "3. 3\n",
       "4. 4\n",
       "5. 7\n",
       "6. 8\n",
       "7. 9\n",
       "\n",
       "\n"
      ],
      "text/plain": [
       "[1]  5 13  3  4  7  8  9"
      ]
     },
     "execution_count": 236,
     "metadata": {},
     "output_type": "execute_result"
    }
   ],
   "source": [
    "# Ejemplo de subindices y la funcion length()\n",
    "\n",
    "pa <- c(5,12,13,3,4, 7, 8,9)\n",
    "pa[-1]\n",
    "pa[-1:-2]\n",
    "pa[1:(length(pa)-1)]\n",
    "\n",
    "pa[-length(z)]   # Mas simple\n"
   ]
  },
  {
   "cell_type": "markdown",
   "metadata": {},
   "source": [
    "## Matrices y Arrays"
   ]
  },
  {
   "cell_type": "markdown",
   "metadata": {},
   "source": [
    "Puede usar subconjuntos en estructuras de dimensiones superiores de tres maneras:\n",
    "\n",
    "1. Con múltiples vectores.\n",
    "2. Con un único vector.\n",
    "3. Con una matriz.\n",
    "\n",
    "La forma más común de conseguir  subconjuntos de matrices (2d) y matrices (> 2d) es una simple generalización de subconjuntos en 1d: es decir se  proporciona un índice de 1d para cada dimensión, separados por una coma. Subconjuntos en blanco ahora es útil, ya que te permite mantener todas las filas o todas las columnas."
   ]
  },
  {
   "cell_type": "code",
   "execution_count": 237,
   "metadata": {
    "collapsed": false
   },
   "outputs": [
    {
     "data": {
      "text/html": [
       "<table>\n",
       "<thead><tr><th scope=col>A</th><th scope=col>B</th><th scope=col>C</th></tr></thead>\n",
       "<tbody>\n",
       "\t<tr><td>1</td><td>4</td><td>7</td></tr>\n",
       "\t<tr><td>2</td><td>5</td><td>8</td></tr>\n",
       "</tbody>\n",
       "</table>\n"
      ],
      "text/latex": [
       "\\begin{tabular}{lll}\n",
       " A & B & C\\\\\n",
       "\\hline\n",
       "\t 1 & 4 & 7\\\\\n",
       "\t 2 & 5 & 8\\\\\n",
       "\\end{tabular}\n"
      ],
      "text/markdown": [
       "1. 1\n",
       "2. 2\n",
       "3. 4\n",
       "4. 5\n",
       "5. 7\n",
       "6. 8\n",
       "\n",
       "\n"
      ],
      "text/plain": [
       "     A B C\n",
       "[1,] 1 4 7\n",
       "[2,] 2 5 8"
      ]
     },
     "execution_count": 237,
     "metadata": {},
     "output_type": "execute_result"
    }
   ],
   "source": [
    "a <- matrix(1:9, nrow = 3)\n",
    "colnames(a) <- c(\"A\", \"B\", \"C\")\n",
    "a[1:2, ]"
   ]
  },
  {
   "cell_type": "code",
   "execution_count": 238,
   "metadata": {
    "collapsed": false
   },
   "outputs": [
    {
     "data": {
      "text/html": [
       "<table>\n",
       "<thead><tr><th scope=col>B</th><th scope=col>A</th></tr></thead>\n",
       "<tbody>\n",
       "\t<tr><td>4</td><td>1</td></tr>\n",
       "\t<tr><td>6</td><td>3</td></tr>\n",
       "</tbody>\n",
       "</table>\n"
      ],
      "text/latex": [
       "\\begin{tabular}{ll}\n",
       " B & A\\\\\n",
       "\\hline\n",
       "\t 4 & 1\\\\\n",
       "\t 6 & 3\\\\\n",
       "\\end{tabular}\n"
      ],
      "text/markdown": [
       "1. 4\n",
       "2. 6\n",
       "3. 1\n",
       "4. 3\n",
       "\n",
       "\n"
      ],
      "text/plain": [
       "     B A\n",
       "[1,] 4 1\n",
       "[2,] 6 3"
      ]
     },
     "execution_count": 238,
     "metadata": {},
     "output_type": "execute_result"
    }
   ],
   "source": [
    "a[c(T, F, T), c(\"B\", \"A\")]"
   ]
  },
  {
   "cell_type": "code",
   "execution_count": 239,
   "metadata": {
    "collapsed": false
   },
   "outputs": [
    {
     "data": {
      "text/html": [
       "<table>\n",
       "<thead><tr><th scope=col>A</th><th scope=col>C</th></tr></thead>\n",
       "<tbody>\n",
       "</tbody>\n",
       "</table>\n"
      ],
      "text/latex": [
       "\\begin{tabular}{ll}\n",
       " A & C\\\\\n",
       "\\hline\n",
       "\\end{tabular}\n"
      ],
      "text/markdown": [
       "\n",
       "\n"
      ],
      "text/plain": [
       "     A C"
      ]
     },
     "execution_count": 239,
     "metadata": {},
     "output_type": "execute_result"
    }
   ],
   "source": [
    "a[0, -2]"
   ]
  },
  {
   "cell_type": "markdown",
   "metadata": {},
   "source": [
    "Por defecto, **[** simplificará los resultados a la dimensionalidad menor.\n",
    "Debido a que las matrices y arrays  se implementan como vectores con atributos especiales, tu puedes\n",
    "colocarlos  como  un único vector. En ese caso, se verá como un vector. Los arrays en R se almacenan en orden columnas principales:\n",
    "\n",
    "```\n",
    "help(outer)\n",
    "```\n"
   ]
  },
  {
   "cell_type": "code",
   "execution_count": 240,
   "metadata": {
    "collapsed": false
   },
   "outputs": [
    {
     "data": {
      "text/html": [
       "<table>\n",
       "<tbody>\n",
       "\t<tr><td>1,1</td><td>1,2</td><td>1,3</td><td>1,4</td><td>1,5</td></tr>\n",
       "\t<tr><td>2,1</td><td>2,2</td><td>2,3</td><td>2,4</td><td>2,5</td></tr>\n",
       "\t<tr><td>3,1</td><td>3,2</td><td>3,3</td><td>3,4</td><td>3,5</td></tr>\n",
       "\t<tr><td>4,1</td><td>4,2</td><td>4,3</td><td>4,4</td><td>4,5</td></tr>\n",
       "\t<tr><td>5,1</td><td>5,2</td><td>5,3</td><td>5,4</td><td>5,5</td></tr>\n",
       "</tbody>\n",
       "</table>\n"
      ],
      "text/latex": [
       "\\begin{tabular}{lllll}\n",
       "\t 1,1 & 1,2 & 1,3 & 1,4 & 1,5\\\\\n",
       "\t 2,1 & 2,2 & 2,3 & 2,4 & 2,5\\\\\n",
       "\t 3,1 & 3,2 & 3,3 & 3,4 & 3,5\\\\\n",
       "\t 4,1 & 4,2 & 4,3 & 4,4 & 4,5\\\\\n",
       "\t 5,1 & 5,2 & 5,3 & 5,4 & 5,5\\\\\n",
       "\\end{tabular}\n"
      ],
      "text/markdown": [
       "1. '1,1'\n",
       "2. '2,1'\n",
       "3. '3,1'\n",
       "4. '4,1'\n",
       "5. '5,1'\n",
       "6. '1,2'\n",
       "7. '2,2'\n",
       "8. '3,2'\n",
       "9. '4,2'\n",
       "10. '5,2'\n",
       "11. '1,3'\n",
       "12. '2,3'\n",
       "13. '3,3'\n",
       "14. '4,3'\n",
       "15. '5,3'\n",
       "16. '1,4'\n",
       "17. '2,4'\n",
       "18. '3,4'\n",
       "19. '4,4'\n",
       "20. '5,4'\n",
       "21. '1,5'\n",
       "22. '2,5'\n",
       "23. '3,5'\n",
       "24. '4,5'\n",
       "25. '5,5'\n",
       "\n",
       "\n"
      ],
      "text/plain": [
       "     [,1]  [,2]  [,3]  [,4]  [,5] \n",
       "[1,] \"1,1\" \"1,2\" \"1,3\" \"1,4\" \"1,5\"\n",
       "[2,] \"2,1\" \"2,2\" \"2,3\" \"2,4\" \"2,5\"\n",
       "[3,] \"3,1\" \"3,2\" \"3,3\" \"3,4\" \"3,5\"\n",
       "[4,] \"4,1\" \"4,2\" \"4,3\" \"4,4\" \"4,5\"\n",
       "[5,] \"5,1\" \"5,2\" \"5,3\" \"5,4\" \"5,5\""
      ]
     },
     "execution_count": 240,
     "metadata": {},
     "output_type": "execute_result"
    },
    {
     "data": {
      "text/html": [
       "<ol class=list-inline>\n",
       "\t<li>'4,1'</li>\n",
       "\t<li>'5,3'</li>\n",
       "</ol>\n"
      ],
      "text/latex": [
       "\\begin{enumerate*}\n",
       "\\item '4,1'\n",
       "\\item '5,3'\n",
       "\\end{enumerate*}\n"
      ],
      "text/markdown": [
       "1. '4,1'\n",
       "2. '5,3'\n",
       "\n",
       "\n"
      ],
      "text/plain": [
       "[1] \"4,1\" \"5,3\""
      ]
     },
     "execution_count": 240,
     "metadata": {},
     "output_type": "execute_result"
    }
   ],
   "source": [
    "(valores <- outer(1:5, 1:5, FUN = \"paste\", sep = \",\"))\n",
    "valores[c(4, 15)]"
   ]
  },
  {
   "cell_type": "markdown",
   "metadata": {},
   "source": [
    "También se puede usar  subconjunto de estructuras de datos de dimensiones superiores con una matriz entera (o, si tiene nombre, como una matriz de caracteres). Cada fila de la matriz especifica la ubicación de un valor,  cada columna corresponde a una dimensión de la matriz  subestablecida. Esto significa que  se utiliza una matriz de 2 columnas  para un subconjunto de una matriz, una matriz de 3 columnas  para un  subconjunto de una matriz 3D, y así sucesivamente. El resultado es un vector de valores:"
   ]
  },
  {
   "cell_type": "code",
   "execution_count": 241,
   "metadata": {
    "collapsed": false
   },
   "outputs": [
    {
     "data": {
      "text/html": [
       "<ol class=list-inline>\n",
       "\t<li>'1,1'</li>\n",
       "\t<li>'3,1'</li>\n",
       "\t<li>'2,4'</li>\n",
       "</ol>\n"
      ],
      "text/latex": [
       "\\begin{enumerate*}\n",
       "\\item '1,1'\n",
       "\\item '3,1'\n",
       "\\item '2,4'\n",
       "\\end{enumerate*}\n"
      ],
      "text/markdown": [
       "1. '1,1'\n",
       "2. '3,1'\n",
       "3. '2,4'\n",
       "\n",
       "\n"
      ],
      "text/plain": [
       "[1] \"1,1\" \"3,1\" \"2,4\""
      ]
     },
     "execution_count": 241,
     "metadata": {},
     "output_type": "execute_result"
    }
   ],
   "source": [
    "valores <- outer(1:5, 1:5, FUN = \"paste\", sep = \",\")\n",
    "seleccionar <- matrix(ncol = 2, byrow = TRUE, c(\n",
    "  1, 1,\n",
    "  3, 1,\n",
    "  2, 4\n",
    "))\n",
    "valores[seleccionar]"
   ]
  },
  {
   "cell_type": "markdown",
   "metadata": {
    "collapsed": true
   },
   "source": [
    "### Otras operaciones con matrices"
   ]
  },
  {
   "cell_type": "markdown",
   "metadata": {},
   "source": [
    "```\n",
    "help(rbind)\n",
    "help(cbind)\n",
    "```"
   ]
  },
  {
   "cell_type": "code",
   "execution_count": 242,
   "metadata": {
    "collapsed": false
   },
   "outputs": [
    {
     "data": {
      "text/html": [
       "<table>\n",
       "<thead><tr><th scope=col>one</th><th scope=col></th><th scope=col></th><th scope=col></th></tr></thead>\n",
       "<tbody>\n",
       "\t<tr><td>1</td><td>1</td><td>1</td><td>1</td></tr>\n",
       "\t<tr><td>1</td><td>2</td><td>1</td><td>0</td></tr>\n",
       "\t<tr><td>1</td><td>3</td><td>0</td><td>1</td></tr>\n",
       "\t<tr><td>1</td><td>4</td><td>0</td><td>0</td></tr>\n",
       "</tbody>\n",
       "</table>\n"
      ],
      "text/latex": [
       "\\begin{tabular}{llll}\n",
       " one &  &  & \\\\\n",
       "\\hline\n",
       "\t 1 & 1 & 1 & 1\\\\\n",
       "\t 1 & 2 & 1 & 0\\\\\n",
       "\t 1 & 3 & 0 & 1\\\\\n",
       "\t 1 & 4 & 0 & 0\\\\\n",
       "\\end{tabular}\n"
      ],
      "text/markdown": [
       "1. 1\n",
       "2. 1\n",
       "3. 1\n",
       "4. 1\n",
       "5. 1\n",
       "6. 2\n",
       "7. 3\n",
       "8. 4\n",
       "9. 1\n",
       "10. 1\n",
       "11. 0\n",
       "12. 0\n",
       "13. 1\n",
       "14. 0\n",
       "15. 1\n",
       "16. 0\n",
       "\n",
       "\n"
      ],
      "text/plain": [
       "     one      \n",
       "[1,]   1 1 1 1\n",
       "[2,]   1 2 1 0\n",
       "[3,]   1 3 0 1\n",
       "[4,]   1 4 0 0"
      ]
     },
     "execution_count": 242,
     "metadata": {},
     "output_type": "execute_result"
    },
    {
     "data": {
      "text/html": [
       "<table>\n",
       "<tbody>\n",
       "\t<tr><td>1</td><td>1</td><td>1</td><td>1</td></tr>\n",
       "\t<tr><td>1</td><td>2</td><td>1</td><td>0</td></tr>\n",
       "\t<tr><td>1</td><td>3</td><td>0</td><td>1</td></tr>\n",
       "\t<tr><td>1</td><td>4</td><td>0</td><td>0</td></tr>\n",
       "</tbody>\n",
       "</table>\n"
      ],
      "text/latex": [
       "\\begin{tabular}{llll}\n",
       "\t 1 & 1 & 1 & 1\\\\\n",
       "\t 1 & 2 & 1 & 0\\\\\n",
       "\t 1 & 3 & 0 & 1\\\\\n",
       "\t 1 & 4 & 0 & 0\\\\\n",
       "\\end{tabular}\n"
      ],
      "text/markdown": [
       "1. 1\n",
       "2. 1\n",
       "3. 1\n",
       "4. 1\n",
       "5. 1\n",
       "6. 2\n",
       "7. 3\n",
       "8. 4\n",
       "9. 1\n",
       "10. 1\n",
       "11. 0\n",
       "12. 0\n",
       "13. 1\n",
       "14. 0\n",
       "15. 1\n",
       "16. 0\n",
       "\n",
       "\n"
      ],
      "text/plain": [
       "     [,1] [,2] [,3] [,4]\n",
       "[1,]    1    1    1    1\n",
       "[2,]    1    2    1    0\n",
       "[3,]    1    3    0    1\n",
       "[4,]    1    4    0    0"
      ]
     },
     "execution_count": 242,
     "metadata": {},
     "output_type": "execute_result"
    }
   ],
   "source": [
    "# Cambiando el tamaño de una matriz usando cbind() y rbind(), \n",
    "# funciones que te permiten agregar filas o columnas a una matriz\n",
    "\n",
    "\n",
    "one <- rep(1, 4)\n",
    "mili <- matrix(c(1,2,3,4, 1,1,0,0, 1,0,1,0),nrow=4)\n",
    "cbind(one, mili)\n",
    "cbind(1, mili)  # Usando recycling"
   ]
  },
  {
   "cell_type": "code",
   "execution_count": 243,
   "metadata": {
    "collapsed": false
   },
   "outputs": [
    {
     "data": {
      "text/html": [
       "<table>\n",
       "<tbody>\n",
       "\t<tr><td>1</td><td>2</td></tr>\n",
       "\t<tr><td>3</td><td>4</td></tr>\n",
       "</tbody>\n",
       "</table>\n"
      ],
      "text/latex": [
       "\\begin{tabular}{ll}\n",
       "\t 1 & 2\\\\\n",
       "\t 3 & 4\\\\\n",
       "\\end{tabular}\n"
      ],
      "text/markdown": [
       "1. 1\n",
       "2. 3\n",
       "3. 2\n",
       "4. 4\n",
       "\n",
       "\n"
      ],
      "text/plain": [
       "     [,1] [,2]\n",
       "[1,]    1    2\n",
       "[2,]    3    4"
      ]
     },
     "execution_count": 243,
     "metadata": {},
     "output_type": "execute_result"
    }
   ],
   "source": [
    "# Podemos crear con cuidado algunas matrices\n",
    "\n",
    "qq<- rbind(c(1,2),c(3,4))\n",
    "qq\n"
   ]
  },
  {
   "cell_type": "code",
   "execution_count": 244,
   "metadata": {
    "collapsed": false
   },
   "outputs": [
    {
     "data": {
      "text/html": [
       "<table>\n",
       "<tbody>\n",
       "\t<tr><td>1</td><td>4</td><td>7</td></tr>\n",
       "\t<tr><td>2</td><td>5</td><td>8</td></tr>\n",
       "\t<tr><td>3</td><td>6</td><td>9</td></tr>\n",
       "</tbody>\n",
       "</table>\n"
      ],
      "text/latex": [
       "\\begin{tabular}{lll}\n",
       "\t 1 & 4 & 7\\\\\n",
       "\t 2 & 5 & 8\\\\\n",
       "\t 3 & 6 & 9\\\\\n",
       "\\end{tabular}\n"
      ],
      "text/markdown": [
       "1. 1\n",
       "2. 2\n",
       "3. 3\n",
       "4. 4\n",
       "5. 5\n",
       "6. 6\n",
       "7. 7\n",
       "8. 8\n",
       "9. 9\n",
       "\n",
       "\n"
      ],
      "text/plain": [
       "     [,1] [,2] [,3]\n",
       "[1,]    1    4    7\n",
       "[2,]    2    5    8\n",
       "[3,]    3    6    9"
      ]
     },
     "execution_count": 244,
     "metadata": {},
     "output_type": "execute_result"
    },
    {
     "data": {
      "text/html": [
       "<table>\n",
       "<tbody>\n",
       "\t<tr><td>1</td><td>4</td><td>7</td></tr>\n",
       "\t<tr><td>3</td><td>6</td><td>9</td></tr>\n",
       "</tbody>\n",
       "</table>\n"
      ],
      "text/latex": [
       "\\begin{tabular}{lll}\n",
       "\t 1 & 4 & 7\\\\\n",
       "\t 3 & 6 & 9\\\\\n",
       "\\end{tabular}\n"
      ],
      "text/markdown": [
       "1. 1\n",
       "2. 3\n",
       "3. 4\n",
       "4. 6\n",
       "5. 7\n",
       "6. 9\n",
       "\n",
       "\n"
      ],
      "text/plain": [
       "     [,1] [,2] [,3]\n",
       "[1,]    1    4    7\n",
       "[2,]    3    6    9"
      ]
     },
     "execution_count": 244,
     "metadata": {},
     "output_type": "execute_result"
    }
   ],
   "source": [
    "# Puede eliminar filas o columnas por reasignación:\n",
    "\n",
    "m1 <- matrix(1:9,nrow=3)\n",
    "m1 \n",
    "\n",
    "m1 <- m1[c(1,3),]\n",
    "m1"
   ]
  },
  {
   "cell_type": "code",
   "execution_count": 245,
   "metadata": {
    "collapsed": false
   },
   "outputs": [
    {
     "data": {
      "text/html": [
       "<table>\n",
       "<tbody>\n",
       "\t<tr><td>1</td><td>5</td></tr>\n",
       "\t<tr><td>2</td><td>6</td></tr>\n",
       "\t<tr><td>3</td><td>7</td></tr>\n",
       "\t<tr><td>4</td><td>8</td></tr>\n",
       "</tbody>\n",
       "</table>\n"
      ],
      "text/latex": [
       "\\begin{tabular}{ll}\n",
       "\t 1 & 5\\\\\n",
       "\t 2 & 6\\\\\n",
       "\t 3 & 7\\\\\n",
       "\t 4 & 8\\\\\n",
       "\\end{tabular}\n"
      ],
      "text/markdown": [
       "1. 1\n",
       "2. 2\n",
       "3. 3\n",
       "4. 4\n",
       "5. 5\n",
       "6. 6\n",
       "7. 7\n",
       "8. 8\n",
       "\n",
       "\n"
      ],
      "text/plain": [
       "     [,1] [,2]\n",
       "[1,]    1    5\n",
       "[2,]    2    6\n",
       "[3,]    3    7\n",
       "[4,]    4    8"
      ]
     },
     "execution_count": 245,
     "metadata": {},
     "output_type": "execute_result"
    },
    {
     "data": {
      "text/html": [
       "8"
      ],
      "text/latex": [
       "8"
      ],
      "text/markdown": [
       "8"
      ],
      "text/plain": [
       "[1] 8"
      ]
     },
     "execution_count": 245,
     "metadata": {},
     "output_type": "execute_result"
    },
    {
     "data": {
      "text/html": [
       "'matrix'"
      ],
      "text/latex": [
       "'matrix'"
      ],
      "text/markdown": [
       "'matrix'"
      ],
      "text/plain": [
       "[1] \"matrix\""
      ]
     },
     "execution_count": 245,
     "metadata": {},
     "output_type": "execute_result"
    },
    {
     "data": {
      "text/html": [
       "<strong>$dim</strong> = <ol class=list-inline>\n",
       "\t<li>4</li>\n",
       "\t<li>2</li>\n",
       "</ol>\n"
      ],
      "text/latex": [
       "\\textbf{\\$dim} = \\begin{enumerate*}\n",
       "\\item 4\n",
       "\\item 2\n",
       "\\end{enumerate*}\n"
      ],
      "text/markdown": [
       "**$dim** = 1. 4\n",
       "2. 2\n",
       "\n",
       "\n"
      ],
      "text/plain": [
       "$dim\n",
       "[1] 4 2\n"
      ]
     },
     "execution_count": 245,
     "metadata": {},
     "output_type": "execute_result"
    },
    {
     "data": {
      "text/html": [
       "<ol class=list-inline>\n",
       "\t<li>4</li>\n",
       "\t<li>2</li>\n",
       "</ol>\n"
      ],
      "text/latex": [
       "\\begin{enumerate*}\n",
       "\\item 4\n",
       "\\item 2\n",
       "\\end{enumerate*}\n"
      ],
      "text/markdown": [
       "1. 4\n",
       "2. 2\n",
       "\n",
       "\n"
      ],
      "text/plain": [
       "[1] 4 2"
      ]
     },
     "execution_count": 245,
     "metadata": {},
     "output_type": "execute_result"
    },
    {
     "data": {
      "text/html": [
       "4"
      ],
      "text/latex": [
       "4"
      ],
      "text/markdown": [
       "4"
      ],
      "text/plain": [
       "[1] 4"
      ]
     },
     "execution_count": 245,
     "metadata": {},
     "output_type": "execute_result"
    },
    {
     "data": {
      "text/html": [
       "2"
      ],
      "text/latex": [
       "2"
      ],
      "text/markdown": [
       "2"
      ],
      "text/plain": [
       "[1] 2"
      ]
     },
     "execution_count": 245,
     "metadata": {},
     "output_type": "execute_result"
    },
    {
     "data": {
      "text/html": [
       "<pre class=language-r><code>function (x) \n",
       "dim(x)[1L]</code></pre>"
      ],
      "text/latex": [
       "\\begin{minted}{r}\n",
       "function (x) \n",
       "dim(x){[}1L{]}\n",
       "\\end{minted}"
      ],
      "text/markdown": [
       "```r\n",
       "function (x) \n",
       "dim(x)[1L]\n",
       "```"
      ],
      "text/plain": [
       "function (x) \n",
       "dim(x)[1L]\n",
       "<bytecode: 0x8fb96dc>\n",
       "<environment: namespace:base>"
      ]
     },
     "execution_count": 245,
     "metadata": {},
     "output_type": "execute_result"
    }
   ],
   "source": [
    "# Un resumen de lo que se a visto\n",
    "\n",
    "m2 <- matrix(1:8,nrow=4)\n",
    "m2\n",
    "length(m2)\n",
    "class(m2)\n",
    "attributes(m2)\n",
    "dim(m2)\n",
    "nrow(m2)\n",
    "ncol(m2)\n",
    "nrow\n",
    "\n"
   ]
  },
  {
   "cell_type": "markdown",
   "metadata": {},
   "source": [
    "En el mundo de la estadística, la reducción de dimensión es una buena cosa, y muchos procedimientos estadísticos apuntan a hacerlo bien. Si estamos trabajando con, 10 variableas y podemos reducir ese número a 3, aún capturando  la esencia de nuestros datos, todo estará bien.\n",
    "\n",
    "Sin embargo, en R, algo  podría merecer el  nombre de  **reducción de la dimensión (dimension reduction)** la que algunas veces debemos  evitar. Digamos que tenemos una matriz de cuatro filas y extraemos una fila de ella:"
   ]
  },
  {
   "cell_type": "code",
   "execution_count": 246,
   "metadata": {
    "collapsed": false
   },
   "outputs": [
    {
     "data": {
      "text/html": [
       "<ol class=list-inline>\n",
       "\t<li>2</li>\n",
       "\t<li>6</li>\n",
       "</ol>\n"
      ],
      "text/latex": [
       "\\begin{enumerate*}\n",
       "\\item 2\n",
       "\\item 6\n",
       "\\end{enumerate*}\n"
      ],
      "text/markdown": [
       "1. 2\n",
       "2. 6\n",
       "\n",
       "\n"
      ],
      "text/plain": [
       "[1] 2 6"
      ]
     },
     "execution_count": 246,
     "metadata": {},
     "output_type": "execute_result"
    },
    {
     "data": {
      "text/html": [
       "<strong>$dim</strong> = <ol class=list-inline>\n",
       "\t<li>4</li>\n",
       "\t<li>2</li>\n",
       "</ol>\n"
      ],
      "text/latex": [
       "\\textbf{\\$dim} = \\begin{enumerate*}\n",
       "\\item 4\n",
       "\\item 2\n",
       "\\end{enumerate*}\n"
      ],
      "text/markdown": [
       "**$dim** = 1. 4\n",
       "2. 2\n",
       "\n",
       "\n"
      ],
      "text/plain": [
       "$dim\n",
       "[1] 4 2\n"
      ]
     },
     "execution_count": 246,
     "metadata": {},
     "output_type": "execute_result"
    },
    {
     "data": {
      "text/plain": [
       "NULL"
      ]
     },
     "execution_count": 246,
     "metadata": {},
     "output_type": "execute_result"
    },
    {
     "name": "stdout",
     "output_type": "stream",
     "text": [
      " num [1:4, 1:2] 1 2 3 4 5 6 7 8\n",
      " num [1:2] 2 6\n"
     ]
    }
   ],
   "source": [
    "ss<- matrix(c(1,2,3,4,5,6,7,8), ncol=2)\n",
    "s <- ss[2,]\n",
    "s     # s es un vector\n",
    "attributes(ss)\n",
    "attributes(s)\n",
    "str(ss)\n",
    "str(s)"
   ]
  },
  {
   "cell_type": "markdown",
   "metadata": {},
   "source": [
    "Para suprimir la **reduccion de la dimension**, usamos el argumento **drop**, ya que **[** es una función como es el casoo de los operadores ** + **."
   ]
  },
  {
   "cell_type": "code",
   "execution_count": 247,
   "metadata": {
    "collapsed": false
   },
   "outputs": [
    {
     "data": {
      "text/html": [
       "<table>\n",
       "<tbody>\n",
       "\t<tr><td>2</td><td>6</td></tr>\n",
       "</tbody>\n",
       "</table>\n"
      ],
      "text/latex": [
       "\\begin{tabular}{ll}\n",
       "\t 2 & 6\\\\\n",
       "\\end{tabular}\n"
      ],
      "text/markdown": [
       "1. 2\n",
       "2. 6\n",
       "\n",
       "\n"
      ],
      "text/plain": [
       "     [,1] [,2]\n",
       "[1,]    2    6"
      ]
     },
     "execution_count": 247,
     "metadata": {},
     "output_type": "execute_result"
    },
    {
     "data": {
      "text/html": [
       "<ol class=list-inline>\n",
       "\t<li>1</li>\n",
       "\t<li>2</li>\n",
       "</ol>\n"
      ],
      "text/latex": [
       "\\begin{enumerate*}\n",
       "\\item 1\n",
       "\\item 2\n",
       "\\end{enumerate*}\n"
      ],
      "text/markdown": [
       "1. 1\n",
       "2. 2\n",
       "\n",
       "\n"
      ],
      "text/plain": [
       "[1] 1 2"
      ]
     },
     "execution_count": 247,
     "metadata": {},
     "output_type": "execute_result"
    }
   ],
   "source": [
    "# En elejemplo anterior\n",
    "\n",
    "s <- ss[2,, drop=FALSE]\n",
    "s\n",
    "dim(s)"
   ]
  },
  {
   "cell_type": "markdown",
   "metadata": {},
   "source": [
    "Si  tienes un vector que sea pasado como una matriz, puede utiliza la función **as.matrix ()**, como sigue:"
   ]
  },
  {
   "cell_type": "code",
   "execution_count": 248,
   "metadata": {
    "collapsed": false
   },
   "outputs": [
    {
     "data": {
      "text/html": [
       "\n",
       "<table width=\"100%\" summary=\"page for matrix {base}\"><tr><td>matrix {base}</td><td style=\"text-align: right;\">R Documentation</td></tr></table>\n",
       "\n",
       "<h2>Matrices</h2>\n",
       "\n",
       "<h3>Description</h3>\n",
       "\n",
       "<p><code>matrix</code> creates a matrix from the given set of values.\n",
       "</p>\n",
       "<p><code>as.matrix</code> attempts to turn its argument into a matrix.\n",
       "</p>\n",
       "<p><code>is.matrix</code> tests if its argument is a (strict) matrix.\n",
       "</p>\n",
       "\n",
       "\n",
       "<h3>Usage</h3>\n",
       "\n",
       "<pre>\n",
       "matrix(data = NA, nrow = 1, ncol = 1, byrow = FALSE,\n",
       "       dimnames = NULL)\n",
       "\n",
       "as.matrix(x, ...)\n",
       "## S3 method for class 'data.frame'\n",
       "as.matrix(x, rownames.force = NA, ...)\n",
       "\n",
       "is.matrix(x)\n",
       "</pre>\n",
       "\n",
       "\n",
       "<h3>Arguments</h3>\n",
       "\n",
       "<table summary=\"R argblock\">\n",
       "<tr valign=\"top\"><td><code>data</code></td>\n",
       "<td>\n",
       "<p>an optional data vector (including a list or\n",
       "<code>expression</code> vector).  Non-atomic classed <span style=\"font-family: Courier New, Courier; color: #666666;\"><b>R</b></span> objects are\n",
       "coerced by <code>as.vector</code> and all attributes discarded.</p>\n",
       "</td></tr>\n",
       "<tr valign=\"top\"><td><code>nrow</code></td>\n",
       "<td>\n",
       "<p>the desired number of rows.</p>\n",
       "</td></tr>\n",
       "<tr valign=\"top\"><td><code>ncol</code></td>\n",
       "<td>\n",
       "<p>the desired number of columns.</p>\n",
       "</td></tr>\n",
       "<tr valign=\"top\"><td><code>byrow</code></td>\n",
       "<td>\n",
       "<p>logical. If <code>FALSE</code> (the default) the matrix is\n",
       "filled by columns, otherwise the matrix is filled by rows.</p>\n",
       "</td></tr>\n",
       "<tr valign=\"top\"><td><code>dimnames</code></td>\n",
       "<td>\n",
       "<p>A <code>dimnames</code> attribute for the matrix:\n",
       "<code>NULL</code> or a <code>list</code> of length 2 giving the row and column\n",
       "names respectively.  An empty list is treated as <code>NULL</code>, and a\n",
       "list of length one as row names.  The list can be named, and the\n",
       "list names will be used as names for the dimensions.</p>\n",
       "</td></tr>\n",
       "<tr valign=\"top\"><td><code>x</code></td>\n",
       "<td>\n",
       "<p>an <span style=\"font-family: Courier New, Courier; color: #666666;\"><b>R</b></span> object.</p>\n",
       "</td></tr>\n",
       "<tr valign=\"top\"><td><code>...</code></td>\n",
       "<td>\n",
       "<p>additional arguments to be passed to or from methods.</p>\n",
       "</td></tr>\n",
       "<tr valign=\"top\"><td><code>rownames.force</code></td>\n",
       "<td>\n",
       "<p>logical indicating if the resulting matrix\n",
       "should have character (rather than <code>NULL</code>)\n",
       "<code>rownames</code>.  The default, <code>NA</code>, uses <code>NULL</code>\n",
       "rownames if the data frame has &lsquo;automatic&rsquo; row.names or for a\n",
       "zero-row data frame.</p>\n",
       "</td></tr>\n",
       "</table>\n",
       "\n",
       "\n",
       "<h3>Details</h3>\n",
       "\n",
       "<p>If one of <code>nrow</code> or <code>ncol</code> is not given, an attempt is\n",
       "made to infer it from the length of <code>data</code> and the other\n",
       "parameter.  If neither is given, a one-column matrix is returned.\n",
       "</p>\n",
       "<p>If there are too few elements in <code>data</code> to fill the matrix,\n",
       "then the elements in <code>data</code> are recycled.  If <code>data</code> has\n",
       "length zero, <code>NA</code> of an appropriate type is used for atomic\n",
       "vectors (<code>0</code> for raw vectors) and <code>NULL</code> for lists.\n",
       "</p>\n",
       "<p><code>is.matrix</code> returns <code>TRUE</code> if <code>x</code> is a vector and has a\n",
       "<code>\"dim\"</code> attribute of length 2) and <code>FALSE</code> otherwise.\n",
       "Note that a <code>data.frame</code> is <strong>not</strong> a matrix by this\n",
       "test.  The function is generic: you can write methods to handle\n",
       "specific classes of objects, see InternalMethods.\n",
       "</p>\n",
       "<p><code>as.matrix</code> is a generic function.  The method for data frames\n",
       "will return a character matrix if there is only atomic columns and any\n",
       "non-(numeric/logical/complex) column, applying <code>as.vector</code>\n",
       "to factors and <code>format</code> to other non-character columns.\n",
       "Otherwise, the usual coercion hierarchy (logical &lt; integer &lt; double &lt;\n",
       "complex) will be used, e.g., all-logical data frames will be coerced\n",
       "to a logical matrix, mixed logical-integer will give a integer matrix,\n",
       "etc.\n",
       "</p>\n",
       "<p>The default method for <code>as.matrix</code> calls <code>as.vector(x)</code>, and\n",
       "hence e.g. coerces factors to character vectors.\n",
       "</p>\n",
       "<p>When coercing a vector, it produces a one-column matrix, and\n",
       "promotes the names (if any) of the vector to the rownames of the matrix.\n",
       "</p>\n",
       "<p><code>is.matrix</code> is a primitive function.\n",
       "</p>\n",
       "<p>The <code>print</code> method for a matrix gives a rectangular layout with\n",
       "dimnames or indices.  For a list matrix, the entries of length not\n",
       "one are printed in  the form <span class=\"samp\">integer,7</span> indicating the type\n",
       "and length.\n",
       "</p>\n",
       "\n",
       "\n",
       "<h3>Note</h3>\n",
       "\n",
       "<p>If you just want to convert a vector to a matrix, something like\n",
       "</p>\n",
       "<pre>  dim(x) &lt;- c(nx, ny)\n",
       "  dimnames(x) &lt;- list(row_names, col_names)\n",
       "</pre>\n",
       "<p>will avoid duplicating <code>x</code>.\n",
       "</p>\n",
       "\n",
       "\n",
       "<h3>References</h3>\n",
       "\n",
       "<p>Becker, R. A., Chambers, J. M. and Wilks, A. R. (1988)\n",
       "<em>The New S Language</em>.\n",
       "Wadsworth &amp; Brooks/Cole.\n",
       "</p>\n",
       "\n",
       "\n",
       "<h3>See Also</h3>\n",
       "\n",
       "<p><code>data.matrix</code>, which attempts to convert to a numeric\n",
       "matrix.\n",
       "</p>\n",
       "<p>A matrix is the special case of a two-dimensional <code>array</code>.\n",
       "</p>\n",
       "\n",
       "\n",
       "<h3>Examples</h3>\n",
       "\n",
       "<pre>\n",
       "is.matrix(as.matrix(1:10))\n",
       "!is.matrix(warpbreaks)  # data.frame, NOT matrix!\n",
       "warpbreaks[1:10,]\n",
       "as.matrix(warpbreaks[1:10,])  # using as.matrix.data.frame(.) method\n",
       "\n",
       "## Example of setting row and column names\n",
       "mdat &lt;- matrix(c(1,2,3, 11,12,13), nrow = 2, ncol = 3, byrow = TRUE,\n",
       "               dimnames = list(c(\"row1\", \"row2\"),\n",
       "                               c(\"C.1\", \"C.2\", \"C.3\")))\n",
       "mdat\n",
       "</pre>\n",
       "\n",
       "<hr /><div style=\"text-align: center;\">[Package <em>base</em> version 3.2.2 ]</div>"
      ],
      "text/latex": [
       "\\inputencoding{utf8}\n",
       "\\HeaderA{matrix}{Matrices}{matrix}\n",
       "\\aliasA{as.matrix}{matrix}{as.matrix}\n",
       "\\methaliasA{as.matrix.data.frame}{matrix}{as.matrix.data.frame}\n",
       "\\methaliasA{as.matrix.default}{matrix}{as.matrix.default}\n",
       "\\aliasA{is.matrix}{matrix}{is.matrix}\n",
       "\\keyword{array}{matrix}\n",
       "\\keyword{algebra}{matrix}\n",
       "%\n",
       "\\begin{Description}\\relax\n",
       "\\code{matrix} creates a matrix from the given set of values.\n",
       "\n",
       "\\code{as.matrix} attempts to turn its argument into a matrix.\n",
       "\n",
       "\\code{is.matrix} tests if its argument is a (strict) matrix.\n",
       "\\end{Description}\n",
       "%\n",
       "\\begin{Usage}\n",
       "\\begin{verbatim}\n",
       "matrix(data = NA, nrow = 1, ncol = 1, byrow = FALSE,\n",
       "       dimnames = NULL)\n",
       "\n",
       "as.matrix(x, ...)\n",
       "## S3 method for class 'data.frame'\n",
       "as.matrix(x, rownames.force = NA, ...)\n",
       "\n",
       "is.matrix(x)\n",
       "\\end{verbatim}\n",
       "\\end{Usage}\n",
       "%\n",
       "\\begin{Arguments}\n",
       "\\begin{ldescription}\n",
       "\\item[\\code{data}] an optional data vector (including a list or\n",
       "\\code{\\LinkA{expression}{expression}} vector).  Non-atomic classed \\R{} objects are\n",
       "coerced by \\code{\\LinkA{as.vector}{as.vector}} and all attributes discarded.\n",
       "\\item[\\code{nrow}] the desired number of rows.\n",
       "\\item[\\code{ncol}] the desired number of columns.\n",
       "\\item[\\code{byrow}] logical. If \\code{FALSE} (the default) the matrix is\n",
       "filled by columns, otherwise the matrix is filled by rows.\n",
       "\\item[\\code{dimnames}] A \\code{\\LinkA{dimnames}{dimnames}} attribute for the matrix:\n",
       "\\code{NULL} or a \\code{list} of length 2 giving the row and column\n",
       "names respectively.  An empty list is treated as \\code{NULL}, and a\n",
       "list of length one as row names.  The list can be named, and the\n",
       "list names will be used as names for the dimensions.\n",
       "\\item[\\code{x}] an \\R{} object.\n",
       "\\item[\\code{...}] additional arguments to be passed to or from methods.\n",
       "\\item[\\code{rownames.force}] logical indicating if the resulting matrix\n",
       "should have character (rather than \\code{NULL})\n",
       "\\code{\\LinkA{rownames}{rownames}}.  The default, \\code{NA}, uses \\code{NULL}\n",
       "rownames if the data frame has `automatic' row.names or for a\n",
       "zero-row data frame.\n",
       "\\end{ldescription}\n",
       "\\end{Arguments}\n",
       "%\n",
       "\\begin{Details}\\relax\n",
       "If one of \\code{nrow} or \\code{ncol} is not given, an attempt is\n",
       "made to infer it from the length of \\code{data} and the other\n",
       "parameter.  If neither is given, a one-column matrix is returned.\n",
       "\n",
       "If there are too few elements in \\code{data} to fill the matrix,\n",
       "then the elements in \\code{data} are recycled.  If \\code{data} has\n",
       "length zero, \\code{NA} of an appropriate type is used for atomic\n",
       "vectors (\\code{0} for raw vectors) and \\code{NULL} for lists.\n",
       "\n",
       "\\code{is.matrix} returns \\code{TRUE} if \\code{x} is a vector and has a\n",
       "\\code{\"\\LinkA{dim}{dim}\"} attribute of length 2) and \\code{FALSE} otherwise.\n",
       "Note that a \\code{\\LinkA{data.frame}{data.frame}} is \\strong{not} a matrix by this\n",
       "test.  The function is generic: you can write methods to handle\n",
       "specific classes of objects, see \\LinkA{InternalMethods}{InternalMethods}.\n",
       "\n",
       "\\code{as.matrix} is a generic function.  The method for data frames\n",
       "will return a character matrix if there is only atomic columns and any\n",
       "non-(numeric/logical/complex) column, applying \\code{\\LinkA{as.vector}{as.vector}}\n",
       "to factors and \\code{\\LinkA{format}{format}} to other non-character columns.\n",
       "Otherwise, the usual coercion hierarchy (logical < integer < double <\n",
       "complex) will be used, e.g., all-logical data frames will be coerced\n",
       "to a logical matrix, mixed logical-integer will give a integer matrix,\n",
       "etc.\n",
       "\n",
       "The default method for \\code{as.matrix} calls \\code{as.vector(x)}, and\n",
       "hence e.g.~coerces factors to character vectors.\n",
       "\n",
       "When coercing a vector, it produces a one-column matrix, and\n",
       "promotes the names (if any) of the vector to the rownames of the matrix.\n",
       "\n",
       "\\code{is.matrix} is a \\LinkA{primitive}{primitive} function.\n",
       "\n",
       "The \\code{print} method for a matrix gives a rectangular layout with\n",
       "dimnames or indices.  For a list matrix, the entries of length not\n",
       "one are printed in  the form \\samp{integer,7} indicating the type\n",
       "and length.\n",
       "\\end{Details}\n",
       "%\n",
       "\\begin{Note}\\relax\n",
       "If you just want to convert a vector to a matrix, something like\n",
       "\\begin{alltt}  dim(x) <- c(nx, ny)\n",
       "  dimnames(x) <- list(row_names, col_names)\n",
       "\\end{alltt}\n",
       "\n",
       "will avoid duplicating \\code{x}.\n",
       "\\end{Note}\n",
       "%\n",
       "\\begin{References}\\relax\n",
       "Becker, R. A., Chambers, J. M. and Wilks, A. R. (1988)\n",
       "\\emph{The New S Language}.\n",
       "Wadsworth \\& Brooks/Cole.\n",
       "\\end{References}\n",
       "%\n",
       "\\begin{SeeAlso}\\relax\n",
       "\\code{\\LinkA{data.matrix}{data.matrix}}, which attempts to convert to a numeric\n",
       "matrix.\n",
       "\n",
       "A matrix is the special case of a two-dimensional \\code{\\LinkA{array}{array}}.\n",
       "\\end{SeeAlso}\n",
       "%\n",
       "\\begin{Examples}\n",
       "\\begin{ExampleCode}\n",
       "is.matrix(as.matrix(1:10))\n",
       "!is.matrix(warpbreaks)  # data.frame, NOT matrix!\n",
       "warpbreaks[1:10,]\n",
       "as.matrix(warpbreaks[1:10,])  # using as.matrix.data.frame(.) method\n",
       "\n",
       "## Example of setting row and column names\n",
       "mdat <- matrix(c(1,2,3, 11,12,13), nrow = 2, ncol = 3, byrow = TRUE,\n",
       "               dimnames = list(c(\"row1\", \"row2\"),\n",
       "                               c(\"C.1\", \"C.2\", \"C.3\")))\n",
       "mdat\n",
       "\\end{ExampleCode}\n",
       "\\end{Examples}"
      ],
      "text/plain": [
       "matrix                  package:base                   R Documentation\n",
       "\n",
       "_\bM_\ba_\bt_\br_\bi_\bc_\be_\bs\n",
       "\n",
       "_\bD_\be_\bs_\bc_\br_\bi_\bp_\bt_\bi_\bo_\bn:\n",
       "\n",
       "     ‘matrix’ creates a matrix from the given set of values.\n",
       "\n",
       "     ‘as.matrix’ attempts to turn its argument into a matrix.\n",
       "\n",
       "     ‘is.matrix’ tests if its argument is a (strict) matrix.\n",
       "\n",
       "_\bU_\bs_\ba_\bg_\be:\n",
       "\n",
       "     matrix(data = NA, nrow = 1, ncol = 1, byrow = FALSE,\n",
       "            dimnames = NULL)\n",
       "     \n",
       "     as.matrix(x, ...)\n",
       "     ## S3 method for class 'data.frame'\n",
       "     as.matrix(x, rownames.force = NA, ...)\n",
       "     \n",
       "     is.matrix(x)\n",
       "     \n",
       "_\bA_\br_\bg_\bu_\bm_\be_\bn_\bt_\bs:\n",
       "\n",
       "    data: an optional data vector (including a list or ‘expression’\n",
       "          vector).  Non-atomic classed R objects are coerced by\n",
       "          ‘as.vector’ and all attributes discarded.\n",
       "\n",
       "    nrow: the desired number of rows.\n",
       "\n",
       "    ncol: the desired number of columns.\n",
       "\n",
       "   byrow: logical. If ‘FALSE’ (the default) the matrix is filled by\n",
       "          columns, otherwise the matrix is filled by rows.\n",
       "\n",
       "dimnames: A ‘dimnames’ attribute for the matrix: ‘NULL’ or a ‘list’ of\n",
       "          length 2 giving the row and column names respectively.  An\n",
       "          empty list is treated as ‘NULL’, and a list of length one as\n",
       "          row names.  The list can be named, and the list names will be\n",
       "          used as names for the dimensions.\n",
       "\n",
       "       x: an R object.\n",
       "\n",
       "     ...: additional arguments to be passed to or from methods.\n",
       "\n",
       "rownames.force: logical indicating if the resulting matrix should have\n",
       "          character (rather than ‘NULL’) ‘rownames’.  The default,\n",
       "          ‘NA’, uses ‘NULL’ rownames if the data frame has ‘automatic’\n",
       "          row.names or for a zero-row data frame.\n",
       "\n",
       "_\bD_\be_\bt_\ba_\bi_\bl_\bs:\n",
       "\n",
       "     If one of ‘nrow’ or ‘ncol’ is not given, an attempt is made to\n",
       "     infer it from the length of ‘data’ and the other parameter.  If\n",
       "     neither is given, a one-column matrix is returned.\n",
       "\n",
       "     If there are too few elements in ‘data’ to fill the matrix, then\n",
       "     the elements in ‘data’ are recycled.  If ‘data’ has length zero,\n",
       "     ‘NA’ of an appropriate type is used for atomic vectors (‘0’ for\n",
       "     raw vectors) and ‘NULL’ for lists.\n",
       "\n",
       "     ‘is.matrix’ returns ‘TRUE’ if ‘x’ is a vector and has a ‘\"dim\"’\n",
       "     attribute of length 2) and ‘FALSE’ otherwise.  Note that a\n",
       "     ‘data.frame’ is *not* a matrix by this test.  The function is\n",
       "     generic: you can write methods to handle specific classes of\n",
       "     objects, see InternalMethods.\n",
       "\n",
       "     ‘as.matrix’ is a generic function.  The method for data frames\n",
       "     will return a character matrix if there is only atomic columns and\n",
       "     any non-(numeric/logical/complex) column, applying ‘as.vector’ to\n",
       "     factors and ‘format’ to other non-character columns.  Otherwise,\n",
       "     the usual coercion hierarchy (logical < integer < double <\n",
       "     complex) will be used, e.g., all-logical data frames will be\n",
       "     coerced to a logical matrix, mixed logical-integer will give a\n",
       "     integer matrix, etc.\n",
       "\n",
       "     The default method for ‘as.matrix’ calls ‘as.vector(x)’, and hence\n",
       "     e.g. coerces factors to character vectors.\n",
       "\n",
       "     When coercing a vector, it produces a one-column matrix, and\n",
       "     promotes the names (if any) of the vector to the rownames of the\n",
       "     matrix.\n",
       "\n",
       "     ‘is.matrix’ is a primitive function.\n",
       "\n",
       "     The ‘print’ method for a matrix gives a rectangular layout with\n",
       "     dimnames or indices.  For a list matrix, the entries of length not\n",
       "     one are printed in the form ‘integer,7’ indicating the type and\n",
       "     length.\n",
       "\n",
       "_\bN_\bo_\bt_\be:\n",
       "\n",
       "     If you just want to convert a vector to a matrix, something like\n",
       "     \n",
       "       dim(x) <- c(nx, ny)\n",
       "       dimnames(x) <- list(row_names, col_names)\n",
       "\n",
       "     will avoid duplicating ‘x’.\n",
       "\n",
       "_\bR_\be_\bf_\be_\br_\be_\bn_\bc_\be_\bs:\n",
       "\n",
       "     Becker, R. A., Chambers, J. M. and Wilks, A. R. (1988) _The New S\n",
       "     Language_.  Wadsworth & Brooks/Cole.\n",
       "\n",
       "_\bS_\be_\be _\bA_\bl_\bs_\bo:\n",
       "\n",
       "     ‘data.matrix’, which attempts to convert to a numeric matrix.\n",
       "\n",
       "     A matrix is the special case of a two-dimensional ‘array’.\n",
       "\n",
       "_\bE_\bx_\ba_\bm_\bp_\bl_\be_\bs:\n",
       "\n",
       "     is.matrix(as.matrix(1:10))\n",
       "     !is.matrix(warpbreaks)  # data.frame, NOT matrix!\n",
       "     warpbreaks[1:10,]\n",
       "     as.matrix(warpbreaks[1:10,])  # using as.matrix.data.frame(.) method\n",
       "     \n",
       "     ## Example of setting row and column names\n",
       "     mdat <- matrix(c(1,2,3, 11,12,13), nrow = 2, ncol = 3, byrow = TRUE,\n",
       "                    dimnames = list(c(\"row1\", \"row2\"),\n",
       "                                    c(\"C.1\", \"C.2\", \"C.3\")))\n",
       "     mdat\n",
       "     "
      ]
     },
     "execution_count": 248,
     "metadata": {},
     "output_type": "execute_result"
    },
    {
     "data": {
      "text/plain": [
       "NULL"
      ]
     },
     "execution_count": 248,
     "metadata": {},
     "output_type": "execute_result"
    },
    {
     "data": {
      "text/html": [
       "<strong>$dim</strong> = <ol class=list-inline>\n",
       "\t<li>3</li>\n",
       "\t<li>1</li>\n",
       "</ol>\n"
      ],
      "text/latex": [
       "\\textbf{\\$dim} = \\begin{enumerate*}\n",
       "\\item 3\n",
       "\\item 1\n",
       "\\end{enumerate*}\n"
      ],
      "text/markdown": [
       "**$dim** = 1. 3\n",
       "2. 1\n",
       "\n",
       "\n"
      ],
      "text/plain": [
       "$dim\n",
       "[1] 3 1\n"
      ]
     },
     "execution_count": 248,
     "metadata": {},
     "output_type": "execute_result"
    }
   ],
   "source": [
    "help(as.matrix)\n",
    "l1 <-c(1,2,4)\n",
    "l2 <- as.matrix(l1)\n",
    "attributes(l1)\n",
    "attributes(l2)\n"
   ]
  },
  {
   "cell_type": "markdown",
   "metadata": {},
   "source": [
    "La forma natural para referirse a las filas y columnas en una matriz es a través del número de  filas y de columnas. Sin embargo, también puede dar nombres a estos paramétros."
   ]
  },
  {
   "cell_type": "code",
   "execution_count": 249,
   "metadata": {
    "collapsed": false
   },
   "outputs": [
    {
     "data": {
      "text/html": [
       "<table>\n",
       "<tbody>\n",
       "\t<tr><td>1</td><td>5</td></tr>\n",
       "\t<tr><td>3</td><td>7</td></tr>\n",
       "</tbody>\n",
       "</table>\n"
      ],
      "text/latex": [
       "\\begin{tabular}{ll}\n",
       "\t 1 & 5\\\\\n",
       "\t 3 & 7\\\\\n",
       "\\end{tabular}\n"
      ],
      "text/markdown": [
       "1. 1\n",
       "2. 3\n",
       "3. 5\n",
       "4. 7\n",
       "\n",
       "\n"
      ],
      "text/plain": [
       "     [,1] [,2]\n",
       "[1,]    1    5\n",
       "[2,]    3    7"
      ]
     },
     "execution_count": 249,
     "metadata": {},
     "output_type": "execute_result"
    },
    {
     "data": {
      "text/plain": [
       "NULL"
      ]
     },
     "execution_count": 249,
     "metadata": {},
     "output_type": "execute_result"
    },
    {
     "data": {
      "text/html": [
       "<table>\n",
       "<thead><tr><th scope=col>Python</th><th scope=col>C</th></tr></thead>\n",
       "<tbody>\n",
       "\t<tr><td>1</td><td>5</td></tr>\n",
       "\t<tr><td>3</td><td>7</td></tr>\n",
       "</tbody>\n",
       "</table>\n"
      ],
      "text/latex": [
       "\\begin{tabular}{ll}\n",
       " Python & C\\\\\n",
       "\\hline\n",
       "\t 1 & 5\\\\\n",
       "\t 3 & 7\\\\\n",
       "\\end{tabular}\n"
      ],
      "text/markdown": [
       "1. 1\n",
       "2. 3\n",
       "3. 5\n",
       "4. 7\n",
       "\n",
       "\n"
      ],
      "text/plain": [
       "     Python C\n",
       "[1,]      1 5\n",
       "[2,]      3 7"
      ]
     },
     "execution_count": 249,
     "metadata": {},
     "output_type": "execute_result"
    },
    {
     "data": {
      "text/html": [
       "<ol class=list-inline>\n",
       "\t<li>'Python'</li>\n",
       "\t<li>'C'</li>\n",
       "</ol>\n"
      ],
      "text/latex": [
       "\\begin{enumerate*}\n",
       "\\item 'Python'\n",
       "\\item 'C'\n",
       "\\end{enumerate*}\n"
      ],
      "text/markdown": [
       "1. 'Python'\n",
       "2. 'C'\n",
       "\n",
       "\n"
      ],
      "text/plain": [
       "[1] \"Python\" \"C\"     "
      ]
     },
     "execution_count": 249,
     "metadata": {},
     "output_type": "execute_result"
    }
   ],
   "source": [
    "g<- matrix(c(1,3,5,7), ncol=2)\n",
    "g\n",
    "colnames(g)\n",
    "colnames(g)<- c(\"Python\", \"C\")\n",
    "g\n",
    "colnames(g)"
   ]
  },
  {
   "cell_type": "markdown",
   "metadata": {},
   "source": [
    "En un contexto estadístico, una matriz  en R tiene filas que correspponden a la observaciones de un experimento, y las columnas corresponden  a las variables, tales como el peso y la presión arterial. La matriz es entonces una estructura  de datos de dos dimensiones, pero supongamos también que  tenemos datos tomados en diferentes momentos, entonces el tiempo se convierte en una  dimensión más,  además de las filas y columnas. En R, tales conjuntos de datos se denominan **arrays**."
   ]
  },
  {
   "cell_type": "code",
   "execution_count": 250,
   "metadata": {
    "collapsed": false
   },
   "outputs": [
    {
     "data": {
      "text/html": [
       "\n",
       "<table width=\"100%\" summary=\"page for array {base}\"><tr><td>array {base}</td><td style=\"text-align: right;\">R Documentation</td></tr></table>\n",
       "\n",
       "<h2>Multi-way Arrays</h2>\n",
       "\n",
       "<h3>Description</h3>\n",
       "\n",
       "<p>Creates or tests for arrays.\n",
       "</p>\n",
       "\n",
       "\n",
       "<h3>Usage</h3>\n",
       "\n",
       "<pre>\n",
       "array(data = NA, dim = length(data), dimnames = NULL)\n",
       "as.array(x, ...)\n",
       "is.array(x)\n",
       "</pre>\n",
       "\n",
       "\n",
       "<h3>Arguments</h3>\n",
       "\n",
       "<table summary=\"R argblock\">\n",
       "<tr valign=\"top\"><td><code>data</code></td>\n",
       "<td>\n",
       "<p>a vector (including a list or <code>expression</code>\n",
       "vector) giving data to fill the array.  Non-atomic classed objects\n",
       "are coerced by <code>as.vector</code>.</p>\n",
       "</td></tr>\n",
       "<tr valign=\"top\"><td><code>dim</code></td>\n",
       "<td>\n",
       "<p>the dim attribute for the array to be created, that is an\n",
       "integer vector of length one or more giving the maximal indices in\n",
       "each dimension.</p>\n",
       "</td></tr>\n",
       "<tr valign=\"top\"><td><code>dimnames</code></td>\n",
       "<td>\n",
       "<p>either <code>NULL</code> or the names for the dimensions.\n",
       "This must a list (or it will be ignored) with one component for each\n",
       "dimension, either <code>NULL</code> or a character vector of the length\n",
       "given by <code>dim</code> for that dimension.  The list can be named, and\n",
       "the list names will be used as names for the dimensions.  If the\n",
       "list is shorter than the number of dimensions, it is extended by\n",
       "<code>NULL</code>s to the length required.</p>\n",
       "</td></tr>\n",
       "<tr valign=\"top\"><td><code>x</code></td>\n",
       "<td>\n",
       "<p>an <span style=\"font-family: Courier New, Courier; color: #666666;\"><b>R</b></span> object.</p>\n",
       "</td></tr>\n",
       "<tr valign=\"top\"><td><code>...</code></td>\n",
       "<td>\n",
       "<p>additional arguments to be passed to or from methods.</p>\n",
       "</td></tr>\n",
       "</table>\n",
       "\n",
       "\n",
       "<h3>Details</h3>\n",
       "\n",
       "<p>An array in <span style=\"font-family: Courier New, Courier; color: #666666;\"><b>R</b></span> can have one, two or more dimensions.  It is simply a\n",
       "vector which is stored with additional attributes giving the\n",
       "dimensions (attribute <code>\"dim\"</code>) and optionally names for those\n",
       "dimensions (attribute <code>\"dimnames\"</code>).\n",
       "</p>\n",
       "<p>A two-dimensional array is the same thing as a <code>matrix</code>.\n",
       "</p>\n",
       "<p>One-dimensional arrays often look like vectors, but may be handled\n",
       "differently by some functions: <code>str</code> does distinguish\n",
       "them in recent versions of <span style=\"font-family: Courier New, Courier; color: #666666;\"><b>R</b></span>.\n",
       "</p>\n",
       "<p>The <code>\"dim\"</code> attribute is an integer vector of length one or more\n",
       "containing non-negative values: the product of the values must match\n",
       "the length of the array.\n",
       "</p>\n",
       "<p>The <code>\"dimnames\"</code> attribute is optional: if present it is a list\n",
       "with one component for each dimension, either <code>NULL</code> or a\n",
       "character vector of the length given by the element of the\n",
       "<code>\"dim\"</code> attribute for that dimension.\n",
       "</p>\n",
       "<p><code>is.array</code> is a primitive function.\n",
       "</p>\n",
       "<p>For a list array, the <code>print</code> methods prints entries of length\n",
       "not one in the form <span class=\"samp\">integer,7</span> indicating the type and length.\n",
       "</p>\n",
       "\n",
       "\n",
       "<h3>Value</h3>\n",
       "\n",
       "<p><code>array</code> returns an array with the extents specified in <code>dim</code>\n",
       "and naming information in <code>dimnames</code>.  The values in <code>data</code> are\n",
       "taken to be those in the array with the leftmost subscript moving\n",
       "fastest.  If there are too few elements in <code>data</code> to fill the array,\n",
       "then the elements in <code>data</code> are recycled.  If <code>data</code> has\n",
       "length zero, <code>NA</code> of an appropriate type is used for atomic\n",
       "vectors (<code>0</code> for raw vectors) and <code>NULL</code> for lists.\n",
       "</p>\n",
       "<p>Unlike <code>matrix</code>, <code>array</code> does not currently remove\n",
       "any attributes left by <code>as.vector</code> from a classed list\n",
       "<code>data</code>, so can return a list array with a class attribute.\n",
       "</p>\n",
       "<p><code>as.array</code> is a generic function for coercing to arrays.  The\n",
       "default method does so by attaching a <code>dim</code> attribute to\n",
       "it.  It also attaches <code>dimnames</code> if <code>x</code> has\n",
       "<code>names</code>.  The sole purpose of this is to make it possible\n",
       "to access the <code>dim[names]</code> attribute at a later time.\n",
       "</p>\n",
       "<p><code>is.array</code> returns <code>TRUE</code> or <code>FALSE</code> depending on\n",
       "whether its argument is an array (i.e., has a <code>dim</code> attribute of\n",
       "positive length) or not.  It is generic: you can write methods to handle\n",
       "specific classes of objects, see InternalMethods.\n",
       "</p>\n",
       "\n",
       "\n",
       "<h3>Note</h3>\n",
       "\n",
       "<p><code>is.array</code> is a primitive function.\n",
       "</p>\n",
       "<p><span style=\"font-family: Courier New, Courier; color: #666666;\"><b>R</b></span> 2.x.y allowed (although documented not to) a zero-length <code>dim</code>\n",
       "argument, and returned a vector of length one.\n",
       "</p>\n",
       "\n",
       "\n",
       "<h3>References</h3>\n",
       "\n",
       "<p>Becker, R. A., Chambers, J. M. and Wilks, A. R. (1988)\n",
       "<em>The New S Language</em>.\n",
       "Wadsworth &amp; Brooks/Cole.\n",
       "</p>\n",
       "\n",
       "\n",
       "<h3>See Also</h3>\n",
       "\n",
       "<p><code>aperm</code>, <code>matrix</code>,\n",
       "<code>dim</code>, <code>dimnames</code>.\n",
       "</p>\n",
       "\n",
       "\n",
       "<h3>Examples</h3>\n",
       "\n",
       "<pre>\n",
       "dim(as.array(letters))\n",
       "array(1:3, c(2,4)) # recycle 1:3 \"2 2/3 times\"\n",
       "#     [,1] [,2] [,3] [,4]\n",
       "#[1,]    1    3    2    1\n",
       "#[2,]    2    1    3    2\n",
       "</pre>\n",
       "\n",
       "<hr /><div style=\"text-align: center;\">[Package <em>base</em> version 3.2.2 ]</div>"
      ],
      "text/latex": [
       "\\inputencoding{utf8}\n",
       "\\HeaderA{array}{Multi-way Arrays}{array}\n",
       "\\aliasA{as.array}{array}{as.array}\n",
       "\\methaliasA{as.array.default}{array}{as.array.default}\n",
       "\\aliasA{is.array}{array}{is.array}\n",
       "\\keyword{array}{array}\n",
       "%\n",
       "\\begin{Description}\\relax\n",
       "Creates or tests for arrays.\n",
       "\\end{Description}\n",
       "%\n",
       "\\begin{Usage}\n",
       "\\begin{verbatim}\n",
       "array(data = NA, dim = length(data), dimnames = NULL)\n",
       "as.array(x, ...)\n",
       "is.array(x)\n",
       "\\end{verbatim}\n",
       "\\end{Usage}\n",
       "%\n",
       "\\begin{Arguments}\n",
       "\\begin{ldescription}\n",
       "\\item[\\code{data}] a vector (including a list or \\code{\\LinkA{expression}{expression}}\n",
       "vector) giving data to fill the array.  Non-atomic classed objects\n",
       "are coerced by \\code{\\LinkA{as.vector}{as.vector}}.\n",
       "\\item[\\code{dim}] the dim attribute for the array to be created, that is an\n",
       "integer vector of length one or more giving the maximal indices in\n",
       "each dimension.\n",
       "\\item[\\code{dimnames}] either \\code{NULL} or the names for the dimensions.\n",
       "This must a list (or it will be ignored) with one component for each\n",
       "dimension, either \\code{NULL} or a character vector of the length\n",
       "given by \\code{dim} for that dimension.  The list can be named, and\n",
       "the list names will be used as names for the dimensions.  If the\n",
       "list is shorter than the number of dimensions, it is extended by\n",
       "\\code{NULL}s to the length required.\n",
       "\\item[\\code{x}] an \\R{} object.\n",
       "\\item[\\code{...}] additional arguments to be passed to or from methods.\n",
       "\\end{ldescription}\n",
       "\\end{Arguments}\n",
       "%\n",
       "\\begin{Details}\\relax\n",
       "An array in \\R{} can have one, two or more dimensions.  It is simply a\n",
       "vector which is stored with additional \\LinkA{attributes}{attributes} giving the\n",
       "dimensions (attribute \\code{\"dim\"}) and optionally names for those\n",
       "dimensions (attribute \\code{\"dimnames\"}).\n",
       "\n",
       "A two-dimensional array is the same thing as a \\code{\\LinkA{matrix}{matrix}}.\n",
       "\n",
       "One-dimensional arrays often look like vectors, but may be handled\n",
       "differently by some functions: \\code{\\LinkA{str}{str}} does distinguish\n",
       "them in recent versions of \\R{}.\n",
       "\n",
       "The \\code{\"dim\"} attribute is an integer vector of length one or more\n",
       "containing non-negative values: the product of the values must match\n",
       "the length of the array.\n",
       "\n",
       "The \\code{\"dimnames\"} attribute is optional: if present it is a list\n",
       "with one component for each dimension, either \\code{NULL} or a\n",
       "character vector of the length given by the element of the\n",
       "\\code{\"dim\"} attribute for that dimension.\n",
       "\n",
       "\\code{is.array} is a \\LinkA{primitive}{primitive} function.\n",
       "\n",
       "For a list array, the \\code{print} methods prints entries of length\n",
       "not one in the form \\samp{integer,7} indicating the type and length.\n",
       "\\end{Details}\n",
       "%\n",
       "\\begin{Value}\n",
       "\\code{array} returns an array with the extents specified in \\code{dim}\n",
       "and naming information in \\code{dimnames}.  The values in \\code{data} are\n",
       "taken to be those in the array with the leftmost subscript moving\n",
       "fastest.  If there are too few elements in \\code{data} to fill the array,\n",
       "then the elements in \\code{data} are recycled.  If \\code{data} has\n",
       "length zero, \\code{NA} of an appropriate type is used for atomic\n",
       "vectors (\\code{0} for raw vectors) and \\code{NULL} for lists.\n",
       "\n",
       "Unlike \\code{\\LinkA{matrix}{matrix}}, \\code{array} does not currently remove\n",
       "any attributes left by \\code{as.vector} from a classed list\n",
       "\\code{data}, so can return a list array with a class attribute.\n",
       "\n",
       "\\code{as.array} is a generic function for coercing to arrays.  The\n",
       "default method does so by attaching a \\code{\\LinkA{dim}{dim}} attribute to\n",
       "it.  It also attaches \\code{\\LinkA{dimnames}{dimnames}} if \\code{x} has\n",
       "\\code{\\LinkA{names}{names}}.  The sole purpose of this is to make it possible\n",
       "to access the \\code{dim[names]} attribute at a later time.\n",
       "\n",
       "\\code{is.array} returns \\code{TRUE} or \\code{FALSE} depending on\n",
       "whether its argument is an array (i.e., has a \\code{dim} attribute of\n",
       "positive length) or not.  It is generic: you can write methods to handle\n",
       "specific classes of objects, see \\LinkA{InternalMethods}{InternalMethods}.\n",
       "\\end{Value}\n",
       "%\n",
       "\\begin{Note}\\relax\n",
       "\\code{is.array} is a \\LinkA{primitive}{primitive} function.\n",
       "\n",
       "\\R{} 2.x.y allowed (although documented not to) a zero-length \\code{dim}\n",
       "argument, and returned a vector of length one.\n",
       "\\end{Note}\n",
       "%\n",
       "\\begin{References}\\relax\n",
       "Becker, R. A., Chambers, J. M. and Wilks, A. R. (1988)\n",
       "\\emph{The New S Language}.\n",
       "Wadsworth \\& Brooks/Cole.\n",
       "\\end{References}\n",
       "%\n",
       "\\begin{SeeAlso}\\relax\n",
       "\\code{\\LinkA{aperm}{aperm}}, \\code{\\LinkA{matrix}{matrix}},\n",
       "\\code{\\LinkA{dim}{dim}}, \\code{\\LinkA{dimnames}{dimnames}}.\n",
       "\\end{SeeAlso}\n",
       "%\n",
       "\\begin{Examples}\n",
       "\\begin{ExampleCode}\n",
       "dim(as.array(letters))\n",
       "array(1:3, c(2,4)) # recycle 1:3 \"2 2/3 times\"\n",
       "#     [,1] [,2] [,3] [,4]\n",
       "#[1,]    1    3    2    1\n",
       "#[2,]    2    1    3    2\n",
       "\\end{ExampleCode}\n",
       "\\end{Examples}"
      ],
      "text/plain": [
       "array                   package:base                   R Documentation\n",
       "\n",
       "_\bM_\bu_\bl_\bt_\bi-_\bw_\ba_\by _\bA_\br_\br_\ba_\by_\bs\n",
       "\n",
       "_\bD_\be_\bs_\bc_\br_\bi_\bp_\bt_\bi_\bo_\bn:\n",
       "\n",
       "     Creates or tests for arrays.\n",
       "\n",
       "_\bU_\bs_\ba_\bg_\be:\n",
       "\n",
       "     array(data = NA, dim = length(data), dimnames = NULL)\n",
       "     as.array(x, ...)\n",
       "     is.array(x)\n",
       "     \n",
       "_\bA_\br_\bg_\bu_\bm_\be_\bn_\bt_\bs:\n",
       "\n",
       "    data: a vector (including a list or ‘expression’ vector) giving\n",
       "          data to fill the array.  Non-atomic classed objects are\n",
       "          coerced by ‘as.vector’.\n",
       "\n",
       "     dim: the dim attribute for the array to be created, that is an\n",
       "          integer vector of length one or more giving the maximal\n",
       "          indices in each dimension.\n",
       "\n",
       "dimnames: either ‘NULL’ or the names for the dimensions.  This must a\n",
       "          list (or it will be ignored) with one component for each\n",
       "          dimension, either ‘NULL’ or a character vector of the length\n",
       "          given by ‘dim’ for that dimension.  The list can be named,\n",
       "          and the list names will be used as names for the dimensions.\n",
       "          If the list is shorter than the number of dimensions, it is\n",
       "          extended by ‘NULL’s to the length required.\n",
       "\n",
       "       x: an R object.\n",
       "\n",
       "     ...: additional arguments to be passed to or from methods.\n",
       "\n",
       "_\bD_\be_\bt_\ba_\bi_\bl_\bs:\n",
       "\n",
       "     An array in R can have one, two or more dimensions.  It is simply\n",
       "     a vector which is stored with additional attributes giving the\n",
       "     dimensions (attribute ‘\"dim\"’) and optionally names for those\n",
       "     dimensions (attribute ‘\"dimnames\"’).\n",
       "\n",
       "     A two-dimensional array is the same thing as a ‘matrix’.\n",
       "\n",
       "     One-dimensional arrays often look like vectors, but may be handled\n",
       "     differently by some functions: ‘str’ does distinguish them in\n",
       "     recent versions of R.\n",
       "\n",
       "     The ‘\"dim\"’ attribute is an integer vector of length one or more\n",
       "     containing non-negative values: the product of the values must\n",
       "     match the length of the array.\n",
       "\n",
       "     The ‘\"dimnames\"’ attribute is optional: if present it is a list\n",
       "     with one component for each dimension, either ‘NULL’ or a\n",
       "     character vector of the length given by the element of the ‘\"dim\"’\n",
       "     attribute for that dimension.\n",
       "\n",
       "     ‘is.array’ is a primitive function.\n",
       "\n",
       "     For a list array, the ‘print’ methods prints entries of length not\n",
       "     one in the form ‘integer,7’ indicating the type and length.\n",
       "\n",
       "_\bV_\ba_\bl_\bu_\be:\n",
       "\n",
       "     ‘array’ returns an array with the extents specified in ‘dim’ and\n",
       "     naming information in ‘dimnames’.  The values in ‘data’ are taken\n",
       "     to be those in the array with the leftmost subscript moving\n",
       "     fastest.  If there are too few elements in ‘data’ to fill the\n",
       "     array, then the elements in ‘data’ are recycled.  If ‘data’ has\n",
       "     length zero, ‘NA’ of an appropriate type is used for atomic\n",
       "     vectors (‘0’ for raw vectors) and ‘NULL’ for lists.\n",
       "\n",
       "     Unlike ‘matrix’, ‘array’ does not currently remove any attributes\n",
       "     left by ‘as.vector’ from a classed list ‘data’, so can return a\n",
       "     list array with a class attribute.\n",
       "\n",
       "     ‘as.array’ is a generic function for coercing to arrays.  The\n",
       "     default method does so by attaching a ‘dim’ attribute to it.  It\n",
       "     also attaches ‘dimnames’ if ‘x’ has ‘names’.  The sole purpose of\n",
       "     this is to make it possible to access the ‘dim[names]’ attribute\n",
       "     at a later time.\n",
       "\n",
       "     ‘is.array’ returns ‘TRUE’ or ‘FALSE’ depending on whether its\n",
       "     argument is an array (i.e., has a ‘dim’ attribute of positive\n",
       "     length) or not.  It is generic: you can write methods to handle\n",
       "     specific classes of objects, see InternalMethods.\n",
       "\n",
       "_\bN_\bo_\bt_\be:\n",
       "\n",
       "     ‘is.array’ is a primitive function.\n",
       "\n",
       "     R 2.x.y allowed (although documented not to) a zero-length ‘dim’\n",
       "     argument, and returned a vector of length one.\n",
       "\n",
       "_\bR_\be_\bf_\be_\br_\be_\bn_\bc_\be_\bs:\n",
       "\n",
       "     Becker, R. A., Chambers, J. M. and Wilks, A. R. (1988) _The New S\n",
       "     Language_.  Wadsworth & Brooks/Cole.\n",
       "\n",
       "_\bS_\be_\be _\bA_\bl_\bs_\bo:\n",
       "\n",
       "     ‘aperm’, ‘matrix’, ‘dim’, ‘dimnames’.\n",
       "\n",
       "_\bE_\bx_\ba_\bm_\bp_\bl_\be_\bs:\n",
       "\n",
       "     dim(as.array(letters))\n",
       "     array(1:3, c(2,4)) # recycle 1:3 \"2 2/3 times\"\n",
       "     #     [,1] [,2] [,3] [,4]\n",
       "     #[1,]    1    3    2    1\n",
       "     #[2,]    2    1    3    2\n",
       "     "
      ]
     },
     "execution_count": 250,
     "metadata": {},
     "output_type": "execute_result"
    },
    {
     "data": {
      "text/html": [
       "<ol class=list-inline>\n",
       "\t<li>1</li>\n",
       "\t<li>2</li>\n",
       "\t<li>3</li>\n",
       "\t<li>4</li>\n",
       "\t<li>5</li>\n",
       "\t<li>6</li>\n",
       "\t<li>7</li>\n",
       "\t<li>8</li>\n",
       "\t<li>9</li>\n",
       "\t<li>10</li>\n",
       "\t<li>11</li>\n",
       "\t<li>12</li>\n",
       "\t<li>13</li>\n",
       "\t<li>14</li>\n",
       "\t<li>15</li>\n",
       "\t<li>16</li>\n",
       "\t<li>17</li>\n",
       "\t<li>18</li>\n",
       "</ol>\n"
      ],
      "text/latex": [
       "\\begin{enumerate*}\n",
       "\\item 1\n",
       "\\item 2\n",
       "\\item 3\n",
       "\\item 4\n",
       "\\item 5\n",
       "\\item 6\n",
       "\\item 7\n",
       "\\item 8\n",
       "\\item 9\n",
       "\\item 10\n",
       "\\item 11\n",
       "\\item 12\n",
       "\\item 13\n",
       "\\item 14\n",
       "\\item 15\n",
       "\\item 16\n",
       "\\item 17\n",
       "\\item 18\n",
       "\\end{enumerate*}\n"
      ],
      "text/markdown": [
       "1. 1\n",
       "2. 2\n",
       "3. 3\n",
       "4. 4\n",
       "5. 5\n",
       "6. 6\n",
       "7. 7\n",
       "8. 8\n",
       "9. 9\n",
       "10. 10\n",
       "11. 11\n",
       "12. 12\n",
       "13. 13\n",
       "14. 14\n",
       "15. 15\n",
       "16. 16\n",
       "17. 17\n",
       "18. 18\n",
       "\n",
       "\n"
      ],
      "text/plain": [
       ", , 1\n",
       "\n",
       "     [,1] [,2]\n",
       "[1,]    1    4\n",
       "[2,]    2    5\n",
       "[3,]    3    6\n",
       "\n",
       ", , 2\n",
       "\n",
       "     [,1] [,2]\n",
       "[1,]    7   10\n",
       "[2,]    8   11\n",
       "[3,]    9   12\n",
       "\n",
       ", , 3\n",
       "\n",
       "     [,1] [,2]\n",
       "[1,]   13   16\n",
       "[2,]   14   17\n",
       "[3,]   15   18\n"
      ]
     },
     "execution_count": 250,
     "metadata": {},
     "output_type": "execute_result"
    },
    {
     "data": {
      "text/html": [
       "<strong>$dim</strong> = <ol class=list-inline>\n",
       "\t<li>3</li>\n",
       "\t<li>2</li>\n",
       "\t<li>3</li>\n",
       "</ol>\n"
      ],
      "text/latex": [
       "\\textbf{\\$dim} = \\begin{enumerate*}\n",
       "\\item 3\n",
       "\\item 2\n",
       "\\item 3\n",
       "\\end{enumerate*}\n"
      ],
      "text/markdown": [
       "**$dim** = 1. 3\n",
       "2. 2\n",
       "3. 3\n",
       "\n",
       "\n"
      ],
      "text/plain": [
       "$dim\n",
       "[1] 3 2 3\n"
      ]
     },
     "execution_count": 250,
     "metadata": {},
     "output_type": "execute_result"
    }
   ],
   "source": [
    "help(array)\n",
    "aa <- array(1:18, dim = c(3, 2, 3))\n",
    "aa\n",
    "attributes(aa)"
   ]
  },
  {
   "cell_type": "markdown",
   "metadata": {},
   "source": [
    "## Un ejemplo : El Método del Simplex\n",
    "\n",
    "Sea el problema de Programación Lineal:\n",
    "\n",
    "\n",
    "min C = 5x<sub>1</sub> + 8x<sub>2</sub>\n",
    "\n",
    "sujeto a los restricciones\n",
    "\n",
    "x<sub>1</sub> + x<sub>2</sub> >=2\n",
    "\n",
    "x<sub>1</sub> + 2x<sub>2</sub> >=3 \n",
    "\n",
    "y\n",
    "\n",
    "x<sub>1</sub>, x<sub>2</sub> >= 0\n"
   ]
  },
  {
   "cell_type": "markdown",
   "metadata": {},
   "source": [
    "Para resolver este problema usamos los paquetes  [lpSolve -lpSolveApi](http://lpsolve.r-forge.r-project.org/) de la siguiente manera:\n",
    "\n",
    "```\n",
    "install.packages(\"lpSolve\")\n",
    "install.packages(\"lopSolveAPI\")\n",
    "```"
   ]
  },
  {
   "cell_type": "code",
   "execution_count": 251,
   "metadata": {
    "collapsed": false
   },
   "outputs": [
    {
     "data": {
      "text/plain": [
       "Success: the objective function is 13 "
      ]
     },
     "execution_count": 251,
     "metadata": {},
     "output_type": "execute_result"
    },
    {
     "data": {
      "text/html": [
       "<ol class=list-inline>\n",
       "\t<li>1</li>\n",
       "\t<li>1</li>\n",
       "</ol>\n"
      ],
      "text/latex": [
       "\\begin{enumerate*}\n",
       "\\item 1\n",
       "\\item 1\n",
       "\\end{enumerate*}\n"
      ],
      "text/markdown": [
       "1. 1\n",
       "2. 1\n",
       "\n",
       "\n"
      ],
      "text/plain": [
       "[1] 1 1"
      ]
     },
     "execution_count": 251,
     "metadata": {},
     "output_type": "execute_result"
    }
   ],
   "source": [
    "library(lpSolve)\n",
    "ejemplo.pl <- lp(objective.in=c(5, 8), const.mat=matrix(c(1, 1, 1, 2),nrow=2), const.rhs=c(2, 3), const.dir=c(\">=\", \">=\"))\n",
    "ejemplo.pl\n",
    "ejemplo.pl$solution"
   ]
  },
  {
   "cell_type": "markdown",
   "metadata": {},
   "source": [
    "La salida nos dice que el valor que minimiza el problema, está en x<sub>1</sub> = 1, x<sub>2</sub> = 1\n",
    "y el mínimo valor de la función objetivo es 13."
   ]
  },
  {
   "cell_type": "code",
   "execution_count": null,
   "metadata": {
    "collapsed": true
   },
   "outputs": [],
   "source": []
  }
 ],
 "metadata": {
  "kernelspec": {
   "display_name": "R",
   "language": "R",
   "name": "ir"
  },
  "language_info": {
   "codemirror_mode": "r",
   "file_extension": ".r",
   "mimetype": "text/x-r-source",
   "name": "R",
   "pygments_lexer": "r",
   "version": "3.1.3"
  }
 },
 "nbformat": 4,
 "nbformat_minor": 0
}
