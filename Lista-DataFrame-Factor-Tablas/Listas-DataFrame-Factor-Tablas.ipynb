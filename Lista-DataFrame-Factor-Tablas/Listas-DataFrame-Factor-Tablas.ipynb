{
 "cells": [
  {
   "cell_type": "markdown",
   "metadata": {},
   "source": [
    "# Listas , Data Frame, Factor y Tablas"
   ]
  },
  {
   "cell_type": "markdown",
   "metadata": {},
   "source": [
    "## Simplificar y Preservar Subconjuntos\n",
    "\n",
    "Es importante entender las  diferencias  entre  simplificar y preservar subconjuntos. Simplificar subconjuntos devuelve la estructura de datos más simple posible que pueda representar la salida. Preservar subconjuntos  mantiene la estructura de la salida igual  que la de la  entrada, y es generalmente mejor para la programación porque el resultado será siempre del mismo tipo.\n",
    "\n",
    "Omitir  `drop= FALSE` cuando estamos con subconjuntos de matrices y data frame  es un error de los más comunes de  programación.  Desafortunadamente, cómo cambiar entre simplificar y preservar difiere para los diferentes tipos de datos:\n",
    "\n",
    "```\n",
    " \t          Simplificar \t           Preservar\n",
    "Vector          x[[1]] \t                x[1]\n",
    "Lista \t      x[[1]] \t                x[1]\n",
    "Factor \t     x[1:4, drop = T] \t      x[1:4]\n",
    "Array \t      x[1,] o x[,1] \t        x[1, , drop=F] o x[, 1, drop=F]\n",
    "Data frame \t x[,1] o x[[1]] \t       x[, 1, drop=F] o x[1]\n",
    "```\n",
    "\n",
    "Preservar  es lo  mismo para todos los tipos de datos: se obtiene el mismo tipo de salida y de entrada.\n",
    "En simplificar el comportamiento varía ligeramente entre diferentes tipos de datos, como se describe a continuación:"
   ]
  },
  {
   "cell_type": "code",
   "execution_count": 9,
   "metadata": {
    "collapsed": false
   },
   "outputs": [
    {
     "data": {
      "text/html": [
       "<strong>a:</strong> 1"
      ],
      "text/latex": [
       "\\textbf{a:} 1"
      ],
      "text/markdown": [
       "**a:** 1"
      ],
      "text/plain": [
       "a \n",
       "1 "
      ]
     },
     "execution_count": 9,
     "metadata": {},
     "output_type": "execute_result"
    },
    {
     "data": {
      "text/html": [
       "1"
      ],
      "text/latex": [
       "1"
      ],
      "text/markdown": [
       "1"
      ],
      "text/plain": [
       "[1] 1"
      ]
     },
     "execution_count": 9,
     "metadata": {},
     "output_type": "execute_result"
    },
    {
     "name": "stdout",
     "output_type": "stream",
     "text": [
      "List of 1\n",
      " $ a: num 1\n",
      " num 1\n"
     ]
    },
    {
     "data": {
      "text/html": [
       "R"
      ],
      "text/latex": [
       "R"
      ],
      "text/markdown": [
       "R"
      ],
      "text/plain": [
       "[1] R\n",
       "Levels: C R"
      ]
     },
     "execution_count": 9,
     "metadata": {},
     "output_type": "execute_result"
    },
    {
     "data": {
      "text/html": [
       "R"
      ],
      "text/latex": [
       "R"
      ],
      "text/markdown": [
       "R"
      ],
      "text/plain": [
       "[1] R\n",
       "Levels: R"
      ]
     },
     "execution_count": 9,
     "metadata": {},
     "output_type": "execute_result"
    },
    {
     "data": {
      "text/html": [
       "<table>\n",
       "<tbody>\n",
       "\t<tr><td>1</td><td>3</td></tr>\n",
       "</tbody>\n",
       "</table>\n"
      ],
      "text/latex": [
       "\\begin{tabular}{ll}\n",
       "\t 1 & 3\\\\\n",
       "\\end{tabular}\n"
      ],
      "text/markdown": [
       "1. 1\n",
       "2. 3\n",
       "\n",
       "\n"
      ],
      "text/plain": [
       "     [,1] [,2]\n",
       "[1,]    1    3"
      ]
     },
     "execution_count": 9,
     "metadata": {},
     "output_type": "execute_result"
    },
    {
     "data": {
      "text/html": [
       "<ol class=list-inline>\n",
       "\t<li>1</li>\n",
       "\t<li>3</li>\n",
       "</ol>\n"
      ],
      "text/latex": [
       "\\begin{enumerate*}\n",
       "\\item 1\n",
       "\\item 3\n",
       "\\end{enumerate*}\n"
      ],
      "text/markdown": [
       "1. 1\n",
       "2. 3\n",
       "\n",
       "\n"
      ],
      "text/plain": [
       "[1] 1 3"
      ]
     },
     "execution_count": 9,
     "metadata": {},
     "output_type": "execute_result"
    },
    {
     "name": "stdout",
     "output_type": "stream",
     "text": [
      "'data.frame':\t2 obs. of  1 variable:\n",
      " $ a: int  1 2\n",
      " int [1:2] 1 2\n",
      "'data.frame':\t2 obs. of  1 variable:\n",
      " $ a: int  1 2\n",
      " int [1:2] 1 2\n"
     ]
    }
   ],
   "source": [
    "x11 <- c(a = 1, b = 2)\n",
    "x11[1]\n",
    "x11[[1]]\n",
    "\n",
    "y11 <- list(a = 1, b = 2)\n",
    "str(y11[1])\n",
    "str(y11[[1]])\n",
    "\n",
    "\n",
    "z11 <- factor(c(\"R\", \"C\"))\n",
    "z11[1]\n",
    "z11[1, drop = TRUE]\n",
    "\n",
    "\n",
    "a11 <- matrix(1:4, nrow = 2)\n",
    "a11[1, , drop = FALSE]\n",
    "a11[1, ]\n",
    "\n",
    "\n",
    "\n",
    "df11 <- data.frame(a = 1:2, b = 1:2)\n",
    "str(df11[1])\n",
    "str(df11[[1]])\n",
    "str(df11[, \"a\", drop = FALSE])\n",
    "str(df11[, \"a\"])\n",
    "\n",
    "\n",
    "\n"
   ]
  },
  {
   "cell_type": "markdown",
   "metadata": {},
   "source": [
    "##   `$`\n",
    "\n",
    "\n",
    "\n"
   ]
  },
  {
   "cell_type": "markdown",
   "metadata": {},
   "source": [
    "Este operador es una abreviación, donde `x$y ` es equivalente `x[[\"y\", exact = FALSE]]`. A menudo es usado para acceder a variables en un data frame.\n",
    "\n",
    "Un error común con `$` es tratar de usarlo cuando se tiene el nombre de una columna almacenada en una variable:"
   ]
  },
  {
   "cell_type": "code",
   "execution_count": 10,
   "metadata": {
    "collapsed": false
   },
   "outputs": [
    {
     "data": {
      "text/plain": [
       "NULL"
      ]
     },
     "execution_count": 10,
     "metadata": {},
     "output_type": "execute_result"
    },
    {
     "data": {
      "text/html": [
       "<ol class=list-inline>\n",
       "\t<li>6</li>\n",
       "\t<li>6</li>\n",
       "\t<li>4</li>\n",
       "\t<li>6</li>\n",
       "\t<li>8</li>\n",
       "\t<li>6</li>\n",
       "\t<li>8</li>\n",
       "\t<li>4</li>\n",
       "\t<li>4</li>\n",
       "\t<li>6</li>\n",
       "\t<li>6</li>\n",
       "\t<li>8</li>\n",
       "\t<li>8</li>\n",
       "\t<li>8</li>\n",
       "\t<li>8</li>\n",
       "\t<li>8</li>\n",
       "\t<li>8</li>\n",
       "\t<li>4</li>\n",
       "\t<li>4</li>\n",
       "\t<li>4</li>\n",
       "\t<li>4</li>\n",
       "\t<li>8</li>\n",
       "\t<li>8</li>\n",
       "\t<li>8</li>\n",
       "\t<li>8</li>\n",
       "\t<li>4</li>\n",
       "\t<li>4</li>\n",
       "\t<li>4</li>\n",
       "\t<li>8</li>\n",
       "\t<li>6</li>\n",
       "\t<li>8</li>\n",
       "\t<li>4</li>\n",
       "</ol>\n"
      ],
      "text/latex": [
       "\\begin{enumerate*}\n",
       "\\item 6\n",
       "\\item 6\n",
       "\\item 4\n",
       "\\item 6\n",
       "\\item 8\n",
       "\\item 6\n",
       "\\item 8\n",
       "\\item 4\n",
       "\\item 4\n",
       "\\item 6\n",
       "\\item 6\n",
       "\\item 8\n",
       "\\item 8\n",
       "\\item 8\n",
       "\\item 8\n",
       "\\item 8\n",
       "\\item 8\n",
       "\\item 4\n",
       "\\item 4\n",
       "\\item 4\n",
       "\\item 4\n",
       "\\item 8\n",
       "\\item 8\n",
       "\\item 8\n",
       "\\item 8\n",
       "\\item 4\n",
       "\\item 4\n",
       "\\item 4\n",
       "\\item 8\n",
       "\\item 6\n",
       "\\item 8\n",
       "\\item 4\n",
       "\\end{enumerate*}\n"
      ],
      "text/markdown": [
       "1. 6\n",
       "2. 6\n",
       "3. 4\n",
       "4. 6\n",
       "5. 8\n",
       "6. 6\n",
       "7. 8\n",
       "8. 4\n",
       "9. 4\n",
       "10. 6\n",
       "11. 6\n",
       "12. 8\n",
       "13. 8\n",
       "14. 8\n",
       "15. 8\n",
       "16. 8\n",
       "17. 8\n",
       "18. 4\n",
       "19. 4\n",
       "20. 4\n",
       "21. 4\n",
       "22. 8\n",
       "23. 8\n",
       "24. 8\n",
       "25. 8\n",
       "26. 4\n",
       "27. 4\n",
       "28. 4\n",
       "29. 8\n",
       "30. 6\n",
       "31. 8\n",
       "32. 4\n",
       "\n",
       "\n"
      ],
      "text/plain": [
       " [1] 6 6 4 6 8 6 8 4 4 6 6 8 8 8 8 8 8 4 4 4 4 8 8 8 8 4 4 4 8 6 8 4"
      ]
     },
     "execution_count": 10,
     "metadata": {},
     "output_type": "execute_result"
    }
   ],
   "source": [
    "data(mtcars)\n",
    "var <- \"cyl\"\n",
    "mtcars$var  # No funciona\n",
    "\n",
    "mtcars[[var]]\n",
    "\n"
   ]
  },
  {
   "cell_type": "markdown",
   "metadata": {},
   "source": [
    "Hay una diferencia importante entre `$` y `[[`. $ hace coincidencia parcial. Como en el siguiente ejemplo. \n",
    "\n",
    "Para evitar este comportamiento se puede establecer  la opción global `warnPartialMatchDollar` a  TRUE. \n",
    "Usa esto con precaución por que  puede afectar el comportamiento de otro código que se ha cargado (por ejemplo, el de un paquete)."
   ]
  },
  {
   "cell_type": "code",
   "execution_count": 11,
   "metadata": {
    "collapsed": false
   },
   "outputs": [
    {
     "data": {
      "text/html": [
       "1"
      ],
      "text/latex": [
       "1"
      ],
      "text/markdown": [
       "1"
      ],
      "text/plain": [
       "[1] 1"
      ]
     },
     "execution_count": 11,
     "metadata": {},
     "output_type": "execute_result"
    },
    {
     "data": {
      "text/plain": [
       "NULL"
      ]
     },
     "execution_count": 11,
     "metadata": {},
     "output_type": "execute_result"
    }
   ],
   "source": [
    "x <- list(abc = 1)\n",
    "x$a\n",
    "x[[\"a\"]]"
   ]
  },
  {
   "cell_type": "markdown",
   "metadata": {},
   "source": [
    "## Indices Pérdidos y fuera de límite\n",
    "\n",
    "`[` y  `[[` difieren ligeramente en su comportamiento cuando el índice está fuera de límites `(OOB)`, por ejemplo, al intentar extraer el quinto elemento de un vector de longitud cuatro, o un subconjunto de un vector con NA o NULL.\n"
   ]
  },
  {
   "cell_type": "code",
   "execution_count": 12,
   "metadata": {
    "collapsed": false
   },
   "outputs": [
    {
     "name": "stdout",
     "output_type": "stream",
     "text": [
      " int NA\n",
      " int NA\n",
      " int(0) \n"
     ]
    }
   ],
   "source": [
    "x3 <- 1:4\n",
    "str(x3[5])\n",
    "str(x3[NA_real_])\n",
    "str(x3[NULL])"
   ]
  },
  {
   "cell_type": "markdown",
   "metadata": {},
   "source": [
    "La siguiente tabla resume los resultados de subconjuntos  sobre vectores y listas con `[` y `[[` y diferentes tipos de valores OOB.\n",
    "\n",
    "```\n",
    "Operator \tIndice \t    Vector \t     Lista\n",
    "[ \t         OOB \t     NA \t       list(NULL)\n",
    "[ \t         NA_real_ \tNA \t       list(NULL)\n",
    "[          \tNULL \t    x[0] \t     list(NULL)\n",
    "[[ \t        OOB \t     Error \t     Error\n",
    "[[ \t        NA_real_ \tError \t     NULL\n",
    "[[ \t        NULL \t    Error \t     Error\n",
    "```"
   ]
  },
  {
   "cell_type": "markdown",
   "metadata": {},
   "source": [
    "## Listas "
   ]
  },
  {
   "cell_type": "markdown",
   "metadata": {},
   "source": [
    "A diferencia de un vector, en el que todos los elementos deben ser del mismo tipo, la estructura de  una lista en R puede combinar objetos de diferentes tipos. Una lista  en R es similar a un diccionario de Python o, a un hash de Perl o puede resultar similar a una estructura de  C. Las listas son muy importantes en R, formando la base para los data frames,la  programación orientada a objetos,etc.\n",
    "\n",
    "Se puede construir listas usando ` list()`."
   ]
  },
  {
   "cell_type": "code",
   "execution_count": 13,
   "metadata": {
    "collapsed": false
   },
   "outputs": [
    {
     "name": "stdout",
     "output_type": "stream",
     "text": [
      "List of 4\n",
      " $ : int [1:3] 1 2 3\n",
      " $ : chr \"a\"\n",
      " $ : logi [1:3] TRUE FALSE TRUE\n",
      " $ : num [1:2] 2.3 5.9\n"
     ]
    }
   ],
   "source": [
    "x <- list(1:3, \"a\", c(TRUE, FALSE, TRUE), c(2.3, 5.9))\n",
    "str(x)"
   ]
  },
  {
   "cell_type": "markdown",
   "metadata": {},
   "source": [
    "## Operaciones con Listas\n",
    "\n",
    "### Indexando listas\n",
    "\n",
    "Se puede acceder a una lista de diversas maneras, por ejemplo si se quiere acceder a un elemento `c`de una lista \n",
    "llamada `lista`\n",
    "```\n",
    " lista$c\n",
    " lista[[\"c\"]]\n",
    " lista[[i]], donde i es el índice de c dentro de lista.\n",
    "```\n",
    "\n",
    "Una alternativa a la segunda y tercera técnica de listado es usar un solo corchete en lugar de dos\n",
    "\n",
    "```\n",
    "lista[\"c\"]\n",
    "lista[i],  donde i es el índice de c dentro de lista.\n",
    "```\n",
    "\n",
    "Si un único corchete es usado `[]` el resultado es otra lista, una sublista de la original."
   ]
  },
  {
   "cell_type": "code",
   "execution_count": 14,
   "metadata": {
    "collapsed": false
   },
   "outputs": [
    {
     "data": {
      "text/html": [
       "<dl>\n",
       "\t<dt>$name1</dt>\n",
       "\t\t<dd>\"Python\"</dd>\n",
       "\t<dt>$name2</dt>\n",
       "\t\t<dd>5</dd>\n",
       "\t<dt>$name3</dt>\n",
       "\t\t<dd>\"Interpretado\"</dd>\n",
       "</dl>\n"
      ],
      "text/latex": [
       "\\begin{description}\n",
       "\\item[\\$name1] \"Python\"\n",
       "\\item[\\$name2] 5\n",
       "\\item[\\$name3] \"Interpretado\"\n",
       "\\end{description}\n"
      ],
      "text/markdown": [
       "$name1\n",
       ":   \"Python\"\n",
       "$name2\n",
       ":   5\n",
       "$name3\n",
       ":   \"Interpretado\"\n",
       "\n",
       "\n"
      ],
      "text/plain": [
       "$name1\n",
       "[1] \"Python\"\n",
       "\n",
       "$name2\n",
       "[1] 5\n",
       "\n",
       "$name3\n",
       "[1] \"Interpretado\"\n"
      ]
     },
     "execution_count": 14,
     "metadata": {},
     "output_type": "execute_result"
    },
    {
     "data": {
      "text/html": [
       "\"Python\""
      ],
      "text/latex": [
       "\"Python\""
      ],
      "text/markdown": [
       "\"Python\""
      ],
      "text/plain": [
       "[1] \"Python\""
      ]
     },
     "execution_count": 14,
     "metadata": {},
     "output_type": "execute_result"
    },
    {
     "data": {
      "text/html": [
       "5"
      ],
      "text/latex": [
       "5"
      ],
      "text/markdown": [
       "5"
      ],
      "text/plain": [
       "[1] 5"
      ]
     },
     "execution_count": 14,
     "metadata": {},
     "output_type": "execute_result"
    },
    {
     "data": {
      "text/html": [
       "\"Interpretado\""
      ],
      "text/latex": [
       "\"Interpretado\""
      ],
      "text/markdown": [
       "\"Interpretado\""
      ],
      "text/plain": [
       "[1] \"Interpretado\""
      ]
     },
     "execution_count": 14,
     "metadata": {},
     "output_type": "execute_result"
    }
   ],
   "source": [
    "lenguaje <- list(name1=\"Python\", name2=5, name3=\"Interpretado\")\n",
    "lenguaje\n",
    "lenguaje$name1\n",
    "lenguaje[[\"name2\"]]\n",
    "lenguaje[[3]]"
   ]
  },
  {
   "cell_type": "code",
   "execution_count": 15,
   "metadata": {
    "collapsed": false
   },
   "outputs": [
    {
     "ename": "ERROR",
     "evalue": "Error in eval(expr, envir, enclos): objeto 'lenguajes' no encontrado\n",
     "output_type": "error",
     "traceback": [
      "Error in eval(expr, envir, enclos): objeto 'lenguajes' no encontrado\n"
     ]
    },
    {
     "data": {
      "text/html": [
       "<strong>$name3</strong> = \"Interpretado\""
      ],
      "text/latex": [
       "\\textbf{\\$name3} = \"Interpretado\""
      ],
      "text/markdown": [
       "**$name3** = \"Interpretado\""
      ],
      "text/plain": [
       "$name3\n",
       "[1] \"Interpretado\"\n"
      ]
     },
     "execution_count": 15,
     "metadata": {},
     "output_type": "execute_result"
    },
    {
     "data": {
      "text/html": [
       "\"list\""
      ],
      "text/latex": [
       "\"list\""
      ],
      "text/markdown": [
       "\"list\""
      ],
      "text/plain": [
       "[1] \"list\""
      ]
     },
     "execution_count": 15,
     "metadata": {},
     "output_type": "execute_result"
    },
    {
     "name": "stdout",
     "output_type": "stream",
     "text": [
      "List of 1\n",
      " $ name3: chr \"Interpretado\"\n"
     ]
    }
   ],
   "source": [
    "# Usando un solo corchete\n",
    "\n",
    "lenguajes[1:2]\n",
    "lenguajes1<-lenguaje[3]\n",
    "lenguajes1\n",
    "class(lenguajes1)\n",
    "str(lenguajes1)"
   ]
  },
  {
   "cell_type": "markdown",
   "metadata": {},
   "source": [
    "Usando doble corchetes `[[ ]]`, te refieres a una sola componente, con el resultado de tener el tipo de esa componente."
   ]
  },
  {
   "cell_type": "code",
   "execution_count": 16,
   "metadata": {
    "collapsed": false
   },
   "outputs": [
    {
     "ename": "ERROR",
     "evalue": "Error in lenguaje[[1:2]]: subíndice fuera de  los límites\n",
     "output_type": "error",
     "traceback": [
      "Error in lenguaje[[1:2]]: subíndice fuera de  los límites\n"
     ]
    },
    {
     "data": {
      "text/html": [
       "5"
      ],
      "text/latex": [
       "5"
      ],
      "text/markdown": [
       "5"
      ],
      "text/plain": [
       "[1] 5"
      ]
     },
     "execution_count": 16,
     "metadata": {},
     "output_type": "execute_result"
    },
    {
     "data": {
      "text/html": [
       "\"numeric\""
      ],
      "text/latex": [
       "\"numeric\""
      ],
      "text/markdown": [
       "\"numeric\""
      ],
      "text/plain": [
       "[1] \"numeric\""
      ]
     },
     "execution_count": 16,
     "metadata": {},
     "output_type": "execute_result"
    }
   ],
   "source": [
    "lenguaje[[1:2]]\n",
    "lenguajes2 <-  lenguaje[[2]]\n",
    "lenguajes2\n",
    "class(lenguajes2)"
   ]
  },
  {
   "cell_type": "markdown",
   "metadata": {},
   "source": [
    "Importante: Hay otros dos operadores de subconjuntos: `[[` y `$`. `[[` es similar a `[`, excepto que sólo puede devolver un solo valor. `$` es un atajo útil para `[[` combinado con subconjuntos de carácteres.\n",
    "\n",
    "Es necesario el uso de `[[` cuando se trabaja con listas. Esto es porque cuando `[`se aplica a una lista  siempre devuelve una lista: nunca devuelve el  contenido de la lista. Para obtener el contenido, es necesario `[[`:"
   ]
  },
  {
   "cell_type": "code",
   "execution_count": 17,
   "metadata": {
    "collapsed": false
   },
   "outputs": [
    {
     "data": {
      "text/html": [
       "1"
      ],
      "text/latex": [
       "1"
      ],
      "text/markdown": [
       "1"
      ],
      "text/plain": [
       "[1] 1"
      ]
     },
     "execution_count": 17,
     "metadata": {},
     "output_type": "execute_result"
    },
    {
     "data": {
      "text/html": [
       "1"
      ],
      "text/latex": [
       "1"
      ],
      "text/markdown": [
       "1"
      ],
      "text/plain": [
       "[1] 1"
      ]
     },
     "execution_count": 17,
     "metadata": {},
     "output_type": "execute_result"
    }
   ],
   "source": [
    "ar <- list(a = 1, b = 2)\n",
    "ar[[1]]\n",
    "ar[[\"a\"]]"
   ]
  },
  {
   "cell_type": "code",
   "execution_count": 18,
   "metadata": {
    "collapsed": false
   },
   "outputs": [
    {
     "data": {
      "text/html": [
       "1"
      ],
      "text/latex": [
       "1"
      ],
      "text/markdown": [
       "1"
      ],
      "text/plain": [
       "[1] 1"
      ]
     },
     "execution_count": 18,
     "metadata": {},
     "output_type": "execute_result"
    },
    {
     "data": {
      "text/html": [
       "1"
      ],
      "text/latex": [
       "1"
      ],
      "text/markdown": [
       "1"
      ],
      "text/plain": [
       "[1] 1"
      ]
     },
     "execution_count": 18,
     "metadata": {},
     "output_type": "execute_result"
    }
   ],
   "source": [
    "b2 <- list(a = list(b = list(c = list(d = 1))))\n",
    "b2[[c(\"a\", \"b\", \"c\", \"d\")]]\n",
    "\n",
    "# O lo que es lo mismo\n",
    "\n",
    "b2[[\"a\"]][[\"b\"]][[\"c\"]][[\"d\"]]"
   ]
  },
  {
   "cell_type": "markdown",
   "metadata": {},
   "source": [
    "### Agregando y eliminando elementos de una lista"
   ]
  },
  {
   "cell_type": "code",
   "execution_count": 19,
   "metadata": {
    "collapsed": false
   },
   "outputs": [
    {
     "data": {
      "text/html": [
       "<dl>\n",
       "\t<dt>$a</dt>\n",
       "\t\t<dd>\"python\"</dd>\n",
       "\t<dt>$b</dt>\n",
       "\t\t<dd><ol class=list-inline>\n",
       "\t<li>1</li>\n",
       "\t<li>2</li>\n",
       "\t<li>4</li>\n",
       "</ol>\n",
       "</dd>\n",
       "\t<dt>$c</dt>\n",
       "\t\t<dd>13</dd>\n",
       "</dl>\n"
      ],
      "text/latex": [
       "\\begin{description}\n",
       "\\item[\\$a] \"python\"\n",
       "\\item[\\$b] \\begin{enumerate*}\n",
       "\\item 1\n",
       "\\item 2\n",
       "\\item 4\n",
       "\\end{enumerate*}\n",
       "\n",
       "\\item[\\$c] 13\n",
       "\\end{description}\n"
      ],
      "text/markdown": [
       "$a\n",
       ":   \"python\"\n",
       "$b\n",
       ":   1. 1\n",
       "2. 2\n",
       "3. 4\n",
       "\n",
       "\n",
       "\n",
       "$c\n",
       ":   13\n",
       "\n",
       "\n"
      ],
      "text/plain": [
       "$a\n",
       "[1] \"python\"\n",
       "\n",
       "$b\n",
       "[1] 1 2 4\n",
       "\n",
       "$c\n",
       "[1] 13\n"
      ]
     },
     "execution_count": 19,
     "metadata": {},
     "output_type": "execute_result"
    },
    {
     "data": {
      "text/html": [
       "<dl>\n",
       "\t<dt>$a</dt>\n",
       "\t\t<dd>\"python\"</dd>\n",
       "\t<dt>$b</dt>\n",
       "\t\t<dd><ol class=list-inline>\n",
       "\t<li>1</li>\n",
       "\t<li>2</li>\n",
       "\t<li>4</li>\n",
       "</ol>\n",
       "</dd>\n",
       "\t<dt>$c</dt>\n",
       "\t\t<dd>13</dd>\n",
       "\t<dt>$d</dt>\n",
       "\t\t<dd>\"Milagros\"</dd>\n",
       "</dl>\n"
      ],
      "text/latex": [
       "\\begin{description}\n",
       "\\item[\\$a] \"python\"\n",
       "\\item[\\$b] \\begin{enumerate*}\n",
       "\\item 1\n",
       "\\item 2\n",
       "\\item 4\n",
       "\\end{enumerate*}\n",
       "\n",
       "\\item[\\$c] 13\n",
       "\\item[\\$d] \"Milagros\"\n",
       "\\end{description}\n"
      ],
      "text/markdown": [
       "$a\n",
       ":   \"python\"\n",
       "$b\n",
       ":   1. 1\n",
       "2. 2\n",
       "3. 4\n",
       "\n",
       "\n",
       "\n",
       "$c\n",
       ":   13\n",
       "$d\n",
       ":   \"Milagros\"\n",
       "\n",
       "\n"
      ],
      "text/plain": [
       "$a\n",
       "[1] \"python\"\n",
       "\n",
       "$b\n",
       "[1] 1 2 4\n",
       "\n",
       "$c\n",
       "[1] 13\n",
       "\n",
       "$d\n",
       "[1] \"Milagros\"\n"
      ]
     },
     "execution_count": 19,
     "metadata": {},
     "output_type": "execute_result"
    },
    {
     "data": {
      "text/html": [
       "<dl>\n",
       "\t<dt>$a</dt>\n",
       "\t\t<dd>\"python\"</dd>\n",
       "\t<dt>$b</dt>\n",
       "\t\t<dd><ol class=list-inline>\n",
       "\t<li>1</li>\n",
       "\t<li>2</li>\n",
       "\t<li>4</li>\n",
       "</ol>\n",
       "</dd>\n",
       "\t<dt>$c</dt>\n",
       "\t\t<dd>13</dd>\n",
       "\t<dt>$d</dt>\n",
       "\t\t<dd>\"Milagros\"</dd>\n",
       "\t<dt>[[5]]</dt>\n",
       "\t\t<dd>20</dd>\n",
       "\t<dt>[[6]]</dt>\n",
       "\t\t<dd>TRUE</dd>\n",
       "\t<dt>[[7]]</dt>\n",
       "\t\t<dd>TRUE</dd>\n",
       "\t<dt>[[8]]</dt>\n",
       "\t\t<dd>FALSE</dd>\n",
       "</dl>\n"
      ],
      "text/latex": [
       "\\begin{description}\n",
       "\\item[\\$a] \"python\"\n",
       "\\item[\\$b] \\begin{enumerate*}\n",
       "\\item 1\n",
       "\\item 2\n",
       "\\item 4\n",
       "\\end{enumerate*}\n",
       "\n",
       "\\item[\\$c] 13\n",
       "\\item[\\$d] \"Milagros\"\n",
       "\\item[{[[5]]}] 20\n",
       "\\item[{[[6]]}] TRUE\n",
       "\\item[{[[7]]}] TRUE\n",
       "\\item[{[[8]]}] FALSE\n",
       "\\end{description}\n"
      ],
      "text/markdown": [
       "$a\n",
       ":   \"python\"\n",
       "$b\n",
       ":   1. 1\n",
       "2. 2\n",
       "3. 4\n",
       "\n",
       "\n",
       "\n",
       "$c\n",
       ":   13\n",
       "$d\n",
       ":   \"Milagros\"\n",
       "[[5]]\n",
       ":   20\n",
       "[[6]]\n",
       ":   TRUE\n",
       "[[7]]\n",
       ":   TRUE\n",
       "[[8]]\n",
       ":   FALSE\n",
       "\n",
       "\n"
      ],
      "text/plain": [
       "$a\n",
       "[1] \"python\"\n",
       "\n",
       "$b\n",
       "[1] 1 2 4\n",
       "\n",
       "$c\n",
       "[1] 13\n",
       "\n",
       "$d\n",
       "[1] \"Milagros\"\n",
       "\n",
       "[[5]]\n",
       "[1] 20\n",
       "\n",
       "[[6]]\n",
       "[1] TRUE\n",
       "\n",
       "[[7]]\n",
       "[1] TRUE\n",
       "\n",
       "[[8]]\n",
       "[1] FALSE\n"
      ]
     },
     "execution_count": 19,
     "metadata": {},
     "output_type": "execute_result"
    }
   ],
   "source": [
    "l <-list(a = \"python\", b= c(1,2,4), c = 13)\n",
    "l\n",
    "l$d <- \"Milagros\"  # agrego un componente\n",
    "l\n",
    "l[[5]]<- 20\n",
    "l [6:8]<- c(TRUE, TRUE, FALSE)\n",
    "l\n"
   ]
  },
  {
   "cell_type": "code",
   "execution_count": 20,
   "metadata": {
    "collapsed": false
   },
   "outputs": [
    {
     "data": {
      "text/html": [
       "<dl>\n",
       "\t<dt>$a</dt>\n",
       "\t\t<dd>\"python\"</dd>\n",
       "\t<dt>$c</dt>\n",
       "\t\t<dd>13</dd>\n",
       "\t<dt>$d</dt>\n",
       "\t\t<dd>\"Milagros\"</dd>\n",
       "\t<dt>[[4]]</dt>\n",
       "\t\t<dd>20</dd>\n",
       "\t<dt>[[5]]</dt>\n",
       "\t\t<dd>TRUE</dd>\n",
       "\t<dt>[[6]]</dt>\n",
       "\t\t<dd>TRUE</dd>\n",
       "\t<dt>[[7]]</dt>\n",
       "\t\t<dd>FALSE</dd>\n",
       "</dl>\n"
      ],
      "text/latex": [
       "\\begin{description}\n",
       "\\item[\\$a] \"python\"\n",
       "\\item[\\$c] 13\n",
       "\\item[\\$d] \"Milagros\"\n",
       "\\item[{[[4]]}] 20\n",
       "\\item[{[[5]]}] TRUE\n",
       "\\item[{[[6]]}] TRUE\n",
       "\\item[{[[7]]}] FALSE\n",
       "\\end{description}\n"
      ],
      "text/markdown": [
       "$a\n",
       ":   \"python\"\n",
       "$c\n",
       ":   13\n",
       "$d\n",
       ":   \"Milagros\"\n",
       "[[4]]\n",
       ":   20\n",
       "[[5]]\n",
       ":   TRUE\n",
       "[[6]]\n",
       ":   TRUE\n",
       "[[7]]\n",
       ":   FALSE\n",
       "\n",
       "\n"
      ],
      "text/plain": [
       "$a\n",
       "[1] \"python\"\n",
       "\n",
       "$c\n",
       "[1] 13\n",
       "\n",
       "$d\n",
       "[1] \"Milagros\"\n",
       "\n",
       "[[4]]\n",
       "[1] 20\n",
       "\n",
       "[[5]]\n",
       "[1] TRUE\n",
       "\n",
       "[[6]]\n",
       "[1] TRUE\n",
       "\n",
       "[[7]]\n",
       "[1] FALSE\n"
      ]
     },
     "execution_count": 20,
     "metadata": {},
     "output_type": "execute_result"
    }
   ],
   "source": [
    "# Podemos eliminar componentes poniendo NULL a la componente\n",
    "\n",
    "l$b <-NULL\n",
    "l"
   ]
  },
  {
   "cell_type": "code",
   "execution_count": 21,
   "metadata": {
    "collapsed": false
   },
   "outputs": [
    {
     "data": {
      "text/html": [
       "<ol>\n",
       "\t<li>\"Milagros\"</li>\n",
       "\t<li>55000</li>\n",
       "\t<li>TRUE</li>\n",
       "\t<li>51</li>\n",
       "</ol>\n"
      ],
      "text/latex": [
       "\\begin{enumerate}\n",
       "\\item \"Milagros\"\n",
       "\\item 55000\n",
       "\\item TRUE\n",
       "\\item 51\n",
       "\\end{enumerate}\n"
      ],
      "text/markdown": [
       "1. \"Milagros\"\n",
       "2. 55000\n",
       "3. TRUE\n",
       "4. 51\n",
       "\n",
       "\n"
      ],
      "text/plain": [
       "[[1]]\n",
       "[1] \"Milagros\"\n",
       "\n",
       "[[2]]\n",
       "[1] 55000\n",
       "\n",
       "[[3]]\n",
       "[1] TRUE\n",
       "\n",
       "[[4]]\n",
       "[1] 51\n"
      ]
     },
     "execution_count": 21,
     "metadata": {},
     "output_type": "execute_result"
    }
   ],
   "source": [
    "# Se puede concatenar listas\n",
    "\n",
    "c(list(\"Milagros\", 55000, T),list(51))"
   ]
  },
  {
   "cell_type": "code",
   "execution_count": 22,
   "metadata": {
    "collapsed": false
   },
   "outputs": [
    {
     "data": {
      "text/html": [
       "<ol>\n",
       "\t<li><ol class=list-inline>\n",
       "\t<li>1</li>\n",
       "\t<li>2</li>\n",
       "\t<li>3</li>\n",
       "</ol>\n",
       "</li>\n",
       "\t<li>\"a\"</li>\n",
       "\t<li><ol class=list-inline>\n",
       "\t<li>TRUE</li>\n",
       "\t<li>FALSE</li>\n",
       "\t<li>TRUE</li>\n",
       "</ol>\n",
       "</li>\n",
       "\t<li><ol class=list-inline>\n",
       "\t<li>2.3</li>\n",
       "\t<li>5.9</li>\n",
       "</ol>\n",
       "</li>\n",
       "</ol>\n"
      ],
      "text/latex": [
       "\\begin{enumerate}\n",
       "\\item \\begin{enumerate*}\n",
       "\\item 1\n",
       "\\item 2\n",
       "\\item 3\n",
       "\\end{enumerate*}\n",
       "\n",
       "\\item \"a\"\n",
       "\\item \\begin{enumerate*}\n",
       "\\item TRUE\n",
       "\\item FALSE\n",
       "\\item TRUE\n",
       "\\end{enumerate*}\n",
       "\n",
       "\\item \\begin{enumerate*}\n",
       "\\item 2.3\n",
       "\\item 5.9\n",
       "\\end{enumerate*}\n",
       "\n",
       "\\end{enumerate}\n"
      ],
      "text/markdown": [
       "1. 1. 1\n",
       "2. 2\n",
       "3. 3\n",
       "\n",
       "\n",
       "\n",
       "2. \"a\"\n",
       "3. 1. TRUE\n",
       "2. FALSE\n",
       "3. TRUE\n",
       "\n",
       "\n",
       "\n",
       "4. 1. 2.3\n",
       "2. 5.9\n",
       "\n",
       "\n",
       "\n",
       "\n",
       "\n"
      ],
      "text/plain": [
       "[[1]]\n",
       "[1] 1 2 3\n",
       "\n",
       "[[2]]\n",
       "[1] \"a\"\n",
       "\n",
       "[[3]]\n",
       "[1]  TRUE FALSE  TRUE\n",
       "\n",
       "[[4]]\n",
       "[1] 2.3 5.9\n"
      ]
     },
     "execution_count": 22,
     "metadata": {},
     "output_type": "execute_result"
    },
    {
     "data": {
      "text/html": [
       "4"
      ],
      "text/latex": [
       "4"
      ],
      "text/markdown": [
       "4"
      ],
      "text/plain": [
       "[1] 4"
      ]
     },
     "execution_count": 22,
     "metadata": {},
     "output_type": "execute_result"
    }
   ],
   "source": [
    "# Se puede obtener el numero de componentes de una lista, usando length()\n",
    "\n",
    "x\n",
    "length(x)\n"
   ]
  },
  {
   "cell_type": "markdown",
   "metadata": {},
   "source": [
    "## Accediendo a los componentes de una lista\n"
   ]
  },
  {
   "cell_type": "code",
   "execution_count": 23,
   "metadata": {
    "collapsed": false
   },
   "outputs": [
    {
     "data": {
      "text/html": [
       "<ol class=list-inline>\n",
       "\t<li>\"name1\"</li>\n",
       "\t<li>\"name2\"</li>\n",
       "\t<li>\"name3\"</li>\n",
       "</ol>\n"
      ],
      "text/latex": [
       "\\begin{enumerate*}\n",
       "\\item \"name1\"\n",
       "\\item \"name2\"\n",
       "\\item \"name3\"\n",
       "\\end{enumerate*}\n"
      ],
      "text/markdown": [
       "1. \"name1\"\n",
       "2. \"name2\"\n",
       "3. \"name3\"\n",
       "\n",
       "\n"
      ],
      "text/plain": [
       "[1] \"name1\" \"name2\" \"name3\""
      ]
     },
     "execution_count": 23,
     "metadata": {},
     "output_type": "execute_result"
    }
   ],
   "source": [
    "    names(lenguaje)"
   ]
  },
  {
   "cell_type": "markdown",
   "metadata": {},
   "source": [
    "```\n",
    "help(unlist)\n",
    "```"
   ]
  },
  {
   "cell_type": "code",
   "execution_count": 24,
   "metadata": {
    "collapsed": false
   },
   "outputs": [
    {
     "data": {
      "text/html": [
       "<dl class=dl-horizontal>\n",
       "\t<dt>name1</dt>\n",
       "\t\t<dd>\"Python\"</dd>\n",
       "\t<dt>name2</dt>\n",
       "\t\t<dd>\"5\"</dd>\n",
       "\t<dt>name3</dt>\n",
       "\t\t<dd>\"Interpretado\"</dd>\n",
       "</dl>\n"
      ],
      "text/latex": [
       "\\begin{description*}\n",
       "\\item[name1] \"Python\"\n",
       "\\item[name2] \"5\"\n",
       "\\item[name3] \"Interpretado\"\n",
       "\\end{description*}\n"
      ],
      "text/markdown": [
       "name1\n",
       ":   \"Python\"name2\n",
       ":   \"5\"name3\n",
       ":   \"Interpretado\"\n",
       "\n"
      ],
      "text/plain": [
       "         name1          name2          name3 \n",
       "      \"Python\"            \"5\" \"Interpretado\" "
      ]
     },
     "execution_count": 24,
     "metadata": {},
     "output_type": "execute_result"
    },
    {
     "data": {
      "text/html": [
       "\"character\""
      ],
      "text/latex": [
       "\"character\""
      ],
      "text/markdown": [
       "\"character\""
      ],
      "text/plain": [
       "[1] \"character\""
      ]
     },
     "execution_count": 24,
     "metadata": {},
     "output_type": "execute_result"
    }
   ],
   "source": [
    "# Para obtener los valores, usamos unlist()\n",
    "\n",
    "\n",
    "leng <- unlist(lenguaje)\n",
    "leng\n",
    "class(leng)"
   ]
  },
  {
   "cell_type": "code",
   "execution_count": 25,
   "metadata": {
    "collapsed": false
   },
   "outputs": [
    {
     "data": {
      "text/html": [
       "\"numeric\""
      ],
      "text/latex": [
       "\"numeric\""
      ],
      "text/markdown": [
       "\"numeric\""
      ],
      "text/plain": [
       "[1] \"numeric\""
      ]
     },
     "execution_count": 25,
     "metadata": {},
     "output_type": "execute_result"
    },
    {
     "data": {
      "text/html": [
       "<dl class=dl-horizontal>\n",
       "\t<dt>a</dt>\n",
       "\t\t<dd>2</dd>\n",
       "\t<dt>b</dt>\n",
       "\t\t<dd>3</dd>\n",
       "\t<dt>c</dt>\n",
       "\t\t<dd>4</dd>\n",
       "</dl>\n"
      ],
      "text/latex": [
       "\\begin{description*}\n",
       "\\item[a] 2\n",
       "\\item[b] 3\n",
       "\\item[c] 4\n",
       "\\end{description*}\n"
      ],
      "text/markdown": [
       "a\n",
       ":   2b\n",
       ":   3c\n",
       ":   4\n",
       "\n"
      ],
      "text/plain": [
       "a b c \n",
       "2 3 4 "
      ]
     },
     "execution_count": 25,
     "metadata": {},
     "output_type": "execute_result"
    }
   ],
   "source": [
    "# Por otro lado, si tuviéramos que empezar con  números, obtendríamos números.\n",
    "\n",
    "ll <- list(a=2,b=3,c=4)\n",
    "ll1 <-unlist(ll)\n",
    "class(ll1)\n",
    "ll1"
   ]
  },
  {
   "cell_type": "code",
   "execution_count": 26,
   "metadata": {
    "collapsed": false
   },
   "outputs": [
    {
     "data": {
      "text/html": [
       "<ol>\n",
       "\t<li><ol class=list-inline>\n",
       "\t<li>1</li>\n",
       "\t<li>2</li>\n",
       "\t<li>3</li>\n",
       "</ol>\n",
       "</li>\n",
       "\t<li>\"a\"</li>\n",
       "\t<li><ol class=list-inline>\n",
       "\t<li>TRUE</li>\n",
       "\t<li>FALSE</li>\n",
       "\t<li>TRUE</li>\n",
       "</ol>\n",
       "</li>\n",
       "\t<li><ol class=list-inline>\n",
       "\t<li>2.3</li>\n",
       "\t<li>5.9</li>\n",
       "</ol>\n",
       "</li>\n",
       "</ol>\n"
      ],
      "text/latex": [
       "\\begin{enumerate}\n",
       "\\item \\begin{enumerate*}\n",
       "\\item 1\n",
       "\\item 2\n",
       "\\item 3\n",
       "\\end{enumerate*}\n",
       "\n",
       "\\item \"a\"\n",
       "\\item \\begin{enumerate*}\n",
       "\\item TRUE\n",
       "\\item FALSE\n",
       "\\item TRUE\n",
       "\\end{enumerate*}\n",
       "\n",
       "\\item \\begin{enumerate*}\n",
       "\\item 2.3\n",
       "\\item 5.9\n",
       "\\end{enumerate*}\n",
       "\n",
       "\\end{enumerate}\n"
      ],
      "text/markdown": [
       "1. 1. 1\n",
       "2. 2\n",
       "3. 3\n",
       "\n",
       "\n",
       "\n",
       "2. \"a\"\n",
       "3. 1. TRUE\n",
       "2. FALSE\n",
       "3. TRUE\n",
       "\n",
       "\n",
       "\n",
       "4. 1. 2.3\n",
       "2. 5.9\n",
       "\n",
       "\n",
       "\n",
       "\n",
       "\n"
      ],
      "text/plain": [
       "[[1]]\n",
       "[1] 1 2 3\n",
       "\n",
       "[[2]]\n",
       "[1] \"a\"\n",
       "\n",
       "[[3]]\n",
       "[1]  TRUE FALSE  TRUE\n",
       "\n",
       "[[4]]\n",
       "[1] 2.3 5.9\n"
      ]
     },
     "execution_count": 26,
     "metadata": {},
     "output_type": "execute_result"
    },
    {
     "data": {
      "text/html": [
       "\"character\""
      ],
      "text/latex": [
       "\"character\""
      ],
      "text/markdown": [
       "\"character\""
      ],
      "text/plain": [
       "[1] \"character\""
      ]
     },
     "execution_count": 26,
     "metadata": {},
     "output_type": "execute_result"
    },
    {
     "data": {
      "text/html": [
       "<ol class=list-inline>\n",
       "\t<li>\"1\"</li>\n",
       "\t<li>\"2\"</li>\n",
       "\t<li>\"3\"</li>\n",
       "\t<li>\"a\"</li>\n",
       "\t<li>\"TRUE\"</li>\n",
       "\t<li>\"FALSE\"</li>\n",
       "\t<li>\"TRUE\"</li>\n",
       "\t<li>\"2.3\"</li>\n",
       "\t<li>\"5.9\"</li>\n",
       "</ol>\n"
      ],
      "text/latex": [
       "\\begin{enumerate*}\n",
       "\\item \"1\"\n",
       "\\item \"2\"\n",
       "\\item \"3\"\n",
       "\\item \"a\"\n",
       "\\item \"TRUE\"\n",
       "\\item \"FALSE\"\n",
       "\\item \"TRUE\"\n",
       "\\item \"2.3\"\n",
       "\\item \"5.9\"\n",
       "\\end{enumerate*}\n"
      ],
      "text/markdown": [
       "1. \"1\"\n",
       "2. \"2\"\n",
       "3. \"3\"\n",
       "4. \"a\"\n",
       "5. \"TRUE\"\n",
       "6. \"FALSE\"\n",
       "7. \"TRUE\"\n",
       "8. \"2.3\"\n",
       "9. \"5.9\"\n",
       "\n",
       "\n"
      ],
      "text/plain": [
       "[1] \"1\"     \"2\"     \"3\"     \"a\"     \"TRUE\"  \"FALSE\" \"TRUE\"  \"2.3\"   \"5.9\"  "
      ]
     },
     "execution_count": 26,
     "metadata": {},
     "output_type": "execute_result"
    }
   ],
   "source": [
    "# En un caso de elementos distintos \n",
    "x\n",
    "x1 <-unlist(x)\n",
    "class(x1)\n",
    "x1"
   ]
  },
  {
   "cell_type": "markdown",
   "metadata": {},
   "source": [
    "Aunque x1 es un vector y no una lista, R da un nombre a cada elemento, podemos eliminar esos nombres usando NULL\n",
    "o usando `unname()`\n",
    "\n",
    "```\n",
    "names(x1)<-NULL\n",
    "x1\n",
    "\n",
    "x2 <- unname(x1)\n",
    "x2\n",
    "```"
   ]
  },
  {
   "cell_type": "markdown",
   "metadata": {},
   "source": [
    "## Aplicando funciones a las listas\n",
    "\n",
    "Dos funciones son muy útiles para la aplicación de las funciones de las listas: `lapply()` y `sapply()`.  Más información sobre la familia `apply()` en [stackoverflow](http://stackoverflow.com/questions/3505701/r-grouping-functions-sapply-vs-lapply-vs-apply-vs-tapply-vs-by-vs-aggrega). \n",
    "\n",
    "### Usando las funciones lapply()  y sapply()\n",
    "\n",
    "```\n",
    "lapply (list, f, fargs...)}\n",
    "```\n",
    "\n",
    "- list es una lista\n",
    "- f  es la función ha ser aplicada\n",
    "- fargs, otros paramétros\n",
    "\n",
    "\n",
    "\n",
    "La función `lapply()` aplica una función a elementos de una lista o un vector y devuelve los resultados en una lista. La función `lapply()`  se  vuelve muy útil cuando se trata con  data frames. En R, los data frames  se consideran una lista y las variables  son los elementos de la lista, así podemos aplicar una función a todas las variables en un data frame  usando `lapply()`.\n",
    "\n",
    "`sapply()` aplica una función los elementos de una lista y devuelve los resultados en un vector, matriz o una lista. \n",
    "\n",
    "\n",
    "```\n",
    "sapply(lista, f,...simplify)}\n",
    "```\n",
    "\n",
    "- list es una lista\n",
    "- f  es la función ha ser aplicada\n",
    "- simplify --> Cuando el argumento `simplify = F` entonces la función  `sapply()` devuelve los resultados en una lista como la función  `lapply()`.  Cuando  `simplify = T`, `sapply()` devuelve los resultados en una forma simplificada. Si los resultados son todos  escalares entonces `sapply()` devuelve un vector. Si los resultados son todos de la misma longitud `sapply()` entonces devolverá una matriz con una columna para cada elemento en la lista a la que se aplicó la función."
   ]
  },
  {
   "cell_type": "code",
   "execution_count": 27,
   "metadata": {
    "collapsed": false
   },
   "outputs": [
    {
     "data": {
      "text/html": [
       "<ol>\n",
       "\t<li>3</li>\n",
       "\t<li>27</li>\n",
       "</ol>\n"
      ],
      "text/latex": [
       "\\begin{enumerate}\n",
       "\\item 3\n",
       "\\item 27\n",
       "\\end{enumerate}\n"
      ],
      "text/markdown": [
       "1. 3\n",
       "2. 27\n",
       "\n",
       "\n"
      ],
      "text/plain": [
       "[[1]]\n",
       "[1] 3\n",
       "\n",
       "[[2]]\n",
       "[1] 27\n"
      ]
     },
     "execution_count": 27,
     "metadata": {},
     "output_type": "execute_result"
    },
    {
     "name": "stdout",
     "output_type": "stream",
     "text": [
      "[1] 1\n",
      "[1] 2\n",
      "[1] 3\n",
      "[1] 4\n",
      "[1] 5\n"
     ]
    },
    {
     "data": {
      "text/html": [
       "<ol class=list-inline>\n",
       "\t<li>1</li>\n",
       "\t<li>2</li>\n",
       "\t<li>3</li>\n",
       "\t<li>4</li>\n",
       "\t<li>5</li>\n",
       "</ol>\n"
      ],
      "text/latex": [
       "\\begin{enumerate*}\n",
       "\\item 1\n",
       "\\item 2\n",
       "\\item 3\n",
       "\\item 4\n",
       "\\item 5\n",
       "\\end{enumerate*}\n"
      ],
      "text/markdown": [
       "1. 1\n",
       "2. 2\n",
       "3. 3\n",
       "4. 4\n",
       "5. 5\n",
       "\n",
       "\n"
      ],
      "text/plain": [
       "[1] 1 2 3 4 5"
      ]
     },
     "execution_count": 27,
     "metadata": {},
     "output_type": "execute_result"
    }
   ],
   "source": [
    "# help(lapply)\n",
    "lapply(list(1:5, 25:29), median)\n",
    "unlist(lapply(1:5, function(i) print(i) ))"
   ]
  },
  {
   "cell_type": "code",
   "execution_count": 28,
   "metadata": {
    "collapsed": false
   },
   "outputs": [
    {
     "data": {
      "text/html": [
       "<dl>\n",
       "\t<dt>$Tiempo</dt>\n",
       "\t\t<dd><ol class=list-inline>\n",
       "\t<li>1</li>\n",
       "\t<li>2</li>\n",
       "\t<li>3</li>\n",
       "\t<li>4</li>\n",
       "\t<li>5</li>\n",
       "\t<li>6</li>\n",
       "\t<li>7</li>\n",
       "</ol>\n",
       "</dd>\n",
       "\t<dt>$demanda</dt>\n",
       "\t\t<dd><ol class=list-inline>\n",
       "\t<li>8.3</li>\n",
       "\t<li>10.4</li>\n",
       "\t<li>15.3</li>\n",
       "\t<li>15.8</li>\n",
       "\t<li>17</li>\n",
       "\t<li>19</li>\n",
       "\t<li>19.8</li>\n",
       "</ol>\n",
       "</dd>\n",
       "</dl>\n"
      ],
      "text/latex": [
       "\\begin{description}\n",
       "\\item[\\$Tiempo] \\begin{enumerate*}\n",
       "\\item 1\n",
       "\\item 2\n",
       "\\item 3\n",
       "\\item 4\n",
       "\\item 5\n",
       "\\item 6\n",
       "\\item 7\n",
       "\\end{enumerate*}\n",
       "\n",
       "\\item[\\$demanda] \\begin{enumerate*}\n",
       "\\item 8.3\n",
       "\\item 10.4\n",
       "\\item 15.3\n",
       "\\item 15.8\n",
       "\\item 17\n",
       "\\item 19\n",
       "\\item 19.8\n",
       "\\end{enumerate*}\n",
       "\n",
       "\\end{description}\n"
      ],
      "text/markdown": [
       "$Tiempo\n",
       ":   1. 1\n",
       "2. 2\n",
       "3. 3\n",
       "4. 4\n",
       "5. 5\n",
       "6. 6\n",
       "7. 7\n",
       "\n",
       "\n",
       "\n",
       "$demanda\n",
       ":   1. 8.3\n",
       "2. 10.4\n",
       "3. 15.3\n",
       "4. 15.8\n",
       "5. 17\n",
       "6. 19\n",
       "7. 19.8\n",
       "\n",
       "\n",
       "\n",
       "\n",
       "\n"
      ],
      "text/plain": [
       "$Tiempo\n",
       "[1] 1 2 3 4 5 6 7\n",
       "\n",
       "$demanda\n",
       "[1]  8.3 10.4 15.3 15.8 17.0 19.0 19.8\n"
      ]
     },
     "execution_count": 28,
     "metadata": {},
     "output_type": "execute_result"
    },
    {
     "data": {
      "text/html": [
       "<table>\n",
       "<thead><tr><th></th><th scope=col>Tiempo</th><th scope=col>demanda</th></tr></thead>\n",
       "<tbody>\n",
       "\t<tr><th scope=row>1</th><td>1</td><td>8.3</td></tr>\n",
       "\t<tr><th scope=row>2</th><td>2</td><td>10.4</td></tr>\n",
       "\t<tr><th scope=row>3</th><td>3</td><td>15.3</td></tr>\n",
       "\t<tr><th scope=row>4</th><td>4</td><td>15.8</td></tr>\n",
       "\t<tr><th scope=row>5</th><td>5</td><td>17</td></tr>\n",
       "\t<tr><th scope=row>6</th><td>6</td><td>19</td></tr>\n",
       "\t<tr><th scope=row>7</th><td>7</td><td>19.8</td></tr>\n",
       "</tbody>\n",
       "</table>\n"
      ],
      "text/latex": [
       "\\begin{tabular}{r|ll}\n",
       "  & Tiempo & demanda\\\\\n",
       "\\hline\n",
       "\t1 & 1 & 8.3\\\\\n",
       "\t2 & 2 & 10.4\\\\\n",
       "\t3 & 3 & 15.3\\\\\n",
       "\t4 & 4 & 15.8\\\\\n",
       "\t5 & 5 & 17\\\\\n",
       "\t6 & 6 & 19\\\\\n",
       "\t7 & 7 & 19.8\\\\\n",
       "\\end{tabular}\n"
      ],
      "text/plain": [
       "  Tiempo demanda\n",
       "1      1     8.3\n",
       "2      2    10.4\n",
       "3      3    15.3\n",
       "4      4    15.8\n",
       "5      5    17.0\n",
       "6      6    19.0\n",
       "7      7    19.8"
      ]
     },
     "execution_count": 28,
     "metadata": {},
     "output_type": "execute_result"
    }
   ],
   "source": [
    "Tiempo <-c(1,2,3,4,5,6,7)\n",
    "demanda <-c(8.3, 10.4, 19.0, 17.0, 15.8, 15.3, 19.8)\n",
    "BID =data.frame(Tiempo, demanda)\n",
    "dl <-lapply(BID, sort)\n",
    "dl\n",
    "as.data.frame(dl)"
   ]
  },
  {
   "cell_type": "code",
   "execution_count": 29,
   "metadata": {
    "collapsed": false
   },
   "outputs": [
    {
     "data": {
      "text/html": [
       "<ol class=list-inline>\n",
       "\t<li>2</li>\n",
       "\t<li>27</li>\n",
       "</ol>\n"
      ],
      "text/latex": [
       "\\begin{enumerate*}\n",
       "\\item 2\n",
       "\\item 27\n",
       "\\end{enumerate*}\n"
      ],
      "text/markdown": [
       "1. 2\n",
       "2. 27\n",
       "\n",
       "\n"
      ],
      "text/plain": [
       "[1]  2 27"
      ]
     },
     "execution_count": 29,
     "metadata": {},
     "output_type": "execute_result"
    },
    {
     "data": {
      "text/html": [
       "<table>\n",
       "<tbody>\n",
       "\t<tr><td>1</td><td>2</td><td>3</td><td>4</td><td>5</td><td>6</td><td>7</td><td>8</td></tr>\n",
       "\t<tr><td> 1</td><td> 4</td><td> 9</td><td>16</td><td>25</td><td>36</td><td>49</td><td>64</td></tr>\n",
       "</tbody>\n",
       "</table>\n"
      ],
      "text/latex": [
       "\\begin{tabular}{llllllll}\n",
       "\t 1 & 2 & 3 & 4 & 5 & 6 & 7 & 8\\\\\n",
       "\t  1 &  4 &  9 & 16 & 25 & 36 & 49 & 64\\\\\n",
       "\\end{tabular}\n"
      ],
      "text/markdown": [
       "1. 1\n",
       "2. 1\n",
       "3. 2\n",
       "4. 4\n",
       "5. 3\n",
       "6. 9\n",
       "7. 4\n",
       "8. 16\n",
       "9. 5\n",
       "10. 25\n",
       "11. 6\n",
       "12. 36\n",
       "13. 7\n",
       "14. 49\n",
       "15. 8\n",
       "16. 64\n",
       "\n",
       "\n"
      ],
      "text/plain": [
       "     [,1] [,2] [,3] [,4] [,5] [,6] [,7] [,8]\n",
       "[1,]    1    2    3    4    5    6    7    8\n",
       "[2,]    1    4    9   16   25   36   49   64"
      ]
     },
     "execution_count": 29,
     "metadata": {},
     "output_type": "execute_result"
    }
   ],
   "source": [
    "sapply(list(1:3, 25:29), median)\n",
    "z <- function(z) return (c(z, z^2))\n",
    "sapply(1:8, z)"
   ]
  },
  {
   "cell_type": "code",
   "execution_count": 30,
   "metadata": {
    "collapsed": false
   },
   "outputs": [
    {
     "name": "stdout",
     "output_type": "stream",
     "text": [
      "'data.frame':\t72 obs. of  2 variables:\n",
      " $ count: num  10 7 20 14 14 12 10 23 17 20 ...\n",
      " $ spray: Factor w/ 6 levels \"A\",\"B\",\"C\",\"D\",..: 1 1 1 1 1 1 1 1 1 1 ...\n",
      "List of 6\n",
      " $ A: num [1:12] 10 7 20 14 14 12 10 23 17 20 ...\n",
      " $ B: num [1:12] 11 17 21 11 16 14 17 17 19 21 ...\n",
      " $ C: num [1:12] 0 1 7 2 3 1 2 1 3 0 ...\n",
      " $ D: num [1:12] 3 5 12 6 4 3 5 5 5 5 ...\n",
      " $ E: num [1:12] 3 5 3 5 3 6 1 1 3 2 ...\n",
      " $ F: num [1:12] 11 9 15 22 15 16 13 10 26 26 ...\n"
     ]
    },
    {
     "data": {
      "text/html": [
       "<dl class=dl-horizontal>\n",
       "\t<dt>A</dt>\n",
       "\t\t<dd>14.5</dd>\n",
       "\t<dt>B</dt>\n",
       "\t\t<dd>15.3333333333333</dd>\n",
       "\t<dt>C</dt>\n",
       "\t\t<dd>2.08333333333333</dd>\n",
       "\t<dt>D</dt>\n",
       "\t\t<dd>4.91666666666667</dd>\n",
       "\t<dt>E</dt>\n",
       "\t\t<dd>3.5</dd>\n",
       "\t<dt>F</dt>\n",
       "\t\t<dd>16.6666666666667</dd>\n",
       "</dl>\n"
      ],
      "text/latex": [
       "\\begin{description*}\n",
       "\\item[A] 14.5\n",
       "\\item[B] 15.3333333333333\n",
       "\\item[C] 2.08333333333333\n",
       "\\item[D] 4.91666666666667\n",
       "\\item[E] 3.5\n",
       "\\item[F] 16.6666666666667\n",
       "\\end{description*}\n"
      ],
      "text/markdown": [
       "A\n",
       ":   14.5B\n",
       ":   15.3333333333333C\n",
       ":   2.08333333333333D\n",
       ":   4.91666666666667E\n",
       ":   3.5F\n",
       ":   16.6666666666667\n",
       "\n"
      ],
      "text/plain": [
       "        A         B         C         D         E         F \n",
       "14.500000 15.333333  2.083333  4.916667  3.500000 16.666667 "
      ]
     },
     "execution_count": 30,
     "metadata": {},
     "output_type": "execute_result"
    }
   ],
   "source": [
    "# Un ejemplo más complejo\n",
    "\n",
    "str(InsectSprays)\n",
    "str(split(InsectSprays$count, InsectSprays$spray)  )\n",
    "sapply(  split(InsectSprays$count, InsectSprays$spray),  mean  )"
   ]
  },
  {
   "cell_type": "markdown",
   "metadata": {},
   "source": [
    "## Listas recursivas\n",
    "\n",
    "Las listas pueden ser recursivas, lo que significa que  puede tener listas dentro de otras listas. Lo que hace diferente \n",
    "de los vectores."
   ]
  },
  {
   "cell_type": "code",
   "execution_count": 31,
   "metadata": {
    "collapsed": false
   },
   "outputs": [
    {
     "name": "stdout",
     "output_type": "stream",
     "text": [
      "List of 1\n",
      " $ :List of 1\n",
      "  ..$ :List of 1\n",
      "  .. ..$ : list()\n"
     ]
    },
    {
     "data": {
      "text/html": [
       "TRUE"
      ],
      "text/latex": [
       "TRUE"
      ],
      "text/markdown": [
       "TRUE"
      ],
      "text/plain": [
       "[1] TRUE"
      ]
     },
     "execution_count": 31,
     "metadata": {},
     "output_type": "execute_result"
    }
   ],
   "source": [
    "x <- list(list(list(list())))\n",
    "str(x)\n",
    "is.recursive(x)"
   ]
  },
  {
   "cell_type": "markdown",
   "metadata": {},
   "source": [
    "`c()` combinará varias listas en una sola. Si se da una combinación de vectores y listas, `c()`  usará la coaccionará  los vectores a las listas antes de combinarlos. Comparamos  los resultados de `list()` y `c()`:"
   ]
  },
  {
   "cell_type": "code",
   "execution_count": 32,
   "metadata": {
    "collapsed": false
   },
   "outputs": [
    {
     "name": "stdout",
     "output_type": "stream",
     "text": [
      "List of 2\n",
      " $ :List of 2\n",
      "  ..$ : num 1\n",
      "  ..$ : num 2\n",
      " $ : num [1:2] 3 4\n"
     ]
    },
    {
     "data": {
      "text/html": [
       "\"list\""
      ],
      "text/latex": [
       "\"list\""
      ],
      "text/markdown": [
       "\"list\""
      ],
      "text/plain": [
       "[1] \"list\""
      ]
     },
     "execution_count": 32,
     "metadata": {},
     "output_type": "execute_result"
    },
    {
     "data": {
      "text/html": [
       "TRUE"
      ],
      "text/latex": [
       "TRUE"
      ],
      "text/markdown": [
       "TRUE"
      ],
      "text/plain": [
       "[1] TRUE"
      ]
     },
     "execution_count": 32,
     "metadata": {},
     "output_type": "execute_result"
    }
   ],
   "source": [
    "x <- list(list(1, 2), c(3, 4))\n",
    "y <- c(list(1, 2), c(3, 4))\n",
    "str(x)\n",
    "typeof(x)\n",
    "is.list(x)"
   ]
  },
  {
   "cell_type": "code",
   "execution_count": 33,
   "metadata": {
    "collapsed": false
   },
   "outputs": [
    {
     "name": "stdout",
     "output_type": "stream",
     "text": [
      "List of 4\n",
      " $ : num 1\n",
      " $ : num 2\n",
      " $ : num 3\n",
      " $ : num 4\n"
     ]
    },
    {
     "data": {
      "text/html": [
       "\"list\""
      ],
      "text/latex": [
       "\"list\""
      ],
      "text/markdown": [
       "\"list\""
      ],
      "text/plain": [
       "[1] \"list\""
      ]
     },
     "execution_count": 33,
     "metadata": {},
     "output_type": "execute_result"
    }
   ],
   "source": [
    "str(y)\n",
    "typeof(y)"
   ]
  },
  {
   "cell_type": "markdown",
   "metadata": {},
   "source": [
    "Las listas son usadas para construir estructura de datos más complicadas en R. Por ejemplo `data.frames` y los objetos de modelos lineales(`lm()`) son listas:"
   ]
  },
  {
   "cell_type": "code",
   "execution_count": 34,
   "metadata": {
    "collapsed": false
   },
   "outputs": [
    {
     "data": {
      "text/html": [
       "TRUE"
      ],
      "text/latex": [
       "TRUE"
      ],
      "text/markdown": [
       "TRUE"
      ],
      "text/plain": [
       "[1] TRUE"
      ]
     },
     "execution_count": 34,
     "metadata": {},
     "output_type": "execute_result"
    },
    {
     "data": {
      "text/html": [
       "TRUE"
      ],
      "text/latex": [
       "TRUE"
      ],
      "text/markdown": [
       "TRUE"
      ],
      "text/plain": [
       "[1] TRUE"
      ]
     },
     "execution_count": 34,
     "metadata": {},
     "output_type": "execute_result"
    }
   ],
   "source": [
    "is.list(mtcars)\n",
    "mod <- lm(mpg ~ wt, data = mtcars)\n",
    "is.list(mod)"
   ]
  },
  {
   "cell_type": "markdown",
   "metadata": {},
   "source": [
    "## Atributos\n",
    "\n",
    "Todos los objetos pueden tener atributos adicionales arbitrarios, que se utilizan para almacenar metadatos sobre el objeto. Los atributos pueden ser considerados como una lista con nombre (con nombres únicos). Los atributos se pueden acceder individualmente con `attr()` o todos a la vez (como una lista) con los `attributes()`.\n"
   ]
  },
  {
   "cell_type": "code",
   "execution_count": 35,
   "metadata": {
    "collapsed": false
   },
   "outputs": [
    {
     "data": {
      "text/html": [
       "\"Es un vector\""
      ],
      "text/latex": [
       "\"Es un vector\""
      ],
      "text/markdown": [
       "\"Es un vector\""
      ],
      "text/plain": [
       "[1] \"Es un vector\""
      ]
     },
     "execution_count": 35,
     "metadata": {},
     "output_type": "execute_result"
    },
    {
     "name": "stdout",
     "output_type": "stream",
     "text": [
      "List of 1\n",
      " $ un_atributo: chr \"Es un vector\"\n"
     ]
    },
    {
     "data": {
      "text/html": [
       "\"Ella es bella\""
      ],
      "text/latex": [
       "\"Ella es bella\""
      ],
      "text/markdown": [
       "\"Ella es bella\""
      ],
      "text/plain": [
       "[1] \"Ella es bella\""
      ]
     },
     "execution_count": 35,
     "metadata": {},
     "output_type": "execute_result"
    },
    {
     "name": "stdout",
     "output_type": "stream",
     "text": [
      "List of 1\n",
      " $ un atributo: chr \"Ella es bella\"\n"
     ]
    }
   ],
   "source": [
    "y <- 1:9\n",
    "attr(y, \"un_atributo\") <- \"Es un vector\"\n",
    "attr(y, \"un_atributo\")\n",
    "str(attributes(y))\n",
    "\n",
    "m <- \"Milagros\"\n",
    "attr(m, \"un atributo\") <- \"Ella es bella\"\n",
    "attr(m, \"un atributo\")\n",
    "str(attributes(m))"
   ]
  },
  {
   "cell_type": "markdown",
   "metadata": {},
   "source": [
    "La función `structure()` retorna un nuevo objeto, con atributos modificados:"
   ]
  },
  {
   "cell_type": "code",
   "execution_count": 36,
   "metadata": {
    "collapsed": false
   },
   "outputs": [
    {
     "data": {
      "text/html": [
       "<ol class=list-inline>\n",
       "\t<li>1</li>\n",
       "\t<li>2</li>\n",
       "\t<li>3</li>\n",
       "\t<li>4</li>\n",
       "\t<li>5</li>\n",
       "\t<li>6</li>\n",
       "\t<li>7</li>\n",
       "\t<li>8</li>\n",
       "\t<li>9</li>\n",
       "\t<li>10</li>\n",
       "</ol>\n"
      ],
      "text/latex": [
       "\\begin{enumerate*}\n",
       "\\item 1\n",
       "\\item 2\n",
       "\\item 3\n",
       "\\item 4\n",
       "\\item 5\n",
       "\\item 6\n",
       "\\item 7\n",
       "\\item 8\n",
       "\\item 9\n",
       "\\item 10\n",
       "\\end{enumerate*}\n"
      ],
      "text/markdown": [
       "1. 1\n",
       "2. 2\n",
       "3. 3\n",
       "4. 4\n",
       "5. 5\n",
       "6. 6\n",
       "7. 7\n",
       "8. 8\n",
       "9. 9\n",
       "10. 10\n",
       "\n",
       "\n"
      ],
      "text/plain": [
       " [1]  1  2  3  4  5  6  7  8  9 10\n",
       "attr(,\"my_attribute\")\n",
       "[1] \"Esto es un vector\""
      ]
     },
     "execution_count": 36,
     "metadata": {},
     "output_type": "execute_result"
    }
   ],
   "source": [
    "#help(structure)\n",
    "structure(1:10, my_attribute = \"Esto es un vector\")"
   ]
  },
  {
   "cell_type": "markdown",
   "metadata": {},
   "source": [
    "Por defecto muchos atributos están pérdidos cuando modificamos el  vector:\n"
   ]
  },
  {
   "cell_type": "code",
   "execution_count": 37,
   "metadata": {
    "collapsed": false
   },
   "outputs": [
    {
     "data": {
      "text/plain": [
       "NULL"
      ]
     },
     "execution_count": 37,
     "metadata": {},
     "output_type": "execute_result"
    },
    {
     "data": {
      "text/plain": [
       "NULL"
      ]
     },
     "execution_count": 37,
     "metadata": {},
     "output_type": "execute_result"
    }
   ],
   "source": [
    "attributes(y[1])\n",
    "attributes(sum(y))"
   ]
  },
  {
   "cell_type": "markdown",
   "metadata": {},
   "source": [
    "Los únicos atributos no perdidos son los tres más importantes:\n",
    "\n",
    "- Names, un vector de caracteres dando a cada elemento  un nombre.\n",
    "- Dimension, utilizado para convertir vectores en matrices y arrays.\n",
    "- Class, usado para implementar el sistema S3.\n",
    "\n",
    "Cada uno de estos atributos tiene una función específica de acceso para obtener y establecer los valores. Al trabajar con estos atributos, usa `names(x)`, `dim(x)`, y  `class(x)`, no `attr (x, \"name\")`, `attr (x, \"dim\")`, y `attr (x, \"class\")`.\n",
    "\n",
    "### Names\n",
    "\n",
    "Se puede nombrar un vector de tres manera\n",
    "\n",
    "- Cuando lo creas `x <- c(a = 1, b = 2, c = 3)`\n",
    "- Modificando un vector en su lugar `x <- 1:3; names(x) <- c(\"R\", \"C\", \"G\") `.\n",
    "- Creando una copia modificada de un vector `x <- setNames(1:3, c(\"R\", \"C\", \"G\"))`.\n",
    "\n",
    "\n",
    "\n",
    "No todos los elementos de un vector necesitan  tener un nombre. Si algún nombre falta, `name()` devolverá una cadena vacía para esos elementos. Si todos los nombres están pérdidos, `name()` devolverá NULL."
   ]
  },
  {
   "cell_type": "code",
   "execution_count": 38,
   "metadata": {
    "collapsed": false
   },
   "outputs": [
    {
     "data": {
      "text/html": [
       "<ol class=list-inline>\n",
       "\t<li>\"a\"</li>\n",
       "\t<li>\"\"</li>\n",
       "\t<li>\"\"</li>\n",
       "</ol>\n"
      ],
      "text/latex": [
       "\\begin{enumerate*}\n",
       "\\item \"a\"\n",
       "\\item \"\"\n",
       "\\item \"\"\n",
       "\\end{enumerate*}\n"
      ],
      "text/markdown": [
       "1. \"a\"\n",
       "2. \"\"\n",
       "3. \"\"\n",
       "\n",
       "\n"
      ],
      "text/plain": [
       "[1] \"a\" \"\"  \"\" "
      ]
     },
     "execution_count": 38,
     "metadata": {},
     "output_type": "execute_result"
    },
    {
     "data": {
      "text/plain": [
       "NULL"
      ]
     },
     "execution_count": 38,
     "metadata": {},
     "output_type": "execute_result"
    }
   ],
   "source": [
    "y <- c(a = 1, 2, 3)\n",
    "names(y)\n",
    "\n",
    "z <- c(1, 2, 3)\n",
    "names(z)"
   ]
  },
  {
   "cell_type": "markdown",
   "metadata": {},
   "source": [
    "Puedes crear un nuevo vector sin nombres utilizando `unname(x)`, o eliminar los nombres en su lugar con  `names(x) <- NULL`."
   ]
  },
  {
   "cell_type": "markdown",
   "metadata": {},
   "source": [
    "## Data Frame "
   ]
  },
  {
   "cell_type": "markdown",
   "metadata": {},
   "source": [
    "Un data frame  es la forma más común de almacenamiento de datos en R, y si se utiliza sistemáticamente hace que el análisis de datos sea más fácil como explica el artículo [datos ordenadados de Hadley Wickman](http://vita.had.co.nz/papers/tidy-data.pdf).\n",
    "\n",
    "Los data frame  son  una lista de vectores de la misma longitud, esto hace que sea una estructura de dos dimensiones, por lo que comparte propiedades tanto de las matrices y las listas. Esto significa que una data frames  tenga las funciones `names()`, `colnames()` y `rownames()`, aunque los `names()` y `colnames()` son la misma cosa. La `length()` de una data frame  es la longitud de la lista subyacente y así es el mismo valor  que produce `ncol()`; `nrow()` da el número de filas.\n",
    "\n",
    "Como se describe en subconjuntos, se puede tener un subconjunto  de un data frame como una estructura de una dimensión (donde se comporta como una lista), o una estructura de dos dimensiones (donde se comporta como una matriz)."
   ]
  },
  {
   "cell_type": "markdown",
   "metadata": {},
   "source": [
    "Se puede crear un data frame usando `data.frame()`, de la siguiente manera"
   ]
  },
  {
   "cell_type": "code",
   "execution_count": 39,
   "metadata": {
    "collapsed": false
   },
   "outputs": [
    {
     "data": {
      "text/html": [
       "\n",
       "<table width=\"100%\" summary=\"page for data.frame {base}\"><tr><td>data.frame {base}</td><td align=\"right\">R Documentation</td></tr></table>\n",
       "\n",
       "<h2>Data Frames</h2>\n",
       "\n",
       "<h3>Description</h3>\n",
       "\n",
       "<p>This function creates data frames, tightly coupled\n",
       "collections of variables which share many of the properties of\n",
       "matrices and of lists, used as the fundamental data structure by most\n",
       "of <font face=\"Courier New,Courier\" color=\"#666666\"><b>R</b></font>'s modeling software.\n",
       "</p>\n",
       "\n",
       "\n",
       "<h3>Usage</h3>\n",
       "\n",
       "<pre>\n",
       "data.frame(..., row.names = NULL, check.rows = FALSE,\n",
       "           check.names = TRUE,\n",
       "           stringsAsFactors = default.stringsAsFactors())\n",
       "\n",
       "default.stringsAsFactors()\n",
       "</pre>\n",
       "\n",
       "\n",
       "<h3>Arguments</h3>\n",
       "\n",
       "<table summary=\"R argblock\">\n",
       "<tr valign=\"top\"><td><code>...</code></td>\n",
       "<td>\n",
       "<p>these arguments are of either the form <code>value</code> or\n",
       "<code>tag = value</code>.  Component names are created based on the tag (if\n",
       "present) or the deparsed argument itself.</p>\n",
       "</td></tr>\n",
       "<tr valign=\"top\"><td><code>row.names</code></td>\n",
       "<td>\n",
       "<p><code>NULL</code> or a single integer or character string\n",
       "specifying a column to be used as row names, or a character or\n",
       "integer vector giving the row names for the data frame.</p>\n",
       "</td></tr>\n",
       "<tr valign=\"top\"><td><code>check.rows</code></td>\n",
       "<td>\n",
       "<p>if <code>TRUE</code> then the rows are checked for\n",
       "consistency of length and names.</p>\n",
       "</td></tr>\n",
       "<tr valign=\"top\"><td><code>check.names</code></td>\n",
       "<td>\n",
       "<p>logical.  If <code>TRUE</code> then the names of the\n",
       "variables in the data frame are checked to ensure that they are\n",
       "syntactically valid variable names and are not duplicated.\n",
       "If necessary they are adjusted (by <code>make.names</code>)\n",
       "so that they are.</p>\n",
       "</td></tr>\n",
       "<tr valign=\"top\"><td><code>stringsAsFactors</code></td>\n",
       "<td>\n",
       "<p>logical: should character vectors be converted\n",
       "to factors?  The &lsquo;factory-fresh&rsquo; default is <code>TRUE</code>, but\n",
       "this can be changed by setting <code>options(stringsAsFactors\n",
       "      = FALSE)</code>.</p>\n",
       "</td></tr>\n",
       "</table>\n",
       "\n",
       "\n",
       "<h3>Details</h3>\n",
       "\n",
       "<p>A data frame is a list of variables of the same number of rows with\n",
       "unique row names, given class <code>\"data.frame\"</code>.  If no variables\n",
       "are included, the row names determine the number of rows.\n",
       "</p>\n",
       "<p>The column names should be non-empty, and attempts to use empty names\n",
       "will have unsupported results.  Duplicate column names are allowed,\n",
       "but you need to use <code>check.names = FALSE</code> for <code>data.frame</code>\n",
       "to generate such a data frame.  However, not all operations on data\n",
       "frames will preserve duplicated column names: for example matrix-like\n",
       "subsetting will force column names in the result to be unique.\n",
       "</p>\n",
       "<p><code>data.frame</code> converts each of its arguments to a data frame by\n",
       "calling <code>as.data.frame(optional = TRUE)</code>.  As that is a\n",
       "generic function, methods can be written to change the behaviour of\n",
       "arguments according to their classes: <font face=\"Courier New,Courier\" color=\"#666666\"><b>R</b></font> comes with many such methods.\n",
       "Character variables passed to <code>data.frame</code> are converted to\n",
       "factor columns unless protected by <code>I</code> or argument\n",
       "<code>stringsAsFactors</code> is false.  If a list or data\n",
       "frame or matrix is passed to <code>data.frame</code> it is as if each\n",
       "component or column had been passed as a separate argument (except for\n",
       "matrices of class <code>\"model.matrix\"</code> and those protected by\n",
       "<code>I</code>).\n",
       "</p>\n",
       "<p>Objects passed to <code>data.frame</code> should have the same number of\n",
       "rows, but atomic vectors (see <code>is.vector</code>), factors and\n",
       "character vectors protected by <code>I</code> will be recycled a\n",
       "whole number of times if necessary (including as elements of list\n",
       "arguments).\n",
       "</p>\n",
       "<p>If row names are not supplied in the call to <code>data.frame</code>, the\n",
       "row names are taken from the first component that has suitable names,\n",
       "for example a named vector or a matrix with rownames or a data frame.\n",
       "(If that component is subsequently recycled, the names are discarded\n",
       "with a warning.)  If <code>row.names</code> was supplied as <code>NULL</code> or no\n",
       "suitable component was found the row names are the integer sequence\n",
       "starting at one (and such row names are considered to be\n",
       "&lsquo;automatic&rsquo;, and not preserved by <code>as.matrix</code>).\n",
       "</p>\n",
       "<p>If row names are supplied of length one and the data frame has a\n",
       "single row, the <code>row.names</code> is taken to specify the row names and\n",
       "not a column (by name or number).\n",
       "</p>\n",
       "<p>Names are removed from vector inputs not protected by <code>I</code>.\n",
       "</p>\n",
       "<p><code>default.stringsAsFactors</code> is a utility that takes\n",
       "<code>getOption(\"stringsAsFactors\")</code> and ensures the result is\n",
       "<code>TRUE</code> or <code>FALSE</code> (or throws an error if the value is not\n",
       "<code>NULL</code>).\n",
       "</p>\n",
       "\n",
       "\n",
       "<h3>Value</h3>\n",
       "\n",
       "<p>A data frame, a matrix-like structure whose columns may be of\n",
       "differing types (numeric, logical, factor and character and so on).\n",
       "</p>\n",
       "<p>How the names of the data frame are created is complex, and the rest\n",
       "of this paragraph is only the basic story.  If the arguments are all\n",
       "named and simple objects (not lists, matrices of data frames) then the\n",
       "argument names give the column names.  For an unnamed simple argument,\n",
       "a deparsed version of the argument is used as the name (with an\n",
       "enclosing <code>I(...)</code> removed).  For a named matrix/list/data frame\n",
       "argument with more than one named column, the names of the columns are\n",
       "the name of the argument followed by a dot and the column name inside\n",
       "the argument: if the argument is unnamed, the argument's column names\n",
       "are used.  For a named or unnamed matrix/list/data frame argument that\n",
       "contains a single column, the column name in the result is the column\n",
       "name in the argument.  Finally, the names are adjusted to be unique\n",
       "and syntactically valid unless <code>check.names = FALSE</code>.\n",
       "</p>\n",
       "\n",
       "\n",
       "<h3>Note</h3>\n",
       "\n",
       "<p>In versions of <font face=\"Courier New,Courier\" color=\"#666666\"><b>R</b></font> prior to 2.4.0 <code>row.names</code> had to be\n",
       "character: to ensure compatibility with such versions of <font face=\"Courier New,Courier\" color=\"#666666\"><b>R</b></font>, supply\n",
       "a character vector as the <code>row.names</code> argument.\n",
       "</p>\n",
       "\n",
       "\n",
       "<h3>References</h3>\n",
       "\n",
       "<p>Chambers, J. M. (1992)\n",
       "<EM>Data for models.</EM>\n",
       "Chapter 3 of <EM>Statistical Models in S</EM>\n",
       "eds J. M. Chambers and T. J. Hastie, Wadsworth &amp; Brooks/Cole.\n",
       "</p>\n",
       "\n",
       "\n",
       "<h3>See Also</h3>\n",
       "\n",
       "<p><code>I</code>,\n",
       "<code>plot.data.frame</code>,\n",
       "<code>print.data.frame</code>,\n",
       "<code>row.names</code>, <code>names</code> (for the column names),\n",
       "<code>[.data.frame</code> for subsetting methods,\n",
       "<code>Math.data.frame</code> etc, about\n",
       "<EM>Group</EM> methods for <code>data.frame</code>s;\n",
       "<code>read.table</code>,\n",
       "<code>make.names</code>.\n",
       "</p>\n",
       "\n",
       "\n",
       "<h3>Examples</h3>\n",
       "\n",
       "<pre>\n",
       "L3 &lt;- LETTERS[1:3]\n",
       "fac &lt;- sample(L3, 10, replace = TRUE)\n",
       "(d &lt;- data.frame(x = 1, y = 1:10, fac = fac))\n",
       "## The \"same\" with automatic column names:\n",
       "data.frame(1, 1:10, sample(L3, 10, replace = TRUE))\n",
       "\n",
       "is.data.frame(d)\n",
       "\n",
       "## do not convert to factor, using I() :\n",
       "(dd &lt;- cbind(d, char = I(letters[1:10])))\n",
       "rbind(class = sapply(dd, class), mode = sapply(dd, mode))\n",
       "\n",
       "stopifnot(1:10 == row.names(d))  # {coercion}\n",
       "\n",
       "(d0  &lt;- d[, FALSE])   # data frame with 0 columns and 10 rows\n",
       "(d.0 &lt;- d[FALSE, ])   # &lt;0 rows&gt; data frame  (3 named cols)\n",
       "(d00 &lt;- d0[FALSE, ])  # data frame with 0 columns and 0 rows\n",
       "</pre>\n",
       "\n",
       "<hr><div align=\"center\">[Package <em>base</em> version 3.1.3 ]</div>"
      ],
      "text/latex": [
       "\\inputencoding{utf8}\n",
       "\\HeaderA{data.frame}{Data Frames}{data.frame}\n",
       "\\aliasA{default.stringsAsFactors}{data.frame}{default.stringsAsFactors}\n",
       "\\keyword{classes}{data.frame}\n",
       "\\keyword{methods}{data.frame}\n",
       "%\n",
       "\\begin{Description}\\relax\n",
       "This function creates data frames, tightly coupled\n",
       "collections of variables which share many of the properties of\n",
       "matrices and of lists, used as the fundamental data structure by most\n",
       "of \\R{}'s modeling software.\n",
       "\\end{Description}\n",
       "%\n",
       "\\begin{Usage}\n",
       "\\begin{verbatim}\n",
       "data.frame(..., row.names = NULL, check.rows = FALSE,\n",
       "           check.names = TRUE,\n",
       "           stringsAsFactors = default.stringsAsFactors())\n",
       "\n",
       "default.stringsAsFactors()\n",
       "\\end{verbatim}\n",
       "\\end{Usage}\n",
       "%\n",
       "\\begin{Arguments}\n",
       "\\begin{ldescription}\n",
       "\\item[\\code{...}] these arguments are of either the form \\code{value} or\n",
       "\\code{tag = value}.  Component names are created based on the tag (if\n",
       "present) or the deparsed argument itself.\n",
       "\\item[\\code{row.names}] \\code{NULL} or a single integer or character string\n",
       "specifying a column to be used as row names, or a character or\n",
       "integer vector giving the row names for the data frame.\n",
       "\\item[\\code{check.rows}] if \\code{TRUE} then the rows are checked for\n",
       "consistency of length and names.\n",
       "\\item[\\code{check.names}] logical.  If \\code{TRUE} then the names of the\n",
       "variables in the data frame are checked to ensure that they are\n",
       "syntactically valid variable names and are not duplicated.\n",
       "If necessary they are adjusted (by \\code{\\LinkA{make.names}{make.names}})\n",
       "so that they are.\n",
       "\\item[\\code{stringsAsFactors}] logical: should character vectors be converted\n",
       "to factors?  The `factory-fresh' default is \\code{TRUE}, but\n",
       "this can be changed by setting \\code{\\LinkA{options}{options}(stringsAsFactors\n",
       "      = FALSE)}.\n",
       "\\end{ldescription}\n",
       "\\end{Arguments}\n",
       "%\n",
       "\\begin{Details}\\relax\n",
       "A data frame is a list of variables of the same number of rows with\n",
       "unique row names, given class \\code{\"data.frame\"}.  If no variables\n",
       "are included, the row names determine the number of rows.\n",
       "\n",
       "The column names should be non-empty, and attempts to use empty names\n",
       "will have unsupported results.  Duplicate column names are allowed,\n",
       "but you need to use \\code{check.names = FALSE} for \\code{data.frame}\n",
       "to generate such a data frame.  However, not all operations on data\n",
       "frames will preserve duplicated column names: for example matrix-like\n",
       "subsetting will force column names in the result to be unique.\n",
       "\n",
       "\\code{data.frame} converts each of its arguments to a data frame by\n",
       "calling \\code{\\LinkA{as.data.frame}{as.data.frame}(optional = TRUE)}.  As that is a\n",
       "generic function, methods can be written to change the behaviour of\n",
       "arguments according to their classes: \\R{} comes with many such methods.\n",
       "Character variables passed to \\code{data.frame} are converted to\n",
       "factor columns unless protected by \\code{\\LinkA{I}{I}} or argument\n",
       "\\code{stringsAsFactors} is false.  If a list or data\n",
       "frame or matrix is passed to \\code{data.frame} it is as if each\n",
       "component or column had been passed as a separate argument (except for\n",
       "matrices of class \\code{\"\\LinkA{model.matrix}{model.matrix}\"} and those protected by\n",
       "\\code{\\LinkA{I}{I}}).\n",
       "\n",
       "Objects passed to \\code{data.frame} should have the same number of\n",
       "rows, but atomic vectors (see \\code{\\LinkA{is.vector}{is.vector}}), factors and\n",
       "character vectors protected by \\code{\\LinkA{I}{I}} will be recycled a\n",
       "whole number of times if necessary (including as elements of list\n",
       "arguments).\n",
       "\n",
       "If row names are not supplied in the call to \\code{data.frame}, the\n",
       "row names are taken from the first component that has suitable names,\n",
       "for example a named vector or a matrix with rownames or a data frame.\n",
       "(If that component is subsequently recycled, the names are discarded\n",
       "with a warning.)  If \\code{row.names} was supplied as \\code{NULL} or no\n",
       "suitable component was found the row names are the integer sequence\n",
       "starting at one (and such row names are considered to be\n",
       "`automatic', and not preserved by \\code{\\LinkA{as.matrix}{as.matrix}}).\n",
       "\n",
       "If row names are supplied of length one and the data frame has a\n",
       "single row, the \\code{row.names} is taken to specify the row names and\n",
       "not a column (by name or number).\n",
       "\n",
       "Names are removed from vector inputs not protected by \\code{\\LinkA{I}{I}}.\n",
       "\n",
       "\\code{default.stringsAsFactors} is a utility that takes\n",
       "\\code{\\LinkA{getOption}{getOption}(\"stringsAsFactors\")} and ensures the result is\n",
       "\\code{TRUE} or \\code{FALSE} (or throws an error if the value is not\n",
       "\\code{NULL}).\n",
       "\\end{Details}\n",
       "%\n",
       "\\begin{Value}\n",
       "A data frame, a matrix-like structure whose columns may be of\n",
       "differing types (numeric, logical, factor and character and so on).\n",
       "\n",
       "How the names of the data frame are created is complex, and the rest\n",
       "of this paragraph is only the basic story.  If the arguments are all\n",
       "named and simple objects (not lists, matrices of data frames) then the\n",
       "argument names give the column names.  For an unnamed simple argument,\n",
       "a deparsed version of the argument is used as the name (with an\n",
       "enclosing \\code{I(...)} removed).  For a named matrix/list/data frame\n",
       "argument with more than one named column, the names of the columns are\n",
       "the name of the argument followed by a dot and the column name inside\n",
       "the argument: if the argument is unnamed, the argument's column names\n",
       "are used.  For a named or unnamed matrix/list/data frame argument that\n",
       "contains a single column, the column name in the result is the column\n",
       "name in the argument.  Finally, the names are adjusted to be unique\n",
       "and syntactically valid unless \\code{check.names = FALSE}.\n",
       "\\end{Value}\n",
       "%\n",
       "\\begin{Note}\\relax\n",
       "In versions of \\R{} prior to 2.4.0 \\code{row.names} had to be\n",
       "character: to ensure compatibility with such versions of \\R{}, supply\n",
       "a character vector as the \\code{row.names} argument.\n",
       "\\end{Note}\n",
       "%\n",
       "\\begin{References}\\relax\n",
       "Chambers, J. M. (1992)\n",
       "\\emph{Data for models.}\n",
       "Chapter 3 of \\emph{Statistical Models in S}\n",
       "eds J. M. Chambers and T. J. Hastie, Wadsworth \\& Brooks/Cole.\n",
       "\\end{References}\n",
       "%\n",
       "\\begin{SeeAlso}\\relax\n",
       "\\code{\\LinkA{I}{I}},\n",
       "\\code{\\LinkA{plot.data.frame}{plot.data.frame}},\n",
       "\\code{\\LinkA{print.data.frame}{print.data.frame}},\n",
       "\\code{\\LinkA{row.names}{row.names}}, \\code{\\LinkA{names}{names}} (for the column names),\n",
       "\\code{\\LinkA{[.data.frame}{[.data.frame}} for subsetting methods,\n",
       "\\code{\\LinkA{Math.data.frame}{Math.data.frame}} etc, about\n",
       "\\emph{Group} methods for \\code{data.frame}s;\n",
       "\\code{\\LinkA{read.table}{read.table}},\n",
       "\\code{\\LinkA{make.names}{make.names}}.\n",
       "\\end{SeeAlso}\n",
       "%\n",
       "\\begin{Examples}\n",
       "\\begin{ExampleCode}\n",
       "L3 <- LETTERS[1:3]\n",
       "fac <- sample(L3, 10, replace = TRUE)\n",
       "(d <- data.frame(x = 1, y = 1:10, fac = fac))\n",
       "## The \"same\" with automatic column names:\n",
       "data.frame(1, 1:10, sample(L3, 10, replace = TRUE))\n",
       "\n",
       "is.data.frame(d)\n",
       "\n",
       "## do not convert to factor, using I() :\n",
       "(dd <- cbind(d, char = I(letters[1:10])))\n",
       "rbind(class = sapply(dd, class), mode = sapply(dd, mode))\n",
       "\n",
       "stopifnot(1:10 == row.names(d))  # {coercion}\n",
       "\n",
       "(d0  <- d[, FALSE])   # data frame with 0 columns and 10 rows\n",
       "(d.0 <- d[FALSE, ])   # <0 rows> data frame  (3 named cols)\n",
       "(d00 <- d0[FALSE, ])  # data frame with 0 columns and 0 rows\n",
       "\\end{ExampleCode}\n",
       "\\end{Examples}"
      ],
      "text/plain": [
       "data.frame                package:base                 R Documentation\n",
       "\n",
       "_\bD_\ba_\bt_\ba _\bF_\br_\ba_\bm_\be_\bs\n",
       "\n",
       "_\bD_\be_\bs_\bc_\br_\bi_\bp_\bt_\bi_\bo_\bn:\n",
       "\n",
       "     This function creates data frames, tightly coupled collections of\n",
       "     variables which share many of the properties of matrices and of\n",
       "     lists, used as the fundamental data structure by most of R's\n",
       "     modeling software.\n",
       "\n",
       "_\bU_\bs_\ba_\bg_\be:\n",
       "\n",
       "     data.frame(..., row.names = NULL, check.rows = FALSE,\n",
       "                check.names = TRUE,\n",
       "                stringsAsFactors = default.stringsAsFactors())\n",
       "     \n",
       "     default.stringsAsFactors()\n",
       "     \n",
       "_\bA_\br_\bg_\bu_\bm_\be_\bn_\bt_\bs:\n",
       "\n",
       "     ...: these arguments are of either the form 'value' or 'tag =\n",
       "          value'.  Component names are created based on the tag (if\n",
       "          present) or the deparsed argument itself.\n",
       "\n",
       "row.names: 'NULL' or a single integer or character string specifying a\n",
       "          column to be used as row names, or a character or integer\n",
       "          vector giving the row names for the data frame.\n",
       "\n",
       "check.rows: if 'TRUE' then the rows are checked for consistency of\n",
       "          length and names.\n",
       "\n",
       "check.names: logical.  If 'TRUE' then the names of the variables in the\n",
       "          data frame are checked to ensure that they are syntactically\n",
       "          valid variable names and are not duplicated.  If necessary\n",
       "          they are adjusted (by 'make.names') so that they are.\n",
       "\n",
       "stringsAsFactors: logical: should character vectors be converted to\n",
       "          factors?  The 'factory-fresh' default is 'TRUE', but this can\n",
       "          be changed by setting 'options(stringsAsFactors = FALSE)'.\n",
       "\n",
       "_\bD_\be_\bt_\ba_\bi_\bl_\bs:\n",
       "\n",
       "     A data frame is a list of variables of the same number of rows\n",
       "     with unique row names, given class '\"data.frame\"'.  If no\n",
       "     variables are included, the row names determine the number of\n",
       "     rows.\n",
       "\n",
       "     The column names should be non-empty, and attempts to use empty\n",
       "     names will have unsupported results.  Duplicate column names are\n",
       "     allowed, but you need to use 'check.names = FALSE' for\n",
       "     'data.frame' to generate such a data frame.  However, not all\n",
       "     operations on data frames will preserve duplicated column names:\n",
       "     for example matrix-like subsetting will force column names in the\n",
       "     result to be unique.\n",
       "\n",
       "     'data.frame' converts each of its arguments to a data frame by\n",
       "     calling 'as.data.frame(optional = TRUE)'.  As that is a generic\n",
       "     function, methods can be written to change the behaviour of\n",
       "     arguments according to their classes: R comes with many such\n",
       "     methods.  Character variables passed to 'data.frame' are converted\n",
       "     to factor columns unless protected by 'I' or argument\n",
       "     'stringsAsFactors' is false.  If a list or data frame or matrix is\n",
       "     passed to 'data.frame' it is as if each component or column had\n",
       "     been passed as a separate argument (except for matrices of class\n",
       "     '\"model.matrix\"' and those protected by 'I').\n",
       "\n",
       "     Objects passed to 'data.frame' should have the same number of\n",
       "     rows, but atomic vectors (see 'is.vector'), factors and character\n",
       "     vectors protected by 'I' will be recycled a whole number of times\n",
       "     if necessary (including as elements of list arguments).\n",
       "\n",
       "     If row names are not supplied in the call to 'data.frame', the row\n",
       "     names are taken from the first component that has suitable names,\n",
       "     for example a named vector or a matrix with rownames or a data\n",
       "     frame.  (If that component is subsequently recycled, the names are\n",
       "     discarded with a warning.)  If 'row.names' was supplied as 'NULL'\n",
       "     or no suitable component was found the row names are the integer\n",
       "     sequence starting at one (and such row names are considered to be\n",
       "     'automatic', and not preserved by 'as.matrix').\n",
       "\n",
       "     If row names are supplied of length one and the data frame has a\n",
       "     single row, the 'row.names' is taken to specify the row names and\n",
       "     not a column (by name or number).\n",
       "\n",
       "     Names are removed from vector inputs not protected by 'I'.\n",
       "\n",
       "     'default.stringsAsFactors' is a utility that takes\n",
       "     'getOption(\"stringsAsFactors\")' and ensures the result is 'TRUE'\n",
       "     or 'FALSE' (or throws an error if the value is not 'NULL').\n",
       "\n",
       "_\bV_\ba_\bl_\bu_\be:\n",
       "\n",
       "     A data frame, a matrix-like structure whose columns may be of\n",
       "     differing types (numeric, logical, factor and character and so\n",
       "     on).\n",
       "\n",
       "     How the names of the data frame are created is complex, and the\n",
       "     rest of this paragraph is only the basic story.  If the arguments\n",
       "     are all named and simple objects (not lists, matrices of data\n",
       "     frames) then the argument names give the column names.  For an\n",
       "     unnamed simple argument, a deparsed version of the argument is\n",
       "     used as the name (with an enclosing 'I(...)' removed).  For a\n",
       "     named matrix/list/data frame argument with more than one named\n",
       "     column, the names of the columns are the name of the argument\n",
       "     followed by a dot and the column name inside the argument: if the\n",
       "     argument is unnamed, the argument's column names are used.  For a\n",
       "     named or unnamed matrix/list/data frame argument that contains a\n",
       "     single column, the column name in the result is the column name in\n",
       "     the argument.  Finally, the names are adjusted to be unique and\n",
       "     syntactically valid unless 'check.names = FALSE'.\n",
       "\n",
       "_\bN_\bo_\bt_\be:\n",
       "\n",
       "     In versions of R prior to 2.4.0 'row.names' had to be character:\n",
       "     to ensure compatibility with such versions of R, supply a\n",
       "     character vector as the 'row.names' argument.\n",
       "\n",
       "_\bR_\be_\bf_\be_\br_\be_\bn_\bc_\be_\bs:\n",
       "\n",
       "     Chambers, J. M. (1992) _Data for models._ Chapter 3 of\n",
       "     _Statistical Models in S_ eds J. M. Chambers and T. J. Hastie,\n",
       "     Wadsworth & Brooks/Cole.\n",
       "\n",
       "_\bS_\be_\be _\bA_\bl_\bs_\bo:\n",
       "\n",
       "     'I', 'plot.data.frame', 'print.data.frame', 'row.names', 'names'\n",
       "     (for the column names), '[.data.frame' for subsetting methods,\n",
       "     'Math.data.frame' etc, about _Group_ methods for 'data.frame's;\n",
       "     'read.table', 'make.names'.\n",
       "\n",
       "_\bE_\bx_\ba_\bm_\bp_\bl_\be_\bs:\n",
       "\n",
       "     L3 <- LETTERS[1:3]\n",
       "     fac <- sample(L3, 10, replace = TRUE)\n",
       "     (d <- data.frame(x = 1, y = 1:10, fac = fac))\n",
       "     ## The \"same\" with automatic column names:\n",
       "     data.frame(1, 1:10, sample(L3, 10, replace = TRUE))\n",
       "     \n",
       "     is.data.frame(d)\n",
       "     \n",
       "     ## do not convert to factor, using I() :\n",
       "     (dd <- cbind(d, char = I(letters[1:10])))\n",
       "     rbind(class = sapply(dd, class), mode = sapply(dd, mode))\n",
       "     \n",
       "     stopifnot(1:10 == row.names(d))  # {coercion}\n",
       "     \n",
       "     (d0  <- d[, FALSE])   # data frame with 0 columns and 10 rows\n",
       "     (d.0 <- d[FALSE, ])   # <0 rows> data frame  (3 named cols)\n",
       "     (d00 <- d0[FALSE, ])  # data frame with 0 columns and 0 rows\n",
       "     "
      ]
     },
     "execution_count": 39,
     "metadata": {},
     "output_type": "execute_result"
    }
   ],
   "source": [
    "help(data.frame)"
   ]
  },
  {
   "cell_type": "code",
   "execution_count": 40,
   "metadata": {
    "collapsed": false
   },
   "outputs": [
    {
     "name": "stdout",
     "output_type": "stream",
     "text": [
      "'data.frame':\t3 obs. of  2 variables:\n",
      " $ x: int  1 2 3\n",
      " $ y: Factor w/ 3 levels \"C\",\"Python\",\"R\": 2 3 1\n"
     ]
    }
   ],
   "source": [
    "df <- data.frame(x = 1:3, y = c(\"Python\", \"R\", \"C\"))\n",
    "str(df)"
   ]
  },
  {
   "cell_type": "markdown",
   "metadata": {},
   "source": [
    "Observación: El  comportamiento predeterminado de `data.frame()`  convierte cadenas en factores. \n",
    "\n",
    "Usamos `stringAsFactors = FALSE` para suprimir ese comportamiento:"
   ]
  },
  {
   "cell_type": "code",
   "execution_count": 41,
   "metadata": {
    "collapsed": false
   },
   "outputs": [
    {
     "name": "stdout",
     "output_type": "stream",
     "text": [
      "'data.frame':\t3 obs. of  2 variables:\n",
      " $ x: int  1 2 3\n",
      " $ y: chr  \"Python\" \"R\" \"C\"\n"
     ]
    }
   ],
   "source": [
    "df <- data.frame(\n",
    "  x = 1:3,\n",
    "  y = c(\"Python\", \"R\", \"C\"),\n",
    "  stringsAsFactors = FALSE)\n",
    "str(df)"
   ]
  },
  {
   "cell_type": "markdown",
   "metadata": {},
   "source": [
    "### Prueba y coección \n",
    "\n",
    "Debido a que un `data.frame` es una clase S3, su tipo refleja el vector subyacente utilizado para su construcción: **la lista**. Para comprobar si un objeto es un data.frame, usamos `class()` o una  prueba explícita con `is.data.frame()`:"
   ]
  },
  {
   "cell_type": "code",
   "execution_count": 42,
   "metadata": {
    "collapsed": false
   },
   "outputs": [
    {
     "data": {
      "text/html": [
       "\"list\""
      ],
      "text/latex": [
       "\"list\""
      ],
      "text/markdown": [
       "\"list\""
      ],
      "text/plain": [
       "[1] \"list\""
      ]
     },
     "execution_count": 42,
     "metadata": {},
     "output_type": "execute_result"
    },
    {
     "data": {
      "text/html": [
       "\"data.frame\""
      ],
      "text/latex": [
       "\"data.frame\""
      ],
      "text/markdown": [
       "\"data.frame\""
      ],
      "text/plain": [
       "[1] \"data.frame\""
      ]
     },
     "execution_count": 42,
     "metadata": {},
     "output_type": "execute_result"
    },
    {
     "data": {
      "text/html": [
       "TRUE"
      ],
      "text/latex": [
       "TRUE"
      ],
      "text/markdown": [
       "TRUE"
      ],
      "text/plain": [
       "[1] TRUE"
      ]
     },
     "execution_count": 42,
     "metadata": {},
     "output_type": "execute_result"
    }
   ],
   "source": [
    "typeof(df)\n",
    "class(df)\n",
    "is.data.frame(df)"
   ]
  },
  {
   "cell_type": "markdown",
   "metadata": {},
   "source": [
    "Puedes coaccionar un objeto a un data frame con `as.data.frame()`:\n",
    "\n",
    "1. Un vector creará un data frame  de una sola columna.\n",
    "\n",
    "2. Una lista creará una columna para cada elemento; es un error si todos no  son de la misma longitud.\n",
    "\n",
    "3. Una matriz creará un data frame  con el mismo número de columnas y filas que la matriz."
   ]
  },
  {
   "cell_type": "markdown",
   "metadata": {},
   "source": [
    "### Combinando data frames\n",
    "\n",
    "Podemos utilizar las funciones `cbind()` y `rbind()`: "
   ]
  },
  {
   "cell_type": "markdown",
   "metadata": {
    "collapsed": false
   },
   "source": [
    "```\n",
    "help(cbind)\n",
    "help(rbind)\n",
    "```"
   ]
  },
  {
   "cell_type": "code",
   "execution_count": 43,
   "metadata": {
    "collapsed": false
   },
   "outputs": [
    {
     "data": {
      "text/html": [
       "<table>\n",
       "<thead><tr><th></th><th scope=col>x</th><th scope=col>y</th><th scope=col>z</th></tr></thead>\n",
       "<tbody>\n",
       "\t<tr><th scope=row>1</th><td>1</td><td>Python</td><td>3</td></tr>\n",
       "\t<tr><th scope=row>2</th><td>2</td><td>R</td><td>2</td></tr>\n",
       "\t<tr><th scope=row>3</th><td>3</td><td>C</td><td>1</td></tr>\n",
       "</tbody>\n",
       "</table>\n"
      ],
      "text/latex": [
       "\\begin{tabular}{r|lll}\n",
       "  & x & y & z\\\\\n",
       "\\hline\n",
       "\t1 & 1 & Python & 3\\\\\n",
       "\t2 & 2 & R & 2\\\\\n",
       "\t3 & 3 & C & 1\\\\\n",
       "\\end{tabular}\n"
      ],
      "text/plain": [
       "  x      y z\n",
       "1 1 Python 3\n",
       "2 2      R 2\n",
       "3 3      C 1"
      ]
     },
     "execution_count": 43,
     "metadata": {},
     "output_type": "execute_result"
    },
    {
     "data": {
      "text/html": [
       "<table>\n",
       "<thead><tr><th></th><th scope=col>x</th><th scope=col>y</th></tr></thead>\n",
       "<tbody>\n",
       "\t<tr><th scope=row>1</th><td>1</td><td>Python</td></tr>\n",
       "\t<tr><th scope=row>2</th><td>2</td><td>R</td></tr>\n",
       "\t<tr><th scope=row>3</th><td>3</td><td>C</td></tr>\n",
       "\t<tr><th scope=row>4</th><td>10</td><td>z</td></tr>\n",
       "</tbody>\n",
       "</table>\n"
      ],
      "text/latex": [
       "\\begin{tabular}{r|ll}\n",
       "  & x & y\\\\\n",
       "\\hline\n",
       "\t1 & 1 & Python\\\\\n",
       "\t2 & 2 & R\\\\\n",
       "\t3 & 3 & C\\\\\n",
       "\t4 & 10 & z\\\\\n",
       "\\end{tabular}\n"
      ],
      "text/plain": [
       "   x      y\n",
       "1  1 Python\n",
       "2  2      R\n",
       "3  3      C\n",
       "4 10      z"
      ]
     },
     "execution_count": 43,
     "metadata": {},
     "output_type": "execute_result"
    }
   ],
   "source": [
    "# Un ejemplo del uso de cbind() y rbind()\n",
    "\n",
    "cbind(df, data.frame(z = 3:1))\n",
    "rbind(df, data.frame(x = 10, y = \"z\"))"
   ]
  },
  {
   "cell_type": "markdown",
   "metadata": {},
   "source": [
    "Cuando se combinan por columnas, el número de filas debe coincidir, pero los nombres de la fila son ignorados. Al combinar por filas , tanto el número y los nombres de columnas deben coincidir. \n",
    "\n",
    "\n",
    "Utiliza `plyr::rbind.fill()` para combinar data frames que no tienen las mismas columnas. Para conocer más acerca del paquete **plyr**, revisar el artículo de  Sean C. Anderson [plyr: Split-Apply-Combine for Mortals](http://seananderson.ca/2013/12/01/plyr.html).\n",
    "\n",
    "Es un error común para tratar de crear un data frame  con `cbind()`. Esto no funciona porque `cbind()` creará una matriz a menos que uno de los argumentos ya sea un data frame. En su lugar debemos utilizar `data.frame()` directamente:"
   ]
  },
  {
   "cell_type": "code",
   "execution_count": 44,
   "metadata": {
    "collapsed": false
   },
   "outputs": [
    {
     "name": "stdout",
     "output_type": "stream",
     "text": [
      "'data.frame':\t2 obs. of  2 variables:\n",
      " $ a: Factor w/ 2 levels \"1\",\"2\": 1 2\n",
      " $ b: Factor w/ 2 levels \"a\",\"b\": 1 2\n",
      "'data.frame':\t2 obs. of  2 variables:\n",
      " $ a: int  1 2\n",
      " $ b: chr  \"a\" \"b\"\n"
     ]
    }
   ],
   "source": [
    "mala <- data.frame(cbind(a = 1:2, b = c(\"a\", \"b\")))\n",
    "str(mala)\n",
    "good <- data.frame(a = 1:2, b = c(\"a\", \"b\"),\n",
    "  stringsAsFactors = FALSE)\n",
    "str(good)"
   ]
  },
  {
   "cell_type": "markdown",
   "metadata": {},
   "source": [
    "### Particularidades de las columnas\n",
    "\n",
    "Puesto que un data frame es una lista de vectores, es posible para un data frame  tener una columna que es una lista:"
   ]
  },
  {
   "cell_type": "code",
   "execution_count": 45,
   "metadata": {
    "collapsed": false
   },
   "outputs": [
    {
     "data": {
      "text/html": [
       "<table>\n",
       "<thead><tr><th></th><th scope=col>x</th><th scope=col>y</th></tr></thead>\n",
       "<tbody>\n",
       "\t<tr><th scope=row>1</th><td>1</td><td>1, 2</td></tr>\n",
       "\t<tr><th scope=row>2</th><td>2</td><td>1, 2, 3</td></tr>\n",
       "\t<tr><th scope=row>3</th><td>3</td><td>1, 2, 3, 4</td></tr>\n",
       "</tbody>\n",
       "</table>\n"
      ],
      "text/latex": [
       "\\begin{tabular}{r|ll}\n",
       "  & x & y\\\\\n",
       "\\hline\n",
       "\t1 & 1 & 1, 2\\\\\n",
       "\t2 & 2 & 1, 2, 3\\\\\n",
       "\t3 & 3 & 1, 2, 3, 4\\\\\n",
       "\\end{tabular}\n"
      ],
      "text/plain": [
       "  x          y\n",
       "1 1       1, 2\n",
       "2 2    1, 2, 3\n",
       "3 3 1, 2, 3, 4"
      ]
     },
     "execution_count": 45,
     "metadata": {},
     "output_type": "execute_result"
    }
   ],
   "source": [
    "df <- data.frame(x = 1:3)\n",
    "df$y <- list(1:2, 1:3, 1:4)\n",
    "df"
   ]
  },
  {
   "cell_type": "markdown",
   "metadata": {},
   "source": [
    "Sin embargo, cuando una lista se da a  `data.frame()`, se trata de poner cada elemento de la lista en su propia columna, por lo que esto falla:"
   ]
  },
  {
   "cell_type": "code",
   "execution_count": 46,
   "metadata": {
    "collapsed": false
   },
   "outputs": [
    {
     "ename": "ERROR",
     "evalue": "Error in data.frame(1:2, 1:3, 1:4, check.names = FALSE, stringsAsFactors = TRUE): arguments imply differing number of rows: 2, 3, 4\n",
     "output_type": "error",
     "traceback": [
      "Error in data.frame(1:2, 1:3, 1:4, check.names = FALSE, stringsAsFactors = TRUE): arguments imply differing number of rows: 2, 3, 4\n"
     ]
    }
   ],
   "source": [
    "data.frame(x = 1:3, y = list(1:2, 1:3, 1:4))"
   ]
  },
  {
   "cell_type": "markdown",
   "metadata": {},
   "source": [
    "Una solución es utilizar `I()`, lo que provoca que `data.frame()` trate una lista como una unidad:"
   ]
  },
  {
   "cell_type": "code",
   "execution_count": 47,
   "metadata": {
    "collapsed": false
   },
   "outputs": [
    {
     "name": "stdout",
     "output_type": "stream",
     "text": [
      "'data.frame':\t3 obs. of  2 variables:\n",
      " $ x: int  1 2 3\n",
      " $ y:List of 3\n",
      "  ..$ : int  1 2\n",
      "  ..$ : int  1 2 3\n",
      "  ..$ : int  1 2 3 4\n",
      "  ..- attr(*, \"class\")= chr \"AsIs\"\n"
     ]
    },
    {
     "data": {
      "text/plain": [
       "[[1]]\n",
       "[1] 1 2 3\n"
      ]
     },
     "execution_count": 47,
     "metadata": {},
     "output_type": "execute_result"
    }
   ],
   "source": [
    "dfl <- data.frame(x = 1:3, y = I(list(1:2, 1:3, 1:4)))\n",
    "str(dfl)\n",
    "dfl[2, \"y\"]"
   ]
  },
  {
   "cell_type": "markdown",
   "metadata": {},
   "source": [
    "Del mismo modo, también es posible tener una columna de un data frame  que es una matriz o un array , siempre y cuando el número de filas coincide con el data frame:"
   ]
  },
  {
   "cell_type": "code",
   "execution_count": 48,
   "metadata": {
    "collapsed": false
   },
   "outputs": [
    {
     "name": "stdout",
     "output_type": "stream",
     "text": [
      "'data.frame':\t3 obs. of  2 variables:\n",
      " $ x: int  1 2 3\n",
      " $ y: 'AsIs' int [1:3, 1:3] 1 2 3 4 5 6 7 8 9\n"
     ]
    },
    {
     "data": {
      "text/plain": [
       "     [,1] [,2] [,3]\n",
       "[1,]    2    5    8"
      ]
     },
     "execution_count": 48,
     "metadata": {},
     "output_type": "execute_result"
    }
   ],
   "source": [
    "dfm <- data.frame(x = 1:3, y = I(matrix(1:9, nrow = 3)))\n",
    "str(dfm)\n",
    "dfm[2, \"y\"]"
   ]
  },
  {
   "cell_type": "markdown",
   "metadata": {},
   "source": [
    "Utilice la lista y columnas de matrices con precaución: muchas funciones que trabajan con data frame, suponen que todas las columnas son vectores."
   ]
  },
  {
   "cell_type": "markdown",
   "metadata": {},
   "source": [
    "## Subconjuntos de Data Frame\n",
    "\n",
    "Los data frames  poseen las características de  listas y matrices: si tienes un subconjunto con un solo vector, se comportan como una  lista; si el subconjunto tiene  dos vectores, se comporta como  una matriz."
   ]
  },
  {
   "cell_type": "code",
   "execution_count": 49,
   "metadata": {
    "collapsed": false
   },
   "outputs": [
    {
     "data": {
      "text/html": [
       "<table>\n",
       "<thead><tr><th></th><th scope=col>x</th><th scope=col>y</th><th scope=col>z</th></tr></thead>\n",
       "<tbody>\n",
       "\t<tr><th scope=row>2</th><td>2</td><td>2</td><td>b</td></tr>\n",
       "</tbody>\n",
       "</table>\n"
      ],
      "text/latex": [
       "\\begin{tabular}{r|lll}\n",
       "  & x & y & z\\\\\n",
       "\\hline\n",
       "\t2 & 2 & 2 & b\\\\\n",
       "\\end{tabular}\n"
      ],
      "text/plain": [
       "  x y z\n",
       "2 2 2 b"
      ]
     },
     "execution_count": 49,
     "metadata": {},
     "output_type": "execute_result"
    },
    {
     "data": {
      "text/html": [
       "<table>\n",
       "<thead><tr><th></th><th scope=col>x</th><th scope=col>y</th><th scope=col>z</th></tr></thead>\n",
       "<tbody>\n",
       "\t<tr><th scope=row>1</th><td>1</td><td>3</td><td>a</td></tr>\n",
       "\t<tr><th scope=row>3</th><td>3</td><td>1</td><td>c</td></tr>\n",
       "</tbody>\n",
       "</table>\n"
      ],
      "text/latex": [
       "\\begin{tabular}{r|lll}\n",
       "  & x & y & z\\\\\n",
       "\\hline\n",
       "\t1 & 1 & 3 & a\\\\\n",
       "\t3 & 3 & 1 & c\\\\\n",
       "\\end{tabular}\n"
      ],
      "text/plain": [
       "  x y z\n",
       "1 1 3 a\n",
       "3 3 1 c"
      ]
     },
     "execution_count": 49,
     "metadata": {},
     "output_type": "execute_result"
    },
    {
     "data": {
      "text/html": [
       "<table>\n",
       "<thead><tr><th></th><th scope=col>x</th><th scope=col>z</th></tr></thead>\n",
       "<tbody>\n",
       "\t<tr><th scope=row>1</th><td>1</td><td>a</td></tr>\n",
       "\t<tr><th scope=row>2</th><td>2</td><td>b</td></tr>\n",
       "\t<tr><th scope=row>3</th><td>3</td><td>c</td></tr>\n",
       "</tbody>\n",
       "</table>\n"
      ],
      "text/latex": [
       "\\begin{tabular}{r|ll}\n",
       "  & x & z\\\\\n",
       "\\hline\n",
       "\t1 & 1 & a\\\\\n",
       "\t2 & 2 & b\\\\\n",
       "\t3 & 3 & c\\\\\n",
       "\\end{tabular}\n"
      ],
      "text/plain": [
       "  x z\n",
       "1 1 a\n",
       "2 2 b\n",
       "3 3 c"
      ]
     },
     "execution_count": 49,
     "metadata": {},
     "output_type": "execute_result"
    },
    {
     "data": {
      "text/html": [
       "<table>\n",
       "<thead><tr><th></th><th scope=col>x</th><th scope=col>z</th></tr></thead>\n",
       "<tbody>\n",
       "\t<tr><th scope=row>1</th><td>1</td><td>a</td></tr>\n",
       "\t<tr><th scope=row>2</th><td>2</td><td>b</td></tr>\n",
       "\t<tr><th scope=row>3</th><td>3</td><td>c</td></tr>\n",
       "</tbody>\n",
       "</table>\n"
      ],
      "text/latex": [
       "\\begin{tabular}{r|ll}\n",
       "  & x & z\\\\\n",
       "\\hline\n",
       "\t1 & 1 & a\\\\\n",
       "\t2 & 2 & b\\\\\n",
       "\t3 & 3 & c\\\\\n",
       "\\end{tabular}\n"
      ],
      "text/plain": [
       "  x z\n",
       "1 1 a\n",
       "2 2 b\n",
       "3 3 c"
      ]
     },
     "execution_count": 49,
     "metadata": {},
     "output_type": "execute_result"
    },
    {
     "name": "stdout",
     "output_type": "stream",
     "text": [
      "'data.frame':\t3 obs. of  1 variable:\n",
      " $ x: int  1 2 3\n",
      " int [1:3] 1 2 3\n"
     ]
    }
   ],
   "source": [
    "df <- data.frame(x = 1:3, y = 3:1, z = letters[1:3])\n",
    "\n",
    "df[df$x == 2, ]\n",
    "df[c(1,3),]\n",
    "\n",
    "# Hay dos maneras de seleccionar columnas desde un data frame\n",
    "# como una lista\n",
    "df[c(\"x\", \"z\")] \n",
    "\n",
    "#como una matriz\n",
    "df[, c(\"x\", \"z\")]\n",
    "\n",
    "# Diferencias de seleccionar una unica columna\n",
    "str(df[\"x\"])\n",
    "str(df[, \"x\"])"
   ]
  },
  {
   "cell_type": "code",
   "execution_count": 50,
   "metadata": {
    "collapsed": false
   },
   "outputs": [
    {
     "name": "stdout",
     "output_type": "stream",
     "text": [
      "'data.frame':\t2 obs. of  1 variable:\n",
      " $ a: int  1 2\n",
      " int [1:2] 1 2\n",
      "'data.frame':\t2 obs. of  1 variable:\n",
      " $ a: int  1 2\n",
      " int [1:2] 1 2\n"
     ]
    }
   ],
   "source": [
    "df <- data.frame(a = 1:2, b = 1:2)\n",
    "str(df[1])\n",
    "str(df[[1]])\n",
    "str(df[, \"a\", drop = FALSE])\n",
    "str(df[, \"a\"])"
   ]
  },
  {
   "cell_type": "code",
   "execution_count": 51,
   "metadata": {
    "collapsed": false
   },
   "outputs": [
    {
     "data": {
      "text/html": [
       "<ol class=list-inline>\n",
       "\t<li>0</li>\n",
       "\t<li>10</li>\n",
       "\t<li>NA</li>\n",
       "</ol>\n"
      ],
      "text/latex": [
       "\\begin{enumerate*}\n",
       "\\item 0\n",
       "\\item 10\n",
       "\\item NA\n",
       "\\end{enumerate*}\n"
      ],
      "text/markdown": [
       "1. 0\n",
       "2. 10\n",
       "3. NA\n",
       "\n",
       "\n"
      ],
      "text/plain": [
       "[1]  0 10 NA"
      ]
     },
     "execution_count": 51,
     "metadata": {},
     "output_type": "execute_result"
    }
   ],
   "source": [
    "# Subconjuntos de data frame es útil en la  modificacion \n",
    "# condicional de vectores\n",
    "\n",
    "df1 <- data.frame(a = c(1, 10, NA))\n",
    "df1$a[df1$a < 5] <- 0\n",
    "df1$a"
   ]
  },
  {
   "cell_type": "markdown",
   "metadata": {},
   "source": [
    " Fijese en las dos declaraciones mtcars permanecerán como un data frame.  En el segundo, mtcars se convertirá en una lista.\n",
    "```\n",
    "mtcars[] <- lapply(mtcars, as.integer)\n",
    "\n",
    "mtcars <- lapply(mtcars, as.integer)\n",
    "```"
   ]
  },
  {
   "cell_type": "markdown",
   "metadata": {},
   "source": [
    "## Enlazando y Mezclando\n",
    "\n",
    "Si  tienes una tabla de búsqueda más complicada que tiene varias columnas de información y  tenemos un vector de grados enteros, y una tabla que describe sus propiedades.\n",
    "\n",
    "Si queremos duplicar la tabla de información de modo que tenemos una fila para cada valor en `grados`, podemos hacerlo de dos maneras, ya sea usando `match()` y subconjuntos  de entero o `rownames()` y subconjuntos de caracteres:\n",
    "\n",
    "```\n",
    "help(match)\n",
    "```"
   ]
  },
  {
   "cell_type": "code",
   "execution_count": 52,
   "metadata": {
    "collapsed": false
   },
   "outputs": [
    {
     "data": {
      "text/html": [
       "<ol class=list-inline>\n",
       "\t<li>1</li>\n",
       "\t<li>2</li>\n",
       "\t<li>2</li>\n",
       "\t<li>3</li>\n",
       "\t<li>1</li>\n",
       "</ol>\n"
      ],
      "text/latex": [
       "\\begin{enumerate*}\n",
       "\\item 1\n",
       "\\item 2\n",
       "\\item 2\n",
       "\\item 3\n",
       "\\item 1\n",
       "\\end{enumerate*}\n"
      ],
      "text/markdown": [
       "1. 1\n",
       "2. 2\n",
       "3. 2\n",
       "4. 3\n",
       "5. 1\n",
       "\n",
       "\n"
      ],
      "text/plain": [
       "[1] 1 2 2 3 1"
      ]
     },
     "execution_count": 52,
     "metadata": {},
     "output_type": "execute_result"
    },
    {
     "data": {
      "text/html": [
       "<table>\n",
       "<thead><tr><th></th><th scope=col>grados</th><th scope=col>desc</th><th scope=col>f</th></tr></thead>\n",
       "<tbody>\n",
       "\t<tr><th scope=row>3</th><td>1</td><td>Pobre</td><td>TRUE</td></tr>\n",
       "\t<tr><th scope=row>2</th><td>2</td><td>Bueno</td><td>FALSE</td></tr>\n",
       "\t<tr><th scope=row>2.1</th><td>2</td><td>Bueno</td><td>FALSE</td></tr>\n",
       "\t<tr><th scope=row>1</th><td>3</td><td>Excelente</td><td>FALSE</td></tr>\n",
       "\t<tr><th scope=row>3.1</th><td>1</td><td>Pobre</td><td>TRUE</td></tr>\n",
       "</tbody>\n",
       "</table>\n"
      ],
      "text/latex": [
       "\\begin{tabular}{r|lll}\n",
       "  & grados & desc & f\\\\\n",
       "\\hline\n",
       "\t3 & 1 & Pobre & TRUE\\\\\n",
       "\t2 & 2 & Bueno & FALSE\\\\\n",
       "\t2.1 & 2 & Bueno & FALSE\\\\\n",
       "\t1 & 3 & Excelente & FALSE\\\\\n",
       "\t3.1 & 1 & Pobre & TRUE\\\\\n",
       "\\end{tabular}\n"
      ],
      "text/plain": [
       "    grados      desc     f\n",
       "3        1     Pobre  TRUE\n",
       "2        2     Bueno FALSE\n",
       "2.1      2     Bueno FALSE\n",
       "1        3 Excelente FALSE\n",
       "3.1      1     Pobre  TRUE"
      ]
     },
     "execution_count": 52,
     "metadata": {},
     "output_type": "execute_result"
    },
    {
     "data": {
      "text/html": [
       "<table>\n",
       "<thead><tr><th></th><th scope=col>grados</th><th scope=col>desc</th><th scope=col>f</th></tr></thead>\n",
       "<tbody>\n",
       "\t<tr><th scope=row>1</th><td>1</td><td>Pobre</td><td>TRUE</td></tr>\n",
       "\t<tr><th scope=row>2</th><td>2</td><td>Bueno</td><td>FALSE</td></tr>\n",
       "\t<tr><th scope=row>2.1</th><td>2</td><td>Bueno</td><td>FALSE</td></tr>\n",
       "\t<tr><th scope=row>3</th><td>3</td><td>Excelente</td><td>FALSE</td></tr>\n",
       "\t<tr><th scope=row>1.1</th><td>1</td><td>Pobre</td><td>TRUE</td></tr>\n",
       "</tbody>\n",
       "</table>\n"
      ],
      "text/latex": [
       "\\begin{tabular}{r|lll}\n",
       "  & grados & desc & f\\\\\n",
       "\\hline\n",
       "\t1 & 1 & Pobre & TRUE\\\\\n",
       "\t2 & 2 & Bueno & FALSE\\\\\n",
       "\t2.1 & 2 & Bueno & FALSE\\\\\n",
       "\t3 & 3 & Excelente & FALSE\\\\\n",
       "\t1.1 & 1 & Pobre & TRUE\\\\\n",
       "\\end{tabular}\n"
      ],
      "text/plain": [
       "    grados      desc     f\n",
       "1        1     Pobre  TRUE\n",
       "2        2     Bueno FALSE\n",
       "2.1      2     Bueno FALSE\n",
       "3        3 Excelente FALSE\n",
       "1.1      1     Pobre  TRUE"
      ]
     },
     "execution_count": 52,
     "metadata": {},
     "output_type": "execute_result"
    }
   ],
   "source": [
    "\n",
    "grados <- c(1, 2, 2, 3, 1)\n",
    "\n",
    "info <- data.frame(\n",
    "  grados = 3:1,\n",
    "  desc = c(\"Excelente\", \"Bueno\", \"Pobre\"),\n",
    "  f = c(F, F, T)\n",
    ")\n",
    "grados\n",
    "id <- match(grados, info$grados)\n",
    "info[id, ]\n",
    "rownames(info) <- info$grados\n",
    "info[as.character(grados), ]"
   ]
  },
  {
   "cell_type": "markdown",
   "metadata": {},
   "source": [
    "Si tiene varias columnas que enlazar, tendrás que contraerlos primero en una sola columna (con `interaction ()`, `paste()`, o `plyr::id()`). También se puede utilizar  `merge()` o `plyr::join()`, que hace lo mismo."
   ]
  },
  {
   "cell_type": "markdown",
   "metadata": {},
   "source": [
    "## Muestras aleatorias/Boostrap\n",
    "\n",
    "Se pueden  utilizar índices enteros para realizar un muestreo aleatorio o bootstrapping de un data frame  o de un vector. `sample()` genera un vector de índices, entonces usamos subconjuntos para acceder a los valores:"
   ]
  },
  {
   "cell_type": "code",
   "execution_count": 53,
   "metadata": {
    "collapsed": false
   },
   "outputs": [
    {
     "data": {
      "text/html": [
       "<table>\n",
       "<thead><tr><th></th><th scope=col>x</th><th scope=col>y</th><th scope=col>z</th></tr></thead>\n",
       "<tbody>\n",
       "\t<tr><th scope=row>4</th><td>2</td><td>3</td><td>d</td></tr>\n",
       "\t<tr><th scope=row>2</th><td>1</td><td>5</td><td>b</td></tr>\n",
       "\t<tr><th scope=row>5</th><td>3</td><td>2</td><td>e</td></tr>\n",
       "\t<tr><th scope=row>3</th><td>2</td><td>4</td><td>c</td></tr>\n",
       "\t<tr><th scope=row>1</th><td>1</td><td>6</td><td>a</td></tr>\n",
       "\t<tr><th scope=row>6</th><td>3</td><td>1</td><td>f</td></tr>\n",
       "</tbody>\n",
       "</table>\n"
      ],
      "text/latex": [
       "\\begin{tabular}{r|lll}\n",
       "  & x & y & z\\\\\n",
       "\\hline\n",
       "\t4 & 2 & 3 & d\\\\\n",
       "\t2 & 1 & 5 & b\\\\\n",
       "\t5 & 3 & 2 & e\\\\\n",
       "\t3 & 2 & 4 & c\\\\\n",
       "\t1 & 1 & 6 & a\\\\\n",
       "\t6 & 3 & 1 & f\\\\\n",
       "\\end{tabular}\n"
      ],
      "text/plain": [
       "  x y z\n",
       "4 2 3 d\n",
       "2 1 5 b\n",
       "5 3 2 e\n",
       "3 2 4 c\n",
       "1 1 6 a\n",
       "6 3 1 f"
      ]
     },
     "execution_count": 53,
     "metadata": {},
     "output_type": "execute_result"
    },
    {
     "data": {
      "text/html": [
       "<table>\n",
       "<thead><tr><th></th><th scope=col>x</th><th scope=col>y</th><th scope=col>z</th></tr></thead>\n",
       "<tbody>\n",
       "\t<tr><th scope=row>2</th><td>1</td><td>5</td><td>b</td></tr>\n",
       "\t<tr><th scope=row>6</th><td>3</td><td>1</td><td>f</td></tr>\n",
       "\t<tr><th scope=row>3</th><td>2</td><td>4</td><td>c</td></tr>\n",
       "</tbody>\n",
       "</table>\n"
      ],
      "text/latex": [
       "\\begin{tabular}{r|lll}\n",
       "  & x & y & z\\\\\n",
       "\\hline\n",
       "\t2 & 1 & 5 & b\\\\\n",
       "\t6 & 3 & 1 & f\\\\\n",
       "\t3 & 2 & 4 & c\\\\\n",
       "\\end{tabular}\n"
      ],
      "text/plain": [
       "  x y z\n",
       "2 1 5 b\n",
       "6 3 1 f\n",
       "3 2 4 c"
      ]
     },
     "execution_count": 53,
     "metadata": {},
     "output_type": "execute_result"
    },
    {
     "data": {
      "text/html": [
       "<table>\n",
       "<thead><tr><th></th><th scope=col>x</th><th scope=col>y</th><th scope=col>z</th></tr></thead>\n",
       "<tbody>\n",
       "\t<tr><th scope=row>3</th><td>2</td><td>4</td><td>c</td></tr>\n",
       "\t<tr><th scope=row>4</th><td>2</td><td>3</td><td>d</td></tr>\n",
       "\t<tr><th scope=row>4.1</th><td>2</td><td>3</td><td>d</td></tr>\n",
       "\t<tr><th scope=row>1</th><td>1</td><td>6</td><td>a</td></tr>\n",
       "\t<tr><th scope=row>4.2</th><td>2</td><td>3</td><td>d</td></tr>\n",
       "\t<tr><th scope=row>3.1</th><td>2</td><td>4</td><td>c</td></tr>\n",
       "</tbody>\n",
       "</table>\n"
      ],
      "text/latex": [
       "\\begin{tabular}{r|lll}\n",
       "  & x & y & z\\\\\n",
       "\\hline\n",
       "\t3 & 2 & 4 & c\\\\\n",
       "\t4 & 2 & 3 & d\\\\\n",
       "\t4.1 & 2 & 3 & d\\\\\n",
       "\t1 & 1 & 6 & a\\\\\n",
       "\t4.2 & 2 & 3 & d\\\\\n",
       "\t3.1 & 2 & 4 & c\\\\\n",
       "\\end{tabular}\n"
      ],
      "text/plain": [
       "    x y z\n",
       "3   2 4 c\n",
       "4   2 3 d\n",
       "4.1 2 3 d\n",
       "1   1 6 a\n",
       "4.2 2 3 d\n",
       "3.1 2 4 c"
      ]
     },
     "execution_count": 53,
     "metadata": {},
     "output_type": "execute_result"
    }
   ],
   "source": [
    "#help(sample)\n",
    "#help(set.seed)\n",
    "\n",
    "dfr <- data.frame(x = rep(1:3, each = 2), y = 6:1, z = letters[1:6])\n",
    "set.seed(10)\n",
    "\n",
    "# Reordenar de forma aleatoria\n",
    "dfr[sample(nrow(dfr)), ]\n",
    "\n",
    "# Seleccionamos al azar 3 filas\n",
    "dfr[sample(nrow(dfr), 3), ]\n",
    "\n",
    "# Seleccionamos 6 replicaciones boostrap\n",
    "dfr[sample(nrow(dfr), 6, rep = T), ]"
   ]
  },
  {
   "cell_type": "markdown",
   "metadata": {},
   "source": [
    "Los argumentos de  `sample()` controlan el número de muestras a extraer, y si el muestreo se realiza con o sin reemplazo."
   ]
  },
  {
   "cell_type": "markdown",
   "metadata": {},
   "source": [
    "## Eliminando columnas de un Data Frame \n",
    "\n",
    "Existen varias formas de eliminar una columna de un data frame. Poniendo la columna de forma individual a NULL."
   ]
  },
  {
   "cell_type": "code",
   "execution_count": 54,
   "metadata": {
    "collapsed": false
   },
   "outputs": [
    {
     "data": {
      "text/html": [
       "<table>\n",
       "<thead><tr><th></th><th scope=col>x</th><th scope=col>y</th><th scope=col>z</th></tr></thead>\n",
       "<tbody>\n",
       "\t<tr><th scope=row>1</th><td>1</td><td>3</td><td>a</td></tr>\n",
       "\t<tr><th scope=row>2</th><td>2</td><td>2</td><td>b</td></tr>\n",
       "\t<tr><th scope=row>3</th><td>3</td><td>1</td><td>c</td></tr>\n",
       "</tbody>\n",
       "</table>\n"
      ],
      "text/latex": [
       "\\begin{tabular}{r|lll}\n",
       "  & x & y & z\\\\\n",
       "\\hline\n",
       "\t1 & 1 & 3 & a\\\\\n",
       "\t2 & 2 & 2 & b\\\\\n",
       "\t3 & 3 & 1 & c\\\\\n",
       "\\end{tabular}\n"
      ],
      "text/plain": [
       "  x y z\n",
       "1 1 3 a\n",
       "2 2 2 b\n",
       "3 3 1 c"
      ]
     },
     "execution_count": 54,
     "metadata": {},
     "output_type": "execute_result"
    },
    {
     "data": {
      "text/html": [
       "<table>\n",
       "<thead><tr><th></th><th scope=col>x</th><th scope=col>y</th></tr></thead>\n",
       "<tbody>\n",
       "\t<tr><th scope=row>1</th><td>1</td><td>3</td></tr>\n",
       "\t<tr><th scope=row>2</th><td>2</td><td>2</td></tr>\n",
       "\t<tr><th scope=row>3</th><td>3</td><td>1</td></tr>\n",
       "</tbody>\n",
       "</table>\n"
      ],
      "text/latex": [
       "\\begin{tabular}{r|ll}\n",
       "  & x & y\\\\\n",
       "\\hline\n",
       "\t1 & 1 & 3\\\\\n",
       "\t2 & 2 & 2\\\\\n",
       "\t3 & 3 & 1\\\\\n",
       "\\end{tabular}\n"
      ],
      "text/plain": [
       "  x y\n",
       "1 1 3\n",
       "2 2 2\n",
       "3 3 1"
      ]
     },
     "execution_count": 54,
     "metadata": {},
     "output_type": "execute_result"
    }
   ],
   "source": [
    "dfr <- data.frame(x = 1:3, y = 3:1, z = letters[1:3])\n",
    "dfr\n",
    "dfr$z <- NULL\n",
    "dfr"
   ]
  },
  {
   "cell_type": "code",
   "execution_count": 55,
   "metadata": {
    "collapsed": false
   },
   "outputs": [
    {
     "data": {
      "text/html": [
       "<table>\n",
       "<thead><tr><th></th><th scope=col>x</th><th scope=col>y</th><th scope=col>z</th></tr></thead>\n",
       "<tbody>\n",
       "\t<tr><th scope=row>1</th><td>1</td><td>3</td><td>a</td></tr>\n",
       "\t<tr><th scope=row>2</th><td>2</td><td>2</td><td>b</td></tr>\n",
       "\t<tr><th scope=row>3</th><td>3</td><td>1</td><td>c</td></tr>\n",
       "</tbody>\n",
       "</table>\n"
      ],
      "text/latex": [
       "\\begin{tabular}{r|lll}\n",
       "  & x & y & z\\\\\n",
       "\\hline\n",
       "\t1 & 1 & 3 & a\\\\\n",
       "\t2 & 2 & 2 & b\\\\\n",
       "\t3 & 3 & 1 & c\\\\\n",
       "\\end{tabular}\n"
      ],
      "text/plain": [
       "  x y z\n",
       "1 1 3 a\n",
       "2 2 2 b\n",
       "3 3 1 c"
      ]
     },
     "execution_count": 55,
     "metadata": {},
     "output_type": "execute_result"
    },
    {
     "data": {
      "text/html": [
       "<table>\n",
       "<thead><tr><th></th><th scope=col>x</th><th scope=col>y</th></tr></thead>\n",
       "<tbody>\n",
       "\t<tr><th scope=row>1</th><td>1</td><td>3</td></tr>\n",
       "\t<tr><th scope=row>2</th><td>2</td><td>2</td></tr>\n",
       "\t<tr><th scope=row>3</th><td>3</td><td>1</td></tr>\n",
       "</tbody>\n",
       "</table>\n"
      ],
      "text/latex": [
       "\\begin{tabular}{r|ll}\n",
       "  & x & y\\\\\n",
       "\\hline\n",
       "\t1 & 1 & 3\\\\\n",
       "\t2 & 2 & 2\\\\\n",
       "\t3 & 3 & 1\\\\\n",
       "\\end{tabular}\n"
      ],
      "text/plain": [
       "  x y\n",
       "1 1 3\n",
       "2 2 2\n",
       "3 3 1"
      ]
     },
     "execution_count": 55,
     "metadata": {},
     "output_type": "execute_result"
    }
   ],
   "source": [
    "# Puedes retornar las columnas que tu desees\n",
    "\n",
    "dfzz <- data.frame(x = 1:3, y = 3:1, z = letters[1:3])\n",
    "dfzz\n",
    "dfzz[c(\"x\", \"y\")]"
   ]
  },
  {
   "cell_type": "code",
   "execution_count": 56,
   "metadata": {
    "collapsed": false
   },
   "outputs": [
    {
     "data": {
      "text/html": [
       "<table>\n",
       "<thead><tr><th></th><th scope=col>x</th><th scope=col>y</th></tr></thead>\n",
       "<tbody>\n",
       "\t<tr><th scope=row>1</th><td>1</td><td>3</td></tr>\n",
       "\t<tr><th scope=row>2</th><td>2</td><td>2</td></tr>\n",
       "\t<tr><th scope=row>3</th><td>3</td><td>1</td></tr>\n",
       "</tbody>\n",
       "</table>\n"
      ],
      "text/latex": [
       "\\begin{tabular}{r|ll}\n",
       "  & x & y\\\\\n",
       "\\hline\n",
       "\t1 & 1 & 3\\\\\n",
       "\t2 & 2 & 2\\\\\n",
       "\t3 & 3 & 1\\\\\n",
       "\\end{tabular}\n"
      ],
      "text/plain": [
       "  x y\n",
       "1 1 3\n",
       "2 2 2\n",
       "3 3 1"
      ]
     },
     "execution_count": 56,
     "metadata": {},
     "output_type": "execute_result"
    }
   ],
   "source": [
    "#Si conoces a las columnas que no deseas, utilica operaciones de conjuntos para averiguar qué columnas  mantener:\n",
    "\n",
    "dfzz[setdiff(names(dfzz), \"z\")]"
   ]
  },
  {
   "cell_type": "markdown",
   "metadata": {},
   "source": [
    "## Seleccionando una fila sobre una condición\n",
    "\n",
    "Porque  permite combinar fácilmente las condiciones de varias columnas, esta es probablemente la técnica más utilizada para la extracción de las filas de un data frame."
   ]
  },
  {
   "cell_type": "markdown",
   "metadata": {},
   "source": [
    "```\n",
    "mtcars[mtcars$gear == 5, ]\n",
    "\n",
    "mtcars[mtcars$gear == 5 & mtcars$cyl == 4, ]\n",
    "```\n",
    "\n",
    "`subset()` es una función  especializada para subconjuntos de data frames, como se ve en el siguiente ejemplo, que hace lo mismo que el código anterior."
   ]
  },
  {
   "cell_type": "code",
   "execution_count": 57,
   "metadata": {
    "collapsed": false
   },
   "outputs": [
    {
     "data": {
      "text/html": [
       "<table>\n",
       "<thead><tr><th></th><th scope=col>mpg</th><th scope=col>cyl</th><th scope=col>disp</th><th scope=col>hp</th><th scope=col>drat</th><th scope=col>wt</th><th scope=col>qsec</th><th scope=col>vs</th><th scope=col>am</th><th scope=col>gear</th><th scope=col>carb</th></tr></thead>\n",
       "<tbody>\n",
       "\t<tr><th scope=row>Porsche 914-2</th><td>26</td><td>4</td><td>120.3</td><td>91</td><td>4.43</td><td>2.14</td><td>16.7</td><td>0</td><td>1</td><td>5</td><td>2</td></tr>\n",
       "\t<tr><th scope=row>Lotus Europa</th><td>30.4</td><td>4</td><td>95.1</td><td>113</td><td>3.77</td><td>1.513</td><td>16.9</td><td>1</td><td>1</td><td>5</td><td>2</td></tr>\n",
       "\t<tr><th scope=row>Ford Pantera L</th><td>15.8</td><td>8</td><td>351</td><td>264</td><td>4.22</td><td>3.17</td><td>14.5</td><td>0</td><td>1</td><td>5</td><td>4</td></tr>\n",
       "\t<tr><th scope=row>Ferrari Dino</th><td>19.7</td><td>6</td><td>145</td><td>175</td><td>3.62</td><td>2.77</td><td>15.5</td><td>0</td><td>1</td><td>5</td><td>6</td></tr>\n",
       "\t<tr><th scope=row>Maserati Bora</th><td>15</td><td>8</td><td>301</td><td>335</td><td>3.54</td><td>3.57</td><td>14.6</td><td>0</td><td>1</td><td>5</td><td>8</td></tr>\n",
       "</tbody>\n",
       "</table>\n"
      ],
      "text/latex": [
       "\\begin{tabular}{r|lllllllllll}\n",
       "  & mpg & cyl & disp & hp & drat & wt & qsec & vs & am & gear & carb\\\\\n",
       "\\hline\n",
       "\tPorsche 914-2 & 26 & 4 & 120.3 & 91 & 4.43 & 2.14 & 16.7 & 0 & 1 & 5 & 2\\\\\n",
       "\tLotus Europa & 30.4 & 4 & 95.1 & 113 & 3.77 & 1.513 & 16.9 & 1 & 1 & 5 & 2\\\\\n",
       "\tFord Pantera L & 15.8 & 8 & 351 & 264 & 4.22 & 3.17 & 14.5 & 0 & 1 & 5 & 4\\\\\n",
       "\tFerrari Dino & 19.7 & 6 & 145 & 175 & 3.62 & 2.77 & 15.5 & 0 & 1 & 5 & 6\\\\\n",
       "\tMaserati Bora & 15 & 8 & 301 & 335 & 3.54 & 3.57 & 14.6 & 0 & 1 & 5 & 8\\\\\n",
       "\\end{tabular}\n"
      ],
      "text/plain": [
       "                mpg cyl  disp  hp drat    wt qsec vs am gear carb\n",
       "Porsche 914-2  26.0   4 120.3  91 4.43 2.140 16.7  0  1    5    2\n",
       "Lotus Europa   30.4   4  95.1 113 3.77 1.513 16.9  1  1    5    2\n",
       "Ford Pantera L 15.8   8 351.0 264 4.22 3.170 14.5  0  1    5    4\n",
       "Ferrari Dino   19.7   6 145.0 175 3.62 2.770 15.5  0  1    5    6\n",
       "Maserati Bora  15.0   8 301.0 335 3.54 3.570 14.6  0  1    5    8"
      ]
     },
     "execution_count": 57,
     "metadata": {},
     "output_type": "execute_result"
    },
    {
     "data": {
      "text/html": [
       "<table>\n",
       "<thead><tr><th></th><th scope=col>mpg</th><th scope=col>cyl</th><th scope=col>disp</th><th scope=col>hp</th><th scope=col>drat</th><th scope=col>wt</th><th scope=col>qsec</th><th scope=col>vs</th><th scope=col>am</th><th scope=col>gear</th><th scope=col>carb</th></tr></thead>\n",
       "<tbody>\n",
       "\t<tr><th scope=row>Porsche 914-2</th><td>26</td><td>4</td><td>120.3</td><td>91</td><td>4.43</td><td>2.14</td><td>16.7</td><td>0</td><td>1</td><td>5</td><td>2</td></tr>\n",
       "\t<tr><th scope=row>Lotus Europa</th><td>30.4</td><td>4</td><td>95.1</td><td>113</td><td>3.77</td><td>1.513</td><td>16.9</td><td>1</td><td>1</td><td>5</td><td>2</td></tr>\n",
       "</tbody>\n",
       "</table>\n"
      ],
      "text/latex": [
       "\\begin{tabular}{r|lllllllllll}\n",
       "  & mpg & cyl & disp & hp & drat & wt & qsec & vs & am & gear & carb\\\\\n",
       "\\hline\n",
       "\tPorsche 914-2 & 26 & 4 & 120.3 & 91 & 4.43 & 2.14 & 16.7 & 0 & 1 & 5 & 2\\\\\n",
       "\tLotus Europa & 30.4 & 4 & 95.1 & 113 & 3.77 & 1.513 & 16.9 & 1 & 1 & 5 & 2\\\\\n",
       "\\end{tabular}\n"
      ],
      "text/plain": [
       "               mpg cyl  disp  hp drat    wt qsec vs am gear carb\n",
       "Porsche 914-2 26.0   4 120.3  91 4.43 2.140 16.7  0  1    5    2\n",
       "Lotus Europa  30.4   4  95.1 113 3.77 1.513 16.9  1  1    5    2"
      ]
     },
     "execution_count": 57,
     "metadata": {},
     "output_type": "execute_result"
    }
   ],
   "source": [
    "#help(subset)\n",
    "subset(mtcars, gear == 5)\n",
    "subset(mtcars, gear == 5 & cyl == 4)"
   ]
  },
  {
   "cell_type": "markdown",
   "metadata": {},
   "source": [
    "# Un ejemplo"
   ]
  },
  {
   "cell_type": "code",
   "execution_count": 58,
   "metadata": {
    "collapsed": false
   },
   "outputs": [
    {
     "data": {
      "text/html": [
       "\"data.frame\""
      ],
      "text/latex": [
       "\"data.frame\""
      ],
      "text/markdown": [
       "\"data.frame\""
      ],
      "text/plain": [
       "[1] \"data.frame\""
      ]
     },
     "execution_count": 58,
     "metadata": {},
     "output_type": "execute_result"
    },
    {
     "data": {
      "text/html": [
       "<table>\n",
       "<thead><tr><th></th><th scope=col>final.exam</th><th scope=col>quiz.prom</th><th scope=col>tarea.prom</th></tr></thead>\n",
       "<tbody>\n",
       "\t<tr><th scope=row>1</th><td>2</td><td>4</td><td>4</td></tr>\n",
       "\t<tr><th scope=row>2</th><td>1.7</td><td>2.7</td><td>4</td></tr>\n",
       "\t<tr><th scope=row>3</th><td>1.3</td><td>3.3</td><td>4</td></tr>\n",
       "\t<tr><th scope=row>4</th><td>3.3</td><td>3.3</td><td>4</td></tr>\n",
       "\t<tr><th scope=row>5</th><td>0</td><td>3.3</td><td>4</td></tr>\n",
       "\t<tr><th scope=row>6</th><td>3</td><td>3.7</td><td>4</td></tr>\n",
       "</tbody>\n",
       "</table>\n"
      ],
      "text/latex": [
       "\\begin{tabular}{r|lll}\n",
       "  & final.exam & quiz.prom & tarea.prom\\\\\n",
       "\\hline\n",
       "\t1 & 2 & 4 & 4\\\\\n",
       "\t2 & 1.7 & 2.7 & 4\\\\\n",
       "\t3 & 1.3 & 3.3 & 4\\\\\n",
       "\t4 & 3.3 & 3.3 & 4\\\\\n",
       "\t5 & 0 & 3.3 & 4\\\\\n",
       "\t6 & 3 & 3.7 & 4\\\\\n",
       "\\end{tabular}\n"
      ],
      "text/plain": [
       "  final.exam quiz.prom tarea.prom\n",
       "1        2.0       4.0          4\n",
       "2        1.7       2.7          4\n",
       "3        1.3       3.3          4\n",
       "4        3.3       3.3          4\n",
       "5        0.0       3.3          4\n",
       "6        3.0       3.7          4"
      ]
     },
     "execution_count": 58,
     "metadata": {},
     "output_type": "execute_result"
    },
    {
     "data": {
      "text/html": [
       "<table>\n",
       "<thead><tr><th></th><th scope=col>final.exam</th><th scope=col>quiz.prom</th><th scope=col>tarea.prom</th></tr></thead>\n",
       "<tbody>\n",
       "\t<tr><th scope=row>2</th><td>1.7</td><td>2.7</td><td>4</td></tr>\n",
       "\t<tr><th scope=row>3</th><td>1.3</td><td>3.3</td><td>4</td></tr>\n",
       "\t<tr><th scope=row>4</th><td>3.3</td><td>3.3</td><td>4</td></tr>\n",
       "\t<tr><th scope=row>5</th><td>0</td><td>3.3</td><td>4</td></tr>\n",
       "</tbody>\n",
       "</table>\n"
      ],
      "text/latex": [
       "\\begin{tabular}{r|lll}\n",
       "  & final.exam & quiz.prom & tarea.prom\\\\\n",
       "\\hline\n",
       "\t2 & 1.7 & 2.7 & 4\\\\\n",
       "\t3 & 1.3 & 3.3 & 4\\\\\n",
       "\t4 & 3.3 & 3.3 & 4\\\\\n",
       "\t5 & 0 & 3.3 & 4\\\\\n",
       "\\end{tabular}\n"
      ],
      "text/plain": [
       "  final.exam quiz.prom tarea.prom\n",
       "2        1.7       2.7          4\n",
       "3        1.3       3.3          4\n",
       "4        3.3       3.3          4\n",
       "5        0.0       3.3          4"
      ]
     },
     "execution_count": 58,
     "metadata": {},
     "output_type": "execute_result"
    },
    {
     "data": {
      "text/html": [
       "<ol class=list-inline>\n",
       "\t<li>2.7</li>\n",
       "\t<li>3.3</li>\n",
       "\t<li>3.3</li>\n",
       "\t<li>3.3</li>\n",
       "</ol>\n"
      ],
      "text/latex": [
       "\\begin{enumerate*}\n",
       "\\item 2.7\n",
       "\\item 3.3\n",
       "\\item 3.3\n",
       "\\item 3.3\n",
       "\\end{enumerate*}\n"
      ],
      "text/markdown": [
       "1. 2.7\n",
       "2. 3.3\n",
       "3. 3.3\n",
       "4. 3.3\n",
       "\n",
       "\n"
      ],
      "text/plain": [
       "[1] 2.7 3.3 3.3 3.3"
      ]
     },
     "execution_count": 58,
     "metadata": {},
     "output_type": "execute_result"
    },
    {
     "data": {
      "text/html": [
       "\"numeric\""
      ],
      "text/latex": [
       "\"numeric\""
      ],
      "text/markdown": [
       "\"numeric\""
      ],
      "text/plain": [
       "[1] \"numeric\""
      ]
     },
     "execution_count": 58,
     "metadata": {},
     "output_type": "execute_result"
    },
    {
     "data": {
      "text/html": [
       "<table>\n",
       "<thead><tr><th></th><th scope=col>quiz.prom</th></tr></thead>\n",
       "<tbody>\n",
       "\t<tr><th scope=row>2</th><td>2.7</td></tr>\n",
       "\t<tr><th scope=row>3</th><td>3.3</td></tr>\n",
       "\t<tr><th scope=row>4</th><td>3.3</td></tr>\n",
       "\t<tr><th scope=row>5</th><td>3.3</td></tr>\n",
       "</tbody>\n",
       "</table>\n"
      ],
      "text/latex": [
       "\\begin{tabular}{r|l}\n",
       "  & quiz.prom\\\\\n",
       "\\hline\n",
       "\t2 & 2.7\\\\\n",
       "\t3 & 3.3\\\\\n",
       "\t4 & 3.3\\\\\n",
       "\t5 & 3.3\\\\\n",
       "\\end{tabular}\n"
      ],
      "text/plain": [
       "  quiz.prom\n",
       "2       2.7\n",
       "3       3.3\n",
       "4       3.3\n",
       "5       3.3"
      ]
     },
     "execution_count": 58,
     "metadata": {},
     "output_type": "execute_result"
    },
    {
     "data": {
      "text/html": [
       "\"data.frame\""
      ],
      "text/latex": [
       "\"data.frame\""
      ],
      "text/markdown": [
       "\"data.frame\""
      ],
      "text/plain": [
       "[1] \"data.frame\""
      ]
     },
     "execution_count": 58,
     "metadata": {},
     "output_type": "execute_result"
    },
    {
     "data": {
      "text/html": [
       "<table>\n",
       "<thead><tr><th></th><th scope=col>final.exam</th><th scope=col>quiz.prom</th><th scope=col>tarea.prom</th></tr></thead>\n",
       "<tbody>\n",
       "\t<tr><th scope=row>1</th><td>2</td><td>4</td><td>4</td></tr>\n",
       "\t<tr><th scope=row>3</th><td>1.3</td><td>3.3</td><td>4</td></tr>\n",
       "\t<tr><th scope=row>4</th><td>3.3</td><td>3.3</td><td>4</td></tr>\n",
       "\t<tr><th scope=row>5</th><td>0</td><td>3.3</td><td>4</td></tr>\n",
       "\t<tr><th scope=row>6</th><td>3</td><td>3.7</td><td>4</td></tr>\n",
       "\t<tr><th scope=row>7</th><td>1.3</td><td>3.3</td><td>3.7</td></tr>\n",
       "\t<tr><th scope=row>8</th><td>1</td><td>3.7</td><td>4</td></tr>\n",
       "\t<tr><th scope=row>9</th><td>0</td><td>3.3</td><td>4</td></tr>\n",
       "\t<tr><th scope=row>11</th><td>4.3</td><td>4</td><td>4</td></tr>\n",
       "\t<tr><th scope=row>12</th><td>3.7</td><td>4</td><td>4</td></tr>\n",
       "\t<tr><th scope=row>13</th><td>3</td><td>4</td><td>4</td></tr>\n",
       "\t<tr><th scope=row>14</th><td>0.7</td><td>3.7</td><td>4</td></tr>\n",
       "\t<tr><th scope=row>15</th><td>4.3</td><td>4</td><td>4</td></tr>\n",
       "\t<tr><th scope=row>16</th><td>3</td><td>3.7</td><td>4</td></tr>\n",
       "\t<tr><th scope=row>18</th><td>3</td><td>4</td><td>4</td></tr>\n",
       "\t<tr><th scope=row>19</th><td>3</td><td>3.3</td><td>4</td></tr>\n",
       "\t<tr><th scope=row>20</th><td>4.3</td><td>3.7</td><td>4</td></tr>\n",
       "\t<tr><th scope=row>21</th><td>4</td><td>4</td><td>4</td></tr>\n",
       "\t<tr><th scope=row>22</th><td>3</td><td>3.3</td><td>4</td></tr>\n",
       "\t<tr><th scope=row>23</th><td>1</td><td>3.3</td><td>4</td></tr>\n",
       "\t<tr><th scope=row>24</th><td>3.7</td><td>3.7</td><td>4</td></tr>\n",
       "\t<tr><th scope=row>25</th><td>0</td><td>4</td><td>4</td></tr>\n",
       "\t<tr><th scope=row>26</th><td>3.3</td><td>3.3</td><td>4</td></tr>\n",
       "\t<tr><th scope=row>27</th><td>3.7</td><td>3.3</td><td>4</td></tr>\n",
       "\t<tr><th scope=row>28</th><td>4.3</td><td>4</td><td>4</td></tr>\n",
       "\t<tr><th scope=row>29</th><td>4</td><td>3.7</td><td>4</td></tr>\n",
       "\t<tr><th scope=row>30</th><td>4.3</td><td>3.7</td><td>4</td></tr>\n",
       "\t<tr><th scope=row>31</th><td>4</td><td>3.3</td><td>3.7</td></tr>\n",
       "\t<tr><th scope=row>32</th><td>3.3</td><td>3.3</td><td>4</td></tr>\n",
       "\t<tr><th scope=row>33</th><td>2</td><td>4</td><td>4</td></tr>\n",
       "</tbody>\n",
       "</table>\n"
      ],
      "text/latex": [
       "\\begin{tabular}{r|lll}\n",
       "  & final.exam & quiz.prom & tarea.prom\\\\\n",
       "\\hline\n",
       "\t1 & 2 & 4 & 4\\\\\n",
       "\t3 & 1.3 & 3.3 & 4\\\\\n",
       "\t4 & 3.3 & 3.3 & 4\\\\\n",
       "\t5 & 0 & 3.3 & 4\\\\\n",
       "\t6 & 3 & 3.7 & 4\\\\\n",
       "\t7 & 1.3 & 3.3 & 3.7\\\\\n",
       "\t8 & 1 & 3.7 & 4\\\\\n",
       "\t9 & 0 & 3.3 & 4\\\\\n",
       "\t11 & 4.3 & 4 & 4\\\\\n",
       "\t12 & 3.7 & 4 & 4\\\\\n",
       "\t13 & 3 & 4 & 4\\\\\n",
       "\t14 & 0.7 & 3.7 & 4\\\\\n",
       "\t15 & 4.3 & 4 & 4\\\\\n",
       "\t16 & 3 & 3.7 & 4\\\\\n",
       "\t18 & 3 & 4 & 4\\\\\n",
       "\t19 & 3 & 3.3 & 4\\\\\n",
       "\t20 & 4.3 & 3.7 & 4\\\\\n",
       "\t21 & 4 & 4 & 4\\\\\n",
       "\t22 & 3 & 3.3 & 4\\\\\n",
       "\t23 & 1 & 3.3 & 4\\\\\n",
       "\t24 & 3.7 & 3.7 & 4\\\\\n",
       "\t25 & 0 & 4 & 4\\\\\n",
       "\t26 & 3.3 & 3.3 & 4\\\\\n",
       "\t27 & 3.7 & 3.3 & 4\\\\\n",
       "\t28 & 4.3 & 4 & 4\\\\\n",
       "\t29 & 4 & 3.7 & 4\\\\\n",
       "\t30 & 4.3 & 3.7 & 4\\\\\n",
       "\t31 & 4 & 3.3 & 3.7\\\\\n",
       "\t32 & 3.3 & 3.3 & 4\\\\\n",
       "\t33 & 2 & 4 & 4\\\\\n",
       "\\end{tabular}\n"
      ],
      "text/plain": [
       "   final.exam quiz.prom tarea.prom\n",
       "1         2.0       4.0        4.0\n",
       "3         1.3       3.3        4.0\n",
       "4         3.3       3.3        4.0\n",
       "5         0.0       3.3        4.0\n",
       "6         3.0       3.7        4.0\n",
       "7         1.3       3.3        3.7\n",
       "8         1.0       3.7        4.0\n",
       "9         0.0       3.3        4.0\n",
       "11        4.3       4.0        4.0\n",
       "12        3.7       4.0        4.0\n",
       "13        3.0       4.0        4.0\n",
       "14        0.7       3.7        4.0\n",
       "15        4.3       4.0        4.0\n",
       "16        3.0       3.7        4.0\n",
       "18        3.0       4.0        4.0\n",
       "19        3.0       3.3        4.0\n",
       "20        4.3       3.7        4.0\n",
       "21        4.0       4.0        4.0\n",
       "22        3.0       3.3        4.0\n",
       "23        1.0       3.3        4.0\n",
       "24        3.7       3.7        4.0\n",
       "25        0.0       4.0        4.0\n",
       "26        3.3       3.3        4.0\n",
       "27        3.7       3.3        4.0\n",
       "28        4.3       4.0        4.0\n",
       "29        4.0       3.7        4.0\n",
       "30        4.3       3.7        4.0\n",
       "31        4.0       3.3        3.7\n",
       "32        3.3       3.3        4.0\n",
       "33        2.0       4.0        4.0"
      ]
     },
     "execution_count": 58,
     "metadata": {},
     "output_type": "execute_result"
    },
    {
     "data": {
      "text/html": [
       "<table>\n",
       "<thead><tr><th></th><th scope=col>final.exam</th><th scope=col>quiz.prom</th><th scope=col>tarea.prom</th></tr></thead>\n",
       "<tbody>\n",
       "\t<tr><th scope=row>17</th><td>0</td><td>1</td><td>3.7</td></tr>\n",
       "</tbody>\n",
       "</table>\n"
      ],
      "text/latex": [
       "\\begin{tabular}{r|lll}\n",
       "  & final.exam & quiz.prom & tarea.prom\\\\\n",
       "\\hline\n",
       "\t17 & 0 & 1 & 3.7\\\\\n",
       "\\end{tabular}\n"
      ],
      "text/plain": [
       "   final.exam quiz.prom tarea.prom\n",
       "17          0         1        3.7"
      ]
     },
     "execution_count": 58,
     "metadata": {},
     "output_type": "execute_result"
    },
    {
     "data": {
      "text/html": [
       "\"data.frame\""
      ],
      "text/latex": [
       "\"data.frame\""
      ],
      "text/markdown": [
       "\"data.frame\""
      ],
      "text/plain": [
       "[1] \"data.frame\""
      ]
     },
     "execution_count": 58,
     "metadata": {},
     "output_type": "execute_result"
    },
    {
     "data": {
      "text/html": [
       "<table>\n",
       "<thead><tr><th></th><th scope=col>final.exam</th><th scope=col>quiz.prom</th><th scope=col>tarea.prom</th><th scope=col>ex1</th></tr></thead>\n",
       "<tbody>\n",
       "\t<tr><th scope=row>1</th><td>2</td><td>4</td><td>4</td><td>0</td></tr>\n",
       "\t<tr><th scope=row>2</th><td>1.7</td><td>2.7</td><td>4</td><td>1.3</td></tr>\n",
       "\t<tr><th scope=row>3</th><td>1.3</td><td>3.3</td><td>4</td><td>0.7</td></tr>\n",
       "\t<tr><th scope=row>4</th><td>3.3</td><td>3.3</td><td>4</td><td>0.7</td></tr>\n",
       "\t<tr><th scope=row>5</th><td>0</td><td>3.3</td><td>4</td><td>0.7</td></tr>\n",
       "\t<tr><th scope=row>6</th><td>3</td><td>3.7</td><td>4</td><td>0.3</td></tr>\n",
       "</tbody>\n",
       "</table>\n"
      ],
      "text/latex": [
       "\\begin{tabular}{r|llll}\n",
       "  & final.exam & quiz.prom & tarea.prom & ex1\\\\\n",
       "\\hline\n",
       "\t1 & 2 & 4 & 4 & 0\\\\\n",
       "\t2 & 1.7 & 2.7 & 4 & 1.3\\\\\n",
       "\t3 & 1.3 & 3.3 & 4 & 0.7\\\\\n",
       "\t4 & 3.3 & 3.3 & 4 & 0.7\\\\\n",
       "\t5 & 0 & 3.3 & 4 & 0.7\\\\\n",
       "\t6 & 3 & 3.7 & 4 & 0.3\\\\\n",
       "\\end{tabular}\n"
      ],
      "text/plain": [
       "  final.exam quiz.prom tarea.prom ex1\n",
       "1        2.0       4.0          4 0.0\n",
       "2        1.7       2.7          4 1.3\n",
       "3        1.3       3.3          4 0.7\n",
       "4        3.3       3.3          4 0.7\n",
       "5        0.0       3.3          4 0.7\n",
       "6        3.0       3.7          4 0.3"
      ]
     },
     "execution_count": 58,
     "metadata": {},
     "output_type": "execute_result"
    },
    {
     "data": {
      "text/html": [
       "<ol class=list-inline>\n",
       "\t<li>4</li>\n",
       "\t<li>4</li>\n",
       "\t<li>4</li>\n",
       "\t<li>4</li>\n",
       "\t<li>4</li>\n",
       "\t<li>4</li>\n",
       "\t<li>3.7</li>\n",
       "\t<li>4</li>\n",
       "\t<li>4</li>\n",
       "\t<li>3.3</li>\n",
       "\t<li>4.3</li>\n",
       "\t<li>4</li>\n",
       "\t<li>4</li>\n",
       "\t<li>4</li>\n",
       "\t<li>4.3</li>\n",
       "\t<li>4</li>\n",
       "\t<li>3.7</li>\n",
       "\t<li>4</li>\n",
       "\t<li>4</li>\n",
       "\t<li>4.3</li>\n",
       "\t<li>4</li>\n",
       "\t<li>4</li>\n",
       "\t<li>4</li>\n",
       "\t<li>4</li>\n",
       "\t<li>4</li>\n",
       "\t<li>4</li>\n",
       "\t<li>4</li>\n",
       "\t<li>4.3</li>\n",
       "\t<li>4</li>\n",
       "\t<li>4.3</li>\n",
       "\t<li>4</li>\n",
       "\t<li>4</li>\n",
       "\t<li>4</li>\n",
       "</ol>\n"
      ],
      "text/latex": [
       "\\begin{enumerate*}\n",
       "\\item 4\n",
       "\\item 4\n",
       "\\item 4\n",
       "\\item 4\n",
       "\\item 4\n",
       "\\item 4\n",
       "\\item 3.7\n",
       "\\item 4\n",
       "\\item 4\n",
       "\\item 3.3\n",
       "\\item 4.3\n",
       "\\item 4\n",
       "\\item 4\n",
       "\\item 4\n",
       "\\item 4.3\n",
       "\\item 4\n",
       "\\item 3.7\n",
       "\\item 4\n",
       "\\item 4\n",
       "\\item 4.3\n",
       "\\item 4\n",
       "\\item 4\n",
       "\\item 4\n",
       "\\item 4\n",
       "\\item 4\n",
       "\\item 4\n",
       "\\item 4\n",
       "\\item 4.3\n",
       "\\item 4\n",
       "\\item 4.3\n",
       "\\item 4\n",
       "\\item 4\n",
       "\\item 4\n",
       "\\end{enumerate*}\n"
      ],
      "text/markdown": [
       "1. 4\n",
       "2. 4\n",
       "3. 4\n",
       "4. 4\n",
       "5. 4\n",
       "6. 4\n",
       "7. 3.7\n",
       "8. 4\n",
       "9. 4\n",
       "10. 3.3\n",
       "11. 4.3\n",
       "12. 4\n",
       "13. 4\n",
       "14. 4\n",
       "15. 4.3\n",
       "16. 4\n",
       "17. 3.7\n",
       "18. 4\n",
       "19. 4\n",
       "20. 4.3\n",
       "21. 4\n",
       "22. 4\n",
       "23. 4\n",
       "24. 4\n",
       "25. 4\n",
       "26. 4\n",
       "27. 4\n",
       "28. 4.3\n",
       "29. 4\n",
       "30. 4.3\n",
       "31. 4\n",
       "32. 4\n",
       "33. 4\n",
       "\n",
       "\n"
      ],
      "text/plain": [
       " [1] 4.0 4.0 4.0 4.0 4.0 4.0 3.7 4.0 4.0 3.3 4.3 4.0 4.0 4.0 4.3 4.0 3.7 4.0 4.0\n",
       "[20] 4.3 4.0 4.0 4.0 4.0 4.0 4.0 4.0 4.3 4.0 4.3 4.0 4.0 4.0"
      ]
     },
     "execution_count": 58,
     "metadata": {},
     "output_type": "execute_result"
    }
   ],
   "source": [
    "# Leamos un archivo de datos\n",
    "examen <- read.table(\"Examen.txt\",header=TRUE )\n",
    "class(examen)\n",
    "head(examen)\n",
    "\n",
    "# Realicemos operaciones con este data frame\n",
    "\n",
    "examen[2:5,]\n",
    "examen[2:5,2]\n",
    "class(examen[2:5,2])\n",
    "examen[2:5,2,drop=FALSE]\n",
    "class(examen[2:5,2,drop=FALSE])\n",
    "\n",
    "#Filtrado\n",
    "\n",
    "examen[examen$quiz.prom >= 2.8,]\n",
    "subset(examen, examen$quiz.prom < 1.5)\n",
    "\n",
    "\n",
    "# Creemos una columnas a partir de otras\n",
    "ex1<-examen$tarea.prom -examen$quiz.prom\n",
    "ex <- cbind(examen,ex1 )\n",
    "class(ex)\n",
    "head(ex)\n",
    "\n",
    "\n",
    "# Aplicando apply\n",
    "\n",
    "apply(examen, 1, max)"
   ]
  },
  {
   "cell_type": "markdown",
   "metadata": {},
   "source": [
    "## Usando la función merge()\n",
    "\n",
    "```\n",
    "help(merge)\n",
    "```\n",
    "[Rankings de Lenguajes de Programación 2015](http://www.tiobe.com/index.php/content/paperinfo/tpci/index.html)\n"
   ]
  },
  {
   "cell_type": "code",
   "execution_count": 59,
   "metadata": {
    "collapsed": false
   },
   "outputs": [
    {
     "data": {
      "text/html": [
       "<table>\n",
       "<thead><tr><th></th><th scope=col>lenguajesP</th><th scope=col>puestoR</th></tr></thead>\n",
       "<tbody>\n",
       "\t<tr><th scope=row>1</th><td>Java</td><td>1</td></tr>\n",
       "\t<tr><th scope=row>2</th><td>C</td><td>2</td></tr>\n",
       "\t<tr><th scope=row>3</th><td>C++</td><td>3</td></tr>\n",
       "\t<tr><th scope=row>4</th><td>Python</td><td>5</td></tr>\n",
       "\t<tr><th scope=row>5</th><td>JS</td><td>7</td></tr>\n",
       "\t<tr><th scope=row>6</th><td>Ruby</td><td>12</td></tr>\n",
       "\t<tr><th scope=row>7</th><td>R</td><td>19</td></tr>\n",
       "</tbody>\n",
       "</table>\n"
      ],
      "text/latex": [
       "\\begin{tabular}{r|ll}\n",
       "  & lenguajesP & puestoR\\\\\n",
       "\\hline\n",
       "\t1 & Java & 1\\\\\n",
       "\t2 & C & 2\\\\\n",
       "\t3 & C++ & 3\\\\\n",
       "\t4 & Python & 5\\\\\n",
       "\t5 & JS & 7\\\\\n",
       "\t6 & Ruby & 12\\\\\n",
       "\t7 & R & 19\\\\\n",
       "\\end{tabular}\n"
      ],
      "text/plain": [
       "  lenguajesP puestoR\n",
       "1       Java       1\n",
       "2          C       2\n",
       "3        C++       3\n",
       "4     Python       5\n",
       "5         JS       7\n",
       "6       Ruby      12\n",
       "7          R      19"
      ]
     },
     "execution_count": 59,
     "metadata": {},
     "output_type": "execute_result"
    },
    {
     "data": {
      "text/html": [
       "<table>\n",
       "<thead><tr><th></th><th scope=col>lenguajesP</th><th scope=col>puestoR1</th></tr></thead>\n",
       "<tbody>\n",
       "\t<tr><th scope=row>1</th><td>Java</td><td>4</td></tr>\n",
       "\t<tr><th scope=row>2</th><td>C</td><td>9</td></tr>\n",
       "\t<tr><th scope=row>3</th><td>C++</td><td>10</td></tr>\n",
       "\t<tr><th scope=row>4</th><td>Python</td><td>12</td></tr>\n",
       "\t<tr><th scope=row>5</th><td>JS</td><td>19</td></tr>\n",
       "\t<tr><th scope=row>6</th><td>Ruby</td><td>20</td></tr>\n",
       "\t<tr><th scope=row>7</th><td>R</td><td>22</td></tr>\n",
       "</tbody>\n",
       "</table>\n"
      ],
      "text/latex": [
       "\\begin{tabular}{r|ll}\n",
       "  & lenguajesP & puestoR1\\\\\n",
       "\\hline\n",
       "\t1 & Java & 4\\\\\n",
       "\t2 & C & 9\\\\\n",
       "\t3 & C++ & 10\\\\\n",
       "\t4 & Python & 12\\\\\n",
       "\t5 & JS & 19\\\\\n",
       "\t6 & Ruby & 20\\\\\n",
       "\t7 & R & 22\\\\\n",
       "\\end{tabular}\n"
      ],
      "text/plain": [
       "  lenguajesP puestoR1\n",
       "1       Java        4\n",
       "2          C        9\n",
       "3        C++       10\n",
       "4     Python       12\n",
       "5         JS       19\n",
       "6       Ruby       20\n",
       "7          R       22"
      ]
     },
     "execution_count": 59,
     "metadata": {},
     "output_type": "execute_result"
    },
    {
     "data": {
      "text/html": [
       "<table>\n",
       "<thead><tr><th></th><th scope=col>lenguajesP</th><th scope=col>puestoR</th><th scope=col>puestoR1</th></tr></thead>\n",
       "<tbody>\n",
       "\t<tr><th scope=row>1</th><td>C</td><td>2</td><td>9</td></tr>\n",
       "\t<tr><th scope=row>2</th><td>C++</td><td>3</td><td>10</td></tr>\n",
       "\t<tr><th scope=row>3</th><td>Java</td><td>1</td><td>4</td></tr>\n",
       "\t<tr><th scope=row>4</th><td>JS</td><td>7</td><td>19</td></tr>\n",
       "\t<tr><th scope=row>5</th><td>Python</td><td>5</td><td>12</td></tr>\n",
       "\t<tr><th scope=row>6</th><td>R</td><td>19</td><td>22</td></tr>\n",
       "\t<tr><th scope=row>7</th><td>Ruby</td><td>12</td><td>20</td></tr>\n",
       "</tbody>\n",
       "</table>\n"
      ],
      "text/latex": [
       "\\begin{tabular}{r|lll}\n",
       "  & lenguajesP & puestoR & puestoR1\\\\\n",
       "\\hline\n",
       "\t1 & C & 2 & 9\\\\\n",
       "\t2 & C++ & 3 & 10\\\\\n",
       "\t3 & Java & 1 & 4\\\\\n",
       "\t4 & JS & 7 & 19\\\\\n",
       "\t5 & Python & 5 & 12\\\\\n",
       "\t6 & R & 19 & 22\\\\\n",
       "\t7 & Ruby & 12 & 20\\\\\n",
       "\\end{tabular}\n"
      ],
      "text/plain": [
       "  lenguajesP puestoR puestoR1\n",
       "1          C       2        9\n",
       "2        C++       3       10\n",
       "3       Java       1        4\n",
       "4         JS       7       19\n",
       "5     Python       5       12\n",
       "6          R      19       22\n",
       "7       Ruby      12       20"
      ]
     },
     "execution_count": 59,
     "metadata": {},
     "output_type": "execute_result"
    }
   ],
   "source": [
    "\n",
    "lenguajesP <- c(\"Java\",\"C\", \"C++\", \"Python\", \"JS\", \"Ruby\", \"R\")\n",
    "puestoR <- c(1, 2,3, 5, 7, 12, 19)\n",
    "dataF <- data.frame(lenguajesP,puestoR,stringsAsFactors=FALSE)\n",
    "dataF\n",
    "\n",
    "lenguajesQ <- c(\"C#\",\"Perl\", \"Assembly\", \"Switf\", \"Matlab\", \"SQL\", \"Cobol\")\n",
    "#lenguajesP <- c(\"Java\",\"C\", \"C++\", \"Python\", \"JS\", \"Ruby\", \"R\")\n",
    "puestoR1<- c(4, 9, 10, 12, 19, 20, 22)\n",
    "dataG <- data.frame(lenguajesP,puestoR1,stringsAsFactors=FALSE)\n",
    "dataG\n",
    "\n",
    "merge(dataF, dataG)"
   ]
  },
  {
   "cell_type": "markdown",
   "metadata": {},
   "source": [
    "## Aplicando funciones a data frames\n",
    "\n",
    "### Usando lapply() y sapply() en data frames"
   ]
  },
  {
   "cell_type": "code",
   "execution_count": 60,
   "metadata": {
    "collapsed": false
   },
   "outputs": [
    {
     "data": {
      "text/html": [
       "<dl>\n",
       "\t<dt>$lenguajesP</dt>\n",
       "\t\t<dd><ol class=list-inline>\n",
       "\t<li>\"C\"</li>\n",
       "\t<li>\"C++\"</li>\n",
       "\t<li>\"Java\"</li>\n",
       "\t<li>\"JS\"</li>\n",
       "\t<li>\"Python\"</li>\n",
       "\t<li>\"R\"</li>\n",
       "\t<li>\"Ruby\"</li>\n",
       "</ol>\n",
       "</dd>\n",
       "\t<dt>$puestoR</dt>\n",
       "\t\t<dd><ol class=list-inline>\n",
       "\t<li>1</li>\n",
       "\t<li>2</li>\n",
       "\t<li>3</li>\n",
       "\t<li>5</li>\n",
       "\t<li>7</li>\n",
       "\t<li>12</li>\n",
       "\t<li>19</li>\n",
       "</ol>\n",
       "</dd>\n",
       "</dl>\n"
      ],
      "text/latex": [
       "\\begin{description}\n",
       "\\item[\\$lenguajesP] \\begin{enumerate*}\n",
       "\\item \"C\"\n",
       "\\item \"C++\"\n",
       "\\item \"Java\"\n",
       "\\item \"JS\"\n",
       "\\item \"Python\"\n",
       "\\item \"R\"\n",
       "\\item \"Ruby\"\n",
       "\\end{enumerate*}\n",
       "\n",
       "\\item[\\$puestoR] \\begin{enumerate*}\n",
       "\\item 1\n",
       "\\item 2\n",
       "\\item 3\n",
       "\\item 5\n",
       "\\item 7\n",
       "\\item 12\n",
       "\\item 19\n",
       "\\end{enumerate*}\n",
       "\n",
       "\\end{description}\n"
      ],
      "text/markdown": [
       "$lenguajesP\n",
       ":   1. \"C\"\n",
       "2. \"C++\"\n",
       "3. \"Java\"\n",
       "4. \"JS\"\n",
       "5. \"Python\"\n",
       "6. \"R\"\n",
       "7. \"Ruby\"\n",
       "\n",
       "\n",
       "\n",
       "$puestoR\n",
       ":   1. 1\n",
       "2. 2\n",
       "3. 3\n",
       "4. 5\n",
       "5. 7\n",
       "6. 12\n",
       "7. 19\n",
       "\n",
       "\n",
       "\n",
       "\n",
       "\n"
      ],
      "text/plain": [
       "$lenguajesP\n",
       "[1] \"C\"      \"C++\"    \"Java\"   \"JS\"     \"Python\" \"R\"      \"Ruby\"  \n",
       "\n",
       "$puestoR\n",
       "[1]  1  2  3  5  7 12 19\n"
      ]
     },
     "execution_count": 60,
     "metadata": {},
     "output_type": "execute_result"
    },
    {
     "data": {
      "text/html": [
       "<table>\n",
       "<thead><tr><th></th><th scope=col>lenguajesP</th><th scope=col>puestoR</th></tr></thead>\n",
       "<tbody>\n",
       "\t<tr><th scope=row>1</th><td>C</td><td>1</td></tr>\n",
       "\t<tr><th scope=row>2</th><td>C++</td><td>2</td></tr>\n",
       "\t<tr><th scope=row>3</th><td>Java</td><td>3</td></tr>\n",
       "\t<tr><th scope=row>4</th><td>JS</td><td>5</td></tr>\n",
       "\t<tr><th scope=row>5</th><td>Python</td><td>7</td></tr>\n",
       "\t<tr><th scope=row>6</th><td>R</td><td>12</td></tr>\n",
       "\t<tr><th scope=row>7</th><td>Ruby</td><td>19</td></tr>\n",
       "</tbody>\n",
       "</table>\n"
      ],
      "text/latex": [
       "\\begin{tabular}{r|ll}\n",
       "  & lenguajesP & puestoR\\\\\n",
       "\\hline\n",
       "\t1 & C & 1\\\\\n",
       "\t2 & C++ & 2\\\\\n",
       "\t3 & Java & 3\\\\\n",
       "\t4 & JS & 5\\\\\n",
       "\t5 & Python & 7\\\\\n",
       "\t6 & R & 12\\\\\n",
       "\t7 & Ruby & 19\\\\\n",
       "\\end{tabular}\n"
      ],
      "text/plain": [
       "  lenguajesP puestoR\n",
       "1          C       1\n",
       "2        C++       2\n",
       "3       Java       3\n",
       "4         JS       5\n",
       "5     Python       7\n",
       "6          R      12\n",
       "7       Ruby      19"
      ]
     },
     "execution_count": 60,
     "metadata": {},
     "output_type": "execute_result"
    }
   ],
   "source": [
    "dataI <-lapply(dataF, sort)\n",
    "dataI\n",
    "as.data.frame(dataI)"
   ]
  },
  {
   "cell_type": "code",
   "execution_count": 61,
   "metadata": {
    "collapsed": false
   },
   "outputs": [
    {
     "data": {
      "text/html": [
       "<ol class=list-inline>\n",
       "\t<li>\"Day\"</li>\n",
       "\t<li>\"Jan\"</li>\n",
       "\t<li>\"Feb\"</li>\n",
       "\t<li>\"Mar\"</li>\n",
       "\t<li>\"Apr\"</li>\n",
       "\t<li>\"May\"</li>\n",
       "\t<li>\"Jun\"</li>\n",
       "\t<li>\"Jul\"</li>\n",
       "\t<li>\"Aug\"</li>\n",
       "\t<li>\"Sep\"</li>\n",
       "\t<li>\"Oct\"</li>\n",
       "\t<li>\"Nov\"</li>\n",
       "\t<li>\"Dec\"</li>\n",
       "</ol>\n"
      ],
      "text/latex": [
       "\\begin{enumerate*}\n",
       "\\item \"Day\"\n",
       "\\item \"Jan\"\n",
       "\\item \"Feb\"\n",
       "\\item \"Mar\"\n",
       "\\item \"Apr\"\n",
       "\\item \"May\"\n",
       "\\item \"Jun\"\n",
       "\\item \"Jul\"\n",
       "\\item \"Aug\"\n",
       "\\item \"Sep\"\n",
       "\\item \"Oct\"\n",
       "\\item \"Nov\"\n",
       "\\item \"Dec\"\n",
       "\\end{enumerate*}\n"
      ],
      "text/markdown": [
       "1. \"Day\"\n",
       "2. \"Jan\"\n",
       "3. \"Feb\"\n",
       "4. \"Mar\"\n",
       "5. \"Apr\"\n",
       "6. \"May\"\n",
       "7. \"Jun\"\n",
       "8. \"Jul\"\n",
       "9. \"Aug\"\n",
       "10. \"Sep\"\n",
       "11. \"Oct\"\n",
       "12. \"Nov\"\n",
       "13. \"Dec\"\n",
       "\n",
       "\n"
      ],
      "text/plain": [
       " [1] \"Day\" \"Jan\" \"Feb\" \"Mar\" \"Apr\" \"May\" \"Jun\" \"Jul\" \"Aug\" \"Sep\" \"Oct\" \"Nov\"\n",
       "[13] \"Dec\""
      ]
     },
     "execution_count": 61,
     "metadata": {},
     "output_type": "execute_result"
    },
    {
     "data": {
      "text/html": [
       "<dl class=dl-horizontal>\n",
       "\t<dt>Jan</dt>\n",
       "\t\t<dd>211</dd>\n",
       "\t<dt>Feb</dt>\n",
       "\t\t<dd>210</dd>\n",
       "\t<dt>Mar</dt>\n",
       "\t\t<dd>256</dd>\n",
       "\t<dt>Apr</dt>\n",
       "\t\t<dd>225</dd>\n",
       "\t<dt>May</dt>\n",
       "\t\t<dd>226</dd>\n",
       "\t<dt>Jun</dt>\n",
       "\t\t<dd>207.5</dd>\n",
       "\t<dt>Jul</dt>\n",
       "\t\t<dd>188</dd>\n",
       "\t<dt>Aug</dt>\n",
       "\t\t<dd>145</dd>\n",
       "\t<dt>Sep</dt>\n",
       "\t\t<dd>168</dd>\n",
       "\t<dt>Oct</dt>\n",
       "\t\t<dd>201</dd>\n",
       "\t<dt>Nov</dt>\n",
       "\t\t<dd>131.5</dd>\n",
       "\t<dt>Dec</dt>\n",
       "\t\t<dd>100</dd>\n",
       "</dl>\n"
      ],
      "text/latex": [
       "\\begin{description*}\n",
       "\\item[Jan] 211\n",
       "\\item[Feb] 210\n",
       "\\item[Mar] 256\n",
       "\\item[Apr] 225\n",
       "\\item[May] 226\n",
       "\\item[Jun] 207.5\n",
       "\\item[Jul] 188\n",
       "\\item[Aug] 145\n",
       "\\item[Sep] 168\n",
       "\\item[Oct] 201\n",
       "\\item[Nov] 131.5\n",
       "\\item[Dec] 100\n",
       "\\end{description*}\n"
      ],
      "text/markdown": [
       "Jan\n",
       ":   211Feb\n",
       ":   210Mar\n",
       ":   256Apr\n",
       ":   225May\n",
       ":   226Jun\n",
       ":   207.5Jul\n",
       ":   188Aug\n",
       ":   145Sep\n",
       ":   168Oct\n",
       ":   201Nov\n",
       ":   131.5Dec\n",
       ":   100\n",
       "\n"
      ],
      "text/plain": [
       "  Jan   Feb   Mar   Apr   May   Jun   Jul   Aug   Sep   Oct   Nov   Dec \n",
       "211.0 210.0 256.0 225.0 226.0 207.5 188.0 145.0 168.0 201.0 131.5 100.0 "
      ]
     },
     "execution_count": 61,
     "metadata": {},
     "output_type": "execute_result"
    },
    {
     "data": {
      "application/pdf": "[encoded data removed]",
      "image/jpeg": "[encoded data removed]",
      "image/png": "[encoded data removed]",
      "text/plain": [
       "plot without title"
      ]
     },
     "metadata": {
      "image/svg+xml": {
       "isolated": true
      }
     },
     "output_type": "display_data"
    }
   ],
   "source": [
    "# Ejemplo con Sapply\n",
    "\n",
    "pnums <- read.table(\"loteria.txt\", header=TRUE)\n",
    "names(pnums)\n",
    "\n",
    "meses <- pnums[2:13]\n",
    "sapply(meses, median, na.rm = TRUE)\n",
    "mediana <-sapply(meses, median, na.rm=TRUE)\n",
    "plot(mediana, type=\"b\", xlab=\"Numero de Meses\")"
   ]
  },
  {
   "cell_type": "markdown",
   "metadata": {},
   "source": [
    "## Factors\n",
    "\n",
    "Un uso importante de los  atributos es definir factores. Un factor es un vector que contiene sólo  valores predefinidos, y se utiliza para almacenar datos categóricos. Los factores  se construyen en la parte superior de los vectores enteros utilizando dos atributos: `class()`, \"factor\", que hace que se comportan de manera diferente que  vectores  y `levels()`, que define el conjunto de valores permitidos."
   ]
  },
  {
   "cell_type": "code",
   "execution_count": 62,
   "metadata": {
    "collapsed": false
   },
   "outputs": [
    {
     "data": {
      "text/html": [
       "\n",
       "<table width=\"100%\" summary=\"page for factor {base}\"><tr><td>factor {base}</td><td align=\"right\">R Documentation</td></tr></table>\n",
       "\n",
       "<h2>Factors</h2>\n",
       "\n",
       "<h3>Description</h3>\n",
       "\n",
       "<p>The function <code>factor</code> is used to encode a vector as a factor (the\n",
       "terms &lsquo;category&rsquo; and &lsquo;enumerated type&rsquo; are also used for\n",
       "factors).  If argument <code>ordered</code> is <code>TRUE</code>, the factor\n",
       "levels are assumed to be ordered.  For compatibility with S there is\n",
       "also a function <code>ordered</code>.\n",
       "</p>\n",
       "<p><code>is.factor</code>, <code>is.ordered</code>, <code>as.factor</code> and <code>as.ordered</code>\n",
       "are the membership and coercion functions for these classes.\n",
       "</p>\n",
       "\n",
       "\n",
       "<h3>Usage</h3>\n",
       "\n",
       "<pre>\n",
       "factor(x = character(), levels, labels = levels,\n",
       "       exclude = NA, ordered = is.ordered(x), nmax = NA)\n",
       "\n",
       "ordered(x, ...)\n",
       "\n",
       "is.factor(x)\n",
       "is.ordered(x)\n",
       "\n",
       "as.factor(x)\n",
       "as.ordered(x)\n",
       "\n",
       "addNA(x, ifany = FALSE)\n",
       "</pre>\n",
       "\n",
       "\n",
       "<h3>Arguments</h3>\n",
       "\n",
       "<table summary=\"R argblock\">\n",
       "<tr valign=\"top\"><td><code>x</code></td>\n",
       "<td>\n",
       "<p>a vector of data, usually taking a small number of distinct\n",
       "values.</p>\n",
       "</td></tr>\n",
       "<tr valign=\"top\"><td><code>levels</code></td>\n",
       "<td>\n",
       "<p>an optional vector of the values (as character strings)\n",
       "that <code>x</code> might have taken.  The default is the unique set of\n",
       "values taken by <code>as.character(x)</code>, sorted into\n",
       "increasing order <EM>of <code>x</code></EM>.  Note that this set can be\n",
       "specified as smaller than <code>sort(unique(x))</code>.</p>\n",
       "</td></tr>\n",
       "<tr valign=\"top\"><td><code>labels</code></td>\n",
       "<td>\n",
       "<p><EM>either</EM> an optional character vector of labels for the\n",
       "levels (in the same order as <code>levels</code> after removing those in\n",
       "<code>exclude</code>), <EM>or</EM> a character string of length 1.</p>\n",
       "</td></tr>\n",
       "<tr valign=\"top\"><td><code>exclude</code></td>\n",
       "<td>\n",
       "<p>a vector of values to be excluded when forming the\n",
       "set of levels.  This should be of the same type as <code>x</code>, and\n",
       "will be coerced if necessary.</p>\n",
       "</td></tr>\n",
       "<tr valign=\"top\"><td><code>ordered</code></td>\n",
       "<td>\n",
       "<p>logical flag to determine if the levels should be regarded\n",
       "as ordered (in the order given).</p>\n",
       "</td></tr>\n",
       "<tr valign=\"top\"><td><code>nmax</code></td>\n",
       "<td>\n",
       "<p>an upper bound on the number of levels; see &lsquo;Details&rsquo;.</p>\n",
       "</td></tr>\n",
       "<tr valign=\"top\"><td><code>...</code></td>\n",
       "<td>\n",
       "<p>(in <code>ordered(.)</code>): any of the above, apart from\n",
       "<code>ordered</code> itself.</p>\n",
       "</td></tr>\n",
       "<tr valign=\"top\"><td><code>ifany</code></td>\n",
       "<td>\n",
       "<p>(only add an <code>NA</code> level if it is used, i.e.\n",
       "if <code>any(is.na(x))</code>.</p>\n",
       "</td></tr>\n",
       "</table>\n",
       "\n",
       "\n",
       "<h3>Details</h3>\n",
       "\n",
       "<p>The type of the vector <code>x</code> is not restricted; it only must have\n",
       "an <code>as.character</code> method and be sortable (by\n",
       "<code>sort.list</code>).\n",
       "</p>\n",
       "<p>Ordered factors differ from factors only in their class, but methods\n",
       "and the model-fitting functions treat the two classes quite differently.\n",
       "</p>\n",
       "<p>The encoding of the vector happens as follows.  First all the values\n",
       "in <code>exclude</code> are removed from <code>levels</code>. If <code>x[i]</code>\n",
       "equals <code>levels[j]</code>, then the <code>i</code>-th element of the result is\n",
       "<code>j</code>.  If no match is found for <code>x[i]</code> in <code>levels</code>\n",
       "(which will happen for excluded values) then the <code>i</code>-th element\n",
       "of the result is set to <code>NA</code>.\n",
       "</p>\n",
       "<p>Normally the &lsquo;levels&rsquo; used as an attribute of the result are\n",
       "the reduced set of levels after removing those in <code>exclude</code>, but\n",
       "this can be altered by supplying <code>labels</code>.  This should either\n",
       "be a set of new labels for the levels, or a character string, in\n",
       "which case the levels are that character string with a sequence\n",
       "number appended.\n",
       "</p>\n",
       "<p><code>factor(x, exclude = NULL)</code> applied to a factor is a no-operation\n",
       "unless there are unused levels: in that case, a factor with the\n",
       "reduced level set is returned.  If <code>exclude</code> is used it should\n",
       "also be a factor with the same level set as <code>x</code> or a set of codes\n",
       "for the levels to be excluded.\n",
       "</p>\n",
       "<p>The codes of a factor may contain <code>NA</code>.  For a numeric\n",
       "<code>x</code>, set <code>exclude = NULL</code> to make <code>NA</code> an extra\n",
       "level (prints as <code>&lt;NA&gt;</code>); by default, this is the last level.\n",
       "</p>\n",
       "<p>If <code>NA</code> is a level, the way to set a code to be missing (as\n",
       "opposed to the code of the missing level) is to\n",
       "use <code>is.na</code> on the left-hand-side of an assignment (as in\n",
       "<code>is.na(f)[i] &lt;- TRUE</code>; indexing inside <code>is.na</code> does not work).\n",
       "Under those circumstances missing values are currently printed as\n",
       "<code>&lt;NA&gt;</code>, i.e., identical to entries of level <code>NA</code>.\n",
       "</p>\n",
       "<p><code>is.factor</code> is generic: you can write methods to handle\n",
       "specific classes of objects, see InternalMethods.\n",
       "</p>\n",
       "<p>Where <code>levels</code> is not supplied, <code>unique</code> is called.\n",
       "Since factors typically have quite a small number of levels, for large\n",
       "vectors <code>x</code> it is helpful to supply <code>nmax</code> as an upper bound\n",
       "on the number of unique values.\n",
       "</p>\n",
       "\n",
       "\n",
       "<h3>Value</h3>\n",
       "\n",
       "<p><code>factor</code> returns an object of class <code>\"factor\"</code> which has a\n",
       "set of integer codes the length of <code>x</code> with a <code>\"levels\"</code>\n",
       "attribute of mode <code>character</code> and unique\n",
       "(<code>!anyDuplicated(.)</code>) entries.  If argument <code>ordered</code>\n",
       "is true (or <code>ordered()</code> is used) the result has class\n",
       "<code>c(\"ordered\", \"factor\")</code>.\n",
       "</p>\n",
       "<p>Applying <code>factor</code> to an ordered or unordered factor returns a\n",
       "factor (of the same type) with just the levels which occur: see also\n",
       "<code>[.factor</code> for a more transparent way to achieve this.\n",
       "</p>\n",
       "<p><code>is.factor</code> returns <code>TRUE</code> or <code>FALSE</code> depending on\n",
       "whether its argument is of type factor or not.  Correspondingly,\n",
       "<code>is.ordered</code> returns <code>TRUE</code> when its argument is an ordered\n",
       "factor and <code>FALSE</code> otherwise.\n",
       "</p>\n",
       "<p><code>as.factor</code> coerces its argument to a factor.\n",
       "It is an abbreviated form of <code>factor</code>.\n",
       "</p>\n",
       "<p><code>as.ordered(x)</code> returns <code>x</code> if this is ordered, and\n",
       "<code>ordered(x)</code> otherwise.\n",
       "</p>\n",
       "<p><code>addNA</code> modifies a factor by turning <code>NA</code> into an extra\n",
       "level (so that <code>NA</code> values are counted in tables, for instance).\n",
       "</p>\n",
       "\n",
       "\n",
       "<h3>Warning</h3>\n",
       "\n",
       "<p>The interpretation of a factor depends on both the codes and the\n",
       "<code>\"levels\"</code> attribute.  Be careful only to compare factors with\n",
       "the same set of levels (in the same order).  In particular,\n",
       "<code>as.numeric</code> applied to a factor is meaningless, and may\n",
       "happen by implicit coercion.  To transform a factor <code>f</code> to\n",
       "approximately its original numeric values,\n",
       "<code>as.numeric(levels(f))[f]</code> is recommended and slightly more\n",
       "efficient than <code>as.numeric(as.character(f))</code>.\n",
       "</p>\n",
       "<p>The levels of a factor are by default sorted, but the sort order\n",
       "may well depend on the locale at the time of creation, and should\n",
       "not be assumed to be ASCII.\n",
       "</p>\n",
       "<p>There are some anomalies associated with factors that have\n",
       "<code>NA</code> as a level.  It is suggested to use them sparingly, e.g.,\n",
       "only for tabulation purposes.\n",
       "</p>\n",
       "\n",
       "\n",
       "<h3>Comparison operators and group generic methods</h3>\n",
       "\n",
       "<p>There are <code>\"factor\"</code> and <code>\"ordered\"</code> methods for the\n",
       "group generic <code>Ops</code> which\n",
       "provide methods for the Comparison operators,\n",
       "and for the <code>min</code>, <code>max</code>, and\n",
       "<code>range</code> generics in <code>Summary</code>\n",
       "of <code>\"ordered\"</code>.  (The rest of the groups and the\n",
       "<code>Math</code> group generate an error as they\n",
       "are not meaningful for factors.)\n",
       "</p>\n",
       "<p>Only <code>==</code> and <code>!=</code> can be used for factors: a factor can\n",
       "only be compared to another factor with an identical set of levels\n",
       "(not necessarily in the same ordering) or to a character vector.\n",
       "Ordered factors are compared in the same way, but the general dispatch\n",
       "mechanism precludes comparing ordered and unordered factors.\n",
       "</p>\n",
       "<p>All the comparison operators are available for ordered factors.\n",
       "Collation is done by the levels of the operands: if both operands are\n",
       "ordered factors they must have the same level set.\n",
       "</p>\n",
       "\n",
       "\n",
       "<h3>Note</h3>\n",
       "\n",
       "<p>In earlier versions of <font face=\"Courier New,Courier\" color=\"#666666\"><b>R</b></font>, storing character data as a factor was more\n",
       "space efficient if there is even a small proportion of\n",
       "repeats.  However, identical character strings now share storage, so\n",
       "the difference is small in most cases.  (Integer values are stored\n",
       "in 4 bytes whereas each reference to a character string needs a\n",
       "pointer of 4 or 8 bytes.)\n",
       "</p>\n",
       "\n",
       "\n",
       "<h3>References</h3>\n",
       "\n",
       "<p>Chambers, J. M. and Hastie, T. J. (1992)\n",
       "<EM>Statistical Models in S</EM>.\n",
       "Wadsworth &amp; Brooks/Cole.\n",
       "</p>\n",
       "\n",
       "\n",
       "<h3>See Also</h3>\n",
       "\n",
       "<p><code>[.factor</code> for subsetting of factors.\n",
       "</p>\n",
       "<p><code>gl</code> for construction of balanced factors and\n",
       "<code>C</code> for factors with specified contrasts.\n",
       "<code>levels</code> and <code>nlevels</code> for accessing the\n",
       "levels, and <code>unclass</code> to get integer codes.\n",
       "</p>\n",
       "\n",
       "\n",
       "<h3>Examples</h3>\n",
       "\n",
       "<pre>\n",
       "(ff &lt;- factor(substring(\"statistics\", 1:10, 1:10), levels = letters))\n",
       "as.integer(ff)      # the internal codes\n",
       "(f. &lt;- factor(ff))  # drops the levels that do not occur\n",
       "ff[, drop = TRUE]   # the same, more transparently\n",
       "\n",
       "factor(letters[1:20], labels = \"letter\")\n",
       "\n",
       "class(ordered(4:1)) # \"ordered\", inheriting from \"factor\"\n",
       "z &lt;- factor(LETTERS[3:1], ordered = TRUE)\n",
       "## and \"relational\" methods work:\n",
       "stopifnot(sort(z)[c(1,3)] == range(z), min(z) &lt; max(z))\n",
       "\n",
       "\n",
       "## suppose you want \"NA\" as a level, and to allow missing values.\n",
       "(x &lt;- factor(c(1, 2, NA), exclude = NULL))\n",
       "is.na(x)[2] &lt;- TRUE\n",
       "x  # [1] 1    &lt;NA&gt; &lt;NA&gt;\n",
       "is.na(x)\n",
       "# [1] FALSE  TRUE FALSE\n",
       "\n",
       "## Using addNA()\n",
       "Month &lt;- airquality$Month\n",
       "table(addNA(Month))\n",
       "table(addNA(Month, ifany = TRUE))\n",
       "</pre>\n",
       "\n",
       "<hr><div align=\"center\">[Package <em>base</em> version 3.1.3 ]</div>"
      ],
      "text/latex": [
       "\\inputencoding{utf8}\n",
       "\\HeaderA{factor}{Factors}{factor}\n",
       "\\aliasA{addNA}{factor}{addNA}\n",
       "\\aliasA{as.factor}{factor}{as.factor}\n",
       "\\aliasA{as.ordered}{factor}{as.ordered}\n",
       "\\aliasA{is.factor}{factor}{is.factor}\n",
       "\\aliasA{is.na<\\Rdash.factor}{factor}{is.na<.Rdash..factor}\n",
       "\\aliasA{is.ordered}{factor}{is.ordered}\n",
       "\\aliasA{Math.factor}{factor}{Math.factor}\n",
       "\\aliasA{Ops.factor}{factor}{Ops.factor}\n",
       "\\aliasA{Ops.ordered}{factor}{Ops.ordered}\n",
       "\\aliasA{ordered}{factor}{ordered}\n",
       "\\aliasA{Summary.factor}{factor}{Summary.factor}\n",
       "\\aliasA{Summary.ordered}{factor}{Summary.ordered}\n",
       "\\keyword{category}{factor}\n",
       "\\keyword{NA}{factor}\n",
       "%\n",
       "\\begin{Description}\\relax\n",
       "The function \\code{factor} is used to encode a vector as a factor (the\n",
       "terms `category' and `enumerated type' are also used for\n",
       "factors).  If argument \\code{ordered} is \\code{TRUE}, the factor\n",
       "levels are assumed to be ordered.  For compatibility with S there is\n",
       "also a function \\code{ordered}.\n",
       "\n",
       "\\code{is.factor}, \\code{is.ordered}, \\code{as.factor} and \\code{as.ordered}\n",
       "are the membership and coercion functions for these classes.\n",
       "\\end{Description}\n",
       "%\n",
       "\\begin{Usage}\n",
       "\\begin{verbatim}\n",
       "factor(x = character(), levels, labels = levels,\n",
       "       exclude = NA, ordered = is.ordered(x), nmax = NA)\n",
       "\n",
       "ordered(x, ...)\n",
       "\n",
       "is.factor(x)\n",
       "is.ordered(x)\n",
       "\n",
       "as.factor(x)\n",
       "as.ordered(x)\n",
       "\n",
       "addNA(x, ifany = FALSE)\n",
       "\\end{verbatim}\n",
       "\\end{Usage}\n",
       "%\n",
       "\\begin{Arguments}\n",
       "\\begin{ldescription}\n",
       "\\item[\\code{x}] a vector of data, usually taking a small number of distinct\n",
       "values.\n",
       "\\item[\\code{levels}] an optional vector of the values (as character strings)\n",
       "that \\code{x} might have taken.  The default is the unique set of\n",
       "values taken by \\code{\\LinkA{as.character}{as.character}(x)}, sorted into\n",
       "increasing order \\emph{of \\code{x}}.  Note that this set can be\n",
       "specified as smaller than \\code{sort(unique(x))}.\n",
       "\\item[\\code{labels}] \\emph{either} an optional character vector of labels for the\n",
       "levels (in the same order as \\code{levels} after removing those in\n",
       "\\code{exclude}), \\emph{or} a character string of length 1.\n",
       "\\item[\\code{exclude}] a vector of values to be excluded when forming the\n",
       "set of levels.  This should be of the same type as \\code{x}, and\n",
       "will be coerced if necessary.\n",
       "\\item[\\code{ordered}] logical flag to determine if the levels should be regarded\n",
       "as ordered (in the order given).\n",
       "\\item[\\code{nmax}] an upper bound on the number of levels; see `Details'.\n",
       "\\item[\\code{...}] (in \\code{ordered(.)}): any of the above, apart from\n",
       "\\code{ordered} itself.\n",
       "\\item[\\code{ifany}] (only add an \\code{NA} level if it is used, i.e.\n",
       "if \\code{any(is.na(x))}.\n",
       "\\end{ldescription}\n",
       "\\end{Arguments}\n",
       "%\n",
       "\\begin{Details}\\relax\n",
       "The type of the vector \\code{x} is not restricted; it only must have\n",
       "an \\code{\\LinkA{as.character}{as.character}} method and be sortable (by\n",
       "\\code{\\LinkA{sort.list}{sort.list}}).\n",
       "\n",
       "Ordered factors differ from factors only in their class, but methods\n",
       "and the model-fitting functions treat the two classes quite differently.\n",
       "\n",
       "The encoding of the vector happens as follows.  First all the values\n",
       "in \\code{exclude} are removed from \\code{levels}. If \\code{x[i]}\n",
       "equals \\code{levels[j]}, then the \\code{i}-th element of the result is\n",
       "\\code{j}.  If no match is found for \\code{x[i]} in \\code{levels}\n",
       "(which will happen for excluded values) then the \\code{i}-th element\n",
       "of the result is set to \\code{\\LinkA{NA}{NA}}.\n",
       "\n",
       "Normally the `levels' used as an attribute of the result are\n",
       "the reduced set of levels after removing those in \\code{exclude}, but\n",
       "this can be altered by supplying \\code{labels}.  This should either\n",
       "be a set of new labels for the levels, or a character string, in\n",
       "which case the levels are that character string with a sequence\n",
       "number appended.\n",
       "\n",
       "\\code{factor(x, exclude = NULL)} applied to a factor is a no-operation\n",
       "unless there are unused levels: in that case, a factor with the\n",
       "reduced level set is returned.  If \\code{exclude} is used it should\n",
       "also be a factor with the same level set as \\code{x} or a set of codes\n",
       "for the levels to be excluded.\n",
       "\n",
       "The codes of a factor may contain \\code{\\LinkA{NA}{NA}}.  For a numeric\n",
       "\\code{x}, set \\code{exclude = NULL} to make \\code{\\LinkA{NA}{NA}} an extra\n",
       "level (prints as \\code{<NA>}); by default, this is the last level.\n",
       "\n",
       "If \\code{NA} is a level, the way to set a code to be missing (as\n",
       "opposed to the code of the missing level) is to\n",
       "use \\code{\\LinkA{is.na}{is.na}} on the left-hand-side of an assignment (as in\n",
       "\\code{is.na(f)[i] <- TRUE}; indexing inside \\code{is.na} does not work).\n",
       "Under those circumstances missing values are currently printed as\n",
       "\\code{<NA>}, i.e., identical to entries of level \\code{NA}.\n",
       "\n",
       "\\code{is.factor} is generic: you can write methods to handle\n",
       "specific classes of objects, see \\LinkA{InternalMethods}{InternalMethods}.\n",
       "\n",
       "Where \\code{levels} is not supplied, \\code{\\LinkA{unique}{unique}} is called.\n",
       "Since factors typically have quite a small number of levels, for large\n",
       "vectors \\code{x} it is helpful to supply \\code{nmax} as an upper bound\n",
       "on the number of unique values.\n",
       "\\end{Details}\n",
       "%\n",
       "\\begin{Value}\n",
       "\\code{factor} returns an object of class \\code{\"factor\"} which has a\n",
       "set of integer codes the length of \\code{x} with a \\code{\"levels\"}\n",
       "attribute of mode \\code{\\LinkA{character}{character}} and unique\n",
       "(\\code{!\\LinkA{anyDuplicated}{anyDuplicated}(.)}) entries.  If argument \\code{ordered}\n",
       "is true (or \\code{ordered()} is used) the result has class\n",
       "\\code{c(\"ordered\", \"factor\")}.\n",
       "\n",
       "Applying \\code{factor} to an ordered or unordered factor returns a\n",
       "factor (of the same type) with just the levels which occur: see also\n",
       "\\code{\\LinkA{[.factor}{[.factor}} for a more transparent way to achieve this.\n",
       "\n",
       "\\code{is.factor} returns \\code{TRUE} or \\code{FALSE} depending on\n",
       "whether its argument is of type factor or not.  Correspondingly,\n",
       "\\code{is.ordered} returns \\code{TRUE} when its argument is an ordered\n",
       "factor and \\code{FALSE} otherwise.\n",
       "\n",
       "\\code{as.factor} coerces its argument to a factor.\n",
       "It is an abbreviated form of \\code{factor}.\n",
       "\n",
       "\\code{as.ordered(x)} returns \\code{x} if this is ordered, and\n",
       "\\code{ordered(x)} otherwise.\n",
       "\n",
       "\\code{addNA} modifies a factor by turning \\code{NA} into an extra\n",
       "level (so that \\code{NA} values are counted in tables, for instance).\n",
       "\\end{Value}\n",
       "%\n",
       "\\begin{Section}{Warning}\n",
       "The interpretation of a factor depends on both the codes and the\n",
       "\\code{\"levels\"} attribute.  Be careful only to compare factors with\n",
       "the same set of levels (in the same order).  In particular,\n",
       "\\code{as.numeric} applied to a factor is meaningless, and may\n",
       "happen by implicit coercion.  To transform a factor \\code{f} to\n",
       "approximately its original numeric values,\n",
       "\\code{as.numeric(levels(f))[f]} is recommended and slightly more\n",
       "efficient than \\code{as.numeric(as.character(f))}.\n",
       "\n",
       "The levels of a factor are by default sorted, but the sort order\n",
       "may well depend on the locale at the time of creation, and should\n",
       "not be assumed to be ASCII.\n",
       "\n",
       "There are some anomalies associated with factors that have\n",
       "\\code{NA} as a level.  It is suggested to use them sparingly, e.g.,\n",
       "only for tabulation purposes.\n",
       "\\end{Section}\n",
       "%\n",
       "\\begin{Section}{Comparison operators and group generic methods}\n",
       "There are \\code{\"factor\"} and \\code{\"ordered\"} methods for the\n",
       "\\LinkA{group generic}{group generic} \\code{\\LinkA{Ops}{S3groupGeneric}} which\n",
       "provide methods for the \\LinkA{Comparison}{Comparison} operators,\n",
       "and for the \\code{\\LinkA{min}{min}}, \\code{\\LinkA{max}{max}}, and\n",
       "\\code{\\LinkA{range}{range}} generics in \\code{\\LinkA{Summary}{S3groupGeneric}}\n",
       "of \\code{\"ordered\"}.  (The rest of the groups and the\n",
       "\\code{\\LinkA{Math}{S3groupGeneric}} group generate an error as they\n",
       "are not meaningful for factors.)\n",
       "\n",
       "Only \\code{==} and \\code{!=} can be used for factors: a factor can\n",
       "only be compared to another factor with an identical set of levels\n",
       "(not necessarily in the same ordering) or to a character vector.\n",
       "Ordered factors are compared in the same way, but the general dispatch\n",
       "mechanism precludes comparing ordered and unordered factors.\n",
       "\n",
       "All the comparison operators are available for ordered factors.\n",
       "Collation is done by the levels of the operands: if both operands are\n",
       "ordered factors they must have the same level set.\n",
       "\\end{Section}\n",
       "%\n",
       "\\begin{Note}\\relax\n",
       "In earlier versions of \\R{}, storing character data as a factor was more\n",
       "space efficient if there is even a small proportion of\n",
       "repeats.  However, identical character strings now share storage, so\n",
       "the difference is small in most cases.  (Integer values are stored\n",
       "in 4 bytes whereas each reference to a character string needs a\n",
       "pointer of 4 or 8 bytes.)\n",
       "\\end{Note}\n",
       "%\n",
       "\\begin{References}\\relax\n",
       "Chambers, J. M. and Hastie, T. J. (1992)\n",
       "\\emph{Statistical Models in S}.\n",
       "Wadsworth \\& Brooks/Cole.\n",
       "\\end{References}\n",
       "%\n",
       "\\begin{SeeAlso}\\relax\n",
       "\\code{\\LinkA{[.factor}{[.factor}} for subsetting of factors.\n",
       "\n",
       "\\code{\\LinkA{gl}{gl}} for construction of balanced factors and\n",
       "\\code{\\LinkA{C}{C}} for factors with specified contrasts.\n",
       "\\code{\\LinkA{levels}{levels}} and \\code{\\LinkA{nlevels}{nlevels}} for accessing the\n",
       "levels, and \\code{\\LinkA{unclass}{unclass}} to get integer codes.\n",
       "\\end{SeeAlso}\n",
       "%\n",
       "\\begin{Examples}\n",
       "\\begin{ExampleCode}\n",
       "(ff <- factor(substring(\"statistics\", 1:10, 1:10), levels = letters))\n",
       "as.integer(ff)      # the internal codes\n",
       "(f. <- factor(ff))  # drops the levels that do not occur\n",
       "ff[, drop = TRUE]   # the same, more transparently\n",
       "\n",
       "factor(letters[1:20], labels = \"letter\")\n",
       "\n",
       "class(ordered(4:1)) # \"ordered\", inheriting from \"factor\"\n",
       "z <- factor(LETTERS[3:1], ordered = TRUE)\n",
       "## and \"relational\" methods work:\n",
       "stopifnot(sort(z)[c(1,3)] == range(z), min(z) < max(z))\n",
       "\n",
       "\n",
       "## suppose you want \"NA\" as a level, and to allow missing values.\n",
       "(x <- factor(c(1, 2, NA), exclude = NULL))\n",
       "is.na(x)[2] <- TRUE\n",
       "x  # [1] 1    <NA> <NA>\n",
       "is.na(x)\n",
       "# [1] FALSE  TRUE FALSE\n",
       "\n",
       "## Using addNA()\n",
       "Month <- airquality$Month\n",
       "table(addNA(Month))\n",
       "table(addNA(Month, ifany = TRUE))\n",
       "\\end{ExampleCode}\n",
       "\\end{Examples}"
      ],
      "text/plain": [
       "factor                  package:base                   R Documentation\n",
       "\n",
       "_\bF_\ba_\bc_\bt_\bo_\br_\bs\n",
       "\n",
       "_\bD_\be_\bs_\bc_\br_\bi_\bp_\bt_\bi_\bo_\bn:\n",
       "\n",
       "     The function 'factor' is used to encode a vector as a factor (the\n",
       "     terms 'category' and 'enumerated type' are also used for factors).\n",
       "     If argument 'ordered' is 'TRUE', the factor levels are assumed to\n",
       "     be ordered.  For compatibility with S there is also a function\n",
       "     'ordered'.\n",
       "\n",
       "     'is.factor', 'is.ordered', 'as.factor' and 'as.ordered' are the\n",
       "     membership and coercion functions for these classes.\n",
       "\n",
       "_\bU_\bs_\ba_\bg_\be:\n",
       "\n",
       "     factor(x = character(), levels, labels = levels,\n",
       "            exclude = NA, ordered = is.ordered(x), nmax = NA)\n",
       "     \n",
       "     ordered(x, ...)\n",
       "     \n",
       "     is.factor(x)\n",
       "     is.ordered(x)\n",
       "     \n",
       "     as.factor(x)\n",
       "     as.ordered(x)\n",
       "     \n",
       "     addNA(x, ifany = FALSE)\n",
       "     \n",
       "_\bA_\br_\bg_\bu_\bm_\be_\bn_\bt_\bs:\n",
       "\n",
       "       x: a vector of data, usually taking a small number of distinct\n",
       "          values.\n",
       "\n",
       "  levels: an optional vector of the values (as character strings) that\n",
       "          'x' might have taken.  The default is the unique set of\n",
       "          values taken by 'as.character(x)', sorted into increasing\n",
       "          order _of 'x'_.  Note that this set can be specified as\n",
       "          smaller than 'sort(unique(x))'.\n",
       "\n",
       "  labels: _either_ an optional character vector of labels for the\n",
       "          levels (in the same order as 'levels' after removing those in\n",
       "          'exclude'), _or_ a character string of length 1.\n",
       "\n",
       " exclude: a vector of values to be excluded when forming the set of\n",
       "          levels.  This should be of the same type as 'x', and will be\n",
       "          coerced if necessary.\n",
       "\n",
       " ordered: logical flag to determine if the levels should be regarded as\n",
       "          ordered (in the order given).\n",
       "\n",
       "    nmax: an upper bound on the number of levels; see 'Details'.\n",
       "\n",
       "     ...: (in 'ordered(.)'): any of the above, apart from 'ordered'\n",
       "          itself.\n",
       "\n",
       "   ifany: (only add an 'NA' level if it is used, i.e.  if\n",
       "          'any(is.na(x))'.\n",
       "\n",
       "_\bD_\be_\bt_\ba_\bi_\bl_\bs:\n",
       "\n",
       "     The type of the vector 'x' is not restricted; it only must have an\n",
       "     'as.character' method and be sortable (by 'sort.list').\n",
       "\n",
       "     Ordered factors differ from factors only in their class, but\n",
       "     methods and the model-fitting functions treat the two classes\n",
       "     quite differently.\n",
       "\n",
       "     The encoding of the vector happens as follows.  First all the\n",
       "     values in 'exclude' are removed from 'levels'. If 'x[i]' equals\n",
       "     'levels[j]', then the 'i'-th element of the result is 'j'.  If no\n",
       "     match is found for 'x[i]' in 'levels' (which will happen for\n",
       "     excluded values) then the 'i'-th element of the result is set to\n",
       "     'NA'.\n",
       "\n",
       "     Normally the 'levels' used as an attribute of the result are the\n",
       "     reduced set of levels after removing those in 'exclude', but this\n",
       "     can be altered by supplying 'labels'.  This should either be a set\n",
       "     of new labels for the levels, or a character string, in which case\n",
       "     the levels are that character string with a sequence number\n",
       "     appended.\n",
       "\n",
       "     'factor(x, exclude = NULL)' applied to a factor is a no-operation\n",
       "     unless there are unused levels: in that case, a factor with the\n",
       "     reduced level set is returned.  If 'exclude' is used it should\n",
       "     also be a factor with the same level set as 'x' or a set of codes\n",
       "     for the levels to be excluded.\n",
       "\n",
       "     The codes of a factor may contain 'NA'.  For a numeric 'x', set\n",
       "     'exclude = NULL' to make 'NA' an extra level (prints as '<NA>');\n",
       "     by default, this is the last level.\n",
       "\n",
       "     If 'NA' is a level, the way to set a code to be missing (as\n",
       "     opposed to the code of the missing level) is to use 'is.na' on the\n",
       "     left-hand-side of an assignment (as in 'is.na(f)[i] <- TRUE';\n",
       "     indexing inside 'is.na' does not work).  Under those circumstances\n",
       "     missing values are currently printed as '<NA>', i.e., identical to\n",
       "     entries of level 'NA'.\n",
       "\n",
       "     'is.factor' is generic: you can write methods to handle specific\n",
       "     classes of objects, see InternalMethods.\n",
       "\n",
       "     Where 'levels' is not supplied, 'unique' is called.  Since factors\n",
       "     typically have quite a small number of levels, for large vectors\n",
       "     'x' it is helpful to supply 'nmax' as an upper bound on the number\n",
       "     of unique values.\n",
       "\n",
       "_\bV_\ba_\bl_\bu_\be:\n",
       "\n",
       "     'factor' returns an object of class '\"factor\"' which has a set of\n",
       "     integer codes the length of 'x' with a '\"levels\"' attribute of\n",
       "     mode 'character' and unique ('!anyDuplicated(.)') entries.  If\n",
       "     argument 'ordered' is true (or 'ordered()' is used) the result has\n",
       "     class 'c(\"ordered\", \"factor\")'.\n",
       "\n",
       "     Applying 'factor' to an ordered or unordered factor returns a\n",
       "     factor (of the same type) with just the levels which occur: see\n",
       "     also '[.factor' for a more transparent way to achieve this.\n",
       "\n",
       "     'is.factor' returns 'TRUE' or 'FALSE' depending on whether its\n",
       "     argument is of type factor or not.  Correspondingly, 'is.ordered'\n",
       "     returns 'TRUE' when its argument is an ordered factor and 'FALSE'\n",
       "     otherwise.\n",
       "\n",
       "     'as.factor' coerces its argument to a factor.  It is an\n",
       "     abbreviated form of 'factor'.\n",
       "\n",
       "     'as.ordered(x)' returns 'x' if this is ordered, and 'ordered(x)'\n",
       "     otherwise.\n",
       "\n",
       "     'addNA' modifies a factor by turning 'NA' into an extra level (so\n",
       "     that 'NA' values are counted in tables, for instance).\n",
       "\n",
       "_\bW_\ba_\br_\bn_\bi_\bn_\bg:\n",
       "\n",
       "     The interpretation of a factor depends on both the codes and the\n",
       "     '\"levels\"' attribute.  Be careful only to compare factors with the\n",
       "     same set of levels (in the same order).  In particular,\n",
       "     'as.numeric' applied to a factor is meaningless, and may happen by\n",
       "     implicit coercion.  To transform a factor 'f' to approximately its\n",
       "     original numeric values, 'as.numeric(levels(f))[f]' is recommended\n",
       "     and slightly more efficient than 'as.numeric(as.character(f))'.\n",
       "\n",
       "     The levels of a factor are by default sorted, but the sort order\n",
       "     may well depend on the locale at the time of creation, and should\n",
       "     not be assumed to be ASCII.\n",
       "\n",
       "     There are some anomalies associated with factors that have 'NA' as\n",
       "     a level.  It is suggested to use them sparingly, e.g., only for\n",
       "     tabulation purposes.\n",
       "\n",
       "_\bC_\bo_\bm_\bp_\ba_\br_\bi_\bs_\bo_\bn _\bo_\bp_\be_\br_\ba_\bt_\bo_\br_\bs _\ba_\bn_\bd _\bg_\br_\bo_\bu_\bp _\bg_\be_\bn_\be_\br_\bi_\bc _\bm_\be_\bt_\bh_\bo_\bd_\bs:\n",
       "\n",
       "     There are '\"factor\"' and '\"ordered\"' methods for the group generic\n",
       "     'Ops' which provide methods for the Comparison operators, and for\n",
       "     the 'min', 'max', and 'range' generics in 'Summary' of\n",
       "     '\"ordered\"'.  (The rest of the groups and the 'Math' group\n",
       "     generate an error as they are not meaningful for factors.)\n",
       "\n",
       "     Only '==' and '!=' can be used for factors: a factor can only be\n",
       "     compared to another factor with an identical set of levels (not\n",
       "     necessarily in the same ordering) or to a character vector.\n",
       "     Ordered factors are compared in the same way, but the general\n",
       "     dispatch mechanism precludes comparing ordered and unordered\n",
       "     factors.\n",
       "\n",
       "     All the comparison operators are available for ordered factors.\n",
       "     Collation is done by the levels of the operands: if both operands\n",
       "     are ordered factors they must have the same level set.\n",
       "\n",
       "_\bN_\bo_\bt_\be:\n",
       "\n",
       "     In earlier versions of R, storing character data as a factor was\n",
       "     more space efficient if there is even a small proportion of\n",
       "     repeats.  However, identical character strings now share storage,\n",
       "     so the difference is small in most cases.  (Integer values are\n",
       "     stored in 4 bytes whereas each reference to a character string\n",
       "     needs a pointer of 4 or 8 bytes.)\n",
       "\n",
       "_\bR_\be_\bf_\be_\br_\be_\bn_\bc_\be_\bs:\n",
       "\n",
       "     Chambers, J. M. and Hastie, T. J. (1992) _Statistical Models in\n",
       "     S_.  Wadsworth & Brooks/Cole.\n",
       "\n",
       "_\bS_\be_\be _\bA_\bl_\bs_\bo:\n",
       "\n",
       "     '[.factor' for subsetting of factors.\n",
       "\n",
       "     'gl' for construction of balanced factors and 'C' for factors with\n",
       "     specified contrasts.  'levels' and 'nlevels' for accessing the\n",
       "     levels, and 'unclass' to get integer codes.\n",
       "\n",
       "_\bE_\bx_\ba_\bm_\bp_\bl_\be_\bs:\n",
       "\n",
       "     (ff <- factor(substring(\"statistics\", 1:10, 1:10), levels = letters))\n",
       "     as.integer(ff)      # the internal codes\n",
       "     (f. <- factor(ff))  # drops the levels that do not occur\n",
       "     ff[, drop = TRUE]   # the same, more transparently\n",
       "     \n",
       "     factor(letters[1:20], labels = \"letter\")\n",
       "     \n",
       "     class(ordered(4:1)) # \"ordered\", inheriting from \"factor\"\n",
       "     z <- factor(LETTERS[3:1], ordered = TRUE)\n",
       "     ## and \"relational\" methods work:\n",
       "     stopifnot(sort(z)[c(1,3)] == range(z), min(z) < max(z))\n",
       "     \n",
       "     \n",
       "     ## suppose you want \"NA\" as a level, and to allow missing values.\n",
       "     (x <- factor(c(1, 2, NA), exclude = NULL))\n",
       "     is.na(x)[2] <- TRUE\n",
       "     x  # [1] 1    <NA> <NA>\n",
       "     is.na(x)\n",
       "     # [1] FALSE  TRUE FALSE\n",
       "     \n",
       "     ## Using addNA()\n",
       "     Month <- airquality$Month\n",
       "     table(addNA(Month))\n",
       "     table(addNA(Month, ifany = TRUE))\n",
       "     "
      ]
     },
     "execution_count": 62,
     "metadata": {},
     "output_type": "execute_result"
    }
   ],
   "source": [
    "help(factor)"
   ]
  },
  {
   "cell_type": "code",
   "execution_count": 63,
   "metadata": {
    "collapsed": false
   },
   "outputs": [
    {
     "data": {
      "text/html": [
       "<ol class=list-inline>\n",
       "\t<li>Mili</li>\n",
       "\t<li>Cesar</li>\n",
       "\t<li>Cesar</li>\n",
       "\t<li>Mili</li>\n",
       "</ol>\n"
      ],
      "text/latex": [
       "\\begin{enumerate*}\n",
       "\\item Mili\n",
       "\\item Cesar\n",
       "\\item Cesar\n",
       "\\item Mili\n",
       "\\end{enumerate*}\n"
      ],
      "text/markdown": [
       "1. Mili\n",
       "2. Cesar\n",
       "3. Cesar\n",
       "4. Mili\n",
       "\n",
       "\n"
      ],
      "text/plain": [
       "[1] Mili  Cesar Cesar Mili \n",
       "Levels: Cesar Mili"
      ]
     },
     "execution_count": 63,
     "metadata": {},
     "output_type": "execute_result"
    },
    {
     "data": {
      "text/html": [
       "\"factor\""
      ],
      "text/latex": [
       "\"factor\""
      ],
      "text/markdown": [
       "\"factor\""
      ],
      "text/plain": [
       "[1] \"factor\""
      ]
     },
     "execution_count": 63,
     "metadata": {},
     "output_type": "execute_result"
    },
    {
     "data": {
      "text/html": [
       "<ol class=list-inline>\n",
       "\t<li>\"Cesar\"</li>\n",
       "\t<li>\"Mili\"</li>\n",
       "</ol>\n"
      ],
      "text/latex": [
       "\\begin{enumerate*}\n",
       "\\item \"Cesar\"\n",
       "\\item \"Mili\"\n",
       "\\end{enumerate*}\n"
      ],
      "text/markdown": [
       "1. \"Cesar\"\n",
       "2. \"Mili\"\n",
       "\n",
       "\n"
      ],
      "text/plain": [
       "[1] \"Cesar\" \"Mili\" "
      ]
     },
     "execution_count": 63,
     "metadata": {},
     "output_type": "execute_result"
    },
    {
     "name": "stderr",
     "output_type": "stream",
     "text": [
      "Warning message:\n",
      "In `[<-.factor`(`*tmp*`, 2, value = \"Python\"): invalid factor level, NA generated"
     ]
    },
    {
     "data": {
      "text/html": [
       "<ol class=list-inline>\n",
       "\t<li>Mili</li>\n",
       "\t<li>NA</li>\n",
       "\t<li>Cesar</li>\n",
       "\t<li>Mili</li>\n",
       "</ol>\n"
      ],
      "text/latex": [
       "\\begin{enumerate*}\n",
       "\\item Mili\n",
       "\\item NA\n",
       "\\item Cesar\n",
       "\\item Mili\n",
       "\\end{enumerate*}\n"
      ],
      "text/markdown": [
       "1. Mili\n",
       "2. NA\n",
       "3. Cesar\n",
       "4. Mili\n",
       "\n",
       "\n"
      ],
      "text/plain": [
       "[1] Mili  <NA>  Cesar Mili \n",
       "Levels: Cesar Mili"
      ]
     },
     "execution_count": 63,
     "metadata": {},
     "output_type": "execute_result"
    },
    {
     "data": {
      "text/html": [
       "<ol class=list-inline>\n",
       "\t<li>1</li>\n",
       "\t<li>1</li>\n",
       "</ol>\n"
      ],
      "text/latex": [
       "\\begin{enumerate*}\n",
       "\\item 1\n",
       "\\item 1\n",
       "\\end{enumerate*}\n"
      ],
      "text/markdown": [
       "1. 1\n",
       "2. 1\n",
       "\n",
       "\n"
      ],
      "text/plain": [
       "[1] 1 1"
      ]
     },
     "execution_count": 63,
     "metadata": {},
     "output_type": "execute_result"
    }
   ],
   "source": [
    "x <- factor(c(\"Mili\", \"Cesar\", \"Cesar\", \"Mili\"))\n",
    "x\n",
    "class(x)\n",
    "levels(x)\n",
    "\n",
    "# No puede utilizar l valores que no están en los niveles\n",
    "x[2] <- \"Python\"\n",
    "x\n",
    "\n",
    "c(factor(\"Mili\"), factor(\"Cesar\"))"
   ]
  },
  {
   "cell_type": "markdown",
   "metadata": {},
   "source": [
    "Los factores son útiles cuando se conocen los valores posibles que  una variable puede tomar, incluso si  no se ven todos los valores en un determinado conjunto de datos. El uso de un factor en lugar de un vector de caracteres hace obvio cuando algunos grupos no contienen observaciones:"
   ]
  },
  {
   "cell_type": "code",
   "execution_count": 64,
   "metadata": {
    "collapsed": false
   },
   "outputs": [
    {
     "data": {
      "text/plain": [
       "Leng\n",
       "     C Python      R \n",
       "     1      1      1 "
      ]
     },
     "execution_count": 64,
     "metadata": {},
     "output_type": "execute_result"
    },
    {
     "data": {
      "text/plain": [
       "Parad\n",
       "C I F \n",
       "1 0 0 "
      ]
     },
     "execution_count": 64,
     "metadata": {},
     "output_type": "execute_result"
    }
   ],
   "source": [
    "Leng <- c(\"C\", \"Python\", \"R\")\n",
    "Parad <- factor(Leng, levels = c(\"C\", \"I\", \"F\"))\n",
    "\n",
    "table(Leng)\n",
    "table(Parad)"
   ]
  },
  {
   "cell_type": "code",
   "execution_count": 65,
   "metadata": {
    "collapsed": false
   },
   "outputs": [
    {
     "data": {
      "text/html": [
       "<ol class=list-inline>\n",
       "\t<li>3</li>\n",
       "\t<li>4</li>\n",
       "\t<li>6</li>\n",
       "\t<li>4</li>\n",
       "</ol>\n"
      ],
      "text/latex": [
       "\\begin{enumerate*}\n",
       "\\item 3\n",
       "\\item 4\n",
       "\\item 6\n",
       "\\item 4\n",
       "\\end{enumerate*}\n"
      ],
      "text/markdown": [
       "1. 3\n",
       "2. 4\n",
       "3. 6\n",
       "4. 4\n",
       "\n",
       "\n"
      ],
      "text/plain": [
       "[1] 3 4 6 4\n",
       "Levels: 3 4 6"
      ]
     },
     "execution_count": 65,
     "metadata": {},
     "output_type": "execute_result"
    },
    {
     "name": "stdout",
     "output_type": "stream",
     "text": [
      " Factor w/ 3 levels \"3\",\"4\",\"6\": 1 2 3 2\n"
     ]
    },
    {
     "data": {
      "text/html": [
       "<ol class=list-inline>\n",
       "\t<li>1</li>\n",
       "\t<li>2</li>\n",
       "\t<li>3</li>\n",
       "\t<li>2</li>\n",
       "</ol>\n"
      ],
      "text/latex": [
       "\\begin{enumerate*}\n",
       "\\item 1\n",
       "\\item 2\n",
       "\\item 3\n",
       "\\item 2\n",
       "\\end{enumerate*}\n"
      ],
      "text/markdown": [
       "1. 1\n",
       "2. 2\n",
       "3. 3\n",
       "4. 2\n",
       "\n",
       "\n"
      ],
      "text/plain": [
       "[1] 1 2 3 2\n",
       "attr(,\"levels\")\n",
       "[1] \"3\" \"4\" \"6\""
      ]
     },
     "execution_count": 65,
     "metadata": {},
     "output_type": "execute_result"
    },
    {
     "data": {
      "text/html": [
       "<ol class=list-inline>\n",
       "\t<li>\"3\"</li>\n",
       "\t<li>\"4\"</li>\n",
       "\t<li>\"6\"</li>\n",
       "</ol>\n"
      ],
      "text/latex": [
       "\\begin{enumerate*}\n",
       "\\item \"3\"\n",
       "\\item \"4\"\n",
       "\\item \"6\"\n",
       "\\end{enumerate*}\n"
      ],
      "text/markdown": [
       "1. \"3\"\n",
       "2. \"4\"\n",
       "3. \"6\"\n",
       "\n",
       "\n"
      ],
      "text/plain": [
       "[1] \"3\" \"4\" \"6\""
      ]
     },
     "execution_count": 65,
     "metadata": {},
     "output_type": "execute_result"
    }
   ],
   "source": [
    "# Ejemplos del uso de factor\n",
    "\n",
    "h <- c(3,4, 6, 4)\n",
    "h1 <- factor(h)\n",
    "h1\n",
    "str(h1)\n",
    "unclass(h1)\n",
    "levels(h1)\n"
   ]
  },
  {
   "cell_type": "markdown",
   "metadata": {
    "collapsed": true
   },
   "source": [
    "Del ejemplo, anterior, lo importante es `(1, 2,3,2)`  que muestra  que nuestros datos consisten de   un valor de nivel-1, a continuación, de un valor de  nivel-2 y valor  de nivel-3, y, finalmente, otro valor de nivel-2. \n",
    "Los datos han sido registrados por niveles. Los niveles propios se registran también, aunque como caracteres  como puede ser \"5\" en lugar de 5.\n",
    "\n",
    "La longitud de un factor todavía se define en términos de la longitud de la data más que por ejemplo, un conteo del número de niveles:\n"
   ]
  },
  {
   "cell_type": "code",
   "execution_count": 66,
   "metadata": {
    "collapsed": false
   },
   "outputs": [
    {
     "data": {
      "text/html": [
       "4"
      ],
      "text/latex": [
       "4"
      ],
      "text/markdown": [
       "4"
      ],
      "text/plain": [
       "[1] 4"
      ]
     },
     "execution_count": 66,
     "metadata": {},
     "output_type": "execute_result"
    }
   ],
   "source": [
    "length(h1)"
   ]
  },
  {
   "cell_type": "code",
   "execution_count": 67,
   "metadata": {
    "collapsed": false
   },
   "outputs": [
    {
     "data": {
      "text/html": [
       "<ol class=list-inline>\n",
       "\t<li>5</li>\n",
       "\t<li>12</li>\n",
       "\t<li>13</li>\n",
       "\t<li>12</li>\n",
       "</ol>\n"
      ],
      "text/latex": [
       "\\begin{enumerate*}\n",
       "\\item 5\n",
       "\\item 12\n",
       "\\item 13\n",
       "\\item 12\n",
       "\\end{enumerate*}\n"
      ],
      "text/markdown": [
       "1. 5\n",
       "2. 12\n",
       "3. 13\n",
       "4. 12\n",
       "\n",
       "\n"
      ],
      "text/plain": [
       "[1] 5  12 13 12\n",
       "Levels: 5 12 13 88"
      ]
     },
     "execution_count": 67,
     "metadata": {},
     "output_type": "execute_result"
    },
    {
     "data": {
      "text/html": [
       "<ol class=list-inline>\n",
       "\t<li>5</li>\n",
       "\t<li>88</li>\n",
       "\t<li>13</li>\n",
       "\t<li>12</li>\n",
       "</ol>\n"
      ],
      "text/latex": [
       "\\begin{enumerate*}\n",
       "\\item 5\n",
       "\\item 88\n",
       "\\item 13\n",
       "\\item 12\n",
       "\\end{enumerate*}\n"
      ],
      "text/markdown": [
       "1. 5\n",
       "2. 88\n",
       "3. 13\n",
       "4. 12\n",
       "\n",
       "\n"
      ],
      "text/plain": [
       "[1] 5  88 13 12\n",
       "Levels: 5 12 13 88"
      ]
     },
     "execution_count": 67,
     "metadata": {},
     "output_type": "execute_result"
    }
   ],
   "source": [
    "# Podemos anticipar nuevos niveles:\n",
    "\n",
    "h2  <- c(5,12,13,12)\n",
    "h3 <- factor(h2,levels=c(5,12,13,88))\n",
    "h3\n",
    "h3[2] <- 88\n",
    "h3"
   ]
  },
  {
   "cell_type": "code",
   "execution_count": 68,
   "metadata": {
    "collapsed": false
   },
   "outputs": [
    {
     "name": "stderr",
     "output_type": "stream",
     "text": [
      "Warning message:\n",
      "In `[<-.factor`(`*tmp*`, 2, value = 28): invalid factor level, NA generated"
     ]
    }
   ],
   "source": [
    "# No puedes colarte en un nivel ilegal.\n",
    "\n",
    "h3[2] <- 28"
   ]
  },
  {
   "cell_type": "markdown",
   "metadata": {},
   "source": [
    "## Funciones usadas con factores"
   ]
  },
  {
   "cell_type": "markdown",
   "metadata": {
    "collapsed": false
   },
   "source": [
    "`help(tapply)`"
   ]
  },
  {
   "cell_type": "markdown",
   "metadata": {},
   "source": [
    "La función `tapply(x, f, g)`, tiene un vector `x`, un factor `f` o una lista de factores  y `g` una función La operación llevada por  `tapply()` es dividir un vector `x`, en grupos, cada grupo correspondiente al nivel del factor `f` \n",
    "(o a una combinación de niveles de los factores en el caso de múltiples factores) y  aplicarle  la función `g` a los subvectores resultantes de `x` .\n",
    "\n",
    "Cada factor en `f` debe tener la misma longitud que `x`. Si un componente de `f` es un vector debe ser pasado a factor\n",
    "aplicando `as.factor()`. Veamos unos ejemplos\n",
    "\n"
   ]
  },
  {
   "cell_type": "code",
   "execution_count": 69,
   "metadata": {
    "collapsed": false
   },
   "outputs": [
    {
     "data": {
      "text/html": [
       "<ol class=list-inline>\n",
       "\t<li>1</li>\n",
       "\t<li>2</li>\n",
       "\t<li>3</li>\n",
       "\t<li>4</li>\n",
       "\t<li>5</li>\n",
       "\t<li>6</li>\n",
       "\t<li>7</li>\n",
       "\t<li>8</li>\n",
       "\t<li>9</li>\n",
       "\t<li>10</li>\n",
       "\t<li>11</li>\n",
       "\t<li>12</li>\n",
       "\t<li>13</li>\n",
       "\t<li>14</li>\n",
       "\t<li>15</li>\n",
       "\t<li>16</li>\n",
       "\t<li>17</li>\n",
       "\t<li>18</li>\n",
       "\t<li>19</li>\n",
       "\t<li>20</li>\n",
       "</ol>\n"
      ],
      "text/latex": [
       "\\begin{enumerate*}\n",
       "\\item 1\n",
       "\\item 2\n",
       "\\item 3\n",
       "\\item 4\n",
       "\\item 5\n",
       "\\item 6\n",
       "\\item 7\n",
       "\\item 8\n",
       "\\item 9\n",
       "\\item 10\n",
       "\\item 11\n",
       "\\item 12\n",
       "\\item 13\n",
       "\\item 14\n",
       "\\item 15\n",
       "\\item 16\n",
       "\\item 17\n",
       "\\item 18\n",
       "\\item 19\n",
       "\\item 20\n",
       "\\end{enumerate*}\n"
      ],
      "text/markdown": [
       "1. 1\n",
       "2. 2\n",
       "3. 3\n",
       "4. 4\n",
       "5. 5\n",
       "6. 6\n",
       "7. 7\n",
       "8. 8\n",
       "9. 9\n",
       "10. 10\n",
       "11. 11\n",
       "12. 12\n",
       "13. 13\n",
       "14. 14\n",
       "15. 15\n",
       "16. 16\n",
       "17. 17\n",
       "18. 18\n",
       "19. 19\n",
       "20. 20\n",
       "\n",
       "\n"
      ],
      "text/plain": [
       " [1]  1  2  3  4  5  6  7  8  9 10 11 12 13 14 15 16 17 18 19 20"
      ]
     },
     "execution_count": 69,
     "metadata": {},
     "output_type": "execute_result"
    },
    {
     "data": {
      "text/html": [
       "20"
      ],
      "text/latex": [
       "20"
      ],
      "text/markdown": [
       "20"
      ],
      "text/plain": [
       "[1] 20"
      ]
     },
     "execution_count": 69,
     "metadata": {},
     "output_type": "execute_result"
    },
    {
     "data": {
      "text/html": [
       "<ol class=list-inline>\n",
       "\t<li>a</li>\n",
       "\t<li>a</li>\n",
       "\t<li>a</li>\n",
       "\t<li>a</li>\n",
       "\t<li>b</li>\n",
       "\t<li>b</li>\n",
       "\t<li>b</li>\n",
       "\t<li>b</li>\n",
       "\t<li>c</li>\n",
       "\t<li>c</li>\n",
       "\t<li>c</li>\n",
       "\t<li>c</li>\n",
       "\t<li>d</li>\n",
       "\t<li>d</li>\n",
       "\t<li>d</li>\n",
       "\t<li>d</li>\n",
       "\t<li>e</li>\n",
       "\t<li>e</li>\n",
       "\t<li>e</li>\n",
       "\t<li>e</li>\n",
       "</ol>\n"
      ],
      "text/latex": [
       "\\begin{enumerate*}\n",
       "\\item a\n",
       "\\item a\n",
       "\\item a\n",
       "\\item a\n",
       "\\item b\n",
       "\\item b\n",
       "\\item b\n",
       "\\item b\n",
       "\\item c\n",
       "\\item c\n",
       "\\item c\n",
       "\\item c\n",
       "\\item d\n",
       "\\item d\n",
       "\\item d\n",
       "\\item d\n",
       "\\item e\n",
       "\\item e\n",
       "\\item e\n",
       "\\item e\n",
       "\\end{enumerate*}\n"
      ],
      "text/markdown": [
       "1. a\n",
       "2. a\n",
       "3. a\n",
       "4. a\n",
       "5. b\n",
       "6. b\n",
       "7. b\n",
       "8. b\n",
       "9. c\n",
       "10. c\n",
       "11. c\n",
       "12. c\n",
       "13. d\n",
       "14. d\n",
       "15. d\n",
       "16. d\n",
       "17. e\n",
       "18. e\n",
       "19. e\n",
       "20. e\n",
       "\n",
       "\n"
      ],
      "text/plain": [
       " [1] a a a a b b b b c c c c d d d d e e e e\n",
       "Levels: a b c d e"
      ]
     },
     "execution_count": 69,
     "metadata": {},
     "output_type": "execute_result"
    },
    {
     "data": {
      "text/html": [
       "20"
      ],
      "text/latex": [
       "20"
      ],
      "text/markdown": [
       "20"
      ],
      "text/plain": [
       "[1] 20"
      ]
     },
     "execution_count": 69,
     "metadata": {},
     "output_type": "execute_result"
    },
    {
     "data": {
      "text/html": [
       "<dl class=dl-horizontal>\n",
       "\t<dt>a</dt>\n",
       "\t\t<dd>10</dd>\n",
       "\t<dt>b</dt>\n",
       "\t\t<dd>26</dd>\n",
       "\t<dt>c</dt>\n",
       "\t\t<dd>42</dd>\n",
       "\t<dt>d</dt>\n",
       "\t\t<dd>58</dd>\n",
       "\t<dt>e</dt>\n",
       "\t\t<dd>74</dd>\n",
       "</dl>\n"
      ],
      "text/latex": [
       "\\begin{description*}\n",
       "\\item[a] 10\n",
       "\\item[b] 26\n",
       "\\item[c] 42\n",
       "\\item[d] 58\n",
       "\\item[e] 74\n",
       "\\end{description*}\n"
      ],
      "text/markdown": [
       "a\n",
       ":   10b\n",
       ":   26c\n",
       ":   42d\n",
       ":   58e\n",
       ":   74\n",
       "\n"
      ],
      "text/plain": [
       " a  b  c  d  e \n",
       "10 26 42 58 74 "
      ]
     },
     "execution_count": 69,
     "metadata": {},
     "output_type": "execute_result"
    }
   ],
   "source": [
    "# Un vector\n",
    "xt <- 1:20  \n",
    "xt\n",
    "length(xt)\n",
    "\n",
    "# Un factor de la misma longitud, definiendo grupos\n",
    "yt <- factor(rep(letters[1:5], each = 4))  \n",
    "yt\n",
    "length(yt)\n",
    "\n",
    "# Sumemos  los valores de x en cada subgrupo definido por y\n",
    "tapply(xt, yt, sum)  "
   ]
  },
  {
   "cell_type": "code",
   "execution_count": 70,
   "metadata": {
    "collapsed": false
   },
   "outputs": [
    {
     "data": {
      "text/html": [
       "<dl class=dl-horizontal>\n",
       "\t<dt>D</dt>\n",
       "\t\t<dd>41</dd>\n",
       "\t<dt>R</dt>\n",
       "\t\t<dd>31</dd>\n",
       "\t<dt>U</dt>\n",
       "\t\t<dd>21</dd>\n",
       "</dl>\n"
      ],
      "text/latex": [
       "\\begin{description*}\n",
       "\\item[D] 41\n",
       "\\item[R] 31\n",
       "\\item[U] 21\n",
       "\\end{description*}\n"
      ],
      "text/markdown": [
       "D\n",
       ":   41R\n",
       ":   31U\n",
       ":   21\n",
       "\n"
      ],
      "text/plain": [
       " D  R  U \n",
       "41 31 21 "
      ]
     },
     "execution_count": 70,
     "metadata": {},
     "output_type": "execute_result"
    }
   ],
   "source": [
    "# Un pequeño ejemplo\n",
    "\n",
    "edad<- c(25,26,55,37,21,42)\n",
    "af<- c(\"R\", \"D\",\"D\", \"R\", \"U\", \"D\")\n",
    "tapply(edad,af, mean)"
   ]
  },
  {
   "cell_type": "markdown",
   "metadata": {},
   "source": [
    "La función `tapply()` trata al vector `(\"R\", \"D\",\"D\", \"R\", \"U\", \"D\")` como un factor con niveles `\"R\" ,\"D\", \"U\"`, debes notar que  que `\"D\"` ocurre en los índices `2, 3 y 6`; `\"R\"` ocurre en los índices `1` y `4`; y `\"U\"` ocurre en el índice `5`. \n",
    "Por conveniencia eso se refiere a tres vectores indexados `(2,3,6)`, `(1,4)`,`(5)`, como x, y, z respectivamente. entonces  `tapply()` calcula la media de `mean(u[x]), mean(u[y])` y `mean(u[z])` y retorna esas medias en tres elementos de un vector."
   ]
  },
  {
   "cell_type": "code",
   "execution_count": 71,
   "metadata": {
    "collapsed": false
   },
   "outputs": [
    {
     "name": "stdout",
     "output_type": "stream",
     "text": [
      "'data.frame':\t72 obs. of  2 variables:\n",
      " $ count: num  10 7 20 14 14 12 10 23 17 20 ...\n",
      " $ spray: Factor w/ 6 levels \"A\",\"B\",\"C\",\"D\",..: 1 1 1 1 1 1 1 1 1 1 ...\n",
      "List of 6\n",
      " $ A: num [1:12] 10 7 20 14 14 12 10 23 17 20 ...\n",
      " $ B: num [1:12] 11 17 21 11 16 14 17 17 19 21 ...\n",
      " $ C: num [1:12] 0 1 7 2 3 1 2 1 3 0 ...\n",
      " $ D: num [1:12] 3 5 12 6 4 3 5 5 5 5 ...\n",
      " $ E: num [1:12] 3 5 3 5 3 6 1 1 3 2 ...\n",
      " $ F: num [1:12] 11 9 15 22 15 16 13 10 26 26 ...\n"
     ]
    },
    {
     "data": {
      "text/html": [
       "<dl class=dl-horizontal>\n",
       "\t<dt>A</dt>\n",
       "\t\t<dd>14.5</dd>\n",
       "\t<dt>B</dt>\n",
       "\t\t<dd>15.3333333333333</dd>\n",
       "\t<dt>C</dt>\n",
       "\t\t<dd>2.08333333333333</dd>\n",
       "\t<dt>D</dt>\n",
       "\t\t<dd>4.91666666666667</dd>\n",
       "\t<dt>E</dt>\n",
       "\t\t<dd>3.5</dd>\n",
       "\t<dt>F</dt>\n",
       "\t\t<dd>16.6666666666667</dd>\n",
       "</dl>\n"
      ],
      "text/latex": [
       "\\begin{description*}\n",
       "\\item[A] 14.5\n",
       "\\item[B] 15.3333333333333\n",
       "\\item[C] 2.08333333333333\n",
       "\\item[D] 4.91666666666667\n",
       "\\item[E] 3.5\n",
       "\\item[F] 16.6666666666667\n",
       "\\end{description*}\n"
      ],
      "text/markdown": [
       "A\n",
       ":   14.5B\n",
       ":   15.3333333333333C\n",
       ":   2.08333333333333D\n",
       ":   4.91666666666667E\n",
       ":   3.5F\n",
       ":   16.6666666666667\n",
       "\n"
      ],
      "text/plain": [
       "        A         B         C         D         E         F \n",
       "14.500000 15.333333  2.083333  4.916667  3.500000 16.666667 "
      ]
     },
     "execution_count": 71,
     "metadata": {},
     "output_type": "execute_result"
    }
   ],
   "source": [
    "# Un ejemplo mas\n",
    "\n",
    "str(InsectSprays)\n",
    "str(  split(InsectSprays$count, InsectSprays$spray)  )\n",
    "tapply( InsectSprays$count, InsectSprays$spray,  mean )"
   ]
  },
  {
   "cell_type": "markdown",
   "metadata": {
    "collapsed": false
   },
   "source": [
    "```\n",
    "help(split)\n",
    "```"
   ]
  },
  {
   "cell_type": "markdown",
   "metadata": {},
   "source": [
    "La forma básica de `split()` es `split(x,f)` donde `x` es un factor o un data frame y `f` es un factor o una lista de factores. La acción es dividir  `x` en grupos los cuales son retornados como una lista."
   ]
  },
  {
   "cell_type": "code",
   "execution_count": 72,
   "metadata": {
    "collapsed": false
   },
   "outputs": [
    {
     "data": {
      "text/html": [
       "<table>\n",
       "<thead><tr><th></th><th scope=col>Ozone</th><th scope=col>Solar.R</th><th scope=col>Wind</th><th scope=col>Temp</th><th scope=col>Month</th><th scope=col>Day</th></tr></thead>\n",
       "<tbody>\n",
       "\t<tr><th scope=row>1</th><td>41</td><td>190</td><td>7.4</td><td>67</td><td>5</td><td>1</td></tr>\n",
       "\t<tr><th scope=row>2</th><td>36</td><td>118</td><td>8</td><td>72</td><td>5</td><td>2</td></tr>\n",
       "\t<tr><th scope=row>3</th><td>12</td><td>149</td><td>12.6</td><td>74</td><td>5</td><td>3</td></tr>\n",
       "\t<tr><th scope=row>4</th><td>18</td><td>313</td><td>11.5</td><td>62</td><td>5</td><td>4</td></tr>\n",
       "\t<tr><th scope=row>5</th><td>NA</td><td>NA</td><td>14.3</td><td>56</td><td>5</td><td>5</td></tr>\n",
       "\t<tr><th scope=row>6</th><td>28</td><td>NA</td><td>14.9</td><td>66</td><td>5</td><td>6</td></tr>\n",
       "</tbody>\n",
       "</table>\n"
      ],
      "text/latex": [
       "\\begin{tabular}{r|llllll}\n",
       "  & Ozone & Solar.R & Wind & Temp & Month & Day\\\\\n",
       "\\hline\n",
       "\t1 & 41 & 190 & 7.4 & 67 & 5 & 1\\\\\n",
       "\t2 & 36 & 118 & 8 & 72 & 5 & 2\\\\\n",
       "\t3 & 12 & 149 & 12.6 & 74 & 5 & 3\\\\\n",
       "\t4 & 18 & 313 & 11.5 & 62 & 5 & 4\\\\\n",
       "\t5 & NA & NA & 14.3 & 56 & 5 & 5\\\\\n",
       "\t6 & 28 & NA & 14.9 & 66 & 5 & 6\\\\\n",
       "\\end{tabular}\n"
      ],
      "text/plain": [
       "  Ozone Solar.R Wind Temp Month Day\n",
       "1    41     190  7.4   67     5   1\n",
       "2    36     118  8.0   72     5   2\n",
       "3    12     149 12.6   74     5   3\n",
       "4    18     313 11.5   62     5   4\n",
       "5    NA      NA 14.3   56     5   5\n",
       "6    28      NA 14.9   66     5   6"
      ]
     },
     "execution_count": 72,
     "metadata": {},
     "output_type": "execute_result"
    },
    {
     "ename": "ERROR",
     "evalue": "Error in vapply(seq_along(mapped), function(i) {: Los valores deben ser de longitud 1, \npero el resultado FUN(X [[1]]) es la longitud 0 \n",
     "output_type": "error",
     "traceback": [
      "Error in vapply(seq_along(mapped), function(i) {: Los valores deben ser de longitud 1, \npero el resultado FUN(X [[1]]) es la longitud 0 \n"
     ]
    },
    {
     "data": {
      "text/html": [
       "<dl>\n",
       "\t<dt>$5</dt>\n",
       "\t\t<dd><table>\n",
       "<thead><tr><th></th><th scope=col>Ozone</th><th scope=col>Solar.R</th><th scope=col>Wind</th><th scope=col>Temp</th><th scope=col>Month</th><th scope=col>Day</th></tr></thead>\n",
       "<tbody>\n",
       "\t<tr><th scope=row>1</th><td>41</td><td>190</td><td>7.4</td><td>67</td><td>5</td><td>1</td></tr>\n",
       "\t<tr><th scope=row>2</th><td>36</td><td>118</td><td>8</td><td>72</td><td>5</td><td>2</td></tr>\n",
       "\t<tr><th scope=row>3</th><td>12</td><td>149</td><td>12.6</td><td>74</td><td>5</td><td>3</td></tr>\n",
       "\t<tr><th scope=row>4</th><td>18</td><td>313</td><td>11.5</td><td>62</td><td>5</td><td>4</td></tr>\n",
       "\t<tr><th scope=row>5</th><td>NA</td><td>NA</td><td>14.3</td><td>56</td><td>5</td><td>5</td></tr>\n",
       "\t<tr><th scope=row>6</th><td>28</td><td>NA</td><td>14.9</td><td>66</td><td>5</td><td>6</td></tr>\n",
       "\t<tr><th scope=row>7</th><td>23</td><td>299</td><td>8.6</td><td>65</td><td>5</td><td>7</td></tr>\n",
       "\t<tr><th scope=row>8</th><td>19</td><td>99</td><td>13.8</td><td>59</td><td>5</td><td>8</td></tr>\n",
       "\t<tr><th scope=row>9</th><td>8</td><td>19</td><td>20.1</td><td>61</td><td>5</td><td>9</td></tr>\n",
       "\t<tr><th scope=row>10</th><td>NA</td><td>194</td><td>8.6</td><td>69</td><td>5</td><td>10</td></tr>\n",
       "\t<tr><th scope=row>11</th><td>7</td><td>NA</td><td>6.9</td><td>74</td><td>5</td><td>11</td></tr>\n",
       "\t<tr><th scope=row>12</th><td>16</td><td>256</td><td>9.7</td><td>69</td><td>5</td><td>12</td></tr>\n",
       "\t<tr><th scope=row>13</th><td>11</td><td>290</td><td>9.2</td><td>66</td><td>5</td><td>13</td></tr>\n",
       "\t<tr><th scope=row>14</th><td>14</td><td>274</td><td>10.9</td><td>68</td><td>5</td><td>14</td></tr>\n",
       "\t<tr><th scope=row>15</th><td>18</td><td>65</td><td>13.2</td><td>58</td><td>5</td><td>15</td></tr>\n",
       "\t<tr><th scope=row>16</th><td>14</td><td>334</td><td>11.5</td><td>64</td><td>5</td><td>16</td></tr>\n",
       "\t<tr><th scope=row>17</th><td>34</td><td>307</td><td>12</td><td>66</td><td>5</td><td>17</td></tr>\n",
       "\t<tr><th scope=row>18</th><td>6</td><td>78</td><td>18.4</td><td>57</td><td>5</td><td>18</td></tr>\n",
       "\t<tr><th scope=row>19</th><td>30</td><td>322</td><td>11.5</td><td>68</td><td>5</td><td>19</td></tr>\n",
       "\t<tr><th scope=row>20</th><td>11</td><td>44</td><td>9.7</td><td>62</td><td>5</td><td>20</td></tr>\n",
       "\t<tr><th scope=row>21</th><td>1</td><td>8</td><td>9.7</td><td>59</td><td>5</td><td>21</td></tr>\n",
       "\t<tr><th scope=row>22</th><td>11</td><td>320</td><td>16.6</td><td>73</td><td>5</td><td>22</td></tr>\n",
       "\t<tr><th scope=row>23</th><td>4</td><td>25</td><td>9.7</td><td>61</td><td>5</td><td>23</td></tr>\n",
       "\t<tr><th scope=row>24</th><td>32</td><td>92</td><td>12</td><td>61</td><td>5</td><td>24</td></tr>\n",
       "\t<tr><th scope=row>25</th><td>NA</td><td>66</td><td>16.6</td><td>57</td><td>5</td><td>25</td></tr>\n",
       "\t<tr><th scope=row>26</th><td>NA</td><td>266</td><td>14.9</td><td>58</td><td>5</td><td>26</td></tr>\n",
       "\t<tr><th scope=row>27</th><td>NA</td><td>NA</td><td>8</td><td>57</td><td>5</td><td>27</td></tr>\n",
       "\t<tr><th scope=row>28</th><td>23</td><td>13</td><td>12</td><td>67</td><td>5</td><td>28</td></tr>\n",
       "\t<tr><th scope=row>29</th><td>45</td><td>252</td><td>14.9</td><td>81</td><td>5</td><td>29</td></tr>\n",
       "\t<tr><th scope=row>30</th><td>115</td><td>223</td><td>5.7</td><td>79</td><td>5</td><td>30</td></tr>\n",
       "\t<tr><th scope=row>31</th><td>37</td><td>279</td><td>7.4</td><td>76</td><td>5</td><td>31</td></tr>\n",
       "</tbody>\n",
       "</table>\n",
       "</dd>\n",
       "\t<dt>$6</dt>\n",
       "\t\t<dd><table>\n",
       "<thead><tr><th></th><th scope=col>Ozone</th><th scope=col>Solar.R</th><th scope=col>Wind</th><th scope=col>Temp</th><th scope=col>Month</th><th scope=col>Day</th></tr></thead>\n",
       "<tbody>\n",
       "\t<tr><th scope=row>32</th><td>NA</td><td>286</td><td>8.6</td><td>78</td><td>6</td><td>1</td></tr>\n",
       "\t<tr><th scope=row>33</th><td>NA</td><td>287</td><td>9.7</td><td>74</td><td>6</td><td>2</td></tr>\n",
       "\t<tr><th scope=row>34</th><td>NA</td><td>242</td><td>16.1</td><td>67</td><td>6</td><td>3</td></tr>\n",
       "\t<tr><th scope=row>35</th><td>NA</td><td>186</td><td>9.2</td><td>84</td><td>6</td><td>4</td></tr>\n",
       "\t<tr><th scope=row>36</th><td>NA</td><td>220</td><td>8.6</td><td>85</td><td>6</td><td>5</td></tr>\n",
       "\t<tr><th scope=row>37</th><td>NA</td><td>264</td><td>14.3</td><td>79</td><td>6</td><td>6</td></tr>\n",
       "\t<tr><th scope=row>38</th><td>29</td><td>127</td><td>9.7</td><td>82</td><td>6</td><td>7</td></tr>\n",
       "\t<tr><th scope=row>39</th><td>NA</td><td>273</td><td>6.9</td><td>87</td><td>6</td><td>8</td></tr>\n",
       "\t<tr><th scope=row>40</th><td>71</td><td>291</td><td>13.8</td><td>90</td><td>6</td><td>9</td></tr>\n",
       "\t<tr><th scope=row>41</th><td>39</td><td>323</td><td>11.5</td><td>87</td><td>6</td><td>10</td></tr>\n",
       "\t<tr><th scope=row>42</th><td>NA</td><td>259</td><td>10.9</td><td>93</td><td>6</td><td>11</td></tr>\n",
       "\t<tr><th scope=row>43</th><td>NA</td><td>250</td><td>9.2</td><td>92</td><td>6</td><td>12</td></tr>\n",
       "\t<tr><th scope=row>44</th><td>23</td><td>148</td><td>8</td><td>82</td><td>6</td><td>13</td></tr>\n",
       "\t<tr><th scope=row>45</th><td>NA</td><td>332</td><td>13.8</td><td>80</td><td>6</td><td>14</td></tr>\n",
       "\t<tr><th scope=row>46</th><td>NA</td><td>322</td><td>11.5</td><td>79</td><td>6</td><td>15</td></tr>\n",
       "\t<tr><th scope=row>47</th><td>21</td><td>191</td><td>14.9</td><td>77</td><td>6</td><td>16</td></tr>\n",
       "\t<tr><th scope=row>48</th><td>37</td><td>284</td><td>20.7</td><td>72</td><td>6</td><td>17</td></tr>\n",
       "\t<tr><th scope=row>49</th><td>20</td><td>37</td><td>9.2</td><td>65</td><td>6</td><td>18</td></tr>\n",
       "\t<tr><th scope=row>50</th><td>12</td><td>120</td><td>11.5</td><td>73</td><td>6</td><td>19</td></tr>\n",
       "\t<tr><th scope=row>51</th><td>13</td><td>137</td><td>10.3</td><td>76</td><td>6</td><td>20</td></tr>\n",
       "\t<tr><th scope=row>52</th><td>NA</td><td>150</td><td>6.3</td><td>77</td><td>6</td><td>21</td></tr>\n",
       "\t<tr><th scope=row>53</th><td>NA</td><td>59</td><td>1.7</td><td>76</td><td>6</td><td>22</td></tr>\n",
       "\t<tr><th scope=row>54</th><td>NA</td><td>91</td><td>4.6</td><td>76</td><td>6</td><td>23</td></tr>\n",
       "\t<tr><th scope=row>55</th><td>NA</td><td>250</td><td>6.3</td><td>76</td><td>6</td><td>24</td></tr>\n",
       "\t<tr><th scope=row>56</th><td>NA</td><td>135</td><td>8</td><td>75</td><td>6</td><td>25</td></tr>\n",
       "\t<tr><th scope=row>57</th><td>NA</td><td>127</td><td>8</td><td>78</td><td>6</td><td>26</td></tr>\n",
       "\t<tr><th scope=row>58</th><td>NA</td><td>47</td><td>10.3</td><td>73</td><td>6</td><td>27</td></tr>\n",
       "\t<tr><th scope=row>59</th><td>NA</td><td>98</td><td>11.5</td><td>80</td><td>6</td><td>28</td></tr>\n",
       "\t<tr><th scope=row>60</th><td>NA</td><td>31</td><td>14.9</td><td>77</td><td>6</td><td>29</td></tr>\n",
       "\t<tr><th scope=row>61</th><td>NA</td><td>138</td><td>8</td><td>83</td><td>6</td><td>30</td></tr>\n",
       "</tbody>\n",
       "</table>\n",
       "</dd>\n",
       "\t<dt>$7</dt>\n",
       "\t\t<dd><table>\n",
       "<thead><tr><th></th><th scope=col>Ozone</th><th scope=col>Solar.R</th><th scope=col>Wind</th><th scope=col>Temp</th><th scope=col>Month</th><th scope=col>Day</th></tr></thead>\n",
       "<tbody>\n",
       "\t<tr><th scope=row>62</th><td>135</td><td>269</td><td>4.1</td><td>84</td><td>7</td><td>1</td></tr>\n",
       "\t<tr><th scope=row>63</th><td>49</td><td>248</td><td>9.2</td><td>85</td><td>7</td><td>2</td></tr>\n",
       "\t<tr><th scope=row>64</th><td>32</td><td>236</td><td>9.2</td><td>81</td><td>7</td><td>3</td></tr>\n",
       "\t<tr><th scope=row>65</th><td>NA</td><td>101</td><td>10.9</td><td>84</td><td>7</td><td>4</td></tr>\n",
       "\t<tr><th scope=row>66</th><td>64</td><td>175</td><td>4.6</td><td>83</td><td>7</td><td>5</td></tr>\n",
       "\t<tr><th scope=row>67</th><td>40</td><td>314</td><td>10.9</td><td>83</td><td>7</td><td>6</td></tr>\n",
       "\t<tr><th scope=row>68</th><td>77</td><td>276</td><td>5.1</td><td>88</td><td>7</td><td>7</td></tr>\n",
       "\t<tr><th scope=row>69</th><td>97</td><td>267</td><td>6.3</td><td>92</td><td>7</td><td>8</td></tr>\n",
       "\t<tr><th scope=row>70</th><td>97</td><td>272</td><td>5.7</td><td>92</td><td>7</td><td>9</td></tr>\n",
       "\t<tr><th scope=row>71</th><td>85</td><td>175</td><td>7.4</td><td>89</td><td>7</td><td>10</td></tr>\n",
       "\t<tr><th scope=row>72</th><td>NA</td><td>139</td><td>8.6</td><td>82</td><td>7</td><td>11</td></tr>\n",
       "\t<tr><th scope=row>73</th><td>10</td><td>264</td><td>14.3</td><td>73</td><td>7</td><td>12</td></tr>\n",
       "\t<tr><th scope=row>74</th><td>27</td><td>175</td><td>14.9</td><td>81</td><td>7</td><td>13</td></tr>\n",
       "\t<tr><th scope=row>75</th><td>NA</td><td>291</td><td>14.9</td><td>91</td><td>7</td><td>14</td></tr>\n",
       "\t<tr><th scope=row>76</th><td>7</td><td>48</td><td>14.3</td><td>80</td><td>7</td><td>15</td></tr>\n",
       "\t<tr><th scope=row>77</th><td>48</td><td>260</td><td>6.9</td><td>81</td><td>7</td><td>16</td></tr>\n",
       "\t<tr><th scope=row>78</th><td>35</td><td>274</td><td>10.3</td><td>82</td><td>7</td><td>17</td></tr>\n",
       "\t<tr><th scope=row>79</th><td>61</td><td>285</td><td>6.3</td><td>84</td><td>7</td><td>18</td></tr>\n",
       "\t<tr><th scope=row>80</th><td>79</td><td>187</td><td>5.1</td><td>87</td><td>7</td><td>19</td></tr>\n",
       "\t<tr><th scope=row>81</th><td>63</td><td>220</td><td>11.5</td><td>85</td><td>7</td><td>20</td></tr>\n",
       "\t<tr><th scope=row>82</th><td>16</td><td>7</td><td>6.9</td><td>74</td><td>7</td><td>21</td></tr>\n",
       "\t<tr><th scope=row>83</th><td>NA</td><td>258</td><td>9.7</td><td>81</td><td>7</td><td>22</td></tr>\n",
       "\t<tr><th scope=row>84</th><td>NA</td><td>295</td><td>11.5</td><td>82</td><td>7</td><td>23</td></tr>\n",
       "\t<tr><th scope=row>85</th><td>80</td><td>294</td><td>8.6</td><td>86</td><td>7</td><td>24</td></tr>\n",
       "\t<tr><th scope=row>86</th><td>108</td><td>223</td><td>8</td><td>85</td><td>7</td><td>25</td></tr>\n",
       "\t<tr><th scope=row>87</th><td>20</td><td>81</td><td>8.6</td><td>82</td><td>7</td><td>26</td></tr>\n",
       "\t<tr><th scope=row>88</th><td>52</td><td>82</td><td>12</td><td>86</td><td>7</td><td>27</td></tr>\n",
       "\t<tr><th scope=row>89</th><td>82</td><td>213</td><td>7.4</td><td>88</td><td>7</td><td>28</td></tr>\n",
       "\t<tr><th scope=row>90</th><td>50</td><td>275</td><td>7.4</td><td>86</td><td>7</td><td>29</td></tr>\n",
       "\t<tr><th scope=row>91</th><td>64</td><td>253</td><td>7.4</td><td>83</td><td>7</td><td>30</td></tr>\n",
       "\t<tr><th scope=row>92</th><td>59</td><td>254</td><td>9.2</td><td>81</td><td>7</td><td>31</td></tr>\n",
       "</tbody>\n",
       "</table>\n",
       "</dd>\n",
       "\t<dt>$8</dt>\n",
       "\t\t<dd><table>\n",
       "<thead><tr><th></th><th scope=col>Ozone</th><th scope=col>Solar.R</th><th scope=col>Wind</th><th scope=col>Temp</th><th scope=col>Month</th><th scope=col>Day</th></tr></thead>\n",
       "<tbody>\n",
       "\t<tr><th scope=row>93</th><td>39</td><td>83</td><td>6.9</td><td>81</td><td>8</td><td>1</td></tr>\n",
       "\t<tr><th scope=row>94</th><td>9</td><td>24</td><td>13.8</td><td>81</td><td>8</td><td>2</td></tr>\n",
       "\t<tr><th scope=row>95</th><td>16</td><td>77</td><td>7.4</td><td>82</td><td>8</td><td>3</td></tr>\n",
       "\t<tr><th scope=row>96</th><td>78</td><td>NA</td><td>6.9</td><td>86</td><td>8</td><td>4</td></tr>\n",
       "\t<tr><th scope=row>97</th><td>35</td><td>NA</td><td>7.4</td><td>85</td><td>8</td><td>5</td></tr>\n",
       "\t<tr><th scope=row>98</th><td>66</td><td>NA</td><td>4.6</td><td>87</td><td>8</td><td>6</td></tr>\n",
       "\t<tr><th scope=row>99</th><td>122</td><td>255</td><td>4</td><td>89</td><td>8</td><td>7</td></tr>\n",
       "\t<tr><th scope=row>100</th><td>89</td><td>229</td><td>10.3</td><td>90</td><td>8</td><td>8</td></tr>\n",
       "\t<tr><th scope=row>101</th><td>110</td><td>207</td><td>8</td><td>90</td><td>8</td><td>9</td></tr>\n",
       "\t<tr><th scope=row>102</th><td>NA</td><td>222</td><td>8.6</td><td>92</td><td>8</td><td>10</td></tr>\n",
       "\t<tr><th scope=row>103</th><td>NA</td><td>137</td><td>11.5</td><td>86</td><td>8</td><td>11</td></tr>\n",
       "\t<tr><th scope=row>104</th><td>44</td><td>192</td><td>11.5</td><td>86</td><td>8</td><td>12</td></tr>\n",
       "\t<tr><th scope=row>105</th><td>28</td><td>273</td><td>11.5</td><td>82</td><td>8</td><td>13</td></tr>\n",
       "\t<tr><th scope=row>106</th><td>65</td><td>157</td><td>9.7</td><td>80</td><td>8</td><td>14</td></tr>\n",
       "\t<tr><th scope=row>107</th><td>NA</td><td>64</td><td>11.5</td><td>79</td><td>8</td><td>15</td></tr>\n",
       "\t<tr><th scope=row>108</th><td>22</td><td>71</td><td>10.3</td><td>77</td><td>8</td><td>16</td></tr>\n",
       "\t<tr><th scope=row>109</th><td>59</td><td>51</td><td>6.3</td><td>79</td><td>8</td><td>17</td></tr>\n",
       "\t<tr><th scope=row>110</th><td>23</td><td>115</td><td>7.4</td><td>76</td><td>8</td><td>18</td></tr>\n",
       "\t<tr><th scope=row>111</th><td>31</td><td>244</td><td>10.9</td><td>78</td><td>8</td><td>19</td></tr>\n",
       "\t<tr><th scope=row>112</th><td>44</td><td>190</td><td>10.3</td><td>78</td><td>8</td><td>20</td></tr>\n",
       "\t<tr><th scope=row>113</th><td>21</td><td>259</td><td>15.5</td><td>77</td><td>8</td><td>21</td></tr>\n",
       "\t<tr><th scope=row>114</th><td>9</td><td>36</td><td>14.3</td><td>72</td><td>8</td><td>22</td></tr>\n",
       "\t<tr><th scope=row>115</th><td>NA</td><td>255</td><td>12.6</td><td>75</td><td>8</td><td>23</td></tr>\n",
       "\t<tr><th scope=row>116</th><td>45</td><td>212</td><td>9.7</td><td>79</td><td>8</td><td>24</td></tr>\n",
       "\t<tr><th scope=row>117</th><td>168</td><td>238</td><td>3.4</td><td>81</td><td>8</td><td>25</td></tr>\n",
       "\t<tr><th scope=row>118</th><td>73</td><td>215</td><td>8</td><td>86</td><td>8</td><td>26</td></tr>\n",
       "\t<tr><th scope=row>119</th><td>NA</td><td>153</td><td>5.7</td><td>88</td><td>8</td><td>27</td></tr>\n",
       "\t<tr><th scope=row>120</th><td>76</td><td>203</td><td>9.7</td><td>97</td><td>8</td><td>28</td></tr>\n",
       "\t<tr><th scope=row>121</th><td>118</td><td>225</td><td>2.3</td><td>94</td><td>8</td><td>29</td></tr>\n",
       "\t<tr><th scope=row>122</th><td>84</td><td>237</td><td>6.3</td><td>96</td><td>8</td><td>30</td></tr>\n",
       "\t<tr><th scope=row>123</th><td>85</td><td>188</td><td>6.3</td><td>94</td><td>8</td><td>31</td></tr>\n",
       "</tbody>\n",
       "</table>\n",
       "</dd>\n",
       "\t<dt>$9</dt>\n",
       "\t\t<dd><table>\n",
       "<thead><tr><th></th><th scope=col>Ozone</th><th scope=col>Solar.R</th><th scope=col>Wind</th><th scope=col>Temp</th><th scope=col>Month</th><th scope=col>Day</th></tr></thead>\n",
       "<tbody>\n",
       "\t<tr><th scope=row>124</th><td>96</td><td>167</td><td>6.9</td><td>91</td><td>9</td><td>1</td></tr>\n",
       "\t<tr><th scope=row>125</th><td>78</td><td>197</td><td>5.1</td><td>92</td><td>9</td><td>2</td></tr>\n",
       "\t<tr><th scope=row>126</th><td>73</td><td>183</td><td>2.8</td><td>93</td><td>9</td><td>3</td></tr>\n",
       "\t<tr><th scope=row>127</th><td>91</td><td>189</td><td>4.6</td><td>93</td><td>9</td><td>4</td></tr>\n",
       "\t<tr><th scope=row>128</th><td>47</td><td>95</td><td>7.4</td><td>87</td><td>9</td><td>5</td></tr>\n",
       "\t<tr><th scope=row>129</th><td>32</td><td>92</td><td>15.5</td><td>84</td><td>9</td><td>6</td></tr>\n",
       "\t<tr><th scope=row>130</th><td>20</td><td>252</td><td>10.9</td><td>80</td><td>9</td><td>7</td></tr>\n",
       "\t<tr><th scope=row>131</th><td>23</td><td>220</td><td>10.3</td><td>78</td><td>9</td><td>8</td></tr>\n",
       "\t<tr><th scope=row>132</th><td>21</td><td>230</td><td>10.9</td><td>75</td><td>9</td><td>9</td></tr>\n",
       "\t<tr><th scope=row>133</th><td>24</td><td>259</td><td>9.7</td><td>73</td><td>9</td><td>10</td></tr>\n",
       "\t<tr><th scope=row>134</th><td>44</td><td>236</td><td>14.9</td><td>81</td><td>9</td><td>11</td></tr>\n",
       "\t<tr><th scope=row>135</th><td>21</td><td>259</td><td>15.5</td><td>76</td><td>9</td><td>12</td></tr>\n",
       "\t<tr><th scope=row>136</th><td>28</td><td>238</td><td>6.3</td><td>77</td><td>9</td><td>13</td></tr>\n",
       "\t<tr><th scope=row>137</th><td>9</td><td>24</td><td>10.9</td><td>71</td><td>9</td><td>14</td></tr>\n",
       "\t<tr><th scope=row>138</th><td>13</td><td>112</td><td>11.5</td><td>71</td><td>9</td><td>15</td></tr>\n",
       "\t<tr><th scope=row>139</th><td>46</td><td>237</td><td>6.9</td><td>78</td><td>9</td><td>16</td></tr>\n",
       "\t<tr><th scope=row>140</th><td>18</td><td>224</td><td>13.8</td><td>67</td><td>9</td><td>17</td></tr>\n",
       "\t<tr><th scope=row>141</th><td>13</td><td>27</td><td>10.3</td><td>76</td><td>9</td><td>18</td></tr>\n",
       "\t<tr><th scope=row>142</th><td>24</td><td>238</td><td>10.3</td><td>68</td><td>9</td><td>19</td></tr>\n",
       "\t<tr><th scope=row>143</th><td>16</td><td>201</td><td>8</td><td>82</td><td>9</td><td>20</td></tr>\n",
       "\t<tr><th scope=row>144</th><td>13</td><td>238</td><td>12.6</td><td>64</td><td>9</td><td>21</td></tr>\n",
       "\t<tr><th scope=row>145</th><td>23</td><td>14</td><td>9.2</td><td>71</td><td>9</td><td>22</td></tr>\n",
       "\t<tr><th scope=row>146</th><td>36</td><td>139</td><td>10.3</td><td>81</td><td>9</td><td>23</td></tr>\n",
       "\t<tr><th scope=row>147</th><td>7</td><td>49</td><td>10.3</td><td>69</td><td>9</td><td>24</td></tr>\n",
       "\t<tr><th scope=row>148</th><td>14</td><td>20</td><td>16.6</td><td>63</td><td>9</td><td>25</td></tr>\n",
       "\t<tr><th scope=row>149</th><td>30</td><td>193</td><td>6.9</td><td>70</td><td>9</td><td>26</td></tr>\n",
       "\t<tr><th scope=row>150</th><td>NA</td><td>145</td><td>13.2</td><td>77</td><td>9</td><td>27</td></tr>\n",
       "\t<tr><th scope=row>151</th><td>14</td><td>191</td><td>14.3</td><td>75</td><td>9</td><td>28</td></tr>\n",
       "\t<tr><th scope=row>152</th><td>18</td><td>131</td><td>8</td><td>76</td><td>9</td><td>29</td></tr>\n",
       "\t<tr><th scope=row>153</th><td>20</td><td>223</td><td>11.5</td><td>68</td><td>9</td><td>30</td></tr>\n",
       "</tbody>\n",
       "</table>\n",
       "</dd>\n",
       "</dl>\n"
      ],
      "text/plain": [
       "$`5`\n",
       "   Ozone Solar.R Wind Temp Month Day\n",
       "1     41     190  7.4   67     5   1\n",
       "2     36     118  8.0   72     5   2\n",
       "3     12     149 12.6   74     5   3\n",
       "4     18     313 11.5   62     5   4\n",
       "5     NA      NA 14.3   56     5   5\n",
       "6     28      NA 14.9   66     5   6\n",
       "7     23     299  8.6   65     5   7\n",
       "8     19      99 13.8   59     5   8\n",
       "9      8      19 20.1   61     5   9\n",
       "10    NA     194  8.6   69     5  10\n",
       "11     7      NA  6.9   74     5  11\n",
       "12    16     256  9.7   69     5  12\n",
       "13    11     290  9.2   66     5  13\n",
       "14    14     274 10.9   68     5  14\n",
       "15    18      65 13.2   58     5  15\n",
       "16    14     334 11.5   64     5  16\n",
       "17    34     307 12.0   66     5  17\n",
       "18     6      78 18.4   57     5  18\n",
       "19    30     322 11.5   68     5  19\n",
       "20    11      44  9.7   62     5  20\n",
       "21     1       8  9.7   59     5  21\n",
       "22    11     320 16.6   73     5  22\n",
       "23     4      25  9.7   61     5  23\n",
       "24    32      92 12.0   61     5  24\n",
       "25    NA      66 16.6   57     5  25\n",
       "26    NA     266 14.9   58     5  26\n",
       "27    NA      NA  8.0   57     5  27\n",
       "28    23      13 12.0   67     5  28\n",
       "29    45     252 14.9   81     5  29\n",
       "30   115     223  5.7   79     5  30\n",
       "31    37     279  7.4   76     5  31\n",
       "\n",
       "$`6`\n",
       "   Ozone Solar.R Wind Temp Month Day\n",
       "32    NA     286  8.6   78     6   1\n",
       "33    NA     287  9.7   74     6   2\n",
       "34    NA     242 16.1   67     6   3\n",
       "35    NA     186  9.2   84     6   4\n",
       "36    NA     220  8.6   85     6   5\n",
       "37    NA     264 14.3   79     6   6\n",
       "38    29     127  9.7   82     6   7\n",
       "39    NA     273  6.9   87     6   8\n",
       "40    71     291 13.8   90     6   9\n",
       "41    39     323 11.5   87     6  10\n",
       "42    NA     259 10.9   93     6  11\n",
       "43    NA     250  9.2   92     6  12\n",
       "44    23     148  8.0   82     6  13\n",
       "45    NA     332 13.8   80     6  14\n",
       "46    NA     322 11.5   79     6  15\n",
       "47    21     191 14.9   77     6  16\n",
       "48    37     284 20.7   72     6  17\n",
       "49    20      37  9.2   65     6  18\n",
       "50    12     120 11.5   73     6  19\n",
       "51    13     137 10.3   76     6  20\n",
       "52    NA     150  6.3   77     6  21\n",
       "53    NA      59  1.7   76     6  22\n",
       "54    NA      91  4.6   76     6  23\n",
       "55    NA     250  6.3   76     6  24\n",
       "56    NA     135  8.0   75     6  25\n",
       "57    NA     127  8.0   78     6  26\n",
       "58    NA      47 10.3   73     6  27\n",
       "59    NA      98 11.5   80     6  28\n",
       "60    NA      31 14.9   77     6  29\n",
       "61    NA     138  8.0   83     6  30\n",
       "\n",
       "$`7`\n",
       "   Ozone Solar.R Wind Temp Month Day\n",
       "62   135     269  4.1   84     7   1\n",
       "63    49     248  9.2   85     7   2\n",
       "64    32     236  9.2   81     7   3\n",
       "65    NA     101 10.9   84     7   4\n",
       "66    64     175  4.6   83     7   5\n",
       "67    40     314 10.9   83     7   6\n",
       "68    77     276  5.1   88     7   7\n",
       "69    97     267  6.3   92     7   8\n",
       "70    97     272  5.7   92     7   9\n",
       "71    85     175  7.4   89     7  10\n",
       "72    NA     139  8.6   82     7  11\n",
       "73    10     264 14.3   73     7  12\n",
       "74    27     175 14.9   81     7  13\n",
       "75    NA     291 14.9   91     7  14\n",
       "76     7      48 14.3   80     7  15\n",
       "77    48     260  6.9   81     7  16\n",
       "78    35     274 10.3   82     7  17\n",
       "79    61     285  6.3   84     7  18\n",
       "80    79     187  5.1   87     7  19\n",
       "81    63     220 11.5   85     7  20\n",
       "82    16       7  6.9   74     7  21\n",
       "83    NA     258  9.7   81     7  22\n",
       "84    NA     295 11.5   82     7  23\n",
       "85    80     294  8.6   86     7  24\n",
       "86   108     223  8.0   85     7  25\n",
       "87    20      81  8.6   82     7  26\n",
       "88    52      82 12.0   86     7  27\n",
       "89    82     213  7.4   88     7  28\n",
       "90    50     275  7.4   86     7  29\n",
       "91    64     253  7.4   83     7  30\n",
       "92    59     254  9.2   81     7  31\n",
       "\n",
       "$`8`\n",
       "    Ozone Solar.R Wind Temp Month Day\n",
       "93     39      83  6.9   81     8   1\n",
       "94      9      24 13.8   81     8   2\n",
       "95     16      77  7.4   82     8   3\n",
       "96     78      NA  6.9   86     8   4\n",
       "97     35      NA  7.4   85     8   5\n",
       "98     66      NA  4.6   87     8   6\n",
       "99    122     255  4.0   89     8   7\n",
       "100    89     229 10.3   90     8   8\n",
       "101   110     207  8.0   90     8   9\n",
       "102    NA     222  8.6   92     8  10\n",
       "103    NA     137 11.5   86     8  11\n",
       "104    44     192 11.5   86     8  12\n",
       "105    28     273 11.5   82     8  13\n",
       "106    65     157  9.7   80     8  14\n",
       "107    NA      64 11.5   79     8  15\n",
       "108    22      71 10.3   77     8  16\n",
       "109    59      51  6.3   79     8  17\n",
       "110    23     115  7.4   76     8  18\n",
       "111    31     244 10.9   78     8  19\n",
       "112    44     190 10.3   78     8  20\n",
       "113    21     259 15.5   77     8  21\n",
       "114     9      36 14.3   72     8  22\n",
       "115    NA     255 12.6   75     8  23\n",
       "116    45     212  9.7   79     8  24\n",
       "117   168     238  3.4   81     8  25\n",
       "118    73     215  8.0   86     8  26\n",
       "119    NA     153  5.7   88     8  27\n",
       "120    76     203  9.7   97     8  28\n",
       "121   118     225  2.3   94     8  29\n",
       "122    84     237  6.3   96     8  30\n",
       "123    85     188  6.3   94     8  31\n",
       "\n",
       "$`9`\n",
       "    Ozone Solar.R Wind Temp Month Day\n",
       "124    96     167  6.9   91     9   1\n",
       "125    78     197  5.1   92     9   2\n",
       "126    73     183  2.8   93     9   3\n",
       "127    91     189  4.6   93     9   4\n",
       "128    47      95  7.4   87     9   5\n",
       "129    32      92 15.5   84     9   6\n",
       "130    20     252 10.9   80     9   7\n",
       "131    23     220 10.3   78     9   8\n",
       "132    21     230 10.9   75     9   9\n",
       "133    24     259  9.7   73     9  10\n",
       "134    44     236 14.9   81     9  11\n",
       "135    21     259 15.5   76     9  12\n",
       "136    28     238  6.3   77     9  13\n",
       "137     9      24 10.9   71     9  14\n",
       "138    13     112 11.5   71     9  15\n",
       "139    46     237  6.9   78     9  16\n",
       "140    18     224 13.8   67     9  17\n",
       "141    13      27 10.3   76     9  18\n",
       "142    24     238 10.3   68     9  19\n",
       "143    16     201  8.0   82     9  20\n",
       "144    13     238 12.6   64     9  21\n",
       "145    23      14  9.2   71     9  22\n",
       "146    36     139 10.3   81     9  23\n",
       "147     7      49 10.3   69     9  24\n",
       "148    14      20 16.6   63     9  25\n",
       "149    30     193  6.9   70     9  26\n",
       "150    NA     145 13.2   77     9  27\n",
       "151    14     191 14.3   75     9  28\n",
       "152    18     131  8.0   76     9  29\n",
       "153    20     223 11.5   68     9  30\n"
      ]
     },
     "execution_count": 72,
     "metadata": {},
     "output_type": "execute_result"
    },
    {
     "data": {
      "text/html": [
       "\"list\""
      ],
      "text/latex": [
       "\"list\""
      ],
      "text/markdown": [
       "\"list\""
      ],
      "text/plain": [
       "[1] \"list\""
      ]
     },
     "execution_count": 72,
     "metadata": {},
     "output_type": "execute_result"
    }
   ],
   "source": [
    "library(datasets)\n",
    "head(airquality)\n",
    "s <- split(airquality, airquality$Month)\n",
    "s\n",
    "class(s)"
   ]
  },
  {
   "cell_type": "code",
   "execution_count": 73,
   "metadata": {
    "collapsed": false
   },
   "outputs": [
    {
     "name": "stdout",
     "output_type": "stream",
     "text": [
      " Factor w/ 2 levels \"1\",\"2\": 1 1 1 1 1 2 2 2 2 2\n",
      " Factor w/ 5 levels \"1\",\"2\",\"3\",\"4\",..: 1 1 2 2 3 3 4 4 5 5\n"
     ]
    },
    {
     "data": {
      "text/html": [
       "<ol class=list-inline>\n",
       "\t<li>1.1</li>\n",
       "\t<li>1.1</li>\n",
       "\t<li>1.2</li>\n",
       "\t<li>1.2</li>\n",
       "\t<li>1.3</li>\n",
       "\t<li>2.3</li>\n",
       "\t<li>2.4</li>\n",
       "\t<li>2.4</li>\n",
       "\t<li>2.5</li>\n",
       "\t<li>2.5</li>\n",
       "</ol>\n"
      ],
      "text/latex": [
       "\\begin{enumerate*}\n",
       "\\item 1.1\n",
       "\\item 1.1\n",
       "\\item 1.2\n",
       "\\item 1.2\n",
       "\\item 1.3\n",
       "\\item 2.3\n",
       "\\item 2.4\n",
       "\\item 2.4\n",
       "\\item 2.5\n",
       "\\item 2.5\n",
       "\\end{enumerate*}\n"
      ],
      "text/markdown": [
       "1. 1.1\n",
       "2. 1.1\n",
       "3. 1.2\n",
       "4. 1.2\n",
       "5. 1.3\n",
       "6. 2.3\n",
       "7. 2.4\n",
       "8. 2.4\n",
       "9. 2.5\n",
       "10. 2.5\n",
       "\n",
       "\n"
      ],
      "text/plain": [
       " [1] 1.1 1.1 1.2 1.2 1.3 2.3 2.4 2.4 2.5 2.5\n",
       "Levels: 1.1 2.1 1.2 2.2 1.3 2.3 1.4 2.4 1.5 2.5"
      ]
     },
     "execution_count": 73,
     "metadata": {},
     "output_type": "execute_result"
    },
    {
     "name": "stdout",
     "output_type": "stream",
     "text": [
      "List of 10\n",
      " $ 1.1: num [1:2] -0.179 -0.631\n",
      " $ 2.1: num(0) \n",
      " $ 1.2: num [1:2] 0.979 0.293\n",
      " $ 2.2: num(0) \n",
      " $ 1.3: num -0.37\n",
      " $ 2.3: num 0.544\n",
      " $ 1.4: num(0) \n",
      " $ 2.4: num [1:2] -0.708 -0.369\n",
      " $ 1.5: num(0) \n",
      " $ 2.5: num [1:2] -1.32 1.28\n",
      "List of 6\n",
      " $ 1.1: num [1:2] -0.179 -0.631\n",
      " $ 1.2: num [1:2] 0.979 0.293\n",
      " $ 1.3: num -0.37\n",
      " $ 2.3: num 0.544\n",
      " $ 2.4: num [1:2] -0.708 -0.369\n",
      " $ 2.5: num [1:2] -1.32 1.28\n"
     ]
    }
   ],
   "source": [
    "# Un ejemplo de factores con mas de un nivel\n",
    "o <- rnorm(10)\n",
    "\n",
    "# Creamos un factor con dos niveles\n",
    "ff1 <- gl(2, 5) \n",
    "\n",
    "# Creamos un factor con 5 niveles\n",
    "\n",
    "ff2 <- gl(5, 2)  \n",
    "\n",
    "str(ff1)\n",
    "str(ff2)\n",
    "\n",
    "# Calculamos un factor con 10 niveles\n",
    "\n",
    "interaction(ff1, ff2)\n",
    "\n",
    "# Automaticamente llama a interaction(ff1, ff2)\n",
    "\n",
    "str(split(o, list(ff1, ff2))) \n",
    "\n",
    "# Quitamos los niveles vacios\n",
    "\n",
    "str(split(o, list(ff1, ff2), drop = TRUE))"
   ]
  },
  {
   "cell_type": "markdown",
   "metadata": {},
   "source": [
    "A veces, cuando un data frame se lee directamente desde un archivo, una columna que deberia  producir un vector numérico produce en cambio un factor. Esto es causado por un valor no numérico en la columna, a menudo un valor perdido codificado de una manera especial como `.` o `-`.\n",
    "Para remediar la situación, se usa la coerción  en el vector desde un factor a un vector de caracteres, y luego de un caracter   a un vector double. (Debes  comprobar si hay valores perdidos después de este proceso).\n",
    "Por supuesto, un mejor  plan  es descubrir qué causó el problema en primer lugar y arreglarlo y para ello se puede  utilizar  el argumento `na.strings` de `read.csv()` para empezar."
   ]
  },
  {
   "cell_type": "code",
   "execution_count": 74,
   "metadata": {
    "collapsed": false
   },
   "outputs": [
    {
     "data": {
      "text/html": [
       "<table>\n",
       "<thead><tr><th></th><th scope=col>valores</th></tr></thead>\n",
       "<tbody>\n",
       "\t<tr><th scope=row>1</th><td>12</td></tr>\n",
       "\t<tr><th scope=row>2</th><td>1</td></tr>\n",
       "\t<tr><th scope=row>3</th><td>.</td></tr>\n",
       "\t<tr><th scope=row>4</th><td>9</td></tr>\n",
       "</tbody>\n",
       "</table>\n"
      ],
      "text/latex": [
       "\\begin{tabular}{r|l}\n",
       "  & valores\\\\\n",
       "\\hline\n",
       "\t1 & 12\\\\\n",
       "\t2 & 1\\\\\n",
       "\t3 & .\\\\\n",
       "\t4 & 9\\\\\n",
       "\\end{tabular}\n"
      ],
      "text/plain": [
       "  valores\n",
       "1      12\n",
       "2       1\n",
       "3       .\n",
       "4       9"
      ]
     },
     "execution_count": 74,
     "metadata": {},
     "output_type": "execute_result"
    },
    {
     "data": {
      "text/html": [
       "\"integer\""
      ],
      "text/latex": [
       "\"integer\""
      ],
      "text/markdown": [
       "\"integer\""
      ],
      "text/plain": [
       "[1] \"integer\""
      ]
     },
     "execution_count": 74,
     "metadata": {},
     "output_type": "execute_result"
    },
    {
     "data": {
      "text/html": [
       "<ol class=list-inline>\n",
       "\t<li>3</li>\n",
       "\t<li>2</li>\n",
       "\t<li>1</li>\n",
       "\t<li>4</li>\n",
       "</ol>\n"
      ],
      "text/latex": [
       "\\begin{enumerate*}\n",
       "\\item 3\n",
       "\\item 2\n",
       "\\item 1\n",
       "\\item 4\n",
       "\\end{enumerate*}\n"
      ],
      "text/markdown": [
       "1. 3\n",
       "2. 2\n",
       "3. 1\n",
       "4. 4\n",
       "\n",
       "\n"
      ],
      "text/plain": [
       "[1] 3 2 1 4"
      ]
     },
     "execution_count": 74,
     "metadata": {},
     "output_type": "execute_result"
    },
    {
     "data": {
      "text/html": [
       "\"factor\""
      ],
      "text/latex": [
       "\"factor\""
      ],
      "text/markdown": [
       "\"factor\""
      ],
      "text/plain": [
       "[1] \"factor\""
      ]
     },
     "execution_count": 74,
     "metadata": {},
     "output_type": "execute_result"
    },
    {
     "name": "stderr",
     "output_type": "stream",
     "text": [
      "Warning message:\n",
      "In eval(expr, envir, enclos): NAs introducidos por coerción"
     ]
    },
    {
     "data": {
      "text/html": [
       "<ol class=list-inline>\n",
       "\t<li>12</li>\n",
       "\t<li>1</li>\n",
       "\t<li>NA</li>\n",
       "\t<li>9</li>\n",
       "</ol>\n"
      ],
      "text/latex": [
       "\\begin{enumerate*}\n",
       "\\item 12\n",
       "\\item 1\n",
       "\\item NA\n",
       "\\item 9\n",
       "\\end{enumerate*}\n"
      ],
      "text/markdown": [
       "1. 12\n",
       "2. 1\n",
       "3. NA\n",
       "4. 9\n",
       "\n",
       "\n"
      ],
      "text/plain": [
       "[1] 12  1 NA  9"
      ]
     },
     "execution_count": 74,
     "metadata": {},
     "output_type": "execute_result"
    }
   ],
   "source": [
    "zz1 <- read.csv(text = \"valores\\n12\\n1\\n.\\n9\")\n",
    "zz1\n",
    "typeof(zz1$valores)\n",
    "as.double(zz1$valores)\n",
    "class(zz1$valores)\n",
    "as.double(as.character(zz1$valores))\n",
    "\n"
   ]
  },
  {
   "cell_type": "code",
   "execution_count": 75,
   "metadata": {
    "collapsed": false
   },
   "outputs": [
    {
     "data": {
      "text/html": [
       "\"integer\""
      ],
      "text/latex": [
       "\"integer\""
      ],
      "text/markdown": [
       "\"integer\""
      ],
      "text/plain": [
       "[1] \"integer\""
      ]
     },
     "execution_count": 75,
     "metadata": {},
     "output_type": "execute_result"
    },
    {
     "data": {
      "text/html": [
       "\"integer\""
      ],
      "text/latex": [
       "\"integer\""
      ],
      "text/markdown": [
       "\"integer\""
      ],
      "text/plain": [
       "[1] \"integer\""
      ]
     },
     "execution_count": 75,
     "metadata": {},
     "output_type": "execute_result"
    },
    {
     "data": {
      "text/html": [
       "<ol class=list-inline>\n",
       "\t<li>12</li>\n",
       "\t<li>1</li>\n",
       "\t<li>NA</li>\n",
       "\t<li>9</li>\n",
       "</ol>\n"
      ],
      "text/latex": [
       "\\begin{enumerate*}\n",
       "\\item 12\n",
       "\\item 1\n",
       "\\item NA\n",
       "\\item 9\n",
       "\\end{enumerate*}\n"
      ],
      "text/markdown": [
       "1. 12\n",
       "2. 1\n",
       "3. NA\n",
       "4. 9\n",
       "\n",
       "\n"
      ],
      "text/plain": [
       "[1] 12  1 NA  9"
      ]
     },
     "execution_count": 75,
     "metadata": {},
     "output_type": "execute_result"
    }
   ],
   "source": [
    "zz2 <- read.csv(text = \"valores\\n12\\n1\\n.\\n9\", na.strings=\".\")\n",
    "typeof(zz2$valores)\n",
    "class(zz2$valores)\n",
    "zz2$valores"
   ]
  },
  {
   "cell_type": "markdown",
   "metadata": {},
   "source": [
    "Desafortunadamente, la mayoría de las funciones  de carga de  datos en R convierten automáticamente vectores de caracteres a factores. Esto no es óptimo, porque no hay manera de que esas funciones sepan el conjunto de todos los niveles posibles o su orden óptimo.\n",
    "\n",
    "En su lugar, utilice los `stringsAsFactors = FALSE`  para suprimir ese comportamiento, y luego convertir manualmente los vectores de caracteres a factores utilizando su conocimiento de los datos. Una opción global, `options (stringsAsFactors = FALSe)`, está disponible para controlar este comportamiento, pero no es recomendable. Cambiar una opción global puede tener consecuencias inesperadas cuando se combina con otro código (ya sea en  paquetes, o de otro tipo) y las  opciones globales hacen del código algo  más difícil de entender, ya que aumentan el número de líneas que se necesita leer para entender cómo una sola línea de código se comportará.\n",
    "\n",
    "Mientras que los factores se ven (y, a menudo se comportan) como vectores de caracteres, en realidad son números enteros. Tenga cuidado al tratarlos como cadenas. Algunos métodos de cadena (como `gsub()` y `grepl()`)  coaccionan factores a cadenas, mientras que otros (como `nchar()`) lanzarán un error, y otros (como `c())` utilizará los valores enteros subyacentes. \n",
    "\n",
    "Por esta razón, es mejor  convertir explícitamente los factores a  vectores de caracteres si necesitas un comportamiento similar a una cadena. "
   ]
  },
  {
   "cell_type": "markdown",
   "metadata": {},
   "source": [
    "## Trabajando con Tablas"
   ]
  },
  {
   "cell_type": "code",
   "execution_count": 76,
   "metadata": {
    "collapsed": false
   },
   "outputs": [
    {
     "data": {
      "text/html": [
       "<table>\n",
       "<thead><tr><th></th><th scope=col>ce</th><th scope=col>m</th></tr></thead>\n",
       "<tbody>\n",
       "\t<tr><th scope=row>5</th><td>NA</td><td> 2</td></tr>\n",
       "\t<tr><th scope=row>12</th><td>1</td><td>1</td></tr>\n",
       "\t<tr><th scope=row>13</th><td>1</td><td>2</td></tr>\n",
       "</tbody>\n",
       "</table>\n"
      ],
      "text/latex": [
       "\\begin{tabular}{r|ll}\n",
       "  & ce & m\\\\\n",
       "\\hline\n",
       "\t5 & NA &  2\\\\\n",
       "\t12 & 1 & 1\\\\\n",
       "\t13 & 1 & 2\\\\\n",
       "\\end{tabular}\n"
      ],
      "text/markdown": [
       "1. NA\n",
       "2. 1\n",
       "3. 1\n",
       "4. 2\n",
       "5. 1\n",
       "6. 2\n",
       "\n",
       "\n"
      ],
      "text/plain": [
       "   ce m\n",
       "5  NA 2\n",
       "12  1 1\n",
       "13  1 2"
      ]
     },
     "execution_count": 76,
     "metadata": {},
     "output_type": "execute_result"
    }
   ],
   "source": [
    "# Empecemos con un ejemplo\n",
    "\n",
    "uu <- c(22,8,33,6,8,29,-2)\n",
    "fl <- list(c(5,12,13,12,13,5,13),c(\"m\",\"ce\",\"m\",\"m\",\"ce\",\"m\",\"m\"))\n",
    "tapply(uu,fl,length)"
   ]
  },
  {
   "cell_type": "markdown",
   "metadata": {},
   "source": [
    "El resultado anterior produce un resultado NA. En estadística, se dice que es una **Tabla de contingencia**. La función `table()` resuelve el problema de las tablas de contingencia."
   ]
  },
  {
   "cell_type": "markdown",
   "metadata": {
    "collapsed": false
   },
   "source": [
    "`help(table)`"
   ]
  },
  {
   "cell_type": "code",
   "execution_count": 77,
   "metadata": {
    "collapsed": false
   },
   "outputs": [
    {
     "data": {
      "text/plain": [
       "    fl.2\n",
       "fl.1 ce m\n",
       "  5   0 2\n",
       "  12  1 1\n",
       "  13  1 2"
      ]
     },
     "execution_count": 77,
     "metadata": {},
     "output_type": "execute_result"
    }
   ],
   "source": [
    "table(fl)"
   ]
  },
  {
   "cell_type": "markdown",
   "metadata": {},
   "source": [
    "El primer argumento en una llamada a `table()` es o bien un factor o una lista de factores. Los dos factores  aquí fueron  `(5,12,13,12,13,5,13)` y (\"m\", \"ce\", \"m\", \"m\", \"ce\", \"m\", \"m\") . En este caso, un objeto que es interpretado como un factor se cuenta como uno."
   ]
  },
  {
   "cell_type": "code",
   "execution_count": 78,
   "metadata": {
    "collapsed": false
   },
   "outputs": [
    {
     "data": {
      "text/html": [
       "<table>\n",
       "<thead><tr><th></th><th scope=col>Vote.por..X</th><th scope=col>Vote.por..X.la.ultima.vez</th></tr></thead>\n",
       "<tbody>\n",
       "\t<tr><th scope=row>1</th><td>Si</td><td>Si</td></tr>\n",
       "\t<tr><th scope=row>2</th><td>Si</td><td>No</td></tr>\n",
       "\t<tr><th scope=row>3</th><td>No</td><td>No</td></tr>\n",
       "\t<tr><th scope=row>4</th><td>No estoy seguro</td><td>Si</td></tr>\n",
       "\t<tr><th scope=row>5</th><td>No</td><td>No</td></tr>\n",
       "</tbody>\n",
       "</table>\n"
      ],
      "text/latex": [
       "\\begin{tabular}{r|ll}\n",
       "  & Vote.por..X & Vote.por..X.la.ultima.vez\\\\\n",
       "\\hline\n",
       "\t1 & Si & Si\\\\\n",
       "\t2 & Si & No\\\\\n",
       "\t3 & No & No\\\\\n",
       "\t4 & No estoy seguro & Si\\\\\n",
       "\t5 & No & No\\\\\n",
       "\\end{tabular}\n"
      ],
      "text/plain": [
       "      Vote.por..X Vote.por..X.la.ultima.vez\n",
       "1              Si                        Si\n",
       "2              Si                        No\n",
       "3              No                        No\n",
       "4 No estoy seguro                        Si\n",
       "5              No                        No"
      ]
     },
     "execution_count": 78,
     "metadata": {},
     "output_type": "execute_result"
    },
    {
     "data": {
      "text/plain": [
       "                 Vote.por..X.la.ultima.vez\n",
       "Vote.por..X       No Si\n",
       "  No               2  0\n",
       "  No estoy seguro  0  1\n",
       "  Si               1  1"
      ]
     },
     "execution_count": 78,
     "metadata": {},
     "output_type": "execute_result"
    }
   ],
   "source": [
    "# Trabajando con data frames\n",
    "\n",
    "vot <- read.table(\"votacion.dat\",header=T)\n",
    "vot\n",
    "\n",
    "# Usemos table() para calcular la tabla de contingencia para estos datos\n",
    "\n",
    "vot1 <- table(vot)\n",
    "vot1"
   ]
  },
  {
   "cell_type": "markdown",
   "metadata": {},
   "source": [
    "### Operaciones sobre Tablas\n",
    "\n",
    "Operaciones que pueden ser usadas por los data frame, pueden ser usadas por las tablas."
   ]
  },
  {
   "cell_type": "code",
   "execution_count": 79,
   "metadata": {
    "collapsed": false
   },
   "outputs": [
    {
     "data": {
      "text/html": [
       "\"table\""
      ],
      "text/latex": [
       "\"table\""
      ],
      "text/markdown": [
       "\"table\""
      ],
      "text/plain": [
       "[1] \"table\""
      ]
     },
     "execution_count": 79,
     "metadata": {},
     "output_type": "execute_result"
    },
    {
     "data": {
      "text/html": [
       "2"
      ],
      "text/latex": [
       "2"
      ],
      "text/markdown": [
       "2"
      ],
      "text/plain": [
       "[1] 2"
      ]
     },
     "execution_count": 79,
     "metadata": {},
     "output_type": "execute_result"
    },
    {
     "data": {
      "text/html": [
       "<dl class=dl-horizontal>\n",
       "\t<dt>No</dt>\n",
       "\t\t<dd>2</dd>\n",
       "\t<dt>Si</dt>\n",
       "\t\t<dd>0</dd>\n",
       "</dl>\n"
      ],
      "text/latex": [
       "\\begin{description*}\n",
       "\\item[No] 2\n",
       "\\item[Si] 0\n",
       "\\end{description*}\n"
      ],
      "text/markdown": [
       "No\n",
       ":   2Si\n",
       ":   0\n",
       "\n"
      ],
      "text/plain": [
       "No Si \n",
       " 2  0 "
      ]
     },
     "execution_count": 79,
     "metadata": {},
     "output_type": "execute_result"
    },
    {
     "data": {
      "text/plain": [
       "                 Vote.por..X.la.ultima.vez\n",
       "Vote.por..X        No  Si\n",
       "  No              0.4 0.0\n",
       "  No estoy seguro 0.0 0.2\n",
       "  Si              0.2 0.2"
      ]
     },
     "execution_count": 79,
     "metadata": {},
     "output_type": "execute_result"
    },
    {
     "data": {
      "text/html": [
       "<dl class=dl-horizontal>\n",
       "\t<dt>No</dt>\n",
       "\t\t<dd>2</dd>\n",
       "\t<dt>No estoy seguro</dt>\n",
       "\t\t<dd>1</dd>\n",
       "\t<dt>Si</dt>\n",
       "\t\t<dd>2</dd>\n",
       "</dl>\n"
      ],
      "text/latex": [
       "\\begin{description*}\n",
       "\\item[No] 2\n",
       "\\item[No estoy seguro] 1\n",
       "\\item[Si] 2\n",
       "\\end{description*}\n"
      ],
      "text/markdown": [
       "No\n",
       ":   2No estoy seguro\n",
       ":   1Si\n",
       ":   2\n",
       "\n"
      ],
      "text/plain": [
       "             No No estoy seguro              Si \n",
       "              2               1               2 "
      ]
     },
     "execution_count": 79,
     "metadata": {},
     "output_type": "execute_result"
    },
    {
     "data": {
      "text/html": [
       "<table>\n",
       "<thead><tr><th></th><th scope=col>No</th><th scope=col>Si</th><th scope=col>Sum</th></tr></thead>\n",
       "<tbody>\n",
       "\t<tr><th scope=row>No</th><td>2</td><td>0</td><td>2</td></tr>\n",
       "\t<tr><th scope=row>No estoy seguro</th><td>0</td><td>1</td><td>1</td></tr>\n",
       "\t<tr><th scope=row>Si</th><td>1</td><td>1</td><td>2</td></tr>\n",
       "\t<tr><th scope=row>Sum</th><td>3</td><td>2</td><td>5</td></tr>\n",
       "</tbody>\n",
       "</table>\n"
      ],
      "text/latex": [
       "\\begin{tabular}{r|lll}\n",
       "  & No & Si & Sum\\\\\n",
       "\\hline\n",
       "\tNo & 2 & 0 & 2\\\\\n",
       "\tNo estoy seguro & 0 & 1 & 1\\\\\n",
       "\tSi & 1 & 1 & 2\\\\\n",
       "\tSum & 3 & 2 & 5\\\\\n",
       "\\end{tabular}\n"
      ],
      "text/plain": [
       "                 Vote.por..X.la.ultima.vez\n",
       "Vote.por..X       No Si Sum\n",
       "  No               2  0   2\n",
       "  No estoy seguro  0  1   1\n",
       "  Si               1  1   2\n",
       "  Sum              3  2   5"
      ]
     },
     "execution_count": 79,
     "metadata": {},
     "output_type": "execute_result"
    },
    {
     "data": {
      "text/html": [
       "<dl>\n",
       "\t<dt>$Vote.por..X</dt>\n",
       "\t\t<dd><ol class=list-inline>\n",
       "\t<li>\"No\"</li>\n",
       "\t<li>\"No estoy seguro\"</li>\n",
       "\t<li>\"Si\"</li>\n",
       "</ol>\n",
       "</dd>\n",
       "\t<dt>$Vote.por..X.la.ultima.vez</dt>\n",
       "\t\t<dd><ol class=list-inline>\n",
       "\t<li>\"No\"</li>\n",
       "\t<li>\"Si\"</li>\n",
       "</ol>\n",
       "</dd>\n",
       "</dl>\n"
      ],
      "text/latex": [
       "\\begin{description}\n",
       "\\item[\\$Vote.por..X] \\begin{enumerate*}\n",
       "\\item \"No\"\n",
       "\\item \"No estoy seguro\"\n",
       "\\item \"Si\"\n",
       "\\end{enumerate*}\n",
       "\n",
       "\\item[\\$Vote.por..X.la.ultima.vez] \\begin{enumerate*}\n",
       "\\item \"No\"\n",
       "\\item \"Si\"\n",
       "\\end{enumerate*}\n",
       "\n",
       "\\end{description}\n"
      ],
      "text/markdown": [
       "$Vote.por..X\n",
       ":   1. \"No\"\n",
       "2. \"No estoy seguro\"\n",
       "3. \"Si\"\n",
       "\n",
       "\n",
       "\n",
       "$Vote.por..X.la.ultima.vez\n",
       ":   1. \"No\"\n",
       "2. \"Si\"\n",
       "\n",
       "\n",
       "\n",
       "\n",
       "\n"
      ],
      "text/plain": [
       "$Vote.por..X\n",
       "[1] \"No\"              \"No estoy seguro\" \"Si\"             \n",
       "\n",
       "$Vote.por..X.la.ultima.vez\n",
       "[1] \"No\" \"Si\"\n"
      ]
     },
     "execution_count": 79,
     "metadata": {},
     "output_type": "execute_result"
    }
   ],
   "source": [
    "class(vot1)\n",
    "\n",
    "vot1[1,1]\n",
    "\n",
    "vot1[1,]\n",
    "\n",
    "vot1/5\n",
    "\n",
    "apply(vot1, 1, sum)\n",
    "\n",
    "addmargins(vot1)\n",
    "\n",
    "dimnames(vot1)"
   ]
  },
  {
   "cell_type": "markdown",
   "metadata": {},
   "source": [
    "## Ejemplo: Media muestral y el Teorema del Límite Central\n",
    "\n",
    "El data frame `randu` contiene 400 triples de  sucesivos números aleatorios que se generan  usando un algoritmo llamado **RANDU**.[Aquí más información del RANDU pseudo-random number generator](https://en.wikipedia.org/wiki/RANDU).\n",
    "En este ejemplo se investiga la distribución de la media muestral de esos  números."
   ]
  },
  {
   "cell_type": "code",
   "execution_count": 80,
   "metadata": {
    "collapsed": false
   },
   "outputs": [
    {
     "data": {
      "text/html": [
       "<table>\n",
       "<thead><tr><th></th><th scope=col>x</th><th scope=col>y</th><th scope=col>z</th></tr></thead>\n",
       "<tbody>\n",
       "\t<tr><th scope=row>x</th><td> 0.081231885</td><td>-0.004057683</td><td> 0.004637656</td></tr>\n",
       "\t<tr><th scope=row>y</th><td>-0.004057683</td><td> 0.086270206</td><td>-0.005148432</td></tr>\n",
       "\t<tr><th scope=row>z</th><td> 0.004637656</td><td>-0.005148432</td><td> 0.077860433</td></tr>\n",
       "</tbody>\n",
       "</table>\n"
      ],
      "text/latex": [
       "\\begin{tabular}{r|lll}\n",
       "  & x & y & z\\\\\n",
       "\\hline\n",
       "\tx &  0.081231885 & -0.004057683 &  0.004637656\\\\\n",
       "\ty & -0.004057683 &  0.086270206 & -0.005148432\\\\\n",
       "\tz &  0.004637656 & -0.005148432 &  0.077860433\\\\\n",
       "\\end{tabular}\n"
      ],
      "text/markdown": [
       "1. 0.0812318850269317\n",
       "2. -0.00405768283906942\n",
       "3. 0.00463765596337838\n",
       "4. -0.00405768283906942\n",
       "5. 0.0862702058329192\n",
       "6. -0.00514843225044844\n",
       "7. 0.00463765596337838\n",
       "8. -0.00514843225044844\n",
       "9. 0.0778604331691659\n",
       "\n",
       "\n"
      ],
      "text/plain": [
       "             x            y            z\n",
       "x  0.081231885 -0.004057683  0.004637656\n",
       "y -0.004057683  0.086270206 -0.005148432\n",
       "z  0.004637656 -0.005148432  0.077860433"
      ]
     },
     "execution_count": 80,
     "metadata": {},
     "output_type": "execute_result"
    }
   ],
   "source": [
    "data(randu)\n",
    "\n",
    "# Matriz de varianza-covarianza para las tres variables\n",
    "\n",
    "var(randu)"
   ]
  },
  {
   "cell_type": "code",
   "execution_count": 81,
   "metadata": {
    "collapsed": false
   },
   "outputs": [
    {
     "data": {
      "text/html": [
       "<dl class=dl-horizontal>\n",
       "\t<dt>x</dt>\n",
       "\t\t<dd>0.0812318850269317</dd>\n",
       "\t<dt>y</dt>\n",
       "\t\t<dd>0.0862702058329192</dd>\n",
       "\t<dt>z</dt>\n",
       "\t\t<dd>0.0778604331691659</dd>\n",
       "</dl>\n"
      ],
      "text/latex": [
       "\\begin{description*}\n",
       "\\item[x] 0.0812318850269317\n",
       "\\item[y] 0.0862702058329192\n",
       "\\item[z] 0.0778604331691659\n",
       "\\end{description*}\n"
      ],
      "text/markdown": [
       "x\n",
       ":   0.0812318850269317y\n",
       ":   0.0862702058329192z\n",
       ":   0.0778604331691659\n",
       "\n"
      ],
      "text/plain": [
       "         x          y          z \n",
       "0.08123189 0.08627021 0.07786043 "
      ]
     },
     "execution_count": 81,
     "metadata": {},
     "output_type": "execute_result"
    }
   ],
   "source": [
    "# La diagonal de la matriz varianza y covarianza \n",
    "# tiene tres varianzas de muestra cual deben ser cercanas a 0.0833\n",
    "# bajo la aseveracion que RANDU genera data uniform(0,1)\n",
    "\n",
    "diag(var(randu))"
   ]
  },
  {
   "cell_type": "code",
   "execution_count": 82,
   "metadata": {
    "collapsed": false
   },
   "outputs": [
    {
     "data": {
      "text/html": [
       "<table>\n",
       "<thead><tr><th></th><th scope=col>x</th><th scope=col>y</th><th scope=col>z</th></tr></thead>\n",
       "<tbody>\n",
       "\t<tr><th scope=row>x</th><td> 1.00000000</td><td>-0.04847127</td><td> 0.05831454</td></tr>\n",
       "\t<tr><th scope=row>y</th><td>-0.04847127</td><td> 1.00000000</td><td>-0.06281830</td></tr>\n",
       "\t<tr><th scope=row>z</th><td> 0.05831454</td><td>-0.06281830</td><td> 1.00000000</td></tr>\n",
       "</tbody>\n",
       "</table>\n"
      ],
      "text/latex": [
       "\\begin{tabular}{r|lll}\n",
       "  & x & y & z\\\\\n",
       "\\hline\n",
       "\tx &  1.00000000 & -0.04847127 &  0.05831454\\\\\n",
       "\ty & -0.04847127 &  1.00000000 & -0.06281830\\\\\n",
       "\tz &  0.05831454 & -0.06281830 &  1.00000000\\\\\n",
       "\\end{tabular}\n"
      ],
      "text/markdown": [
       "1. 1\n",
       "2. -0.0484712718500071\n",
       "3. 0.0583145400658111\n",
       "4. -0.0484712718500071\n",
       "5. 1\n",
       "6. -0.0628182997062393\n",
       "7. 0.0583145400658111\n",
       "8. -0.0628182997062393\n",
       "9. 1\n",
       "\n",
       "\n"
      ],
      "text/plain": [
       "            x           y           z\n",
       "x  1.00000000 -0.04847127  0.05831454\n",
       "y -0.04847127  1.00000000 -0.06281830\n",
       "z  0.05831454 -0.06281830  1.00000000"
      ]
     },
     "execution_count": 82,
     "metadata": {},
     "output_type": "execute_result"
    }
   ],
   "source": [
    "# La correlacion es cercana a cero\n",
    "\n",
    "cor(randu)"
   ]
  },
  {
   "cell_type": "code",
   "execution_count": 83,
   "metadata": {
    "collapsed": false
   },
   "outputs": [
    {
     "data": {
      "application/pdf": "[encoded data removed]",
      "image/jpeg": "[encoded data removed]",
      "image/png": "[encoded data removed]",
      "text/plain": [
       "plot without title"
      ]
     },
     "metadata": {
      "image/svg+xml": {
       "isolated": true
      }
     },
     "output_type": "display_data"
    }
   ],
   "source": [
    "# Instalamos el paquete lattice: install.package(\"lattice)\n",
    "# Veamos el diseño que se observa en la data\n",
    "\n",
    "library(lattice)\n",
    "cloud(z ~ x + y, data=randu)"
   ]
  },
  {
   "cell_type": "code",
   "execution_count": 84,
   "metadata": {
    "collapsed": true
   },
   "outputs": [],
   "source": [
    "# Veamos la distribución de las filas. Cada fila es asumida como una muestra aleatoria\n",
    "# de tamaño 3 de una distribución Uniforme (0,1) para obtener el vector de mili\n",
    "\n",
    "mili <- apply(randu, MARGIN=1, FUN=mean)"
   ]
  },
  {
   "cell_type": "code",
   "execution_count": 85,
   "metadata": {
    "collapsed": false
   },
   "outputs": [
    {
     "data": {
      "application/pdf": "[encoded data removed]",
      "image/jpeg": "[encoded data removed]",
      "image/png": "[encoded data removed]",
      "text/plain": [
       "Plot with title \"Histogram of mili\""
      ]
     },
     "metadata": {
      "image/svg+xml": {
       "isolated": true
      }
     },
     "output_type": "display_data"
    }
   ],
   "source": [
    "hist(mili)"
   ]
  },
  {
   "cell_type": "markdown",
   "metadata": {},
   "source": [
    "De acuerdo con el teorema del límite central, la distribución de la media de la muestra tiende a la normal cuando  el tamaño de la muestra tiende a infinito. Para comparar nuestro histograma con una distribución normal, necesitamos un histograma de probabilidad. Hagamos eso con el siguiente código: `hist(mili, prob=TRUE)`."
   ]
  },
  {
   "cell_type": "code",
   "execution_count": 86,
   "metadata": {
    "collapsed": false
   },
   "outputs": [
    {
     "data": {
      "application/pdf": "[encoded data removed]",
      "image/jpeg": "[encoded data removed]",
      "image/png": "[encoded data removed]",
      "text/plain": [
       "Plot with title \"density.default(x = mili)\""
      ]
     },
     "metadata": {
      "image/svg+xml": {
       "isolated": true
      }
     },
     "output_type": "display_data"
    }
   ],
   "source": [
    "# La densidad estimada puede ser mostrada como\n",
    "\n",
    "plot(density(mili))"
   ]
  },
  {
   "cell_type": "code",
   "execution_count": 87,
   "metadata": {
    "collapsed": false
   },
   "outputs": [
    {
     "data": {
      "application/pdf": "[encoded data removed]",
      "image/jpeg": "[encoded data removed]",
      "image/png": "[encoded data removed]",
      "text/plain": [
       "plot without title"
      ]
     },
     "metadata": {
      "image/svg+xml": {
       "isolated": true
      }
     },
     "output_type": "display_data"
    }
   ],
   "source": [
    "# Usemos la funcion truehist del package MASS para mostrar un histograma de probabilidad.\n",
    "library(MASS)\n",
    "truehist(mili)\n",
    "curve(dnorm(x, 1/2, sd=sqrt(1/36)), add=TRUE)"
   ]
  },
  {
   "cell_type": "markdown",
   "metadata": {},
   "source": [
    "A partir del histograma y la densidad normal mostrada  se puede observar que la distribución de la muestra se aproxima a la normal incluso con una muestra tan pequeña."
   ]
  },
  {
   "cell_type": "code",
   "execution_count": null,
   "metadata": {
    "collapsed": true
   },
   "outputs": [],
   "source": []
  }
 ],
 "metadata": {
  "kernelspec": {
   "display_name": "R",
   "language": "R",
   "name": "ir"
  },
  "language_info": {
   "codemirror_mode": "r",
   "file_extension": ".r",
   "mimetype": "text/x-r-source",
   "name": "R",
   "pygments_lexer": "r",
   "version": "3.1.3"
  }
 },
 "nbformat": 4,
 "nbformat_minor": 0
}
