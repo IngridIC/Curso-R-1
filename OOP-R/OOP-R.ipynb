{
 "cells": [
  {
   "cell_type": "markdown",
   "metadata": {},
   "source": [
    "# Programación Orientada a Objetos en R\n",
    "\n",
    "\n",
    "Para cualquier sistema orientado a objetos,  dos conceptos centrales   son los de **clase** y **método**. Una clase define el comportamiento de los **objetos** mediante la descripción de sus **atributos** y su relación con otras clases.\n",
    "\n",
    "Las clases  utilizan   **métodos**, funciones que se comportan de manera diferente  dependiendo de  la clase que los utiliza y se organizan normalmente en una jerarquía de **subclase** y **superclase**. Si un método no existe para una **subclase**, entonces el método de la **superclase** relacionada ocupa su  lugar; las subclases heredan el comportamiento de las superclases relacionadas.\n",
    "\n",
    "Hay tres sistemas sobre la programación orientada a objetos en  R  que difieren en cómo se definen las clases y métodos:\n",
    "\n",
    "1. **S3** implementa un estilo de programación orientado a objetos, que utiliza el concepto de ** función genérica**. Esta forma de implementación   es diferente de la mayoría de los lenguajes de programación, como Java, C ++  o C#, que implementan la programación orientada a objetos mediante  el **paso de mensajes (message-passing)**. Con este estilo, los mensajes (métodos) se envían a los objetos y es el objeto quien determina qué función llamar, en este contexto los objetos  tiene una aparición especial en la llamada al método: por lo general aparece antes del nombre del mensaje o método, como muestra  el siguiente ejemplo:  `canvas.drawRect (\"red\")`. En S3 esto es  diferente;  si bien las implementaciones todavía se llevan a cabo a través de métodos, un tipo especial de  función llamada **función genérica** decide qué método  llamar: `drawRect (canvas, \"blue\")`. S3 es un sistema que tiene ninguna definición formal de clases.\n",
    "2. **S4** funciona de manera similar a S3, pero es más formal. Hay dos diferencias principales a S3: S4 tiene definiciones de clases formales, que describen la representación y la herencia para cada clase, y tiene funciones de ayuda especiales para la definición de los genéricos y métodos.  S4 a difererencia de S3 tiene múltiple **dispatch** que significa que las funciones genéricas pueden elegir los métodos basados en la clase de cualquier número de argumentos, no solamente  de uno.\n",
    "3. **Clases de referencia**, llamadas **RC** para abreviar, son bastante diferentes de S3 y S4. RC implementa el  **paso de mensajes**, por lo que los métodos  pertenecen a clases y no a funciones. `$` se utiliza para separar objetos y métodos, por lo que las llamadas a métodos en este sistema  son de la forma `canvas$drawRect (\"blue\")` y  permiten resolver problemas que son difíciles  con S3 o S4.\n",
    "\n",
    "También hay otro sistema que no es necesariamente de programación orientada a objetos , pero es importante mencionarlo:\n",
    "\n",
    " \n",
    "- **Tipos de base**, son los tipos  internos  que subyacen a los otros sistemas mencionados. Estos tipos base son manipulados usando código C y  son importantes para saber acerca de como se proporcionan los bloques de construcción de otros sistemas orientado a objetos.\n",
    "\n",
    "\n",
    "En general  la  Programación Orientada a Objetos en R, proporciona las siguientes propiedades:\n",
    "\n",
    "1. Todo lo que hay  en R,  desde números, a cadenas de caracteres, matrices es un objeto.\n",
    "2. R promueve la **encapsulación**, que se trata de 'empaquetar' los elementos de los datos  separados pero relacionados en una sola instancia de clase. La encapsulación ayuda a mantener un registro de las variables relacionadas, mejorando la claridad.\n",
    "3. Las clases en R usan **polimorfismo**, lo que significa que la misma llamada de función lleva a diferentes operaciones para objetos de diferentes clases. Por ejemplo, una llamada a `print ()` en un objeto de cierta clase produce  una llamada a una función `print()` a la medida de esa clase. Polimorfismo promueve la reutilización.\n",
    "4. R permite la **herencia**,  que permite extender una clase dada a una clase más especializada.\n",
    "\n",
    "\n",
    "\n",
    "### Lecturas recomendadas:\n",
    "\n",
    "- [Clases y Objetos en el sistema S3](http://abhishek-tiwari.com/hacking/class-and-objects-in-r-s3-style).\n",
    "- [Notas de S4](http://www.bioconductor.org/help/course-materials/2010/AdvancedR/S4InBioconductor.pdf)\n",
    "- [Respuestas a preguntas en S4 de Martin Morgan](http://stackoverflow.com/search?tab=votes&q=user%3a547331%20%5bs4%5d%20is%3aanswe)\n",
    "- [Programación Orientada a Objetos](http://www.cyclismo.org/tutorial/R/objectOriented.html)\n",
    "- [Proto Package](https://cran.r-project.org/web/packages/proto/index.html).\n"
   ]
  },
  {
   "cell_type": "markdown",
   "metadata": {},
   "source": [
    "## Tipos Bases \n",
    "\n",
    "Detrás de cada objeto R hay una estructura de C (o struct) que describe cómo se almacena ese objeto en  memoria. La estructura incluye el contenido del objeto, la información necesaria para la gestión de la memoria, y un tipo. Este es el tipo  base de un objeto R. Los tipos  base no son realmente un sistema de objetos, ya que sólo el equipo principal de  R puede crear nuevos tipos. Como resultado, se añaden nuevos tipos base muy raramente: el cambio más reciente, en 2011, añadió dos tipos exóticos que nunca se ve en R, pero son útiles para diagnosticar problemas de memoria (NEWSXP y FREESXP). Antes de eso, el último tipo añadido era un tipo base especial para objetos S4 (S4SXP) en el año 2005.\n",
    "\n",
    "Las estructuras de datos exponen  los tipos  bases más comunes (vectores y listas), pero los tipos  base también abarcan funciones, entornos y otros objetos (names y llamadas). Se puede determinar el tipo base de un objeto con `typeof()`. Desafortunadamente los nombres de los tipos  base no se utilizan consistentemente a través de R, y el tipo y la correspondiente  función **\"is\"** pueden utilizar diferentes nombres "
   ]
  },
  {
   "cell_type": "code",
   "execution_count": 4,
   "metadata": {
    "collapsed": false
   },
   "outputs": [
    {
     "data": {
      "text/html": [
       "'closure'"
      ],
      "text/latex": [
       "'closure'"
      ],
      "text/markdown": [
       "'closure'"
      ],
      "text/plain": [
       "[1] \"closure\""
      ]
     },
     "execution_count": 4,
     "metadata": {},
     "output_type": "execute_result"
    },
    {
     "data": {
      "text/html": [
       "TRUE"
      ],
      "text/latex": [
       "TRUE"
      ],
      "text/markdown": [
       "TRUE"
      ],
      "text/plain": [
       "[1] TRUE"
      ]
     },
     "execution_count": 4,
     "metadata": {},
     "output_type": "execute_result"
    }
   ],
   "source": [
    "# El tipo de una funcion es \"closure\"\n",
    "\n",
    "f <- function() {}\n",
    "typeof(f)\n",
    "is.function(f)"
   ]
  },
  {
   "cell_type": "code",
   "execution_count": 5,
   "metadata": {
    "collapsed": false
   },
   "outputs": [
    {
     "data": {
      "text/html": [
       "'builtin'"
      ],
      "text/latex": [
       "'builtin'"
      ],
      "text/markdown": [
       "'builtin'"
      ],
      "text/plain": [
       "[1] \"builtin\""
      ]
     },
     "execution_count": 5,
     "metadata": {},
     "output_type": "execute_result"
    },
    {
     "data": {
      "text/html": [
       "TRUE"
      ],
      "text/latex": [
       "TRUE"
      ],
      "text/markdown": [
       "TRUE"
      ],
      "text/plain": [
       "[1] TRUE"
      ]
     },
     "execution_count": 5,
     "metadata": {},
     "output_type": "execute_result"
    }
   ],
   "source": [
    "# El tipo de una funcion es 'builtin'\n",
    "\n",
    "typeof(sum)\n",
    "is.primitive(sum)"
   ]
  },
  {
   "cell_type": "markdown",
   "metadata": {},
   "source": [
    "Es recomendable ignorar las funciones  `mode()` y `storage.mode()` porque son sólo los alias de los nombres devueltos por `typeof()`, y existen solamente para la compatibilidad con **S**. Funciones que se comportan de forma diferente para diferentes tipos  base están casi siempre escritas en C, donde el **dispatch** sucede con declaraciones `switch` (por ejemplo, `switch(TYPEOF (x)))`. \n",
    "\n",
    "Es importante entender los tipos  base porque todo lo demás se construye encima de ellos: los objetos S3 se pueden construir en la parte superior de cualquier tipo  base, los objetos S4 utilizan un tipo base especial, y objetos d RC son una combinación de S4 y de entornos (otro tipo  base). Para ver si un objeto es un tipo d base puro, es decir, que no tenga un comportamiento  S3, S4 o RC, compruebe que `is.object(x)` devuelva FALSE."
   ]
  },
  {
   "cell_type": "markdown",
   "metadata": {},
   "source": [
    "#Método Dispatch\n",
    "\n",
    "Conceptos Importantes\n",
    "\n",
    "\n",
    "Un **mensaje**  es un nombre que puede ser enviado desde un objeto a otro, posiblemente con objetos adicionales como argumentos. Por ejemplo, en\n",
    "\n",
    "```\n",
    "    python kivy:100\n",
    "```\n",
    "\n",
    "El mensaje es `kivy: 100` ( Sintaxis de Smalltalk) (En otros lenguajes se puede escribir ` python-kivy(100)`).  El objeto que recibe el mensaje, en este ejemplo `python`, se llama el receptor.\n",
    "\n",
    "Un método es una implementacion  que puede ser invocada en respuesta a un mensaje.\n",
    "\n",
    "Estas ideas se comparten entre una amplia variedad de lenguajes de programacion  orientada a objetos, a veces con nombres diferentes.\n",
    "\n",
    "Por ejemplo, C ++ llama a un mensaje  una \"función miembro virtual\".\n",
    "\n",
    "Ahora:\n",
    "\n",
    "** Método Dispatch**  es el algoritmo utilizado para decidir qué método debe ser invocado en respuesta a un mensaje. Esto  varía  entre los lenguajes de programacíon.\n",
    "\n",
    "Lenguajes como Smalltalk, que tienen clases y herencia simple, consulta la clase del receptor. Si el método es definido en la clase se invoca el método. De lo contrario, el algoritmo comprueba la única superclase, y así sucesivamente.\n",
    "\n",
    " En C ++ el método es aun  determinado por la clase del receptor, pero debido a que  una clase puede tener varias superclases, el problema de decidir qué método invocar es más complicado.\n",
    "\n",
    "En los lenguajes orientados a objetos más avanzados, el método **dispatch**  examina no sólo el receptor, sino los argumentos que se pasan junto con el mensaje. Esta idea se refiere a veces como **multimétodo**.\n",
    "\n",
    "\n",
    "## Método dispatch en R\n",
    "\n",
    "Una herramienta útil cuando se trata de funciones en R es el dispatching a un método. Una cosa para recordar acerca de las funciones en R es que una función puede dar un resultado diferente, basado en el tipo de valor que se coloca en los  argumentos.\n",
    "\n",
    "R tiene un sistema  llamado  sistema de función genérica, que te  permite llamar a diferentes funciones con el mismo nombre.\n",
    "\n",
    "Piense en los data frame y las listas. Si se imprime una lista en la consola, se obtiene la salida  en filas. Por otro lado, un data frame es mostrado  en la consola dispuestos en columnas. Así, la función `print()` trata a las listas y los data frame de  manera diferente, pero las dos estructuras utiliza la misma función.\n",
    "\n",
    "###Los  métodos detrás de la función\n",
    "\n",
    "Es fácil saber si se ha utilizado la misma función en ambas ocasiones, sólo hay que  mirar dentro del código de la función `print()` escribiendo su nombre en la línea de comandos, así:\n",
    "\n",
    "```\n",
    ">print\n",
    "function (x, ...) \n",
    "UseMethod(\"print\")\n",
    "<bytecode: 0x2b139f8>\n",
    "<environment: namespace:base>\n",
    "\n",
    "```\n",
    "Puede ignorar las dos últimas líneas, ya que sólo se utilizan por los desarrolladores R. Pero echar un vistazo en el cuerpo de la función  es sólo una línea!\n",
    "\n",
    "Funciones que no hacen mucho más que la transmisión de los objetos a la función  correcta se llaman `funciones genéricas`. En este ejemplo, `print()` es una función genérica. Las funciones que hacen el trabajo real se denominan `métodos`.\n",
    "\n",
    "\n",
    "\n",
    "\n",
    "## UseMethod\n",
    "\n",
    "¿Por qué que una línea de código en la función  `print()` puede  hacer tantas cosas complejas como la muestra de vectores, data frames, listas  todos de una manera diferente?\n",
    "\n",
    "La respuesta está contenida en la función `UseMethod()`, que es la función central en el sistema de  funciones  genéricas de R.  `UseMethod()` le dice a R  moverse y buscar una función que puede dar con el tipo de objeto que se da como  argumento `x`.\n",
    "\n",
    "R lo que hace es  mirar a través de una serie completa de funciones en busca de otra función que inicia con la `print ` seguido de un punto y luego el nombre del tipo de objeto.\n",
    "\n",
    "Puede hacerlo también usando el  comando `apropos('print\\\\.')`. Entre las comillas,  puedes colocar una expresión regular como en la función `grep()`. De esta manera le decimos a  R que el punto realmente significa un punto, y que ha se a tenido  que preceder con dos barras invertidas. No te sorprenda cuando obtengas  más de 40 funciones `printf()` para todo tipo de objetos.\n",
    "\n",
    "Suponga que tienes un data frame  que deseas mostrar. R buscará la función  `print.data.frame()` y utilizará esa función para mostrar el objeto que se ha pasado como argumento. También se puede llamar a esa función de esta manera:"
   ]
  },
  {
   "cell_type": "code",
   "execution_count": 6,
   "metadata": {
    "collapsed": false
   },
   "outputs": [
    {
     "name": "stdout",
     "output_type": "stream",
     "text": [
      "  a b\n",
      "1 1 2\n",
      "2 2 1\n"
     ]
    }
   ],
   "source": [
    "s.1 <- data.frame(a = 1:2, b = 2:1)\n",
    "print.data.frame(s.1)"
   ]
  },
  {
   "cell_type": "markdown",
   "metadata": {},
   "source": [
    "## Usando métodos Default \n",
    "\n",
    "En el caso de una lista, estas tentado a  buscar una función `print.list()`. Pero no va a funcionar, porque la función `print.list()` no existe. Sin embargo eso no es un problema para R. R ignorará el tipo de objeto en ese caso y sólo tiene que buscar un método predeterminado, `print.default()`.\n",
    "\n",
    "Para muchas funciones genéricas, hay un método por defecto que se utiliza si no hay un método específico. Si no hay uno, puedes reconocer el método predeterminado por la palabra `default` después del punto en el nombre de la función.\n",
    "Por lo tanto, si desea imprimir el data frame  como una lista, utilice el método por defecto de esta manera:"
   ]
  },
  {
   "cell_type": "code",
   "execution_count": 7,
   "metadata": {
    "collapsed": false
   },
   "outputs": [
    {
     "name": "stdout",
     "output_type": "stream",
     "text": [
      "$a\n",
      "[1] 1 2\n",
      "\n",
      "$b\n",
      "[1] 2 1\n",
      "\n",
      "attr(,\"class\")\n",
      "[1] \"data.frame\"\n"
     ]
    }
   ],
   "source": [
    "print.default(s.1)"
   ]
  },
  {
   "cell_type": "markdown",
   "metadata": {},
   "source": [
    "## La clase S3\n",
    "\n",
    "S3 es  el primer y más simple sistema de programación orientado a objetos en  R. Es el único sistema utilizado en los paquetes estadísticos y los que conforman el sistema base de R, y es el sistema más utilizado en los paquetes [CRAN](https://cran.r-project.org/web/packages/available_packages_by_name.html).\n",
    "\n",
    "### Reconociendo objetos, funciones genéricas y métodos\n",
    "\n",
    "La mayoría de los objetos que encuentran en R son objetos S3. Pero, por desgracia no hay forma sencilla de comprobar si un objeto es un objeto S3 en R.  Una forma  fácil de resolver esto es usar `pryr::otype()`:"
   ]
  },
  {
   "cell_type": "code",
   "execution_count": 8,
   "metadata": {
    "collapsed": false
   },
   "outputs": [
    {
     "name": "stderr",
     "output_type": "stream",
     "text": [
      "\n",
      "Attaching package: ‘pryr’\n",
      "\n",
      "The following object is masked _by_ ‘.GlobalEnv’:\n",
      "\n",
      "    f\n",
      "\n"
     ]
    },
    {
     "data": {
      "text/html": [
       "'S3'"
      ],
      "text/latex": [
       "'S3'"
      ],
      "text/markdown": [
       "'S3'"
      ],
      "text/plain": [
       "[1] \"S3\""
      ]
     },
     "execution_count": 8,
     "metadata": {},
     "output_type": "execute_result"
    },
    {
     "data": {
      "text/html": [
       "'base'"
      ],
      "text/latex": [
       "'base'"
      ],
      "text/markdown": [
       "'base'"
      ],
      "text/plain": [
       "[1] \"base\""
      ]
     },
     "execution_count": 8,
     "metadata": {},
     "output_type": "execute_result"
    },
    {
     "data": {
      "text/html": [
       "'S3'"
      ],
      "text/latex": [
       "'S3'"
      ],
      "text/markdown": [
       "'S3'"
      ],
      "text/plain": [
       "[1] \"S3\""
      ]
     },
     "execution_count": 8,
     "metadata": {},
     "output_type": "execute_result"
    }
   ],
   "source": [
    "library(pryr)\n",
    "df1 <- data.frame(x = 1:15, y = letters[1:15])\n",
    "otype(df1)   \n",
    "otype(df1$x)  \n",
    "otype(df1$y)"
   ]
  },
  {
   "cell_type": "markdown",
   "metadata": {},
   "source": [
    "En S3, los métodos pertenecen a funciones, llamadas **funciones genéricas**, o **genéricos**, para abreviar. Los métodos de S3 no pertenecen a los objetos o clases. Esto es diferente de la mayoría de  lenguajes de programación, pero es un estilo orientado a objetos legítimo.\n",
    "\n",
    "Para determinar si una función es un genérico S3, puedes inspeccionar su código fuente con una llamada a `UseMethod():` que  es la función que  da cuenta del  método correcto para llamar, al proceso de  **(dispatch)**. Similar a `otype()`, Pryr también proporciona `ftype()` que describe el sistema, si los hay, asociados con una función."
   ]
  },
  {
   "cell_type": "code",
   "execution_count": 9,
   "metadata": {
    "collapsed": false
   },
   "outputs": [
    {
     "data": {
      "text/html": [
       "<pre class=language-r><code>function (x, ...) \n",
       "UseMethod(\"print\")</code></pre>"
      ],
      "text/latex": [
       "\\begin{minted}{r}\n",
       "function (x, ...) \n",
       "UseMethod(\"print\")\n",
       "\\end{minted}"
      ],
      "text/markdown": [
       "```r\n",
       "function (x, ...) \n",
       "UseMethod(\"print\")\n",
       "```"
      ],
      "text/plain": [
       "function (x, ...) \n",
       "UseMethod(\"print\")\n",
       "<bytecode: 0x88d5860>\n",
       "<environment: namespace:base>"
      ]
     },
     "execution_count": 9,
     "metadata": {},
     "output_type": "execute_result"
    },
    {
     "data": {
      "text/html": [
       "<ol class=list-inline>\n",
       "\t<li>'s3'</li>\n",
       "\t<li>'generic'</li>\n",
       "</ol>\n"
      ],
      "text/latex": [
       "\\begin{enumerate*}\n",
       "\\item 's3'\n",
       "\\item 'generic'\n",
       "\\end{enumerate*}\n"
      ],
      "text/markdown": [
       "1. 's3'\n",
       "2. 'generic'\n",
       "\n",
       "\n"
      ],
      "text/plain": [
       "[1] \"s3\"      \"generic\""
      ]
     },
     "execution_count": 9,
     "metadata": {},
     "output_type": "execute_result"
    }
   ],
   "source": [
    "print\n",
    "ftype(print)\n"
   ]
  },
  {
   "cell_type": "markdown",
   "metadata": {},
   "source": [
    "Algunos funciones genéricas  S3, como **[**, **sum()** y **cbind ()**, no llaman **UseMethod()**, debido a que están  implementadas en C. En su lugar,  llaman a la funciones de C:  **DispatchGroup()** o **DispatchOrEval()**. Funciones que hacen el  **(dispatch)** en  C se llaman **funciones genéricas internas** y están documentados en `? \"internal generic\"`.\n",
    "\n",
    "`ftype()` sabe acerca de estos casos especiales también.\n",
    "\n",
    "Dada una clase, el trabajo de una función genérica S3 es llamar al método S3. Se puede reconocer métodos S3 por sus nombres, los cuales se ven como `generic.class()`. Por ejemplo, el método Date para la función genérica `mean()` se  llama `mean.Date()`, y el método  factor para  `print()' se llama 'print.factor()'.\n",
    "\n",
    "Esta es la razón por la que la mayoría de las guías de estilo moderno desalientan el uso de **.** en los nombres de función: hace que se vean como métodos S3. Del mismo modo, el uso de **.** en nombres de clases también puede ser confuso: es `print.data.frame()` el método `print()` para data.frame, o el método `print.data()` para `frames `?.\n",
    "\n",
    "`pryr::ftype()` sabe acerca de estas excepciones, así que se puede utilizar para averiguar si una función es un método S3 o una función genérica:"
   ]
  },
  {
   "cell_type": "code",
   "execution_count": 10,
   "metadata": {
    "collapsed": false
   },
   "outputs": [
    {
     "data": {
      "text/html": [
       "<ol class=list-inline>\n",
       "\t<li>'s3'</li>\n",
       "\t<li>'method'</li>\n",
       "</ol>\n"
      ],
      "text/latex": [
       "\\begin{enumerate*}\n",
       "\\item 's3'\n",
       "\\item 'method'\n",
       "\\end{enumerate*}\n"
      ],
      "text/markdown": [
       "1. 's3'\n",
       "2. 'method'\n",
       "\n",
       "\n"
      ],
      "text/plain": [
       "[1] \"s3\"     \"method\""
      ]
     },
     "execution_count": 10,
     "metadata": {},
     "output_type": "execute_result"
    },
    {
     "data": {
      "text/html": [
       "<ol class=list-inline>\n",
       "\t<li>'s3'</li>\n",
       "\t<li>'generic'</li>\n",
       "</ol>\n"
      ],
      "text/latex": [
       "\\begin{enumerate*}\n",
       "\\item 's3'\n",
       "\\item 'generic'\n",
       "\\end{enumerate*}\n"
      ],
      "text/markdown": [
       "1. 's3'\n",
       "2. 'generic'\n",
       "\n",
       "\n"
      ],
      "text/plain": [
       "[1] \"s3\"      \"generic\""
      ]
     },
     "execution_count": 10,
     "metadata": {},
     "output_type": "execute_result"
    }
   ],
   "source": [
    "ftype(t.data.frame) # metodo para t()\n",
    "\n",
    "ftype(t.test)   # funcion generica para los test t     "
   ]
  },
  {
   "cell_type": "markdown",
   "metadata": {},
   "source": [
    "Se puede ver todos los métodos que pertenecen a una función genérica usando `methods()`"
   ]
  },
  {
   "cell_type": "code",
   "execution_count": 11,
   "metadata": {
    "collapsed": false
   },
   "outputs": [
    {
     "data": {
      "text/plain": [
       "[1] mean.Date     mean.default  mean.difftime mean.POSIXct  mean.POSIXlt \n",
       "see '?methods' for accessing help and source code"
      ]
     },
     "execution_count": 11,
     "metadata": {},
     "output_type": "execute_result"
    }
   ],
   "source": [
    "methods(\"mean\")"
   ]
  },
  {
   "cell_type": "code",
   "execution_count": 12,
   "metadata": {
    "collapsed": false
   },
   "outputs": [
    {
     "data": {
      "text/plain": [
       "[1] t.test.default* t.test.formula*\n",
       "see '?methods' for accessing help and source code"
      ]
     },
     "execution_count": 12,
     "metadata": {},
     "output_type": "execute_result"
    }
   ],
   "source": [
    "methods(\"t.test\")"
   ]
  },
  {
   "cell_type": "code",
   "execution_count": 13,
   "metadata": {
    "collapsed": false
   },
   "outputs": [
    {
     "data": {
      "text/plain": [
       "  [1] print.acf*                                   \n",
       "  [2] print.AES*                                   \n",
       "  [3] print.anova*                                 \n",
       "  [4] print.aov*                                   \n",
       "  [5] print.aovlist*                               \n",
       "  [6] print.ar*                                    \n",
       "  [7] print.Arima*                                 \n",
       "  [8] print.arima0*                                \n",
       "  [9] print.AsIs                                   \n",
       " [10] print.aspell*                                \n",
       " [11] print.aspell_inspect_context*                \n",
       " [12] print.bibentry*                              \n",
       " [13] print.Bibtex*                                \n",
       " [14] print.browseVignettes*                       \n",
       " [15] print.by                                     \n",
       " [16] print.bytes*                                 \n",
       " [17] print.changedFiles*                          \n",
       " [18] print.check_code_usage_in_package*           \n",
       " [19] print.check_compiled_code*                   \n",
       " [20] print.check_demo_index*                      \n",
       " [21] print.check_depdef*                          \n",
       " [22] print.checkDocFiles*                         \n",
       " [23] print.checkDocStyle*                         \n",
       " [24] print.check_dotInternal*                     \n",
       " [25] print.checkFF*                               \n",
       " [26] print.check_make_vars*                       \n",
       " [27] print.check_nonAPI_calls*                    \n",
       " [28] print.check_package_code_assign_to_globalenv*\n",
       " [29] print.check_package_code_attach*             \n",
       " [30] print.check_package_code_data_into_globalenv*\n",
       " [31] print.check_package_code_startup_functions*  \n",
       " [32] print.check_package_code_syntax*             \n",
       " [33] print.check_package_code_unload_functions*   \n",
       " [34] print.check_package_compact_datasets*        \n",
       " [35] print.check_package_CRAN_incoming*           \n",
       " [36] print.check_package_datasets*                \n",
       " [37] print.check_package_depends*                 \n",
       " [38] print.check_package_description*             \n",
       " [39] print.check_package_description_encoding*    \n",
       " [40] print.check_package_license*                 \n",
       " [41] print.check_packages_in_dir*                 \n",
       " [42] print.check_packages_in_dir_changes*         \n",
       " [43] print.check_packages_used*                   \n",
       " [44] print.check_po_files*                        \n",
       " [45] print.checkRd*                               \n",
       " [46] print.check_Rd_contents*                     \n",
       " [47] print.check_Rd_line_widths*                  \n",
       " [48] print.check_Rd_metadata*                     \n",
       " [49] print.check_Rd_xrefs*                        \n",
       " [50] print.checkReplaceFuns*                      \n",
       " [51] print.checkS3methods*                        \n",
       " [52] print.check_so_symbols*                      \n",
       " [53] print.check_T_and_F*                         \n",
       " [54] print.checkTnF*                              \n",
       " [55] print.check_url_db*                          \n",
       " [56] print.check_vignette_index*                  \n",
       " [57] print.checkVignettes*                        \n",
       " [58] print.citation*                              \n",
       " [59] print.codoc*                                 \n",
       " [60] print.codocClasses*                          \n",
       " [61] print.codocData*                             \n",
       " [62] print.colorConverter*                        \n",
       " [63] print.compactPDF*                            \n",
       " [64] print.condition                              \n",
       " [65] print.connection                             \n",
       " [66] print.data.frame                             \n",
       " [67] print.Date                                   \n",
       " [68] print.default                                \n",
       " [69] print.dendrogram*                            \n",
       " [70] print.density*                               \n",
       " [71] print.difftime                               \n",
       " [72] print.dist*                                  \n",
       " [73] print.Dlist                                  \n",
       " [74] print.DLLInfo                                \n",
       " [75] print.DLLInfoList                            \n",
       " [76] print.DLLRegisteredRoutines                  \n",
       " [77] print.dummy_coef*                            \n",
       " [78] print.dummy_coef_list*                       \n",
       " [79] print.ecdf*                                  \n",
       " [80] print.envlist*                               \n",
       " [81] print.factanal*                              \n",
       " [82] print.factor                                 \n",
       " [83] print.family*                                \n",
       " [84] print.fileSnapshot*                          \n",
       " [85] print.findLineNumResult*                     \n",
       " [86] print.formula*                               \n",
       " [87] print.fseq*                                  \n",
       " [88] print.ftable*                                \n",
       " [89] print.function                               \n",
       " [90] print.getAnywhere*                           \n",
       " [91] print.glm*                                   \n",
       " [92] print.hclust*                                \n",
       " [93] print.help_files_with_topic*                 \n",
       " [94] print.hexmode                                \n",
       " [95] print.HoltWinters*                           \n",
       " [96] print.hsearch*                               \n",
       " [97] print.hsearch_db*                            \n",
       " [98] print.htest*                                 \n",
       " [99] print.infl*                                  \n",
       "[100] print.inspect*                               \n",
       "[101] print.inspect_NILSXP*                        \n",
       "[102] print.integrate*                             \n",
       "[103] print.isoreg*                                \n",
       "[104] print.json*                                  \n",
       "[105] print.kmeans*                                \n",
       "[106] print.Latex*                                 \n",
       "[107] print.LaTeX*                                 \n",
       "[108] print.libraryIQR                             \n",
       "[109] print.listof                                 \n",
       "[110] print.lm*                                    \n",
       "[111] print.loadings*                              \n",
       "[112] print.loess*                                 \n",
       "[113] print.logLik*                                \n",
       "[114] print.ls_str*                                \n",
       "[115] print.medpolish*                             \n",
       "[116] print.MethodsFunction*                       \n",
       "[117] print.mtable*                                \n",
       "[118] print.NativeRoutineList                      \n",
       "[119] print.news_db*                               \n",
       "[120] print.nls*                                   \n",
       "[121] print.noquote                                \n",
       "[122] print.numeric_version                        \n",
       "[123] print.object_size*                           \n",
       "[124] print.octmode                                \n",
       "[125] print.packageDescription*                    \n",
       "[126] print.packageInfo                            \n",
       "[127] print.packageIQR*                            \n",
       "[128] print.packageStatus*                         \n",
       "[129] print.pairwise.htest*                        \n",
       "[130] print.PDF_Array*                             \n",
       "[131] print.PDF_Dictionary*                        \n",
       "[132] print.pdf_doc*                               \n",
       "[133] print.pdf_fonts*                             \n",
       "[134] print.PDF_Indirect_Reference*                \n",
       "[135] print.pdf_info*                              \n",
       "[136] print.PDF_Keyword*                           \n",
       "[137] print.PDF_Name*                              \n",
       "[138] print.PDF_Stream*                            \n",
       "[139] print.PDF_String*                            \n",
       "[140] print.person*                                \n",
       "[141] print.POSIXct                                \n",
       "[142] print.POSIXlt                                \n",
       "[143] print.power.htest*                           \n",
       "[144] print.ppr*                                   \n",
       "[145] print.prcomp*                                \n",
       "[146] print.princomp*                              \n",
       "[147] print.proc_time                              \n",
       "[148] print.raster*                                \n",
       "[149] print.Rd*                                    \n",
       "[150] print.recordedplot*                          \n",
       "[151] print.restart                                \n",
       "[152] print.RGBcolorConverter*                     \n",
       "[153] print.rle                                    \n",
       "[154] print.roman*                                 \n",
       "[155] print.scalar*                                \n",
       "[156] print.sessionInfo*                           \n",
       "[157] print.simple.list                            \n",
       "[158] print.smooth.spline*                         \n",
       "[159] print.socket*                                \n",
       "[160] print.srcfile                                \n",
       "[161] print.srcref                                 \n",
       "[162] print.stepfun*                               \n",
       "[163] print.stl*                                   \n",
       "[164] print.StructTS*                              \n",
       "[165] print.subdir_tests*                          \n",
       "[166] print.summarize_CRAN_check_status*           \n",
       "[167] print.summary.aov*                           \n",
       "[168] print.summary.aovlist*                       \n",
       "[169] print.summaryDefault                         \n",
       "[170] print.summary.ecdf*                          \n",
       "[171] print.summary.glm*                           \n",
       "[172] print.summary.lm*                            \n",
       "[173] print.summary.loess*                         \n",
       "[174] print.summary.manova*                        \n",
       "[175] print.summary.nls*                           \n",
       "[176] print.summary.packageStatus*                 \n",
       "[177] print.summary.ppr*                           \n",
       "[178] print.summary.prcomp*                        \n",
       "[179] print.summary.princomp*                      \n",
       "[180] print.summary.table                          \n",
       "[181] print.table                                  \n",
       "[182] print.tables_aov*                            \n",
       "[183] print.terms*                                 \n",
       "[184] print.ts*                                    \n",
       "[185] print.tskernel*                              \n",
       "[186] print.TukeyHSD*                              \n",
       "[187] print.tukeyline*                             \n",
       "[188] print.tukeysmooth*                           \n",
       "[189] print.undoc*                                 \n",
       "[190] print.vignette*                              \n",
       "[191] print.warnings                               \n",
       "[192] print.xgettext*                              \n",
       "[193] print.xngettext*                             \n",
       "[194] print.xtabs*                                 \n",
       "see '?methods' for accessing help and source code"
      ]
     },
     "execution_count": 13,
     "metadata": {},
     "output_type": "execute_result"
    }
   ],
   "source": [
    "methods(\"print\")"
   ]
  },
  {
   "cell_type": "markdown",
   "metadata": {},
   "source": [
    "Los asteriscos denotan funciones no visibles, es decir, que no están en el espacios de nombres. Se puede encontrar estas funciones a través `getAnywhere()` y luego  acceder  mediante el uso de un calificativo espacio de nombres."
   ]
  },
  {
   "cell_type": "markdown",
   "metadata": {},
   "source": [
    "La función **aspell()** es un corrector ortográfico de un archivo dado como argumento. Supongamos que tenemos el siguiente archivo llamado **file1**\n",
    "\n",
    "```\n",
    "Hhi everybody I learnning R.\n",
    "```\n",
    "\n",
    "La función **aspell()** retorna un objeto de clase \"aspell\", que tiene una función genérica `print` llamada `print.aspell()`, que es llamada después de la llamada a **aspell()** y retorna el valor mostrado. En ese momento, R llama a  `UseMethod()` en el objeto de la clase `\"aspell\"` . Pero si llamamos a este método directamente , R no lo reconocerá:"
   ]
  },
  {
   "cell_type": "code",
   "execution_count": 14,
   "metadata": {
    "collapsed": false
   },
   "outputs": [
    {
     "data": {
      "text/html": [
       "<table>\n",
       "<thead><tr><th></th><th scope=col>Original</th><th scope=col>File</th><th scope=col>Line</th><th scope=col>Column</th><th scope=col>Suggestions</th></tr></thead>\n",
       "<tbody>\n",
       "\t<tr><th scope=row>1</th><td>Hhi\n",
       "  file1:1:1</td></tr>\n",
       "\t<tr><th scope=row>2</th><td>learnning\n",
       "  file1:1:17</td></tr>\n",
       "\t<tr><th scope=row>3</th><td>everybody\n",
       "  file1:1:5</td></tr>\n",
       "</tbody>\n",
       "</table>\n"
      ],
      "text/latex": [
       "\\begin{tabular}{r|lllll}\n",
       "  & Original & File & Line & Column & Suggestions\\\\\n",
       "\\hline\n",
       "\t1 & Hhi\n",
       "  file1:1:1\\\\\n",
       "\t2 & learnning\n",
       "  file1:1:17\\\\\n",
       "\t3 & everybody\n",
       "  file1:1:5\\\\\n",
       "\\end{tabular}\n"
      ],
      "text/plain": [
       "everybody\n",
       "  file1:1:5\n",
       "\n",
       "Hhi\n",
       "  file1:1:1\n",
       "\n",
       "learnning\n",
       "  file1:1:17"
      ]
     },
     "execution_count": 14,
     "metadata": {},
     "output_type": "execute_result"
    },
    {
     "ename": "ERROR",
     "evalue": "Error in eval(expr, envir, enclos): no se pudo encontrar la función \"print.aspell\"\n",
     "output_type": "error",
     "traceback": [
      "Error in eval(expr, envir, enclos): no se pudo encontrar la función \"print.aspell\"\n"
     ]
    }
   ],
   "source": [
    "aspell(\"file1\")\n",
    "as<-aspell(\"file1\")\n",
    "print.aspell(as)"
   ]
  },
  {
   "cell_type": "code",
   "execution_count": 15,
   "metadata": {
    "collapsed": false
   },
   "outputs": [
    {
     "data": {
      "text/plain": [
       "A single object matching ‘print.aspell’ was found\n",
       "It was found in the following places\n",
       "  registered S3 method for print from namespace utils\n",
       "  namespace:utils\n",
       "with value\n",
       "\n",
       "function (x, ...) \n",
       "{\n",
       "    if (nrow(x)) \n",
       "        writeLines(paste(format(x, ...), collapse = \"\\n\\n\"))\n",
       "    invisible(x)\n",
       "}\n",
       "<bytecode: 0x93f5040>\n",
       "<environment: namespace:utils>"
      ]
     },
     "execution_count": 15,
     "metadata": {},
     "output_type": "execute_result"
    }
   ],
   "source": [
    "# Pero puede ser encontrado usando la funcion getAnywhere\n",
    "\n",
    "getAnywhere(print.aspell)"
   ]
  },
  {
   "cell_type": "markdown",
   "metadata": {},
   "source": [
    "Así de la información anterior la función se encuentra en  el espacio de nombres y puede ser ejecutado agregando un calificativo"
   ]
  },
  {
   "cell_type": "code",
   "execution_count": 16,
   "metadata": {
    "collapsed": false
   },
   "outputs": [
    {
     "name": "stdout",
     "output_type": "stream",
     "text": [
      "everybody\n",
      "  file1:1:5\n",
      "\n",
      "Hhi\n",
      "  file1:1:1\n",
      "\n",
      "learnning\n",
      "  file1:1:17\n"
     ]
    }
   ],
   "source": [
    "utils:::print.aspell(as)"
   ]
  },
  {
   "cell_type": "markdown",
   "metadata": {},
   "source": [
    "Se puede ver todos los métodos genéricos de la siguiente manera\n",
    "\n"
   ]
  },
  {
   "cell_type": "code",
   "execution_count": 17,
   "metadata": {
    "collapsed": false
   },
   "outputs": [
    {
     "data": {
      "text/plain": [
       "  [1] add1            aggregate       AIC             all.equal      \n",
       "  [5] ansari.test     anyDuplicated   aperm           ar.burg        \n",
       "  [9] ar.yw           as.array        as.character    as.data.frame  \n",
       " [13] as.Date         as.dist         as.expression   as.function    \n",
       " [17] as.hclust       as.list         as.matrix       as.null        \n",
       " [21] as.person       as.personList   as.POSIXct      as.POSIXlt     \n",
       " [25] as.single       as.stepfun      as.table        as.ts          \n",
       " [29] Axis            barplot         bartlett.test   BIC            \n",
       " [33] biplot          boxplot         by              case.names     \n",
       " [37] cdplot          chol            coef            confint        \n",
       " [41] contour         cophenetic      cor.test        cut            \n",
       " [45] cycle           deltat          density         deriv3         \n",
       " [49] deriv           deviance        df.residual     diff           \n",
       " [53] diffinv         drop1           duplicated      edit           \n",
       " [57] end             f2              fitted          fligner.test   \n",
       " [61] format          formula         frequency       friedman.test  \n",
       " [65] ftable          getCall         getInitial      head           \n",
       " [69] hist            identify        image           is.na<-        \n",
       " [73] kappa           kernapply       kruskal.test    labels         \n",
       " [77] lag             levels          lines           makepredictcall\n",
       " [81] mean            median          merge           model.frame    \n",
       " [85] model.matrix    monthplot       mood.test       mosaicplot     \n",
       " [89] na.action       na.contiguous   na.exclude      na.fail        \n",
       " [93] na.omit         napredict       naprint         naresid        \n",
       " [97] nobs            pacf            pairs           persp          \n",
       "[101] plot            points          ppr             prcomp         \n",
       "[105] pretty          princomp        print           proj           \n",
       "[109] prompt          qqnorm          qr              quade.test     \n",
       "[113] quantile        range           relevel         relist         \n",
       "[117] reorder         residuals       rev             row.names<-    \n",
       "[121] row.names       rowsum          scale           screeplot      \n",
       "[125] selfStart       seq             solve           sort           \n",
       "[129] sortedXyData    spineplot       split<-         split          \n",
       "[133] stack           start           str             stripchart     \n",
       "[137] subset          summary         sunflowerplot   tail           \n",
       "[141] t               terms           text            time           \n",
       "[145] toString        transform       t.test          unique         \n",
       "[149] unstack         update          variable.names  var.test       \n",
       "[153] weighted.mean   weights         wilcox.test     window         \n",
       "[157] with            xtfrm          \n",
       "see '?methods' for accessing help and source code"
      ]
     },
     "execution_count": 17,
     "metadata": {},
     "output_type": "execute_result"
    }
   ],
   "source": [
    "methods(class=\"default\")"
   ]
  },
  {
   "cell_type": "code",
   "execution_count": 18,
   "metadata": {
    "collapsed": false
   },
   "outputs": [
    {
     "data": {
      "text/plain": [
       " [1] aggregate     as.data.frame cbind         coerce        cycle        \n",
       " [6] diffinv       diff          initialize    kernapply     lines        \n",
       "[11] Math2         Math          monthplot     na.omit       Ops          \n",
       "[16] plot          print         show          slotsFromS3   time         \n",
       "[21] [<-           [             t             window<-      window       \n",
       "see '?methods' for accessing help and source code"
      ]
     },
     "execution_count": 18,
     "metadata": {},
     "output_type": "execute_result"
    }
   ],
   "source": [
    "methods(class = \"ts\")"
   ]
  },
  {
   "cell_type": "markdown",
   "metadata": {},
   "source": [
    "## Definiendo clases y creando objetos\n",
    "\n",
    "Para hacer un objeto, una instancia de clase, solamente hay que tomar un existente objeto base y establecer \n",
    "el atributo de clase. Se puede hacer con ` structure()` o después con `class <-()`"
   ]
  },
  {
   "cell_type": "code",
   "execution_count": 19,
   "metadata": {
    "collapsed": true
   },
   "outputs": [],
   "source": [
    "f1 <- structure(list(), class = \"f1\")\n",
    "\n",
    "f1 <-list()\n",
    "class(f1)<- \"f1\""
   ]
  },
  {
   "cell_type": "markdown",
   "metadata": {},
   "source": [
    "Los objetos S3 se construyen generalmente en el top de las listas o vectores  con atributos. También se puede activar funciones en objetos S3. \n",
    "\n",
    "Se puede determinar la clase de cualquier objeto utilizando `class(x)` y ver si un objeto hereda de una clase específica utilizando `inherits(x, \"classname\")`."
   ]
  },
  {
   "cell_type": "code",
   "execution_count": 20,
   "metadata": {
    "collapsed": false
   },
   "outputs": [
    {
     "data": {
      "text/html": [
       "'f1'"
      ],
      "text/latex": [
       "'f1'"
      ],
      "text/markdown": [
       "'f1'"
      ],
      "text/plain": [
       "[1] \"f1\""
      ]
     },
     "execution_count": 20,
     "metadata": {},
     "output_type": "execute_result"
    },
    {
     "data": {
      "text/html": [
       "TRUE"
      ],
      "text/latex": [
       "TRUE"
      ],
      "text/markdown": [
       "TRUE"
      ],
      "text/plain": [
       "[1] TRUE"
      ]
     },
     "execution_count": 20,
     "metadata": {},
     "output_type": "execute_result"
    }
   ],
   "source": [
    "class(f1)\n",
    "inherits(f1, \"f1\")"
   ]
  },
  {
   "cell_type": "markdown",
   "metadata": {},
   "source": [
    "La clase de un objeto S3 puede ser un vector, que describe el comportamiento de la información  de lo más  a menos específico. Por ejemplo, la clase del objeto `glm()` es  `c (\"glm\", \"lm\")` que indica que los modelos lineales generalizados heredan el comportamiento de los modelos lineales.  \n",
    "\n",
    "Los nombres de las clases se escriben con letras minúsculas y se puede escribir `my_class` o `Myclas` para nombres de clases con múltiples palabras.\n"
   ]
  },
  {
   "cell_type": "markdown",
   "metadata": {},
   "source": [
    "Muchas clases S3, proporcionan un constructor\n",
    "\n",
    "```\n",
    "f1 <- function(x) {\n",
    "  if (!is.numeric(x)) stop(\"X debe ser numerico\")\n",
    "  structure(list(x), class = \"f1\")\n",
    "}\n",
    "```"
   ]
  },
  {
   "cell_type": "markdown",
   "metadata": {},
   "source": [
    "Debes usar esto  si está disponible (como para `factor()` y `data.frame ()`). Esto asegura que va a crear la clase con los componentes correctos. Las funciones constructoras suelen tener el mismo nombre que la clase.\n",
    "\n",
    "S3 no tiene controles de corrección. Esto significa que se puede cambiar la clase de objetos existentes:"
   ]
  },
  {
   "cell_type": "code",
   "execution_count": 21,
   "metadata": {
    "collapsed": false
   },
   "outputs": [
    {
     "data": {
      "text/html": [
       "'lm'"
      ],
      "text/latex": [
       "'lm'"
      ],
      "text/markdown": [
       "'lm'"
      ],
      "text/plain": [
       "[1] \"lm\""
      ]
     },
     "execution_count": 21,
     "metadata": {},
     "output_type": "execute_result"
    },
    {
     "name": "stdout",
     "output_type": "stream",
     "text": [
      "\n",
      "Call:\n",
      "lm(formula = log(mpg) ~ log(disp), data = mtcars)\n",
      "\n",
      "Coefficients:\n",
      "(Intercept)    log(disp)  \n",
      "     5.3810      -0.4586  \n",
      "\n",
      " [1] coefficients  residuals     effects       rank          fitted.values\n",
      " [6] assign        qr            df.residual   xlevels       call         \n",
      "[11] terms         model        \n",
      "<0 rows> (or 0-length row.names)\n"
     ]
    },
    {
     "data": {
      "text/html": [
       "<dl class=dl-horizontal>\n",
       "\t<dt>(Intercept)</dt>\n",
       "\t\t<dd>5.38097254698803</dd>\n",
       "\t<dt>log(disp)</dt>\n",
       "\t\t<dd>-0.458568308301299</dd>\n",
       "</dl>\n"
      ],
      "text/latex": [
       "\\begin{description*}\n",
       "\\item[(Intercept)] 5.38097254698803\n",
       "\\item[log(disp)] -0.458568308301299\n",
       "\\end{description*}\n"
      ],
      "text/markdown": [
       "(Intercept)\n",
       ":   5.38097254698803log(disp)\n",
       ":   -0.458568308301299\n",
       "\n"
      ],
      "text/plain": [
       "(Intercept)   log(disp) \n",
       "  5.3809725  -0.4585683 "
      ]
     },
     "execution_count": 21,
     "metadata": {},
     "output_type": "execute_result"
    }
   ],
   "source": [
    "# Construyamos un modelo lineal\n",
    "\n",
    "ml <-lm(log(mpg) ~ log(disp), data = mtcars)\n",
    "class(ml)\n",
    "print(ml)\n",
    "class(ml)<- \"data.frame\"\n",
    "print(ml)\n",
    "ml$coefficients"
   ]
  },
  {
   "cell_type": "markdown",
   "metadata": {},
   "source": [
    "## Creando nuevos métodos y funciones genéricas\n",
    "\n",
    "Para agregar un nuevo genérico, crea una función que llama `UseMethod()`. `UseMethod()` toma dos argumentos: el nombre de la función genérica, y el argumento que utiliza para el  **dispatch**. Si se omite el segundo argumento se enviará en el primer argumento de la función. No hay necesidad de pasar cualquiera de los argumentos de la función genérica a `UseMethod()`, ` UseMethod()` puede  encontrarlos por sí mismo."
   ]
  },
  {
   "cell_type": "code",
   "execution_count": 22,
   "metadata": {
    "collapsed": true
   },
   "outputs": [],
   "source": [
    "f2 <- function(x) UseMethod(\"f2\")"
   ]
  },
  {
   "cell_type": "markdown",
   "metadata": {},
   "source": [
    "Una función genérica sin métodos no es muy útil, para agregar un método, solo hay que crear una función con\n",
    "el nombre correcto `(generic.class)`."
   ]
  },
  {
   "cell_type": "code",
   "execution_count": 23,
   "metadata": {
    "collapsed": false
   },
   "outputs": [
    {
     "data": {
      "text/html": [
       "'mili'"
      ],
      "text/latex": [
       "'mili'"
      ],
      "text/markdown": [
       "'mili'"
      ],
      "text/plain": [
       "[1] \"mili\""
      ]
     },
     "execution_count": 23,
     "metadata": {},
     "output_type": "execute_result"
    },
    {
     "data": {
      "text/html": [
       "'Class mili'"
      ],
      "text/latex": [
       "'Class mili'"
      ],
      "text/markdown": [
       "'Class mili'"
      ],
      "text/plain": [
       "[1] \"Class mili\""
      ]
     },
     "execution_count": 23,
     "metadata": {},
     "output_type": "execute_result"
    }
   ],
   "source": [
    "f2.mili <- function(x) \"Class mili\"\n",
    "\n",
    "mili <- structure(list(), class = \"mili\")\n",
    "class(mili)\n",
    "f2(mili)"
   ]
  },
  {
   "cell_type": "markdown",
   "metadata": {},
   "source": [
    "Agregando un método a un existente genérico trabaja de la misma manera"
   ]
  },
  {
   "cell_type": "code",
   "execution_count": 24,
   "metadata": {
    "collapsed": false
   },
   "outputs": [
    {
     "data": {
      "text/html": [
       "'mili'"
      ],
      "text/latex": [
       "'mili'"
      ],
      "text/markdown": [
       "'mili'"
      ],
      "text/plain": [
       "[1] \"mili\""
      ]
     },
     "execution_count": 24,
     "metadata": {},
     "output_type": "execute_result"
    }
   ],
   "source": [
    "mean.mili <- function(x) \"mili\"\n",
    "    mean(mili)"
   ]
  },
  {
   "cell_type": "markdown",
   "metadata": {},
   "source": [
    "Advertencia: Como se puede ver, no hay verificación que  asegura que el método devuelve la clase compatible con el genérico. Todo depende de que te  asegures de que tu  método no viole las expectativas de código existente."
   ]
  },
  {
   "cell_type": "markdown",
   "metadata": {},
   "source": [
    "## Método dispatch en S3"
   ]
  },
  {
   "cell_type": "markdown",
   "metadata": {
    "collapsed": true
   },
   "source": [
    "El método de **dispatch** es simple. `UseMethod()` crea un vector de nombres de funciones como `paste0(\"generic\",\".\", c(class(x), \"default\"))` y y busca cada uno de ellos. La clase \"default\" permite configurar un método para una clase desconocida."
   ]
  },
  {
   "cell_type": "code",
   "execution_count": 25,
   "metadata": {
    "collapsed": false
   },
   "outputs": [
    {
     "data": {
      "text/html": [
       "'Class mili'"
      ],
      "text/latex": [
       "'Class mili'"
      ],
      "text/markdown": [
       "'Class mili'"
      ],
      "text/plain": [
       "[1] \"Class mili\""
      ]
     },
     "execution_count": 25,
     "metadata": {},
     "output_type": "execute_result"
    },
    {
     "data": {
      "text/html": [
       "'Class mili'"
      ],
      "text/latex": [
       "'Class mili'"
      ],
      "text/markdown": [
       "'Class mili'"
      ],
      "text/plain": [
       "[1] \"Class mili\""
      ]
     },
     "execution_count": 25,
     "metadata": {},
     "output_type": "execute_result"
    },
    {
     "data": {
      "text/html": [
       "' class desconocida'"
      ],
      "text/latex": [
       "' class desconocida'"
      ],
      "text/markdown": [
       "' class desconocida'"
      ],
      "text/plain": [
       "[1] \" class desconocida\""
      ]
     },
     "execution_count": 25,
     "metadata": {},
     "output_type": "execute_result"
    }
   ],
   "source": [
    "f2 <- function(x) UseMethod(\"f2\")\n",
    "f2.mili <- function(x) \"Class mili\"\n",
    "f2.default <- function(x) \" class desconocida\"\n",
    "\n",
    "f2(structure(list(), class = \"mili\"))\n",
    "    \n",
    "# No metodos para la clase R, por lo que utiliza el metodo de la clase\n",
    "    \n",
    "f2(structure(list(), class = c(\"R\", \"mili\")))\n",
    "    \n",
    "# Ningún método para la clase cesr, por lo que cae de nuevo a default\n",
    "    \n",
    "f2(structure(list(), class = \"cesar\"))"
   ]
  },
  {
   "cell_type": "markdown",
   "metadata": {
    "collapsed": false
   },
   "source": [
    "```\n",
    "?groupGeneric\n",
    "```"
   ]
  },
  {
   "cell_type": "markdown",
   "metadata": {},
   "source": [
    "El grupo de métodos genéricos suman un poco más de complejidad. Los grupos genéricos  hacen posible la aplicación de métodos para múltiples genéricos con una función. Los cuatro grupos genéricos y las funciones que se incluyen son:\n",
    "\n",
    "```\n",
    "- Math: abs, sign, sqrt, floor, cos, sin, log, exp, …\n",
    "- Ops: +, -, *, /, ^, %%, %/%, &, |, !, ==, !=, <, <=, >=, >\n",
    "- Summary: all, any, sum, prod, min, max, range\n",
    "- complex: Arg, Conj, Im, Mod, Re\n",
    "```\n",
    "\n",
    "y son una técnica relativamente avanzada  y lo más importante a tener en cuenta es  `Math`, `Ops`, `Summary` y `complex` no son funciones reales, sino representan grupos de funciones. Una observación importantes, de esto es que dentro de una función de un grupo genérico, existe una variable especial `.Generic` que proporciona la llamada a la función genérica.\n",
    "\n",
    " "
   ]
  },
  {
   "cell_type": "markdown",
   "metadata": {
    "collapsed": false
   },
   "source": [
    "```\n",
    "?NextMethod\n",
    "```"
   ]
  },
  {
   "cell_type": "markdown",
   "metadata": {},
   "source": [
    "Si se tiene jerarquías de clases complejas a veces es útil  llamar al método \"parent\". Es un poco difícil de definir exactamente lo que esto significa, pero es básicamente el método que se habría llamado si no existiera el método actual. Ver la documentación `?NextMethod` que se muestra en bloque anterior\n",
    "\n",
    "Debido a que los métodos son funciones de R, puede llamar directamente:"
   ]
  },
  {
   "cell_type": "code",
   "execution_count": 26,
   "metadata": {
    "collapsed": false
   },
   "outputs": [
    {
     "data": {
      "text/html": [
       "' class desconocida'"
      ],
      "text/latex": [
       "' class desconocida'"
      ],
      "text/markdown": [
       "' class desconocida'"
      ],
      "text/plain": [
       "[1] \" class desconocida\""
      ]
     },
     "execution_count": 26,
     "metadata": {},
     "output_type": "execute_result"
    },
    {
     "data": {
      "text/html": [
       "'Class mili'"
      ],
      "text/latex": [
       "'Class mili'"
      ],
      "text/markdown": [
       "'Class mili'"
      ],
      "text/plain": [
       "[1] \"Class mili\""
      ]
     },
     "execution_count": 26,
     "metadata": {},
     "output_type": "execute_result"
    }
   ],
   "source": [
    "# No recomendable\n",
    "\n",
    "c <- structure(list(), class = \"c\")\n",
    "\n",
    "# Llamado al metodo correcto:\n",
    "\n",
    "f2.default(c)\n",
    "\n",
    "# Fuerza a R a llamar el metodo equivocado:\n",
    "\n",
    "f2.mili(c)"
   ]
  },
  {
   "cell_type": "markdown",
   "metadata": {},
   "source": [
    "También puede llamar a un  genérico S3 con un objeto no S3. Los genéricos no internos S3 (dispatch) se  enviarán a la **clase implícita** de tipo base. (Genéricos internos no hacen eso por razones de rendimiento.) Las reglas para determinar la clase implícita de un tipo base es algo complejo, pero se muestran en la función a continuación:"
   ]
  },
  {
   "cell_type": "code",
   "execution_count": 27,
   "metadata": {
    "collapsed": false
   },
   "outputs": [
    {
     "data": {
      "text/html": [
       "<ol class=list-inline>\n",
       "\t<li>'matrix'</li>\n",
       "\t<li>'integer'</li>\n",
       "\t<li>'numeric'</li>\n",
       "</ol>\n"
      ],
      "text/latex": [
       "\\begin{enumerate*}\n",
       "\\item 'matrix'\n",
       "\\item 'integer'\n",
       "\\item 'numeric'\n",
       "\\end{enumerate*}\n"
      ],
      "text/markdown": [
       "1. 'matrix'\n",
       "2. 'integer'\n",
       "3. 'numeric'\n",
       "\n",
       "\n"
      ],
      "text/plain": [
       "[1] \"matrix\"  \"integer\" \"numeric\""
      ]
     },
     "execution_count": 27,
     "metadata": {},
     "output_type": "execute_result"
    },
    {
     "data": {
      "text/html": [
       "<ol class=list-inline>\n",
       "\t<li>'array'</li>\n",
       "\t<li>'double'</li>\n",
       "\t<li>'numeric'</li>\n",
       "</ol>\n"
      ],
      "text/latex": [
       "\\begin{enumerate*}\n",
       "\\item 'array'\n",
       "\\item 'double'\n",
       "\\item 'numeric'\n",
       "\\end{enumerate*}\n"
      ],
      "text/markdown": [
       "1. 'array'\n",
       "2. 'double'\n",
       "3. 'numeric'\n",
       "\n",
       "\n"
      ],
      "text/plain": [
       "[1] \"array\"   \"double\"  \"numeric\""
      ]
     },
     "execution_count": 27,
     "metadata": {},
     "output_type": "execute_result"
    }
   ],
   "source": [
    "iclass <- function(x) {\n",
    "  if (is.object(x)) {\n",
    "    stop(\"x no es un tipo primitivo\", call. = FALSE)\n",
    "  }\n",
    "\n",
    "  c(\n",
    "    if (is.matrix(x)) \"matrix\",\n",
    "    if (is.array(x) && !is.matrix(x)) \"array\",\n",
    "    if (is.double(x)) \"double\",\n",
    "    if (is.integer(x)) \"integer\",\n",
    "    mode(x)\n",
    "  )\n",
    "}\n",
    "iclass(matrix(1:5))\n",
    "iclass(array(1.5))"
   ]
  },
  {
   "cell_type": "markdown",
   "metadata": {},
   "source": [
    "## Escribamos una clase S3 como ejemplo\n",
    "\n"
   ]
  },
  {
   "cell_type": "code",
   "execution_count": 28,
   "metadata": {
    "collapsed": false
   },
   "outputs": [
    {
     "data": {
      "text/html": [
       "<dl>\n",
       "\t<dt>$names</dt>\n",
       "\t\t<dd><ol class=list-inline>\n",
       "\t<li>'name'</li>\n",
       "\t<li>'ranking'</li>\n",
       "\t<li>'easy'</li>\n",
       "</ol>\n",
       "</dd>\n",
       "\t<dt>$class</dt>\n",
       "\t\t<dd>'lenguaje'</dd>\n",
       "</dl>\n"
      ],
      "text/latex": [
       "\\begin{description}\n",
       "\\item[\\$names] \\begin{enumerate*}\n",
       "\\item 'name'\n",
       "\\item 'ranking'\n",
       "\\item 'easy'\n",
       "\\end{enumerate*}\n",
       "\n",
       "\\item[\\$class] 'lenguaje'\n",
       "\\end{description}\n"
      ],
      "text/markdown": [
       "$names\n",
       ":   1. 'name'\n",
       "2. 'ranking'\n",
       "3. 'easy'\n",
       "\n",
       "\n",
       "\n",
       "$class\n",
       ":   'lenguaje'\n",
       "\n",
       "\n"
      ],
      "text/plain": [
       "$names\n",
       "[1] \"name\"    \"ranking\" \"easy\"   \n",
       "\n",
       "$class\n",
       "[1] \"lenguaje\"\n"
      ]
     },
     "execution_count": 28,
     "metadata": {},
     "output_type": "execute_result"
    },
    {
     "data": {
      "text/plain": [
       "$name\n",
       "[1] \"R\"\n",
       "\n",
       "$ranking\n",
       "[1] 5\n",
       "\n",
       "$easy\n",
       "[1] TRUE\n",
       "\n",
       "attr(,\"class\")\n",
       "[1] \"lenguaje\""
      ]
     },
     "execution_count": 28,
     "metadata": {},
     "output_type": "execute_result"
    },
    {
     "data": {
      "text/plain": [
       "[1] print\n",
       "see '?methods' for accessing help and source code"
      ]
     },
     "execution_count": 28,
     "metadata": {},
     "output_type": "execute_result"
    },
    {
     "data": {
      "text/plain": [
       "R \n",
       "ranking 5 \n",
       "Facilidad TRUE "
      ]
     },
     "execution_count": 28,
     "metadata": {},
     "output_type": "execute_result"
    },
    {
     "data": {
      "text/plain": [
       "ggplot2 \n",
       "ranking 3 \n",
       "Facilidad TRUE "
      ]
     },
     "execution_count": 28,
     "metadata": {},
     "output_type": "execute_result"
    }
   ],
   "source": [
    "j <-list(name = \"R\", ranking = 5, easy = T)\n",
    "class(j) <- \"lenguaje\"\n",
    "attributes(j)\n",
    "j\n",
    "\n",
    "# Ahora escribamos nuestro propio metodo\n",
    "\n",
    "print.lenguaje <-function(len) {\n",
    "  cat(len$name, \"\\n\")\n",
    "  cat(\"ranking\", len$ranking, \"\\n\")\n",
    "  cat(\"Facilidad\", len$easy, \"\\n\")\n",
    "}\n",
    "\n",
    "# Verificamos nuestro código y usamos un ejemplo de herencia, creando\n",
    "# una clase k\n",
    "\n",
    "methods(, \"lenguaje\")\n",
    "j\n",
    "# Usemos herencia\n",
    "\n",
    "k<- list(name =\"ggplot2\", ranking = 3, easy = T, depende = 4)\n",
    "class(k)<-c(\"paquete\", \"lenguaje\" )\n",
    "k"
   ]
  },
  {
   "cell_type": "markdown",
   "metadata": {
    "collapsed": true
   },
   "source": [
    "# S4\n",
    "\n",
    "S4 funciona de una manera similar a S3, pero añade formalidad y rigor. Los métodos todavía pertenecen a las funciones, y no a las  clases, pero:\n",
    "\n",
    "- Las clases tienen definiciones formales que describen sus campos y estructuras de herencia (clases  padres).\n",
    "\n",
    "- El método dispatch  puede basarse en múltiples argumentos a una función genérica, no sólo a uno.\n",
    "\n",
    "- Hay un operador especial, @, para la extracción de campos de un objeto S4.\n",
    "\n",
    "Todo el código relacionado S4 se almacena en el paquete `methods`.  Este paquete está siempre disponible cuando se está ejecutando R de manera interactiva, pero puede que no estén disponibles cuando se ejecuta R en [modo batch](http://blog.revolutionanalytics.com/2009/06/batch-mode-in-r-a-primer.html).\n",
    "\n",
    "Por esta razón, es una buena idea incluir `library(methods)` siempre que estés usando S4."
   ]
  },
  {
   "cell_type": "markdown",
   "metadata": {},
   "source": [
    "## Reconociendo objetos, funciones genéricas y métodos\n",
    "\n",
    "Reconocer objetos S4, genéricos y métodos es simple. Puedes identificar un objeto S4 debido a que `str()` lo describe como una clase \"formal\", `isS4()` devuelve TRUE, y `pryr::otype()` devuelve \"S4\".\n",
    "Las funciones genéricas y los métodos S4 también son fáciles de identificar porque son objetos S4 con clases bien definidas.\n",
    "\n",
    "No hay clases S4 en los paquetes básicos de uso común (estadísticas, gráficos, utilidades, base), por lo que para  empezar por la creación de un objeto S4 de la incorporada en el paquete `stats4`, que proporciona algunas clases S4 y métodos asociados con la estimación de máxima verosimilitud:"
   ]
  },
  {
   "cell_type": "code",
   "execution_count": 29,
   "metadata": {
    "collapsed": false
   },
   "outputs": [
    {
     "data": {
      "text/html": [
       "TRUE"
      ],
      "text/latex": [
       "TRUE"
      ],
      "text/markdown": [
       "TRUE"
      ],
      "text/plain": [
       "[1] TRUE"
      ]
     },
     "execution_count": 29,
     "metadata": {},
     "output_type": "execute_result"
    },
    {
     "data": {
      "text/html": [
       "'S4'"
      ],
      "text/latex": [
       "'S4'"
      ],
      "text/markdown": [
       "'S4'"
      ],
      "text/plain": [
       "[1] \"S4\""
      ]
     },
     "execution_count": 29,
     "metadata": {},
     "output_type": "execute_result"
    },
    {
     "data": {
      "text/html": [
       "TRUE"
      ],
      "text/latex": [
       "TRUE"
      ],
      "text/markdown": [
       "TRUE"
      ],
      "text/plain": [
       "[1] TRUE"
      ]
     },
     "execution_count": 29,
     "metadata": {},
     "output_type": "execute_result"
    },
    {
     "data": {
      "text/html": [
       "<ol class=list-inline>\n",
       "\t<li>'s4'</li>\n",
       "\t<li>'generic'</li>\n",
       "</ol>\n"
      ],
      "text/latex": [
       "\\begin{enumerate*}\n",
       "\\item 's4'\n",
       "\\item 'generic'\n",
       "\\end{enumerate*}\n"
      ],
      "text/markdown": [
       "1. 's4'\n",
       "2. 'generic'\n",
       "\n",
       "\n"
      ],
      "text/plain": [
       "[1] \"s4\"      \"generic\""
      ]
     },
     "execution_count": 29,
     "metadata": {},
     "output_type": "execute_result"
    },
    {
     "data": {
      "text/html": [
       "TRUE"
      ],
      "text/latex": [
       "TRUE"
      ],
      "text/markdown": [
       "TRUE"
      ],
      "text/plain": [
       "[1] TRUE"
      ]
     },
     "execution_count": 29,
     "metadata": {},
     "output_type": "execute_result"
    },
    {
     "data": {
      "text/html": [
       "<ol class=list-inline>\n",
       "\t<li>'s4'</li>\n",
       "\t<li>'method'</li>\n",
       "</ol>\n"
      ],
      "text/latex": [
       "\\begin{enumerate*}\n",
       "\\item 's4'\n",
       "\\item 'method'\n",
       "\\end{enumerate*}\n"
      ],
      "text/markdown": [
       "1. 's4'\n",
       "2. 'method'\n",
       "\n",
       "\n"
      ],
      "text/plain": [
       "[1] \"s4\"     \"method\""
      ]
     },
     "execution_count": 29,
     "metadata": {},
     "output_type": "execute_result"
    }
   ],
   "source": [
    "library(stats4)\n",
    "\n",
    "y <- c(26, 17, 13, 12, 20, 5, 9, 8, 5, 4, 8)\n",
    "nLL <- function(lambda) - sum(dpois(y, lambda, log = TRUE))\n",
    "fit <- mle(nLL, start = list(lambda = 5), nobs = length(y))\n",
    "\n",
    "# Un objeto S4 \n",
    "    \n",
    "isS4(fit)\n",
    "otype(fit)\n",
    "\n",
    "\n",
    "# Una funcion generica S4\n",
    "    \n",
    "isS4(nobs)\n",
    "ftype(nobs)\n",
    "\n",
    "# Recupera  un metodos S4, descrito despues\n",
    "    \n",
    "mle_nobs <- method_from_call(nobs(fit))\n",
    "isS4(mle_nobs)\n",
    "ftype(mle_nobs)\n"
   ]
  },
  {
   "cell_type": "markdown",
   "metadata": {},
   "source": [
    "Importante: Usa `is()` con un argumento para enumerar todas las clases que un objeto hereda. Usa `is()` con dos argumentos para probar si un objeto hereda de una clase específica."
   ]
  },
  {
   "cell_type": "code",
   "execution_count": 30,
   "metadata": {
    "collapsed": false
   },
   "outputs": [
    {
     "data": {
      "text/html": [
       "'mle'"
      ],
      "text/latex": [
       "'mle'"
      ],
      "text/markdown": [
       "'mle'"
      ],
      "text/plain": [
       "[1] \"mle\""
      ]
     },
     "execution_count": 30,
     "metadata": {},
     "output_type": "execute_result"
    },
    {
     "data": {
      "text/html": [
       "TRUE"
      ],
      "text/latex": [
       "TRUE"
      ],
      "text/markdown": [
       "TRUE"
      ],
      "text/plain": [
       "[1] TRUE"
      ]
     },
     "execution_count": 30,
     "metadata": {},
     "output_type": "execute_result"
    }
   ],
   "source": [
    "is(fit)\n",
    "is(fit, \"mle\")"
   ]
  },
  {
   "cell_type": "markdown",
   "metadata": {},
   "source": [
    "Toda la lista de funciones  genéricas S4 se pueden hallar con `getGenerics()`, y una lista de todas las clases S4 con `getClasses()`.  Se pueden enumerar todos los métodos S4 con `showMethods()`, opcionalmente restringiendo  la selección ya sea  por `generic` o por `class` (o ambos). También es una buena idea escribir `where=search()` para restringir la búsqueda a métodos disponibles en el entorno global."
   ]
  },
  {
   "cell_type": "markdown",
   "metadata": {},
   "source": [
    "## Definiendo clases y creando objetos.\n",
    "\n",
    "S4 se debe define la representación de una clase con `setClass ()`  y se crea un nuevo objeto con `new()`. Se puede encontrar la documentación para una clase con una sintaxis especial: `clase?className`, por ejemplo, `class?mle`.\n",
    "\n"
   ]
  },
  {
   "cell_type": "markdown",
   "metadata": {
    "collapsed": false
   },
   "source": [
    "```\n",
    "class?mle\n",
    "\n",
    "```"
   ]
  },
  {
   "cell_type": "markdown",
   "metadata": {},
   "source": [
    "Una clase S4 tiene tres propiedades fundamentales:\n",
    "\n",
    "- Un nombre (name): un identificador  alfanumérico. Por convención, los nombres de las clase S4 utilizan `UpperCamelCase`.\n",
    " \n",
    "- Una lista con nombre **slots**(campos), que definen los  nombres de las campos y clases permitidas. Por ejemplo, una clase de persona puede ser representado por un nombre y una edad numérica: `list(name = \"character\", edad = \"numéric\")`.\n",
    "\n",
    "- Una cadena que la clase hereda o, en términos de S4, **contain**. Puedes proporcionar múltiples clases de herencia múltiple, pero esto es una técnica avanzada que añade mucha complejidad.\n",
    "\n",
    "En `slots` y `contien` se puede  utilizar las clases S4, las clases S3 están registradas en `setOldClass()`, o la clase implícita de un tipo base. En `slots` también se puede utilizar la clase especial `ANY` que no restringe la entrada.\n",
    "\n",
    "Las clases S4 tienen otras propiedades opcionales como un método `validity` que pone a prueba si un objeto es válido, y un objeto `prototype` que define los valores de los **slots** por defecto. \n",
    "\n"
   ]
  },
  {
   "cell_type": "markdown",
   "metadata": {
    "collapsed": false
   },
   "source": [
    "```\n",
    "?setClass\n",
    "```"
   ]
  },
  {
   "cell_type": "markdown",
   "metadata": {},
   "source": [
    "## Ejemplo\n",
    "\n",
    "El ejemplo siguiente crea una clase `Persona` con campos  `nombre` y `edad`, y una clase de `Empleados` que hereda de `Persona`. La clase `Empleados` hereda las slots y los métodos de  `Persona`, y añade un slot adicional, `jefe`. \n",
    "Para crear objetos q llamamos `new()` con el nombre de la clase, y los pares de nombre y valor de los valores del slots."
   ]
  },
  {
   "cell_type": "code",
   "execution_count": 31,
   "metadata": {
    "collapsed": false
   },
   "outputs": [],
   "source": [
    "setClass(\"Persona\",\n",
    "  slots = list(nombre = \"character\", edad = \"numeric\"))\n",
    "setClass(\"Empleados\",\n",
    "  slots = list(jefe = \"Persona\"),\n",
    "  contains = \"Persona\")\n",
    "\n",
    "mili <- new(\"Persona\", nombre = \"Mili\", edad= 27)\n",
    "cesar <- new(\"Empleados\", nombre = \"Cesar\", edad = 31, jefe = mili)"
   ]
  },
  {
   "cell_type": "markdown",
   "metadata": {},
   "source": [
    "La mayoría de las clases S4 también vienen con un constructor con el mismo nombre que la clase: si este existe, se utiliza en lugar de llamar a `new()`.\n",
    "\n",
    "Para acceder a los slots de un  objeto S4 usamos `@` o `slot()`:\n",
    "\n",
    "!!! `@` es equivalente a `$` y `slot()` a `[[`."
   ]
  },
  {
   "cell_type": "code",
   "execution_count": 32,
   "metadata": {
    "collapsed": false
   },
   "outputs": [
    {
     "data": {
      "text/html": [
       "27"
      ],
      "text/latex": [
       "27"
      ],
      "text/markdown": [
       "27"
      ],
      "text/plain": [
       "[1] 27"
      ]
     },
     "execution_count": 32,
     "metadata": {},
     "output_type": "execute_result"
    },
    {
     "data": {
      "text/plain": [
       "An object of class \"Persona\"\n",
       "Slot \"nombre\":\n",
       "[1] \"Mili\"\n",
       "\n",
       "Slot \"edad\":\n",
       "[1] 27\n"
      ]
     },
     "execution_count": 32,
     "metadata": {},
     "output_type": "execute_result"
    }
   ],
   "source": [
    "mili@edad\n",
    "slot(cesar, \"jefe\")"
   ]
  },
  {
   "cell_type": "markdown",
   "metadata": {},
   "source": [
    "Si un objeto S4 contiene (hereda de) una clase S3 o un tipo base, tendrá un slot especial `.Data` que contiene el tipo base subyacente o el objeto S3:"
   ]
  },
  {
   "cell_type": "code",
   "execution_count": 33,
   "metadata": {
    "collapsed": false
   },
   "outputs": [
    {
     "data": {
      "text/html": [
       "1"
      ],
      "text/latex": [
       "1"
      ],
      "text/markdown": [
       "1"
      ],
      "text/plain": [
       "[1] 1"
      ]
     },
     "execution_count": 33,
     "metadata": {},
     "output_type": "execute_result"
    },
    {
     "data": {
      "text/html": [
       "<ol class=list-inline>\n",
       "\t<li>1</li>\n",
       "\t<li>2</li>\n",
       "\t<li>3</li>\n",
       "\t<li>4</li>\n",
       "\t<li>5</li>\n",
       "\t<li>6</li>\n",
       "\t<li>7</li>\n",
       "\t<li>8</li>\n",
       "\t<li>9</li>\n",
       "\t<li>10</li>\n",
       "</ol>\n"
      ],
      "text/latex": [
       "\\begin{enumerate*}\n",
       "\\item 1\n",
       "\\item 2\n",
       "\\item 3\n",
       "\\item 4\n",
       "\\item 5\n",
       "\\item 6\n",
       "\\item 7\n",
       "\\item 8\n",
       "\\item 9\n",
       "\\item 10\n",
       "\\end{enumerate*}\n"
      ],
      "text/markdown": [
       "1. 1\n",
       "2. 2\n",
       "3. 3\n",
       "4. 4\n",
       "5. 5\n",
       "6. 6\n",
       "7. 7\n",
       "8. 8\n",
       "9. 9\n",
       "10. 10\n",
       "\n",
       "\n"
      ],
      "text/plain": [
       " [1]  1  2  3  4  5  6  7  8  9 10"
      ]
     },
     "execution_count": 33,
     "metadata": {},
     "output_type": "execute_result"
    }
   ],
   "source": [
    "setClass(\"RangedNumeric\",\n",
    "  contains = \"numeric\",\n",
    "  slots = list(min = \"numeric\", max = \"numeric\"))\n",
    "rn <- new(\"RangedNumeric\", 1:10, min = 1, max = 10)\n",
    "rn@min\n",
    "rn@.Data"
   ]
  },
  {
   "cell_type": "markdown",
   "metadata": {},
   "source": [
    "Puesto que R es un lenguaje de programación interactiva, es posible crear nuevas clases o redefinir las clases existentes en cualquier momento. Esto puede ser un problema cuando se quiera experimentar con S4. Si modifica una clase, asegúrate de que también vuelve a crear objetos de esa clase, de lo contrario va a terminar con objetos no válidos."
   ]
  },
  {
   "cell_type": "markdown",
   "metadata": {},
   "source": [
    "## Creando nuevos métodos y funciones genéricas\n",
    "\n",
    "S4 ofrece funciones especiales para la creación de nuevas funciones genéricas y métodos. `setGeneric()` crea un nuevo genérico o convierte una función existente en un genérico.\n",
    "`setMethod()` toma el nombre del genérico, la clases que deben estar asociadas al método  y una función que implementa el método. Por ejemplo, podríamos tomar `unión()`, que por lo general sólo funciona en vectores, y hacer que funcione con data frames :"
   ]
  },
  {
   "cell_type": "code",
   "execution_count": 34,
   "metadata": {
    "collapsed": false
   },
   "outputs": [
    {
     "data": {
      "text/html": [
       "'union'"
      ],
      "text/latex": [
       "'union'"
      ],
      "text/markdown": [
       "'union'"
      ],
      "text/plain": [
       "[1] \"union\""
      ]
     },
     "execution_count": 34,
     "metadata": {},
     "output_type": "execute_result"
    },
    {
     "data": {
      "text/html": [
       "'union'"
      ],
      "text/latex": [
       "'union'"
      ],
      "text/markdown": [
       "'union'"
      ],
      "text/plain": [
       "[1] \"union\""
      ]
     },
     "execution_count": 34,
     "metadata": {},
     "output_type": "execute_result"
    }
   ],
   "source": [
    "setGeneric(\"union\")\n",
    "setMethod(\"union\",\n",
    "  c(x = \"data.frame\", y = \"data.frame\"),\n",
    "  function(x, y) {\n",
    "    unique(rbind(x, y))\n",
    "  }\n",
    ")"
   ]
  },
  {
   "cell_type": "markdown",
   "metadata": {},
   "source": [
    "Si crea una nueva función genérica a partir de cero, es necesario suministrar una función que llama a `standardGeneric()`, que es la versión S4 de `UseMethod`."
   ]
  },
  {
   "cell_type": "code",
   "execution_count": 35,
   "metadata": {
    "collapsed": false
   },
   "outputs": [
    {
     "data": {
      "text/html": [
       "'fg'"
      ],
      "text/latex": [
       "'fg'"
      ],
      "text/markdown": [
       "'fg'"
      ],
      "text/plain": [
       "[1] \"fg\""
      ]
     },
     "execution_count": 35,
     "metadata": {},
     "output_type": "execute_result"
    }
   ],
   "source": [
    "setGeneric(\"fg\", function(x) {\n",
    "  standardGeneric(\"fg\")\n",
    "})"
   ]
  },
  {
   "cell_type": "markdown",
   "metadata": {},
   "source": [
    "## Método dispatch\n",
    "\n",
    "Si un genéricos S4 envia en una sola clase con una sola superclase, entonces el método de envio S4 es el mismo de S3 . La principal diferencia es la forma de configurar los valores predeterminados: S4 utiliza la clase especial `ANY` para adaptarse a cualquier clase y objetos \"missing\" para que coincidan con  argumentos faltantes.\n",
    "Como S3, S4 también tiene grupos genéricos, documentados en `?S4groupGeneric` y una manera de llamar a otros métodos, `callNextMethod()`.\n",
    "\n",
    "El método dispaych es  mucho más complicado si se envia en varios argumentos, o si sus clases utiliza herencia múltiple. Las reglas se describen en `?Methods` , pero son complicadas y es difícil predecir qué método será llamado. Por esta razón, se recomienda  evitar la herencia múltiple y dispatches múltiples a menos que sea absolutamente necesario.\n",
    "\n",
    "Por último, hay dos métodos que encuentran el método que se llama dada la especificación de una llamada genérica:"
   ]
  },
  {
   "cell_type": "markdown",
   "metadata": {},
   "source": [
    "```\n",
    "# Desde methods: toma nombres de clase y nombre de genericos\n",
    "selectMethod(\"nobs\", list(\"mle\"))\n",
    "\n",
    "# Desde pryr: toma una llamada de funcion no evaluada\n",
    "method_from_call(nobs(fit))\n",
    "```"
   ]
  },
  {
   "cell_type": "markdown",
   "metadata": {},
   "source": [
    "# RC\n",
    "\n",
    "Clases de referencia (o RC para abreviar) son el sistema más nuevo de Programación Orientado a Objetos  en R.  Ellos son fundamentalmente diferentes a S3 y S4 porque:\n",
    "\n",
    "- Los métodos RC pertenecen a los  objetos, no funciones.\n",
    "\n",
    "- Los objetos RC son mutables.\n",
    "\n",
    "Estas propiedades hacen que los objetos de RC se comportan más como objetos de otros lenguajes de programación, como Python, Ruby, Java y C#. Las clases de referencia se implementan utilizando código R y  son una clase S4 especial que hace un wraps alrededor de un entorno."
   ]
  },
  {
   "cell_type": "markdown",
   "metadata": {},
   "source": [
    "## Definiendo clases y creando objetos\n",
    "\n",
    "Puesto que no hay ninguna clase de referencia dado por los paquetes base de R, vamos a empezar por crear uno. Las clases RC son las más utilizadas para describir objetos con estado, objetos que cambian con el tiempo, así que vamos a crear una clase simple para modelar una cuenta bancaria.\n",
    "\n",
    "La creación de una nueva clase RC es similar a la creación de una nueva clase S4, pero se utilice `setRefClass()` en lugar de `setClass()`. La primera, sólo requiere un argumento uno alfanumérico **name**.\n",
    "Si bien se puede utilizar `new()` para crear nuevos objetos de RC, es un buen estilo  usar el objeto devuelto por `setRefClass()` para generar nuevos objetos. (También se  puede hacer eso con clases S4, pero es menos común)."
   ]
  },
  {
   "cell_type": "markdown",
   "metadata": {
    "collapsed": false
   },
   "source": [
    "```\n",
    "?setRefClass\n",
    "```"
   ]
  },
  {
   "cell_type": "code",
   "execution_count": 36,
   "metadata": {
    "collapsed": false
   },
   "outputs": [
    {
     "data": {
      "text/plain": [
       "Reference class object of class \"Cuenta\""
      ]
     },
     "execution_count": 36,
     "metadata": {},
     "output_type": "execute_result"
    }
   ],
   "source": [
    "Cuenta <- setRefClass(\"Cuenta\")\n",
    "Cuenta$new()"
   ]
  },
  {
   "cell_type": "code",
   "execution_count": 37,
   "metadata": {
    "collapsed": false
   },
   "outputs": [
    {
     "data": {
      "text/html": [
       "100"
      ],
      "text/latex": [
       "100"
      ],
      "text/markdown": [
       "100"
      ],
      "text/plain": [
       "[1] 100"
      ]
     },
     "execution_count": 37,
     "metadata": {},
     "output_type": "execute_result"
    },
    {
     "data": {
      "text/html": [
       "200"
      ],
      "text/latex": [
       "200"
      ],
      "text/markdown": [
       "200"
      ],
      "text/plain": [
       "[1] 200"
      ]
     },
     "execution_count": 37,
     "metadata": {},
     "output_type": "execute_result"
    },
    {
     "data": {
      "text/html": [
       "200"
      ],
      "text/latex": [
       "200"
      ],
      "text/markdown": [
       "200"
      ],
      "text/plain": [
       "[1] 200"
      ]
     },
     "execution_count": 37,
     "metadata": {},
     "output_type": "execute_result"
    },
    {
     "data": {
      "text/html": [
       "0"
      ],
      "text/latex": [
       "0"
      ],
      "text/markdown": [
       "0"
      ],
      "text/plain": [
       "[1] 0"
      ]
     },
     "execution_count": 37,
     "metadata": {},
     "output_type": "execute_result"
    },
    {
     "data": {
      "text/html": [
       "0"
      ],
      "text/latex": [
       "0"
      ],
      "text/markdown": [
       "0"
      ],
      "text/plain": [
       "[1] 0"
      ]
     },
     "execution_count": 37,
     "metadata": {},
     "output_type": "execute_result"
    },
    {
     "data": {
      "text/html": [
       "0"
      ],
      "text/latex": [
       "0"
      ],
      "text/markdown": [
       "0"
      ],
      "text/plain": [
       "[1] 0"
      ]
     },
     "execution_count": 37,
     "metadata": {},
     "output_type": "execute_result"
    }
   ],
   "source": [
    "# Adicionalmente setRefClass acepta una lista de clases-nombres definido en la clase fields\n",
    "\n",
    "Cuenta <- setRefClass(\"Cuenta\",\n",
    "                      fields= list(balance = \"numeric\"))\n",
    "\n",
    "a <- Cuenta$new(balance = 100)\n",
    "a$balance\n",
    "\n",
    "a$balance <- 200\n",
    "a$balance\n",
    "\n",
    "\n",
    "# Los objetos RC son mutables: ellos tienen referencias semanticas\n",
    "\n",
    "b <- a\n",
    "b$balance\n",
    "a$balance <- 0\n",
    "b$balance\n",
    "\n",
    "\n",
    "# Es por eso que los objetos RC vienen con un metodo copy() que te permite hacer una copia\n",
    "# del objeto\n",
    "\n",
    "c <- a$copy()\n",
    "c$balance\n",
    "a$balance <- 100\n",
    "c$balance"
   ]
  },
  {
   "cell_type": "markdown",
   "metadata": {},
   "source": [
    "Un objeto no es muy útil sin algún comportamiento definido por **métodos**. Los métodos RC están asociados con una clase y puede modificar sus campos en su lugar. En el siguiente ejemplo,  se accede al valor de los campos con su nombre, y son modificadod con `<< -`."
   ]
  },
  {
   "cell_type": "code",
   "execution_count": 38,
   "metadata": {
    "collapsed": true
   },
   "outputs": [],
   "source": [
    "Cuenta <- setRefClass(\"Cuenta\",\n",
    "  fields = list(balance = \"numeric\"),\n",
    "  methods = list(\n",
    "    retiro = function(x) {\n",
    "      balance <<- balance - x\n",
    "    },\n",
    "    deposito = function(x) {\n",
    "      balance <<- balance + x\n",
    "    }\n",
    "  )\n",
    ")"
   ]
  },
  {
   "cell_type": "markdown",
   "metadata": {},
   "source": [
    "Se puede llamar a un método RC de la misma manera como tu accedias a un campo"
   ]
  },
  {
   "cell_type": "code",
   "execution_count": 39,
   "metadata": {
    "collapsed": false
   },
   "outputs": [
    {
     "data": {
      "text/html": [
       "200"
      ],
      "text/latex": [
       "200"
      ],
      "text/markdown": [
       "200"
      ],
      "text/plain": [
       "[1] 200"
      ]
     },
     "execution_count": 39,
     "metadata": {},
     "output_type": "execute_result"
    }
   ],
   "source": [
    "a <- Cuenta$new(balance = 100)\n",
    "a$deposito(100)\n",
    "a$balance"
   ]
  },
  {
   "cell_type": "markdown",
   "metadata": {},
   "source": [
    "El argumento importante  a `setRefClass()` es `contains`.  El siguiente ejemplo crea un nuevo tipo de cuenta bancaria que devuelve un error que impide el balance  de ir por debajo de 0."
   ]
  },
  {
   "cell_type": "code",
   "execution_count": 40,
   "metadata": {
    "collapsed": false
   },
   "outputs": [
    {
     "data": {
      "text/html": [
       "150"
      ],
      "text/latex": [
       "150"
      ],
      "text/markdown": [
       "150"
      ],
      "text/plain": [
       "[1] 150"
      ]
     },
     "execution_count": 40,
     "metadata": {},
     "output_type": "execute_result"
    },
    {
     "ename": "ERROR",
     "evalue": "Error in cuentaCesar$retiro(200): No hay dinero\n",
     "output_type": "error",
     "traceback": [
      "Error in cuentaCesar$retiro(200): No hay dinero\n"
     ]
    }
   ],
   "source": [
    "NoGiro <- setRefClass(\"NoGiro\",\n",
    "  contains = \"Cuenta\",\n",
    "  methods = list(\n",
    "    retiro = function(x) {\n",
    "      if (balance < x) stop(\"No hay dinero\")\n",
    "      balance <<- balance - x\n",
    "    }\n",
    "  )\n",
    ")\n",
    "cuentaCesar <- NoGiro$new(balance = 100)\n",
    "cuentaCesar$deposito(50)\n",
    "cuentaCesar$balance\n",
    "cuentaCesar$retiro(200)"
   ]
  },
  {
   "cell_type": "markdown",
   "metadata": {},
   "source": [
    "Todas las clases de referencia heredan de `envRefClass` que proporciona métodos útiles, como `copy()`, `callSuper()`, `field()` (para obtener el valor de un campo dado su nombre), `export()` (equivalente a `as()`) y `show()` ( para controlar la impresión)."
   ]
  },
  {
   "cell_type": "markdown",
   "metadata": {},
   "source": [
    "## Reconociendo Objetos y métodos\n",
    "\n",
    "Se puede reconocer objetos RC porque son objetos S4 `(isS4(x))` que heredan de `\"refClass\" (is(x, \"refClass\")).pryr::otype()` que  devolverá `\"RC\"`. Los  métodos RC son también objetos S4, con clase `refMethodDef`."
   ]
  },
  {
   "cell_type": "markdown",
   "metadata": {},
   "source": [
    "## Método dispatch\n",
    "\n",
    "El método dispatch es muy simple en RC porque los métodos están asociados con clases y  no  con funciones. Cuando tu  llames  `x$f()`, R buscará un método f en la clase de x, entonces en su padre, entonces en el padre de su padre, y así sucesivamente. Desde dentro de un método, se puede llamar al método padre directamente con `callSuper(...)`."
   ]
  },
  {
   "cell_type": "markdown",
   "metadata": {
    "collapsed": true
   },
   "source": [
    "## Manejando tus objetos\n",
    "\n",
    "### Listando tus objetos con `ls()`\n",
    "\n",
    "El comando `ls()` te permite listar todos los actuales objetos. Un argumento útil es `pattern` que nos permite encontrar nombres de una cadena ingresa como valor en el argumento."
   ]
  },
  {
   "cell_type": "markdown",
   "metadata": {
    "collapsed": false
   },
   "source": [
    "```\n",
    "help(ls)\n",
    "ls()\n",
    "```"
   ]
  },
  {
   "cell_type": "code",
   "execution_count": 41,
   "metadata": {
    "collapsed": false
   },
   "outputs": [
    {
     "data": {
      "text/html": [
       "<ol class=list-inline>\n",
       "\t<li>'f2.mili'</li>\n",
       "\t<li>'mean.mili'</li>\n",
       "\t<li>'mili'</li>\n",
       "</ol>\n"
      ],
      "text/latex": [
       "\\begin{enumerate*}\n",
       "\\item 'f2.mili'\n",
       "\\item 'mean.mili'\n",
       "\\item 'mili'\n",
       "\\end{enumerate*}\n"
      ],
      "text/markdown": [
       "1. 'f2.mili'\n",
       "2. 'mean.mili'\n",
       "3. 'mili'\n",
       "\n",
       "\n"
      ],
      "text/plain": [
       "[1] \"f2.mili\"   \"mean.mili\" \"mili\"     "
      ]
     },
     "execution_count": 41,
     "metadata": {},
     "output_type": "execute_result"
    }
   ],
   "source": [
    "ls(pattern =\"mili\")"
   ]
  },
  {
   "cell_type": "markdown",
   "metadata": {},
   "source": [
    "### Guardando una colección de objetos con `save()` y recuperarlos con `load()` "
   ]
  },
  {
   "cell_type": "markdown",
   "metadata": {},
   "source": [
    "```\n",
    "help(save)\n",
    "help(load)\n",
    "```"
   ]
  },
  {
   "cell_type": "code",
   "execution_count": 42,
   "metadata": {
    "collapsed": false
   },
   "outputs": [
    {
     "data": {
      "text/html": [],
      "text/latex": [],
      "text/markdown": [],
      "text/plain": [
       "character(0)"
      ]
     },
     "execution_count": 42,
     "metadata": {},
     "output_type": "execute_result"
    },
    {
     "data": {
      "text/html": [
       "'a'"
      ],
      "text/latex": [
       "'a'"
      ],
      "text/markdown": [
       "'a'"
      ],
      "text/plain": [
       "[1] \"a\""
      ]
     },
     "execution_count": 42,
     "metadata": {},
     "output_type": "execute_result"
    },
    {
     "data": {
      "text/html": [],
      "text/latex": [],
      "text/markdown": [],
      "text/plain": [
       "character(0)"
      ]
     },
     "execution_count": 42,
     "metadata": {},
     "output_type": "execute_result"
    },
    {
     "data": {
      "text/html": [
       "'a'"
      ],
      "text/latex": [
       "'a'"
      ],
      "text/markdown": [
       "'a'"
      ],
      "text/plain": [
       "[1] \"a\""
      ]
     },
     "execution_count": 42,
     "metadata": {},
     "output_type": "execute_result"
    },
    {
     "name": "stdout",
     "output_type": "stream",
     "text": [
      " int [1:10] 1 2 3 4 5 6 7 8 9 10\n"
     ]
    },
    {
     "data": {
      "text/html": [
       "<ol class=list-inline>\n",
       "\t<li>'a'</li>\n",
       "\t<li>'a2'</li>\n",
       "</ol>\n"
      ],
      "text/latex": [
       "\\begin{enumerate*}\n",
       "\\item 'a'\n",
       "\\item 'a2'\n",
       "\\end{enumerate*}\n"
      ],
      "text/markdown": [
       "1. 'a'\n",
       "2. 'a2'\n",
       "\n",
       "\n"
      ],
      "text/plain": [
       "[1] \"a\"  \"a2\""
      ]
     },
     "execution_count": 42,
     "metadata": {},
     "output_type": "execute_result"
    },
    {
     "name": "stdout",
     "output_type": "stream",
     "text": [
      " chr \"a\"\n"
     ]
    }
   ],
   "source": [
    "\n",
    "\n",
    "rm(list = ls())              # Removemos todo del espacio de trabajo\n",
    "ls()                         \n",
    "a <- 1:10                    \n",
    "save(a, file=\"miData.Rdata\") \n",
    "ls()                         \n",
    "\n",
    "rm(a)                        # Removemos  a  del espacio de trabajo\n",
    "ls()                         \n",
    "\n",
    "load(\"miData.Rdata\")         # Cargamos  el archivo \"miData.Rdata\" \n",
    "ls()                         \n",
    "# [1] \"a\"\n",
    "str(a)                       \n",
    "a2 <- load(\"miData.Rdata\")   \n",
    "ls()                        \n",
    "str(a2)   "
   ]
  },
  {
   "cell_type": "markdown",
   "metadata": {},
   "source": [
    "##Ejemplos"
   ]
  },
  {
   "cell_type": "code",
   "execution_count": 43,
   "metadata": {
    "collapsed": false
   },
   "outputs": [
    {
     "data": {
      "text/html": [
       "<ol class=list-inline>\n",
       "\t<li>'a'</li>\n",
       "\t<li>'a2'</li>\n",
       "</ol>\n"
      ],
      "text/latex": [
       "\\begin{enumerate*}\n",
       "\\item 'a'\n",
       "\\item 'a2'\n",
       "\\end{enumerate*}\n"
      ],
      "text/markdown": [
       "1. 'a'\n",
       "2. 'a2'\n",
       "\n",
       "\n"
      ],
      "text/plain": [
       "[1] \"a\"  \"a2\""
      ]
     },
     "execution_count": 43,
     "metadata": {},
     "output_type": "execute_result"
    }
   ],
   "source": [
    "ls()"
   ]
  },
  {
   "cell_type": "code",
   "execution_count": 44,
   "metadata": {
    "collapsed": false
   },
   "outputs": [
    {
     "name": "stdout",
     "output_type": "stream",
     "text": [
      "[1] 0.545 0.325 0.110 0.015 0.005\n",
      "[1] 0.61\n",
      "[1] 0.6109548\n",
      "     k     p           f\n",
      "[1,] 0 0.545 0.543350869\n",
      "[2,] 1 0.325 0.331444030\n",
      "[3,] 2 0.110 0.101090429\n",
      "[4,] 3 0.015 0.020555054\n",
      "[5,] 4 0.005 0.003134646\n"
     ]
    }
   ],
   "source": [
    "source(\"stadistic.R\")"
   ]
  },
  {
   "cell_type": "code",
   "execution_count": 45,
   "metadata": {
    "collapsed": false
   },
   "outputs": [
    {
     "data": {
      "text/html": [
       "<ol class=list-inline>\n",
       "\t<li>'a'</li>\n",
       "\t<li>'a2'</li>\n",
       "\t<li>'f'</li>\n",
       "\t<li>'k'</li>\n",
       "\t<li>'p'</li>\n",
       "\t<li>'r'</li>\n",
       "\t<li>'v'</li>\n",
       "\t<li>'x'</li>\n",
       "</ol>\n"
      ],
      "text/latex": [
       "\\begin{enumerate*}\n",
       "\\item 'a'\n",
       "\\item 'a2'\n",
       "\\item 'f'\n",
       "\\item 'k'\n",
       "\\item 'p'\n",
       "\\item 'r'\n",
       "\\item 'v'\n",
       "\\item 'x'\n",
       "\\end{enumerate*}\n"
      ],
      "text/markdown": [
       "1. 'a'\n",
       "2. 'a2'\n",
       "3. 'f'\n",
       "4. 'k'\n",
       "5. 'p'\n",
       "6. 'r'\n",
       "7. 'v'\n",
       "8. 'x'\n",
       "\n",
       "\n"
      ],
      "text/plain": [
       "[1] \"a\"  \"a2\" \"f\"  \"k\"  \"p\"  \"r\"  \"v\"  \"x\" "
      ]
     },
     "execution_count": 45,
     "metadata": {},
     "output_type": "execute_result"
    }
   ],
   "source": [
    "ls()"
   ]
  },
  {
   "cell_type": "code",
   "execution_count": 46,
   "metadata": {
    "collapsed": false
   },
   "outputs": [
    {
     "data": {
      "text/html": [
       "<ol class=list-inline>\n",
       "\t<li>'a'</li>\n",
       "\t<li>'a2'</li>\n",
       "\t<li>'f'</li>\n",
       "\t<li>'k'</li>\n",
       "\t<li>'p'</li>\n",
       "\t<li>'r'</li>\n",
       "\t<li>'x'</li>\n",
       "</ol>\n"
      ],
      "text/latex": [
       "\\begin{enumerate*}\n",
       "\\item 'a'\n",
       "\\item 'a2'\n",
       "\\item 'f'\n",
       "\\item 'k'\n",
       "\\item 'p'\n",
       "\\item 'r'\n",
       "\\item 'x'\n",
       "\\end{enumerate*}\n"
      ],
      "text/markdown": [
       "1. 'a'\n",
       "2. 'a2'\n",
       "3. 'f'\n",
       "4. 'k'\n",
       "5. 'p'\n",
       "6. 'r'\n",
       "7. 'x'\n",
       "\n",
       "\n"
      ],
      "text/plain": [
       "[1] \"a\"  \"a2\" \"f\"  \"k\"  \"p\"  \"r\"  \"x\" "
      ]
     },
     "execution_count": 46,
     "metadata": {},
     "output_type": "execute_result"
    }
   ],
   "source": [
    "rm(\"v\")\n",
    "ls()"
   ]
  },
  {
   "cell_type": "code",
   "execution_count": 47,
   "metadata": {
    "collapsed": false
   },
   "outputs": [
    {
     "data": {
      "text/html": [
       "<ol class=list-inline>\n",
       "\t<li>'a'</li>\n",
       "\t<li>'a2'</li>\n",
       "\t<li>'k'</li>\n",
       "\t<li>'p'</li>\n",
       "\t<li>'x'</li>\n",
       "</ol>\n"
      ],
      "text/latex": [
       "\\begin{enumerate*}\n",
       "\\item 'a'\n",
       "\\item 'a2'\n",
       "\\item 'k'\n",
       "\\item 'p'\n",
       "\\item 'x'\n",
       "\\end{enumerate*}\n"
      ],
      "text/markdown": [
       "1. 'a'\n",
       "2. 'a2'\n",
       "3. 'k'\n",
       "4. 'p'\n",
       "5. 'x'\n",
       "\n",
       "\n"
      ],
      "text/plain": [
       "[1] \"a\"  \"a2\" \"k\"  \"p\"  \"x\" "
      ]
     },
     "execution_count": 47,
     "metadata": {},
     "output_type": "execute_result"
    }
   ],
   "source": [
    "remove(list=c(\"f\", \"r\"))\n",
    "ls()"
   ]
  },
  {
   "cell_type": "code",
   "execution_count": 48,
   "metadata": {
    "collapsed": true
   },
   "outputs": [],
   "source": [
    "rm(list = ls())"
   ]
  },
  {
   "cell_type": "code",
   "execution_count": null,
   "metadata": {
    "collapsed": true
   },
   "outputs": [],
   "source": []
  }
 ],
 "metadata": {
  "kernelspec": {
   "display_name": "R",
   "language": "R",
   "name": "ir"
  },
  "language_info": {
   "codemirror_mode": "r",
   "file_extension": ".r",
   "mimetype": "text/x-r-source",
   "name": "R",
   "pygments_lexer": "r",
   "version": "3.1.3"
  }
 },
 "nbformat": 4,
 "nbformat_minor": 0
}
