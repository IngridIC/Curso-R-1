{
 "cells": [
  {
   "cell_type": "markdown",
   "metadata": {},
   "source": [
    "# Entrada y Salida en R\n",
    "\n",
    "\n",
    "Todo  trabajo especialmente estadístico o de manejo de información comienza con los datos y la mayoría de los datos se encuentran  en archivos y bases de datos. Tratar con `inputs(entradas)` es, probablemente, el primer paso de todo cualquier  proyecto relacionado con el análisis de datos y que  termina con un reporte dado a quien lo solicite. El formateo y las `outputs(salidas)` es probablemente el punto culminante de todo trabajo relacionado con datos. \n",
    "\n",
    "R presenta una serie de  funciones para la entrada de datos  como `read.csv` para leer archivos CSV y `read.table` para leer complicados datos tabulares, además de  `cat,print y format` para producir informes sencillos.\n",
    "\n",
    "Lecturas\n",
    "\n",
    "-[Importación y Exportación de datos con R](Lhttp://cran.r-project.org/doc/manuals/R-data.pdf). Este manual incluye información sobre la lectura de datos  tales como hojas de cálculo, archivos binarios,sistemas estadísticos y bases de datos relacionales.\n",
    "\n",
    "-[Data Manipulation with R](https://www.packtpub.com/big-data-and-business-intelligence/data-manipulation-r) Excelente libro de Jaynal Abedin, acerca de manipulación de datos usando `plyr` y `sqldf`."
   ]
  },
  {
   "cell_type": "markdown",
   "metadata": {
    "collapsed": true
   },
   "source": [
    "## Ingresando datos desde el teclado y monitor\n",
    "\n",
    "R proporciona varias funciones para acceder al teclado y monitor. Por ejemplo  `scan(), readline(), print()` y `cat()`. Para ingresar pequeños datos ingresamo los datos con la función `c()` o creando un data frame con `data.frame`, usando un editor de R.\n",
    "\n",
    "```\n",
    "df <- data.frame()\n",
    "df <-edit(df)\n",
    "```"
   ]
  },
  {
   "cell_type": "code",
   "execution_count": 31,
   "metadata": {
    "collapsed": false
   },
   "outputs": [
    {
     "data": {
      "text/html": [
       "<ol class=list-inline>\n",
       "\t<li>61</li>\n",
       "\t<li>66</li>\n",
       "\t<li>90</li>\n",
       "\t<li>88</li>\n",
       "\t<li>100</li>\n",
       "</ol>\n"
      ],
      "text/latex": [
       "\\begin{enumerate*}\n",
       "\\item 61\n",
       "\\item 66\n",
       "\\item 90\n",
       "\\item 88\n",
       "\\item 100\n",
       "\\end{enumerate*}\n"
      ],
      "text/markdown": [
       "1. 61\n",
       "2. 66\n",
       "3. 90\n",
       "4. 88\n",
       "5. 100\n",
       "\n",
       "\n"
      ],
      "text/plain": [
       "[1]  61  66  90  88 100"
      ]
     },
     "execution_count": 31,
     "metadata": {},
     "output_type": "execute_result"
    },
    {
     "data": {
      "text/html": [
       "<table>\n",
       "<thead><tr><th></th><th scope=col>PL</th><th scope=col>l1</th><th scope=col>l2</th></tr></thead>\n",
       "<tbody>\n",
       "\t<tr><th scope=row>1</th><td>M</td><td>0</td><td>0.674</td></tr>\n",
       "\t<tr><th scope=row>2</th><td>C</td><td>0.67</td><td>1.64</td></tr>\n",
       "\t<tr><th scope=row>3</th><td>E</td><td>1.64</td><td>2.33</td></tr>\n",
       "</tbody>\n",
       "</table>\n"
      ],
      "text/latex": [
       "\\begin{tabular}{r|lll}\n",
       "  & PL & l1 & l2\\\\\n",
       "\\hline\n",
       "\t1 & M & 0 & 0.674\\\\\n",
       "\t2 & C & 0.67 & 1.64\\\\\n",
       "\t3 & E & 1.64 & 2.33\\\\\n",
       "\\end{tabular}\n"
      ],
      "text/plain": [
       "  PL   l1    l2\n",
       "1  M 0.00 0.674\n",
       "2  C 0.67 1.640\n",
       "3  E 1.64 2.330"
      ]
     },
     "execution_count": 31,
     "metadata": {},
     "output_type": "execute_result"
    }
   ],
   "source": [
    "v1 <- c(61, 66, 90, 88, 100)\n",
    "df <- data.frame(\n",
    "                 PL=c(\"M\", \"C\", \"E\"),\n",
    "                 l1=c(    0, 0.67,   1.64),\n",
    "                 l2=c(0.674, 1.64,   2.33)  )\n",
    "v1\n",
    "df\n"
   ]
  },
  {
   "cell_type": "markdown",
   "metadata": {},
   "source": [
    "```\n",
    "help(print)\n",
    "```"
   ]
  },
  {
   "cell_type": "code",
   "execution_count": 32,
   "metadata": {
    "collapsed": false
   },
   "outputs": [
    {
     "data": {
      "text/html": [
       "3.14159265358979"
      ],
      "text/latex": [
       "3.14159265358979"
      ],
      "text/markdown": [
       "3.14159265358979"
      ],
      "text/plain": [
       "[1] 3.141593"
      ]
     },
     "execution_count": 32,
     "metadata": {},
     "output_type": "execute_result"
    },
    {
     "data": {
      "text/html": [
       "235.619449019234"
      ],
      "text/latex": [
       "235.619449019234"
      ],
      "text/markdown": [
       "235.619449019234"
      ],
      "text/plain": [
       "[1] 235.6194"
      ]
     },
     "execution_count": 32,
     "metadata": {},
     "output_type": "execute_result"
    },
    {
     "name": "stdout",
     "output_type": "stream",
     "text": [
      "[1] 3.142\n",
      "[1] 314.2\n"
     ]
    }
   ],
   "source": [
    "# Para la funcion print(), digits controla el numero de\n",
    "# digitos impresos.\n",
    "\n",
    "\n",
    "pi\n",
    "75 * pi\n",
    "print(pi, digits=4)\n",
    "print(100*pi, digits=4)"
   ]
  },
  {
   "cell_type": "markdown",
   "metadata": {},
   "source": [
    "```\n",
    "help(cat)\n",
    "\n",
    "```"
   ]
  },
  {
   "cell_type": "code",
   "execution_count": 33,
   "metadata": {
    "collapsed": false
   },
   "outputs": [
    {
     "name": "stdout",
     "output_type": "stream",
     "text": [
      "3.141593 \n",
      "3.1416 \n"
     ]
    }
   ],
   "source": [
    "# Cat usa la funcion format(), que tiene el parametro\n",
    "# digitos para alterar el formato de los numeros\n",
    "\n",
    "cat(pi, \"\\n\")\n",
    "cat(format(pi, digits=5),\"\\n\")"
   ]
  },
  {
   "cell_type": "code",
   "execution_count": 34,
   "metadata": {
    "collapsed": false
   },
   "outputs": [
    {
     "name": "stdout",
     "output_type": "stream",
     "text": [
      "incremento del numero!\n"
     ]
    }
   ],
   "source": [
    "# Ejemplos de la función cat()\n",
    "\n",
    "x = 0.1\n",
    "if( x < 0.2)\n",
    "  {\n",
    "     x <- x + 1\n",
    "     cat(\"incremento del numero!\\n\")\n",
    "  }"
   ]
  },
  {
   "cell_type": "code",
   "execution_count": 35,
   "metadata": {
    "collapsed": false
   },
   "outputs": [
    {
     "name": "stdout",
     "output_type": "stream",
     "text": [
      "Yo conozco :  python \n",
      "Yo conozco :  R \n",
      "Yo conozco :  C \n",
      "Yo conozco :  Html5 \n",
      "Yo conozco :  C++ \n",
      "Yo conozco :  JS \n"
     ]
    }
   ],
   "source": [
    "# Otro ejemplo con el bucle for\n",
    "\n",
    "x <- c(\"python\",\"R\",\"C\",\"Html5\",\"C++\", \"JS\")\n",
    "for (len  in x)\n",
    " {\n",
    "    cat(\"Yo conozco : \",len,\"\\n\");\n",
    " }"
   ]
  },
  {
   "cell_type": "code",
   "execution_count": 36,
   "metadata": {
    "collapsed": false
   },
   "outputs": [
    {
     "name": "stdout",
     "output_type": "stream",
     "text": [
      "Probando este valor  2.571231  ( 1  tiempo en el bucle)\n",
      "Probando este valor  2.866555  ( 2  tiempo en el bucle)\n",
      "Probando este valor  1.36832  ( 3  tiempo en el bucle)\n",
      "Probando este valor  5.43966  ( 4  tiempo en el bucle)\n"
     ]
    }
   ],
   "source": [
    "# Con el bucle while\n",
    "\n",
    "mili<- 1;\n",
    "x <- 1\n",
    "while(x < 4)\n",
    " {\n",
    "    x <- rnorm(1,mean=2,sd=3)\n",
    "    cat(\"Probando este valor \",x,\" (\",mili,\" tiempo en el bucle)\\n\");\n",
    "    mili <- mili + 1\n",
    " }"
   ]
  },
  {
   "cell_type": "code",
   "execution_count": 37,
   "metadata": {
    "collapsed": false
   },
   "outputs": [
    {
     "name": "stdout",
     "output_type": "stream",
     "text": [
      "1 2 3 Python 1 2 3 R\n",
      "1\n",
      "2\n",
      "3\n",
      "Python\n",
      "1\n",
      "2\n",
      "3\n",
      "R\n"
     ]
    }
   ],
   "source": [
    "# Otros ejemplos sencillos\n",
    "\n",
    "x <-c(1,2,3)\n",
    "cat(x, \"Python\", x, \"R\\n\")\n",
    "cat (x, \"Python\", x, \"R\", sep=\"\\n\")\n"
   ]
  },
  {
   "cell_type": "code",
   "execution_count": 38,
   "metadata": {
    "collapsed": false
   },
   "outputs": [
    {
     "name": "stdout",
     "output_type": "stream",
     "text": [
      "5.12.13.8\n",
      "88\n"
     ]
    }
   ],
   "source": [
    "#Un ejemplo mas\n",
    "\n",
    "x1<- c(5,12,13,8,88)\n",
    "cat(x1,sep=c(\".\",\".\",\".\",\"\\n\",\"\\n\"))"
   ]
  },
  {
   "cell_type": "markdown",
   "metadata": {},
   "source": [
    "```\n",
    "help(format)\n",
    "```"
   ]
  },
  {
   "cell_type": "code",
   "execution_count": 39,
   "metadata": {
    "collapsed": false
   },
   "outputs": [
    {
     "data": {
      "text/html": [
       "<ol class=list-inline>\n",
       "\t<li>0.00134989803163009</li>\n",
       "\t<li>0.0227501319481792</li>\n",
       "\t<li>0.158655253931457</li>\n",
       "\t<li>0.5</li>\n",
       "\t<li>0.841344746068543</li>\n",
       "\t<li>0.977249868051821</li>\n",
       "\t<li>0.99865010196837</li>\n",
       "</ol>\n"
      ],
      "text/latex": [
       "\\begin{enumerate*}\n",
       "\\item 0.00134989803163009\n",
       "\\item 0.0227501319481792\n",
       "\\item 0.158655253931457\n",
       "\\item 0.5\n",
       "\\item 0.841344746068543\n",
       "\\item 0.977249868051821\n",
       "\\item 0.99865010196837\n",
       "\\end{enumerate*}\n"
      ],
      "text/markdown": [
       "1. 0.00134989803163009\n",
       "2. 0.0227501319481792\n",
       "3. 0.158655253931457\n",
       "4. 0.5\n",
       "5. 0.841344746068543\n",
       "6. 0.977249868051821\n",
       "7. 0.99865010196837\n",
       "\n",
       "\n"
      ],
      "text/plain": [
       "[1] 0.001349898 0.022750132 0.158655254 0.500000000 0.841344746 0.977249868\n",
       "[7] 0.998650102"
      ]
     },
     "execution_count": 39,
     "metadata": {},
     "output_type": "execute_result"
    },
    {
     "name": "stdout",
     "output_type": "stream",
     "text": [
      "[1] 0.00135 0.02275 0.15866 0.50000 0.84134 0.97725 0.99865\n"
     ]
    }
   ],
   "source": [
    "# print y format hacen el formateo de  vectores:\n",
    "\n",
    "pnorm(-3:3)\n",
    "print(pnorm(-3:3), digits=3)"
   ]
  },
  {
   "cell_type": "markdown",
   "metadata": {},
   "source": [
    "Note que `print ` formatea los elementos del vector,  encontrado el número de dígitos necesarios para formatear el número más pequeño y después de formatear todos los números para tener el mismo ancho. Esto es extremadamente útil para formatear una tabla completa:"
   ]
  },
  {
   "cell_type": "code",
   "execution_count": 40,
   "metadata": {
    "collapsed": false
   },
   "outputs": [
    {
     "data": {
      "text/html": [
       "<table>\n",
       "<thead><tr><th></th><th scope=col>Quant</th><th scope=col>Lower</th><th scope=col>Upper</th></tr></thead>\n",
       "<tbody>\n",
       "\t<tr><th scope=row>1</th><td>0</td><td>0.5</td><td>0.5</td></tr>\n",
       "\t<tr><th scope=row>2</th><td>0.5</td><td>0.3085375</td><td>0.6914625</td></tr>\n",
       "\t<tr><th scope=row>3</th><td>1</td><td>0.1586553</td><td>0.8413447</td></tr>\n",
       "\t<tr><th scope=row>4</th><td>1.5</td><td>0.0668072</td><td>0.9331928</td></tr>\n",
       "\t<tr><th scope=row>5</th><td>2</td><td>0.02275013</td><td>0.9772499</td></tr>\n",
       "\t<tr><th scope=row>6</th><td>2.5</td><td>0.006209665</td><td>0.9937903</td></tr>\n",
       "\t<tr><th scope=row>7</th><td>3</td><td>0.001349898</td><td>0.9986501</td></tr>\n",
       "</tbody>\n",
       "</table>\n"
      ],
      "text/latex": [
       "\\begin{tabular}{r|lll}\n",
       "  & Quant & Lower & Upper\\\\\n",
       "\\hline\n",
       "\t1 & 0 & 0.5 & 0.5\\\\\n",
       "\t2 & 0.5 & 0.3085375 & 0.6914625\\\\\n",
       "\t3 & 1 & 0.1586553 & 0.8413447\\\\\n",
       "\t4 & 1.5 & 0.0668072 & 0.9331928\\\\\n",
       "\t5 & 2 & 0.02275013 & 0.9772499\\\\\n",
       "\t6 & 2.5 & 0.006209665 & 0.9937903\\\\\n",
       "\t7 & 3 & 0.001349898 & 0.9986501\\\\\n",
       "\\end{tabular}\n"
      ],
      "text/plain": [
       "  Quant       Lower     Upper\n",
       "1   0.0 0.500000000 0.5000000\n",
       "2   0.5 0.308537539 0.6914625\n",
       "3   1.0 0.158655254 0.8413447\n",
       "4   1.5 0.066807201 0.9331928\n",
       "5   2.0 0.022750132 0.9772499\n",
       "6   2.5 0.006209665 0.9937903\n",
       "7   3.0 0.001349898 0.9986501"
      ]
     },
     "execution_count": 40,
     "metadata": {},
     "output_type": "execute_result"
    },
    {
     "name": "stdout",
     "output_type": "stream",
     "text": [
      "  Quant   Lower Upper\n",
      "1   0.0 0.50000 0.500\n",
      "2   0.5 0.30854 0.691\n",
      "3   1.0 0.15866 0.841\n",
      "4   1.5 0.06681 0.933\n",
      "5   2.0 0.02275 0.977\n",
      "6   2.5 0.00621 0.994\n",
      "7   3.0 0.00135 0.999\n"
     ]
    }
   ],
   "source": [
    "q <- seq(from=0,to=3,by=0.5)\n",
    "tbl <- data.frame(Quant=q, Lower=pnorm(-q), Upper=pnorm(q))\n",
    "tbl\n",
    "\n",
    "print(tbl, digits=3)"
   ]
  },
  {
   "cell_type": "markdown",
   "metadata": {},
   "source": [
    "La función `source` es usada para leer y ejecutar los comandos en la misma secuencia dados en el archivo, que pertenece al directorio actual de trabajo."
   ]
  },
  {
   "cell_type": "markdown",
   "metadata": {},
   "source": [
    "```\n",
    "help(source)\n",
    "getwd()\n",
    "source('fractal.R', verbose=TRUE)\n",
    "#source('fractal.R')  En este caso reproduce el fractal directamente\n",
    "```\n",
    "\n",
    "El código fuente de fractal.R es\n",
    "\n",
    "```\n",
    "# Funcion que dibuja un fractal llamado fern: helecho\n",
    "\n",
    "\n",
    "fern <-function(n = 20000) {\n",
    "        p = c(.85, .92, .99, 1)\n",
    "        A1 = matrix(c(.84, .04, -.04, .85), nc = 2, byrow = TRUE)\n",
    "        A2 = matrix(c(.20, -.26, .23, .22), nc = 2, byrow = TRUE)\n",
    "        A3 = matrix(c(-.15, .28, .26, .24), nc = 2, byrow = TRUE)\n",
    "        A4 = matrix(c(0, 0, 0, .16), nc = 2, byrow = TRUE)\n",
    "        b1 = c(0, 1.6)\n",
    "        b2 = c(0, 1.6)\n",
    "        b3 = c(0, .44)\n",
    "        opar = par(bg = \"black\", mar = c(1, 1, 4, 1))\n",
    "        x = c(.5, .5)\n",
    "        plot.new()\n",
    "        plot.window(xlim = c(-3, 3), ylim = c(0, 10))\n",
    "        title(main = \"Helecho Fractal!\", col.main = \"white\", cex.main = 2)\n",
    "        for(i in 1:20000) {\n",
    "            r = runif(1)\n",
    "            if (r < p[1])\n",
    "                x = A1 %*% x + b1\n",
    "            else if (r < p[2])\n",
    "                x = A2 %*% x + b2\n",
    "            else if (r < p[3])\n",
    "                x = A3 %*% x + b3\n",
    "            else\n",
    "                x = A4 %*% x\n",
    "            points(x[1], x[2], pch = 19, cex = .25, col = \"white\")\n",
    "        }\n",
    "        par(opar)\n",
    "    }\n",
    "\n",
    "fern()\n",
    "```"
   ]
  },
  {
   "cell_type": "code",
   "execution_count": 1,
   "metadata": {
    "collapsed": false
   },
   "outputs": [
    {
     "name": "stdout",
     "output_type": "stream",
     "text": [
      "La media y la desviacion estandar de x es   0.172322 1.064961 \n",
      "El resumen estadistico es \n",
      " -1.497 -0.6646 0.293 0.1723 1.098 1.623 \n",
      "   Min. 1st Qu.  Median    Mean 3rd Qu.    Max. \n",
      "-1.4970 -0.6646  0.2930  0.1723  1.0980  1.6230 \n",
      "\n",
      "> x <- rnorm(10)\n",
      "\n",
      "> mux = mean(x)\n",
      "\n",
      "> cat(\"La media y la desviacion estandar de x es  \", \n",
      "+     mean(x), sd(x), \"\\n\")\n",
      "La media y la desviacion estandar de x es   0.1589997 0.7989521 \n",
      "\n",
      "> summary(x)\n",
      "   Min. 1st Qu.  Median    Mean 3rd Qu.    Max. \n",
      "-1.2620  0.0951  0.2816  0.1590  0.5102  1.2580 \n",
      "\n",
      "> cat(\"El resumen estadistico es \\n\", summary(x), \"\\n\")\n",
      "El resumen estadistico es \n",
      " -1.262 0.0951 0.2816 0.159 0.5102 1.258 \n",
      "\n",
      "> print(summary(x))\n",
      "   Min. 1st Qu.  Median    Mean 3rd Qu.    Max. \n",
      "-1.2620  0.0951  0.2816  0.1590  0.5102  1.2580 \n",
      "La media y la desviacion estandar de x es   0.5360204 1.010758 \n",
      "   Min. 1st Qu.  Median    Mean 3rd Qu.    Max. \n",
      "-1.6440  0.2358  0.5937  0.5360  1.1540  1.8650 \n",
      "El resumen estadistico es \n",
      " -1.644 0.2358 0.5937 0.536 1.154 1.865 \n",
      "   Min. 1st Qu.  Median    Mean 3rd Qu.    Max. \n",
      "-1.6440  0.2358  0.5937  0.5360  1.1540  1.8650 \n",
      "La media y la desviacion estandar de x es   -0.2390191 1.16018 \n",
      "El resumen estadistico es \n",
      " -1.895 -1.069 -0.3615 -0.239 0.2399 1.573 \n",
      "   Min. 1st Qu.  Median    Mean 3rd Qu.    Max. \n",
      "-1.8950 -1.0690 -0.3615 -0.2390  0.2399  1.5730 \n",
      "'envir' chosen:<environment: R_GlobalEnv>\n",
      "encoding = \"native.enc\" chosen\n",
      "--> parsed 6 expressions; now eval(.)ing them:\n",
      "\n",
      ">>>> eval(expression_nr. 1 )\n",
      "\t\t =================\n",
      "\n",
      "> x <- rnorm(10)\n",
      "curr.fun: symbol <-\n",
      " .. after 'expression(x <- rnorm(10))'\n",
      "\n",
      ">>>> eval(expression_nr. 2 )\n",
      "\t\t =================\n",
      "\n",
      "> mux = mean(x)\n",
      "curr.fun: symbol =\n",
      " .. after 'expression(mux = mean(x))'\n",
      "\n",
      ">>>> eval(expression_nr. 3 )\n",
      "\t\t =================\n",
      "\n",
      "> cat(\"La media y la desviacion estandar de x es  \", \n",
      "+     mean(x), sd(x), \"\\n\")\n",
      "La media y la desviacion estandar de x es   -0.09092539 0.881556 \n",
      "curr.fun: symbol cat\n",
      " .. after 'expression(cat(\"La media y la desviacion estandar de x es  \", ''    mean(x), sd(x), \"\\n\"))'\n",
      "\n",
      ">>>> eval(expression_nr. 4 )\n",
      "\t\t =================\n",
      "\n",
      "> summary(x)\n",
      "curr.fun: symbol summary\n",
      "    Min.  1st Qu.   Median     Mean  3rd Qu.     Max. \n",
      "-1.69800 -0.59630  0.10090 -0.09093  0.49790  0.94870 \n",
      " .. after 'expression(summary(x))'\n",
      "\n",
      ">>>> eval(expression_nr. 5 )\n",
      "\t\t =================\n",
      "\n",
      "> cat(\"El resumen estadistico es \\n\", summary(x), \"\\n\")\n",
      "El resumen estadistico es \n",
      " -1.698 -0.5963 0.1009 -0.09093 0.4979 0.9487 \n",
      "curr.fun: symbol cat\n",
      " .. after 'expression(cat(\"El resumen estadistico es \\n\", summary(x), \"\\n\"))'\n",
      "\n",
      ">>>> eval(expression_nr. 6 )\n",
      "\t\t =================\n",
      "\n",
      "> print(summary(x))\n",
      "    Min.  1st Qu.   Median     Mean  3rd Qu.     Max. \n",
      "-1.69800 -0.59630  0.10090 -0.09093  0.49790  0.94870 \n",
      "curr.fun: symbol print\n",
      " .. after 'expression(print(summary(x)))'\n"
     ]
    }
   ],
   "source": [
    "# Otros ejemplos y opciones\n",
    "\n",
    "source('Simple_Estadistica.R')\n",
    "source('Simple_Estadistica.R', echo =TRUE)\n",
    "source('Simple_Estadistica.R', print.eval=TRUE)\n",
    "source('Simple_Estadistica.R', print.eval=FALSE)\n",
    "source('Simple_Estadistica.R', verbose=TRUE)\n"
   ]
  },
  {
   "cell_type": "markdown",
   "metadata": {},
   "source": [
    "### Usando la función scan()\n",
    "\n",
    "Puedes usar la función `scan()` para leer un vector, si este es númerico o de caracter, desde un archivo o del teclado."
   ]
  },
  {
   "cell_type": "markdown",
   "metadata": {
    "collapsed": false
   },
   "source": [
    "```\n",
    "help(scan)\n",
    "```"
   ]
  },
  {
   "cell_type": "code",
   "execution_count": 1,
   "metadata": {
    "collapsed": false,
    "scrolled": true
   },
   "outputs": [
    {
     "data": {
      "text/html": [
       "<ol class=list-inline>\n",
       "\t<li>'C'</li>\n",
       "\t<li>'S'</li>\n",
       "\t<li>'C'</li>\n",
       "\t<li>'C'</li>\n",
       "\t<li>'S'</li>\n",
       "\t<li>'C'</li>\n",
       "\t<li>'C'</li>\n",
       "\t<li>'S'</li>\n",
       "\t<li>'C'</li>\n",
       "\t<li>'C'</li>\n",
       "\t<li>'S'</li>\n",
       "\t<li>'S'</li>\n",
       "\t<li>'C'</li>\n",
       "\t<li>'S'</li>\n",
       "\t<li>'S'</li>\n",
       "\t<li>'S'</li>\n",
       "\t<li>'C'</li>\n",
       "\t<li>'C'</li>\n",
       "\t<li>'C'</li>\n",
       "\t<li>'S'</li>\n",
       "</ol>\n"
      ],
      "text/latex": [
       "\\begin{enumerate*}\n",
       "\\item 'C'\n",
       "\\item 'S'\n",
       "\\item 'C'\n",
       "\\item 'C'\n",
       "\\item 'S'\n",
       "\\item 'C'\n",
       "\\item 'C'\n",
       "\\item 'S'\n",
       "\\item 'C'\n",
       "\\item 'C'\n",
       "\\item 'S'\n",
       "\\item 'S'\n",
       "\\item 'C'\n",
       "\\item 'S'\n",
       "\\item 'S'\n",
       "\\item 'S'\n",
       "\\item 'C'\n",
       "\\item 'C'\n",
       "\\item 'C'\n",
       "\\item 'S'\n",
       "\\end{enumerate*}\n"
      ],
      "text/markdown": [
       "1. 'C'\n",
       "2. 'S'\n",
       "3. 'C'\n",
       "4. 'C'\n",
       "5. 'S'\n",
       "6. 'C'\n",
       "7. 'C'\n",
       "8. 'S'\n",
       "9. 'C'\n",
       "10. 'C'\n",
       "11. 'S'\n",
       "12. 'S'\n",
       "13. 'C'\n",
       "14. 'S'\n",
       "15. 'S'\n",
       "16. 'S'\n",
       "17. 'C'\n",
       "18. 'C'\n",
       "19. 'C'\n",
       "20. 'S'\n",
       "\n",
       "\n"
      ],
      "text/plain": [
       " [1] \"C\" \"S\" \"C\" \"C\" \"S\" \"C\" \"C\" \"S\" \"C\" \"C\" \"S\" \"S\" \"C\" \"S\" \"S\" \"S\" \"C\" \"C\" \"C\"\n",
       "[20] \"S\""
      ]
     },
     "execution_count": 1,
     "metadata": {},
     "output_type": "execute_result"
    },
    {
     "data": {
      "text/plain": [
       "lanzamientos\n",
       " C  S \n",
       "11  9 "
      ]
     },
     "execution_count": 1,
     "metadata": {},
     "output_type": "execute_result"
    },
    {
     "data": {
      "text/plain": [
       "lanzamientos\n",
       "   C    S \n",
       "0.55 0.45 "
      ]
     },
     "execution_count": 1,
     "metadata": {},
     "output_type": "execute_result"
    },
    {
     "data": {
      "application/pdf": "[encoded data removed]",
      "image/jpeg": "[encoded data removed]",
      "image/png": "[encoded data removed]",
      "image/svg+xml": [
       "<?xml version=\"1.0\" encoding=\"UTF-8\"?>\n",
       "<svg xmlns=\"http://www.w3.org/2000/svg\" xmlns:xlink=\"http://www.w3.org/1999/xlink\" width=\"504pt\" height=\"504pt\" viewBox=\"0 0 504 504\" version=\"1.1\">\n",
       "<defs>\n",
       "<g>\n",
       "<symbol overflow=\"visible\" id=\"glyph0-0\">\n",
       "<path style=\"stroke:none;\" d=\"\"/>\n",
       "</symbol>\n",
       "<symbol overflow=\"visible\" id=\"glyph0-1\">\n",
       "<path style=\"stroke:none;\" d=\"M -4.21875 -6.21875 C -7.171875 -6.21875 -8.765625 -5.140625 -8.765625 -3.296875 C -8.765625 -1.46875 -7.15625 -0.375 -4.296875 -0.375 C -1.421875 -0.375 0.1875 -1.46875 0.1875 -3.296875 C 0.1875 -5.09375 -1.421875 -6.21875 -4.21875 -6.21875 Z M -4.3125 -4.859375 C -1.90625 -4.859375 -0.953125 -4.453125 -0.953125 -3.28125 C -0.953125 -2.15625 -1.953125 -1.734375 -4.28125 -1.734375 C -6.609375 -1.734375 -7.578125 -2.15625 -7.578125 -3.296875 C -7.578125 -4.4375 -6.59375 -4.859375 -4.3125 -4.859375 Z M -4.3125 -4.859375 \"/>\n",
       "</symbol>\n",
       "<symbol overflow=\"visible\" id=\"glyph0-2\">\n",
       "<path style=\"stroke:none;\" d=\"M -0.125 -2.421875 L -1.515625 -2.421875 L -1.515625 -0.90625 L 0 -0.90625 L 0 -2.421875 Z M -0.125 -2.421875 \"/>\n",
       "</symbol>\n",
       "<symbol overflow=\"visible\" id=\"glyph0-3\">\n",
       "<path style=\"stroke:none;\" d=\"M -0.125 -4.296875 L -8.765625 -4.296875 L -8.765625 -3.359375 C -7.328125 -2.953125 -7.28125 -2.859375 -7.0625 -1.078125 L -6.0625 -1.078125 L -6.0625 -2.96875 L 0 -2.96875 L 0 -4.296875 Z M -0.125 -4.296875 \"/>\n",
       "</symbol>\n",
       "<symbol overflow=\"visible\" id=\"glyph0-4\">\n",
       "<path style=\"stroke:none;\" d=\"M -6.140625 -6.265625 C -7.578125 -6.265625 -8.765625 -5.015625 -8.765625 -3.40625 C -8.765625 -1.671875 -7.75 -0.515625 -5.5625 -0.453125 L -5.5625 -1.78125 C -7.109375 -1.875 -7.578125 -2.328125 -7.578125 -3.375 C -7.578125 -4.328125 -7.03125 -4.90625 -6.125 -4.90625 C -5.453125 -4.90625 -4.96875 -4.546875 -4.53125 -3.796875 L -3.90625 -2.6875 C -2.90625 -0.90625 -2 -0.359375 0 -0.25 L 0 -6.203125 L -1.3125 -6.203125 L -1.3125 -1.75 C -1.875 -1.84375 -2.21875 -2.1875 -2.828125 -3.234375 L -3.484375 -4.421875 C -4.109375 -5.609375 -5.09375 -6.265625 -6.140625 -6.265625 Z M -6.140625 -6.265625 \"/>\n",
       "</symbol>\n",
       "<symbol overflow=\"visible\" id=\"glyph0-5\">\n",
       "<path style=\"stroke:none;\" d=\"M -2.609375 -6.203125 C -3.640625 -6.203125 -4.375 -5.65625 -4.71875 -4.625 L -4.453125 -4.625 C -4.765625 -5.421875 -5.453125 -5.953125 -6.296875 -5.953125 C -7.765625 -5.953125 -8.765625 -4.84375 -8.765625 -3.234375 C -8.765625 -1.515625 -7.703125 -0.453125 -5.765625 -0.421875 L -5.765625 -1.75 C -7.15625 -1.78125 -7.578125 -2.15625 -7.578125 -3.234375 C -7.578125 -4.171875 -7.15625 -4.59375 -6.265625 -4.59375 C -5.359375 -4.59375 -5.109375 -4.34375 -5.109375 -2.515625 L -3.953125 -2.515625 L -3.953125 -3.234375 C -3.953125 -4.390625 -3.546875 -4.84375 -2.59375 -4.84375 C -1.53125 -4.84375 -1.015625 -4.328125 -1.015625 -3.234375 C -1.015625 -2.078125 -1.46875 -1.640625 -2.828125 -1.5625 L -2.828125 -0.234375 C -0.796875 -0.375 0.1875 -1.453125 0.1875 -3.1875 C 0.1875 -4.9375 -1 -6.203125 -2.609375 -6.203125 Z M -2.609375 -6.203125 \"/>\n",
       "</symbol>\n",
       "<symbol overflow=\"visible\" id=\"glyph0-6\">\n",
       "<path style=\"stroke:none;\" d=\"M -2.171875 -6.375 L -3.25 -6.375 L -3.25 -5.109375 L -8.765625 -5.109375 L -8.765625 -4.125 L -3.328125 -0.1875 L -2.046875 -0.1875 L -2.046875 -3.78125 L 0 -3.78125 L 0 -5.109375 L -2.046875 -5.109375 L -2.046875 -6.375 Z M -3.25 -3.921875 L -3.25 -1.515625 L -6.75 -4.015625 L -6.84375 -3.78125 L -3.25 -3.78125 Z M -3.25 -3.921875 \"/>\n",
       "</symbol>\n",
       "<symbol overflow=\"visible\" id=\"glyph0-7\">\n",
       "<path style=\"stroke:none;\" d=\"M -2.953125 -6.28125 C -4.625 -6.28125 -5.875 -5.046875 -5.875 -3.40625 C -5.875 -2.8125 -5.671875 -2.21875 -5.515625 -2.015625 L -7.28125 -2.28125 L -7.28125 -5.84375 L -8.59375 -5.84375 L -8.59375 -1.203125 L -3.875 -0.515625 L -3.875 -1.71875 C -4.5 -2.25 -4.671875 -2.5625 -4.671875 -3.21875 C -4.671875 -4.359375 -4.0625 -4.9375 -2.8125 -4.9375 C -1.578125 -4.9375 -1.015625 -4.375 -1.015625 -3.21875 C -1.015625 -2.296875 -1.359375 -1.859375 -2.453125 -1.578125 L -2.453125 -0.25 C -0.625 -0.625 0.1875 -1.734375 0.1875 -3.234375 C 0.1875 -4.953125 -1.15625 -6.28125 -2.953125 -6.28125 Z M -2.953125 -6.28125 \"/>\n",
       "</symbol>\n",
       "<symbol overflow=\"visible\" id=\"glyph0-8\">\n",
       "<path style=\"stroke:none;\" d=\"M -3.21875 -6.40625 C -5.328125 -6.40625 -6.734375 -5.25 -6.734375 -3.578125 C -6.734375 -2.71875 -6.3125 -1.9375 -5.5625 -1.46875 L -5.46875 -1.703125 L -6.546875 -1.703125 L -6.546875 -0.515625 L 2.609375 -0.515625 L 2.609375 -1.78125 L -0.890625 -1.78125 L -0.796875 -1.546875 C -0.140625 -2.078125 0.1875 -2.765625 0.1875 -3.59375 C 0.1875 -5.203125 -1.21875 -6.40625 -3.21875 -6.40625 Z M -3.234375 -5.09375 C -1.8125 -5.09375 -1.015625 -4.5 -1.015625 -3.40625 C -1.015625 -2.359375 -1.75 -1.78125 -3.234375 -1.78125 C -4.703125 -1.78125 -5.53125 -2.359375 -5.53125 -3.40625 C -5.53125 -4.515625 -4.734375 -5.09375 -3.234375 -5.09375 Z M -3.234375 -5.09375 \"/>\n",
       "</symbol>\n",
       "<symbol overflow=\"visible\" id=\"glyph0-9\">\n",
       "<path style=\"stroke:none;\" d=\"M -5.546875 -3.984375 L -6.6875 -3.984375 C -6.71875 -3.6875 -6.734375 -3.59375 -6.734375 -3.46875 C -6.734375 -2.8125 -6.3125 -2.21875 -5.375 -1.640625 L -5.28125 -1.890625 L -6.546875 -1.890625 L -6.546875 -0.703125 L 0 -0.703125 L 0 -1.96875 L -3.390625 -1.96875 C -4.8125 -1.96875 -5.390625 -2.296875 -5.40625 -3.984375 Z M -5.546875 -3.984375 \"/>\n",
       "</symbol>\n",
       "<symbol overflow=\"visible\" id=\"glyph0-10\">\n",
       "<path style=\"stroke:none;\" d=\"M -3.234375 -6.25 C -5.40625 -6.25 -6.734375 -5.078125 -6.734375 -3.265625 C -6.734375 -1.5 -5.390625 -0.28125 -3.28125 -0.28125 C -1.15625 -0.28125 0.1875 -1.484375 0.1875 -3.28125 C 0.1875 -5.046875 -1.15625 -6.25 -3.234375 -6.25 Z M -3.234375 -4.9375 C -1.765625 -4.9375 -1.015625 -4.375 -1.015625 -3.28125 C -1.015625 -2.15625 -1.75 -1.609375 -3.28125 -1.609375 C -4.78125 -1.609375 -5.546875 -2.15625 -5.546875 -3.28125 C -5.546875 -4.40625 -4.796875 -4.9375 -3.234375 -4.9375 Z M -3.234375 -4.9375 \"/>\n",
       "</symbol>\n",
       "<symbol overflow=\"visible\" id=\"glyph0-11\">\n",
       "<path style=\"stroke:none;\" d=\"M -0.125 -1.9375 L -9.015625 -1.9375 L -9.015625 -0.671875 L 0 -0.671875 L 0 -1.9375 Z M -0.125 -1.9375 \"/>\n",
       "</symbol>\n",
       "<symbol overflow=\"visible\" id=\"glyph0-12\">\n",
       "<path style=\"stroke:none;\" d=\"M -0.15625 -6.546875 L -1.078125 -6.546875 C -1.015625 -6.3125 -1.015625 -6.265625 -1.015625 -6.203125 C -1.015625 -5.859375 -1.0625 -5.796875 -1.375 -5.796875 L -4.890625 -5.796875 C -6 -5.796875 -6.734375 -4.84375 -6.734375 -3.296875 C -6.734375 -1.78125 -6.015625 -0.703125 -4.421875 -0.640625 L -4.421875 -1.90625 C -5.328125 -2 -5.546875 -2.328125 -5.546875 -3.265625 C -5.546875 -4.15625 -5.34375 -4.53125 -4.734375 -4.53125 L -4.46875 -4.53125 C -4.0625 -4.53125 -4.015625 -4.421875 -3.90625 -3.625 C -3.734375 -2.203125 -3.6875 -1.984375 -3.53125 -1.609375 C -3.234375 -0.875 -2.53125 -0.359375 -1.765625 -0.359375 C -0.625 -0.359375 0.1875 -1.296875 0.1875 -2.5625 C 0.1875 -3.375 -0.1875 -4.25 -0.59375 -4.625 C -0.390625 -4.671875 0.078125 -5.25 0.078125 -5.734375 C 0.078125 -5.9375 0.0625 -6.09375 -0.046875 -6.546875 Z M -2.296875 -4.53125 C -1.40625 -4.53125 -0.953125 -3.75 -0.953125 -2.78125 C -0.953125 -2 -1.109375 -1.6875 -1.78125 -1.6875 C -2.453125 -1.6875 -2.609375 -1.984375 -2.765625 -3.0625 C -2.90625 -4.109375 -2.953125 -4.328125 -3.03125 -4.53125 Z M -2.296875 -4.53125 \"/>\n",
       "</symbol>\n",
       "<symbol overflow=\"visible\" id=\"glyph0-13\">\n",
       "<path style=\"stroke:none;\" d=\"M -0.125 -5.96875 L -4.890625 -5.96875 C -5.921875 -5.96875 -6.734375 -5.0625 -6.734375 -3.859375 C -6.734375 -2.921875 -6.34375 -2.203125 -5.453125 -1.65625 L -5.359375 -1.890625 L -6.546875 -1.890625 L -6.546875 -0.703125 L 0 -0.703125 L 0 -1.96875 L -3.59375 -1.96875 C -4.890625 -1.96875 -5.59375 -2.53125 -5.59375 -3.546875 C -5.59375 -4.34375 -5.25 -4.703125 -4.484375 -4.703125 L 0 -4.703125 L 0 -5.96875 Z M -0.125 -5.96875 \"/>\n",
       "</symbol>\n",
       "<symbol overflow=\"visible\" id=\"glyph0-14\">\n",
       "<path style=\"stroke:none;\" d=\"M -0.125 -5.609375 L -1.140625 -5.609375 L -1.140625 -1.875 L -5.484375 -5.453125 L -6.546875 -5.453125 L -6.546875 -0.484375 L -5.40625 -0.484375 L -5.40625 -3.828125 L -1.078125 -0.234375 L 0 -0.234375 L 0 -5.609375 Z M -0.125 -5.609375 \"/>\n",
       "</symbol>\n",
       "<symbol overflow=\"visible\" id=\"glyph0-15\">\n",
       "<path style=\"stroke:none;\" d=\"M -0.125 -9.25 L -4.84375 -9.25 C -5.96875 -9.25 -6.734375 -8.5 -6.734375 -7.3125 C -6.734375 -6.484375 -6.4375 -5.875 -5.875 -5.40625 C -6.40625 -5.109375 -6.734375 -4.515625 -6.734375 -3.703125 C -6.734375 -2.859375 -6.390625 -2.203125 -5.625 -1.65625 L -5.53125 -1.890625 L -6.546875 -1.890625 L -6.546875 -0.703125 L 0 -0.703125 L 0 -1.984375 L -4.078125 -1.984375 C -4.984375 -1.984375 -5.59375 -2.515625 -5.59375 -3.328125 C -5.59375 -4.0625 -5.265625 -4.34375 -4.46875 -4.34375 L 0 -4.34375 L 0 -5.609375 L -4.078125 -5.609375 C -4.984375 -5.609375 -5.59375 -6.15625 -5.59375 -6.96875 C -5.59375 -7.703125 -5.25 -7.984375 -4.46875 -7.984375 L 0 -7.984375 L 0 -9.25 Z M -0.125 -9.25 \"/>\n",
       "</symbol>\n",
       "<symbol overflow=\"visible\" id=\"glyph0-16\">\n",
       "<path style=\"stroke:none;\" d=\"M -0.125 -1.96875 L -6.546875 -1.96875 L -6.546875 -0.703125 L 0 -0.703125 L 0 -1.96875 Z M -7.375 -2.09375 L -8.75 -2.09375 L -8.75 -0.578125 L -7.234375 -0.578125 L -7.234375 -2.09375 Z M -7.375 -2.09375 \"/>\n",
       "</symbol>\n",
       "<symbol overflow=\"visible\" id=\"glyph0-17\">\n",
       "<path style=\"stroke:none;\" d=\"M -2.984375 -6.28125 C -3.90625 -6.28125 -4.46875 -6.21875 -4.9375 -6.03125 C -5.96875 -5.625 -6.734375 -4.53125 -6.734375 -3.359375 C -6.734375 -1.609375 -5.296875 -0.34375 -3.234375 -0.34375 C -1.171875 -0.34375 0.1875 -1.578125 0.1875 -3.34375 C 0.1875 -4.78125 -0.765625 -5.90625 -2.171875 -6.1875 L -2.171875 -4.921875 C -1.21875 -4.59375 -1.015625 -4.171875 -1.015625 -3.375 C -1.015625 -2.328125 -1.546875 -1.6875 -2.859375 -1.65625 L -2.859375 -6.28125 Z M -3.78125 -5.1875 C -3.78125 -5.1875 -3.921875 -4.984375 -3.9375 -4.984375 L -3.9375 -1.6875 C -4.921875 -1.765625 -5.546875 -2.34375 -5.546875 -3.34375 C -5.546875 -4.328125 -4.859375 -4.9375 -3.875 -4.9375 Z M -3.78125 -5.1875 \"/>\n",
       "</symbol>\n",
       "<symbol overflow=\"visible\" id=\"glyph0-18\">\n",
       "<path style=\"stroke:none;\" d=\"M -0.125 -3.1875 L -1.15625 -3.1875 C -1.0625 -2.921875 -1.0625 -2.765625 -1.0625 -2.5625 C -1.0625 -2.140625 -1.046875 -2.140625 -1.484375 -2.140625 L -5.46875 -2.140625 L -5.46875 -3.1875 L -6.546875 -3.1875 L -6.546875 -2.140625 L -8.28125 -2.140625 L -8.28125 -0.875 L -6.546875 -0.875 L -6.546875 -0.03125 L -5.46875 -0.03125 L -5.46875 -0.875 L -1.046875 -0.875 C -0.40625 -0.875 0.078125 -1.453125 0.078125 -2.234375 C 0.078125 -2.46875 0.0625 -2.71875 -0.03125 -3.1875 Z M -0.125 -3.1875 \"/>\n",
       "</symbol>\n",
       "<symbol overflow=\"visible\" id=\"glyph0-19\">\n",
       "<path style=\"stroke:none;\" d=\"M -1.890625 -5.640625 C -2.828125 -5.640625 -3.4375 -4.984375 -3.734375 -3.734375 L -3.953125 -2.765625 C -4.15625 -1.953125 -4.28125 -1.734375 -4.734375 -1.734375 C -5.296875 -1.734375 -5.546875 -2.125 -5.546875 -2.9375 C -5.546875 -3.75 -5.328125 -4.03125 -4.53125 -4.0625 L -4.53125 -5.390625 C -5.90625 -5.375 -6.734375 -4.421875 -6.734375 -2.96875 C -6.734375 -1.515625 -5.84375 -0.421875 -4.6875 -0.421875 C -3.703125 -0.421875 -3.09375 -1.0625 -2.734375 -2.5625 L -2.515625 -3.484375 C -2.34375 -4.1875 -2.265625 -4.3125 -1.8125 -4.3125 C -1.21875 -4.3125 -1.015625 -3.875 -1.015625 -3 C -1.015625 -2.09375 -1.09375 -1.734375 -2.1875 -1.578125 L -2.1875 -0.265625 C -0.59375 -0.3125 0.1875 -1.265625 0.1875 -2.921875 C 0.1875 -4.5 -0.6875 -5.640625 -1.890625 -5.640625 Z M -1.890625 -5.640625 \"/>\n",
       "</symbol>\n",
       "<symbol overflow=\"visible\" id=\"glyph1-0\">\n",
       "<path style=\"stroke:none;\" d=\"\"/>\n",
       "</symbol>\n",
       "<symbol overflow=\"visible\" id=\"glyph1-1\">\n",
       "<path style=\"stroke:none;\" d=\"M 1.9375 -0.125 L 1.9375 -9.015625 L 0.671875 -9.015625 L 0.671875 0 L 1.9375 0 Z M 1.9375 -0.125 \"/>\n",
       "</symbol>\n",
       "<symbol overflow=\"visible\" id=\"glyph1-2\">\n",
       "<path style=\"stroke:none;\" d=\"M 6.546875 -0.15625 L 6.546875 -1.078125 C 6.3125 -1.015625 6.265625 -1.015625 6.203125 -1.015625 C 5.859375 -1.015625 5.796875 -1.0625 5.796875 -1.375 L 5.796875 -4.890625 C 5.796875 -6 4.84375 -6.734375 3.296875 -6.734375 C 1.78125 -6.734375 0.703125 -6.015625 0.640625 -4.421875 L 1.90625 -4.421875 C 2 -5.328125 2.328125 -5.546875 3.265625 -5.546875 C 4.15625 -5.546875 4.53125 -5.34375 4.53125 -4.734375 L 4.53125 -4.46875 C 4.53125 -4.0625 4.421875 -4.015625 3.625 -3.90625 C 2.203125 -3.734375 1.984375 -3.6875 1.609375 -3.53125 C 0.875 -3.234375 0.359375 -2.53125 0.359375 -1.765625 C 0.359375 -0.625 1.296875 0.1875 2.5625 0.1875 C 3.375 0.1875 4.25 -0.1875 4.625 -0.59375 C 4.671875 -0.390625 5.25 0.078125 5.734375 0.078125 C 5.9375 0.078125 6.09375 0.0625 6.546875 -0.046875 Z M 4.53125 -2.296875 C 4.53125 -1.40625 3.75 -0.953125 2.78125 -0.953125 C 2 -0.953125 1.6875 -1.109375 1.6875 -1.78125 C 1.6875 -2.453125 1.984375 -2.609375 3.0625 -2.765625 C 4.109375 -2.90625 4.328125 -2.953125 4.53125 -3.03125 Z M 4.53125 -2.296875 \"/>\n",
       "</symbol>\n",
       "<symbol overflow=\"visible\" id=\"glyph1-3\">\n",
       "<path style=\"stroke:none;\" d=\"M 5.96875 -0.125 L 5.96875 -4.890625 C 5.96875 -5.921875 5.0625 -6.734375 3.859375 -6.734375 C 2.921875 -6.734375 2.203125 -6.34375 1.65625 -5.453125 L 1.890625 -5.359375 L 1.890625 -6.546875 L 0.703125 -6.546875 L 0.703125 0 L 1.96875 0 L 1.96875 -3.59375 C 1.96875 -4.890625 2.53125 -5.59375 3.546875 -5.59375 C 4.34375 -5.59375 4.703125 -5.25 4.703125 -4.484375 L 4.703125 0 L 5.96875 0 Z M 5.96875 -0.125 \"/>\n",
       "</symbol>\n",
       "<symbol overflow=\"visible\" id=\"glyph1-4\">\n",
       "<path style=\"stroke:none;\" d=\"M 5.609375 -0.125 L 5.609375 -1.140625 L 1.875 -1.140625 L 5.453125 -5.484375 L 5.453125 -6.546875 L 0.484375 -6.546875 L 0.484375 -5.40625 L 3.828125 -5.40625 L 0.234375 -1.078125 L 0.234375 0 L 5.609375 0 Z M 5.609375 -0.125 \"/>\n",
       "</symbol>\n",
       "<symbol overflow=\"visible\" id=\"glyph1-5\">\n",
       "<path style=\"stroke:none;\" d=\"M 9.25 -0.125 L 9.25 -4.84375 C 9.25 -5.96875 8.5 -6.734375 7.3125 -6.734375 C 6.484375 -6.734375 5.875 -6.4375 5.40625 -5.875 C 5.109375 -6.40625 4.515625 -6.734375 3.703125 -6.734375 C 2.859375 -6.734375 2.203125 -6.390625 1.65625 -5.625 L 1.890625 -5.53125 L 1.890625 -6.546875 L 0.703125 -6.546875 L 0.703125 0 L 1.984375 0 L 1.984375 -4.078125 C 1.984375 -4.984375 2.515625 -5.59375 3.328125 -5.59375 C 4.0625 -5.59375 4.34375 -5.265625 4.34375 -4.46875 L 4.34375 0 L 5.609375 0 L 5.609375 -4.078125 C 5.609375 -4.984375 6.15625 -5.59375 6.96875 -5.59375 C 7.703125 -5.59375 7.984375 -5.25 7.984375 -4.46875 L 7.984375 0 L 9.25 0 Z M 9.25 -0.125 \"/>\n",
       "</symbol>\n",
       "<symbol overflow=\"visible\" id=\"glyph1-6\">\n",
       "<path style=\"stroke:none;\" d=\"M 1.96875 -0.125 L 1.96875 -6.546875 L 0.703125 -6.546875 L 0.703125 0 L 1.96875 0 Z M 2.09375 -7.375 L 2.09375 -8.75 L 0.578125 -8.75 L 0.578125 -7.234375 L 2.09375 -7.234375 Z M 2.09375 -7.375 \"/>\n",
       "</symbol>\n",
       "<symbol overflow=\"visible\" id=\"glyph1-7\">\n",
       "<path style=\"stroke:none;\" d=\"M 6.28125 -2.984375 C 6.28125 -3.90625 6.21875 -4.46875 6.03125 -4.9375 C 5.625 -5.96875 4.53125 -6.734375 3.359375 -6.734375 C 1.609375 -6.734375 0.34375 -5.296875 0.34375 -3.234375 C 0.34375 -1.171875 1.578125 0.1875 3.34375 0.1875 C 4.78125 0.1875 5.90625 -0.765625 6.1875 -2.171875 L 4.921875 -2.171875 C 4.59375 -1.21875 4.171875 -1.015625 3.375 -1.015625 C 2.328125 -1.015625 1.6875 -1.546875 1.65625 -2.859375 L 6.28125 -2.859375 Z M 5.1875 -3.78125 C 5.1875 -3.78125 4.984375 -3.921875 4.984375 -3.9375 L 1.6875 -3.9375 C 1.765625 -4.921875 2.34375 -5.546875 3.34375 -5.546875 C 4.328125 -5.546875 4.9375 -4.859375 4.9375 -3.875 Z M 5.1875 -3.78125 \"/>\n",
       "</symbol>\n",
       "<symbol overflow=\"visible\" id=\"glyph1-8\">\n",
       "<path style=\"stroke:none;\" d=\"M 3.1875 -0.125 L 3.1875 -1.15625 C 2.921875 -1.0625 2.765625 -1.0625 2.5625 -1.0625 C 2.140625 -1.0625 2.140625 -1.046875 2.140625 -1.484375 L 2.140625 -5.46875 L 3.1875 -5.46875 L 3.1875 -6.546875 L 2.140625 -6.546875 L 2.140625 -8.28125 L 0.875 -8.28125 L 0.875 -6.546875 L 0.03125 -6.546875 L 0.03125 -5.46875 L 0.875 -5.46875 L 0.875 -1.046875 C 0.875 -0.40625 1.453125 0.078125 2.234375 0.078125 C 2.46875 0.078125 2.71875 0.0625 3.1875 -0.03125 Z M 3.1875 -0.125 \"/>\n",
       "</symbol>\n",
       "<symbol overflow=\"visible\" id=\"glyph1-9\">\n",
       "<path style=\"stroke:none;\" d=\"M 6.25 -3.234375 C 6.25 -5.40625 5.078125 -6.734375 3.265625 -6.734375 C 1.5 -6.734375 0.28125 -5.390625 0.28125 -3.28125 C 0.28125 -1.15625 1.484375 0.1875 3.28125 0.1875 C 5.046875 0.1875 6.25 -1.15625 6.25 -3.234375 Z M 4.9375 -3.234375 C 4.9375 -1.765625 4.375 -1.015625 3.28125 -1.015625 C 2.15625 -1.015625 1.609375 -1.75 1.609375 -3.28125 C 1.609375 -4.78125 2.15625 -5.546875 3.28125 -5.546875 C 4.40625 -5.546875 4.9375 -4.796875 4.9375 -3.234375 Z M 4.9375 -3.234375 \"/>\n",
       "</symbol>\n",
       "<symbol overflow=\"visible\" id=\"glyph1-10\">\n",
       "<path style=\"stroke:none;\" d=\"M 5.640625 -1.890625 C 5.640625 -2.828125 4.984375 -3.4375 3.734375 -3.734375 L 2.765625 -3.953125 C 1.953125 -4.15625 1.734375 -4.28125 1.734375 -4.734375 C 1.734375 -5.296875 2.125 -5.546875 2.9375 -5.546875 C 3.75 -5.546875 4.03125 -5.328125 4.0625 -4.53125 L 5.390625 -4.53125 C 5.375 -5.90625 4.421875 -6.734375 2.96875 -6.734375 C 1.515625 -6.734375 0.421875 -5.84375 0.421875 -4.6875 C 0.421875 -3.703125 1.0625 -3.09375 2.5625 -2.734375 L 3.484375 -2.515625 C 4.1875 -2.34375 4.3125 -2.265625 4.3125 -1.8125 C 4.3125 -1.21875 3.875 -1.015625 3 -1.015625 C 2.09375 -1.015625 1.734375 -1.09375 1.578125 -2.1875 L 0.265625 -2.1875 C 0.3125 -0.59375 1.265625 0.1875 2.921875 0.1875 C 4.5 0.1875 5.640625 -0.6875 5.640625 -1.890625 Z M 5.640625 -1.890625 \"/>\n",
       "</symbol>\n",
       "<symbol overflow=\"visible\" id=\"glyph1-11\">\n",
       "<path style=\"stroke:none;\" d=\"M 8.125 -3.453125 L 6.859375 -3.453125 C 6.5625 -1.671875 6.015625 -1.03125 4.53125 -1.03125 C 2.796875 -1.03125 1.828125 -2.234375 1.828125 -4.421875 C 1.828125 -6.65625 2.75 -7.984375 4.4375 -7.984375 C 5.8125 -7.984375 6.390625 -7.5 6.6875 -6.03125 L 8.09375 -6.03125 C 7.734375 -8.09375 6.484375 -9.234375 4.578125 -9.234375 C 1.921875 -9.234375 0.4375 -6.953125 0.4375 -4.40625 C 0.4375 -1.84375 1.953125 0.21875 4.53125 0.21875 C 6.65625 0.21875 7.984375 -1.046875 8.265625 -3.453125 Z M 8.125 -3.453125 \"/>\n",
       "</symbol>\n",
       "<symbol overflow=\"visible\" id=\"glyph1-12\">\n",
       "<path style=\"stroke:none;\" d=\"M 7.578125 -2.53125 C 7.578125 -3.609375 6.78125 -4.53125 5.59375 -4.859375 L 3.390625 -5.453125 C 2.34375 -5.71875 2.09375 -5.9375 2.09375 -6.609375 C 2.09375 -7.5 2.734375 -8.03125 3.90625 -8.03125 C 5.296875 -8.03125 5.953125 -7.53125 5.953125 -6.25 L 7.28125 -6.25 C 7.28125 -8.09375 5.96875 -9.234375 3.953125 -9.234375 C 2.03125 -9.234375 0.703125 -8.046875 0.703125 -6.453125 C 0.703125 -5.390625 1.40625 -4.578125 2.5625 -4.28125 L 4.734375 -3.703125 C 5.828125 -3.421875 6.1875 -3.109375 6.1875 -2.421875 C 6.1875 -1.46875 5.609375 -1.03125 4.109375 -1.03125 C 2.453125 -1.03125 1.765625 -1.734375 1.765625 -3.109375 L 0.4375 -3.109375 C 0.4375 -0.90625 1.96875 0.21875 4.03125 0.21875 C 6.25 0.21875 7.578125 -0.96875 7.578125 -2.53125 Z M 7.578125 -2.53125 \"/>\n",
       "</symbol>\n",
       "</g>\n",
       "</defs>\n",
       "<g id=\"surface59\">\n",
       "<rect x=\"0\" y=\"0\" width=\"504\" height=\"504\" style=\"fill:rgb(100%,100%,100%);fill-opacity:1;stroke:none;\"/>\n",
       "<path style=\"fill:none;stroke-width:1.5;stroke-linecap:round;stroke-linejoin:round;stroke:rgb(0%,0%,0%);stroke-opacity:1;stroke-miterlimit:10;\" d=\"M 74.398438 416.800781 L 74.398438 72.800781 \"/>\n",
       "<path style=\"fill:none;stroke-width:1.5;stroke-linecap:round;stroke-linejoin:round;stroke:rgb(0%,0%,0%);stroke-opacity:1;stroke-miterlimit:10;\" d=\"M 458.398438 416.800781 L 458.398438 135.34375 \"/>\n",
       "<path style=\"fill:none;stroke-width:0.75;stroke-linecap:round;stroke-linejoin:round;stroke:rgb(0%,0%,0%);stroke-opacity:1;stroke-miterlimit:10;\" d=\"M 59.039062 416.800781 L 59.039062 104.074219 \"/>\n",
       "<path style=\"fill:none;stroke-width:0.75;stroke-linecap:round;stroke-linejoin:round;stroke:rgb(0%,0%,0%);stroke-opacity:1;stroke-miterlimit:10;\" d=\"M 59.039062 416.800781 L 51.839844 416.800781 \"/>\n",
       "<path style=\"fill:none;stroke-width:0.75;stroke-linecap:round;stroke-linejoin:round;stroke:rgb(0%,0%,0%);stroke-opacity:1;stroke-miterlimit:10;\" d=\"M 59.039062 354.253906 L 51.839844 354.253906 \"/>\n",
       "<path style=\"fill:none;stroke-width:0.75;stroke-linecap:round;stroke-linejoin:round;stroke:rgb(0%,0%,0%);stroke-opacity:1;stroke-miterlimit:10;\" d=\"M 59.039062 291.710938 L 51.839844 291.710938 \"/>\n",
       "<path style=\"fill:none;stroke-width:0.75;stroke-linecap:round;stroke-linejoin:round;stroke:rgb(0%,0%,0%);stroke-opacity:1;stroke-miterlimit:10;\" d=\"M 59.039062 229.164062 L 51.839844 229.164062 \"/>\n",
       "<path style=\"fill:none;stroke-width:0.75;stroke-linecap:round;stroke-linejoin:round;stroke:rgb(0%,0%,0%);stroke-opacity:1;stroke-miterlimit:10;\" d=\"M 59.039062 166.617188 L 51.839844 166.617188 \"/>\n",
       "<path style=\"fill:none;stroke-width:0.75;stroke-linecap:round;stroke-linejoin:round;stroke:rgb(0%,0%,0%);stroke-opacity:1;stroke-miterlimit:10;\" d=\"M 59.039062 104.074219 L 51.839844 104.074219 \"/>\n",
       "<g style=\"fill:rgb(0%,0%,0%);fill-opacity:1;\">\n",
       "  <use xlink:href=\"#glyph0-1\" x=\"41.538086\" y=\"425.300781\"/>\n",
       "  <use xlink:href=\"#glyph0-2\" x=\"41.538086\" y=\"418.628906\"/>\n",
       "  <use xlink:href=\"#glyph0-1\" x=\"41.538086\" y=\"415.292969\"/>\n",
       "</g>\n",
       "<g style=\"fill:rgb(0%,0%,0%);fill-opacity:1;\">\n",
       "  <use xlink:href=\"#glyph0-1\" x=\"41.538086\" y=\"362.753906\"/>\n",
       "  <use xlink:href=\"#glyph0-2\" x=\"41.538086\" y=\"356.082031\"/>\n",
       "  <use xlink:href=\"#glyph0-3\" x=\"41.538086\" y=\"352.746094\"/>\n",
       "</g>\n",
       "<g style=\"fill:rgb(0%,0%,0%);fill-opacity:1;\">\n",
       "  <use xlink:href=\"#glyph0-1\" x=\"41.538086\" y=\"300.210938\"/>\n",
       "  <use xlink:href=\"#glyph0-2\" x=\"41.538086\" y=\"293.539062\"/>\n",
       "  <use xlink:href=\"#glyph0-4\" x=\"41.538086\" y=\"290.203125\"/>\n",
       "</g>\n",
       "<g style=\"fill:rgb(0%,0%,0%);fill-opacity:1;\">\n",
       "  <use xlink:href=\"#glyph0-1\" x=\"41.538086\" y=\"237.664062\"/>\n",
       "  <use xlink:href=\"#glyph0-2\" x=\"41.538086\" y=\"230.992188\"/>\n",
       "  <use xlink:href=\"#glyph0-5\" x=\"41.538086\" y=\"227.65625\"/>\n",
       "</g>\n",
       "<g style=\"fill:rgb(0%,0%,0%);fill-opacity:1;\">\n",
       "  <use xlink:href=\"#glyph0-1\" x=\"41.538086\" y=\"175.117188\"/>\n",
       "  <use xlink:href=\"#glyph0-2\" x=\"41.538086\" y=\"168.445312\"/>\n",
       "  <use xlink:href=\"#glyph0-6\" x=\"41.538086\" y=\"165.109375\"/>\n",
       "</g>\n",
       "<g style=\"fill:rgb(0%,0%,0%);fill-opacity:1;\">\n",
       "  <use xlink:href=\"#glyph0-1\" x=\"41.538086\" y=\"112.574219\"/>\n",
       "  <use xlink:href=\"#glyph0-2\" x=\"41.538086\" y=\"105.902344\"/>\n",
       "  <use xlink:href=\"#glyph0-7\" x=\"41.538086\" y=\"102.566406\"/>\n",
       "</g>\n",
       "<g style=\"fill:rgb(0%,0%,0%);fill-opacity:1;\">\n",
       "  <use xlink:href=\"#glyph1-1\" x=\"230.898438\" y=\"485.057617\"/>\n",
       "  <use xlink:href=\"#glyph1-2\" x=\"233.5625\" y=\"485.057617\"/>\n",
       "  <use xlink:href=\"#glyph1-3\" x=\"240.234375\" y=\"485.057617\"/>\n",
       "  <use xlink:href=\"#glyph1-4\" x=\"246.90625\" y=\"485.057617\"/>\n",
       "  <use xlink:href=\"#glyph1-2\" x=\"252.90625\" y=\"485.057617\"/>\n",
       "  <use xlink:href=\"#glyph1-5\" x=\"259.578125\" y=\"485.057617\"/>\n",
       "  <use xlink:href=\"#glyph1-6\" x=\"269.574219\" y=\"485.057617\"/>\n",
       "  <use xlink:href=\"#glyph1-7\" x=\"272.238281\" y=\"485.057617\"/>\n",
       "  <use xlink:href=\"#glyph1-3\" x=\"278.910156\" y=\"485.057617\"/>\n",
       "  <use xlink:href=\"#glyph1-8\" x=\"285.582031\" y=\"485.057617\"/>\n",
       "  <use xlink:href=\"#glyph1-9\" x=\"288.798828\" y=\"485.057617\"/>\n",
       "  <use xlink:href=\"#glyph1-10\" x=\"295.470703\" y=\"485.057617\"/>\n",
       "</g>\n",
       "<g style=\"fill:rgb(0%,0%,0%);fill-opacity:1;\">\n",
       "  <use xlink:href=\"#glyph0-8\" x=\"12.737305\" y=\"293.800781\"/>\n",
       "  <use xlink:href=\"#glyph0-9\" x=\"12.737305\" y=\"287.128906\"/>\n",
       "  <use xlink:href=\"#glyph0-10\" x=\"12.737305\" y=\"283.192383\"/>\n",
       "  <use xlink:href=\"#glyph0-8\" x=\"12.737305\" y=\"276.520508\"/>\n",
       "  <use xlink:href=\"#glyph0-2\" x=\"12.737305\" y=\"269.848633\"/>\n",
       "  <use xlink:href=\"#glyph0-11\" x=\"12.737305\" y=\"266.512695\"/>\n",
       "  <use xlink:href=\"#glyph0-12\" x=\"12.737305\" y=\"263.848633\"/>\n",
       "  <use xlink:href=\"#glyph0-13\" x=\"12.737305\" y=\"257.176758\"/>\n",
       "  <use xlink:href=\"#glyph0-14\" x=\"12.737305\" y=\"250.504883\"/>\n",
       "  <use xlink:href=\"#glyph0-12\" x=\"12.737305\" y=\"244.504883\"/>\n",
       "  <use xlink:href=\"#glyph0-15\" x=\"12.737305\" y=\"237.833008\"/>\n",
       "  <use xlink:href=\"#glyph0-16\" x=\"12.737305\" y=\"227.836914\"/>\n",
       "  <use xlink:href=\"#glyph0-17\" x=\"12.737305\" y=\"225.172852\"/>\n",
       "  <use xlink:href=\"#glyph0-13\" x=\"12.737305\" y=\"218.500977\"/>\n",
       "  <use xlink:href=\"#glyph0-18\" x=\"12.737305\" y=\"211.829102\"/>\n",
       "  <use xlink:href=\"#glyph0-10\" x=\"12.737305\" y=\"208.612305\"/>\n",
       "  <use xlink:href=\"#glyph0-19\" x=\"12.737305\" y=\"201.94043\"/>\n",
       "</g>\n",
       "<path style=\"fill:none;stroke-width:0.75;stroke-linecap:round;stroke-linejoin:round;stroke:rgb(0%,0%,0%);stroke-opacity:1;stroke-miterlimit:10;\" d=\"M 74.398438 430.558594 L 458.398438 430.558594 \"/>\n",
       "<path style=\"fill:none;stroke-width:0.75;stroke-linecap:round;stroke-linejoin:round;stroke:rgb(0%,0%,0%);stroke-opacity:1;stroke-miterlimit:10;\" d=\"M 74.398438 430.558594 L 74.398438 437.761719 \"/>\n",
       "<path style=\"fill:none;stroke-width:0.75;stroke-linecap:round;stroke-linejoin:round;stroke:rgb(0%,0%,0%);stroke-opacity:1;stroke-miterlimit:10;\" d=\"M 458.398438 430.558594 L 458.398438 437.761719 \"/>\n",
       "<g style=\"fill:rgb(0%,0%,0%);fill-opacity:1;\">\n",
       "  <use xlink:href=\"#glyph1-11\" x=\"69.898438\" y=\"456.256836\"/>\n",
       "</g>\n",
       "<g style=\"fill:rgb(0%,0%,0%);fill-opacity:1;\">\n",
       "  <use xlink:href=\"#glyph1-12\" x=\"453.898438\" y=\"456.256836\"/>\n",
       "</g>\n",
       "</g>\n",
       "</svg>\n"
      ],
      "text/plain": [
       "plot without title"
      ]
     },
     "metadata": {
      "image/svg+xml": {
       "isolated": true
      }
     },
     "output_type": "display_data"
    },
    {
     "data": {
      "application/pdf": "[encoded data removed]",
      "image/jpeg": "[encoded data removed]",
      "image/png": "[encoded data removed]",
      "image/svg+xml": [
       "<?xml version=\"1.0\" encoding=\"UTF-8\"?>\n",
       "<svg xmlns=\"http://www.w3.org/2000/svg\" xmlns:xlink=\"http://www.w3.org/1999/xlink\" width=\"504pt\" height=\"504pt\" viewBox=\"0 0 504 504\" version=\"1.1\">\n",
       "<defs>\n",
       "<g>\n",
       "<symbol overflow=\"visible\" id=\"glyph0-0\">\n",
       "<path style=\"stroke:none;\" d=\"\"/>\n",
       "</symbol>\n",
       "<symbol overflow=\"visible\" id=\"glyph0-1\">\n",
       "<path style=\"stroke:none;\" d=\"M 8.125 -3.453125 L 6.859375 -3.453125 C 6.5625 -1.671875 6.015625 -1.03125 4.53125 -1.03125 C 2.796875 -1.03125 1.828125 -2.234375 1.828125 -4.421875 C 1.828125 -6.65625 2.75 -7.984375 4.4375 -7.984375 C 5.8125 -7.984375 6.390625 -7.5 6.6875 -6.03125 L 8.09375 -6.03125 C 7.734375 -8.09375 6.484375 -9.234375 4.578125 -9.234375 C 1.921875 -9.234375 0.4375 -6.953125 0.4375 -4.40625 C 0.4375 -1.84375 1.953125 0.21875 4.53125 0.21875 C 6.65625 0.21875 7.984375 -1.046875 8.265625 -3.453125 Z M 8.125 -3.453125 \"/>\n",
       "</symbol>\n",
       "<symbol overflow=\"visible\" id=\"glyph0-2\">\n",
       "<path style=\"stroke:none;\" d=\"M 7.578125 -2.53125 C 7.578125 -3.609375 6.78125 -4.53125 5.59375 -4.859375 L 3.390625 -5.453125 C 2.34375 -5.71875 2.09375 -5.9375 2.09375 -6.609375 C 2.09375 -7.5 2.734375 -8.03125 3.90625 -8.03125 C 5.296875 -8.03125 5.953125 -7.53125 5.953125 -6.25 L 7.28125 -6.25 C 7.28125 -8.09375 5.96875 -9.234375 3.953125 -9.234375 C 2.03125 -9.234375 0.703125 -8.046875 0.703125 -6.453125 C 0.703125 -5.390625 1.40625 -4.578125 2.5625 -4.28125 L 4.734375 -3.703125 C 5.828125 -3.421875 6.1875 -3.109375 6.1875 -2.421875 C 6.1875 -1.46875 5.609375 -1.03125 4.109375 -1.03125 C 2.453125 -1.03125 1.765625 -1.734375 1.765625 -3.109375 L 0.4375 -3.109375 C 0.4375 -0.90625 1.96875 0.21875 4.03125 0.21875 C 6.25 0.21875 7.578125 -0.96875 7.578125 -2.53125 Z M 7.578125 -2.53125 \"/>\n",
       "</symbol>\n",
       "<symbol overflow=\"visible\" id=\"glyph1-0\">\n",
       "<path style=\"stroke:none;\" d=\"\"/>\n",
       "</symbol>\n",
       "<symbol overflow=\"visible\" id=\"glyph1-1\">\n",
       "<path style=\"stroke:none;\" d=\"M -4.21875 -6.21875 C -7.171875 -6.21875 -8.765625 -5.140625 -8.765625 -3.296875 C -8.765625 -1.46875 -7.15625 -0.375 -4.296875 -0.375 C -1.421875 -0.375 0.1875 -1.46875 0.1875 -3.296875 C 0.1875 -5.09375 -1.421875 -6.21875 -4.21875 -6.21875 Z M -4.3125 -4.859375 C -1.90625 -4.859375 -0.953125 -4.453125 -0.953125 -3.28125 C -0.953125 -2.15625 -1.953125 -1.734375 -4.28125 -1.734375 C -6.609375 -1.734375 -7.578125 -2.15625 -7.578125 -3.296875 C -7.578125 -4.4375 -6.59375 -4.859375 -4.3125 -4.859375 Z M -4.3125 -4.859375 \"/>\n",
       "</symbol>\n",
       "<symbol overflow=\"visible\" id=\"glyph1-2\">\n",
       "<path style=\"stroke:none;\" d=\"M -0.125 -2.421875 L -1.515625 -2.421875 L -1.515625 -0.90625 L 0 -0.90625 L 0 -2.421875 Z M -0.125 -2.421875 \"/>\n",
       "</symbol>\n",
       "<symbol overflow=\"visible\" id=\"glyph1-3\">\n",
       "<path style=\"stroke:none;\" d=\"M -0.125 -4.296875 L -8.765625 -4.296875 L -8.765625 -3.359375 C -7.328125 -2.953125 -7.28125 -2.859375 -7.0625 -1.078125 L -6.0625 -1.078125 L -6.0625 -2.96875 L 0 -2.96875 L 0 -4.296875 Z M -0.125 -4.296875 \"/>\n",
       "</symbol>\n",
       "<symbol overflow=\"visible\" id=\"glyph1-4\">\n",
       "<path style=\"stroke:none;\" d=\"M -6.140625 -6.265625 C -7.578125 -6.265625 -8.765625 -5.015625 -8.765625 -3.40625 C -8.765625 -1.671875 -7.75 -0.515625 -5.5625 -0.453125 L -5.5625 -1.78125 C -7.109375 -1.875 -7.578125 -2.328125 -7.578125 -3.375 C -7.578125 -4.328125 -7.03125 -4.90625 -6.125 -4.90625 C -5.453125 -4.90625 -4.96875 -4.546875 -4.53125 -3.796875 L -3.90625 -2.6875 C -2.90625 -0.90625 -2 -0.359375 0 -0.25 L 0 -6.203125 L -1.3125 -6.203125 L -1.3125 -1.75 C -1.875 -1.84375 -2.21875 -2.1875 -2.828125 -3.234375 L -3.484375 -4.421875 C -4.109375 -5.609375 -5.09375 -6.265625 -6.140625 -6.265625 Z M -6.140625 -6.265625 \"/>\n",
       "</symbol>\n",
       "<symbol overflow=\"visible\" id=\"glyph1-5\">\n",
       "<path style=\"stroke:none;\" d=\"M -2.609375 -6.203125 C -3.640625 -6.203125 -4.375 -5.65625 -4.71875 -4.625 L -4.453125 -4.625 C -4.765625 -5.421875 -5.453125 -5.953125 -6.296875 -5.953125 C -7.765625 -5.953125 -8.765625 -4.84375 -8.765625 -3.234375 C -8.765625 -1.515625 -7.703125 -0.453125 -5.765625 -0.421875 L -5.765625 -1.75 C -7.15625 -1.78125 -7.578125 -2.15625 -7.578125 -3.234375 C -7.578125 -4.171875 -7.15625 -4.59375 -6.265625 -4.59375 C -5.359375 -4.59375 -5.109375 -4.34375 -5.109375 -2.515625 L -3.953125 -2.515625 L -3.953125 -3.234375 C -3.953125 -4.390625 -3.546875 -4.84375 -2.59375 -4.84375 C -1.53125 -4.84375 -1.015625 -4.328125 -1.015625 -3.234375 C -1.015625 -2.078125 -1.46875 -1.640625 -2.828125 -1.5625 L -2.828125 -0.234375 C -0.796875 -0.375 0.1875 -1.453125 0.1875 -3.1875 C 0.1875 -4.9375 -1 -6.203125 -2.609375 -6.203125 Z M -2.609375 -6.203125 \"/>\n",
       "</symbol>\n",
       "<symbol overflow=\"visible\" id=\"glyph1-6\">\n",
       "<path style=\"stroke:none;\" d=\"M -2.171875 -6.375 L -3.25 -6.375 L -3.25 -5.109375 L -8.765625 -5.109375 L -8.765625 -4.125 L -3.328125 -0.1875 L -2.046875 -0.1875 L -2.046875 -3.78125 L 0 -3.78125 L 0 -5.109375 L -2.046875 -5.109375 L -2.046875 -6.375 Z M -3.25 -3.921875 L -3.25 -1.515625 L -6.75 -4.015625 L -6.84375 -3.78125 L -3.25 -3.78125 Z M -3.25 -3.921875 \"/>\n",
       "</symbol>\n",
       "<symbol overflow=\"visible\" id=\"glyph1-7\">\n",
       "<path style=\"stroke:none;\" d=\"M -2.953125 -6.28125 C -4.625 -6.28125 -5.875 -5.046875 -5.875 -3.40625 C -5.875 -2.8125 -5.671875 -2.21875 -5.515625 -2.015625 L -7.28125 -2.28125 L -7.28125 -5.84375 L -8.59375 -5.84375 L -8.59375 -1.203125 L -3.875 -0.515625 L -3.875 -1.71875 C -4.5 -2.25 -4.671875 -2.5625 -4.671875 -3.21875 C -4.671875 -4.359375 -4.0625 -4.9375 -2.8125 -4.9375 C -1.578125 -4.9375 -1.015625 -4.375 -1.015625 -3.21875 C -1.015625 -2.296875 -1.359375 -1.859375 -2.453125 -1.578125 L -2.453125 -0.25 C -0.625 -0.625 0.1875 -1.734375 0.1875 -3.234375 C 0.1875 -4.953125 -1.15625 -6.28125 -2.953125 -6.28125 Z M -2.953125 -6.28125 \"/>\n",
       "</symbol>\n",
       "</g>\n",
       "</defs>\n",
       "<g id=\"surface87\">\n",
       "<rect x=\"0\" y=\"0\" width=\"504\" height=\"504\" style=\"fill:rgb(100%,100%,100%);fill-opacity:1;stroke:none;\"/>\n",
       "<path style=\"fill-rule:nonzero;fill:rgb(74.509804%,74.509804%,74.509804%);fill-opacity:1;stroke-width:0.75;stroke-linecap:round;stroke-linejoin:round;stroke:rgb(0%,0%,0%);stroke-opacity:1;stroke-miterlimit:10;\" d=\"M 74.398438 426.882812 L 248.945312 426.882812 L 248.945312 59.042969 L 74.398438 59.042969 Z M 74.398438 426.882812 \"/>\n",
       "<path style=\"fill-rule:nonzero;fill:rgb(74.509804%,74.509804%,74.509804%);fill-opacity:1;stroke-width:0.75;stroke-linecap:round;stroke-linejoin:round;stroke:rgb(0%,0%,0%);stroke-opacity:1;stroke-miterlimit:10;\" d=\"M 283.855469 426.882812 L 458.402344 426.882812 L 458.402344 125.921875 L 283.855469 125.921875 Z M 283.855469 426.882812 \"/>\n",
       "<g style=\"fill:rgb(0%,0%,0%);fill-opacity:1;\">\n",
       "  <use xlink:href=\"#glyph0-1\" x=\"157.171875\" y=\"456.256836\"/>\n",
       "</g>\n",
       "<g style=\"fill:rgb(0%,0%,0%);fill-opacity:1;\">\n",
       "  <use xlink:href=\"#glyph0-2\" x=\"366.628906\" y=\"456.256836\"/>\n",
       "</g>\n",
       "<path style=\"fill:none;stroke-width:0.75;stroke-linecap:round;stroke-linejoin:round;stroke:rgb(0%,0%,0%);stroke-opacity:1;stroke-miterlimit:10;\" d=\"M 59.039062 426.882812 L 59.039062 92.480469 \"/>\n",
       "<path style=\"fill:none;stroke-width:0.75;stroke-linecap:round;stroke-linejoin:round;stroke:rgb(0%,0%,0%);stroke-opacity:1;stroke-miterlimit:10;\" d=\"M 59.039062 426.882812 L 51.839844 426.882812 \"/>\n",
       "<path style=\"fill:none;stroke-width:0.75;stroke-linecap:round;stroke-linejoin:round;stroke:rgb(0%,0%,0%);stroke-opacity:1;stroke-miterlimit:10;\" d=\"M 59.039062 360 L 51.839844 360 \"/>\n",
       "<path style=\"fill:none;stroke-width:0.75;stroke-linecap:round;stroke-linejoin:round;stroke:rgb(0%,0%,0%);stroke-opacity:1;stroke-miterlimit:10;\" d=\"M 59.039062 293.121094 L 51.839844 293.121094 \"/>\n",
       "<path style=\"fill:none;stroke-width:0.75;stroke-linecap:round;stroke-linejoin:round;stroke:rgb(0%,0%,0%);stroke-opacity:1;stroke-miterlimit:10;\" d=\"M 59.039062 226.242188 L 51.839844 226.242188 \"/>\n",
       "<path style=\"fill:none;stroke-width:0.75;stroke-linecap:round;stroke-linejoin:round;stroke:rgb(0%,0%,0%);stroke-opacity:1;stroke-miterlimit:10;\" d=\"M 59.039062 159.359375 L 51.839844 159.359375 \"/>\n",
       "<path style=\"fill:none;stroke-width:0.75;stroke-linecap:round;stroke-linejoin:round;stroke:rgb(0%,0%,0%);stroke-opacity:1;stroke-miterlimit:10;\" d=\"M 59.039062 92.480469 L 51.839844 92.480469 \"/>\n",
       "<g style=\"fill:rgb(0%,0%,0%);fill-opacity:1;\">\n",
       "  <use xlink:href=\"#glyph1-1\" x=\"41.538086\" y=\"435.382812\"/>\n",
       "  <use xlink:href=\"#glyph1-2\" x=\"41.538086\" y=\"428.710938\"/>\n",
       "  <use xlink:href=\"#glyph1-1\" x=\"41.538086\" y=\"425.375\"/>\n",
       "</g>\n",
       "<g style=\"fill:rgb(0%,0%,0%);fill-opacity:1;\">\n",
       "  <use xlink:href=\"#glyph1-1\" x=\"41.538086\" y=\"368.5\"/>\n",
       "  <use xlink:href=\"#glyph1-2\" x=\"41.538086\" y=\"361.828125\"/>\n",
       "  <use xlink:href=\"#glyph1-3\" x=\"41.538086\" y=\"358.492188\"/>\n",
       "</g>\n",
       "<g style=\"fill:rgb(0%,0%,0%);fill-opacity:1;\">\n",
       "  <use xlink:href=\"#glyph1-1\" x=\"41.538086\" y=\"301.621094\"/>\n",
       "  <use xlink:href=\"#glyph1-2\" x=\"41.538086\" y=\"294.949219\"/>\n",
       "  <use xlink:href=\"#glyph1-4\" x=\"41.538086\" y=\"291.613281\"/>\n",
       "</g>\n",
       "<g style=\"fill:rgb(0%,0%,0%);fill-opacity:1;\">\n",
       "  <use xlink:href=\"#glyph1-1\" x=\"41.538086\" y=\"234.742188\"/>\n",
       "  <use xlink:href=\"#glyph1-2\" x=\"41.538086\" y=\"228.070312\"/>\n",
       "  <use xlink:href=\"#glyph1-5\" x=\"41.538086\" y=\"224.734375\"/>\n",
       "</g>\n",
       "<g style=\"fill:rgb(0%,0%,0%);fill-opacity:1;\">\n",
       "  <use xlink:href=\"#glyph1-1\" x=\"41.538086\" y=\"167.859375\"/>\n",
       "  <use xlink:href=\"#glyph1-2\" x=\"41.538086\" y=\"161.1875\"/>\n",
       "  <use xlink:href=\"#glyph1-6\" x=\"41.538086\" y=\"157.851562\"/>\n",
       "</g>\n",
       "<g style=\"fill:rgb(0%,0%,0%);fill-opacity:1;\">\n",
       "  <use xlink:href=\"#glyph1-1\" x=\"41.538086\" y=\"100.980469\"/>\n",
       "  <use xlink:href=\"#glyph1-2\" x=\"41.538086\" y=\"94.308594\"/>\n",
       "  <use xlink:href=\"#glyph1-7\" x=\"41.538086\" y=\"90.972656\"/>\n",
       "</g>\n",
       "</g>\n",
       "</svg>\n"
      ],
      "text/plain": [
       "plot without title"
      ]
     },
     "metadata": {
      "image/svg+xml": {
       "isolated": true
      }
     },
     "output_type": "display_data"
    }
   ],
   "source": [
    "# Un ejemplo\n",
    "\n",
    "lanzamientos<- scan('Lanzamiento.txt', what=\"character\")\n",
    "lanzamientos\n",
    "\n",
    "table(lanzamientos)\n",
    "table(lanzamientos)/length(lanzamientos)\n",
    "prop.lanzamientos <- table(lanzamientos)/length(lanzamientos)\n",
    "plot(prop.lanzamientos)\n",
    "barplot(prop.lanzamientos)"
   ]
  },
  {
   "cell_type": "markdown",
   "metadata": {
    "collapsed": true
   },
   "source": [
    "Por defecto `scan` espera que todas las entradas sean datos númericos, esto puede ser anulado con el argumento `what=` el cual especifica el tipo de dato que `scan` debe mostrar. Por ejemplo para leer un vector de caracteres con `scan`, se puede especificar con `what=\"\"`:\n",
    "\n",
    "```python\n",
    "nombres<-scan(what=\"\")\n",
    "1: cesar claudio milagros\n",
    "4: python c r\n",
    "7: \n",
    "Read 6 items\n",
    "nombres\n",
    "[1] \"cesar\"    \"claudio\"  \"milagros\" \"python\"   \"c\"        \"r\" \n",
    "```\n",
    "\n",
    "Si el argumento `what=` de `scan` es una lista que contiene ejemplos de los tipos de datos esperados , `scan` devolverá una  lista con el número de elementos, de los tipos de datos proporcionados. Para especificar valores numéricos, se puede pasar un valor de 0:\n",
    "\n",
    "\n",
    "```ruby\n",
    "nombres <- scan(what=list(a1=0,a2=\"\",a3=0))\n",
    "1: 1 python 1\n",
    "2: 2 R 2\n",
    "3: 3 C 3\n",
    "4: 4 c++ 4\n",
    "5: \n",
    "Read 4 records\n",
    "nombres\n",
    "$a1\n",
    "[1] 1 2 3 4\n",
    "\n",
    "$a2\n",
    "[1] \"python\" \"R\"      \"C\"      \"c++\"   \n",
    "\n",
    "$a3\n",
    "[1] 1 2 3 4\n",
    "\n",
    "```"
   ]
  },
  {
   "cell_type": "markdown",
   "metadata": {},
   "source": [
    "Uno de los usos más comunes de `scan` es la lectura de matrices. Desde que `scan` retorna un vector una llamada a `scan` puede ser incluida dentro de la función `matrix`\n",
    "\n",
    "```ruby\n",
    "mymat = matrix(scan(),ncol=2,byrow=TRUE)\n",
    "1: 2 5\n",
    "3: 3 6\n",
    "5: \n",
    "Read 4 items\n",
    "mymat\n",
    "     [,1] [,2]\n",
    "[1,]    2    5\n",
    "[2,]    3    6\n",
    "\n",
    "```\n"
   ]
  },
  {
   "cell_type": "markdown",
   "metadata": {},
   "source": [
    "## Read.table"
   ]
  },
  {
   "cell_type": "markdown",
   "metadata": {},
   "source": [
    "La función `read.table` se utiliza para leer datos en R en  forma de data frames. `read.table` siempre devuelve un data frame , lo que significa que es ideal para leer  datos con modos mixtos. `read.table` espera que cada campo (variable) en la entrada debe estar separado por uno o más separadores, por defecto cualquiera de los espacios, tabuladores, saltos de línea y retornos de carro. El argumento `sep=` puede ser utilizado para especificar un separador alternativo. Si no hay separadores consistentes en la entrada de datos, pero cada variable ocupa las mismas columnas para cada observación, la función `read.fwf` puede ser usada. \n",
    "\n",
    "Si la primera línea en la entrada de datos consiste de nombres de variables separadas por el mismo separador como los datos, el argumento  `header=TRUE` puede ser pasado a `read.table` para usar estos nombres para identificar las columnas de salida del data frame. Alternativamente, el argumento  `col.names=` para `read.table` puede especificar un vector de caracteres que contiene los nombres de las variables. Sin otra orientación, `read.table` nombrará las variables usando  una V seguido por el número de columna. \n",
    "\n",
    "El único argumento necesario para `read.table` es un nombre de archivo, URL o un  objeto de conexión. Si los datos presenta el formato adecuado, eso debe ser todo lo que necesita  `read.table`, con la posible adición de `head= TRUE`. Sin embargo `read.table` es muy flexible por lo que se necesita hacer otros ajustes.\n",
    "\n",
    "Porque ofrece una mayor eficiencia en el almacenamiento, `read.table` convierte automáticamente las variables de caracteres en factores. Esto puede causar algunos problemas al intentar utilizar las variables como cadenas de caracteres simples. Se puede evitar la conversión a factores utilizando el argumento `stringsAsFactors=`, pasando el valor FALSE lo que evitará cualquier conversión a factor.\n",
    "\n",
    "```ruby\n",
    "options(stringsAsFactors=FALSE)\n",
    "```"
   ]
  },
  {
   "cell_type": "code",
   "execution_count": 5,
   "metadata": {
    "collapsed": false
   },
   "outputs": [
    {
     "data": {
      "text/html": [
       "<table>\n",
       "<thead><tr><th></th><th scope=col>setting</th><th scope=col>effort</th><th scope=col>change</th></tr></thead>\n",
       "<tbody>\n",
       "\t<tr><th scope=row>Bolivia</th><td>46</td><td>0</td><td>1</td></tr>\n",
       "\t<tr><th scope=row>Brazil</th><td>74</td><td>0</td><td>10</td></tr>\n",
       "\t<tr><th scope=row>Chile</th><td>89</td><td>16</td><td>29</td></tr>\n",
       "\t<tr><th scope=row>Colombia</th><td>77</td><td>16</td><td>25</td></tr>\n",
       "\t<tr><th scope=row>CostaRica</th><td>84</td><td>21</td><td>29</td></tr>\n",
       "\t<tr><th scope=row>Cuba</th><td>89</td><td>15</td><td>40</td></tr>\n",
       "\t<tr><th scope=row>DominicanRep</th><td>68</td><td>14</td><td>21</td></tr>\n",
       "\t<tr><th scope=row>Ecuador</th><td>70</td><td>6</td><td>0</td></tr>\n",
       "\t<tr><th scope=row>ElSalvador</th><td>60</td><td>13</td><td>13</td></tr>\n",
       "\t<tr><th scope=row>Guatemala</th><td>55</td><td>9</td><td>4</td></tr>\n",
       "\t<tr><th scope=row>Haiti</th><td>35</td><td>3</td><td>0</td></tr>\n",
       "\t<tr><th scope=row>Honduras</th><td>51</td><td>7</td><td>7</td></tr>\n",
       "\t<tr><th scope=row>Jamaica</th><td>87</td><td>23</td><td>21</td></tr>\n",
       "\t<tr><th scope=row>Mexico</th><td>83</td><td>4</td><td>9</td></tr>\n",
       "\t<tr><th scope=row>Nicaragua</th><td>68</td><td>0</td><td>7</td></tr>\n",
       "\t<tr><th scope=row>Panama</th><td>84</td><td>19</td><td>22</td></tr>\n",
       "\t<tr><th scope=row>Paraguay</th><td>74</td><td>3</td><td>6</td></tr>\n",
       "\t<tr><th scope=row>Peru</th><td>73</td><td>0</td><td>2</td></tr>\n",
       "\t<tr><th scope=row>TrinidadTobago</th><td>84</td><td>15</td><td>29</td></tr>\n",
       "\t<tr><th scope=row>Venezuela</th><td>91</td><td>7</td><td>11</td></tr>\n",
       "</tbody>\n",
       "</table>\n"
      ],
      "text/latex": [
       "\\begin{tabular}{r|lll}\n",
       "  & setting & effort & change\\\\\n",
       "\\hline\n",
       "\tBolivia & 46 & 0 & 1\\\\\n",
       "\tBrazil & 74 & 0 & 10\\\\\n",
       "\tChile & 89 & 16 & 29\\\\\n",
       "\tColombia & 77 & 16 & 25\\\\\n",
       "\tCostaRica & 84 & 21 & 29\\\\\n",
       "\tCuba & 89 & 15 & 40\\\\\n",
       "\tDominicanRep & 68 & 14 & 21\\\\\n",
       "\tEcuador & 70 & 6 & 0\\\\\n",
       "\tElSalvador & 60 & 13 & 13\\\\\n",
       "\tGuatemala & 55 & 9 & 4\\\\\n",
       "\tHaiti & 35 & 3 & 0\\\\\n",
       "\tHonduras & 51 & 7 & 7\\\\\n",
       "\tJamaica & 87 & 23 & 21\\\\\n",
       "\tMexico & 83 & 4 & 9\\\\\n",
       "\tNicaragua & 68 & 0 & 7\\\\\n",
       "\tPanama & 84 & 19 & 22\\\\\n",
       "\tParaguay & 74 & 3 & 6\\\\\n",
       "\tPeru & 73 & 0 & 2\\\\\n",
       "\tTrinidadTobago & 84 & 15 & 29\\\\\n",
       "\tVenezuela & 91 & 7 & 11\\\\\n",
       "\\end{tabular}\n"
      ],
      "text/plain": [
       "               setting effort change\n",
       "Bolivia             46      0      1\n",
       "Brazil              74      0     10\n",
       "Chile               89     16     29\n",
       "Colombia            77     16     25\n",
       "CostaRica           84     21     29\n",
       "Cuba                89     15     40\n",
       "DominicanRep        68     14     21\n",
       "Ecuador             70      6      0\n",
       "ElSalvador          60     13     13\n",
       "Guatemala           55      9      4\n",
       "Haiti               35      3      0\n",
       "Honduras            51      7      7\n",
       "Jamaica             87     23     21\n",
       "Mexico              83      4      9\n",
       "Nicaragua           68      0      7\n",
       "Panama              84     19     22\n",
       "Paraguay            74      3      6\n",
       "Peru                73      0      2\n",
       "TrinidadTobago      84     15     29\n",
       "Venezuela           91      7     11"
      ]
     },
     "execution_count": 5,
     "metadata": {},
     "output_type": "execute_result"
    }
   ],
   "source": [
    "ejdf <- read.table(\"http://data.princeton.edu/wws509/datasets/effort.dat\")\n",
    "ejdf"
   ]
  },
  {
   "cell_type": "markdown",
   "metadata": {},
   "source": []
  }
 ],
 "metadata": {
  "kernelspec": {
   "display_name": "R",
   "language": "R",
   "name": "ir"
  },
  "language_info": {
   "codemirror_mode": "r",
   "file_extension": ".r",
   "mimetype": "text/x-r-source",
   "name": "R",
   "pygments_lexer": "r",
   "version": "3.1.3"
  }
 },
 "nbformat": 4,
 "nbformat_minor": 0
}
